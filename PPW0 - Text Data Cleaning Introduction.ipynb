{
 "cells": [
  {
   "cell_type": "markdown",
   "id": "391024c3-af1d-46c4-8df2-8d13dc243d2c",
   "metadata": {},
   "source": [
    "# Text Data Cleaning - Introduction"
   ]
  },
  {
   "cell_type": "markdown",
   "id": "f61155b9-f1c1-4b31-9320-38ea6d39b3a9",
   "metadata": {},
   "source": [
    "## Overview of Topics Covered:"
   ]
  },
  {
   "cell_type": "markdown",
   "id": "8377bbd0-1155-467d-b05c-5d6c17f561f7",
   "metadata": {},
   "source": [
    "## Main Notebooks:\n",
    "### 0 - Introduction\n",
    "\n",
    "* Python Strings\n",
    "* Built-in String Methods\n",
    "* Type Conversions\n",
    "* Functions and Order of Operations\n",
    "\n",
    "### 1 - Ask A Manager - Salary Survey\n",
    "\n",
    "* *Messy* Data from Google Forms surveys\n",
    "* ...Like, *really* messy\n",
    "* CSV vs. Excel Files\n",
    "* Converting Strings to Integers\n",
    "* String Methods in Action\n",
    "* `.apply()` and `lambda`\n",
    "* Data Preprocessing\n",
    "* Pandas `.merge()`\n",
    "\n",
    "## Bonus Notebooks:\n",
    "### 2 - Doctor Who - Actor Timeline\n",
    "\n",
    "* Extracting text data from a Wikipedia table\n",
    "* Pandas `.read_html()`\n",
    "* Regular Expressions\n",
    "* Timeline visualization\n",
    "\n",
    "### 3 - Goodreads - Book Ratings\n",
    "\n",
    "* Reading in a badly-formatted dataset\n",
    "* Working with `bytes` objects\n",
    "* Cleaning *before* loading into pandas\n",
    "\n",
    "### 4 - Behavioral Risk Factor Surveillance System (BRFSS) 2014\n",
    "\n",
    "* Extracting text data from PDF files using `pdfminer.six`\n",
    "* Cleaning up excess whitespace in strings\n",
    "* Using a dictionary to replace values in a column"
   ]
  },
  {
   "cell_type": "markdown",
   "id": "a6eb4838-0ab9-4537-bf0a-5968038fe202",
   "metadata": {},
   "source": [
    "# Python Strings"
   ]
  },
  {
   "cell_type": "code",
   "execution_count": null,
   "id": "b7e7444d-8961-4512-9a3d-ac75eb14af7f",
   "metadata": {},
   "outputs": [],
   "source": [
    "import numpy as np\n",
    "import pandas as pd\n",
    "import matplotlib.pyplot as plt"
   ]
  },
  {
   "cell_type": "markdown",
   "id": "75e8bdbd-abc9-4159-bd75-df0539ceed76",
   "metadata": {},
   "source": [
    "## What are Strings?"
   ]
  },
  {
   "cell_type": "markdown",
   "id": "acd5acce-35c5-41de-858f-0b503a633bcc",
   "metadata": {},
   "source": [
    "Strings are basic units of text. They can contain any character. Python recognizes input as a string when it's enclosed in matching quotation marks.\n",
    "\n",
    "Strings can be combined using the \"+\" operator. Say we have two string variables that denote the start date and end date of a process, and we want to print them out in a coherent sentence. We can do so like this:"
   ]
  },
  {
   "cell_type": "code",
   "execution_count": null,
   "id": "e9437268-e357-4764-b717-054aa4759203",
   "metadata": {},
   "outputs": [],
   "source": [
    "start_date = '2024-05-01'\n",
    "end_date = '2024-05-31'\n",
    "\n",
    "#Notice the spaces around \"to\".\n",
    "full_string = start_date + \" to \" + end_date\n",
    "\n",
    "print(full_string)"
   ]
  },
  {
   "cell_type": "markdown",
   "id": "49227a86-7671-4788-a081-1717e496499f",
   "metadata": {},
   "source": [
    "### Coding Exercise: \"+\" in Different Contexts"
   ]
  },
  {
   "cell_type": "code",
   "execution_count": null,
   "id": "777c91c3-d6a2-4f77-9484-9f00c4e980ff",
   "metadata": {},
   "outputs": [],
   "source": [
    "string_var1 = 'book'\n",
    "string_var2 = 'shelf'\n",
    "\n",
    "int_var1 = 1\n",
    "int_var2 = 2\n",
    "\n",
    "print(string_var1 + string_var2)\n",
    "print(int_var1 + int_var2)\n",
    "\n",
    "################################################################################\n",
    "################################################################################\n",
    "\n",
    "# What happens if you add string_var1 and int_var1?\n",
    "string_var1 + int_var1\n",
    "\n",
    "################################################################################\n",
    "################################################################################"
   ]
  },
  {
   "cell_type": "markdown",
   "id": "33adc1f2-ed4b-4e8e-bc08-5a59b563b54e",
   "metadata": {},
   "source": [
    "### Escape Characters\n",
    "\n",
    "\"`\\`\" is called an \"escape character\" in Python (and in markdown cells). Placing an escape character before another character in a string will cause a different behavior from the character by itself. In Python strings, \"\\\\t\" represents a tab, and \"\\\\n\" represents a newline character.\n",
    "\n",
    "Also, in order for a \"\\\\\" to show up correctly in markdown cells, it has to have another \\\\ in front of it. \"\\`\" (grave) is another special character that functions as an escape character in some contexts in markdown, but not in code cells.\n",
    "\n",
    "Double-click in this cell to see how many backslashes and graves there actually are in the markdown text."
   ]
  },
  {
   "cell_type": "code",
   "execution_count": null,
   "id": "0998482f-1af4-432e-9253-d5c00326cb4e",
   "metadata": {},
   "outputs": [],
   "source": [
    "print('line 1\\n\\n\\n\\n\\n\\n\\tline 2 (tab-indented)')"
   ]
  },
  {
   "attachments": {},
   "cell_type": "markdown",
   "id": "e30e686e-918c-4b30-a46f-280f6943c5f5",
   "metadata": {
    "execution": {
     "iopub.execute_input": "2025-02-07T18:03:23.014407Z",
     "iopub.status.busy": "2025-02-07T18:03:23.014407Z",
     "iopub.status.idle": "2025-02-07T18:03:23.018913Z",
     "shell.execute_reply": "2025-02-07T18:03:23.018406Z",
     "shell.execute_reply.started": "2025-02-07T18:03:23.014407Z"
    }
   },
   "source": [
    "## String Methods\n",
    "\n",
    "String objects in Python have built-in functions called \"methods\" that allow specific operations to be performed without the need to write additional code. There are over 40 string methods, each of which with its own specific task.\n",
    "\n",
    "Like all methods, these are accessed by using the dot operator after the string variable, the name of the method, and open-and-closed parentheses, i.e.: `string_name.method()`.\n",
    "\n",
    "https://www.w3schools.com/python/python_ref_string.asp"
   ]
  },
  {
   "cell_type": "code",
   "execution_count": null,
   "id": "eaad2a0f-df23-4273-b551-6ec7e493c435",
   "metadata": {},
   "outputs": [],
   "source": [
    "string_var3 = \"My parents and I moved back to California from Berlin in September, 1989. \\nI had just turned three years old.\""
   ]
  },
  {
   "cell_type": "markdown",
   "id": "e4686994-e347-42e0-8318-6c937bda7e31",
   "metadata": {},
   "source": [
    "### Case manipulation"
   ]
  },
  {
   "cell_type": "code",
   "execution_count": null,
   "id": "ca39e7c8-7123-465e-88b9-acb78d6727d0",
   "metadata": {},
   "outputs": [],
   "source": [
    "print(string_var3)"
   ]
  },
  {
   "cell_type": "code",
   "execution_count": null,
   "id": "60fb8a30-d20b-488f-969a-9abb906d0985",
   "metadata": {},
   "outputs": [],
   "source": [
    "print(string_var3.upper())"
   ]
  },
  {
   "cell_type": "code",
   "execution_count": null,
   "id": "2e74314d-9cad-4e5e-942f-992ec70d776e",
   "metadata": {},
   "outputs": [],
   "source": [
    "print(string_var3.lower())"
   ]
  },
  {
   "cell_type": "code",
   "execution_count": null,
   "id": "15541526-86ff-41ae-9fb8-6489d7970742",
   "metadata": {},
   "outputs": [],
   "source": [
    "print(string_var3.capitalize())"
   ]
  },
  {
   "cell_type": "code",
   "execution_count": null,
   "id": "c6f3477f-6a76-43ed-8152-4b80637ab977",
   "metadata": {},
   "outputs": [],
   "source": [
    "print(string_var3.title())"
   ]
  },
  {
   "cell_type": "code",
   "execution_count": null,
   "id": "53ff03d7-aa46-44b9-89f8-ee8d10707224",
   "metadata": {},
   "outputs": [],
   "source": [
    "print(string_var3.swapcase())"
   ]
  },
  {
   "cell_type": "markdown",
   "id": "611fd222-5098-43c3-a80b-e9a1235ae87d",
   "metadata": {},
   "source": [
    "### Properties"
   ]
  },
  {
   "cell_type": "code",
   "execution_count": null,
   "id": "a3fc53e8-8e2b-4641-97ba-65d9d82fe28c",
   "metadata": {},
   "outputs": [],
   "source": [
    "print(string_var3.isalpha())"
   ]
  },
  {
   "cell_type": "code",
   "execution_count": null,
   "id": "d7c90023-c2e1-4519-b23e-adaef98e9c79",
   "metadata": {},
   "outputs": [],
   "source": [
    "print(string_var3.count('i'))"
   ]
  },
  {
   "cell_type": "markdown",
   "id": "e71d0055-fdd4-4e98-bba2-c7aeaef99b16",
   "metadata": {},
   "source": [
    "### Segmentation"
   ]
  },
  {
   "cell_type": "code",
   "execution_count": null,
   "id": "ffe16b3d-edc8-442f-bbd6-cf61498b00cc",
   "metadata": {},
   "outputs": [],
   "source": [
    "print(string_var3.split())"
   ]
  },
  {
   "cell_type": "code",
   "execution_count": null,
   "id": "99102d3a-4ece-4586-97a5-8b3d3b7fd1ab",
   "metadata": {},
   "outputs": [],
   "source": [
    "print(string_var3.split(', '))"
   ]
  },
  {
   "cell_type": "code",
   "execution_count": null,
   "id": "1220e580-ea71-4f09-abf4-b385fa212087",
   "metadata": {},
   "outputs": [],
   "source": [
    "print(string_var3.splitlines())"
   ]
  },
  {
   "cell_type": "markdown",
   "id": "f968f8dc-056b-454d-a45a-ceda7918c8fc",
   "metadata": {},
   "source": [
    "### Replacing Values"
   ]
  },
  {
   "cell_type": "code",
   "execution_count": null,
   "id": "195a3af7-6b1b-4d8b-a848-8d8b5904e8c9",
   "metadata": {},
   "outputs": [],
   "source": [
    "print(string_var3.replace('1989', '2015'))"
   ]
  },
  {
   "cell_type": "code",
   "execution_count": null,
   "id": "8d58bb58-8dde-459a-a91b-03e1f6e7b4f2",
   "metadata": {},
   "outputs": [],
   "source": [
    "print(string_var3.replace(' ', ''))"
   ]
  },
  {
   "cell_type": "code",
   "execution_count": null,
   "id": "2d564af2-65bc-40d9-a407-eb0f956f33df",
   "metadata": {},
   "outputs": [],
   "source": [
    "print(string_var3.partition('1989'))"
   ]
  },
  {
   "cell_type": "markdown",
   "id": "88bd6522-8ea0-492c-913d-10a94df0ee95",
   "metadata": {},
   "source": [
    "### Coding Exercise: String Methods\n",
    "\n",
    "Type your own sentence in the following cell, then try out different string methods on it to see how they affect the string."
   ]
  },
  {
   "cell_type": "code",
   "execution_count": null,
   "id": "bd7f6d9f-c0df-44bc-b56b-c076c0ae5000",
   "metadata": {},
   "outputs": [],
   "source": [
    "################################################################################\n",
    "################################################################################\n",
    "\n",
    "string_var4 = \"___\"\n",
    "print(string_var4)\n",
    "\n",
    "################################################################################\n",
    "################################################################################"
   ]
  },
  {
   "cell_type": "markdown",
   "id": "d9aff2d4-c6f5-40b4-be2f-b8e71868d886",
   "metadata": {},
   "source": [
    "## Converting Types\n",
    "\n",
    "`str()` lets you change an integer or a float into a string. Python also has `int()` and `float()` for converting to integer and floating point data types, respectively."
   ]
  },
  {
   "cell_type": "code",
   "execution_count": null,
   "id": "53f9b9d2-7a00-466e-ad70-e5562d9d0ed3",
   "metadata": {},
   "outputs": [],
   "source": [
    "print(int('3'))\n",
    "print(float('3'))\n",
    "print(int(3.0))\n",
    "print(int(3.8))\n",
    "print(float(3))\n",
    "print(str(3.8))"
   ]
  },
  {
   "cell_type": "markdown",
   "id": "8e85ba7c-4a1f-47ac-a64a-187eb12df795",
   "metadata": {},
   "source": [
    "### Coding Exercise: Strings and Quotation Marks\n",
    "\n",
    "Try replacing the double-quotes around the string with single-quotes."
   ]
  },
  {
   "cell_type": "code",
   "execution_count": null,
   "id": "f282bcea-9211-41d7-a1aa-c93fc3c0589a",
   "metadata": {},
   "outputs": [],
   "source": [
    "################################################################################\n",
    "################################################################################\n",
    "\n",
    "string2 = \"This doesn't work unless you use double-quotes to open and close the string.\"\n",
    "print(string2)\n",
    "\n",
    "################################################################################\n",
    "################################################################################"
   ]
  },
  {
   "cell_type": "markdown",
   "id": "c57dd6a2-af57-46dd-a5d2-ea7cf28d68bb",
   "metadata": {},
   "source": [
    "## Functions"
   ]
  },
  {
   "cell_type": "markdown",
   "id": "eb5e8974-f59c-4acb-aa03-fd10bd0e8cf3",
   "metadata": {
    "execution": {
     "iopub.execute_input": "2025-02-13T20:08:29.693549Z",
     "iopub.status.busy": "2025-02-13T20:08:29.693549Z",
     "iopub.status.idle": "2025-02-13T20:08:29.704433Z",
     "shell.execute_reply": "2025-02-13T20:08:29.702417Z",
     "shell.execute_reply.started": "2025-02-13T20:08:29.693549Z"
    }
   },
   "source": [
    "Here are a few functions that will let us manipulate strings."
   ]
  },
  {
   "cell_type": "markdown",
   "id": "30884349-40ba-4ac2-b88e-da0132292d38",
   "metadata": {},
   "source": [
    "https://docs.python.org/3.5/tutorial/controlflow.html#documentation-strings"
   ]
  },
  {
   "cell_type": "code",
   "execution_count": null,
   "id": "cab10d7e-c637-4cd0-a13b-1c5de45a0b24",
   "metadata": {},
   "outputs": [],
   "source": [
    "def separate_words(sample_string: str, delimiter=' ') -> list:\n",
    "\twords = sample_string.split(delimiter)\n",
    "\treturn words\n",
    "\n",
    "def add_elipses(sample_string: str) -> str:\n",
    "  return(sample_string+'...')\n",
    "\n",
    "def join_words(sample_list: list, delimiter=' ') -> str:\n",
    "\ttitle = delimiter.join(sample_list)\n",
    "\treturn title\n",
    "\n",
    "input_string = 'Please speak more slowly'\n",
    "join_words([add_elipses(word) for word in separate_words(input_string)])"
   ]
  },
  {
   "cell_type": "markdown",
   "id": "1628144d-9869-4c0e-83d0-e76812ec23bf",
   "metadata": {},
   "source": [
    "### Coding Exercise: Functions as an Assembly Line\n",
    "\n",
    "Try using each function (`separate_words()`, `add_elipses()`, `join_words()`) by itself, using the same input string. Combine more than one function, and change the order in which the functions are applied.\n"
   ]
  },
  {
   "cell_type": "code",
   "execution_count": null,
   "id": "a4abbf2a-2b51-46cf-a621-b024178866d7",
   "metadata": {},
   "outputs": [],
   "source": [
    "################################################################################\n",
    "################################################################################\n",
    "\n",
    "join_words(input_string)\n",
    "\n",
    "################################################################################\n",
    "################################################################################"
   ]
  },
  {
   "cell_type": "code",
   "execution_count": null,
   "id": "58cb3198-b8e0-4506-aa95-547f04f003e2",
   "metadata": {},
   "outputs": [],
   "source": []
  },
  {
   "cell_type": "code",
   "execution_count": null,
   "id": "7e38094d-b26e-4fc2-9f0c-4073c860c878",
   "metadata": {},
   "outputs": [],
   "source": []
  }
 ],
 "metadata": {
  "kernelspec": {
   "display_name": "Python 3 (ipykernel)",
   "language": "python",
   "name": "python3"
  },
  "language_info": {
   "codemirror_mode": {
    "name": "ipython",
    "version": 3
   },
   "file_extension": ".py",
   "mimetype": "text/x-python",
   "name": "python",
   "nbconvert_exporter": "python",
   "pygments_lexer": "ipython3",
   "version": "3.11.9"
  }
 },
 "nbformat": 4,
 "nbformat_minor": 5
}
