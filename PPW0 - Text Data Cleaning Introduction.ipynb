{
 "cells": [
  {
   "cell_type": "markdown",
   "id": "391024c3-af1d-46c4-8df2-8d13dc243d2c",
   "metadata": {},
   "source": [
    "# Text Data Cleaning - Introduction"
   ]
  },
  {
   "cell_type": "markdown",
   "id": "f61155b9-f1c1-4b31-9320-38ea6d39b3a9",
   "metadata": {},
   "source": [
    "## Overview of Topics Covered:"
   ]
  },
  {
   "cell_type": "markdown",
   "id": "8377bbd0-1155-467d-b05c-5d6c17f561f7",
   "metadata": {},
   "source": [
    "### 0 - Introduction\n",
    "\n",
    "* Python Strings\n",
    "* String Methods\n",
    "* Functions\n",
    "\n",
    "### 1 - Ask A Manager - Salary Survey\n",
    "\n",
    "* *Messy* Data from Google Forms surveys\n",
    "* ...Like, *really* messy\n",
    "* Converting Strings to Integers\n",
    "* Augmenting data\n",
    "* Pandas `.merge()`\n",
    "\n",
    "### 2 - Actors Who Have Portrayed The Doctor\n",
    "\n",
    "* Extracting text data from a Wikipedia table\n",
    "* Pandas `.read_html()`\n",
    "* Regular Expressions\n",
    "* Timeline visualization\n",
    "\n",
    "### 3 - Goodreads - Book Ratings\n",
    "\n",
    "* Reading in a badly-formatted dataset\n",
    "* Cleaning before loading into pandas\n",
    "\n",
    "### 4 - Behavioral Risk Factor Surveillance System (BRFSS) 2014\n",
    "\n",
    "* PDFMiner - Extracting text data from PDF files\n",
    "* Using a Dictionary to Replace Values"
   ]
  },
  {
   "cell_type": "markdown",
   "id": "a6eb4838-0ab9-4537-bf0a-5968038fe202",
   "metadata": {},
   "source": [
    "# Python Strings"
   ]
  },
  {
   "cell_type": "code",
   "execution_count": 1,
   "id": "b7e7444d-8961-4512-9a3d-ac75eb14af7f",
   "metadata": {
    "execution": {
     "iopub.execute_input": "2025-02-07T17:53:17.734255Z",
     "iopub.status.busy": "2025-02-07T17:53:17.733256Z",
     "iopub.status.idle": "2025-02-07T17:53:21.465474Z",
     "shell.execute_reply": "2025-02-07T17:53:21.464465Z",
     "shell.execute_reply.started": "2025-02-07T17:53:17.734255Z"
    }
   },
   "outputs": [],
   "source": [
    "import numpy as np\n",
    "import pandas as pd\n",
    "import matplotlib.pyplot as plt"
   ]
  },
  {
   "cell_type": "markdown",
   "id": "75e8bdbd-abc9-4159-bd75-df0539ceed76",
   "metadata": {},
   "source": [
    "## What are Strings?"
   ]
  },
  {
   "cell_type": "markdown",
   "id": "acd5acce-35c5-41de-858f-0b503a633bcc",
   "metadata": {},
   "source": [
    "Strings are basic units of text. They can contain any character. Python recognizes input as a string when it's enclosed in matching quotation marks.\n",
    "\n",
    "Strings can be combined using the \"+\" operator. Say we have two string variables that denote the start date and end date of a process, and we want to print them out in a coherent sentence. We can do so like this:"
   ]
  },
  {
   "cell_type": "code",
   "execution_count": 2,
   "id": "e9437268-e357-4764-b717-054aa4759203",
   "metadata": {
    "execution": {
     "iopub.execute_input": "2025-02-07T17:55:00.533932Z",
     "iopub.status.busy": "2025-02-07T17:55:00.532934Z",
     "iopub.status.idle": "2025-02-07T17:55:00.562211Z",
     "shell.execute_reply": "2025-02-07T17:55:00.560199Z",
     "shell.execute_reply.started": "2025-02-07T17:55:00.533932Z"
    }
   },
   "outputs": [
    {
     "name": "stdout",
     "output_type": "stream",
     "text": [
      "2024-05-01 to 2024-05-31\n"
     ]
    }
   ],
   "source": [
    "start_date = '2024-05-01'\n",
    "end_date = '2024-05-31'\n",
    "\n",
    "#Notice the spaces around \"to\".\n",
    "full_string = start_date + \" to \" + end_date\n",
    "\n",
    "print(full_string)"
   ]
  },
  {
   "cell_type": "markdown",
   "id": "49227a86-7671-4788-a081-1717e496499f",
   "metadata": {},
   "source": [
    "### Coding Exercise: \"+\" in Different Contexts"
   ]
  },
  {
   "cell_type": "code",
   "execution_count": null,
   "id": "777c91c3-d6a2-4f77-9484-9f00c4e980ff",
   "metadata": {},
   "outputs": [],
   "source": [
    "string_var1 = 'book'\n",
    "string_var2 = 'shelf'\n",
    "\n",
    "int_var1 = 1\n",
    "int_var2 = 2\n",
    "\n",
    "print(string_var1 + string_var2)\n",
    "print(int_var1 + int_var2)\n",
    "\n",
    "################################################################################\n",
    "################################################################################\n",
    "\n",
    "# What happens if you add string_var1 and int_var1?\n",
    "string_var1 + int_var1\n",
    "\n",
    "################################################################################\n",
    "################################################################################"
   ]
  },
  {
   "cell_type": "markdown",
   "id": "33adc1f2-ed4b-4e8e-bc08-5a59b563b54e",
   "metadata": {},
   "source": [
    "### Escape Characters\n",
    "\n",
    "\"`\\`\" is called an \"escape character\" in Python (and in markdown cells). Placing an escape character before another character in a string will cause a different behavior from the character by itself. In Python strings, \"\\\\t\" represents a tab, and \"\\\\n\" represents a newline character.\n",
    "\n",
    "Also, in order for a \"\\\\\" to show up correctly in markdown cells, it has to have another \\\\ in front of it. \"\\`\" (grave) is another special character that functions as an escape character in some contexts in markdown, but not in code cells.\n",
    "\n",
    "Double-click in this cell to see how many backslashes and graves there actually are in the markdown text."
   ]
  },
  {
   "cell_type": "code",
   "execution_count": 9,
   "id": "0998482f-1af4-432e-9253-d5c00326cb4e",
   "metadata": {
    "execution": {
     "iopub.execute_input": "2025-02-07T17:58:21.609619Z",
     "iopub.status.busy": "2025-02-07T17:58:21.609619Z",
     "iopub.status.idle": "2025-02-07T17:58:21.615318Z",
     "shell.execute_reply": "2025-02-07T17:58:21.613795Z",
     "shell.execute_reply.started": "2025-02-07T17:58:21.609619Z"
    }
   },
   "outputs": [
    {
     "name": "stdout",
     "output_type": "stream",
     "text": [
      "line 1\n",
      "\n",
      "\n",
      "\n",
      "\n",
      "\n",
      "\tline 2 (tab-indented)\n"
     ]
    }
   ],
   "source": [
    "print('line 1\\n\\n\\n\\n\\n\\n\\tline 2 (tab-indented)')"
   ]
  },
  {
   "attachments": {},
   "cell_type": "markdown",
   "id": "e30e686e-918c-4b30-a46f-280f6943c5f5",
   "metadata": {
    "execution": {
     "iopub.execute_input": "2025-02-07T18:03:23.014407Z",
     "iopub.status.busy": "2025-02-07T18:03:23.014407Z",
     "iopub.status.idle": "2025-02-07T18:03:23.018913Z",
     "shell.execute_reply": "2025-02-07T18:03:23.018406Z",
     "shell.execute_reply.started": "2025-02-07T18:03:23.014407Z"
    }
   },
   "source": [
    "## String Methods\n",
    "\n",
    "String objects in Python have built-in functions called \"methods\" that allow specific operations to be performed without the need to write additional code. There are over 40 string methods, each of which with its own specific task.\n",
    "\n",
    "Like all methods, these are accessed by using the dot operator after the string variable, the name of the method, and open-and-closed parentheses, i.e.: `string_name.method()`.\n",
    "\n",
    "https://www.w3schools.com/python/python_ref_string.asp"
   ]
  },
  {
   "cell_type": "code",
   "execution_count": 66,
   "id": "eaad2a0f-df23-4273-b551-6ec7e493c435",
   "metadata": {
    "execution": {
     "iopub.execute_input": "2025-02-07T18:15:24.225461Z",
     "iopub.status.busy": "2025-02-07T18:15:24.224445Z",
     "iopub.status.idle": "2025-02-07T18:15:24.233243Z",
     "shell.execute_reply": "2025-02-07T18:15:24.231078Z",
     "shell.execute_reply.started": "2025-02-07T18:15:24.225461Z"
    }
   },
   "outputs": [],
   "source": [
    "string_var3 = \"My parents and I moved back to California from Berlin in September, 1989. \\nI had just turned three years old.\""
   ]
  },
  {
   "cell_type": "code",
   "execution_count": 67,
   "id": "ca39e7c8-7123-465e-88b9-acb78d6727d0",
   "metadata": {
    "execution": {
     "iopub.execute_input": "2025-02-07T18:15:24.693774Z",
     "iopub.status.busy": "2025-02-07T18:15:24.693774Z",
     "iopub.status.idle": "2025-02-07T18:15:24.701215Z",
     "shell.execute_reply": "2025-02-07T18:15:24.699522Z",
     "shell.execute_reply.started": "2025-02-07T18:15:24.693774Z"
    }
   },
   "outputs": [
    {
     "name": "stdout",
     "output_type": "stream",
     "text": [
      "My parents and I moved back to California from Berlin in September, 1989. \n",
      "I had just turned three years old.\n"
     ]
    }
   ],
   "source": [
    "print(string_var3)"
   ]
  },
  {
   "cell_type": "code",
   "execution_count": 68,
   "id": "60fb8a30-d20b-488f-969a-9abb906d0985",
   "metadata": {
    "execution": {
     "iopub.execute_input": "2025-02-07T18:15:25.059936Z",
     "iopub.status.busy": "2025-02-07T18:15:25.058934Z",
     "iopub.status.idle": "2025-02-07T18:15:25.066425Z",
     "shell.execute_reply": "2025-02-07T18:15:25.065416Z",
     "shell.execute_reply.started": "2025-02-07T18:15:25.059936Z"
    }
   },
   "outputs": [
    {
     "name": "stdout",
     "output_type": "stream",
     "text": [
      "MY PARENTS AND I MOVED BACK TO CALIFORNIA FROM BERLIN IN SEPTEMBER, 1989. \n",
      "I HAD JUST TURNED THREE YEARS OLD.\n"
     ]
    }
   ],
   "source": [
    "print(string_var3.upper())"
   ]
  },
  {
   "cell_type": "code",
   "execution_count": 69,
   "id": "2e74314d-9cad-4e5e-942f-992ec70d776e",
   "metadata": {
    "execution": {
     "iopub.execute_input": "2025-02-07T18:15:25.271973Z",
     "iopub.status.busy": "2025-02-07T18:15:25.271973Z",
     "iopub.status.idle": "2025-02-07T18:15:25.280267Z",
     "shell.execute_reply": "2025-02-07T18:15:25.278256Z",
     "shell.execute_reply.started": "2025-02-07T18:15:25.271973Z"
    }
   },
   "outputs": [
    {
     "name": "stdout",
     "output_type": "stream",
     "text": [
      "my parents and i moved back to california from berlin in september, 1989. \n",
      "i had just turned three years old.\n"
     ]
    }
   ],
   "source": [
    "print(string_var3.lower())"
   ]
  },
  {
   "cell_type": "code",
   "execution_count": 70,
   "id": "15541526-86ff-41ae-9fb8-6489d7970742",
   "metadata": {
    "execution": {
     "iopub.execute_input": "2025-02-07T18:15:25.518384Z",
     "iopub.status.busy": "2025-02-07T18:15:25.517398Z",
     "iopub.status.idle": "2025-02-07T18:15:25.521347Z",
     "shell.execute_reply": "2025-02-07T18:15:25.521347Z",
     "shell.execute_reply.started": "2025-02-07T18:15:25.518384Z"
    }
   },
   "outputs": [
    {
     "name": "stdout",
     "output_type": "stream",
     "text": [
      "My parents and i moved back to california from berlin in september, 1989. \n",
      "i had just turned three years old.\n"
     ]
    }
   ],
   "source": [
    "print(string_var3.capitalize())"
   ]
  },
  {
   "cell_type": "code",
   "execution_count": 71,
   "id": "c6f3477f-6a76-43ed-8152-4b80637ab977",
   "metadata": {
    "execution": {
     "iopub.execute_input": "2025-02-07T18:15:25.648139Z",
     "iopub.status.busy": "2025-02-07T18:15:25.648139Z",
     "iopub.status.idle": "2025-02-07T18:15:25.654171Z",
     "shell.execute_reply": "2025-02-07T18:15:25.652150Z",
     "shell.execute_reply.started": "2025-02-07T18:15:25.648139Z"
    }
   },
   "outputs": [
    {
     "name": "stdout",
     "output_type": "stream",
     "text": [
      "My Parents And I Moved Back To California From Berlin In September, 1989. \n",
      "I Had Just Turned Three Years Old.\n"
     ]
    }
   ],
   "source": [
    "print(string_var3.title())"
   ]
  },
  {
   "cell_type": "code",
   "execution_count": 72,
   "id": "53ff03d7-aa46-44b9-89f8-ee8d10707224",
   "metadata": {
    "execution": {
     "iopub.execute_input": "2025-02-07T18:15:25.828061Z",
     "iopub.status.busy": "2025-02-07T18:15:25.828061Z",
     "iopub.status.idle": "2025-02-07T18:15:25.835744Z",
     "shell.execute_reply": "2025-02-07T18:15:25.833679Z",
     "shell.execute_reply.started": "2025-02-07T18:15:25.828061Z"
    }
   },
   "outputs": [
    {
     "name": "stdout",
     "output_type": "stream",
     "text": [
      "mY PARENTS AND i MOVED BACK TO cALIFORNIA FROM bERLIN IN sEPTEMBER, 1989. \n",
      "i HAD JUST TURNED THREE YEARS OLD.\n"
     ]
    }
   ],
   "source": [
    "print(string_var3.swapcase())"
   ]
  },
  {
   "cell_type": "code",
   "execution_count": 73,
   "id": "a3fc53e8-8e2b-4641-97ba-65d9d82fe28c",
   "metadata": {
    "execution": {
     "iopub.execute_input": "2025-02-07T18:15:25.986417Z",
     "iopub.status.busy": "2025-02-07T18:15:25.985411Z",
     "iopub.status.idle": "2025-02-07T18:15:25.989569Z",
     "shell.execute_reply": "2025-02-07T18:15:25.989569Z",
     "shell.execute_reply.started": "2025-02-07T18:15:25.986417Z"
    }
   },
   "outputs": [
    {
     "name": "stdout",
     "output_type": "stream",
     "text": [
      "False\n"
     ]
    }
   ],
   "source": [
    "print(string_var3.isalpha())"
   ]
  },
  {
   "cell_type": "code",
   "execution_count": 74,
   "id": "d7c90023-c2e1-4519-b23e-adaef98e9c79",
   "metadata": {
    "execution": {
     "iopub.execute_input": "2025-02-07T18:15:26.138753Z",
     "iopub.status.busy": "2025-02-07T18:15:26.138753Z",
     "iopub.status.idle": "2025-02-07T18:15:26.145211Z",
     "shell.execute_reply": "2025-02-07T18:15:26.143198Z",
     "shell.execute_reply.started": "2025-02-07T18:15:26.138753Z"
    }
   },
   "outputs": [
    {
     "name": "stdout",
     "output_type": "stream",
     "text": [
      "4\n"
     ]
    }
   ],
   "source": [
    "print(string_var3.count('i'))"
   ]
  },
  {
   "cell_type": "code",
   "execution_count": 75,
   "id": "ffe16b3d-edc8-442f-bbd6-cf61498b00cc",
   "metadata": {
    "execution": {
     "iopub.execute_input": "2025-02-07T18:15:26.282166Z",
     "iopub.status.busy": "2025-02-07T18:15:26.282166Z",
     "iopub.status.idle": "2025-02-07T18:15:26.289224Z",
     "shell.execute_reply": "2025-02-07T18:15:26.287210Z",
     "shell.execute_reply.started": "2025-02-07T18:15:26.282166Z"
    }
   },
   "outputs": [
    {
     "name": "stdout",
     "output_type": "stream",
     "text": [
      "['My', 'parents', 'and', 'I', 'moved', 'back', 'to', 'California', 'from', 'Berlin', 'in', 'September,', '1989.', 'I', 'had', 'just', 'turned', 'three', 'years', 'old.']\n"
     ]
    }
   ],
   "source": [
    "print(string_var3.split())"
   ]
  },
  {
   "cell_type": "code",
   "execution_count": 76,
   "id": "99102d3a-4ece-4586-97a5-8b3d3b7fd1ab",
   "metadata": {
    "execution": {
     "iopub.execute_input": "2025-02-07T18:15:26.440210Z",
     "iopub.status.busy": "2025-02-07T18:15:26.440210Z",
     "iopub.status.idle": "2025-02-07T18:15:26.446485Z",
     "shell.execute_reply": "2025-02-07T18:15:26.445173Z",
     "shell.execute_reply.started": "2025-02-07T18:15:26.440210Z"
    }
   },
   "outputs": [
    {
     "name": "stdout",
     "output_type": "stream",
     "text": [
      "['My parents and I moved back to California from Berlin in September', '1989. \\nI had just turned three years old.']\n"
     ]
    }
   ],
   "source": [
    "print(string_var3.split(', '))"
   ]
  },
  {
   "cell_type": "code",
   "execution_count": 77,
   "id": "1220e580-ea71-4f09-abf4-b385fa212087",
   "metadata": {
    "execution": {
     "iopub.execute_input": "2025-02-07T18:15:26.609614Z",
     "iopub.status.busy": "2025-02-07T18:15:26.608613Z",
     "iopub.status.idle": "2025-02-07T18:15:26.613768Z",
     "shell.execute_reply": "2025-02-07T18:15:26.612764Z",
     "shell.execute_reply.started": "2025-02-07T18:15:26.609614Z"
    }
   },
   "outputs": [
    {
     "name": "stdout",
     "output_type": "stream",
     "text": [
      "['My parents and I moved back to California from Berlin in September, 1989. ', 'I had just turned three years old.']\n"
     ]
    }
   ],
   "source": [
    "print(string_var3.splitlines())"
   ]
  },
  {
   "cell_type": "code",
   "execution_count": 78,
   "id": "195a3af7-6b1b-4d8b-a848-8d8b5904e8c9",
   "metadata": {
    "execution": {
     "iopub.execute_input": "2025-02-07T18:15:26.765814Z",
     "iopub.status.busy": "2025-02-07T18:15:26.765814Z",
     "iopub.status.idle": "2025-02-07T18:15:26.771353Z",
     "shell.execute_reply": "2025-02-07T18:15:26.769813Z",
     "shell.execute_reply.started": "2025-02-07T18:15:26.765814Z"
    }
   },
   "outputs": [
    {
     "name": "stdout",
     "output_type": "stream",
     "text": [
      "My parents and I moved back to California from Berlin in September, 2015. \n",
      "I had just turned three years old.\n"
     ]
    }
   ],
   "source": [
    "print(string_var3.replace('1989', '2015'))"
   ]
  },
  {
   "cell_type": "code",
   "execution_count": 79,
   "id": "8d58bb58-8dde-459a-a91b-03e1f6e7b4f2",
   "metadata": {
    "execution": {
     "iopub.execute_input": "2025-02-07T18:15:26.935634Z",
     "iopub.status.busy": "2025-02-07T18:15:26.935634Z",
     "iopub.status.idle": "2025-02-07T18:15:26.938774Z",
     "shell.execute_reply": "2025-02-07T18:15:26.938774Z",
     "shell.execute_reply.started": "2025-02-07T18:15:26.935634Z"
    }
   },
   "outputs": [
    {
     "name": "stdout",
     "output_type": "stream",
     "text": [
      "MyparentsandImovedbacktoCaliforniafromBerlininSeptember,1989.\n",
      "Ihadjustturnedthreeyearsold.\n"
     ]
    }
   ],
   "source": [
    "print(string_var3.replace(' ', ''))"
   ]
  },
  {
   "cell_type": "code",
   "execution_count": 81,
   "id": "2d564af2-65bc-40d9-a407-eb0f956f33df",
   "metadata": {
    "execution": {
     "iopub.execute_input": "2025-02-07T18:16:44.670965Z",
     "iopub.status.busy": "2025-02-07T18:16:44.670965Z",
     "iopub.status.idle": "2025-02-07T18:16:44.679089Z",
     "shell.execute_reply": "2025-02-07T18:16:44.677506Z",
     "shell.execute_reply.started": "2025-02-07T18:16:44.670965Z"
    }
   },
   "outputs": [
    {
     "name": "stdout",
     "output_type": "stream",
     "text": [
      "('My parents and I moved back to California from Berlin in September, ', '1989', '. \\nI had just turned three years old.')\n"
     ]
    }
   ],
   "source": [
    "print(string_var3.partition('1989'))"
   ]
  },
  {
   "cell_type": "markdown",
   "id": "88bd6522-8ea0-492c-913d-10a94df0ee95",
   "metadata": {},
   "source": [
    "### Coding Exercise: String Methods\n",
    "\n",
    "Type your own sentence in the following cell, then try out different string methods on it to see how they affect the string."
   ]
  },
  {
   "cell_type": "code",
   "execution_count": null,
   "id": "bd7f6d9f-c0df-44bc-b56b-c076c0ae5000",
   "metadata": {},
   "outputs": [],
   "source": [
    "################################################################################\n",
    "################################################################################\n",
    "\n",
    "string_var4 = \"___\"\n",
    "print(string_var4)\n",
    "\n",
    "################################################################################\n",
    "################################################################################"
   ]
  },
  {
   "cell_type": "markdown",
   "id": "d9aff2d4-c6f5-40b4-be2f-b8e71868d886",
   "metadata": {},
   "source": [
    "## Converting Types\n",
    "\n",
    "`str()` lets you change an integer or a float into a string. Python also has `int()` and `float()` for converting to other data types."
   ]
  },
  {
   "cell_type": "code",
   "execution_count": 5,
   "id": "53f9b9d2-7a00-466e-ad70-e5562d9d0ed3",
   "metadata": {
    "execution": {
     "iopub.execute_input": "2025-02-07T17:56:24.382638Z",
     "iopub.status.busy": "2025-02-07T17:56:24.381607Z",
     "iopub.status.idle": "2025-02-07T17:56:24.387398Z",
     "shell.execute_reply": "2025-02-07T17:56:24.387398Z",
     "shell.execute_reply.started": "2025-02-07T17:56:24.382638Z"
    }
   },
   "outputs": [
    {
     "name": "stdout",
     "output_type": "stream",
     "text": [
      "3\n",
      "3\n",
      "3\n",
      "3.0\n",
      "3.8\n"
     ]
    }
   ],
   "source": [
    "print(int('3'))\n",
    "print(int(3.0))\n",
    "print(int(3.8))\n",
    "print(float(3))\n",
    "print(str(3.8))"
   ]
  },
  {
   "cell_type": "markdown",
   "id": "8e85ba7c-4a1f-47ac-a64a-187eb12df795",
   "metadata": {},
   "source": [
    "### Coding Exercise: Strings and Quotation Marks\n",
    "\n",
    "Try replacing the double-quotes around the string with single-quotes."
   ]
  },
  {
   "cell_type": "code",
   "execution_count": 10,
   "id": "f282bcea-9211-41d7-a1aa-c93fc3c0589a",
   "metadata": {
    "execution": {
     "iopub.execute_input": "2025-02-07T17:58:40.827961Z",
     "iopub.status.busy": "2025-02-07T17:58:40.827961Z",
     "iopub.status.idle": "2025-02-07T17:58:40.836297Z",
     "shell.execute_reply": "2025-02-07T17:58:40.836297Z",
     "shell.execute_reply.started": "2025-02-07T17:58:40.827961Z"
    }
   },
   "outputs": [
    {
     "name": "stdout",
     "output_type": "stream",
     "text": [
      "This doesn't work unless you use double-quotes to open and close the string.\n"
     ]
    }
   ],
   "source": [
    "################################################################################\n",
    "################################################################################\n",
    "\n",
    "string2 = \"This doesn't work unless you use double-quotes to open and close the string.\"\n",
    "print(string2)\n",
    "\n",
    "################################################################################\n",
    "################################################################################"
   ]
  },
  {
   "cell_type": "markdown",
   "id": "c57dd6a2-af57-46dd-a5d2-ea7cf28d68bb",
   "metadata": {},
   "source": [
    "## Functions"
   ]
  },
  {
   "cell_type": "code",
   "execution_count": null,
   "id": "d3339d3c-737e-4d1f-aaa6-2224184752dc",
   "metadata": {},
   "outputs": [],
   "source": [
    "Here are a few functions that will let us manipulate strings."
   ]
  },
  {
   "cell_type": "markdown",
   "id": "30884349-40ba-4ac2-b88e-da0132292d38",
   "metadata": {},
   "source": [
    "https://docs.python.org/3.5/tutorial/controlflow.html#documentation-strings"
   ]
  },
  {
   "cell_type": "code",
   "execution_count": 14,
   "id": "cab10d7e-c637-4cd0-a13b-1c5de45a0b24",
   "metadata": {
    "execution": {
     "iopub.execute_input": "2025-02-07T18:02:29.911919Z",
     "iopub.status.busy": "2025-02-07T18:02:29.911919Z",
     "iopub.status.idle": "2025-02-07T18:02:29.926309Z",
     "shell.execute_reply": "2025-02-07T18:02:29.925780Z",
     "shell.execute_reply.started": "2025-02-07T18:02:29.911919Z"
    }
   },
   "outputs": [
    {
     "data": {
      "text/plain": [
       "'Please... speak... more... slowly...'"
      ]
     },
     "execution_count": 14,
     "metadata": {},
     "output_type": "execute_result"
    }
   ],
   "source": [
    "def separate_words(sample_string: str, delimiter=' ') -> list:\n",
    "\twords = sample_string.split(delimiter)\n",
    "\treturn words\n",
    "\n",
    "def add_elipses(sample_string: str) -> str:\n",
    "  return(sample_string+'...')\n",
    "\n",
    "def join_words(sample_list: list, delimiter=' ') -> str:\n",
    "\ttitle = delimiter.join(sample_list)\n",
    "\treturn title\n",
    "\n",
    "input_string = 'Please speak more slowly'\n",
    "join_words([add_elipses(word) for word in separate_words(input_string)])"
   ]
  },
  {
   "cell_type": "markdown",
   "id": "1628144d-9869-4c0e-83d0-e76812ec23bf",
   "metadata": {},
   "source": [
    "### Coding Exercise 7: Functions as an Assembly Line\n",
    "\n",
    "Try using each function (`separate_words()`, `add_elipses()`, `join_words()`) by itself, using the same input string.\n"
   ]
  },
  {
   "cell_type": "code",
   "execution_count": null,
   "id": "a4abbf2a-2b51-46cf-a621-b024178866d7",
   "metadata": {},
   "outputs": [],
   "source": [
    "################################################################################\n",
    "################################################################################\n",
    "\n",
    "join_words(input_string)\n",
    "\n",
    "################################################################################\n",
    "################################################################################"
   ]
  },
  {
   "cell_type": "code",
   "execution_count": null,
   "id": "58cb3198-b8e0-4506-aa95-547f04f003e2",
   "metadata": {},
   "outputs": [],
   "source": []
  }
 ],
 "metadata": {
  "kernelspec": {
   "display_name": "Python 3 (ipykernel)",
   "language": "python",
   "name": "python3"
  },
  "language_info": {
   "codemirror_mode": {
    "name": "ipython",
    "version": 3
   },
   "file_extension": ".py",
   "mimetype": "text/x-python",
   "name": "python",
   "nbconvert_exporter": "python",
   "pygments_lexer": "ipython3",
   "version": "3.11.9"
  }
 },
 "nbformat": 4,
 "nbformat_minor": 5
}
