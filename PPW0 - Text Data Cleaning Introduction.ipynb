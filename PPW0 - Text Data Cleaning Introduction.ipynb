{
 "cells": [
  {
   "cell_type": "markdown",
   "id": "c340b30b-5ffc-4a81-bbed-a0bfdc8ce804",
   "metadata": {},
   "source": [
    "# Text Data Cleaning Introduction"
   ]
  },
  {
   "cell_type": "markdown",
   "id": "f61155b9-f1c1-4b31-9320-38ea6d39b3a9",
   "metadata": {},
   "source": [
    "## Overview of Topics Covered:"
   ]
  },
  {
   "cell_type": "markdown",
   "id": "8377bbd0-1155-467d-b05c-5d6c17f561f7",
   "metadata": {},
   "source": [
    "## Main Notebooks:\n",
    "### PPW0 - Text Data Cleaning Introduction\n",
    "\n",
    "* Python strings\n",
    "* Built-in string methods\n",
    "* Type conversions\n",
    "* Functions and order of operations\n",
    "* Pandas `.apply()` and `lambda`\n",
    "* Filtering rows in Pandas\n",
    "\n",
    "### PPW1 - Ask A Manager - Salary Survey\n",
    "\n",
    "* *Messy* Data from Google Forms surveys\n",
    "* ...Like, *really* messy\n",
    "* CSV vs. Excel files in Pandas\n",
    "* Renaming columns in a Pandas DataFrame\n",
    "* Converting strings to integers\n",
    "* String methods in action\n",
    "* Manipulating data with `.apply()` and `lambda`\n",
    "* Filtering rows in Pandas\n",
    "* Using data from multiple DataFrame columns\n",
    "* Data preprocessing/integration/enrichment\n",
    "* `datetime` and `dateutil` (for more, see PPW2 - Doctor Who)\n",
    "* Pandas `.merge()` to join datasets\n",
    "\n",
    "## Bonus Notebooks:\n",
    "### PPW2 - Doctor Who - Actor Timeline\n",
    "\n",
    "* Extracting text data from a Wikipedia table\n",
    "* Pandas `.read_html()`\n",
    "* Regular expressions (Python `re` module)\n",
    "* Getting time series data out of text data\n",
    "* Python's `datetime` module and the `dateutil` package\n",
    "* Timeline visualization\n",
    "\n",
    "### PPW3 - Goodreads - Book Ratings\n",
    "\n",
    "* Reading in a badly-formatted dataset\n",
    "* Working with `bytes` objects\n",
    "* Cleaning *before* loading into pandas\n",
    "\n",
    "### PPW4 - Behavioral Risk Factor Surveillance System (BRFSS) 2014\n",
    "\n",
    "* Extracting text data from PDF files using `pdfminer.six`\n",
    "* Cleaning up excess whitespace in strings\n",
    "* Using a dictionary to replace values in a column\n",
    "\n",
    "### PPW5 - Odds & Ends\n",
    "\n",
    "* Syntax updates in Pandas"
   ]
  },
  {
   "cell_type": "markdown",
   "id": "a6eb4838-0ab9-4537-bf0a-5968038fe202",
   "metadata": {},
   "source": [
    "# Python Strings"
   ]
  },
  {
   "cell_type": "code",
   "execution_count": null,
   "id": "b7e7444d-8961-4512-9a3d-ac75eb14af7f",
   "metadata": {},
   "outputs": [],
   "source": [
    "import numpy as np\n",
    "import pandas as pd\n",
    "import matplotlib.pyplot as plt"
   ]
  },
  {
   "cell_type": "markdown",
   "id": "75e8bdbd-abc9-4159-bd75-df0539ceed76",
   "metadata": {},
   "source": [
    "## What are Strings?"
   ]
  },
  {
   "cell_type": "markdown",
   "id": "32cfa4fb-eef5-4bb1-9417-9b68be15951c",
   "metadata": {},
   "source": [
    "Strings are basic units of text. They can contain any character. Python recognizes input as a string when it's enclosed in matching quotation marks.\n",
    "\n",
    "Strings can be combined using the \"+\" operator. Say we have two string variables that denote the start date and end date of a process, and we want to print them out in a coherent sentence. We can do so like this:"
   ]
  },
  {
   "cell_type": "code",
   "execution_count": null,
   "id": "e9437268-e357-4764-b717-054aa4759203",
   "metadata": {},
   "outputs": [],
   "source": [
    "start_date = '2024-05-01'\n",
    "end_date = '2024-05-31'\n",
    "\n",
    "#Notice the spaces around \"to\".\n",
    "full_string = start_date + \" to \" + end_date\n",
    "\n",
    "print(full_string)"
   ]
  },
  {
   "cell_type": "markdown",
   "id": "49227a86-7671-4788-a081-1717e496499f",
   "metadata": {},
   "source": [
    "### Coding Exercise: \"+\" in Different Contexts"
   ]
  },
  {
   "cell_type": "code",
   "execution_count": null,
   "id": "777c91c3-d6a2-4f77-9484-9f00c4e980ff",
   "metadata": {
    "scrolled": true
   },
   "outputs": [],
   "source": [
    "#Strings\n",
    "string_var1 = 'book'\n",
    "string_var2 = 'shelf'\n",
    "\n",
    "#Integers\n",
    "int_var1 = 1\n",
    "int_var2 = 2\n",
    "\n",
    "#Concatenate strings\n",
    "print(string_var1 + string_var2)\n",
    "\n",
    "#Add integers\n",
    "print(int_var1 + int_var2)\n",
    "\n",
    "################################################################################\n",
    "################################################################################\n",
    "\n",
    "# What happens if you use \"+\" with string_var1 and int_var1?\n",
    "string_var1 + int_var1\n",
    "\n",
    "################################################################################\n",
    "################################################################################"
   ]
  },
  {
   "cell_type": "markdown",
   "id": "0ca776ea-46e3-4838-a8e5-f10f77d13cb1",
   "metadata": {},
   "source": [
    "In the example above, the strings themselves are bounded by quotation marks. The dates use single-quotes, but the `\" to \"` uses double-quotes. The two types of quotation marks work the same, but they can't be mixed."
   ]
  },
  {
   "cell_type": "markdown",
   "id": "f4b3c996-13a5-40ab-932e-5b3bc861eaaf",
   "metadata": {},
   "source": [
    "### Coding Exercise: Strings and Quotation Marks\n",
    "\n",
    "Try replacing the double-quotes around the string with single-quotes."
   ]
  },
  {
   "cell_type": "code",
   "execution_count": null,
   "id": "f282bcea-9211-41d7-a1aa-c93fc3c0589a",
   "metadata": {},
   "outputs": [],
   "source": [
    "################################################################################\n",
    "################################################################################\n",
    "\n",
    "string2 = \"This doesn't work unless you use double-quotes to open and close the string.\"\n",
    "print(string2)\n",
    "\n",
    "################################################################################\n",
    "################################################################################"
   ]
  },
  {
   "cell_type": "markdown",
   "id": "ee9b6e81-01ff-4098-a4b5-d6d6b16ef3e1",
   "metadata": {},
   "source": [
    "This is helpful when you want your string to include quotation marks. For strings with both single- and double-quotes, we have to make use of a different character, the backslash: `\\`"
   ]
  },
  {
   "cell_type": "markdown",
   "id": "33adc1f2-ed4b-4e8e-bc08-5a59b563b54e",
   "metadata": {},
   "source": [
    "### Escape Characters\n",
    "\n",
    "\"`\\`\" is called an \"escape character\" in Python (and in markdown cells). Placing an escape character before another character in a string will cause a different behavior from the character by itself. In Python strings, \"\\\\t\" represents a tab, and \"\\\\n\" represents a newline character.\n",
    "\n",
    "Also, in order for a \"\\\\\" to show up correctly in markdown cells\\*, it has to have another \\\\ in front of it. \"\\`\" (grave) is another special character that functions as an escape character in some contexts in markdown, but not in code cells.\n",
    "\n",
    "\\**(Double-click in this markdown cell to see how many backslashes and graves there actually are in the markdown text!)*"
   ]
  },
  {
   "cell_type": "code",
   "execution_count": null,
   "id": "348f7ac7-07a4-4af3-979b-394f27023234",
   "metadata": {},
   "outputs": [],
   "source": [
    "backslash_str = \"The backslash (\\\\) allows you to use both 'single' and \\\"double\\\" quotes in the same string.\"\n",
    "print(backslash_str)"
   ]
  },
  {
   "cell_type": "code",
   "execution_count": null,
   "id": "0998482f-1af4-432e-9253-d5c00326cb4e",
   "metadata": {},
   "outputs": [],
   "source": [
    "print('line 1\\n\\n\\n\\n\\n\\n\\tline 2 (tab-indented)')"
   ]
  },
  {
   "cell_type": "markdown",
   "id": "670e8fb7-834d-4810-b805-363205f4ffbb",
   "metadata": {},
   "source": [
    "## Indexing & Slicing\n",
    "\n",
    "When you think of container objects in Python, you probably think first of lists and dictionaries (and maybe sets and tuples, depending on how far down the Python rabbit-hole you are).\n",
    "\n",
    "But strings are also container objects!\n",
    "\n",
    "A string is a container that holds individual characters in a specific order, much like the elements of a Python list. As such, strings may be indexed in much the same way as lists can be.\n",
    "\n",
    "As with lists, the indexing numbers are designated by square brackets. A single number will yield the element at that index (starting at 0, not 1), while two numbers separated by a colon will yield indices from the first number up to (but not including) the second number. For example, an index of `[0:3]` returns elements at indices 0, 1, and 2, *but not 3*.\n",
    "\n",
    "A negative number in one of these positions indicates that the index starts at the end of the string rather than the beginning."
   ]
  },
  {
   "cell_type": "code",
   "execution_count": null,
   "id": "13c147bb-b898-41b1-89ac-1cc895711410",
   "metadata": {},
   "outputs": [],
   "source": [
    "print(start_date)\n",
    "print(start_date[0])\n",
    "print(start_date[0:4])\n",
    "print(start_date[-5:])\n",
    "print(start_date[-5:-3])"
   ]
  },
  {
   "cell_type": "markdown",
   "id": "3a5c9e24-2e55-49df-a8c2-fd4fe4805579",
   "metadata": {},
   "source": [
    "A third number passed in the square brackets indicates a \"stride\"; it will skip numbers other than those that match that interval. A negative here will reverse the order of the characters returned from the string."
   ]
  },
  {
   "cell_type": "code",
   "execution_count": null,
   "id": "c2075c9c-c7af-45b9-bea6-a1b404f6588a",
   "metadata": {},
   "outputs": [],
   "source": [
    "print(start_date[0:4:2])\n",
    "print(start_date[3::-1])"
   ]
  },
  {
   "attachments": {},
   "cell_type": "markdown",
   "id": "e30e686e-918c-4b30-a46f-280f6943c5f5",
   "metadata": {
    "execution": {
     "iopub.execute_input": "2025-02-07T18:03:23.014407Z",
     "iopub.status.busy": "2025-02-07T18:03:23.014407Z",
     "iopub.status.idle": "2025-02-07T18:03:23.018913Z",
     "shell.execute_reply": "2025-02-07T18:03:23.018406Z",
     "shell.execute_reply.started": "2025-02-07T18:03:23.014407Z"
    }
   },
   "source": [
    "## String Methods\n",
    "\n",
    "String objects in Python have built-in functions called \"methods\" that allow specific operations to be performed without the need to write additional code. There are over 40 string methods, each of which with its own specific task.\n",
    "\n",
    "Like all methods, these are accessed by using the dot operator after the string variable, the name of the method, and open-and-closed parentheses, i.e.: `string_name.method()`.\n",
    "\n",
    "https://www.w3schools.com/python/python_ref_string.asp"
   ]
  },
  {
   "cell_type": "code",
   "execution_count": null,
   "id": "eaad2a0f-df23-4273-b551-6ec7e493c435",
   "metadata": {},
   "outputs": [],
   "source": [
    "string_var3 = \"My parents and I moved back to California from Berlin in September, 1989. \\nI had just turned three years old.\""
   ]
  },
  {
   "cell_type": "markdown",
   "id": "e4686994-e347-42e0-8318-6c937bda7e31",
   "metadata": {},
   "source": [
    "### Case manipulation\n",
    "Several string methods deal with changing the case of one or more characters in the string. `.upper()` and `.lower()` are the most commonly-used of these."
   ]
  },
  {
   "cell_type": "code",
   "execution_count": null,
   "id": "ca39e7c8-7123-465e-88b9-acb78d6727d0",
   "metadata": {},
   "outputs": [],
   "source": [
    "print(string_var3)"
   ]
  },
  {
   "cell_type": "code",
   "execution_count": null,
   "id": "60fb8a30-d20b-488f-969a-9abb906d0985",
   "metadata": {},
   "outputs": [],
   "source": [
    "print(string_var3.upper())"
   ]
  },
  {
   "cell_type": "code",
   "execution_count": null,
   "id": "2e74314d-9cad-4e5e-942f-992ec70d776e",
   "metadata": {},
   "outputs": [],
   "source": [
    "print(string_var3.lower())"
   ]
  },
  {
   "cell_type": "code",
   "execution_count": null,
   "id": "15541526-86ff-41ae-9fb8-6489d7970742",
   "metadata": {},
   "outputs": [],
   "source": [
    "print(string_var3.capitalize())"
   ]
  },
  {
   "cell_type": "code",
   "execution_count": null,
   "id": "c6f3477f-6a76-43ed-8152-4b80637ab977",
   "metadata": {},
   "outputs": [],
   "source": [
    "print(string_var3.title())"
   ]
  },
  {
   "cell_type": "code",
   "execution_count": null,
   "id": "53ff03d7-aa46-44b9-89f8-ee8d10707224",
   "metadata": {},
   "outputs": [],
   "source": [
    "print(string_var3.swapcase())"
   ]
  },
  {
   "cell_type": "markdown",
   "id": "611fd222-5098-43c3-a80b-e9a1235ae87d",
   "metadata": {},
   "source": [
    "### Properties\n",
    "Some string methods allow you to determine the properties of a string."
   ]
  },
  {
   "cell_type": "code",
   "execution_count": null,
   "id": "876e33b8-c5aa-4f6e-841e-2d9319520fed",
   "metadata": {},
   "outputs": [],
   "source": [
    "print(string_var3.isnumeric())"
   ]
  },
  {
   "cell_type": "code",
   "execution_count": null,
   "id": "a3fc53e8-8e2b-4641-97ba-65d9d82fe28c",
   "metadata": {},
   "outputs": [],
   "source": [
    "print(string_var3.isalpha())"
   ]
  },
  {
   "cell_type": "code",
   "execution_count": null,
   "id": "d7c90023-c2e1-4519-b23e-adaef98e9c79",
   "metadata": {},
   "outputs": [],
   "source": [
    "print(string_var3.count('i'))"
   ]
  },
  {
   "cell_type": "markdown",
   "id": "e71d0055-fdd4-4e98-bba2-c7aeaef99b16",
   "metadata": {},
   "source": [
    "### Segmentation\n",
    "Splitting strings on a particular value can be very important to data cleaning."
   ]
  },
  {
   "cell_type": "code",
   "execution_count": null,
   "id": "ffe16b3d-edc8-442f-bbd6-cf61498b00cc",
   "metadata": {},
   "outputs": [],
   "source": [
    "print(string_var3.split())"
   ]
  },
  {
   "cell_type": "code",
   "execution_count": null,
   "id": "99102d3a-4ece-4586-97a5-8b3d3b7fd1ab",
   "metadata": {},
   "outputs": [],
   "source": [
    "print(string_var3.split(', '))"
   ]
  },
  {
   "cell_type": "code",
   "execution_count": null,
   "id": "1220e580-ea71-4f09-abf4-b385fa212087",
   "metadata": {},
   "outputs": [],
   "source": [
    "print(string_var3.splitlines())"
   ]
  },
  {
   "cell_type": "code",
   "execution_count": null,
   "id": "2d564af2-65bc-40d9-a407-eb0f956f33df",
   "metadata": {},
   "outputs": [],
   "source": [
    "print(string_var3.partition('1989'))"
   ]
  },
  {
   "cell_type": "markdown",
   "id": "f968f8dc-056b-454d-a45a-ceda7918c8fc",
   "metadata": {},
   "source": [
    "### Replacing Values\n",
    "`.replace()` is perhaps the most important string method for data cleaning, because of its versitility and specificity."
   ]
  },
  {
   "cell_type": "code",
   "execution_count": null,
   "id": "195a3af7-6b1b-4d8b-a848-8d8b5904e8c9",
   "metadata": {},
   "outputs": [],
   "source": [
    "print(string_var3.replace('1989', '2015'))"
   ]
  },
  {
   "cell_type": "code",
   "execution_count": null,
   "id": "8d58bb58-8dde-459a-a91b-03e1f6e7b4f2",
   "metadata": {},
   "outputs": [],
   "source": [
    "print(string_var3.replace(' ', ''))"
   ]
  },
  {
   "cell_type": "markdown",
   "id": "88bd6522-8ea0-492c-913d-10a94df0ee95",
   "metadata": {},
   "source": [
    "### Coding Exercise: String Methods\n",
    "\n",
    "Type your own sentence in the following cell, then try out different string methods on it to see how they affect the string. What do you notice about their behavior?"
   ]
  },
  {
   "cell_type": "code",
   "execution_count": null,
   "id": "bd7f6d9f-c0df-44bc-b56b-c076c0ae5000",
   "metadata": {},
   "outputs": [],
   "source": [
    "################################################################################\n",
    "################################################################################\n",
    "\n",
    "string_var4 = \"___\"\n",
    "print(string_var4)\n",
    "\n",
    "################################################################################\n",
    "################################################################################"
   ]
  },
  {
   "cell_type": "markdown",
   "id": "d9aff2d4-c6f5-40b4-be2f-b8e71868d886",
   "metadata": {},
   "source": [
    "## Converting Types\n",
    "\n",
    "`str()` lets you change an integer or a float into a string. Python also has `int()` and `float()` for converting to integer and floating point data types, respectively.\n",
    "\n",
    "`str()` will take whatever is passed to it and convert it literally to a string. `int()` and `float()` are much more particular about their inputs, and may behave differently depending on what arguments are passed. "
   ]
  },
  {
   "cell_type": "code",
   "execution_count": null,
   "id": "53f9b9d2-7a00-466e-ad70-e5562d9d0ed3",
   "metadata": {},
   "outputs": [],
   "source": [
    "print(int('3'))\n",
    "print(float('3'))\n",
    "print(int(3.0))\n",
    "print(int(3.8))\n",
    "print(float(3))\n",
    "print(str(3.8))"
   ]
  },
  {
   "cell_type": "markdown",
   "id": "c57dd6a2-af57-46dd-a5d2-ea7cf28d68bb",
   "metadata": {},
   "source": [
    "## Functions"
   ]
  },
  {
   "cell_type": "markdown",
   "id": "eb5e8974-f59c-4acb-aa03-fd10bd0e8cf3",
   "metadata": {
    "execution": {
     "iopub.execute_input": "2025-02-13T20:08:29.693549Z",
     "iopub.status.busy": "2025-02-13T20:08:29.693549Z",
     "iopub.status.idle": "2025-02-13T20:08:29.704433Z",
     "shell.execute_reply": "2025-02-13T20:08:29.702417Z",
     "shell.execute_reply.started": "2025-02-13T20:08:29.693549Z"
    }
   },
   "source": [
    "Here are a few functions that will let us manipulate strings."
   ]
  },
  {
   "cell_type": "markdown",
   "id": "30884349-40ba-4ac2-b88e-da0132292d38",
   "metadata": {},
   "source": [
    "https://docs.python.org/3.5/tutorial/controlflow.html#documentation-strings"
   ]
  },
  {
   "cell_type": "code",
   "execution_count": null,
   "id": "cab10d7e-c637-4cd0-a13b-1c5de45a0b24",
   "metadata": {},
   "outputs": [],
   "source": [
    "def separate_words(sample_string: str, delimiter=' ') -> list:\n",
    "\twords = sample_string.split(delimiter)\n",
    "\treturn words\n",
    "\n",
    "def add_elipses(sample_string: str) -> str:\n",
    "  return(sample_string+'...')\n",
    "\n",
    "def join_words(sample_list: list, delimiter=' ') -> str:\n",
    "\ttitle = delimiter.join(sample_list)\n",
    "\treturn title\n",
    "\n",
    "input_string = 'Please speak more slowly'\n",
    "join_words([add_elipses(word) for word in separate_words(input_string)])"
   ]
  },
  {
   "cell_type": "markdown",
   "id": "1628144d-9869-4c0e-83d0-e76812ec23bf",
   "metadata": {},
   "source": [
    "### Coding Exercise: Functions as an Assembly Line\n",
    "\n",
    "Try using each function (`separate_words()`, `add_elipses()`, `join_words()`) by itself, using the same input string. Combine more than one function, and change the order in which the functions are applied.\n"
   ]
  },
  {
   "cell_type": "code",
   "execution_count": null,
   "id": "a4abbf2a-2b51-46cf-a621-b024178866d7",
   "metadata": {},
   "outputs": [],
   "source": [
    "################################################################################\n",
    "################################################################################\n",
    "\n",
    "join_words(input_string)\n",
    "\n",
    "################################################################################\n",
    "################################################################################"
   ]
  },
  {
   "cell_type": "markdown",
   "id": "323440a2-ad0f-413a-9d6f-6d7a6a5f8b22",
   "metadata": {},
   "source": [
    "# Intro to Pandas"
   ]
  },
  {
   "cell_type": "markdown",
   "id": "187ff865-1083-4c06-800f-131b1fcae6ff",
   "metadata": {},
   "source": [
    "Pandas (from \"panel data\") is a Python library (a collection of modules) that extends Python's basic capabilities by adding support for tabular data.\n",
    "\n",
    "Pandas's most-used class is the DataFrame. DataFrames are specialized container objects that store data in named columns. Column names must be unique, and all columns must be the same length. A DataFrame is like a spreadsheet, but you don't click in cells and type into it; you use functions and methods to manipulate the data it contains.\n",
    "\n",
    "Though individual cells are more difficult to edit in a DataFrame than in an application like Microsoft Excel or Google Sheets, the platform lends itself well to making sweeping edits quickly. This is a huge advantage when you want to clean data or to engineer new features in a dataset.\n",
    "\n",
    "Pandas has integration with statistical functions, so it's easy to get summary statistics for an entire dataset.\n",
    "\n",
    "Pandas is also capable of [reading data from and writing data to external files](https://pandas.pydata.org/pandas-docs/stable/reference/io.html) in a wide variety of formats, from `.csv` files to `.json` to `.xlsx` (Excel workbooks) and others."
   ]
  },
  {
   "cell_type": "markdown",
   "id": "cb402f63-94ad-4ad6-b77b-0494aaad4484",
   "metadata": {},
   "source": [
    "Let's make a very simple DataFrame to illustrate how we can work with text data in a tabular format in Pandas."
   ]
  },
  {
   "cell_type": "code",
   "execution_count": null,
   "id": "ab1e4056-80e7-4537-b248-c66255b0a905",
   "metadata": {},
   "outputs": [],
   "source": [
    "fruit_list = ['apple', 'banana', 'cherimoya', 'durian']\n",
    "qty_list = [2, 5, 2, 1]\n",
    "\n",
    "#There are many ways to construct a DataFrame. \n",
    "fruit_df = pd.DataFrame({'fruit':fruit_list, 'qty':qty_list})"
   ]
  },
  {
   "cell_type": "code",
   "execution_count": null,
   "id": "9271d08b-e2ef-41ad-a806-5ea186ee89e0",
   "metadata": {},
   "outputs": [],
   "source": [
    "fruit_df"
   ]
  },
  {
   "cell_type": "markdown",
   "id": "d217d2d8-0d12-4a51-adb3-c3e46f5b096a",
   "metadata": {},
   "source": [
    "## Filtering Rows in Pandas\n",
    "\n",
    "If you've used Microsoft Excel, Google Sheets, or other spreadsheet applications, you may have had to apply a filter to isolate a subset of records on a sheet. Pandas also has that capability, but you don't use a dropdown menu to do it - you write the filter in a line of code instead.\n",
    "\n",
    "If we want to look only at rows that match a certain condition in a DataFrame, we can make use of Boolean comparison operators, `==`, `!=`, `>=`, `<=`, `>`, *and* `<`. These can be used to create a Pandas `Series` object that contains Boolean values for each item in a column."
   ]
  },
  {
   "cell_type": "code",
   "execution_count": null,
   "id": "9a3ccce0-01c8-4f6d-bbb0-a5d63c728494",
   "metadata": {},
   "outputs": [],
   "source": [
    "fruit_df['qty'] == 2"
   ]
  },
  {
   "cell_type": "code",
   "execution_count": null,
   "id": "3f7525f7-e75e-4112-b28c-50e227bc32c1",
   "metadata": {},
   "outputs": [],
   "source": [
    "type(fruit_df['qty'] == 2)"
   ]
  },
  {
   "cell_type": "code",
   "execution_count": null,
   "id": "081e3c42-d301-4b4e-8e82-780de3ef729f",
   "metadata": {},
   "outputs": [],
   "source": [
    "fruit_df[fruit_df['qty'] == 2]"
   ]
  },
  {
   "cell_type": "markdown",
   "id": "85423669-c6ba-4adb-a8ef-c64a0142e967",
   "metadata": {},
   "source": [
    "We can then use that Series to filter out rows that have a `False` value. If we want to look at the rows of `fruit_df` where \"qty\" is 2, we can apply a filter by placing that Series object inside square brackets after the name of the DataFrame.\n",
    "\n",
    "This may look a little weird with the name of the DataFrame showing twice, but it makes sense if you read it as \"show only the rows of the dataframe where the values in the dataframe'\n",
    "s qty column are equal to 2\".\n",
    "\n",
    "We'll explore this feature in greater detail in the `PPW1 - ManagerSalary` notebook."
   ]
  },
  {
   "cell_type": "markdown",
   "id": "5c3029ad-b07a-4724-ab59-76990e028746",
   "metadata": {},
   "source": [
    "## EXAMPLE: Cleaning Data using `.apply()` and `lambda`"
   ]
  },
  {
   "cell_type": "markdown",
   "id": "e4ef263d-2764-4b1d-b493-d0e29c21ac8c",
   "metadata": {},
   "source": [
    "A quick way to create or modify new columns in a data frame is to use the `.apply()` method with and pass a function, often (but not always) using the `lambda` keyword. `.apply()` is a method of the `pd.Series` Class.\n",
    "\n",
    "A Lambda function is an \"anonymous\" function (one that doesn't need to be named since it's used only in a local context). \"Lambda\" can mean different things in different programming languages, but in Python it allows for a quick ad hoc function to be used without needing to define the function officially with a `def` statement."
   ]
  },
  {
   "cell_type": "markdown",
   "id": "bda03c68-7032-4d10-adc6-72da48839e4e",
   "metadata": {},
   "source": [
    "Assuming the parameters of a function are appropriate to the data in the Pandas series, we can pass in a single function as an argument of `.apply()` without the need for a lambda statement."
   ]
  },
  {
   "cell_type": "code",
   "execution_count": null,
   "id": "7b7a9b98-cd38-4a46-af66-2bb70a4fb6e5",
   "metadata": {},
   "outputs": [],
   "source": [
    "fruit_array2 = fruit_df['fruit'].apply(join_words)\n",
    "\n",
    "fruit_array2"
   ]
  },
  {
   "cell_type": "markdown",
   "id": "88a1e96c-c240-4ca5-b6b9-0202edcbd68e",
   "metadata": {},
   "source": [
    "Using a lambda function allows us to apply a string method to a DataFrame column (assuming all the data are of the same type.)"
   ]
  },
  {
   "cell_type": "code",
   "execution_count": null,
   "id": "512be8ee-6772-403f-a394-b9bc4dc0a0e7",
   "metadata": {},
   "outputs": [],
   "source": [
    "fruit_array1 = fruit_df['fruit'].apply(lambda x: x.upper())\n",
    "\n",
    "fruit_array1"
   ]
  },
  {
   "cell_type": "code",
   "execution_count": null,
   "id": "4b760823-daff-4143-b8cd-85ccd3a2f77f",
   "metadata": {},
   "outputs": [],
   "source": [
    "fruit_array3 = fruit_df['fruit'].apply(lambda x: join_words(x.upper()))\n",
    "\n",
    "fruit_array3"
   ]
  },
  {
   "cell_type": "markdown",
   "id": "38d91093-a4fe-4e69-81ae-4293c062e1d7",
   "metadata": {},
   "source": [
    "# End of Introduction"
   ]
  },
  {
   "cell_type": "markdown",
   "id": "ee1f49c6-3c33-40c8-9c21-bb4d1b8558aa",
   "metadata": {},
   "source": [
    "That's not everything there is to know about strings in Python, but it's a start!\n",
    "\n",
    "Let's get to some concrete examples of text data-cleaning in action!"
   ]
  }
 ],
 "metadata": {
  "kernelspec": {
   "display_name": "Python 3 (ipykernel)",
   "language": "python",
   "name": "python3"
  },
  "language_info": {
   "codemirror_mode": {
    "name": "ipython",
    "version": 3
   },
   "file_extension": ".py",
   "mimetype": "text/x-python",
   "name": "python",
   "nbconvert_exporter": "python",
   "pygments_lexer": "ipython3",
   "version": "3.12.9"
  }
 },
 "nbformat": 4,
 "nbformat_minor": 5
}
