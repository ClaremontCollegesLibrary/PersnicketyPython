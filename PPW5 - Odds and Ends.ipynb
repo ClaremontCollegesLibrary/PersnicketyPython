{
 "cells": [
  {
   "cell_type": "markdown",
   "id": "a981d50b-6d53-4f36-8e0a-09f535b0a431",
   "metadata": {
    "execution": {
     "iopub.execute_input": "2025-03-21T23:19:20.146806Z",
     "iopub.status.busy": "2025-03-21T23:19:20.146806Z",
     "iopub.status.idle": "2025-03-21T23:19:20.167934Z",
     "shell.execute_reply": "2025-03-21T23:19:20.166924Z",
     "shell.execute_reply.started": "2025-03-21T23:19:20.146806Z"
    }
   },
   "source": [
    "# Odds & Ends\n",
    "\n",
    "## Topics & Techniques Covered\n",
    "\n",
    "* `FutureWarning` Messages"
   ]
  },
  {
   "cell_type": "code",
   "execution_count": null,
   "id": "eb6d3e5e-2c10-49fc-914d-33f821f15814",
   "metadata": {},
   "outputs": [],
   "source": [
    "import numpy as np\n",
    "import pandas as pd\n",
    "import matplotlib.pyplot as plt"
   ]
  },
  {
   "cell_type": "code",
   "execution_count": null,
   "id": "4ce039c3-f856-49aa-97d3-76019816d3b4",
   "metadata": {},
   "outputs": [],
   "source": [
    "#Read .csv file from The Claremont Colleges Library's GitHub page:\n",
    "df_csv = pd.read_csv('https://raw.githubusercontent.com/ClaremontCollegesLibrary/PersnicketyPython/refs/heads/main/Ask%20A%20Manager%20Salary%20Survey%202021%20(Responses)%20-%20Form%20Responses%201.csv')"
   ]
  },
  {
   "cell_type": "code",
   "execution_count": null,
   "id": "49579d2f-2845-423e-a379-e01ca70fdbd6",
   "metadata": {},
   "outputs": [],
   "source": [
    "new_columns = [\n",
    "    'Timestamp', 'Age', 'Industry', 'Job_Title', 'Addl_Context', 'Salary',\n",
    "    'Addl_Comp', 'Currency', 'Curr_if_Other', 'Income_Context',\n",
    "    'Country', 'US_State', 'City', 'Work_Exp', 'Field_Exp', 'Educ_Level',\n",
    "    'Gender', 'Race'\n",
    "]\n",
    "\n",
    "df_csv.columns = new_columns"
   ]
  },
  {
   "cell_type": "code",
   "execution_count": null,
   "id": "6b9a1192-5893-4820-b355-6bd232074d0f",
   "metadata": {},
   "outputs": [],
   "source": [
    "df_csv['Curr_if_Other'].info()"
   ]
  },
  {
   "cell_type": "code",
   "execution_count": null,
   "id": "bda1b478-f70b-48d6-b72a-a5062d3679a2",
   "metadata": {},
   "outputs": [],
   "source": [
    "df_csv['Curr_if_Other'].fillna('', inplace=True)"
   ]
  },
  {
   "cell_type": "markdown",
   "id": "379f25f4-dcd7-4076-b224-730a2fb16da7",
   "metadata": {},
   "source": [
    "### `FutureWarning` Messages\n",
    "\n",
    "We just used the `.fillna()` method to replace `NaN` values with an empty string `''`. When we use `.fillna()` on a column, it works, but it gives us a warning message. This is an advance notification from `pandas` developers indicating that the syntax in the as-yet-unreleased Pandas 3.0 will no longer support `.fillna()` being applied directly to a column of a DataFrame.\n",
    "\n",
    "Future versions of `pandas` will require that `.fillna()` be applied to the DataFrame itself, specifying the column name as an argument.\n",
    "\n",
    "Changes to Python modules' syntax happen frequently enough that it's important not to ignore these `FutureWarning`s  when they come up.\n",
    "\n",
    "Here is the same line of code updated to use the new syntax:"
   ]
  },
  {
   "cell_type": "code",
   "execution_count": null,
   "id": "8cef0b6e-3cde-41a3-96f8-f1135366920d",
   "metadata": {},
   "outputs": [],
   "source": [
    "df_csv.fillna({'Curr_if_Other':''}, inplace=True)"
   ]
  },
  {
   "cell_type": "code",
   "execution_count": null,
   "id": "c8350076-441e-484a-8067-33219ec3d40c",
   "metadata": {},
   "outputs": [],
   "source": [
    "df_csv['Curr_if_Other'].info()"
   ]
  },
  {
   "cell_type": "markdown",
   "id": "8c0b626e-a548-45e1-8850-191375e40be7",
   "metadata": {},
   "source": [
    "# End of Module 5"
   ]
  },
  {
   "cell_type": "code",
   "execution_count": null,
   "id": "a4ca917e-1a2e-4918-b89a-fa8cc88d86a8",
   "metadata": {},
   "outputs": [],
   "source": []
  }
 ],
 "metadata": {
  "kernelspec": {
   "display_name": "Python 3 (ipykernel)",
   "language": "python",
   "name": "python3"
  },
  "language_info": {
   "codemirror_mode": {
    "name": "ipython",
    "version": 3
   },
   "file_extension": ".py",
   "mimetype": "text/x-python",
   "name": "python",
   "nbconvert_exporter": "python",
   "pygments_lexer": "ipython3",
   "version": "3.12.9"
  }
 },
 "nbformat": 4,
 "nbformat_minor": 5
}
