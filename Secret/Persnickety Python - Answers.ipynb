{
 "cells": [
  {
   "cell_type": "markdown",
   "id": "c340b30b-5ffc-4a81-bbed-a0bfdc8ce804",
   "metadata": {},
   "source": [
    "# Persnickety Python: Text Data Cleaning Workshop"
   ]
  },
  {
   "cell_type": "markdown",
   "id": "f61155b9-f1c1-4b31-9320-38ea6d39b3a9",
   "metadata": {},
   "source": [
    "## Overview of Topics Covered:"
   ]
  },
  {
   "cell_type": "markdown",
   "id": "84bc1d7b-abe8-4deb-89f3-a6d64c210da8",
   "metadata": {},
   "source": [
    "## Main Topics (This Notebook):\n",
    "\n",
    "### Part I - Base Python\n",
    "\n",
    "* Python strings\n",
    "* Built-in string methods\n",
    "* Type conversions\n",
    "* Lists and Dictionaries\n",
    "* List & Dictionary Comprehensions\n",
    "* Functions and order of operations\n",
    "\n",
    "#### Part II - `pandas`\n",
    "\n",
    "* `pandas` and `DataFrame` objects\n",
    "* Filtering rows in pandas using `Series`\n",
    "* Filtering rows in pandas using `.query()`\n",
    "* Exploratory Data Analysis methods in `pandas`\n",
    "* `lambda`functions and pandas `.apply()`\n",
    "* Types of Character Encodings\n",
    "* Parsing dates with `dateutil`\n",
    "* `merge` - combining two DataFrames along a common column"
   ]
  },
  {
   "cell_type": "markdown",
   "id": "3dde7631-d895-44ca-bf57-f7bd719bb071",
   "metadata": {},
   "source": [
    "## Part III - Supplementary Topics:\n",
    "Your choice of the following:\n",
    "\n",
    "## Option 1: Notebook A\n",
    "\n",
    "### Notebook A - Ask A Manager - Salary Survey\n",
    "\n",
    "An in-depth view of a complicated data-cleaning process. This one is a *very* long demonstration... we may not get through all of it during the workshop.\n",
    "\n",
    "* *Messy* Data from Google Forms surveys\n",
    "* ...Like, *really* messy\n",
    "* CSV vs. Excel files in Pandas\n",
    "* Renaming columns in a Pandas DataFrame\n",
    "* Converting strings to integers\n",
    "* String methods in action\n",
    "* Manipulating data with `.apply()` and `lambda`\n",
    "* Filtering rows in Pandas\n",
    "* Using data from multiple DataFrame columns\n",
    "* Data preprocessing/integration/enrichment\n",
    "* `datetime` and `dateutil` (for more, see PPW2 - Doctor Who)\n",
    "* Pandas `.merge()` to join datasets\n",
    "\n",
    "## Option 2: Choose one or two of the following: B, C, D:\n",
    "\n",
    "### Notebook B - Doctor Who - Actor Timeline\n",
    "\n",
    "Using regular expressions (regex) to find numerical data in text\n",
    "\n",
    "* Extracting text data from a Wikipedia table\n",
    "* Pandas `.read_html()`\n",
    "* Regular expressions (Python `re` module)\n",
    "* Getting time series data out of text data\n",
    "* Python's `datetime` module and the `dateutil` package\n",
    "* Timeline visualization\n",
    "\n",
    "### Notebook C - Goodreads - Book Ratings\n",
    "\n",
    "How to fix a broken .csv\n",
    "\n",
    "* Reading in a badly-formatted dataset\n",
    "* Working with `bytes` objects\n",
    "* Cleaning *before* loading into pandas\n",
    "\n",
    "### Notebook D - Behavioral Risk Factor Surveillance System (BRFSS) 2014\n",
    "\n",
    "How to extract data from PDF files\n",
    "\n",
    "* `pdfminer.six`\n",
    "* Cleaning up excess whitespace in strings\n",
    "* Using a dictionary to replace values in a column\n",
    "\n",
    "### Appendix - Odds & Ends\n",
    "\n",
    "* Syntax updates and warnings in Pandas"
   ]
  },
  {
   "cell_type": "markdown",
   "id": "20a089bb-7e08-4f03-b5ea-14ff82618259",
   "metadata": {},
   "source": [
    "# PPW Part I - Python Review & Data Cleaning Introduction"
   ]
  },
  {
   "cell_type": "markdown",
   "id": "a6eb4838-0ab9-4537-bf0a-5968038fe202",
   "metadata": {},
   "source": [
    "## Imports"
   ]
  },
  {
   "cell_type": "code",
   "execution_count": 1,
   "id": "b7e7444d-8961-4512-9a3d-ac75eb14af7f",
   "metadata": {},
   "outputs": [],
   "source": [
    "import numpy as np\n",
    "import pandas as pd\n",
    "import matplotlib.pyplot as plt"
   ]
  },
  {
   "cell_type": "code",
   "execution_count": 2,
   "id": "ee30e6d3-5ecb-4a68-a2ac-155913041010",
   "metadata": {},
   "outputs": [],
   "source": [
    "import dateutil"
   ]
  },
  {
   "cell_type": "markdown",
   "id": "9afeff17-5cbc-4794-beff-a22a0d2af359",
   "metadata": {},
   "source": [
    "# Strings"
   ]
  },
  {
   "cell_type": "markdown",
   "id": "75e8bdbd-abc9-4159-bd75-df0539ceed76",
   "metadata": {},
   "source": [
    "### What are Strings?"
   ]
  },
  {
   "cell_type": "markdown",
   "id": "32cfa4fb-eef5-4bb1-9417-9b68be15951c",
   "metadata": {},
   "source": [
    "Strings are basic units of text. They can contain any character. Python recognizes input as a string when it's enclosed in matching quotation marks.\n",
    "\n",
    "Strings can be combined using the \"+\" operator. Say we have two string variables that denote the start date and end date of a process, and we want to print them out in a coherent sentence. We can do so like this:"
   ]
  },
  {
   "cell_type": "code",
   "execution_count": 3,
   "id": "e9437268-e357-4764-b717-054aa4759203",
   "metadata": {},
   "outputs": [
    {
     "name": "stdout",
     "output_type": "stream",
     "text": [
      "2024-05-01 to 2024-05-31\n"
     ]
    }
   ],
   "source": [
    "start_date = '2024-05-01'\n",
    "end_date = '2024-05-31'\n",
    "\n",
    "#Notice the spaces around \"to\".\n",
    "full_string = start_date + \" to \" + end_date\n",
    "\n",
    "print(full_string)"
   ]
  },
  {
   "cell_type": "markdown",
   "id": "0ca776ea-46e3-4838-a8e5-f10f77d13cb1",
   "metadata": {},
   "source": [
    "In the example above, the strings themselves are bounded by quotation marks. The dates use single-quotes, but the `\" to \"` uses double-quotes. The two types of quotation marks both do the same thing, but in order for a string to be considered complete by Python, there must be a matching pair at the start and end of the string."
   ]
  },
  {
   "cell_type": "markdown",
   "id": "ee9b6e81-01ff-4098-a4b5-d6d6b16ef3e1",
   "metadata": {},
   "source": [
    "This is helpful when you want your string to include quotation marks. For strings with both single- and double-quotes, we have to make use of a different character, the backslash: `\\`"
   ]
  },
  {
   "cell_type": "markdown",
   "id": "663743e7-4631-4384-85c3-e277cd1f3a35",
   "metadata": {},
   "source": [
    "### Escape Characters\n",
    "\n",
    "\"`\\`\" is called an \"escape character\" in Python (and in markdown cells). Placing an escape character before another character in a string will cause a different behavior from the character by itself (it \"escapes\" its normal use). In Python strings, \"\\\\t\" represents a tab, and \"\\\\n\" represents a newline character."
   ]
  },
  {
   "cell_type": "code",
   "execution_count": 4,
   "id": "0998482f-1af4-432e-9253-d5c00326cb4e",
   "metadata": {
    "scrolled": true
   },
   "outputs": [
    {
     "name": "stdout",
     "output_type": "stream",
     "text": [
      "line 1\n",
      "\n",
      "\n",
      "\n",
      "\n",
      "\n",
      "\tline 2 (tab-indented)\n"
     ]
    }
   ],
   "source": [
    "print('line 1\\n\\n\\n\\n\\n\\n\\tline 2 (tab-indented)')"
   ]
  },
  {
   "cell_type": "markdown",
   "id": "ba2aa908-88a4-4851-83ff-88bd633d8ca9",
   "metadata": {},
   "source": [
    "Also, in order for a \"\\\\\" to show up correctly in markdown cells\\*, it has to have another \\\\ in front of it. \"\\`\" (grave) is another special character that functions as an escape character in some contexts in markdown, but not in code cells.\n",
    "\n",
    "\\**(Double-click in this markdown cell to see how many backslashes and graves there actually are in the markdown text!)*"
   ]
  },
  {
   "cell_type": "code",
   "execution_count": 5,
   "id": "348f7ac7-07a4-4af3-979b-394f27023234",
   "metadata": {},
   "outputs": [
    {
     "name": "stdout",
     "output_type": "stream",
     "text": [
      "The backslash (\\) allows you to use both 'single' and \"double\" quotes in the same string.\n"
     ]
    }
   ],
   "source": [
    "backslash_str = \"The backslash (\\\\) allows you to use both 'single' and \\\"double\\\" quotes in the same string.\"\n",
    "print(backslash_str)"
   ]
  },
  {
   "cell_type": "markdown",
   "id": "bb2fbe0a-2196-4cbb-922e-2a3863f247c9",
   "metadata": {},
   "source": [
    "### Coding Exercise: Strings and Quotation Marks\n",
    "\n",
    "How would you turn the following into Python strings?\n",
    "\n",
    "\n",
    "`When they ascended the steps to the hall, Maria's alarm was every moment increasing, and even Sir William did not look perfectly calm.`\n",
    "\n",
    "`\"Every man look out along his oars!\" cried Starbuck. \"Thou, Queequeg, stand up!\"`\n",
    "\n",
    "What about this one?\n",
    "\n",
    "`\"Well, sir,\" he said, with a suspicious sort of modesty, \"I think I can; but I don't know as 'ow you'd be satisfied with the theory.\"`\n",
    "\n",
    "Copy-paste these three sentences into the cell below, and try to get them to print out correctly."
   ]
  },
  {
   "cell_type": "code",
   "execution_count": 165,
   "id": "f282bcea-9211-41d7-a1aa-c93fc3c0589a",
   "metadata": {},
   "outputs": [
    {
     "name": "stdout",
     "output_type": "stream",
     "text": [
      "When they ascended the steps to the hall, Maria's alarm was every moment increasing, and even Sir William did not look perfectly calm. \n",
      "\n",
      "\"Every man look out along his oars!\" cried Starbuck. \"Thou, Queequeg, stand up!\" \n",
      "\n",
      "\"Well, sir,\" he said, with a suspicious sort of modesty, \"I think I can; but I don't know as 'ow you'd be satisfied with the theory.\"\n"
     ]
    }
   ],
   "source": [
    "################################################################################\n",
    "################################################################################\n",
    "\n",
    "sentence1 = \"When they ascended the steps to the hall, Maria's alarm was every moment increasing, and even Sir William did not look perfectly calm.\"\n",
    "sentence2 = '\\\"Every man look out along his oars!\\\" cried Starbuck. \\\"Thou, Queequeg, stand up!\\\"'\n",
    "sentence3 = '\"Well, sir,\" he said, with a suspicious sort of modesty, \"I think I can; but I don\\'t know as \\'ow you\\'d be satisfied with the theory.\"'\n",
    "\n",
    "print(sentence1, '\\n')\n",
    "print(sentence2, '\\n')\n",
    "print(sentence3)\n",
    "\n",
    "################################################################################\n",
    "################################################################################"
   ]
  },
  {
   "cell_type": "markdown",
   "id": "670e8fb7-834d-4810-b805-363205f4ffbb",
   "metadata": {},
   "source": [
    "## Indexing & Slicing Strings\n",
    "\n",
    "\"Containers\" in Python are objects that contain other objects. There are four kinds of objects built into base Python that are explicilty meant to be used as containers: lists, tuples, dictionaries, and sets. \n",
    "\n",
    "With the exception of sets, containers are all \"subscriptable\" – that is to say: objects inside a container (other than those contained in sets) can be retrieved from the container object. In the case of lists and tuples, this is done with square brackets and a positional index; in the case of dictionaries, this is done with square brackets and the name of a \"key\" that specifies what to retrieve. We'll cover more about lists and dictionaries in a bit, but for now, we must talk about the secret fifth type of container...\n",
    "\n",
    "Python strings!\n",
    "\n",
    "Strings are container objects that hold individual characters in a specific order, much like the elements of a Python list or tuple. As such, strings may be indexed in much the same way, using a positional index.\n",
    "\n",
    "Elements of strings are accessed with square brackets with index numbers in them. A single number will yield the element at that index (important note: in Python, counting starts at 0, not at 1), while two numbers separated by a colon will yield indices from the first number up to (but not including) the second number. For example, an index of `[0:3]` returns elements at indices 0, 1, and 2, *but not 3*.\n",
    "\n",
    "A negative number in one of these positions indicates that the index starts at the end of the string rather than the beginning."
   ]
  },
  {
   "cell_type": "code",
   "execution_count": 7,
   "id": "13c147bb-b898-41b1-89ac-1cc895711410",
   "metadata": {},
   "outputs": [
    {
     "name": "stdout",
     "output_type": "stream",
     "text": [
      "2024-05-01\n",
      "2\n",
      "2024\n",
      "05-01\n",
      "05\n"
     ]
    }
   ],
   "source": [
    "start_date = '2024-05-01'\n",
    "\n",
    "print(start_date)\n",
    "print(start_date[0])\n",
    "print(start_date[0:4])\n",
    "print(start_date[-5:])\n",
    "print(start_date[-5:-3])"
   ]
  },
  {
   "cell_type": "markdown",
   "id": "3a5c9e24-2e55-49df-a8c2-fd4fe4805579",
   "metadata": {},
   "source": [
    "A third number passed in the square brackets indicates a \"stride\"; it will skip numbers other than those that match that interval. A negative here will reverse the order of the characters returned from the string."
   ]
  },
  {
   "cell_type": "code",
   "execution_count": 8,
   "id": "c2075c9c-c7af-45b9-bea6-a1b404f6588a",
   "metadata": {},
   "outputs": [
    {
     "name": "stdout",
     "output_type": "stream",
     "text": [
      "22\n",
      "4202\n"
     ]
    }
   ],
   "source": [
    "print(start_date[0:4:2])\n",
    "print(start_date[3::-1])"
   ]
  },
  {
   "cell_type": "markdown",
   "id": "f298975c-f646-4a4c-8f2f-e96d033cb529",
   "metadata": {},
   "source": [
    "### Coding Exercise: Slicing a String\n",
    "\n",
    "Use square brackets in the following cell to print only the word \"pages\".\n",
    "\n",
    "*Hint: spaces also count towards elements in a string.*"
   ]
  },
  {
   "cell_type": "code",
   "execution_count": 167,
   "id": "27dbaa96-f107-4168-8a70-e2f464a1627c",
   "metadata": {},
   "outputs": [
    {
     "name": "stdout",
     "output_type": "stream",
     "text": [
      " pages\n"
     ]
    }
   ],
   "source": [
    "################################################################################\n",
    "################################################################################\n",
    "\n",
    "sentence4 = \"How many pages are there in the Learning Python book by Mark Lutz?\"\n",
    "\n",
    "print(sentence4[8:14])\n",
    "\n",
    "################################################################################\n",
    "################################################################################"
   ]
  },
  {
   "attachments": {},
   "cell_type": "markdown",
   "id": "e30e686e-918c-4b30-a46f-280f6943c5f5",
   "metadata": {
    "execution": {
     "iopub.execute_input": "2025-02-07T18:03:23.014407Z",
     "iopub.status.busy": "2025-02-07T18:03:23.014407Z",
     "iopub.status.idle": "2025-02-07T18:03:23.018913Z",
     "shell.execute_reply": "2025-02-07T18:03:23.018406Z",
     "shell.execute_reply.started": "2025-02-07T18:03:23.014407Z"
    }
   },
   "source": [
    "# String Methods\n",
    "\n",
    "String objects in Python have built-in functions called \"methods\" that allow specific operations to be performed without the need to write additional code. There are over 40 string methods, each of which with its own specific task.\n",
    "\n",
    "Like all methods, these are accessed by using the dot operator after the string variable, the name of the method, and open-and-closed parentheses, i.e.: `string_name.method()`.\n",
    "\n",
    "https://www.w3schools.com/python/python_ref_string.asp"
   ]
  },
  {
   "cell_type": "code",
   "execution_count": 10,
   "id": "eaad2a0f-df23-4273-b551-6ec7e493c435",
   "metadata": {},
   "outputs": [],
   "source": [
    "string_var3 = \"The quick brown fox jumped over the lazy dog.\" \n",
    "string_var4 = \"\\nSphinx of black quartz, judge my vow.\"\n",
    "string_var5 = string_var3 + string_var4"
   ]
  },
  {
   "cell_type": "markdown",
   "id": "e4686994-e347-42e0-8318-6c937bda7e31",
   "metadata": {},
   "source": [
    "### Case manipulation\n",
    "Several string methods deal with changing the case of one or more characters in the string. `.upper()` and `.lower()` are the most commonly-used of these."
   ]
  },
  {
   "cell_type": "code",
   "execution_count": 11,
   "id": "ca39e7c8-7123-465e-88b9-acb78d6727d0",
   "metadata": {},
   "outputs": [
    {
     "name": "stdout",
     "output_type": "stream",
     "text": [
      "The quick brown fox jumped over the lazy dog.\n",
      "Sphinx of black quartz, judge my vow.\n"
     ]
    }
   ],
   "source": [
    "print(string_var5)"
   ]
  },
  {
   "cell_type": "code",
   "execution_count": 12,
   "id": "60fb8a30-d20b-488f-969a-9abb906d0985",
   "metadata": {},
   "outputs": [
    {
     "name": "stdout",
     "output_type": "stream",
     "text": [
      "THE QUICK BROWN FOX JUMPED OVER THE LAZY DOG.\n",
      "SPHINX OF BLACK QUARTZ, JUDGE MY VOW.\n"
     ]
    }
   ],
   "source": [
    "print(string_var5.upper())"
   ]
  },
  {
   "cell_type": "code",
   "execution_count": 13,
   "id": "2e74314d-9cad-4e5e-942f-992ec70d776e",
   "metadata": {},
   "outputs": [
    {
     "name": "stdout",
     "output_type": "stream",
     "text": [
      "the quick brown fox jumped over the lazy dog.\n",
      "sphinx of black quartz, judge my vow.\n"
     ]
    }
   ],
   "source": [
    "print(string_var5.lower())"
   ]
  },
  {
   "cell_type": "markdown",
   "id": "611fd222-5098-43c3-a80b-e9a1235ae87d",
   "metadata": {},
   "source": [
    "### Properties\n",
    "Some string methods allow you to determine specific properties of a string."
   ]
  },
  {
   "cell_type": "code",
   "execution_count": 14,
   "id": "876e33b8-c5aa-4f6e-841e-2d9319520fed",
   "metadata": {},
   "outputs": [
    {
     "name": "stdout",
     "output_type": "stream",
     "text": [
      "False\n"
     ]
    }
   ],
   "source": [
    "print(string_var5.isnumeric())"
   ]
  },
  {
   "cell_type": "code",
   "execution_count": 15,
   "id": "a3fc53e8-8e2b-4641-97ba-65d9d82fe28c",
   "metadata": {},
   "outputs": [
    {
     "name": "stdout",
     "output_type": "stream",
     "text": [
      "False\n"
     ]
    }
   ],
   "source": [
    "print(string_var5.isalpha())"
   ]
  },
  {
   "cell_type": "code",
   "execution_count": 16,
   "id": "d7c90023-c2e1-4519-b23e-adaef98e9c79",
   "metadata": {},
   "outputs": [
    {
     "name": "stdout",
     "output_type": "stream",
     "text": [
      "2\n"
     ]
    }
   ],
   "source": [
    "print(string_var5.count('i'))"
   ]
  },
  {
   "cell_type": "markdown",
   "id": "e71d0055-fdd4-4e98-bba2-c7aeaef99b16",
   "metadata": {},
   "source": [
    "### Segmentation\n",
    "Splitting strings on a particular value can be very important to data cleaning."
   ]
  },
  {
   "cell_type": "code",
   "execution_count": 17,
   "id": "ffe16b3d-edc8-442f-bbd6-cf61498b00cc",
   "metadata": {},
   "outputs": [
    {
     "name": "stdout",
     "output_type": "stream",
     "text": [
      "['The', 'quick', 'brown', 'fox', 'jumped', 'over', 'the', 'lazy', 'dog.', 'Sphinx', 'of', 'black', 'quartz,', 'judge', 'my', 'vow.']\n"
     ]
    }
   ],
   "source": [
    "print(string_var5.split())"
   ]
  },
  {
   "cell_type": "code",
   "execution_count": 18,
   "id": "99102d3a-4ece-4586-97a5-8b3d3b7fd1ab",
   "metadata": {},
   "outputs": [
    {
     "name": "stdout",
     "output_type": "stream",
     "text": [
      "['The quick brown fox jumped over the lazy dog.\\nSphinx of black quartz', 'judge my vow.']\n"
     ]
    }
   ],
   "source": [
    "print(string_var5.split(', '))"
   ]
  },
  {
   "cell_type": "markdown",
   "id": "f968f8dc-056b-454d-a45a-ceda7918c8fc",
   "metadata": {},
   "source": [
    "### Replacing Values\n",
    "`.replace()` is perhaps the most important string method for data cleaning, because of its versitility and specificity.\n",
    "\n",
    "One of the most useful tricks `.replace()` lets you do is replacing a character with an empty string, so it gets removed entirely."
   ]
  },
  {
   "cell_type": "code",
   "execution_count": 19,
   "id": "195a3af7-6b1b-4d8b-a848-8d8b5904e8c9",
   "metadata": {},
   "outputs": [
    {
     "name": "stdout",
     "output_type": "stream",
     "text": [
      "The quick red fox jumped over the lazy dog.\n",
      "Sphinx of black quartz, judge my vow.\n"
     ]
    }
   ],
   "source": [
    "print(string_var5.replace('brown', 'red'))"
   ]
  },
  {
   "cell_type": "code",
   "execution_count": 20,
   "id": "8d58bb58-8dde-459a-a91b-03e1f6e7b4f2",
   "metadata": {},
   "outputs": [
    {
     "name": "stdout",
     "output_type": "stream",
     "text": [
      "Thequickbrownfoxjumpedoverthelazydog.\n",
      "Sphinxofblackquartz,judgemyvow.\n"
     ]
    }
   ],
   "source": [
    "print(string_var5.replace(' ', ''))"
   ]
  },
  {
   "cell_type": "markdown",
   "id": "5ac58a37-9ae8-442d-8778-c78983c96203",
   "metadata": {},
   "source": [
    "### Chaining String Methods\n",
    "\n",
    "You can use multiple string methods at once by adding them one after another. They will be applied in the sequence you write them. Remember to use a `.` before each method."
   ]
  },
  {
   "cell_type": "code",
   "execution_count": 21,
   "id": "d43687d6-4ae3-47f2-b374-dbb6c0037af4",
   "metadata": {},
   "outputs": [
    {
     "name": "stdout",
     "output_type": "stream",
     "text": [
      "THE QUICK BROWN BEAR JUMPED OVER THE LAZY DOG.\n"
     ]
    }
   ],
   "source": [
    "print(string_var3.replace('fox', 'bear').upper())"
   ]
  },
  {
   "cell_type": "markdown",
   "id": "b8f08cb6-b9b5-4130-8079-120213db86d3",
   "metadata": {},
   "source": [
    "What happens when you switch the order the string methods are applied?"
   ]
  },
  {
   "cell_type": "code",
   "execution_count": 22,
   "id": "f012614c-2d58-4681-90af-36f142c76e46",
   "metadata": {},
   "outputs": [
    {
     "name": "stdout",
     "output_type": "stream",
     "text": [
      "THE QUICK BROWN FOX JUMPED OVER THE LAZY DOG.\n"
     ]
    }
   ],
   "source": [
    "print(string_var3.upper().replace('fox', 'bear'))"
   ]
  },
  {
   "cell_type": "markdown",
   "id": "8f22745c-8f1d-4ae5-9bcb-a0a78e8cbf0d",
   "metadata": {},
   "source": [
    "If you use `.upper()` first, replacing 'fox' with 'bear' won't do anything... you'd have to look for 'FOX' instead"
   ]
  },
  {
   "cell_type": "markdown",
   "id": "88bd6522-8ea0-492c-913d-10a94df0ee95",
   "metadata": {},
   "source": [
    "### Coding Exercise: String Methods\n",
    "\n",
    "Let's try these out to solve a common problem: normalizing data.\n",
    "\n",
    "Imagine you have conducted a survey with write-in options for country of residence. The United States residents who responded to the survey all filled in their answers in a different way. If you want to group them all in a single category, you'll need some way of making all their responses fit the same format.\n",
    "\n",
    "Use some string methods to make sure that all the abbreviations print out the same. How can you order the string methods to accomplish this *most efficiently?*\n"
   ]
  },
  {
   "cell_type": "code",
   "execution_count": 168,
   "id": "bd7f6d9f-c0df-44bc-b56b-c076c0ae5000",
   "metadata": {},
   "outputs": [
    {
     "name": "stdout",
     "output_type": "stream",
     "text": [
      "usa\n",
      "usa\n",
      "usa\n",
      "usa\n",
      "usa\n",
      "usa\n",
      "usa\n"
     ]
    }
   ],
   "source": [
    "################################################################################\n",
    "################################################################################\n",
    "\n",
    "united_states = ['USA', 'u.s.a.', 'America', 'U.S.A.', 'usa', 'U.S. of A.', 'america']\n",
    "\n",
    "for abbrev in united_states:\n",
    "    print(abbrev.lower().replace('.','').replace(' of ','').replace('america','usa'))\n",
    "\n",
    "################################################################################\n",
    "################################################################################"
   ]
  },
  {
   "cell_type": "markdown",
   "id": "d9aff2d4-c6f5-40b4-be2f-b8e71868d886",
   "metadata": {},
   "source": [
    "# Converting between Types\n",
    "\n",
    "Python has built-in functions that let you convert objects to different data types, provided they meet the criteria for the new data type.\n",
    "\n",
    "`str()` lets you change an integer or a float into a string. Any integer or floating point number can be changed to a string.\n",
    "\n",
    "`int()` and `float()` for converting to integer and floating point data types, respectively. Text data can't always be formatted as an integer or float, so this only works when all the characters of the text string *could be* components of a number. The text string \"1000\" could become the integer 1000, but you'd get an error if you tried to convert \"1,000\" to an integer.\n",
    "\n",
    "It's also important to note that converting a floating point to an integer *does not* round the number; it just removes the decimal component entirely."
   ]
  },
  {
   "cell_type": "code",
   "execution_count": 24,
   "id": "53f9b9d2-7a00-466e-ad70-e5562d9d0ed3",
   "metadata": {
    "scrolled": true
   },
   "outputs": [
    {
     "name": "stdout",
     "output_type": "stream",
     "text": [
      "3\n",
      "3\n",
      "3.0\n",
      "3.8\n",
      "3\n",
      "3.0\n"
     ]
    },
    {
     "ename": "ValueError",
     "evalue": "could not convert string to float: '1,000'",
     "output_type": "error",
     "traceback": [
      "\u001b[0;31m---------------------------------------------------------------------------\u001b[0m",
      "\u001b[0;31mValueError\u001b[0m                                Traceback (most recent call last)",
      "Cell \u001b[0;32mIn[24], line 20\u001b[0m\n\u001b[1;32m     17\u001b[0m \u001b[38;5;28mprint\u001b[39m(\u001b[38;5;28mfloat\u001b[39m(\u001b[38;5;124m'\u001b[39m\u001b[38;5;124m3\u001b[39m\u001b[38;5;124m'\u001b[39m))\n\u001b[1;32m     19\u001b[0m \u001b[38;5;66;03m#Text string with punctuation to integer:\u001b[39;00m\n\u001b[0;32m---> 20\u001b[0m \u001b[38;5;28mprint\u001b[39m(\u001b[38;5;28mfloat\u001b[39m(\u001b[38;5;124m\"\u001b[39m\u001b[38;5;124m1,000\u001b[39m\u001b[38;5;124m\"\u001b[39m))\n",
      "\u001b[0;31mValueError\u001b[0m: could not convert string to float: '1,000'"
     ]
    }
   ],
   "source": [
    "\n",
    "#Floating point to integer, no decimal value\n",
    "print(int(3.0))\n",
    "\n",
    "#Floating point to integer, decimal value is truncated\n",
    "print(int(3.8))\n",
    "\n",
    "#Integer to floating point\n",
    "print(float(3))\n",
    "\n",
    "#Floating point to text string\n",
    "print(str(3.8))\n",
    "\n",
    "#Text string to integer\n",
    "print(int('3'))\n",
    "\n",
    "#Text string to floating point\n",
    "print(float('3'))\n",
    "\n",
    "#Text string with punctuation to integer:\n",
    "print(float(\"1,000\"))"
   ]
  },
  {
   "cell_type": "markdown",
   "id": "0b577cbf-cdc5-457e-9718-7fa966f4b7d8",
   "metadata": {},
   "source": [
    "### Coding Exercise: Convert `start_date` to Integers\n",
    "\n",
    "Using slices along with the `int()` function, use the `start_date` variable to set the values of the `year`, `month`, and `day` variables "
   ]
  },
  {
   "cell_type": "code",
   "execution_count": 173,
   "id": "0305f376-e250-4e84-8ed3-636d737e1aa1",
   "metadata": {},
   "outputs": [
    {
     "name": "stdout",
     "output_type": "stream",
     "text": [
      "True\n",
      "True\n",
      "True\n"
     ]
    }
   ],
   "source": [
    "################################################################################\n",
    "################################################################################\n",
    "\n",
    "start_date = '2024-05-01'\n",
    "\n",
    "year = int(start_date[0:4])\n",
    "month = int(start_date[6:7])\n",
    "day = int(start_date[9:10])\n",
    "\n",
    "print(year, type(year) == int)\n",
    "print(month, type(month) == int)\n",
    "print(day, type(day) == int)\n",
    "\n",
    "################################################################################\n",
    "################################################################################"
   ]
  },
  {
   "cell_type": "markdown",
   "id": "10e9f0a2-6822-456e-99d2-addb292b799b",
   "metadata": {},
   "source": [
    "Now, try using the `.split()` string method instead of slices."
   ]
  },
  {
   "cell_type": "code",
   "execution_count": 175,
   "id": "df234044-9945-4a25-95c3-6c1514bbb960",
   "metadata": {},
   "outputs": [
    {
     "name": "stdout",
     "output_type": "stream",
     "text": [
      "True\n",
      "True\n",
      "True\n"
     ]
    }
   ],
   "source": [
    "################################################################################\n",
    "################################################################################\n",
    "\n",
    "start_date = '2024-05-01'\n",
    "\n",
    "year = int(start_date.split('-')[0])\n",
    "month = int(start_date.split('-')[1])\n",
    "day = int(start_date.split('-')[2])\n",
    "\n",
    "print(year, type(year) == int)\n",
    "print(month, type(month) == int)\n",
    "print(day, type(day) == int)\n",
    "\n",
    "################################################################################\n",
    "################################################################################"
   ]
  },
  {
   "cell_type": "markdown",
   "id": "7410c647-7b3e-48e3-a82c-c8a7f9aa6235",
   "metadata": {},
   "source": [
    "# Lists and Dictionaries\n",
    "\n",
    "You've probably encountered container objects before if you've taken an introductory Python class or workshop before, but we'll briefly review the characteristics of lists and dictionaries here:\n",
    "\n",
    "### List - constructed with `[ ]` or list()\n",
    "An array that contains elements in a specific order. Lists store items in a sequence, elements of lists can be indexed using the numerical value of their position in the list (remember, counting in Python starts at \"0\"). To access the first element of a list, you have to put square brackets after the name of the list, and the number 0 inside them. Lists are \"mutable\", which means their order and contents can be changed after they are created.\n",
    "\n",
    "Individual items can be added at the end of a list with `.append()` and removed at the end of a list with `.pop()`.\n",
    "\n",
    "To add the contents of a list to another list, instead of `.append()`, use `.extend()`.\n",
    "\n",
    "\n",
    "### Dictionary - constructed with `{ }` or dict()\n",
    "\n",
    "A `set` of \"`key: value`\" pairs. Keys must be unique.  Dictionaries are specialized version of sets; instead of containing unique elements, they contain unique `keys` that can be used to retrieve corresponding elements called `values`, sort of how when you open up a physical dictionary, you can find the definition of a word by searching for it alphabetically. Dictionaries are also mutable. To access a value, you must put square brackets after the name of the dictionary, and put the name of the related key in the brackets.\n",
    "\n",
    "Dictionaries don't use `.append()` but you can remove a key:value pair by using `.pop(key)` to specify the key."
   ]
  },
  {
   "cell_type": "markdown",
   "id": "96886866-e257-4fd6-b125-1913a63ef47c",
   "metadata": {},
   "source": [
    "### Coding Exercise - Adding Elements to a List\n",
    "\n",
    "Try adding some elements to `sample_list2` by filling in the blanks. \n",
    "\n",
    "They don't have to be the same type!"
   ]
  },
  {
   "cell_type": "code",
   "execution_count": 177,
   "id": "34f02cf6-3dce-4825-993c-b539dfc60fa5",
   "metadata": {},
   "outputs": [
    {
     "name": "stdout",
     "output_type": "stream",
     "text": [
      "['a', 682, [1, 2, 3], 'b', 793]\n"
     ]
    }
   ],
   "source": [
    "################################################################################\n",
    "################################################################################\n",
    "\n",
    "sample_list = ['a', 682, [1,2,3], 'b']\n",
    "\n",
    "sample_list.append(793)\n",
    "\n",
    "print(sample_list)\n",
    "\n",
    "################################################################################\n",
    "################################################################################"
   ]
  },
  {
   "cell_type": "markdown",
   "id": "efa39119-13e8-48f1-b498-4888e3cb0e9d",
   "metadata": {},
   "source": [
    "### Removing an Element from a List\n",
    "\n",
    "Adding `.pop()` by itself at the end of a list will remove the last element. Adding `.pop(0)` will remove the element at the `0` index (the first element), `pop(1)` will remove the second element, and so on.\n",
    "\n",
    "You can also use `.pop()` to get an element out of a list and use it for something else, by setting a variable equal to the value returned by `pop()`."
   ]
  },
  {
   "cell_type": "code",
   "execution_count": 145,
   "id": "8007bd73-def0-465d-86d1-f95bf201ada9",
   "metadata": {},
   "outputs": [
    {
     "data": {
      "text/plain": [
       "['a', 682, [1, 2], 'b', 793]"
      ]
     },
     "execution_count": 145,
     "metadata": {},
     "output_type": "execute_result"
    }
   ],
   "source": [
    "sample_list.pop()\n",
    "\n",
    "sample_list"
   ]
  },
  {
   "cell_type": "code",
   "execution_count": 29,
   "id": "57dff63d-958f-4640-8e99-977712572a3c",
   "metadata": {},
   "outputs": [
    {
     "data": {
      "text/plain": [
       "['a', [1, 2, 3], 'b']"
      ]
     },
     "execution_count": 29,
     "metadata": {},
     "output_type": "execute_result"
    }
   ],
   "source": [
    "sample_list.pop(1)\n",
    "\n",
    "sample_list"
   ]
  },
  {
   "cell_type": "code",
   "execution_count": 30,
   "id": "03002b4f-5eec-4bfa-85c7-5054e52decbf",
   "metadata": {},
   "outputs": [
    {
     "data": {
      "text/plain": [
       "'b'"
      ]
     },
     "execution_count": 30,
     "metadata": {},
     "output_type": "execute_result"
    }
   ],
   "source": [
    "#Use the last element as a new variable\n",
    "list_element_b = sample_list.pop()\n",
    "list_element_b"
   ]
  },
  {
   "cell_type": "code",
   "execution_count": 31,
   "id": "8c32b044-52f7-4d63-9551-dd2c6d25ea66",
   "metadata": {},
   "outputs": [
    {
     "data": {
      "text/plain": [
       "['a', [1, 2, 3]]"
      ]
     },
     "execution_count": 31,
     "metadata": {},
     "output_type": "execute_result"
    }
   ],
   "source": [
    "sample_list"
   ]
  },
  {
   "cell_type": "markdown",
   "id": "bbaf01a8-51ea-435c-9503-37856631b9d6",
   "metadata": {},
   "source": [
    "### Coding Exercise - Extending a List\n",
    "\n",
    "Within `sample_list`, the third element (`sample_list[2]`) is itself a list.\n",
    "\n",
    "Try using a combination of `.pop()` and `.extend()` to remove that element from `sample_list` and extend `sample_list` with its contents."
   ]
  },
  {
   "cell_type": "code",
   "execution_count": 159,
   "id": "b2359d05-6478-4a43-81a3-7b81927b4b83",
   "metadata": {},
   "outputs": [
    {
     "data": {
      "text/plain": [
       "['a', 682, 'b', 1, 2, 3]"
      ]
     },
     "execution_count": 159,
     "metadata": {},
     "output_type": "execute_result"
    }
   ],
   "source": [
    "################################################################################\n",
    "################################################################################\n",
    "\n",
    "sample_list = ['a', 682, [1,2,3], 'b']\n",
    "\n",
    "sample_list.extend(sample_list.pop(2))\n",
    "\n",
    "sample_list\n",
    "\n",
    "################################################################################\n",
    "################################################################################"
   ]
  },
  {
   "cell_type": "markdown",
   "id": "048d7df0-5c04-4e18-8ce1-4d82f2143a87",
   "metadata": {},
   "source": [
    "#### Looping Through a List with `For`"
   ]
  },
  {
   "cell_type": "markdown",
   "id": "452b53d7-bee4-4a2d-a14e-ecca33cb8a3a",
   "metadata": {},
   "source": [
    "Lists (and other kinds of containers) are especially useful in saving time for the programmer because they can be *iterated* through. Most container objects be iterated through, and so they are often also called \"iterables\"."
   ]
  },
  {
   "cell_type": "code",
   "execution_count": 32,
   "id": "9713f0ff-e019-4416-85ae-284f79ed1cd0",
   "metadata": {},
   "outputs": [
    {
     "name": "stdout",
     "output_type": "stream",
     "text": [
      "a\n",
      "682\n",
      "[1, 2, 3]\n",
      "b\n"
     ]
    }
   ],
   "source": [
    "#Let's reset our original values in `sample_list`\n",
    "sample_list = ['a', 682, [1,2,3], 'b']\n",
    "\n",
    "for item in sample_list:\n",
    "\tprint(item)"
   ]
  },
  {
   "cell_type": "markdown",
   "id": "e38e93cc-dcd5-4564-85a1-877b22931e92",
   "metadata": {},
   "source": [
    "#### Accessing Elements of a List"
   ]
  },
  {
   "cell_type": "code",
   "execution_count": 33,
   "id": "e05ca260-0a79-4653-bab2-8dcbe64e649e",
   "metadata": {},
   "outputs": [
    {
     "data": {
      "text/plain": [
       "'a'"
      ]
     },
     "execution_count": 33,
     "metadata": {},
     "output_type": "execute_result"
    }
   ],
   "source": [
    "sample_list[0]"
   ]
  },
  {
   "cell_type": "code",
   "execution_count": 34,
   "id": "7c7bfeae-aa99-4290-8373-044b6d7bb0b7",
   "metadata": {},
   "outputs": [
    {
     "data": {
      "text/plain": [
       "[1, 2, 3]"
      ]
     },
     "execution_count": 34,
     "metadata": {},
     "output_type": "execute_result"
    }
   ],
   "source": [
    "sample_list[2]"
   ]
  },
  {
   "cell_type": "code",
   "execution_count": 35,
   "id": "0d1db18d-04ae-4944-b705-2623dbf1c15b",
   "metadata": {},
   "outputs": [
    {
     "data": {
      "text/plain": [
       "'b'"
      ]
     },
     "execution_count": 35,
     "metadata": {},
     "output_type": "execute_result"
    }
   ],
   "source": [
    "sample_list[-1]"
   ]
  },
  {
   "cell_type": "markdown",
   "id": "cb1ba8ef-41d1-4dc1-a6f7-1660660222ea",
   "metadata": {},
   "source": [
    "### Adding Key:Value Pairs to a Dictionary\n",
    "\n",
    "Dictionaries work very differently from lists in terms of how they store and retrieve data. Here's an example of using dictionaries to store contact information for people here at the Library."
   ]
  },
  {
   "cell_type": "code",
   "execution_count": 156,
   "id": "8d978f15-0e78-443e-b426-eb19f7acc9c3",
   "metadata": {},
   "outputs": [
    {
     "name": "stdout",
     "output_type": "stream",
     "text": [
      "{'first_name': 'David', 'last_name': 'Merten-Jones', 'institution': 'The Claremont Colleges Library', 'occupation': 'Data Services Specialist', 'email address': 'david.merten-jones@claremont.edu'}\n",
      "{'first_name': 'Jeanine', 'last_name': 'Finn', 'institution': 'The Claremont Colleges Library', 'occupation': 'Head of Data and Digital Scholarship Services', 'email_address': 'jeanine.finn@claremont.edu'}\n"
     ]
    }
   ],
   "source": [
    "#Here's my contact info:\n",
    "\n",
    "profile1 = {}\n",
    "\n",
    "profile1['first_name'] = 'David'\n",
    "profile1['last_name'] = 'Merten-Jones'\n",
    "profile1['institution'] = 'The Claremont Colleges Library'\n",
    "profile1['occupation'] = 'Data Services Specialist'\n",
    "profile1['email address'] = 'david.merten-jones@claremont.edu'\n",
    "\n",
    "print(profile1)\n",
    "\n",
    "# Here is my supervisor's contact info:\n",
    "\n",
    "profile2 = {}\n",
    "\n",
    "profile2['first_name'] = 'Jeanine'\n",
    "profile2['last_name'] = 'Finn'\n",
    "profile2['institution'] = 'The Claremont Colleges Library'\n",
    "profile2['occupation'] = 'Head of Data and Digital Scholarship Services'\n",
    "profile2['email_address'] = 'jeanine.finn@claremont.edu'\n",
    "\n",
    "print(profile2)"
   ]
  },
  {
   "cell_type": "markdown",
   "id": "006c3504-827d-4f82-9596-a8c12c28f540",
   "metadata": {},
   "source": [
    "#### \"Nested\" Dictionaries\n",
    "\n",
    "What if we wanted to store both these contact profiles in the same Python object? \n",
    "\n",
    "As we saw in `sample_list`, lists can store other lists. The same is true of dictionaries.\n",
    "\n",
    "Let's make an empty dictionary called \"contacts\" and add each of the profile dictionaries to it."
   ]
  },
  {
   "cell_type": "code",
   "execution_count": 157,
   "id": "74035900-f3c8-40ae-bf44-b5f4560291bd",
   "metadata": {
    "scrolled": true
   },
   "outputs": [
    {
     "data": {
      "text/plain": [
       "{'contact1': {'first_name': 'David',\n",
       "  'last_name': 'Merten-Jones',\n",
       "  'institution': 'The Claremont Colleges Library',\n",
       "  'occupation': 'Data Services Specialist',\n",
       "  'email address': 'david.merten-jones@claremont.edu'},\n",
       " 'contact2': {'first_name': 'Jeanine',\n",
       "  'last_name': 'Finn',\n",
       "  'institution': 'The Claremont Colleges Library',\n",
       "  'occupation': 'Head of Data and Digital Scholarship Services',\n",
       "  'email_address': 'jeanine.finn@claremont.edu'}}"
      ]
     },
     "execution_count": 157,
     "metadata": {},
     "output_type": "execute_result"
    }
   ],
   "source": [
    "contacts = {}\n",
    "\n",
    "contacts['contact1'] = profile1\n",
    "contacts['contact2'] = profile2\n",
    "\n",
    "contacts"
   ]
  },
  {
   "cell_type": "markdown",
   "id": "f326b638-9b3e-4429-aa32-bc351df09fdc",
   "metadata": {},
   "source": [
    "To access a dictionary within a dictionary, you can use one set of square brackets with the `key` that stores the dictionary as a value, and a second set of square brackets with the key to retrieve the value you want."
   ]
  },
  {
   "cell_type": "code",
   "execution_count": 38,
   "id": "d33c96e5-ec2c-4dd0-a428-0e766f9c47b4",
   "metadata": {},
   "outputs": [
    {
     "data": {
      "text/plain": [
       "'David'"
      ]
     },
     "execution_count": 38,
     "metadata": {},
     "output_type": "execute_result"
    }
   ],
   "source": [
    "contacts['contact1']['first_name']"
   ]
  },
  {
   "cell_type": "code",
   "execution_count": 147,
   "id": "1f8991e8-e570-4b5e-b2d1-330ebf96fa89",
   "metadata": {},
   "outputs": [
    {
     "data": {
      "text/plain": [
       "'Jeanine'"
      ]
     },
     "execution_count": 147,
     "metadata": {},
     "output_type": "execute_result"
    }
   ],
   "source": [
    "contacts['contact2']['first_name']"
   ]
  },
  {
   "cell_type": "code",
   "execution_count": 39,
   "id": "b33656c2-a92a-4f35-a01a-5414bcabec52",
   "metadata": {
    "scrolled": true
   },
   "outputs": [
    {
     "data": {
      "text/plain": [
       "'david.merten-jones@claremont.edu'"
      ]
     },
     "execution_count": 39,
     "metadata": {},
     "output_type": "execute_result"
    }
   ],
   "source": [
    "contacts['contact1']['email address']"
   ]
  },
  {
   "cell_type": "markdown",
   "id": "6419830e-f9d0-4ac0-878b-01f530ea57df",
   "metadata": {},
   "source": [
    "### Coding Exercise - Adding Key:Value Pairs to a Dictionary\n",
    "\n",
    "Try adding your info to the \"contacts\" dictionary."
   ]
  },
  {
   "cell_type": "code",
   "execution_count": 149,
   "id": "cef9a40a-9799-4668-980a-0defd16ab591",
   "metadata": {},
   "outputs": [
    {
     "data": {
      "text/plain": [
       "{'contact1': {'first_name': 'David',\n",
       "  'last_name': 'Merten-Jones',\n",
       "  'institution': 'The Claremont Colleges Library',\n",
       "  'occupation': 'Data Services Specialist',\n",
       "  'email_address': 'david.merten-jones@claremont.edu'},\n",
       " 'contact2': {'first_name': 'Jeanine',\n",
       "  'last_name': 'Finn',\n",
       "  'institution': 'The Claremont Colleges Library',\n",
       "  'occupation': 'Head of Data and Digital Scholarship Services',\n",
       "  'email_address': 'jeanine.finn@claremont.edu'}}"
      ]
     },
     "execution_count": 149,
     "metadata": {},
     "output_type": "execute_result"
    }
   ],
   "source": [
    "################################################################################\n",
    "################################################################################\n",
    "\n",
    "profile3 = {\n",
    "    # Your profile here\n",
    "}\n",
    "\n",
    "contacts\n",
    "\n",
    "################################################################################\n",
    "################################################################################"
   ]
  },
  {
   "cell_type": "markdown",
   "id": "20b592a3-5724-44fd-a629-a9ccfb0689a3",
   "metadata": {},
   "source": [
    "# Using `for` Loops & Comprehensions with Lists and Dictionaries\n",
    "\n",
    "In Python, you can accomplish a lot using `for` loops. A `for` loop lets you iterate through a container object (or generator, but that's a topic for another day) and procedurally do a task for every element in it.\n",
    "\n",
    "`for` loops are written in a particular syntax that requires everything to be set up ahead of time; if you want to create a new list and add elements to it by using a `for` loop, the list must exist before you can add elements to it.\n",
    "\n",
    "When you're operating on the elements of a list (or dictionary) it is often quicker and more space-efficient to use something called a \"comprehension\" to perform the same actions. Comprehensions create new objects in-place, so you don't need to pre-define the space in which to store their output.\n",
    "\n",
    "Say you want to change all the items in a list of first names to start with a capital letter. In a `for` loop, that would look something like this:\n"
   ]
  },
  {
   "cell_type": "code",
   "execution_count": null,
   "id": "6b336da5-5c9d-4ef0-8a29-f54ac7501237",
   "metadata": {},
   "outputs": [],
   "source": [
    "first_name_list = ['abhimanyu', 'beatrice', 'carlos', 'daoud', 'ekaterina', 'francesca', 'george', 'hinah']"
   ]
  },
  {
   "cell_type": "code",
   "execution_count": null,
   "id": "539f9390-1e11-48d3-b1bc-f84eb2fa5ba7",
   "metadata": {},
   "outputs": [
    {
     "data": {
      "text/plain": [
       "['Abhimanyu',\n",
       " 'Beatrice',\n",
       " 'Carlos',\n",
       " 'Daoud',\n",
       " 'Ekaterina',\n",
       " 'Francesca',\n",
       " 'George',\n",
       " 'Hinah']"
      ]
     },
     "execution_count": 41,
     "metadata": {},
     "output_type": "execute_result"
    }
   ],
   "source": [
    "capitalized_names = []\n",
    "\n",
    "for name in first_name_list:\n",
    "    capitalized_names.append(name.title())\n",
    "\n",
    "capitalized_names"
   ]
  },
  {
   "cell_type": "markdown",
   "id": "ab4e4cd6-1fb6-437d-ab1b-35f239abe76a",
   "metadata": {},
   "source": [
    "That does the job, but it takes up several lines of code. Let's see that same operation expressed as a comprehension:"
   ]
  },
  {
   "cell_type": "code",
   "execution_count": 42,
   "id": "c4921f12-de5f-457f-b603-bc98ca6284eb",
   "metadata": {},
   "outputs": [
    {
     "data": {
      "text/plain": [
       "['Abhimanyu',\n",
       " 'Beatrice',\n",
       " 'Carlos',\n",
       " 'Daoud',\n",
       " 'Ekaterina',\n",
       " 'Francesca',\n",
       " 'George',\n",
       " 'Hinah']"
      ]
     },
     "execution_count": 42,
     "metadata": {},
     "output_type": "execute_result"
    }
   ],
   "source": [
    "capitalized_names = [name.title() for name in first_name_list]\n",
    "\n",
    "capitalized_names"
   ]
  },
  {
   "cell_type": "markdown",
   "id": "c3f54ea2-259f-4702-81da-b4bf783bf02c",
   "metadata": {},
   "source": [
    "By surrounding the statment with square brackets, we have automatically formatted the result as a list."
   ]
  },
  {
   "cell_type": "markdown",
   "id": "ea59e4e5-634c-4bde-9eb1-8ea446d4f5b7",
   "metadata": {},
   "source": [
    "It is also possible to create a dictionary using a comprehension. If you have two lists of equal length that contain associated values, you can create a dictionary from them using a comprehension, and the handy builtin `zip()` function, which combines two or more lists and splits them by element into tuples containing one element of each list. \n",
    "\n",
    "First, let's see how to add elements to a dictionary using a `for` loop:"
   ]
  },
  {
   "cell_type": "code",
   "execution_count": 43,
   "id": "c1e2fd1c-092b-47f9-bfa4-427f323d66ef",
   "metadata": {},
   "outputs": [],
   "source": [
    "fruit_list = ['apple', 'banana', 'cherimoya', 'durian']\n",
    "qty_list = [2, 5, 2, 1]"
   ]
  },
  {
   "cell_type": "code",
   "execution_count": 44,
   "id": "6ef84cf0-2489-46c4-ad29-623b27c2c741",
   "metadata": {},
   "outputs": [
    {
     "name": "stdout",
     "output_type": "stream",
     "text": [
      "('apple', 2)\n",
      "('banana', 5)\n",
      "('cherimoya', 2)\n",
      "('durian', 1)\n"
     ]
    }
   ],
   "source": [
    "#How `zip()` works:\n",
    "\n",
    "for tup in zip(fruit_list, qty_list):\n",
    "    print(tup)"
   ]
  },
  {
   "cell_type": "markdown",
   "id": "ed95f827-403e-4136-aa69-4440571c0d46",
   "metadata": {},
   "source": [
    "Using a `for` loop:"
   ]
  },
  {
   "cell_type": "code",
   "execution_count": null,
   "id": "7e490aa8-15a0-427a-a017-e0aa60b9a35c",
   "metadata": {},
   "outputs": [],
   "source": [
    "fruit_dict = {}\n",
    "\n",
    "for fruit, qty in zip(fruit_list, qty_list):\n",
    "    fruit_dict[fruit] = qty\n",
    "\n",
    "fruit_dict"
   ]
  },
  {
   "cell_type": "markdown",
   "id": "df02c4e5-d7c8-406e-ba51-6a28769d93ad",
   "metadata": {},
   "source": [
    "Using a dictionary comprehension:"
   ]
  },
  {
   "cell_type": "code",
   "execution_count": 46,
   "id": "ae65dad9-f876-45ca-b9f5-5f3be0373a7c",
   "metadata": {},
   "outputs": [
    {
     "data": {
      "text/plain": [
       "{'apple': 2, 'banana': 5, 'cherimoya': 2, 'durian': 1}"
      ]
     },
     "execution_count": 46,
     "metadata": {},
     "output_type": "execute_result"
    }
   ],
   "source": [
    "fruit_dict = {fruit:qty for fruit, qty in zip(fruit_list, qty_list)}\n",
    "\n",
    "fruit_dict"
   ]
  },
  {
   "cell_type": "markdown",
   "id": "c57dd6a2-af57-46dd-a5d2-ea7cf28d68bb",
   "metadata": {},
   "source": [
    "# Functions"
   ]
  },
  {
   "cell_type": "markdown",
   "id": "eb5e8974-f59c-4acb-aa03-fd10bd0e8cf3",
   "metadata": {
    "execution": {
     "iopub.execute_input": "2025-02-13T20:08:29.693549Z",
     "iopub.status.busy": "2025-02-13T20:08:29.693549Z",
     "iopub.status.idle": "2025-02-13T20:08:29.704433Z",
     "shell.execute_reply": "2025-02-13T20:08:29.702417Z",
     "shell.execute_reply.started": "2025-02-13T20:08:29.693549Z"
    }
   },
   "source": [
    "Here are a few functions that will let us manipulate strings."
   ]
  },
  {
   "cell_type": "markdown",
   "id": "30884349-40ba-4ac2-b88e-da0132292d38",
   "metadata": {},
   "source": [
    "https://docs.python.org/3.5/tutorial/controlflow.html#documentation-strings"
   ]
  },
  {
   "cell_type": "code",
   "execution_count": 150,
   "id": "cab10d7e-c637-4cd0-a13b-1c5de45a0b24",
   "metadata": {},
   "outputs": [
    {
     "name": "stdout",
     "output_type": "stream",
     "text": [
      "['Please', 'speak', 'more', 'slowly']\n",
      "\n",
      " Please speak more slowly...\n",
      "\n",
      " Please speak more slowly\n",
      "\n",
      " Please... speak... more... slowly...\n"
     ]
    }
   ],
   "source": [
    "def separate_words(sample_string, delimiter=' '):\n",
    "\twords = sample_string.split(delimiter)\n",
    "\treturn words\n",
    "\n",
    "def add_elipses(sample_string):\n",
    "  return(sample_string+'...')\n",
    "\n",
    "def join_words(sample_list, delimiter=' '):\n",
    "\ttitle = delimiter.join(sample_list)\n",
    "\treturn title\n",
    "\n",
    "input_string = 'Please speak more slowly'\n",
    "\n",
    "print(separate_words(input_string))\n",
    "print('\\n', add_elipses(input_string))\n",
    "print('\\n', join_words(separate_words(input_string)))\n",
    "print('\\n', join_words([add_elipses(word) for word in separate_words(input_string)]))"
   ]
  },
  {
   "cell_type": "markdown",
   "id": "1628144d-9869-4c0e-83d0-e76812ec23bf",
   "metadata": {},
   "source": [
    "### OPTIONAL - Coding Exercise: Functions as an Assembly Line\n",
    "\n",
    "This one is more free-form, since we're taking a short break at the halfway point of the workshop. You can play around with this if you feel like exploring what functions do when applied in different sequences.\n",
    "\n",
    "Try using each function (`separate_words()`, `add_elipses()`, `join_words()`) by itself, using the same input string. Combine more than one function, and change the order in which the functions are applied."
   ]
  },
  {
   "cell_type": "raw",
   "id": "8e257db4-71cd-425e-b0ac-66c88fe2bf04",
   "metadata": {},
   "source": [
    "################################################################################\n",
    "################################################################################\n",
    "\n",
    "#To start you off, here's the original string:\n",
    "print(input_string)\n",
    "\n",
    "################################################################################\n",
    "################################################################################"
   ]
  },
  {
   "cell_type": "markdown",
   "id": "dc645ec1-595e-4fb5-97fe-e6e3c8147f67",
   "metadata": {},
   "source": [
    "Here's an oddball to try out: \n",
    "\n",
    "`print(join_words(join_words(input_string)))`\n",
    "\n",
    "Why is Python giving us this particular output?"
   ]
  },
  {
   "cell_type": "markdown",
   "id": "d9259d59-03ad-4f2a-8057-9ee4d672b224",
   "metadata": {},
   "source": [
    "# *Intermission*"
   ]
  },
  {
   "cell_type": "markdown",
   "id": "323440a2-ad0f-413a-9d6f-6d7a6a5f8b22",
   "metadata": {},
   "source": [
    "# Part II - Pandas\n",
    "\n",
    "![](images/pandas.jpg)"
   ]
  },
  {
   "cell_type": "markdown",
   "id": "9ae0de3a-75f6-41af-ac95-7c5cd17ff600",
   "metadata": {},
   "source": [
    "No, not that kind of pandas! The Python package `pandas` (a name derived from \"panel data\", a term for a particular format of data used in Economics) is built for handling tabular data in many shapes and sizes, using a special kind of data table called a `DataFrame`.\n",
    "\n",
    "Pandas DataFrames are at the core of the vast majority of data science and data analytics in Python. Pandas provides an incredibly powerful suite of tools for working with data, with more precision and power than software like Microsoft Excel. If you are studying data science, get to know Pandas as well as you can.\n",
    "\n",
    "![](images/pandaslogo.jpg)"
   ]
  },
  {
   "cell_type": "markdown",
   "id": "187ff865-1083-4c06-800f-131b1fcae6ff",
   "metadata": {},
   "source": [
    "Pandas's most-used class is the DataFrame. DataFrames are specialized container objects that store data in named columns. Column names must be unique, and all columns must be the same length. A DataFrame is like a spreadsheet, but you don't click in cells and type into it; you use functions and methods to manipulate the data it contains.\n",
    "\n",
    "Though individual cells are more difficult to edit in a DataFrame than in an application like Microsoft Excel or Google Sheets, the platform lends itself well to making sweeping edits quickly. This is a huge advantage when you want to clean data or to engineer new features in a dataset.\n",
    "\n",
    "Pandas also has integrated statistical functions, so it's easy to get summary statistics for an entire dataset.\n",
    "\n",
    "Pandas is also capable of [reading data from and writing data to external files](https://pandas.pydata.org/pandas-docs/stable/reference/io.html) in a wide variety of formats, from `.csv` files to `.json` to `.xlsx` (Excel workbooks) and others."
   ]
  },
  {
   "cell_type": "markdown",
   "id": "8d694241-1847-4985-82fa-2d801b23dbb5",
   "metadata": {},
   "source": [
    "Let's begin by making a very simple DataFrame to illustrate how we can work with text data in a tabular format in Pandas."
   ]
  },
  {
   "cell_type": "markdown",
   "id": "0b7a88db-be2e-4760-aa40-2e485675e989",
   "metadata": {},
   "source": [
    "## Coding Exercise - DataFrames from Lists"
   ]
  },
  {
   "cell_type": "code",
   "execution_count": 49,
   "id": "ab1e4056-80e7-4537-b248-c66255b0a905",
   "metadata": {},
   "outputs": [],
   "source": [
    "fruit_list = ['apple', 'banana', 'cherimoya', 'durian']\n",
    "qty_list = [2, 5, 2, 1]\n",
    "\n",
    "#One way to construct a DataFrame is to use a dictionary with column names as keys, lists as values. \n",
    "fruit_df = pd.DataFrame(\n",
    "    {\n",
    "        'fruit':fruit_list,\n",
    "        'qty':qty_list\n",
    "    }\n",
    ")"
   ]
  },
  {
   "cell_type": "code",
   "execution_count": 50,
   "id": "9271d08b-e2ef-41ad-a806-5ea186ee89e0",
   "metadata": {
    "scrolled": true
   },
   "outputs": [
    {
     "data": {
      "text/html": [
       "<div>\n",
       "<style scoped>\n",
       "    .dataframe tbody tr th:only-of-type {\n",
       "        vertical-align: middle;\n",
       "    }\n",
       "\n",
       "    .dataframe tbody tr th {\n",
       "        vertical-align: top;\n",
       "    }\n",
       "\n",
       "    .dataframe thead th {\n",
       "        text-align: right;\n",
       "    }\n",
       "</style>\n",
       "<table border=\"1\" class=\"dataframe\">\n",
       "  <thead>\n",
       "    <tr style=\"text-align: right;\">\n",
       "      <th></th>\n",
       "      <th>fruit</th>\n",
       "      <th>qty</th>\n",
       "    </tr>\n",
       "  </thead>\n",
       "  <tbody>\n",
       "    <tr>\n",
       "      <th>0</th>\n",
       "      <td>apple</td>\n",
       "      <td>2</td>\n",
       "    </tr>\n",
       "    <tr>\n",
       "      <th>1</th>\n",
       "      <td>banana</td>\n",
       "      <td>5</td>\n",
       "    </tr>\n",
       "    <tr>\n",
       "      <th>2</th>\n",
       "      <td>cherimoya</td>\n",
       "      <td>2</td>\n",
       "    </tr>\n",
       "    <tr>\n",
       "      <th>3</th>\n",
       "      <td>durian</td>\n",
       "      <td>1</td>\n",
       "    </tr>\n",
       "  </tbody>\n",
       "</table>\n",
       "</div>"
      ],
      "text/plain": [
       "       fruit  qty\n",
       "0      apple    2\n",
       "1     banana    5\n",
       "2  cherimoya    2\n",
       "3     durian    1"
      ]
     },
     "execution_count": 50,
     "metadata": {},
     "output_type": "execute_result"
    }
   ],
   "source": [
    "fruit_df"
   ]
  },
  {
   "cell_type": "markdown",
   "id": "80268d24-a7cf-4e43-89e5-a06304ad2069",
   "metadata": {},
   "source": [
    "Individual rows can be added to a DataFrame using `.loc[]` and setting the position to the next index after the last existing row."
   ]
  },
  {
   "cell_type": "code",
   "execution_count": 51,
   "id": "1d10d79c-dfd2-462d-8bdb-d394c096295f",
   "metadata": {},
   "outputs": [],
   "source": [
    "fruit_df.loc[len(fruit_df)] = ['elderberry', 34]"
   ]
  },
  {
   "cell_type": "code",
   "execution_count": 52,
   "id": "110ce37a-329c-4737-afac-177d73896fbd",
   "metadata": {},
   "outputs": [
    {
     "data": {
      "text/html": [
       "<div>\n",
       "<style scoped>\n",
       "    .dataframe tbody tr th:only-of-type {\n",
       "        vertical-align: middle;\n",
       "    }\n",
       "\n",
       "    .dataframe tbody tr th {\n",
       "        vertical-align: top;\n",
       "    }\n",
       "\n",
       "    .dataframe thead th {\n",
       "        text-align: right;\n",
       "    }\n",
       "</style>\n",
       "<table border=\"1\" class=\"dataframe\">\n",
       "  <thead>\n",
       "    <tr style=\"text-align: right;\">\n",
       "      <th></th>\n",
       "      <th>fruit</th>\n",
       "      <th>qty</th>\n",
       "    </tr>\n",
       "  </thead>\n",
       "  <tbody>\n",
       "    <tr>\n",
       "      <th>0</th>\n",
       "      <td>apple</td>\n",
       "      <td>2</td>\n",
       "    </tr>\n",
       "    <tr>\n",
       "      <th>1</th>\n",
       "      <td>banana</td>\n",
       "      <td>5</td>\n",
       "    </tr>\n",
       "    <tr>\n",
       "      <th>2</th>\n",
       "      <td>cherimoya</td>\n",
       "      <td>2</td>\n",
       "    </tr>\n",
       "    <tr>\n",
       "      <th>3</th>\n",
       "      <td>durian</td>\n",
       "      <td>1</td>\n",
       "    </tr>\n",
       "    <tr>\n",
       "      <th>4</th>\n",
       "      <td>elderberry</td>\n",
       "      <td>34</td>\n",
       "    </tr>\n",
       "  </tbody>\n",
       "</table>\n",
       "</div>"
      ],
      "text/plain": [
       "        fruit  qty\n",
       "0       apple    2\n",
       "1      banana    5\n",
       "2   cherimoya    2\n",
       "3      durian    1\n",
       "4  elderberry   34"
      ]
     },
     "execution_count": 52,
     "metadata": {},
     "output_type": "execute_result"
    }
   ],
   "source": [
    "fruit_df"
   ]
  },
  {
   "cell_type": "markdown",
   "id": "473484e6-b267-4f52-bf26-90b8eebdbc65",
   "metadata": {},
   "source": [
    "## DataFrames from Nested Dictionaries\n",
    "\n",
    "DataFrames can be constructed in several different ways... we saw lists already, but `pandas` can also transform nested dictionaries into DataFrames. This can be a little more difficult, depending on how the dictionaries are stored.\n",
    "\n",
    "We can do this with the `contacts` dictionary we made earlier... but in order to, we'll have to fix an error in one of the profile dictionaries inside `contacts`.\n",
    "\n",
    "Let's try putting the dictionary into a DataFrame and see what the problem is:"
   ]
  },
  {
   "cell_type": "code",
   "execution_count": 158,
   "id": "dae462ad-029f-4093-af4e-e95aec1eb0a0",
   "metadata": {},
   "outputs": [
    {
     "data": {
      "text/html": [
       "<div>\n",
       "<style scoped>\n",
       "    .dataframe tbody tr th:only-of-type {\n",
       "        vertical-align: middle;\n",
       "    }\n",
       "\n",
       "    .dataframe tbody tr th {\n",
       "        vertical-align: top;\n",
       "    }\n",
       "\n",
       "    .dataframe thead th {\n",
       "        text-align: right;\n",
       "    }\n",
       "</style>\n",
       "<table border=\"1\" class=\"dataframe\">\n",
       "  <thead>\n",
       "    <tr style=\"text-align: right;\">\n",
       "      <th></th>\n",
       "      <th>contact1</th>\n",
       "      <th>contact2</th>\n",
       "    </tr>\n",
       "  </thead>\n",
       "  <tbody>\n",
       "    <tr>\n",
       "      <th>first_name</th>\n",
       "      <td>David</td>\n",
       "      <td>Jeanine</td>\n",
       "    </tr>\n",
       "    <tr>\n",
       "      <th>last_name</th>\n",
       "      <td>Merten-Jones</td>\n",
       "      <td>Finn</td>\n",
       "    </tr>\n",
       "    <tr>\n",
       "      <th>institution</th>\n",
       "      <td>The Claremont Colleges Library</td>\n",
       "      <td>The Claremont Colleges Library</td>\n",
       "    </tr>\n",
       "    <tr>\n",
       "      <th>occupation</th>\n",
       "      <td>Data Services Specialist</td>\n",
       "      <td>Head of Data and Digital Scholarship Services</td>\n",
       "    </tr>\n",
       "    <tr>\n",
       "      <th>email address</th>\n",
       "      <td>david.merten-jones@claremont.edu</td>\n",
       "      <td>NaN</td>\n",
       "    </tr>\n",
       "    <tr>\n",
       "      <th>email_address</th>\n",
       "      <td>NaN</td>\n",
       "      <td>jeanine.finn@claremont.edu</td>\n",
       "    </tr>\n",
       "  </tbody>\n",
       "</table>\n",
       "</div>"
      ],
      "text/plain": [
       "                                       contact1  \\\n",
       "first_name                                David   \n",
       "last_name                          Merten-Jones   \n",
       "institution      The Claremont Colleges Library   \n",
       "occupation             Data Services Specialist   \n",
       "email address  david.merten-jones@claremont.edu   \n",
       "email_address                               NaN   \n",
       "\n",
       "                                                    contact2  \n",
       "first_name                                           Jeanine  \n",
       "last_name                                               Finn  \n",
       "institution                   The Claremont Colleges Library  \n",
       "occupation     Head of Data and Digital Scholarship Services  \n",
       "email address                                            NaN  \n",
       "email_address                     jeanine.finn@claremont.edu  "
      ]
     },
     "execution_count": 158,
     "metadata": {},
     "output_type": "execute_result"
    }
   ],
   "source": [
    "df_contacts = pd.DataFrame(contacts)\n",
    "df_contacts"
   ]
  },
  {
   "cell_type": "markdown",
   "id": "262b8d59-7655-4559-b6cd-f54c51444063",
   "metadata": {},
   "source": [
    "Oh no! The contacts dictionary contains two profile dictionaries with mismatched key names. One of them has an underscore in the key \"email_address\" and the other has a space. This results in there being extra cells in the DataFrame, each with a `NaN` (\"Not a Number\"), Python's default `null` value.\n",
    "\n",
    "Let's correct the issue in place and then reconstruct the DataFrame.\n",
    "\n",
    "As we saw earlier with lists, `.pop()` can be used to remove a key:value pair from a dictionary. We can then set a new key:value pair using the data removed using `.pop()`."
   ]
  },
  {
   "cell_type": "code",
   "execution_count": 54,
   "id": "795f690d-8f3a-4cbd-956d-2cc68e08ec39",
   "metadata": {},
   "outputs": [],
   "source": [
    "\n",
    "\n",
    "contacts['contact1']['email_address'] = contacts['contact1'].pop('email address')"
   ]
  },
  {
   "cell_type": "code",
   "execution_count": 55,
   "id": "6901b766-ff79-455a-a4ba-b1fea40d0be4",
   "metadata": {},
   "outputs": [
    {
     "data": {
      "text/plain": [
       "{'contact1': {'first_name': 'David',\n",
       "  'last_name': 'Merten-Jones',\n",
       "  'institution': 'The Claremont Colleges Library',\n",
       "  'occupation': 'Data Services Specialist',\n",
       "  'email_address': 'david.merten-jones@claremont.edu'},\n",
       " 'contact2': {'first_name': 'Jeanine',\n",
       "  'last_name': 'Finn',\n",
       "  'institution': 'The Claremont Colleges Library',\n",
       "  'occupation': 'Head of Data and Digital Scholarship Services',\n",
       "  'email_address': 'jeanine.finn@claremont.edu'}}"
      ]
     },
     "execution_count": 55,
     "metadata": {},
     "output_type": "execute_result"
    }
   ],
   "source": [
    "contacts"
   ]
  },
  {
   "cell_type": "code",
   "execution_count": 56,
   "id": "b149f0ad-7f39-4eb4-bf10-7f73fd852d88",
   "metadata": {
    "scrolled": true
   },
   "outputs": [
    {
     "data": {
      "text/html": [
       "<div>\n",
       "<style scoped>\n",
       "    .dataframe tbody tr th:only-of-type {\n",
       "        vertical-align: middle;\n",
       "    }\n",
       "\n",
       "    .dataframe tbody tr th {\n",
       "        vertical-align: top;\n",
       "    }\n",
       "\n",
       "    .dataframe thead th {\n",
       "        text-align: right;\n",
       "    }\n",
       "</style>\n",
       "<table border=\"1\" class=\"dataframe\">\n",
       "  <thead>\n",
       "    <tr style=\"text-align: right;\">\n",
       "      <th></th>\n",
       "      <th>contact1</th>\n",
       "      <th>contact2</th>\n",
       "    </tr>\n",
       "  </thead>\n",
       "  <tbody>\n",
       "    <tr>\n",
       "      <th>first_name</th>\n",
       "      <td>David</td>\n",
       "      <td>Jeanine</td>\n",
       "    </tr>\n",
       "    <tr>\n",
       "      <th>last_name</th>\n",
       "      <td>Merten-Jones</td>\n",
       "      <td>Finn</td>\n",
       "    </tr>\n",
       "    <tr>\n",
       "      <th>institution</th>\n",
       "      <td>The Claremont Colleges Library</td>\n",
       "      <td>The Claremont Colleges Library</td>\n",
       "    </tr>\n",
       "    <tr>\n",
       "      <th>occupation</th>\n",
       "      <td>Data Services Specialist</td>\n",
       "      <td>Head of Data and Digital Scholarship Services</td>\n",
       "    </tr>\n",
       "    <tr>\n",
       "      <th>email_address</th>\n",
       "      <td>david.merten-jones@claremont.edu</td>\n",
       "      <td>jeanine.finn@claremont.edu</td>\n",
       "    </tr>\n",
       "  </tbody>\n",
       "</table>\n",
       "</div>"
      ],
      "text/plain": [
       "                                       contact1  \\\n",
       "first_name                                David   \n",
       "last_name                          Merten-Jones   \n",
       "institution      The Claremont Colleges Library   \n",
       "occupation             Data Services Specialist   \n",
       "email_address  david.merten-jones@claremont.edu   \n",
       "\n",
       "                                                    contact2  \n",
       "first_name                                           Jeanine  \n",
       "last_name                                               Finn  \n",
       "institution                   The Claremont Colleges Library  \n",
       "occupation     Head of Data and Digital Scholarship Services  \n",
       "email_address                     jeanine.finn@claremont.edu  "
      ]
     },
     "execution_count": 56,
     "metadata": {},
     "output_type": "execute_result"
    }
   ],
   "source": [
    "df_contacts = pd.DataFrame(contacts)\n",
    "df_contacts"
   ]
  },
  {
   "cell_type": "markdown",
   "id": "f6ef5252-a9d8-4c36-9355-0a66451be2be",
   "metadata": {},
   "source": [
    "The data is all there, but it's in the wrong orientation - we want rows for contacts, columns for data categories.\n",
    "\n",
    "We can transpose the axes by using `.T` at the end of the DataFrame."
   ]
  },
  {
   "cell_type": "code",
   "execution_count": 57,
   "id": "51f8fb67-9bf7-47e2-8655-4e2669f9180f",
   "metadata": {},
   "outputs": [
    {
     "data": {
      "text/html": [
       "<div>\n",
       "<style scoped>\n",
       "    .dataframe tbody tr th:only-of-type {\n",
       "        vertical-align: middle;\n",
       "    }\n",
       "\n",
       "    .dataframe tbody tr th {\n",
       "        vertical-align: top;\n",
       "    }\n",
       "\n",
       "    .dataframe thead th {\n",
       "        text-align: right;\n",
       "    }\n",
       "</style>\n",
       "<table border=\"1\" class=\"dataframe\">\n",
       "  <thead>\n",
       "    <tr style=\"text-align: right;\">\n",
       "      <th></th>\n",
       "      <th>first_name</th>\n",
       "      <th>last_name</th>\n",
       "      <th>institution</th>\n",
       "      <th>occupation</th>\n",
       "      <th>email_address</th>\n",
       "    </tr>\n",
       "  </thead>\n",
       "  <tbody>\n",
       "    <tr>\n",
       "      <th>contact1</th>\n",
       "      <td>David</td>\n",
       "      <td>Merten-Jones</td>\n",
       "      <td>The Claremont Colleges Library</td>\n",
       "      <td>Data Services Specialist</td>\n",
       "      <td>david.merten-jones@claremont.edu</td>\n",
       "    </tr>\n",
       "    <tr>\n",
       "      <th>contact2</th>\n",
       "      <td>Jeanine</td>\n",
       "      <td>Finn</td>\n",
       "      <td>The Claremont Colleges Library</td>\n",
       "      <td>Head of Data and Digital Scholarship Services</td>\n",
       "      <td>jeanine.finn@claremont.edu</td>\n",
       "    </tr>\n",
       "  </tbody>\n",
       "</table>\n",
       "</div>"
      ],
      "text/plain": [
       "         first_name     last_name                     institution  \\\n",
       "contact1      David  Merten-Jones  The Claremont Colleges Library   \n",
       "contact2    Jeanine          Finn  The Claremont Colleges Library   \n",
       "\n",
       "                                             occupation  \\\n",
       "contact1                       Data Services Specialist   \n",
       "contact2  Head of Data and Digital Scholarship Services   \n",
       "\n",
       "                             email_address  \n",
       "contact1  david.merten-jones@claremont.edu  \n",
       "contact2        jeanine.finn@claremont.edu  "
      ]
     },
     "execution_count": 57,
     "metadata": {},
     "output_type": "execute_result"
    }
   ],
   "source": [
    "df_contacts = df_contacts.T\n",
    "df_contacts"
   ]
  },
  {
   "cell_type": "markdown",
   "id": "e35f531c-d136-4971-8140-8a86f19b8659",
   "metadata": {},
   "source": [
    "## Making a New Column in a DataFrame\n",
    "\n",
    "The syntax for generating a new column in a `pandas` DataFrame is very similar to creating a new key:value pair in a dictionary. You can use the contents of other columns in the DataFrame to generate a new column. In this case, if we want to combine first and last names into one column, we can use the \"+\" operator (and throw in an extra \" \" so the words aren't right next to each other)."
   ]
  },
  {
   "cell_type": "code",
   "execution_count": 58,
   "id": "a1af253d-2a5f-4799-951a-5c42645dc26e",
   "metadata": {},
   "outputs": [
    {
     "data": {
      "text/html": [
       "<div>\n",
       "<style scoped>\n",
       "    .dataframe tbody tr th:only-of-type {\n",
       "        vertical-align: middle;\n",
       "    }\n",
       "\n",
       "    .dataframe tbody tr th {\n",
       "        vertical-align: top;\n",
       "    }\n",
       "\n",
       "    .dataframe thead th {\n",
       "        text-align: right;\n",
       "    }\n",
       "</style>\n",
       "<table border=\"1\" class=\"dataframe\">\n",
       "  <thead>\n",
       "    <tr style=\"text-align: right;\">\n",
       "      <th></th>\n",
       "      <th>first_name</th>\n",
       "      <th>last_name</th>\n",
       "      <th>institution</th>\n",
       "      <th>occupation</th>\n",
       "      <th>email_address</th>\n",
       "      <th>full_name</th>\n",
       "    </tr>\n",
       "  </thead>\n",
       "  <tbody>\n",
       "    <tr>\n",
       "      <th>contact1</th>\n",
       "      <td>David</td>\n",
       "      <td>Merten-Jones</td>\n",
       "      <td>The Claremont Colleges Library</td>\n",
       "      <td>Data Services Specialist</td>\n",
       "      <td>david.merten-jones@claremont.edu</td>\n",
       "      <td>David Merten-Jones</td>\n",
       "    </tr>\n",
       "    <tr>\n",
       "      <th>contact2</th>\n",
       "      <td>Jeanine</td>\n",
       "      <td>Finn</td>\n",
       "      <td>The Claremont Colleges Library</td>\n",
       "      <td>Head of Data and Digital Scholarship Services</td>\n",
       "      <td>jeanine.finn@claremont.edu</td>\n",
       "      <td>Jeanine Finn</td>\n",
       "    </tr>\n",
       "  </tbody>\n",
       "</table>\n",
       "</div>"
      ],
      "text/plain": [
       "         first_name     last_name                     institution  \\\n",
       "contact1      David  Merten-Jones  The Claremont Colleges Library   \n",
       "contact2    Jeanine          Finn  The Claremont Colleges Library   \n",
       "\n",
       "                                             occupation  \\\n",
       "contact1                       Data Services Specialist   \n",
       "contact2  Head of Data and Digital Scholarship Services   \n",
       "\n",
       "                             email_address           full_name  \n",
       "contact1  david.merten-jones@claremont.edu  David Merten-Jones  \n",
       "contact2        jeanine.finn@claremont.edu        Jeanine Finn  "
      ]
     },
     "execution_count": 58,
     "metadata": {},
     "output_type": "execute_result"
    }
   ],
   "source": [
    "df_contacts['full_name'] = df_contacts['first_name'] + ' ' + df_contacts['last_name']\n",
    "\n",
    "df_contacts"
   ]
  },
  {
   "cell_type": "markdown",
   "id": "55038c3e-750e-4804-b428-d86f864436a7",
   "metadata": {},
   "source": [
    "## Coding Exercise - DataFrames from Lists"
   ]
  },
  {
   "cell_type": "code",
   "execution_count": 59,
   "id": "db4221b1-9587-496f-8030-a999fccb0552",
   "metadata": {},
   "outputs": [],
   "source": [
    "################################################################################\n",
    "################################################################################\n",
    "\n",
    "# Below are three lists, each of which have ten elements. The first list\n",
    "# contains the names of the 10 most populous cities in California. The second\n",
    "# list contains their populations. The third list contains their respective\n",
    "# counties.\n",
    "\n",
    "# We have used `pd.DataFrame()` to construct a DataFrame, and added a column\n",
    "# for \"city\"\n",
    "\n",
    "# Population estimates (2024) from: https://en.wikipedia.org/wiki/List_of_largest_cities_in_California_by_population\n",
    "# Area (sq miles) from: https://en.wikipedia.org/wiki/List_of_municipalities_in_California\n",
    "\n",
    "cities = [\n",
    "    'Los Angeles', 'San Diego', 'San Jose', 'San Francisco', 'Fresno',\n",
    "    'Sacramento', 'Long Beach', 'Oakland', 'Bakersfield', 'Anaheim'\n",
    "]\n",
    "\n",
    "population_est_2024 = [\n",
    "    3878704, 1404452, 997368, 827526, 550105,\n",
    "    535798, 450901, 443554, 417468, 344561\n",
    "]\n",
    "\n",
    "counties = [\n",
    "    'Los Angeles County', 'San Diego County', 'Santa Clara County',\n",
    "    'San Francisco County', 'Fresno County', 'Sacramento County',\n",
    "    'Los Angeles County', 'Alameda County', 'Kern County', 'Orange County']\n",
    "\n",
    "area_sq_miles = [\n",
    "    469.49, 325.88, 178.26, 46.91, 115.18,\n",
    "    98.61, 50.71, 55.93, 149.78, 50.27\n",
    "]\n",
    "\n",
    "df_cal = pd.DataFrame()\n",
    "\n",
    "df_cal['city'] = cities\n",
    "\n",
    "# Fill in the blanks to make DataFrame columns for the remaining two lists:\n",
    "\n",
    "df_cal['pop'] = population_est_2024\n",
    "df_cal['county'] = counties\n",
    "df_cal['area_sq_miles'] = area_sq_miles\n",
    "\n",
    "# Run this cell by pressing `shift-enter`\n",
    "\n",
    "################################################################################\n",
    "################################################################################"
   ]
  },
  {
   "cell_type": "code",
   "execution_count": 60,
   "id": "f2d503df-d9e0-40e8-a3a0-12bd4564c642",
   "metadata": {},
   "outputs": [
    {
     "data": {
      "text/html": [
       "<div>\n",
       "<style scoped>\n",
       "    .dataframe tbody tr th:only-of-type {\n",
       "        vertical-align: middle;\n",
       "    }\n",
       "\n",
       "    .dataframe tbody tr th {\n",
       "        vertical-align: top;\n",
       "    }\n",
       "\n",
       "    .dataframe thead th {\n",
       "        text-align: right;\n",
       "    }\n",
       "</style>\n",
       "<table border=\"1\" class=\"dataframe\">\n",
       "  <thead>\n",
       "    <tr style=\"text-align: right;\">\n",
       "      <th></th>\n",
       "      <th>city</th>\n",
       "      <th>pop</th>\n",
       "      <th>county</th>\n",
       "      <th>area_sq_miles</th>\n",
       "    </tr>\n",
       "  </thead>\n",
       "  <tbody>\n",
       "    <tr>\n",
       "      <th>0</th>\n",
       "      <td>Los Angeles</td>\n",
       "      <td>3878704</td>\n",
       "      <td>Los Angeles County</td>\n",
       "      <td>469.49</td>\n",
       "    </tr>\n",
       "    <tr>\n",
       "      <th>1</th>\n",
       "      <td>San Diego</td>\n",
       "      <td>1404452</td>\n",
       "      <td>San Diego County</td>\n",
       "      <td>325.88</td>\n",
       "    </tr>\n",
       "    <tr>\n",
       "      <th>2</th>\n",
       "      <td>San Jose</td>\n",
       "      <td>997368</td>\n",
       "      <td>Santa Clara County</td>\n",
       "      <td>178.26</td>\n",
       "    </tr>\n",
       "    <tr>\n",
       "      <th>3</th>\n",
       "      <td>San Francisco</td>\n",
       "      <td>827526</td>\n",
       "      <td>San Francisco County</td>\n",
       "      <td>46.91</td>\n",
       "    </tr>\n",
       "    <tr>\n",
       "      <th>4</th>\n",
       "      <td>Fresno</td>\n",
       "      <td>550105</td>\n",
       "      <td>Fresno County</td>\n",
       "      <td>115.18</td>\n",
       "    </tr>\n",
       "    <tr>\n",
       "      <th>5</th>\n",
       "      <td>Sacramento</td>\n",
       "      <td>535798</td>\n",
       "      <td>Sacramento County</td>\n",
       "      <td>98.61</td>\n",
       "    </tr>\n",
       "    <tr>\n",
       "      <th>6</th>\n",
       "      <td>Long Beach</td>\n",
       "      <td>450901</td>\n",
       "      <td>Los Angeles County</td>\n",
       "      <td>50.71</td>\n",
       "    </tr>\n",
       "    <tr>\n",
       "      <th>7</th>\n",
       "      <td>Oakland</td>\n",
       "      <td>443554</td>\n",
       "      <td>Alameda County</td>\n",
       "      <td>55.93</td>\n",
       "    </tr>\n",
       "    <tr>\n",
       "      <th>8</th>\n",
       "      <td>Bakersfield</td>\n",
       "      <td>417468</td>\n",
       "      <td>Kern County</td>\n",
       "      <td>149.78</td>\n",
       "    </tr>\n",
       "    <tr>\n",
       "      <th>9</th>\n",
       "      <td>Anaheim</td>\n",
       "      <td>344561</td>\n",
       "      <td>Orange County</td>\n",
       "      <td>50.27</td>\n",
       "    </tr>\n",
       "  </tbody>\n",
       "</table>\n",
       "</div>"
      ],
      "text/plain": [
       "            city      pop                county  area_sq_miles\n",
       "0    Los Angeles  3878704    Los Angeles County         469.49\n",
       "1      San Diego  1404452      San Diego County         325.88\n",
       "2       San Jose   997368    Santa Clara County         178.26\n",
       "3  San Francisco   827526  San Francisco County          46.91\n",
       "4         Fresno   550105         Fresno County         115.18\n",
       "5     Sacramento   535798     Sacramento County          98.61\n",
       "6     Long Beach   450901    Los Angeles County          50.71\n",
       "7        Oakland   443554        Alameda County          55.93\n",
       "8    Bakersfield   417468           Kern County         149.78\n",
       "9        Anaheim   344561         Orange County          50.27"
      ]
     },
     "execution_count": 60,
     "metadata": {},
     "output_type": "execute_result"
    }
   ],
   "source": [
    "df_cal"
   ]
  },
  {
   "cell_type": "code",
   "execution_count": 61,
   "id": "824ba58a-89f4-403e-b6f6-cf8d1a6a3a2c",
   "metadata": {},
   "outputs": [],
   "source": [
    "df_cal['pop_dens'] = df_cal['pop'] / df_cal['area_sq_miles']"
   ]
  },
  {
   "cell_type": "code",
   "execution_count": 62,
   "id": "e843257f-182e-4e2b-a0b2-661521654cfb",
   "metadata": {},
   "outputs": [
    {
     "data": {
      "text/html": [
       "<div>\n",
       "<style scoped>\n",
       "    .dataframe tbody tr th:only-of-type {\n",
       "        vertical-align: middle;\n",
       "    }\n",
       "\n",
       "    .dataframe tbody tr th {\n",
       "        vertical-align: top;\n",
       "    }\n",
       "\n",
       "    .dataframe thead th {\n",
       "        text-align: right;\n",
       "    }\n",
       "</style>\n",
       "<table border=\"1\" class=\"dataframe\">\n",
       "  <thead>\n",
       "    <tr style=\"text-align: right;\">\n",
       "      <th></th>\n",
       "      <th>city</th>\n",
       "      <th>pop</th>\n",
       "      <th>county</th>\n",
       "      <th>area_sq_miles</th>\n",
       "      <th>pop_dens</th>\n",
       "    </tr>\n",
       "  </thead>\n",
       "  <tbody>\n",
       "    <tr>\n",
       "      <th>0</th>\n",
       "      <td>Los Angeles</td>\n",
       "      <td>3878704</td>\n",
       "      <td>Los Angeles County</td>\n",
       "      <td>469.49</td>\n",
       "      <td>8261.526337</td>\n",
       "    </tr>\n",
       "    <tr>\n",
       "      <th>1</th>\n",
       "      <td>San Diego</td>\n",
       "      <td>1404452</td>\n",
       "      <td>San Diego County</td>\n",
       "      <td>325.88</td>\n",
       "      <td>4309.721370</td>\n",
       "    </tr>\n",
       "    <tr>\n",
       "      <th>2</th>\n",
       "      <td>San Jose</td>\n",
       "      <td>997368</td>\n",
       "      <td>Santa Clara County</td>\n",
       "      <td>178.26</td>\n",
       "      <td>5595.018512</td>\n",
       "    </tr>\n",
       "    <tr>\n",
       "      <th>3</th>\n",
       "      <td>San Francisco</td>\n",
       "      <td>827526</td>\n",
       "      <td>San Francisco County</td>\n",
       "      <td>46.91</td>\n",
       "      <td>17640.716265</td>\n",
       "    </tr>\n",
       "    <tr>\n",
       "      <th>4</th>\n",
       "      <td>Fresno</td>\n",
       "      <td>550105</td>\n",
       "      <td>Fresno County</td>\n",
       "      <td>115.18</td>\n",
       "      <td>4776.046189</td>\n",
       "    </tr>\n",
       "    <tr>\n",
       "      <th>5</th>\n",
       "      <td>Sacramento</td>\n",
       "      <td>535798</td>\n",
       "      <td>Sacramento County</td>\n",
       "      <td>98.61</td>\n",
       "      <td>5433.505730</td>\n",
       "    </tr>\n",
       "    <tr>\n",
       "      <th>6</th>\n",
       "      <td>Long Beach</td>\n",
       "      <td>450901</td>\n",
       "      <td>Los Angeles County</td>\n",
       "      <td>50.71</td>\n",
       "      <td>8891.757050</td>\n",
       "    </tr>\n",
       "    <tr>\n",
       "      <th>7</th>\n",
       "      <td>Oakland</td>\n",
       "      <td>443554</td>\n",
       "      <td>Alameda County</td>\n",
       "      <td>55.93</td>\n",
       "      <td>7930.520293</td>\n",
       "    </tr>\n",
       "    <tr>\n",
       "      <th>8</th>\n",
       "      <td>Bakersfield</td>\n",
       "      <td>417468</td>\n",
       "      <td>Kern County</td>\n",
       "      <td>149.78</td>\n",
       "      <td>2787.207905</td>\n",
       "    </tr>\n",
       "    <tr>\n",
       "      <th>9</th>\n",
       "      <td>Anaheim</td>\n",
       "      <td>344561</td>\n",
       "      <td>Orange County</td>\n",
       "      <td>50.27</td>\n",
       "      <td>6854.207281</td>\n",
       "    </tr>\n",
       "  </tbody>\n",
       "</table>\n",
       "</div>"
      ],
      "text/plain": [
       "            city      pop                county  area_sq_miles      pop_dens\n",
       "0    Los Angeles  3878704    Los Angeles County         469.49   8261.526337\n",
       "1      San Diego  1404452      San Diego County         325.88   4309.721370\n",
       "2       San Jose   997368    Santa Clara County         178.26   5595.018512\n",
       "3  San Francisco   827526  San Francisco County          46.91  17640.716265\n",
       "4         Fresno   550105         Fresno County         115.18   4776.046189\n",
       "5     Sacramento   535798     Sacramento County          98.61   5433.505730\n",
       "6     Long Beach   450901    Los Angeles County          50.71   8891.757050\n",
       "7        Oakland   443554        Alameda County          55.93   7930.520293\n",
       "8    Bakersfield   417468           Kern County         149.78   2787.207905\n",
       "9        Anaheim   344561         Orange County          50.27   6854.207281"
      ]
     },
     "execution_count": 62,
     "metadata": {},
     "output_type": "execute_result"
    }
   ],
   "source": [
    "df_cal"
   ]
  },
  {
   "cell_type": "markdown",
   "id": "d217d2d8-0d12-4a51-adb3-c3e46f5b096a",
   "metadata": {},
   "source": [
    "## Filtering Rows in Pandas\n",
    "\n",
    "If you've used Microsoft Excel, Google Sheets, or other spreadsheet applications, you may have had to apply a filter to isolate a subset of records on a sheet. Pandas also has that capability, but you don't use a dropdown menu to do it - you write the filter in a line of code instead.\n",
    "\n",
    "If we want to look only at rows that match a certain condition in a DataFrame, we can make use of Boolean comparison operators, `==`, `!=`, `>=`, `<=`, `>`, *and* `<`. These can be used to create a Pandas `Series` object that contains Boolean values for each item in a column."
   ]
  },
  {
   "cell_type": "code",
   "execution_count": 63,
   "id": "46d32e41-dbf2-4502-b113-c0a57ee023d2",
   "metadata": {},
   "outputs": [
    {
     "data": {
      "text/plain": [
       "0     True\n",
       "1    False\n",
       "2    False\n",
       "3    False\n",
       "4    False\n",
       "5    False\n",
       "6     True\n",
       "7    False\n",
       "8    False\n",
       "9    False\n",
       "Name: county, dtype: bool"
      ]
     },
     "execution_count": 63,
     "metadata": {},
     "output_type": "execute_result"
    }
   ],
   "source": [
    "df_cal['county'] == 'Los Angeles County'"
   ]
  },
  {
   "cell_type": "code",
   "execution_count": 64,
   "id": "3f7525f7-e75e-4112-b28c-50e227bc32c1",
   "metadata": {
    "scrolled": true
   },
   "outputs": [
    {
     "data": {
      "text/plain": [
       "0     True\n",
       "1     True\n",
       "2     True\n",
       "3     True\n",
       "4     True\n",
       "5    False\n",
       "6    False\n",
       "7    False\n",
       "8    False\n",
       "9    False\n",
       "Name: pop, dtype: bool"
      ]
     },
     "execution_count": 64,
     "metadata": {},
     "output_type": "execute_result"
    }
   ],
   "source": [
    "df_cal['pop'] >= 550000"
   ]
  },
  {
   "cell_type": "markdown",
   "id": "85423669-c6ba-4adb-a8ef-c64a0142e967",
   "metadata": {},
   "source": [
    "We can then use that Series to filter out rows that have a `False` value. If we want to look at the rows of `df_cal` where \"population\" is over 550000, we can apply a filter by placing that Series object inside square brackets after the name of the DataFrame.\n",
    "\n",
    "This may look a little weird with the name of the DataFrame showing twice, but it makes sense if you read it as \"show only the rows of the dataframe where the values in the dataframe's population column are equal to 2\".\n",
    "\n",
    "You can also apply multiple conditions when filtering rows... for this, you need to put parentheses around each condition, and join them with either a `&` for \"and\" or a `|` for \"or\"."
   ]
  },
  {
   "cell_type": "code",
   "execution_count": 65,
   "id": "c9775e17-b136-4c2a-adfc-385d83537c8d",
   "metadata": {},
   "outputs": [
    {
     "data": {
      "text/html": [
       "<div>\n",
       "<style scoped>\n",
       "    .dataframe tbody tr th:only-of-type {\n",
       "        vertical-align: middle;\n",
       "    }\n",
       "\n",
       "    .dataframe tbody tr th {\n",
       "        vertical-align: top;\n",
       "    }\n",
       "\n",
       "    .dataframe thead th {\n",
       "        text-align: right;\n",
       "    }\n",
       "</style>\n",
       "<table border=\"1\" class=\"dataframe\">\n",
       "  <thead>\n",
       "    <tr style=\"text-align: right;\">\n",
       "      <th></th>\n",
       "      <th>city</th>\n",
       "      <th>pop</th>\n",
       "      <th>county</th>\n",
       "      <th>area_sq_miles</th>\n",
       "      <th>pop_dens</th>\n",
       "    </tr>\n",
       "  </thead>\n",
       "  <tbody>\n",
       "    <tr>\n",
       "      <th>0</th>\n",
       "      <td>Los Angeles</td>\n",
       "      <td>3878704</td>\n",
       "      <td>Los Angeles County</td>\n",
       "      <td>469.49</td>\n",
       "      <td>8261.526337</td>\n",
       "    </tr>\n",
       "  </tbody>\n",
       "</table>\n",
       "</div>"
      ],
      "text/plain": [
       "          city      pop              county  area_sq_miles     pop_dens\n",
       "0  Los Angeles  3878704  Los Angeles County         469.49  8261.526337"
      ]
     },
     "execution_count": 65,
     "metadata": {},
     "output_type": "execute_result"
    }
   ],
   "source": [
    "df_cal[(df_cal['county'] == 'Los Angeles County') & (df_cal['pop'] >= 550000)]"
   ]
  },
  {
   "cell_type": "code",
   "execution_count": 66,
   "id": "4daadd5f-dcc3-4c88-86f7-d51dfb100a36",
   "metadata": {},
   "outputs": [
    {
     "data": {
      "text/html": [
       "<div>\n",
       "<style scoped>\n",
       "    .dataframe tbody tr th:only-of-type {\n",
       "        vertical-align: middle;\n",
       "    }\n",
       "\n",
       "    .dataframe tbody tr th {\n",
       "        vertical-align: top;\n",
       "    }\n",
       "\n",
       "    .dataframe thead th {\n",
       "        text-align: right;\n",
       "    }\n",
       "</style>\n",
       "<table border=\"1\" class=\"dataframe\">\n",
       "  <thead>\n",
       "    <tr style=\"text-align: right;\">\n",
       "      <th></th>\n",
       "      <th>city</th>\n",
       "      <th>pop</th>\n",
       "      <th>county</th>\n",
       "      <th>area_sq_miles</th>\n",
       "      <th>pop_dens</th>\n",
       "    </tr>\n",
       "  </thead>\n",
       "  <tbody>\n",
       "    <tr>\n",
       "      <th>6</th>\n",
       "      <td>Long Beach</td>\n",
       "      <td>450901</td>\n",
       "      <td>Los Angeles County</td>\n",
       "      <td>50.71</td>\n",
       "      <td>8891.757050</td>\n",
       "    </tr>\n",
       "    <tr>\n",
       "      <th>7</th>\n",
       "      <td>Oakland</td>\n",
       "      <td>443554</td>\n",
       "      <td>Alameda County</td>\n",
       "      <td>55.93</td>\n",
       "      <td>7930.520293</td>\n",
       "    </tr>\n",
       "  </tbody>\n",
       "</table>\n",
       "</div>"
      ],
      "text/plain": [
       "         city     pop              county  area_sq_miles     pop_dens\n",
       "6  Long Beach  450901  Los Angeles County          50.71  8891.757050\n",
       "7     Oakland  443554      Alameda County          55.93  7930.520293"
      ]
     },
     "execution_count": 66,
     "metadata": {},
     "output_type": "execute_result"
    }
   ],
   "source": [
    "df_cal[(df_cal['pop'] < 550000) & (df_cal['pop_dens'] >= 7000)]"
   ]
  },
  {
   "cell_type": "markdown",
   "id": "79a56774-11ef-48bb-b58e-10e5973315b2",
   "metadata": {},
   "source": [
    "You can also assign the Series objects to variables, and filter on those. This makes the operation more modular, in case you need to run it multiple times with different conditions."
   ]
  },
  {
   "cell_type": "code",
   "execution_count": 67,
   "id": "81d1b550-e1ce-4e37-9179-ea113e622d88",
   "metadata": {},
   "outputs": [
    {
     "data": {
      "text/html": [
       "<div>\n",
       "<style scoped>\n",
       "    .dataframe tbody tr th:only-of-type {\n",
       "        vertical-align: middle;\n",
       "    }\n",
       "\n",
       "    .dataframe tbody tr th {\n",
       "        vertical-align: top;\n",
       "    }\n",
       "\n",
       "    .dataframe thead th {\n",
       "        text-align: right;\n",
       "    }\n",
       "</style>\n",
       "<table border=\"1\" class=\"dataframe\">\n",
       "  <thead>\n",
       "    <tr style=\"text-align: right;\">\n",
       "      <th></th>\n",
       "      <th>city</th>\n",
       "      <th>pop</th>\n",
       "      <th>county</th>\n",
       "      <th>area_sq_miles</th>\n",
       "      <th>pop_dens</th>\n",
       "    </tr>\n",
       "  </thead>\n",
       "  <tbody>\n",
       "    <tr>\n",
       "      <th>6</th>\n",
       "      <td>Long Beach</td>\n",
       "      <td>450901</td>\n",
       "      <td>Los Angeles County</td>\n",
       "      <td>50.71</td>\n",
       "      <td>8891.757050</td>\n",
       "    </tr>\n",
       "    <tr>\n",
       "      <th>7</th>\n",
       "      <td>Oakland</td>\n",
       "      <td>443554</td>\n",
       "      <td>Alameda County</td>\n",
       "      <td>55.93</td>\n",
       "      <td>7930.520293</td>\n",
       "    </tr>\n",
       "  </tbody>\n",
       "</table>\n",
       "</div>"
      ],
      "text/plain": [
       "         city     pop              county  area_sq_miles     pop_dens\n",
       "6  Long Beach  450901  Los Angeles County          50.71  8891.757050\n",
       "7     Oakland  443554      Alameda County          55.93  7930.520293"
      ]
     },
     "execution_count": 67,
     "metadata": {},
     "output_type": "execute_result"
    }
   ],
   "source": [
    "condition1 = df_cal['pop'] < 550000\n",
    "condition2 = df_cal['pop_dens'] >= 7000\n",
    "\n",
    "df_cal[condition1 & condition2]"
   ]
  },
  {
   "cell_type": "markdown",
   "id": "e79c302d-9dd9-466b-b072-1caab8297843",
   "metadata": {},
   "source": [
    "### `.query()`\n",
    "\n",
    "Lastly, one of the most powerful, oft-overlooked tools for filtering data in `pandas` is the DataFrame's `.query()` method.\n",
    "\n",
    "***Note: if you are first-time `pandas` user, `.query()` can be a little overwhelming, and using Series objects to filter (e.g.: `df[df[column] == value]`) may be easier to work with.***\n",
    "\n",
    "Filtering with Series objects is very reliable, but can be clunky and space-inefficient.\n",
    "\n",
    "Using `.query()` requires that you know a little more about syntax, but you can produce concise filters very quickly with it.\n",
    "\n",
    "To get the same result as our last filter on `pop` and `pop_dens`, you can write the following query, as a single string:"
   ]
  },
  {
   "cell_type": "code",
   "execution_count": 68,
   "id": "b357fc08-af0b-4d3d-817f-df841de92b83",
   "metadata": {},
   "outputs": [
    {
     "data": {
      "text/html": [
       "<div>\n",
       "<style scoped>\n",
       "    .dataframe tbody tr th:only-of-type {\n",
       "        vertical-align: middle;\n",
       "    }\n",
       "\n",
       "    .dataframe tbody tr th {\n",
       "        vertical-align: top;\n",
       "    }\n",
       "\n",
       "    .dataframe thead th {\n",
       "        text-align: right;\n",
       "    }\n",
       "</style>\n",
       "<table border=\"1\" class=\"dataframe\">\n",
       "  <thead>\n",
       "    <tr style=\"text-align: right;\">\n",
       "      <th></th>\n",
       "      <th>city</th>\n",
       "      <th>pop</th>\n",
       "      <th>county</th>\n",
       "      <th>area_sq_miles</th>\n",
       "      <th>pop_dens</th>\n",
       "    </tr>\n",
       "  </thead>\n",
       "  <tbody>\n",
       "    <tr>\n",
       "      <th>6</th>\n",
       "      <td>Long Beach</td>\n",
       "      <td>450901</td>\n",
       "      <td>Los Angeles County</td>\n",
       "      <td>50.71</td>\n",
       "      <td>8891.757050</td>\n",
       "    </tr>\n",
       "    <tr>\n",
       "      <th>7</th>\n",
       "      <td>Oakland</td>\n",
       "      <td>443554</td>\n",
       "      <td>Alameda County</td>\n",
       "      <td>55.93</td>\n",
       "      <td>7930.520293</td>\n",
       "    </tr>\n",
       "  </tbody>\n",
       "</table>\n",
       "</div>"
      ],
      "text/plain": [
       "         city     pop              county  area_sq_miles     pop_dens\n",
       "6  Long Beach  450901  Los Angeles County          50.71  8891.757050\n",
       "7     Oakland  443554      Alameda County          55.93  7930.520293"
      ]
     },
     "execution_count": 68,
     "metadata": {},
     "output_type": "execute_result"
    }
   ],
   "source": [
    "df_cal.query('pop < 550000 & pop_dens >= 7000')"
   ]
  },
  {
   "cell_type": "markdown",
   "id": "fd7d8fc3-35ff-461a-89ef-47387f2fbb66",
   "metadata": {},
   "source": [
    "If you are passing a string as part of one of the conditions, you will need to use quotes inside your query string, like so:"
   ]
  },
  {
   "cell_type": "code",
   "execution_count": 69,
   "id": "9d5790a5-799a-4640-81af-16e86eeb7cfc",
   "metadata": {},
   "outputs": [
    {
     "data": {
      "text/html": [
       "<div>\n",
       "<style scoped>\n",
       "    .dataframe tbody tr th:only-of-type {\n",
       "        vertical-align: middle;\n",
       "    }\n",
       "\n",
       "    .dataframe tbody tr th {\n",
       "        vertical-align: top;\n",
       "    }\n",
       "\n",
       "    .dataframe thead th {\n",
       "        text-align: right;\n",
       "    }\n",
       "</style>\n",
       "<table border=\"1\" class=\"dataframe\">\n",
       "  <thead>\n",
       "    <tr style=\"text-align: right;\">\n",
       "      <th></th>\n",
       "      <th>city</th>\n",
       "      <th>pop</th>\n",
       "      <th>county</th>\n",
       "      <th>area_sq_miles</th>\n",
       "      <th>pop_dens</th>\n",
       "    </tr>\n",
       "  </thead>\n",
       "  <tbody>\n",
       "    <tr>\n",
       "      <th>0</th>\n",
       "      <td>Los Angeles</td>\n",
       "      <td>3878704</td>\n",
       "      <td>Los Angeles County</td>\n",
       "      <td>469.49</td>\n",
       "      <td>8261.526337</td>\n",
       "    </tr>\n",
       "  </tbody>\n",
       "</table>\n",
       "</div>"
      ],
      "text/plain": [
       "          city      pop              county  area_sq_miles     pop_dens\n",
       "0  Los Angeles  3878704  Los Angeles County         469.49  8261.526337"
      ]
     },
     "execution_count": 69,
     "metadata": {},
     "output_type": "execute_result"
    }
   ],
   "source": [
    "df_cal.query(\"county == 'Los Angeles County' & pop >= 550000\")"
   ]
  },
  {
   "cell_type": "markdown",
   "id": "a88406cb-aef2-4681-af4f-be3f50e1b74e",
   "metadata": {},
   "source": [
    "# Cleaning an Entire Dataset"
   ]
  },
  {
   "cell_type": "markdown",
   "id": "491c0acc-bf80-4635-bbff-3a1ec41a74e1",
   "metadata": {},
   "source": [
    "Let's look closer at the source data for the California city area: https://en.wikipedia.org/wiki/List_of_municipalities_in_California\n",
    "\n",
    "This data table has several fields that can convey information to humans, but which are not formatted in a way that is machine-readable for purposes of summary statistics or using as inputs in a regression.\n",
    "\n",
    "The column names are a bit clunky because they contain text references to the article's footnotes.\n",
    "\n",
    "As you can see in the first row, Adelanto's land area is listed as \"52.87 sq mi (136.9 km2)\". If we want to use that column to get the mean, maximum, or minimum land area, we will need to extract the numerical data (either 52.78, for square miles, or 136.9, for square kilometers) from the text string."
   ]
  },
  {
   "cell_type": "code",
   "execution_count": 117,
   "id": "d3aa5124-a03c-4323-b186-1b20507d67e9",
   "metadata": {},
   "outputs": [],
   "source": [
    "df_cal2 = pd.read_csv('ca_cities.csv', index_col=0)"
   ]
  },
  {
   "cell_type": "code",
   "execution_count": 118,
   "id": "1892d76c-e88c-419c-894b-0ceba21e11a1",
   "metadata": {
    "scrolled": true
   },
   "outputs": [
    {
     "data": {
      "text/html": [
       "<div>\n",
       "<style scoped>\n",
       "    .dataframe tbody tr th:only-of-type {\n",
       "        vertical-align: middle;\n",
       "    }\n",
       "\n",
       "    .dataframe tbody tr th {\n",
       "        vertical-align: top;\n",
       "    }\n",
       "\n",
       "    .dataframe thead th {\n",
       "        text-align: right;\n",
       "    }\n",
       "</style>\n",
       "<table border=\"1\" class=\"dataframe\">\n",
       "  <thead>\n",
       "    <tr style=\"text-align: right;\">\n",
       "      <th></th>\n",
       "      <th>Name</th>\n",
       "      <th>Type</th>\n",
       "      <th>County</th>\n",
       "      <th>Population (2020)[1]</th>\n",
       "      <th>Population (2010)[9]</th>\n",
       "      <th>Change</th>\n",
       "      <th>Land area[10]</th>\n",
       "      <th>Population density[10]</th>\n",
       "      <th>Incorporated[8]</th>\n",
       "    </tr>\n",
       "  </thead>\n",
       "  <tbody>\n",
       "    <tr>\n",
       "      <th>0</th>\n",
       "      <td>Adelanto</td>\n",
       "      <td>City</td>\n",
       "      <td>San Bernardino</td>\n",
       "      <td>38046</td>\n",
       "      <td>31765</td>\n",
       "      <td>+19.8%</td>\n",
       "      <td>52.87 sq mi (136.9 km2)</td>\n",
       "      <td>719.6/sq mi (277.8/km2)</td>\n",
       "      <td>December 22, 1970</td>\n",
       "    </tr>\n",
       "    <tr>\n",
       "      <th>1</th>\n",
       "      <td>Agoura Hills</td>\n",
       "      <td>City</td>\n",
       "      <td>Los Angeles</td>\n",
       "      <td>20299</td>\n",
       "      <td>20330</td>\n",
       "      <td>−0.2%</td>\n",
       "      <td>7.80 sq mi (20.2 km2)</td>\n",
       "      <td>2,602.4/sq mi (1,004.8/km2)</td>\n",
       "      <td>December 8, 1982</td>\n",
       "    </tr>\n",
       "    <tr>\n",
       "      <th>2</th>\n",
       "      <td>Alameda</td>\n",
       "      <td>City</td>\n",
       "      <td>Alameda</td>\n",
       "      <td>78280</td>\n",
       "      <td>73812</td>\n",
       "      <td>+6.1%</td>\n",
       "      <td>10.45 sq mi (27.1 km2)</td>\n",
       "      <td>7,490.9/sq mi (2,892.3/km2)</td>\n",
       "      <td>April 19, 1854</td>\n",
       "    </tr>\n",
       "    <tr>\n",
       "      <th>3</th>\n",
       "      <td>Albany</td>\n",
       "      <td>City</td>\n",
       "      <td>Alameda</td>\n",
       "      <td>20271</td>\n",
       "      <td>18539</td>\n",
       "      <td>+9.3%</td>\n",
       "      <td>1.79 sq mi (4.6 km2)</td>\n",
       "      <td>11,324.6/sq mi (4,372.4/km2)</td>\n",
       "      <td>September 22, 1908</td>\n",
       "    </tr>\n",
       "    <tr>\n",
       "      <th>4</th>\n",
       "      <td>Alhambra</td>\n",
       "      <td>City</td>\n",
       "      <td>Los Angeles</td>\n",
       "      <td>82868</td>\n",
       "      <td>83089</td>\n",
       "      <td>−0.3%</td>\n",
       "      <td>7.63 sq mi (19.8 km2)</td>\n",
       "      <td>10,860.8/sq mi (4,193.4/km2)</td>\n",
       "      <td>July 11, 1903</td>\n",
       "    </tr>\n",
       "    <tr>\n",
       "      <th>...</th>\n",
       "      <td>...</td>\n",
       "      <td>...</td>\n",
       "      <td>...</td>\n",
       "      <td>...</td>\n",
       "      <td>...</td>\n",
       "      <td>...</td>\n",
       "      <td>...</td>\n",
       "      <td>...</td>\n",
       "      <td>...</td>\n",
       "    </tr>\n",
       "    <tr>\n",
       "      <th>478</th>\n",
       "      <td>Yountville</td>\n",
       "      <td>Town</td>\n",
       "      <td>Napa</td>\n",
       "      <td>3436</td>\n",
       "      <td>2933</td>\n",
       "      <td>+17.1%</td>\n",
       "      <td>1.49 sq mi (3.9 km2)</td>\n",
       "      <td>2,306.0/sq mi (890.4/km2)</td>\n",
       "      <td>February 4, 1965</td>\n",
       "    </tr>\n",
       "    <tr>\n",
       "      <th>479</th>\n",
       "      <td>Yreka†</td>\n",
       "      <td>City</td>\n",
       "      <td>Siskiyou</td>\n",
       "      <td>7807</td>\n",
       "      <td>7765</td>\n",
       "      <td>+0.5%</td>\n",
       "      <td>9.99 sq mi (25.9 km2)</td>\n",
       "      <td>781.5/sq mi (301.7/km2)</td>\n",
       "      <td>April 21, 1857</td>\n",
       "    </tr>\n",
       "    <tr>\n",
       "      <th>480</th>\n",
       "      <td>Yuba City†</td>\n",
       "      <td>City</td>\n",
       "      <td>Sutter</td>\n",
       "      <td>70117</td>\n",
       "      <td>64925</td>\n",
       "      <td>+8.0%</td>\n",
       "      <td>14.98 sq mi (38.8 km2)</td>\n",
       "      <td>4,680.7/sq mi (1,807.2/km2)</td>\n",
       "      <td>January 23, 1908</td>\n",
       "    </tr>\n",
       "    <tr>\n",
       "      <th>481</th>\n",
       "      <td>Yucaipa</td>\n",
       "      <td>City</td>\n",
       "      <td>San Bernardino</td>\n",
       "      <td>54542</td>\n",
       "      <td>51367</td>\n",
       "      <td>+6.2%</td>\n",
       "      <td>28.27 sq mi (73.2 km2)</td>\n",
       "      <td>1,929.3/sq mi (744.9/km2)</td>\n",
       "      <td>November 27, 1989</td>\n",
       "    </tr>\n",
       "    <tr>\n",
       "      <th>482</th>\n",
       "      <td>Yucca Valley</td>\n",
       "      <td>Town</td>\n",
       "      <td>San Bernardino</td>\n",
       "      <td>21738</td>\n",
       "      <td>20700</td>\n",
       "      <td>+5.0%</td>\n",
       "      <td>39.83 sq mi (103.2 km2)</td>\n",
       "      <td>545.8/sq mi (210.7/km2)</td>\n",
       "      <td>November 27, 1991</td>\n",
       "    </tr>\n",
       "  </tbody>\n",
       "</table>\n",
       "<p>483 rows × 9 columns</p>\n",
       "</div>"
      ],
      "text/plain": [
       "             Name  Type          County  Population (2020)[1]  \\\n",
       "0        Adelanto  City  San Bernardino                 38046   \n",
       "1    Agoura Hills  City     Los Angeles                 20299   \n",
       "2         Alameda  City         Alameda                 78280   \n",
       "3          Albany  City         Alameda                 20271   \n",
       "4        Alhambra  City     Los Angeles                 82868   \n",
       "..            ...   ...             ...                   ...   \n",
       "478    Yountville  Town            Napa                  3436   \n",
       "479        Yreka†  City        Siskiyou                  7807   \n",
       "480    Yuba City†  City          Sutter                 70117   \n",
       "481       Yucaipa  City  San Bernardino                 54542   \n",
       "482  Yucca Valley  Town  San Bernardino                 21738   \n",
       "\n",
       "     Population (2010)[9]  Change            Land area[10]  \\\n",
       "0                   31765  +19.8%  52.87 sq mi (136.9 km2)   \n",
       "1                   20330   −0.2%    7.80 sq mi (20.2 km2)   \n",
       "2                   73812   +6.1%   10.45 sq mi (27.1 km2)   \n",
       "3                   18539   +9.3%     1.79 sq mi (4.6 km2)   \n",
       "4                   83089   −0.3%    7.63 sq mi (19.8 km2)   \n",
       "..                    ...     ...                      ...   \n",
       "478                  2933  +17.1%     1.49 sq mi (3.9 km2)   \n",
       "479                  7765   +0.5%    9.99 sq mi (25.9 km2)   \n",
       "480                 64925   +8.0%   14.98 sq mi (38.8 km2)   \n",
       "481                 51367   +6.2%   28.27 sq mi (73.2 km2)   \n",
       "482                 20700   +5.0%  39.83 sq mi (103.2 km2)   \n",
       "\n",
       "           Population density[10]     Incorporated[8]  \n",
       "0         719.6/sq mi (277.8/km2)   December 22, 1970  \n",
       "1     2,602.4/sq mi (1,004.8/km2)    December 8, 1982  \n",
       "2     7,490.9/sq mi (2,892.3/km2)      April 19, 1854  \n",
       "3    11,324.6/sq mi (4,372.4/km2)  September 22, 1908  \n",
       "4    10,860.8/sq mi (4,193.4/km2)       July 11, 1903  \n",
       "..                            ...                 ...  \n",
       "478     2,306.0/sq mi (890.4/km2)    February 4, 1965  \n",
       "479       781.5/sq mi (301.7/km2)      April 21, 1857  \n",
       "480   4,680.7/sq mi (1,807.2/km2)    January 23, 1908  \n",
       "481     1,929.3/sq mi (744.9/km2)   November 27, 1989  \n",
       "482       545.8/sq mi (210.7/km2)   November 27, 1991  \n",
       "\n",
       "[483 rows x 9 columns]"
      ]
     },
     "execution_count": 118,
     "metadata": {},
     "output_type": "execute_result"
    }
   ],
   "source": [
    "df_cal2"
   ]
  },
  {
   "cell_type": "markdown",
   "id": "33d8573b-6fe4-48df-84a1-92851eadcb6f",
   "metadata": {},
   "source": [
    "### Renaming Columns\n",
    "\n",
    "`pandas` DataFrames have a `.rename()` method that lets you pass a dictionary to replace existing column names with new ones. Pasing `inplace=True` makes these changes permanent.\n",
    "\n",
    "When choosing variable names for DataFrames you're going to be working with in `pandas`, it is best to avoid spaces or excess punctuation, as these can make certain operations more difficult."
   ]
  },
  {
   "cell_type": "code",
   "execution_count": 119,
   "id": "f7ba4e6a-9bba-4645-8eb0-4acdb22b2eeb",
   "metadata": {
    "scrolled": true
   },
   "outputs": [
    {
     "data": {
      "text/html": [
       "<div>\n",
       "<style scoped>\n",
       "    .dataframe tbody tr th:only-of-type {\n",
       "        vertical-align: middle;\n",
       "    }\n",
       "\n",
       "    .dataframe tbody tr th {\n",
       "        vertical-align: top;\n",
       "    }\n",
       "\n",
       "    .dataframe thead th {\n",
       "        text-align: right;\n",
       "    }\n",
       "</style>\n",
       "<table border=\"1\" class=\"dataframe\">\n",
       "  <thead>\n",
       "    <tr style=\"text-align: right;\">\n",
       "      <th></th>\n",
       "      <th>name</th>\n",
       "      <th>type</th>\n",
       "      <th>county</th>\n",
       "      <th>pop2020</th>\n",
       "      <th>pop2010</th>\n",
       "      <th>change</th>\n",
       "      <th>area</th>\n",
       "      <th>pop_dens</th>\n",
       "      <th>incorporated</th>\n",
       "    </tr>\n",
       "  </thead>\n",
       "  <tbody>\n",
       "    <tr>\n",
       "      <th>0</th>\n",
       "      <td>Adelanto</td>\n",
       "      <td>City</td>\n",
       "      <td>San Bernardino</td>\n",
       "      <td>38046</td>\n",
       "      <td>31765</td>\n",
       "      <td>+19.8%</td>\n",
       "      <td>52.87 sq mi (136.9 km2)</td>\n",
       "      <td>719.6/sq mi (277.8/km2)</td>\n",
       "      <td>December 22, 1970</td>\n",
       "    </tr>\n",
       "    <tr>\n",
       "      <th>1</th>\n",
       "      <td>Agoura Hills</td>\n",
       "      <td>City</td>\n",
       "      <td>Los Angeles</td>\n",
       "      <td>20299</td>\n",
       "      <td>20330</td>\n",
       "      <td>−0.2%</td>\n",
       "      <td>7.80 sq mi (20.2 km2)</td>\n",
       "      <td>2,602.4/sq mi (1,004.8/km2)</td>\n",
       "      <td>December 8, 1982</td>\n",
       "    </tr>\n",
       "    <tr>\n",
       "      <th>2</th>\n",
       "      <td>Alameda</td>\n",
       "      <td>City</td>\n",
       "      <td>Alameda</td>\n",
       "      <td>78280</td>\n",
       "      <td>73812</td>\n",
       "      <td>+6.1%</td>\n",
       "      <td>10.45 sq mi (27.1 km2)</td>\n",
       "      <td>7,490.9/sq mi (2,892.3/km2)</td>\n",
       "      <td>April 19, 1854</td>\n",
       "    </tr>\n",
       "    <tr>\n",
       "      <th>3</th>\n",
       "      <td>Albany</td>\n",
       "      <td>City</td>\n",
       "      <td>Alameda</td>\n",
       "      <td>20271</td>\n",
       "      <td>18539</td>\n",
       "      <td>+9.3%</td>\n",
       "      <td>1.79 sq mi (4.6 km2)</td>\n",
       "      <td>11,324.6/sq mi (4,372.4/km2)</td>\n",
       "      <td>September 22, 1908</td>\n",
       "    </tr>\n",
       "    <tr>\n",
       "      <th>4</th>\n",
       "      <td>Alhambra</td>\n",
       "      <td>City</td>\n",
       "      <td>Los Angeles</td>\n",
       "      <td>82868</td>\n",
       "      <td>83089</td>\n",
       "      <td>−0.3%</td>\n",
       "      <td>7.63 sq mi (19.8 km2)</td>\n",
       "      <td>10,860.8/sq mi (4,193.4/km2)</td>\n",
       "      <td>July 11, 1903</td>\n",
       "    </tr>\n",
       "  </tbody>\n",
       "</table>\n",
       "</div>"
      ],
      "text/plain": [
       "           name  type          county  pop2020  pop2010  change  \\\n",
       "0      Adelanto  City  San Bernardino    38046    31765  +19.8%   \n",
       "1  Agoura Hills  City     Los Angeles    20299    20330   −0.2%   \n",
       "2       Alameda  City         Alameda    78280    73812   +6.1%   \n",
       "3        Albany  City         Alameda    20271    18539   +9.3%   \n",
       "4      Alhambra  City     Los Angeles    82868    83089   −0.3%   \n",
       "\n",
       "                      area                      pop_dens        incorporated  \n",
       "0  52.87 sq mi (136.9 km2)       719.6/sq mi (277.8/km2)   December 22, 1970  \n",
       "1    7.80 sq mi (20.2 km2)   2,602.4/sq mi (1,004.8/km2)    December 8, 1982  \n",
       "2   10.45 sq mi (27.1 km2)   7,490.9/sq mi (2,892.3/km2)      April 19, 1854  \n",
       "3     1.79 sq mi (4.6 km2)  11,324.6/sq mi (4,372.4/km2)  September 22, 1908  \n",
       "4    7.63 sq mi (19.8 km2)  10,860.8/sq mi (4,193.4/km2)       July 11, 1903  "
      ]
     },
     "execution_count": 119,
     "metadata": {},
     "output_type": "execute_result"
    }
   ],
   "source": [
    "df_cal2.rename(\n",
    "    columns={\n",
    "        'Name':'name',\n",
    "        'Type':'type',\n",
    "        'County':'county',\n",
    "        'Population (2020)[1]':'pop2020',\n",
    "        'Population (2010)[9]':'pop2010',\n",
    "        'Change':'change',\n",
    "        'Land area[10]':\"area\",\n",
    "        'Population density[10]':'pop_dens',\n",
    "        'Incorporated[8]':'incorporated'\n",
    "        \n",
    "    }, inplace=True\n",
    ")\n",
    "\n",
    "df_cal2.head()"
   ]
  },
  {
   "cell_type": "markdown",
   "id": "d07683f5-9d38-4b68-950c-41a1c8606428",
   "metadata": {},
   "source": [
    "## Exploratory Data Analysis - `pandas` Methods\n",
    "\n",
    "Data analysis is impossible without a way of discovering the characteristics of the data you're working with.\n",
    "\n",
    "You have to know what parts of the data need to be cleaned, and what format the data exists in, so you can change that format if necessary. The process of familiarizing yourself with the contents of a dataset is often called \"Exploratory Data Analysis\" (EDA for short).\n",
    "\n",
    "Finding out what's in a dataset is really simple if it's four columns by ten rows, but if you're dealing with larger datasets, it quickly becomes an incredibly laborious task.\n",
    "\n",
    "Fortunately, `pandas` comes with a suite of built-in tools that let you conduct EDA quickly."
   ]
  },
  {
   "cell_type": "markdown",
   "id": "6bb721e7-74a6-4c47-8789-99da5c69753b",
   "metadata": {},
   "source": [
    "### `.head()` and `.tail()`"
   ]
  },
  {
   "cell_type": "markdown",
   "id": "7527e99e-4ae5-4b3f-bb20-2d3aae8192cd",
   "metadata": {},
   "source": [
    "DataFrames have a `.info()`method that lets you see what types of data each column contains. The datatypes \"int64\", \"float64\", and \"object\" correspond to integers, floats, and strings.\n",
    "\n",
    "In this case, although the last four columns all represent numeric information, they are stored as text strings. We want to try to convert them (as much as possible) to numeric data."
   ]
  },
  {
   "cell_type": "markdown",
   "id": "c759a640-6b72-4596-ba1b-8004ae19edb8",
   "metadata": {},
   "source": [
    "### `.info()`"
   ]
  },
  {
   "cell_type": "code",
   "execution_count": 120,
   "id": "5b946f65-b40b-4b44-9d4d-0cffa55e071a",
   "metadata": {},
   "outputs": [
    {
     "name": "stdout",
     "output_type": "stream",
     "text": [
      "<class 'pandas.core.frame.DataFrame'>\n",
      "Index: 483 entries, 0 to 482\n",
      "Data columns (total 9 columns):\n",
      " #   Column        Non-Null Count  Dtype \n",
      "---  ------        --------------  ----- \n",
      " 0   name          483 non-null    object\n",
      " 1   type          483 non-null    object\n",
      " 2   county        483 non-null    object\n",
      " 3   pop2020       483 non-null    int64 \n",
      " 4   pop2010       483 non-null    int64 \n",
      " 5   change        483 non-null    object\n",
      " 6   area          483 non-null    object\n",
      " 7   pop_dens      483 non-null    object\n",
      " 8   incorporated  483 non-null    object\n",
      "dtypes: int64(2), object(7)\n",
      "memory usage: 37.7+ KB\n"
     ]
    }
   ],
   "source": [
    "df_cal2.info()"
   ]
  },
  {
   "cell_type": "markdown",
   "id": "9c32ec67-7c9b-4989-8395-b899e9c39001",
   "metadata": {},
   "source": [
    "Currently, only the population columns are in a numeric format (int64 is a 64-bit integer). We can see summary statistics for these columns by using the `.describe()` method."
   ]
  },
  {
   "cell_type": "markdown",
   "id": "f4652833-60cc-4be1-bdb4-9977f4bbfd01",
   "metadata": {},
   "source": [
    "### `.describe()`"
   ]
  },
  {
   "cell_type": "code",
   "execution_count": 121,
   "id": "8b8ee765-cc34-4b41-8aa2-8d4e06892699",
   "metadata": {},
   "outputs": [
    {
     "data": {
      "text/html": [
       "<div>\n",
       "<style scoped>\n",
       "    .dataframe tbody tr th:only-of-type {\n",
       "        vertical-align: middle;\n",
       "    }\n",
       "\n",
       "    .dataframe tbody tr th {\n",
       "        vertical-align: top;\n",
       "    }\n",
       "\n",
       "    .dataframe thead th {\n",
       "        text-align: right;\n",
       "    }\n",
       "</style>\n",
       "<table border=\"1\" class=\"dataframe\">\n",
       "  <thead>\n",
       "    <tr style=\"text-align: right;\">\n",
       "      <th></th>\n",
       "      <th>pop2020</th>\n",
       "      <th>pop2010</th>\n",
       "    </tr>\n",
       "  </thead>\n",
       "  <tbody>\n",
       "    <tr>\n",
       "      <th>count</th>\n",
       "      <td>4.830000e+02</td>\n",
       "      <td>4.830000e+02</td>\n",
       "    </tr>\n",
       "    <tr>\n",
       "      <th>mean</th>\n",
       "      <td>6.837568e+04</td>\n",
       "      <td>6.400950e+04</td>\n",
       "    </tr>\n",
       "    <tr>\n",
       "      <th>std</th>\n",
       "      <td>2.058428e+05</td>\n",
       "      <td>1.978657e+05</td>\n",
       "    </tr>\n",
       "    <tr>\n",
       "      <th>min</th>\n",
       "      <td>2.000000e+02</td>\n",
       "      <td>1.120000e+02</td>\n",
       "    </tr>\n",
       "    <tr>\n",
       "      <th>25%</th>\n",
       "      <td>1.133150e+04</td>\n",
       "      <td>1.086100e+04</td>\n",
       "    </tr>\n",
       "    <tr>\n",
       "      <th>50%</th>\n",
       "      <td>3.105100e+04</td>\n",
       "      <td>2.897600e+04</td>\n",
       "    </tr>\n",
       "    <tr>\n",
       "      <th>75%</th>\n",
       "      <td>7.238250e+04</td>\n",
       "      <td>6.676850e+04</td>\n",
       "    </tr>\n",
       "    <tr>\n",
       "      <th>max</th>\n",
       "      <td>3.898747e+06</td>\n",
       "      <td>3.792621e+06</td>\n",
       "    </tr>\n",
       "  </tbody>\n",
       "</table>\n",
       "</div>"
      ],
      "text/plain": [
       "            pop2020       pop2010\n",
       "count  4.830000e+02  4.830000e+02\n",
       "mean   6.837568e+04  6.400950e+04\n",
       "std    2.058428e+05  1.978657e+05\n",
       "min    2.000000e+02  1.120000e+02\n",
       "25%    1.133150e+04  1.086100e+04\n",
       "50%    3.105100e+04  2.897600e+04\n",
       "75%    7.238250e+04  6.676850e+04\n",
       "max    3.898747e+06  3.792621e+06"
      ]
     },
     "execution_count": 121,
     "metadata": {},
     "output_type": "execute_result"
    }
   ],
   "source": [
    "df_cal2.describe()"
   ]
  },
  {
   "cell_type": "markdown",
   "id": "d8779432-c180-4e62-bd77-ac1c1aaaf99f",
   "metadata": {},
   "source": [
    "### `.unique()` and `.value_counts()`"
   ]
  },
  {
   "cell_type": "markdown",
   "id": "f336fe0e-2bda-4246-98b6-2d63d722513e",
   "metadata": {},
   "source": [
    "When looking at individual columns in a dataset, pandas also lets you see how many unique values a column contains, with `.unique()`. Often, an even more useful command is `.value_counts()`, which shows unique values and ranks them by frequency."
   ]
  },
  {
   "cell_type": "code",
   "execution_count": 122,
   "id": "eb9604ae-9b18-44bb-9b62-2d419ef9581e",
   "metadata": {},
   "outputs": [
    {
     "data": {
      "text/plain": [
       "array(['City', 'Town', 'City and county'], dtype=object)"
      ]
     },
     "execution_count": 122,
     "metadata": {},
     "output_type": "execute_result"
    }
   ],
   "source": [
    "df_cal2['type'].unique()"
   ]
  },
  {
   "cell_type": "code",
   "execution_count": 123,
   "id": "16a4d9e9-1933-490b-a141-880c2cabe601",
   "metadata": {},
   "outputs": [
    {
     "data": {
      "text/plain": [
       "type\n",
       "City               459\n",
       "Town                23\n",
       "City and county      1\n",
       "Name: count, dtype: int64"
      ]
     },
     "execution_count": 123,
     "metadata": {},
     "output_type": "execute_result"
    }
   ],
   "source": [
    "df_cal2['type'].value_counts()"
   ]
  },
  {
   "cell_type": "markdown",
   "id": "5e12a1b1-4e83-4029-87d9-8f68782f3c24",
   "metadata": {},
   "source": [
    "You can use `.head()` in conjunction with `.value_counts()` to look at only the top 5 (or whatever integer value you pass in the parentheses of `.head()`) categories, like so:"
   ]
  },
  {
   "cell_type": "code",
   "execution_count": 124,
   "id": "355a0b58-e984-4303-94b3-71d80e87b3e8",
   "metadata": {},
   "outputs": [
    {
     "data": {
      "text/plain": [
       "county\n",
       "Los Angeles       88\n",
       "Orange            34\n",
       "Riverside         26\n",
       "San Bernardino    24\n",
       "San Mateo         20\n",
       "Contra Costa      19\n",
       "San Diego         18\n",
       "Fresno            15\n",
       "Santa Clara       15\n",
       "Alameda           14\n",
       "Name: count, dtype: int64"
      ]
     },
     "execution_count": 124,
     "metadata": {},
     "output_type": "execute_result"
    }
   ],
   "source": [
    "df_cal2['county'].value_counts().head(10)"
   ]
  },
  {
   "cell_type": "markdown",
   "id": "b995bc15-6766-4cfa-b2e4-90cb15336a01",
   "metadata": {},
   "source": [
    "### `.shape`\n",
    "\n",
    "You can quickly get the shape of a DataFrame by using `.shape` (note that there are no parentheses after `.shape`)"
   ]
  },
  {
   "cell_type": "code",
   "execution_count": 125,
   "id": "b635275f-d6f1-4255-b8d8-3286930d454a",
   "metadata": {},
   "outputs": [
    {
     "data": {
      "text/plain": [
       "(483, 9)"
      ]
     },
     "execution_count": 125,
     "metadata": {},
     "output_type": "execute_result"
    }
   ],
   "source": [
    "df_cal2.shape"
   ]
  },
  {
   "cell_type": "markdown",
   "id": "ea9d6b0b-5546-4651-8382-a16ac2c7fe3f",
   "metadata": {},
   "source": [
    "### `.duplicated()` and `.any()`\n",
    "\n",
    "We're fortunate in this case to have a dataset with no dupicate rows (that is, rows with the exact same values across all columns), but `.duplicated()` and `.any()`"
   ]
  },
  {
   "cell_type": "code",
   "execution_count": 126,
   "id": "a44be064-cf45-4732-9479-f2c5fe8e2eb3",
   "metadata": {},
   "outputs": [
    {
     "data": {
      "text/plain": [
       "False"
      ]
     },
     "execution_count": 126,
     "metadata": {},
     "output_type": "execute_result"
    }
   ],
   "source": [
    "df_cal2.duplicated().any()"
   ]
  },
  {
   "cell_type": "markdown",
   "id": "5c3029ad-b07a-4724-ab59-76990e028746",
   "metadata": {},
   "source": [
    "## Cleaning Data using `.apply()` and `lambda`"
   ]
  },
  {
   "cell_type": "markdown",
   "id": "e4ef263d-2764-4b1d-b493-d0e29c21ac8c",
   "metadata": {},
   "source": [
    "A quick way to create or modify new columns in a data frame is to use the `.apply()` method with and pass a function, often (but not always) using the `lambda` keyword. `.apply()` is a method of the `pd.Series` Class.\n",
    "\n",
    "A Lambda function is an \"anonymous\" function (one that doesn't need to be named since it's used only in a local context). \"Lambda\" can mean different things in different programming languages, but in Python it allows for a quick ad hoc function to be used without needing to define the function officially with a `def` statement.\n",
    "\n",
    "Assuming the parameters of a function are appropriate to the data in the Pandas series, we can pass in a single function as an argument of `.apply()` without the need for a lambda statement."
   ]
  },
  {
   "cell_type": "markdown",
   "id": "660107e5-02b4-435c-96fb-69b53dc779da",
   "metadata": {},
   "source": [
    "We can use a lambda expression to remove the '†' character from the city names column, like so:"
   ]
  },
  {
   "cell_type": "code",
   "execution_count": 127,
   "id": "81bd48ab-e6a9-4416-b3b6-244f26075f42",
   "metadata": {},
   "outputs": [],
   "source": [
    "df_cal2['name'] = df_cal2['name'].apply(lambda x: x.replace('†',''))"
   ]
  },
  {
   "cell_type": "code",
   "execution_count": 128,
   "id": "1abcc246-b79a-406e-bfab-8e2950156304",
   "metadata": {},
   "outputs": [
    {
     "data": {
      "text/plain": [
       "0          Adelanto\n",
       "1      Agoura Hills\n",
       "2           Alameda\n",
       "3            Albany\n",
       "4          Alhambra\n",
       "           ...     \n",
       "478      Yountville\n",
       "479           Yreka\n",
       "480       Yuba City\n",
       "481         Yucaipa\n",
       "482    Yucca Valley\n",
       "Name: name, Length: 483, dtype: object"
      ]
     },
     "execution_count": 128,
     "metadata": {},
     "output_type": "execute_result"
    }
   ],
   "source": [
    "df_cal2['name']"
   ]
  },
  {
   "cell_type": "markdown",
   "id": "334cc185-e30e-4cd2-b1f9-8e0807ca07b4",
   "metadata": {},
   "source": [
    "We can also use lambda expressions to remove non-numerical characters from text strings that we intend to change into numerical data types."
   ]
  },
  {
   "cell_type": "code",
   "execution_count": 129,
   "id": "f4eba762-6d1e-498b-a856-b836d03fddfa",
   "metadata": {},
   "outputs": [],
   "source": [
    "df_cal2['pct_change'] = df_cal2['change'].apply(lambda x: x.strip('+%'))"
   ]
  },
  {
   "cell_type": "code",
   "execution_count": 130,
   "id": "b484e994-6cb0-473f-8e12-e7dbd4c48f87",
   "metadata": {},
   "outputs": [
    {
     "data": {
      "text/html": [
       "<div>\n",
       "<style scoped>\n",
       "    .dataframe tbody tr th:only-of-type {\n",
       "        vertical-align: middle;\n",
       "    }\n",
       "\n",
       "    .dataframe tbody tr th {\n",
       "        vertical-align: top;\n",
       "    }\n",
       "\n",
       "    .dataframe thead th {\n",
       "        text-align: right;\n",
       "    }\n",
       "</style>\n",
       "<table border=\"1\" class=\"dataframe\">\n",
       "  <thead>\n",
       "    <tr style=\"text-align: right;\">\n",
       "      <th></th>\n",
       "      <th>name</th>\n",
       "      <th>type</th>\n",
       "      <th>county</th>\n",
       "      <th>pop2020</th>\n",
       "      <th>pop2010</th>\n",
       "      <th>change</th>\n",
       "      <th>area</th>\n",
       "      <th>pop_dens</th>\n",
       "      <th>incorporated</th>\n",
       "      <th>pct_change</th>\n",
       "    </tr>\n",
       "  </thead>\n",
       "  <tbody>\n",
       "    <tr>\n",
       "      <th>0</th>\n",
       "      <td>Adelanto</td>\n",
       "      <td>City</td>\n",
       "      <td>San Bernardino</td>\n",
       "      <td>38046</td>\n",
       "      <td>31765</td>\n",
       "      <td>+19.8%</td>\n",
       "      <td>52.87 sq mi (136.9 km2)</td>\n",
       "      <td>719.6/sq mi (277.8/km2)</td>\n",
       "      <td>December 22, 1970</td>\n",
       "      <td>19.8</td>\n",
       "    </tr>\n",
       "    <tr>\n",
       "      <th>1</th>\n",
       "      <td>Agoura Hills</td>\n",
       "      <td>City</td>\n",
       "      <td>Los Angeles</td>\n",
       "      <td>20299</td>\n",
       "      <td>20330</td>\n",
       "      <td>−0.2%</td>\n",
       "      <td>7.80 sq mi (20.2 km2)</td>\n",
       "      <td>2,602.4/sq mi (1,004.8/km2)</td>\n",
       "      <td>December 8, 1982</td>\n",
       "      <td>−0.2</td>\n",
       "    </tr>\n",
       "    <tr>\n",
       "      <th>2</th>\n",
       "      <td>Alameda</td>\n",
       "      <td>City</td>\n",
       "      <td>Alameda</td>\n",
       "      <td>78280</td>\n",
       "      <td>73812</td>\n",
       "      <td>+6.1%</td>\n",
       "      <td>10.45 sq mi (27.1 km2)</td>\n",
       "      <td>7,490.9/sq mi (2,892.3/km2)</td>\n",
       "      <td>April 19, 1854</td>\n",
       "      <td>6.1</td>\n",
       "    </tr>\n",
       "    <tr>\n",
       "      <th>3</th>\n",
       "      <td>Albany</td>\n",
       "      <td>City</td>\n",
       "      <td>Alameda</td>\n",
       "      <td>20271</td>\n",
       "      <td>18539</td>\n",
       "      <td>+9.3%</td>\n",
       "      <td>1.79 sq mi (4.6 km2)</td>\n",
       "      <td>11,324.6/sq mi (4,372.4/km2)</td>\n",
       "      <td>September 22, 1908</td>\n",
       "      <td>9.3</td>\n",
       "    </tr>\n",
       "    <tr>\n",
       "      <th>4</th>\n",
       "      <td>Alhambra</td>\n",
       "      <td>City</td>\n",
       "      <td>Los Angeles</td>\n",
       "      <td>82868</td>\n",
       "      <td>83089</td>\n",
       "      <td>−0.3%</td>\n",
       "      <td>7.63 sq mi (19.8 km2)</td>\n",
       "      <td>10,860.8/sq mi (4,193.4/km2)</td>\n",
       "      <td>July 11, 1903</td>\n",
       "      <td>−0.3</td>\n",
       "    </tr>\n",
       "  </tbody>\n",
       "</table>\n",
       "</div>"
      ],
      "text/plain": [
       "           name  type          county  pop2020  pop2010  change  \\\n",
       "0      Adelanto  City  San Bernardino    38046    31765  +19.8%   \n",
       "1  Agoura Hills  City     Los Angeles    20299    20330   −0.2%   \n",
       "2       Alameda  City         Alameda    78280    73812   +6.1%   \n",
       "3        Albany  City         Alameda    20271    18539   +9.3%   \n",
       "4      Alhambra  City     Los Angeles    82868    83089   −0.3%   \n",
       "\n",
       "                      area                      pop_dens        incorporated  \\\n",
       "0  52.87 sq mi (136.9 km2)       719.6/sq mi (277.8/km2)   December 22, 1970   \n",
       "1    7.80 sq mi (20.2 km2)   2,602.4/sq mi (1,004.8/km2)    December 8, 1982   \n",
       "2   10.45 sq mi (27.1 km2)   7,490.9/sq mi (2,892.3/km2)      April 19, 1854   \n",
       "3     1.79 sq mi (4.6 km2)  11,324.6/sq mi (4,372.4/km2)  September 22, 1908   \n",
       "4    7.63 sq mi (19.8 km2)  10,860.8/sq mi (4,193.4/km2)       July 11, 1903   \n",
       "\n",
       "  pct_change  \n",
       "0       19.8  \n",
       "1       −0.2  \n",
       "2        6.1  \n",
       "3        9.3  \n",
       "4       −0.3  "
      ]
     },
     "execution_count": 130,
     "metadata": {},
     "output_type": "execute_result"
    }
   ],
   "source": [
    "df_cal2.head()"
   ]
  },
  {
   "cell_type": "code",
   "execution_count": 131,
   "id": "489033cb-1cf3-4060-98a9-5754f4b2a5a7",
   "metadata": {
    "scrolled": true
   },
   "outputs": [
    {
     "name": "stdout",
     "output_type": "stream",
     "text": [
      "<class 'pandas.core.frame.DataFrame'>\n",
      "Index: 483 entries, 0 to 482\n",
      "Data columns (total 10 columns):\n",
      " #   Column        Non-Null Count  Dtype \n",
      "---  ------        --------------  ----- \n",
      " 0   name          483 non-null    object\n",
      " 1   type          483 non-null    object\n",
      " 2   county        483 non-null    object\n",
      " 3   pop2020       483 non-null    int64 \n",
      " 4   pop2010       483 non-null    int64 \n",
      " 5   change        483 non-null    object\n",
      " 6   area          483 non-null    object\n",
      " 7   pop_dens      483 non-null    object\n",
      " 8   incorporated  483 non-null    object\n",
      " 9   pct_change    483 non-null    object\n",
      "dtypes: int64(2), object(8)\n",
      "memory usage: 41.5+ KB\n"
     ]
    }
   ],
   "source": [
    "df_cal2.info()"
   ]
  },
  {
   "cell_type": "markdown",
   "id": "4235f382-e49d-4762-a53a-67dddb274371",
   "metadata": {},
   "source": [
    "Hmm... the \"pct_change\" column is still stored as \"object\". Can you think of what we should do to change it to a decimal number?"
   ]
  },
  {
   "cell_type": "code",
   "execution_count": 132,
   "id": "bae60298-0679-42ff-ab71-b501e77ed18b",
   "metadata": {
    "scrolled": true
   },
   "outputs": [
    {
     "ename": "ValueError",
     "evalue": "could not convert string to float: '−0.2'",
     "output_type": "error",
     "traceback": [
      "\u001b[0;31m---------------------------------------------------------------------------\u001b[0m",
      "\u001b[0;31mValueError\u001b[0m                                Traceback (most recent call last)",
      "Cell \u001b[0;32mIn[132], line 1\u001b[0m\n\u001b[0;32m----> 1\u001b[0m df_cal2[\u001b[38;5;124m'\u001b[39m\u001b[38;5;124mpct_change\u001b[39m\u001b[38;5;124m'\u001b[39m] \u001b[38;5;241m=\u001b[39m df_cal2[\u001b[38;5;124m'\u001b[39m\u001b[38;5;124mchange\u001b[39m\u001b[38;5;124m'\u001b[39m]\u001b[38;5;241m.\u001b[39mapply(\u001b[38;5;28;01mlambda\u001b[39;00m x: \u001b[38;5;28mfloat\u001b[39m(x\u001b[38;5;241m.\u001b[39mstrip(\u001b[38;5;124m'\u001b[39m\u001b[38;5;124m+\u001b[39m\u001b[38;5;124m%\u001b[39m\u001b[38;5;124m'\u001b[39m)))\n",
      "File \u001b[0;32m/opt/anaconda3/envs/EDA/lib/python3.12/site-packages/pandas/core/series.py:4935\u001b[0m, in \u001b[0;36mSeries.apply\u001b[0;34m(self, func, convert_dtype, args, by_row, **kwargs)\u001b[0m\n\u001b[1;32m   4800\u001b[0m \u001b[38;5;28;01mdef\u001b[39;00m \u001b[38;5;21mapply\u001b[39m(\n\u001b[1;32m   4801\u001b[0m     \u001b[38;5;28mself\u001b[39m,\n\u001b[1;32m   4802\u001b[0m     func: AggFuncType,\n\u001b[0;32m   (...)\u001b[0m\n\u001b[1;32m   4807\u001b[0m     \u001b[38;5;241m*\u001b[39m\u001b[38;5;241m*\u001b[39mkwargs,\n\u001b[1;32m   4808\u001b[0m ) \u001b[38;5;241m-\u001b[39m\u001b[38;5;241m>\u001b[39m DataFrame \u001b[38;5;241m|\u001b[39m Series:\n\u001b[1;32m   4809\u001b[0m \u001b[38;5;250m    \u001b[39m\u001b[38;5;124;03m\"\"\"\u001b[39;00m\n\u001b[1;32m   4810\u001b[0m \u001b[38;5;124;03m    Invoke function on values of Series.\u001b[39;00m\n\u001b[1;32m   4811\u001b[0m \n\u001b[0;32m   (...)\u001b[0m\n\u001b[1;32m   4926\u001b[0m \u001b[38;5;124;03m    dtype: float64\u001b[39;00m\n\u001b[1;32m   4927\u001b[0m \u001b[38;5;124;03m    \"\"\"\u001b[39;00m\n\u001b[1;32m   4928\u001b[0m     \u001b[38;5;28;01mreturn\u001b[39;00m SeriesApply(\n\u001b[1;32m   4929\u001b[0m         \u001b[38;5;28mself\u001b[39m,\n\u001b[1;32m   4930\u001b[0m         func,\n\u001b[1;32m   4931\u001b[0m         convert_dtype\u001b[38;5;241m=\u001b[39mconvert_dtype,\n\u001b[1;32m   4932\u001b[0m         by_row\u001b[38;5;241m=\u001b[39mby_row,\n\u001b[1;32m   4933\u001b[0m         args\u001b[38;5;241m=\u001b[39margs,\n\u001b[1;32m   4934\u001b[0m         kwargs\u001b[38;5;241m=\u001b[39mkwargs,\n\u001b[0;32m-> 4935\u001b[0m     )\u001b[38;5;241m.\u001b[39mapply()\n",
      "File \u001b[0;32m/opt/anaconda3/envs/EDA/lib/python3.12/site-packages/pandas/core/apply.py:1422\u001b[0m, in \u001b[0;36mSeriesApply.apply\u001b[0;34m(self)\u001b[0m\n\u001b[1;32m   1419\u001b[0m     \u001b[38;5;28;01mreturn\u001b[39;00m \u001b[38;5;28mself\u001b[39m\u001b[38;5;241m.\u001b[39mapply_compat()\n\u001b[1;32m   1421\u001b[0m \u001b[38;5;66;03m# self.func is Callable\u001b[39;00m\n\u001b[0;32m-> 1422\u001b[0m \u001b[38;5;28;01mreturn\u001b[39;00m \u001b[38;5;28mself\u001b[39m\u001b[38;5;241m.\u001b[39mapply_standard()\n",
      "File \u001b[0;32m/opt/anaconda3/envs/EDA/lib/python3.12/site-packages/pandas/core/apply.py:1502\u001b[0m, in \u001b[0;36mSeriesApply.apply_standard\u001b[0;34m(self)\u001b[0m\n\u001b[1;32m   1496\u001b[0m \u001b[38;5;66;03m# row-wise access\u001b[39;00m\n\u001b[1;32m   1497\u001b[0m \u001b[38;5;66;03m# apply doesn't have a `na_action` keyword and for backward compat reasons\u001b[39;00m\n\u001b[1;32m   1498\u001b[0m \u001b[38;5;66;03m# we need to give `na_action=\"ignore\"` for categorical data.\u001b[39;00m\n\u001b[1;32m   1499\u001b[0m \u001b[38;5;66;03m# TODO: remove the `na_action=\"ignore\"` when that default has been changed in\u001b[39;00m\n\u001b[1;32m   1500\u001b[0m \u001b[38;5;66;03m#  Categorical (GH51645).\u001b[39;00m\n\u001b[1;32m   1501\u001b[0m action \u001b[38;5;241m=\u001b[39m \u001b[38;5;124m\"\u001b[39m\u001b[38;5;124mignore\u001b[39m\u001b[38;5;124m\"\u001b[39m \u001b[38;5;28;01mif\u001b[39;00m \u001b[38;5;28misinstance\u001b[39m(obj\u001b[38;5;241m.\u001b[39mdtype, CategoricalDtype) \u001b[38;5;28;01melse\u001b[39;00m \u001b[38;5;28;01mNone\u001b[39;00m\n\u001b[0;32m-> 1502\u001b[0m mapped \u001b[38;5;241m=\u001b[39m obj\u001b[38;5;241m.\u001b[39m_map_values(\n\u001b[1;32m   1503\u001b[0m     mapper\u001b[38;5;241m=\u001b[39mcurried, na_action\u001b[38;5;241m=\u001b[39maction, convert\u001b[38;5;241m=\u001b[39m\u001b[38;5;28mself\u001b[39m\u001b[38;5;241m.\u001b[39mconvert_dtype\n\u001b[1;32m   1504\u001b[0m )\n\u001b[1;32m   1506\u001b[0m \u001b[38;5;28;01mif\u001b[39;00m \u001b[38;5;28mlen\u001b[39m(mapped) \u001b[38;5;129;01mand\u001b[39;00m \u001b[38;5;28misinstance\u001b[39m(mapped[\u001b[38;5;241m0\u001b[39m], ABCSeries):\n\u001b[1;32m   1507\u001b[0m     \u001b[38;5;66;03m# GH#43986 Need to do list(mapped) in order to get treated as nested\u001b[39;00m\n\u001b[1;32m   1508\u001b[0m     \u001b[38;5;66;03m#  See also GH#25959 regarding EA support\u001b[39;00m\n\u001b[1;32m   1509\u001b[0m     \u001b[38;5;28;01mreturn\u001b[39;00m obj\u001b[38;5;241m.\u001b[39m_constructor_expanddim(\u001b[38;5;28mlist\u001b[39m(mapped), index\u001b[38;5;241m=\u001b[39mobj\u001b[38;5;241m.\u001b[39mindex)\n",
      "File \u001b[0;32m/opt/anaconda3/envs/EDA/lib/python3.12/site-packages/pandas/core/base.py:925\u001b[0m, in \u001b[0;36mIndexOpsMixin._map_values\u001b[0;34m(self, mapper, na_action, convert)\u001b[0m\n\u001b[1;32m    922\u001b[0m \u001b[38;5;28;01mif\u001b[39;00m \u001b[38;5;28misinstance\u001b[39m(arr, ExtensionArray):\n\u001b[1;32m    923\u001b[0m     \u001b[38;5;28;01mreturn\u001b[39;00m arr\u001b[38;5;241m.\u001b[39mmap(mapper, na_action\u001b[38;5;241m=\u001b[39mna_action)\n\u001b[0;32m--> 925\u001b[0m \u001b[38;5;28;01mreturn\u001b[39;00m algorithms\u001b[38;5;241m.\u001b[39mmap_array(arr, mapper, na_action\u001b[38;5;241m=\u001b[39mna_action, convert\u001b[38;5;241m=\u001b[39mconvert)\n",
      "File \u001b[0;32m/opt/anaconda3/envs/EDA/lib/python3.12/site-packages/pandas/core/algorithms.py:1743\u001b[0m, in \u001b[0;36mmap_array\u001b[0;34m(arr, mapper, na_action, convert)\u001b[0m\n\u001b[1;32m   1741\u001b[0m values \u001b[38;5;241m=\u001b[39m arr\u001b[38;5;241m.\u001b[39mastype(\u001b[38;5;28mobject\u001b[39m, copy\u001b[38;5;241m=\u001b[39m\u001b[38;5;28;01mFalse\u001b[39;00m)\n\u001b[1;32m   1742\u001b[0m \u001b[38;5;28;01mif\u001b[39;00m na_action \u001b[38;5;129;01mis\u001b[39;00m \u001b[38;5;28;01mNone\u001b[39;00m:\n\u001b[0;32m-> 1743\u001b[0m     \u001b[38;5;28;01mreturn\u001b[39;00m lib\u001b[38;5;241m.\u001b[39mmap_infer(values, mapper, convert\u001b[38;5;241m=\u001b[39mconvert)\n\u001b[1;32m   1744\u001b[0m \u001b[38;5;28;01melse\u001b[39;00m:\n\u001b[1;32m   1745\u001b[0m     \u001b[38;5;28;01mreturn\u001b[39;00m lib\u001b[38;5;241m.\u001b[39mmap_infer_mask(\n\u001b[1;32m   1746\u001b[0m         values, mapper, mask\u001b[38;5;241m=\u001b[39misna(values)\u001b[38;5;241m.\u001b[39mview(np\u001b[38;5;241m.\u001b[39muint8), convert\u001b[38;5;241m=\u001b[39mconvert\n\u001b[1;32m   1747\u001b[0m     )\n",
      "File \u001b[0;32mpandas/_libs/lib.pyx:2999\u001b[0m, in \u001b[0;36mpandas._libs.lib.map_infer\u001b[0;34m()\u001b[0m\n",
      "Cell \u001b[0;32mIn[132], line 1\u001b[0m, in \u001b[0;36m<lambda>\u001b[0;34m(x)\u001b[0m\n\u001b[0;32m----> 1\u001b[0m df_cal2[\u001b[38;5;124m'\u001b[39m\u001b[38;5;124mpct_change\u001b[39m\u001b[38;5;124m'\u001b[39m] \u001b[38;5;241m=\u001b[39m df_cal2[\u001b[38;5;124m'\u001b[39m\u001b[38;5;124mchange\u001b[39m\u001b[38;5;124m'\u001b[39m]\u001b[38;5;241m.\u001b[39mapply(\u001b[38;5;28;01mlambda\u001b[39;00m x: \u001b[38;5;28mfloat\u001b[39m(x\u001b[38;5;241m.\u001b[39mstrip(\u001b[38;5;124m'\u001b[39m\u001b[38;5;124m+\u001b[39m\u001b[38;5;124m%\u001b[39m\u001b[38;5;124m'\u001b[39m)))\n",
      "\u001b[0;31mValueError\u001b[0m: could not convert string to float: '−0.2'"
     ]
    }
   ],
   "source": [
    "df_cal2['pct_change'] = df_cal2['change'].apply(lambda x: float(x.strip('+%')))"
   ]
  },
  {
   "cell_type": "markdown",
   "id": "be812a6a-0c05-46d5-9b2d-25c4ee85d4ad",
   "metadata": {},
   "source": [
    "That's weird! We should be able to convert a '-' to a minus sign... what character are we actually seeing in the table?"
   ]
  },
  {
   "cell_type": "code",
   "execution_count": 133,
   "id": "09fa306a-6b5d-4eeb-bac9-fcd5fa4651f9",
   "metadata": {},
   "outputs": [
    {
     "data": {
      "text/plain": [
       "'−'"
      ]
     },
     "execution_count": 133,
     "metadata": {},
     "output_type": "execute_result"
    }
   ],
   "source": [
    "df_cal2.iloc[1]['change'][0]"
   ]
  },
  {
   "cell_type": "code",
   "execution_count": 134,
   "id": "2fde0d8a-6042-4aa7-a892-846ca3afc726",
   "metadata": {},
   "outputs": [
    {
     "data": {
      "text/plain": [
       "False"
      ]
     },
     "execution_count": 134,
     "metadata": {},
     "output_type": "execute_result"
    }
   ],
   "source": [
    "df_cal2.iloc[1]['change'][0] == '-'"
   ]
  },
  {
   "cell_type": "markdown",
   "id": "1e73cd4b-51f5-4048-a1c8-b7ef873d51bf",
   "metadata": {},
   "source": [
    "*...What?*"
   ]
  },
  {
   "cell_type": "markdown",
   "id": "a8b0278e-a648-401f-9cf2-d35d0108546a",
   "metadata": {},
   "source": [
    "## Character Encodings: ASCII, ISO-8859-1, UTF-8\n",
    "\n",
    "There are several systems for storing alphanumeric characters; the most basic of these is [ASCII](https://en.wikipedia.org/wiki/ASCII), which stores upper- and lower-case letters in the English alphabet, numbers, some punctuation, and control characters, all in 8 bits (a byte) of computer memory. There are 128 characters in ASCII.\n",
    "\n",
    "But there are thousands of discrete characters when other languages are taken into consideration. UTF-8 (Unicode) and ISO 8859-1 (Latin-1) are other character formats that take up more space, but which can store representations of many other characters besides the ones in ASCII... including some that *look* like ASCII characters but aren't. The ASCII '-' sign functions both as a hyphen (en-dash) and a minus sign.\n",
    "\n",
    "However, there is also a Unicode character 8722 which is explicitly a minus sign. This is how the minus signs are encoded on some Wikipedia articles.\n",
    "\n",
    "It's important to note that the first 128 characters in Unicode correspond to the characters in ASCII."
   ]
  },
  {
   "cell_type": "markdown",
   "id": "bcbc946c-9b72-48c8-a90e-5da904776171",
   "metadata": {},
   "source": [
    "#### `ord()` and `chr()`\n",
    "\n",
    "If you want to convert a character to its unique Unicode identifier, you can use the built-in Python function `ord()`. To go the opposite direction and convert from Unicode identifier to character, you can use `chr()`."
   ]
  },
  {
   "cell_type": "code",
   "execution_count": 135,
   "id": "e5233616-0c4e-4bbd-a136-b76592ea440f",
   "metadata": {},
   "outputs": [
    {
     "data": {
      "text/plain": [
       "45"
      ]
     },
     "execution_count": 135,
     "metadata": {},
     "output_type": "execute_result"
    }
   ],
   "source": [
    "#ASCII en-dash/hyphen/minus\n",
    "ord('-')"
   ]
  },
  {
   "cell_type": "code",
   "execution_count": 136,
   "id": "709220d6-8be1-48f3-a3b9-3a86e6c2749a",
   "metadata": {},
   "outputs": [
    {
     "data": {
      "text/plain": [
       "'-'"
      ]
     },
     "execution_count": 136,
     "metadata": {},
     "output_type": "execute_result"
    }
   ],
   "source": [
    "chr(45)"
   ]
  },
  {
   "cell_type": "code",
   "execution_count": 137,
   "id": "68abaee3-8b47-436d-a599-898309e793f1",
   "metadata": {},
   "outputs": [
    {
     "data": {
      "text/plain": [
       "8722"
      ]
     },
     "execution_count": 137,
     "metadata": {},
     "output_type": "execute_result"
    }
   ],
   "source": [
    "#Special Unicode minus\n",
    "ord(df_cal2.iloc[1]['change'][0])"
   ]
  },
  {
   "cell_type": "code",
   "execution_count": 138,
   "id": "63245fc8-3121-4547-ac10-1fef24325c01",
   "metadata": {},
   "outputs": [
    {
     "data": {
      "text/plain": [
       "'−'"
      ]
     },
     "execution_count": 138,
     "metadata": {},
     "output_type": "execute_result"
    }
   ],
   "source": [
    "chr(8722)"
   ]
  },
  {
   "cell_type": "code",
   "execution_count": 139,
   "id": "1a6835d2-2838-4142-9986-f9492545b56d",
   "metadata": {},
   "outputs": [
    {
     "name": "stdout",
     "output_type": "stream",
     "text": [
      "<class 'pandas.core.frame.DataFrame'>\n",
      "Index: 483 entries, 0 to 482\n",
      "Data columns (total 10 columns):\n",
      " #   Column        Non-Null Count  Dtype  \n",
      "---  ------        --------------  -----  \n",
      " 0   name          483 non-null    object \n",
      " 1   type          483 non-null    object \n",
      " 2   county        483 non-null    object \n",
      " 3   pop2020       483 non-null    int64  \n",
      " 4   pop2010       483 non-null    int64  \n",
      " 5   change        483 non-null    object \n",
      " 6   area          483 non-null    object \n",
      " 7   pop_dens      483 non-null    object \n",
      " 8   incorporated  483 non-null    object \n",
      " 9   pct_change    483 non-null    float64\n",
      "dtypes: float64(1), int64(2), object(7)\n",
      "memory usage: 41.5+ KB\n"
     ]
    }
   ],
   "source": [
    "df_cal2['pct_change'] = df_cal2['change'].apply(lambda x: float(x.replace(chr(8722), '-').strip('+%')))\n",
    "df_cal2.info()"
   ]
  },
  {
   "cell_type": "markdown",
   "id": "14a50c21-266e-4ef5-9e36-b2c5ba78d21a",
   "metadata": {},
   "source": [
    "There! Now the minus sign can be correctly interpreted by `float()` and used to convert a string to a negative decimal number."
   ]
  },
  {
   "cell_type": "markdown",
   "id": "534ddea4-1568-45f4-97cb-6670b6e4619b",
   "metadata": {},
   "source": [
    "## Coding Exercise - String Methods in Lambda Expressions"
   ]
  },
  {
   "cell_type": "markdown",
   "id": "b6cabb5a-90e2-40f9-ae79-dbecf2a30948",
   "metadata": {},
   "source": [
    "How do we get our area into a numeric data type?"
   ]
  },
  {
   "cell_type": "code",
   "execution_count": 140,
   "id": "80bd330e-529e-4192-9485-6245f30161cc",
   "metadata": {},
   "outputs": [],
   "source": [
    "################################################################################\n",
    "################################################################################\n",
    "\n",
    "df_cal2['area_sq_miles'] = df_cal2['area'].apply(lambda x: float(x.split('sq')[0].replace(',','')))\n",
    "\n",
    "################################################################################\n",
    "################################################################################"
   ]
  },
  {
   "cell_type": "code",
   "execution_count": 142,
   "id": "c297d5cb-ebcf-4f66-88d2-08a21bad6cd3",
   "metadata": {},
   "outputs": [
    {
     "data": {
      "text/html": [
       "<div>\n",
       "<style scoped>\n",
       "    .dataframe tbody tr th:only-of-type {\n",
       "        vertical-align: middle;\n",
       "    }\n",
       "\n",
       "    .dataframe tbody tr th {\n",
       "        vertical-align: top;\n",
       "    }\n",
       "\n",
       "    .dataframe thead th {\n",
       "        text-align: right;\n",
       "    }\n",
       "</style>\n",
       "<table border=\"1\" class=\"dataframe\">\n",
       "  <thead>\n",
       "    <tr style=\"text-align: right;\">\n",
       "      <th></th>\n",
       "      <th>name</th>\n",
       "      <th>type</th>\n",
       "      <th>county</th>\n",
       "      <th>pop2020</th>\n",
       "      <th>pop2010</th>\n",
       "      <th>change</th>\n",
       "      <th>area</th>\n",
       "      <th>pop_dens</th>\n",
       "      <th>incorporated</th>\n",
       "      <th>pct_change</th>\n",
       "      <th>area_sq_miles</th>\n",
       "    </tr>\n",
       "  </thead>\n",
       "  <tbody>\n",
       "    <tr>\n",
       "      <th>0</th>\n",
       "      <td>Adelanto</td>\n",
       "      <td>City</td>\n",
       "      <td>San Bernardino</td>\n",
       "      <td>38046</td>\n",
       "      <td>31765</td>\n",
       "      <td>+19.8%</td>\n",
       "      <td>52.87 sq mi (136.9 km2)</td>\n",
       "      <td>719.6/sq mi (277.8/km2)</td>\n",
       "      <td>December 22, 1970</td>\n",
       "      <td>19.8</td>\n",
       "      <td>52.87</td>\n",
       "    </tr>\n",
       "    <tr>\n",
       "      <th>1</th>\n",
       "      <td>Agoura Hills</td>\n",
       "      <td>City</td>\n",
       "      <td>Los Angeles</td>\n",
       "      <td>20299</td>\n",
       "      <td>20330</td>\n",
       "      <td>−0.2%</td>\n",
       "      <td>7.80 sq mi (20.2 km2)</td>\n",
       "      <td>2,602.4/sq mi (1,004.8/km2)</td>\n",
       "      <td>December 8, 1982</td>\n",
       "      <td>-0.2</td>\n",
       "      <td>7.80</td>\n",
       "    </tr>\n",
       "    <tr>\n",
       "      <th>2</th>\n",
       "      <td>Alameda</td>\n",
       "      <td>City</td>\n",
       "      <td>Alameda</td>\n",
       "      <td>78280</td>\n",
       "      <td>73812</td>\n",
       "      <td>+6.1%</td>\n",
       "      <td>10.45 sq mi (27.1 km2)</td>\n",
       "      <td>7,490.9/sq mi (2,892.3/km2)</td>\n",
       "      <td>April 19, 1854</td>\n",
       "      <td>6.1</td>\n",
       "      <td>10.45</td>\n",
       "    </tr>\n",
       "    <tr>\n",
       "      <th>3</th>\n",
       "      <td>Albany</td>\n",
       "      <td>City</td>\n",
       "      <td>Alameda</td>\n",
       "      <td>20271</td>\n",
       "      <td>18539</td>\n",
       "      <td>+9.3%</td>\n",
       "      <td>1.79 sq mi (4.6 km2)</td>\n",
       "      <td>11,324.6/sq mi (4,372.4/km2)</td>\n",
       "      <td>September 22, 1908</td>\n",
       "      <td>9.3</td>\n",
       "      <td>1.79</td>\n",
       "    </tr>\n",
       "    <tr>\n",
       "      <th>4</th>\n",
       "      <td>Alhambra</td>\n",
       "      <td>City</td>\n",
       "      <td>Los Angeles</td>\n",
       "      <td>82868</td>\n",
       "      <td>83089</td>\n",
       "      <td>−0.3%</td>\n",
       "      <td>7.63 sq mi (19.8 km2)</td>\n",
       "      <td>10,860.8/sq mi (4,193.4/km2)</td>\n",
       "      <td>July 11, 1903</td>\n",
       "      <td>-0.3</td>\n",
       "      <td>7.63</td>\n",
       "    </tr>\n",
       "  </tbody>\n",
       "</table>\n",
       "</div>"
      ],
      "text/plain": [
       "           name  type          county  pop2020  pop2010  change  \\\n",
       "0      Adelanto  City  San Bernardino    38046    31765  +19.8%   \n",
       "1  Agoura Hills  City     Los Angeles    20299    20330   −0.2%   \n",
       "2       Alameda  City         Alameda    78280    73812   +6.1%   \n",
       "3        Albany  City         Alameda    20271    18539   +9.3%   \n",
       "4      Alhambra  City     Los Angeles    82868    83089   −0.3%   \n",
       "\n",
       "                      area                      pop_dens        incorporated  \\\n",
       "0  52.87 sq mi (136.9 km2)       719.6/sq mi (277.8/km2)   December 22, 1970   \n",
       "1    7.80 sq mi (20.2 km2)   2,602.4/sq mi (1,004.8/km2)    December 8, 1982   \n",
       "2   10.45 sq mi (27.1 km2)   7,490.9/sq mi (2,892.3/km2)      April 19, 1854   \n",
       "3     1.79 sq mi (4.6 km2)  11,324.6/sq mi (4,372.4/km2)  September 22, 1908   \n",
       "4    7.63 sq mi (19.8 km2)  10,860.8/sq mi (4,193.4/km2)       July 11, 1903   \n",
       "\n",
       "   pct_change  area_sq_miles  \n",
       "0        19.8          52.87  \n",
       "1        -0.2           7.80  \n",
       "2         6.1          10.45  \n",
       "3         9.3           1.79  \n",
       "4        -0.3           7.63  "
      ]
     },
     "execution_count": 142,
     "metadata": {},
     "output_type": "execute_result"
    }
   ],
   "source": [
    "df_cal2.head()"
   ]
  },
  {
   "cell_type": "markdown",
   "id": "05d81a45-fcc7-4bca-b59b-60350917a03d",
   "metadata": {},
   "source": [
    "What about population density?"
   ]
  },
  {
   "cell_type": "code",
   "execution_count": 95,
   "id": "5fc96989-4f22-4944-ad16-ee5b0fee904e",
   "metadata": {},
   "outputs": [],
   "source": [
    "################################################################################\n",
    "################################################################################\n",
    "\n",
    "df_cal2['pop_dens_sq_miles'] = df_cal2['pop_dens'].apply(lambda x: float(x.split('/')[0].replace(',','')))\n",
    "\n",
    "################################################################################\n",
    "################################################################################"
   ]
  },
  {
   "cell_type": "code",
   "execution_count": 143,
   "id": "75be249e-7859-4b23-828c-df538bcd1542",
   "metadata": {},
   "outputs": [
    {
     "data": {
      "text/html": [
       "<div>\n",
       "<style scoped>\n",
       "    .dataframe tbody tr th:only-of-type {\n",
       "        vertical-align: middle;\n",
       "    }\n",
       "\n",
       "    .dataframe tbody tr th {\n",
       "        vertical-align: top;\n",
       "    }\n",
       "\n",
       "    .dataframe thead th {\n",
       "        text-align: right;\n",
       "    }\n",
       "</style>\n",
       "<table border=\"1\" class=\"dataframe\">\n",
       "  <thead>\n",
       "    <tr style=\"text-align: right;\">\n",
       "      <th></th>\n",
       "      <th>name</th>\n",
       "      <th>type</th>\n",
       "      <th>county</th>\n",
       "      <th>pop2020</th>\n",
       "      <th>pop2010</th>\n",
       "      <th>change</th>\n",
       "      <th>area</th>\n",
       "      <th>pop_dens</th>\n",
       "      <th>incorporated</th>\n",
       "      <th>pct_change</th>\n",
       "      <th>area_sq_miles</th>\n",
       "    </tr>\n",
       "  </thead>\n",
       "  <tbody>\n",
       "    <tr>\n",
       "      <th>0</th>\n",
       "      <td>Adelanto</td>\n",
       "      <td>City</td>\n",
       "      <td>San Bernardino</td>\n",
       "      <td>38046</td>\n",
       "      <td>31765</td>\n",
       "      <td>+19.8%</td>\n",
       "      <td>52.87 sq mi (136.9 km2)</td>\n",
       "      <td>719.6/sq mi (277.8/km2)</td>\n",
       "      <td>December 22, 1970</td>\n",
       "      <td>19.8</td>\n",
       "      <td>52.87</td>\n",
       "    </tr>\n",
       "    <tr>\n",
       "      <th>1</th>\n",
       "      <td>Agoura Hills</td>\n",
       "      <td>City</td>\n",
       "      <td>Los Angeles</td>\n",
       "      <td>20299</td>\n",
       "      <td>20330</td>\n",
       "      <td>−0.2%</td>\n",
       "      <td>7.80 sq mi (20.2 km2)</td>\n",
       "      <td>2,602.4/sq mi (1,004.8/km2)</td>\n",
       "      <td>December 8, 1982</td>\n",
       "      <td>-0.2</td>\n",
       "      <td>7.80</td>\n",
       "    </tr>\n",
       "    <tr>\n",
       "      <th>2</th>\n",
       "      <td>Alameda</td>\n",
       "      <td>City</td>\n",
       "      <td>Alameda</td>\n",
       "      <td>78280</td>\n",
       "      <td>73812</td>\n",
       "      <td>+6.1%</td>\n",
       "      <td>10.45 sq mi (27.1 km2)</td>\n",
       "      <td>7,490.9/sq mi (2,892.3/km2)</td>\n",
       "      <td>April 19, 1854</td>\n",
       "      <td>6.1</td>\n",
       "      <td>10.45</td>\n",
       "    </tr>\n",
       "    <tr>\n",
       "      <th>3</th>\n",
       "      <td>Albany</td>\n",
       "      <td>City</td>\n",
       "      <td>Alameda</td>\n",
       "      <td>20271</td>\n",
       "      <td>18539</td>\n",
       "      <td>+9.3%</td>\n",
       "      <td>1.79 sq mi (4.6 km2)</td>\n",
       "      <td>11,324.6/sq mi (4,372.4/km2)</td>\n",
       "      <td>September 22, 1908</td>\n",
       "      <td>9.3</td>\n",
       "      <td>1.79</td>\n",
       "    </tr>\n",
       "    <tr>\n",
       "      <th>4</th>\n",
       "      <td>Alhambra</td>\n",
       "      <td>City</td>\n",
       "      <td>Los Angeles</td>\n",
       "      <td>82868</td>\n",
       "      <td>83089</td>\n",
       "      <td>−0.3%</td>\n",
       "      <td>7.63 sq mi (19.8 km2)</td>\n",
       "      <td>10,860.8/sq mi (4,193.4/km2)</td>\n",
       "      <td>July 11, 1903</td>\n",
       "      <td>-0.3</td>\n",
       "      <td>7.63</td>\n",
       "    </tr>\n",
       "  </tbody>\n",
       "</table>\n",
       "</div>"
      ],
      "text/plain": [
       "           name  type          county  pop2020  pop2010  change  \\\n",
       "0      Adelanto  City  San Bernardino    38046    31765  +19.8%   \n",
       "1  Agoura Hills  City     Los Angeles    20299    20330   −0.2%   \n",
       "2       Alameda  City         Alameda    78280    73812   +6.1%   \n",
       "3        Albany  City         Alameda    20271    18539   +9.3%   \n",
       "4      Alhambra  City     Los Angeles    82868    83089   −0.3%   \n",
       "\n",
       "                      area                      pop_dens        incorporated  \\\n",
       "0  52.87 sq mi (136.9 km2)       719.6/sq mi (277.8/km2)   December 22, 1970   \n",
       "1    7.80 sq mi (20.2 km2)   2,602.4/sq mi (1,004.8/km2)    December 8, 1982   \n",
       "2   10.45 sq mi (27.1 km2)   7,490.9/sq mi (2,892.3/km2)      April 19, 1854   \n",
       "3     1.79 sq mi (4.6 km2)  11,324.6/sq mi (4,372.4/km2)  September 22, 1908   \n",
       "4    7.63 sq mi (19.8 km2)  10,860.8/sq mi (4,193.4/km2)       July 11, 1903   \n",
       "\n",
       "   pct_change  area_sq_miles  \n",
       "0        19.8          52.87  \n",
       "1        -0.2           7.80  \n",
       "2         6.1          10.45  \n",
       "3         9.3           1.79  \n",
       "4        -0.3           7.63  "
      ]
     },
     "execution_count": 143,
     "metadata": {},
     "output_type": "execute_result"
    }
   ],
   "source": [
    "df_cal2.head()"
   ]
  },
  {
   "cell_type": "markdown",
   "id": "20be5ae2-83c1-473c-8ddf-245fda2852e2",
   "metadata": {},
   "source": [
    "### Machine-Readable Dates - `dateutil`\n",
    "\n",
    "The `dateutil` module has a parser that can change dates like \"December 22, 1970\" to a format like \"1970-12-22\". We'll use it here to clean our \"incorporated\" column."
   ]
  },
  {
   "cell_type": "code",
   "execution_count": 96,
   "id": "21240b79-8791-49e4-b896-fbd777e2fc18",
   "metadata": {},
   "outputs": [],
   "source": [
    "df_cal2['incorp_parse'] = df_cal2['incorporated'].apply(lambda x: dateutil.parser.parse(x.split('[')[0]))"
   ]
  },
  {
   "cell_type": "code",
   "execution_count": 97,
   "id": "00b58a17-881f-4a29-acbe-d521bdb90874",
   "metadata": {
    "scrolled": true
   },
   "outputs": [
    {
     "data": {
      "text/html": [
       "<div>\n",
       "<style scoped>\n",
       "    .dataframe tbody tr th:only-of-type {\n",
       "        vertical-align: middle;\n",
       "    }\n",
       "\n",
       "    .dataframe tbody tr th {\n",
       "        vertical-align: top;\n",
       "    }\n",
       "\n",
       "    .dataframe thead th {\n",
       "        text-align: right;\n",
       "    }\n",
       "</style>\n",
       "<table border=\"1\" class=\"dataframe\">\n",
       "  <thead>\n",
       "    <tr style=\"text-align: right;\">\n",
       "      <th></th>\n",
       "      <th>name</th>\n",
       "      <th>type</th>\n",
       "      <th>county</th>\n",
       "      <th>pop2020</th>\n",
       "      <th>pop2010</th>\n",
       "      <th>change</th>\n",
       "      <th>area</th>\n",
       "      <th>pop_dens</th>\n",
       "      <th>incorporated</th>\n",
       "      <th>pct_change</th>\n",
       "      <th>area_sq_miles</th>\n",
       "      <th>pop_dens_sq_miles</th>\n",
       "      <th>incorp_parse</th>\n",
       "    </tr>\n",
       "  </thead>\n",
       "  <tbody>\n",
       "    <tr>\n",
       "      <th>0</th>\n",
       "      <td>Adelanto</td>\n",
       "      <td>City</td>\n",
       "      <td>San Bernardino</td>\n",
       "      <td>38046</td>\n",
       "      <td>31765</td>\n",
       "      <td>+19.8%</td>\n",
       "      <td>52.87 sq mi (136.9 km2)</td>\n",
       "      <td>719.6/sq mi (277.8/km2)</td>\n",
       "      <td>December 22, 1970</td>\n",
       "      <td>19.8</td>\n",
       "      <td>52.87</td>\n",
       "      <td>719.6</td>\n",
       "      <td>1970-12-22</td>\n",
       "    </tr>\n",
       "    <tr>\n",
       "      <th>1</th>\n",
       "      <td>Agoura Hills</td>\n",
       "      <td>City</td>\n",
       "      <td>Los Angeles</td>\n",
       "      <td>20299</td>\n",
       "      <td>20330</td>\n",
       "      <td>−0.2%</td>\n",
       "      <td>7.80 sq mi (20.2 km2)</td>\n",
       "      <td>2,602.4/sq mi (1,004.8/km2)</td>\n",
       "      <td>December 8, 1982</td>\n",
       "      <td>-0.2</td>\n",
       "      <td>7.80</td>\n",
       "      <td>2602.4</td>\n",
       "      <td>1982-12-08</td>\n",
       "    </tr>\n",
       "    <tr>\n",
       "      <th>2</th>\n",
       "      <td>Alameda</td>\n",
       "      <td>City</td>\n",
       "      <td>Alameda</td>\n",
       "      <td>78280</td>\n",
       "      <td>73812</td>\n",
       "      <td>+6.1%</td>\n",
       "      <td>10.45 sq mi (27.1 km2)</td>\n",
       "      <td>7,490.9/sq mi (2,892.3/km2)</td>\n",
       "      <td>April 19, 1854</td>\n",
       "      <td>6.1</td>\n",
       "      <td>10.45</td>\n",
       "      <td>7490.9</td>\n",
       "      <td>1854-04-19</td>\n",
       "    </tr>\n",
       "    <tr>\n",
       "      <th>3</th>\n",
       "      <td>Albany</td>\n",
       "      <td>City</td>\n",
       "      <td>Alameda</td>\n",
       "      <td>20271</td>\n",
       "      <td>18539</td>\n",
       "      <td>+9.3%</td>\n",
       "      <td>1.79 sq mi (4.6 km2)</td>\n",
       "      <td>11,324.6/sq mi (4,372.4/km2)</td>\n",
       "      <td>September 22, 1908</td>\n",
       "      <td>9.3</td>\n",
       "      <td>1.79</td>\n",
       "      <td>11324.6</td>\n",
       "      <td>1908-09-22</td>\n",
       "    </tr>\n",
       "    <tr>\n",
       "      <th>4</th>\n",
       "      <td>Alhambra</td>\n",
       "      <td>City</td>\n",
       "      <td>Los Angeles</td>\n",
       "      <td>82868</td>\n",
       "      <td>83089</td>\n",
       "      <td>−0.3%</td>\n",
       "      <td>7.63 sq mi (19.8 km2)</td>\n",
       "      <td>10,860.8/sq mi (4,193.4/km2)</td>\n",
       "      <td>July 11, 1903</td>\n",
       "      <td>-0.3</td>\n",
       "      <td>7.63</td>\n",
       "      <td>10860.8</td>\n",
       "      <td>1903-07-11</td>\n",
       "    </tr>\n",
       "    <tr>\n",
       "      <th>...</th>\n",
       "      <td>...</td>\n",
       "      <td>...</td>\n",
       "      <td>...</td>\n",
       "      <td>...</td>\n",
       "      <td>...</td>\n",
       "      <td>...</td>\n",
       "      <td>...</td>\n",
       "      <td>...</td>\n",
       "      <td>...</td>\n",
       "      <td>...</td>\n",
       "      <td>...</td>\n",
       "      <td>...</td>\n",
       "      <td>...</td>\n",
       "    </tr>\n",
       "    <tr>\n",
       "      <th>478</th>\n",
       "      <td>Yountville</td>\n",
       "      <td>Town</td>\n",
       "      <td>Napa</td>\n",
       "      <td>3436</td>\n",
       "      <td>2933</td>\n",
       "      <td>+17.1%</td>\n",
       "      <td>1.49 sq mi (3.9 km2)</td>\n",
       "      <td>2,306.0/sq mi (890.4/km2)</td>\n",
       "      <td>February 4, 1965</td>\n",
       "      <td>17.1</td>\n",
       "      <td>1.49</td>\n",
       "      <td>2306.0</td>\n",
       "      <td>1965-02-04</td>\n",
       "    </tr>\n",
       "    <tr>\n",
       "      <th>479</th>\n",
       "      <td>Yreka</td>\n",
       "      <td>City</td>\n",
       "      <td>Siskiyou</td>\n",
       "      <td>7807</td>\n",
       "      <td>7765</td>\n",
       "      <td>+0.5%</td>\n",
       "      <td>9.99 sq mi (25.9 km2)</td>\n",
       "      <td>781.5/sq mi (301.7/km2)</td>\n",
       "      <td>April 21, 1857</td>\n",
       "      <td>0.5</td>\n",
       "      <td>9.99</td>\n",
       "      <td>781.5</td>\n",
       "      <td>1857-04-21</td>\n",
       "    </tr>\n",
       "    <tr>\n",
       "      <th>480</th>\n",
       "      <td>Yuba City</td>\n",
       "      <td>City</td>\n",
       "      <td>Sutter</td>\n",
       "      <td>70117</td>\n",
       "      <td>64925</td>\n",
       "      <td>+8.0%</td>\n",
       "      <td>14.98 sq mi (38.8 km2)</td>\n",
       "      <td>4,680.7/sq mi (1,807.2/km2)</td>\n",
       "      <td>January 23, 1908</td>\n",
       "      <td>8.0</td>\n",
       "      <td>14.98</td>\n",
       "      <td>4680.7</td>\n",
       "      <td>1908-01-23</td>\n",
       "    </tr>\n",
       "    <tr>\n",
       "      <th>481</th>\n",
       "      <td>Yucaipa</td>\n",
       "      <td>City</td>\n",
       "      <td>San Bernardino</td>\n",
       "      <td>54542</td>\n",
       "      <td>51367</td>\n",
       "      <td>+6.2%</td>\n",
       "      <td>28.27 sq mi (73.2 km2)</td>\n",
       "      <td>1,929.3/sq mi (744.9/km2)</td>\n",
       "      <td>November 27, 1989</td>\n",
       "      <td>6.2</td>\n",
       "      <td>28.27</td>\n",
       "      <td>1929.3</td>\n",
       "      <td>1989-11-27</td>\n",
       "    </tr>\n",
       "    <tr>\n",
       "      <th>482</th>\n",
       "      <td>Yucca Valley</td>\n",
       "      <td>Town</td>\n",
       "      <td>San Bernardino</td>\n",
       "      <td>21738</td>\n",
       "      <td>20700</td>\n",
       "      <td>+5.0%</td>\n",
       "      <td>39.83 sq mi (103.2 km2)</td>\n",
       "      <td>545.8/sq mi (210.7/km2)</td>\n",
       "      <td>November 27, 1991</td>\n",
       "      <td>5.0</td>\n",
       "      <td>39.83</td>\n",
       "      <td>545.8</td>\n",
       "      <td>1991-11-27</td>\n",
       "    </tr>\n",
       "  </tbody>\n",
       "</table>\n",
       "<p>483 rows × 13 columns</p>\n",
       "</div>"
      ],
      "text/plain": [
       "             name  type          county  pop2020  pop2010  change  \\\n",
       "0        Adelanto  City  San Bernardino    38046    31765  +19.8%   \n",
       "1    Agoura Hills  City     Los Angeles    20299    20330   −0.2%   \n",
       "2         Alameda  City         Alameda    78280    73812   +6.1%   \n",
       "3          Albany  City         Alameda    20271    18539   +9.3%   \n",
       "4        Alhambra  City     Los Angeles    82868    83089   −0.3%   \n",
       "..            ...   ...             ...      ...      ...     ...   \n",
       "478    Yountville  Town            Napa     3436     2933  +17.1%   \n",
       "479         Yreka  City        Siskiyou     7807     7765   +0.5%   \n",
       "480     Yuba City  City          Sutter    70117    64925   +8.0%   \n",
       "481       Yucaipa  City  San Bernardino    54542    51367   +6.2%   \n",
       "482  Yucca Valley  Town  San Bernardino    21738    20700   +5.0%   \n",
       "\n",
       "                        area                      pop_dens  \\\n",
       "0    52.87 sq mi (136.9 km2)       719.6/sq mi (277.8/km2)   \n",
       "1      7.80 sq mi (20.2 km2)   2,602.4/sq mi (1,004.8/km2)   \n",
       "2     10.45 sq mi (27.1 km2)   7,490.9/sq mi (2,892.3/km2)   \n",
       "3       1.79 sq mi (4.6 km2)  11,324.6/sq mi (4,372.4/km2)   \n",
       "4      7.63 sq mi (19.8 km2)  10,860.8/sq mi (4,193.4/km2)   \n",
       "..                       ...                           ...   \n",
       "478     1.49 sq mi (3.9 km2)     2,306.0/sq mi (890.4/km2)   \n",
       "479    9.99 sq mi (25.9 km2)       781.5/sq mi (301.7/km2)   \n",
       "480   14.98 sq mi (38.8 km2)   4,680.7/sq mi (1,807.2/km2)   \n",
       "481   28.27 sq mi (73.2 km2)     1,929.3/sq mi (744.9/km2)   \n",
       "482  39.83 sq mi (103.2 km2)       545.8/sq mi (210.7/km2)   \n",
       "\n",
       "           incorporated  pct_change  area_sq_miles  pop_dens_sq_miles  \\\n",
       "0     December 22, 1970        19.8          52.87              719.6   \n",
       "1      December 8, 1982        -0.2           7.80             2602.4   \n",
       "2        April 19, 1854         6.1          10.45             7490.9   \n",
       "3    September 22, 1908         9.3           1.79            11324.6   \n",
       "4         July 11, 1903        -0.3           7.63            10860.8   \n",
       "..                  ...         ...            ...                ...   \n",
       "478    February 4, 1965        17.1           1.49             2306.0   \n",
       "479      April 21, 1857         0.5           9.99              781.5   \n",
       "480    January 23, 1908         8.0          14.98             4680.7   \n",
       "481   November 27, 1989         6.2          28.27             1929.3   \n",
       "482   November 27, 1991         5.0          39.83              545.8   \n",
       "\n",
       "    incorp_parse  \n",
       "0     1970-12-22  \n",
       "1     1982-12-08  \n",
       "2     1854-04-19  \n",
       "3     1908-09-22  \n",
       "4     1903-07-11  \n",
       "..           ...  \n",
       "478   1965-02-04  \n",
       "479   1857-04-21  \n",
       "480   1908-01-23  \n",
       "481   1989-11-27  \n",
       "482   1991-11-27  \n",
       "\n",
       "[483 rows x 13 columns]"
      ]
     },
     "execution_count": 97,
     "metadata": {},
     "output_type": "execute_result"
    }
   ],
   "source": [
    "df_cal2"
   ]
  },
  {
   "cell_type": "markdown",
   "id": "72767fd5-e9ea-4ac0-8c08-389fef9dede9",
   "metadata": {},
   "source": [
    "`dateutil` turned the dates in \"incoroprated\" column into Timestamp data, a special numerical data type that allows for various operations dealing with time."
   ]
  },
  {
   "cell_type": "code",
   "execution_count": 98,
   "id": "35d476bc-e6a3-4be1-830e-eba5c866d973",
   "metadata": {},
   "outputs": [
    {
     "data": {
      "text/plain": [
       "Timestamp('2024-07-01 00:00:00')"
      ]
     },
     "execution_count": 98,
     "metadata": {},
     "output_type": "execute_result"
    }
   ],
   "source": [
    "df_cal2['incorp_parse'].max()"
   ]
  },
  {
   "cell_type": "code",
   "execution_count": 99,
   "id": "091e82a4-7cd3-426c-badc-50086cab0fd3",
   "metadata": {},
   "outputs": [
    {
     "data": {
      "text/plain": [
       "Timestamp('1850-02-27 00:00:00')"
      ]
     },
     "execution_count": 99,
     "metadata": {},
     "output_type": "execute_result"
    }
   ],
   "source": [
    "df_cal2['incorp_parse'].min()"
   ]
  },
  {
   "cell_type": "code",
   "execution_count": 100,
   "id": "9d78ffcc-4054-431a-93c7-cc0cc4423940",
   "metadata": {
    "scrolled": true
   },
   "outputs": [
    {
     "data": {
      "text/html": [
       "<div>\n",
       "<style scoped>\n",
       "    .dataframe tbody tr th:only-of-type {\n",
       "        vertical-align: middle;\n",
       "    }\n",
       "\n",
       "    .dataframe tbody tr th {\n",
       "        vertical-align: top;\n",
       "    }\n",
       "\n",
       "    .dataframe thead th {\n",
       "        text-align: right;\n",
       "    }\n",
       "</style>\n",
       "<table border=\"1\" class=\"dataframe\">\n",
       "  <thead>\n",
       "    <tr style=\"text-align: right;\">\n",
       "      <th></th>\n",
       "      <th>pop2020</th>\n",
       "      <th>pop2010</th>\n",
       "      <th>pct_change</th>\n",
       "      <th>area_sq_miles</th>\n",
       "      <th>pop_dens_sq_miles</th>\n",
       "      <th>incorp_parse</th>\n",
       "    </tr>\n",
       "  </thead>\n",
       "  <tbody>\n",
       "    <tr>\n",
       "      <th>count</th>\n",
       "      <td>4.830000e+02</td>\n",
       "      <td>4.830000e+02</td>\n",
       "      <td>483.000000</td>\n",
       "      <td>483.000000</td>\n",
       "      <td>483.000000</td>\n",
       "      <td>483</td>\n",
       "    </tr>\n",
       "    <tr>\n",
       "      <th>mean</th>\n",
       "      <td>6.837568e+04</td>\n",
       "      <td>6.400950e+04</td>\n",
       "      <td>6.062112</td>\n",
       "      <td>17.154654</td>\n",
       "      <td>4313.461491</td>\n",
       "      <td>1928-08-03 22:15:39.130434816</td>\n",
       "    </tr>\n",
       "    <tr>\n",
       "      <th>min</th>\n",
       "      <td>2.000000e+02</td>\n",
       "      <td>1.120000e+02</td>\n",
       "      <td>-81.800000</td>\n",
       "      <td>0.310000</td>\n",
       "      <td>22.400000</td>\n",
       "      <td>1850-02-27 00:00:00</td>\n",
       "    </tr>\n",
       "    <tr>\n",
       "      <th>25%</th>\n",
       "      <td>1.133150e+04</td>\n",
       "      <td>1.086100e+04</td>\n",
       "      <td>0.950000</td>\n",
       "      <td>3.535000</td>\n",
       "      <td>2067.400000</td>\n",
       "      <td>1902-05-25 12:00:00</td>\n",
       "    </tr>\n",
       "    <tr>\n",
       "      <th>50%</th>\n",
       "      <td>3.105100e+04</td>\n",
       "      <td>2.897600e+04</td>\n",
       "      <td>4.700000</td>\n",
       "      <td>8.420000</td>\n",
       "      <td>3540.900000</td>\n",
       "      <td>1919-02-28 00:00:00</td>\n",
       "    </tr>\n",
       "    <tr>\n",
       "      <th>75%</th>\n",
       "      <td>7.238250e+04</td>\n",
       "      <td>6.676850e+04</td>\n",
       "      <td>9.400000</td>\n",
       "      <td>19.410000</td>\n",
       "      <td>5352.100000</td>\n",
       "      <td>1960-05-28 00:00:00</td>\n",
       "    </tr>\n",
       "    <tr>\n",
       "      <th>max</th>\n",
       "      <td>3.898747e+06</td>\n",
       "      <td>3.792621e+06</td>\n",
       "      <td>153.200000</td>\n",
       "      <td>469.490000</td>\n",
       "      <td>21485.500000</td>\n",
       "      <td>2024-07-01 00:00:00</td>\n",
       "    </tr>\n",
       "    <tr>\n",
       "      <th>std</th>\n",
       "      <td>2.058428e+05</td>\n",
       "      <td>1.978657e+05</td>\n",
       "      <td>12.913795</td>\n",
       "      <td>32.904595</td>\n",
       "      <td>3344.961557</td>\n",
       "      <td>NaN</td>\n",
       "    </tr>\n",
       "  </tbody>\n",
       "</table>\n",
       "</div>"
      ],
      "text/plain": [
       "            pop2020       pop2010  pct_change  area_sq_miles  \\\n",
       "count  4.830000e+02  4.830000e+02  483.000000     483.000000   \n",
       "mean   6.837568e+04  6.400950e+04    6.062112      17.154654   \n",
       "min    2.000000e+02  1.120000e+02  -81.800000       0.310000   \n",
       "25%    1.133150e+04  1.086100e+04    0.950000       3.535000   \n",
       "50%    3.105100e+04  2.897600e+04    4.700000       8.420000   \n",
       "75%    7.238250e+04  6.676850e+04    9.400000      19.410000   \n",
       "max    3.898747e+06  3.792621e+06  153.200000     469.490000   \n",
       "std    2.058428e+05  1.978657e+05   12.913795      32.904595   \n",
       "\n",
       "       pop_dens_sq_miles                   incorp_parse  \n",
       "count         483.000000                            483  \n",
       "mean         4313.461491  1928-08-03 22:15:39.130434816  \n",
       "min            22.400000            1850-02-27 00:00:00  \n",
       "25%          2067.400000            1902-05-25 12:00:00  \n",
       "50%          3540.900000            1919-02-28 00:00:00  \n",
       "75%          5352.100000            1960-05-28 00:00:00  \n",
       "max         21485.500000            2024-07-01 00:00:00  \n",
       "std          3344.961557                            NaN  "
      ]
     },
     "execution_count": 100,
     "metadata": {},
     "output_type": "execute_result"
    }
   ],
   "source": [
    "df_cal2.describe()"
   ]
  },
  {
   "cell_type": "markdown",
   "id": "5c7ca360-1f6f-4e79-ae7d-3d1731ccb208",
   "metadata": {},
   "source": [
    "## Coding Exercise - Cities Incorporated Before California Statehood"
   ]
  },
  {
   "cell_type": "markdown",
   "id": "7da1e749-5677-44ff-bd02-a27952db9d1b",
   "metadata": {},
   "source": [
    "California was admitted to the Union as the 31st state on September 9, 1850.\n",
    "\n",
    "Can you filter the `df_cal2` DataFrame to find all the cities that were incorporated before this date?\n",
    "\n",
    "How about cities that were incorporated within ten years of this date?"
   ]
  },
  {
   "cell_type": "code",
   "execution_count": 101,
   "id": "ef26cc2f-1e80-4864-ade1-e001f624420b",
   "metadata": {},
   "outputs": [
    {
     "data": {
      "text/html": [
       "<div>\n",
       "<style scoped>\n",
       "    .dataframe tbody tr th:only-of-type {\n",
       "        vertical-align: middle;\n",
       "    }\n",
       "\n",
       "    .dataframe tbody tr th {\n",
       "        vertical-align: top;\n",
       "    }\n",
       "\n",
       "    .dataframe thead th {\n",
       "        text-align: right;\n",
       "    }\n",
       "</style>\n",
       "<table border=\"1\" class=\"dataframe\">\n",
       "  <thead>\n",
       "    <tr style=\"text-align: right;\">\n",
       "      <th></th>\n",
       "      <th>name</th>\n",
       "      <th>type</th>\n",
       "      <th>county</th>\n",
       "      <th>pop2020</th>\n",
       "      <th>pop2010</th>\n",
       "      <th>change</th>\n",
       "      <th>area</th>\n",
       "      <th>pop_dens</th>\n",
       "      <th>incorporated</th>\n",
       "      <th>pct_change</th>\n",
       "      <th>area_sq_miles</th>\n",
       "      <th>pop_dens_sq_miles</th>\n",
       "      <th>incorp_parse</th>\n",
       "    </tr>\n",
       "  </thead>\n",
       "  <tbody>\n",
       "    <tr>\n",
       "      <th>36</th>\n",
       "      <td>Benicia</td>\n",
       "      <td>City</td>\n",
       "      <td>Solano</td>\n",
       "      <td>27131</td>\n",
       "      <td>26997</td>\n",
       "      <td>+0.5%</td>\n",
       "      <td>12.81 sq mi (33.2 km2)</td>\n",
       "      <td>2,118.0/sq mi (817.7/km2)</td>\n",
       "      <td>March 27, 1850</td>\n",
       "      <td>0.5</td>\n",
       "      <td>12.81</td>\n",
       "      <td>2118.0</td>\n",
       "      <td>1850-03-27</td>\n",
       "    </tr>\n",
       "    <tr>\n",
       "      <th>239</th>\n",
       "      <td>Los Angeles</td>\n",
       "      <td>City</td>\n",
       "      <td>Los Angeles</td>\n",
       "      <td>3898747</td>\n",
       "      <td>3792621</td>\n",
       "      <td>+2.8%</td>\n",
       "      <td>469.49 sq mi (1,216.0 km2)</td>\n",
       "      <td>8,304.2/sq mi (3,206.3/km2)</td>\n",
       "      <td>April 4, 1850</td>\n",
       "      <td>2.8</td>\n",
       "      <td>469.49</td>\n",
       "      <td>8304.2</td>\n",
       "      <td>1850-04-04</td>\n",
       "    </tr>\n",
       "    <tr>\n",
       "      <th>360</th>\n",
       "      <td>Sacramento‡</td>\n",
       "      <td>City</td>\n",
       "      <td>Sacramento</td>\n",
       "      <td>524943</td>\n",
       "      <td>466488</td>\n",
       "      <td>+12.5%</td>\n",
       "      <td>98.61 sq mi (255.4 km2)</td>\n",
       "      <td>5,323.4/sq mi (2,055.4/km2)</td>\n",
       "      <td>February 27, 1850</td>\n",
       "      <td>12.5</td>\n",
       "      <td>98.61</td>\n",
       "      <td>5323.4</td>\n",
       "      <td>1850-02-27</td>\n",
       "    </tr>\n",
       "    <tr>\n",
       "      <th>368</th>\n",
       "      <td>San Diego</td>\n",
       "      <td>City</td>\n",
       "      <td>San Diego</td>\n",
       "      <td>1386932</td>\n",
       "      <td>1307402</td>\n",
       "      <td>+6.1%</td>\n",
       "      <td>325.88 sq mi (844.0 km2)</td>\n",
       "      <td>4,256.0/sq mi (1,643.2/km2)</td>\n",
       "      <td>March 27, 1850</td>\n",
       "      <td>6.1</td>\n",
       "      <td>325.88</td>\n",
       "      <td>4256.0</td>\n",
       "      <td>1850-03-27</td>\n",
       "    </tr>\n",
       "    <tr>\n",
       "      <th>371</th>\n",
       "      <td>San Francisco</td>\n",
       "      <td>City and county</td>\n",
       "      <td>San Francisco</td>\n",
       "      <td>873965</td>\n",
       "      <td>805235</td>\n",
       "      <td>+8.5%</td>\n",
       "      <td>46.91 sq mi (121.5 km2)</td>\n",
       "      <td>18,630.7/sq mi (7,193.3/km2)</td>\n",
       "      <td>April 15, 1850[13]</td>\n",
       "      <td>8.5</td>\n",
       "      <td>46.91</td>\n",
       "      <td>18630.7</td>\n",
       "      <td>1850-04-15</td>\n",
       "    </tr>\n",
       "    <tr>\n",
       "      <th>375</th>\n",
       "      <td>San Jose</td>\n",
       "      <td>City</td>\n",
       "      <td>Santa Clara</td>\n",
       "      <td>1013240</td>\n",
       "      <td>945942</td>\n",
       "      <td>+7.1%</td>\n",
       "      <td>178.26 sq mi (461.7 km2)</td>\n",
       "      <td>5,684.1/sq mi (2,194.6/km2)</td>\n",
       "      <td>March 27, 1850</td>\n",
       "      <td>7.1</td>\n",
       "      <td>178.26</td>\n",
       "      <td>5684.1</td>\n",
       "      <td>1850-03-27</td>\n",
       "    </tr>\n",
       "    <tr>\n",
       "      <th>389</th>\n",
       "      <td>Santa Barbara</td>\n",
       "      <td>City</td>\n",
       "      <td>Santa Barbara</td>\n",
       "      <td>88665</td>\n",
       "      <td>88410</td>\n",
       "      <td>+0.3%</td>\n",
       "      <td>19.51 sq mi (50.5 km2)</td>\n",
       "      <td>4,544.6/sq mi (1,754.7/km2)</td>\n",
       "      <td>April 9, 1850</td>\n",
       "      <td>0.3</td>\n",
       "      <td>19.51</td>\n",
       "      <td>4544.6</td>\n",
       "      <td>1850-04-09</td>\n",
       "    </tr>\n",
       "    <tr>\n",
       "      <th>422</th>\n",
       "      <td>Stockton</td>\n",
       "      <td>City</td>\n",
       "      <td>San Joaquin</td>\n",
       "      <td>320804</td>\n",
       "      <td>291707</td>\n",
       "      <td>+10.0%</td>\n",
       "      <td>62.21 sq mi (161.1 km2)</td>\n",
       "      <td>5,156.8/sq mi (1,991.0/km2)</td>\n",
       "      <td>July 23, 1850</td>\n",
       "      <td>10.0</td>\n",
       "      <td>62.21</td>\n",
       "      <td>5156.8</td>\n",
       "      <td>1850-07-23</td>\n",
       "    </tr>\n",
       "  </tbody>\n",
       "</table>\n",
       "</div>"
      ],
      "text/plain": [
       "              name             type         county  pop2020  pop2010  change  \\\n",
       "36         Benicia             City         Solano    27131    26997   +0.5%   \n",
       "239    Los Angeles             City    Los Angeles  3898747  3792621   +2.8%   \n",
       "360    Sacramento‡             City     Sacramento   524943   466488  +12.5%   \n",
       "368      San Diego             City      San Diego  1386932  1307402   +6.1%   \n",
       "371  San Francisco  City and county  San Francisco   873965   805235   +8.5%   \n",
       "375       San Jose             City    Santa Clara  1013240   945942   +7.1%   \n",
       "389  Santa Barbara             City  Santa Barbara    88665    88410   +0.3%   \n",
       "422       Stockton             City    San Joaquin   320804   291707  +10.0%   \n",
       "\n",
       "                           area                      pop_dens  \\\n",
       "36       12.81 sq mi (33.2 km2)     2,118.0/sq mi (817.7/km2)   \n",
       "239  469.49 sq mi (1,216.0 km2)   8,304.2/sq mi (3,206.3/km2)   \n",
       "360     98.61 sq mi (255.4 km2)   5,323.4/sq mi (2,055.4/km2)   \n",
       "368    325.88 sq mi (844.0 km2)   4,256.0/sq mi (1,643.2/km2)   \n",
       "371     46.91 sq mi (121.5 km2)  18,630.7/sq mi (7,193.3/km2)   \n",
       "375    178.26 sq mi (461.7 km2)   5,684.1/sq mi (2,194.6/km2)   \n",
       "389      19.51 sq mi (50.5 km2)   4,544.6/sq mi (1,754.7/km2)   \n",
       "422     62.21 sq mi (161.1 km2)   5,156.8/sq mi (1,991.0/km2)   \n",
       "\n",
       "           incorporated  pct_change  area_sq_miles  pop_dens_sq_miles  \\\n",
       "36       March 27, 1850         0.5          12.81             2118.0   \n",
       "239       April 4, 1850         2.8         469.49             8304.2   \n",
       "360   February 27, 1850        12.5          98.61             5323.4   \n",
       "368      March 27, 1850         6.1         325.88             4256.0   \n",
       "371  April 15, 1850[13]         8.5          46.91            18630.7   \n",
       "375      March 27, 1850         7.1         178.26             5684.1   \n",
       "389       April 9, 1850         0.3          19.51             4544.6   \n",
       "422       July 23, 1850        10.0          62.21             5156.8   \n",
       "\n",
       "    incorp_parse  \n",
       "36    1850-03-27  \n",
       "239   1850-04-04  \n",
       "360   1850-02-27  \n",
       "368   1850-03-27  \n",
       "371   1850-04-15  \n",
       "375   1850-03-27  \n",
       "389   1850-04-09  \n",
       "422   1850-07-23  "
      ]
     },
     "execution_count": 101,
     "metadata": {},
     "output_type": "execute_result"
    }
   ],
   "source": [
    "################################################################################\n",
    "################################################################################\n",
    "\n",
    "df_cal2[df_cal2['incorp_parse'] < dateutil.parser.parse('September 9, 1850')]\n",
    "\n",
    "################################################################################\n",
    "################################################################################"
   ]
  },
  {
   "cell_type": "markdown",
   "id": "7b0fcb59-e6e5-4a56-88fe-c990b14581d7",
   "metadata": {},
   "source": [
    "\\****For more time-related Python concepts, join us two weeks from now on Tuesday, November 4 from 2-3 PM, for the Punctual Python workshop. We'll go over a brief selection of tools for handling temporal data, converting between time zones, timing code executions, and creating a progress bar for long Python processes.***"
   ]
  },
  {
   "cell_type": "markdown",
   "id": "d9a89a4c-b15e-4cc8-b513-6a6c721ab752",
   "metadata": {},
   "source": [
    "# Merging DataFrames"
   ]
  },
  {
   "cell_type": "markdown",
   "id": "5bcecaf6-e141-4d63-b8dc-ad8a0ae69591",
   "metadata": {},
   "source": [
    "Notice that there are different population figures between the two DataFrames, df_cal and df_cal2. The `df_cal` DataFrame has population estimates for 2024, while `df_cal2` has figures from the 2010 and 2020 census.\n",
    "\n",
    "What if we want to compare populations between 2020 census and the 2024 estimates?\n",
    "\n",
    "For that, we'll need to merge the DataFrames before we continue."
   ]
  },
  {
   "cell_type": "markdown",
   "id": "f7f80f19-1d40-4258-87b9-a298f0fe5a06",
   "metadata": {},
   "source": [
    "## Conceptual Overview: Joining Tables"
   ]
  },
  {
   "cell_type": "markdown",
   "id": "e645f257-91b6-4290-90b3-ba9e1bac3e05",
   "metadata": {},
   "source": [
    "Whenever you merge data, you must consider which variables/columns you want to merge your data on, and what type of merge you want to perform. In order to merge two datasets, they must have at least one variable in common. If they have multiple variables in common, depending on your desired outcome, you may want to include more than one column to merge the data on.\n",
    "\n",
    "Merges (also called \"joins\") come in several forms:\n",
    "\n",
    "**Inner Join:** only include data from rows where there is a match, where both dataframes have a record that matches on the common variable(s).\n",
    "\n",
    "**Outer Join (or Full Outer Join):** include all data from both dataframes, insert null values where there is no match on the common variable.\n",
    "\n",
    "**Left (or Left Outer) Join:** include all data from the first dataframe, inserting null values for columns from the second dataframe where there is no match on the common variable.\n",
    "\n",
    "**Right Join (or Right Outer Join):** include all data from the second dataframe, inserting null values for columns from the first dataframe where there is no match on the common variable.\n",
    "\n",
    "You may not have to learn SQL (Structured Query Language) for your projects, but it is a highly flexible and useful tool for retrieving data from databases, and it provides a framework for understanding how data can be merged.\n",
    "\n",
    "[Geeksforgeeks.org's SQL Joins page](https://www.geeksforgeeks.org/sql/sql-join-set-1-inner-left-right-and-full-joins/) is helpful for visualizing different types of joins.\n"
   ]
  },
  {
   "cell_type": "markdown",
   "id": "61129dc1-47b0-4977-b0c9-d27e4a63a860",
   "metadata": {},
   "source": [
    "## Joining DataFrames with `pd.merge()`\n",
    "\n",
    "`pd.merge()` provides robust syntax for joining DataFrames. You can choose the order of your DataFrames, how they are merged (inner, outer, left, right), and which columns they must have in common.\n",
    "\n",
    "In order to merge our `df_cal` DataFrame, which contains the 2024 population estimate column, with our `df_cal2` DataFrame, which has the 2010 and 2020 census population counts, we need to make sure the other columns match up; the \"city\" column in the first DataFrame must be renamed \"name\" to match the second, and we should probably also rename \"pop\" to \"pop_2024_est\""
   ]
  },
  {
   "cell_type": "code",
   "execution_count": 102,
   "id": "e0845109-b9d6-4867-a5d4-525a821a0e40",
   "metadata": {},
   "outputs": [
    {
     "data": {
      "text/html": [
       "<div>\n",
       "<style scoped>\n",
       "    .dataframe tbody tr th:only-of-type {\n",
       "        vertical-align: middle;\n",
       "    }\n",
       "\n",
       "    .dataframe tbody tr th {\n",
       "        vertical-align: top;\n",
       "    }\n",
       "\n",
       "    .dataframe thead th {\n",
       "        text-align: right;\n",
       "    }\n",
       "</style>\n",
       "<table border=\"1\" class=\"dataframe\">\n",
       "  <thead>\n",
       "    <tr style=\"text-align: right;\">\n",
       "      <th></th>\n",
       "      <th>name</th>\n",
       "      <th>pop_2024_est</th>\n",
       "      <th>county</th>\n",
       "      <th>area_sq_miles</th>\n",
       "      <th>pop_dens</th>\n",
       "    </tr>\n",
       "  </thead>\n",
       "  <tbody>\n",
       "    <tr>\n",
       "      <th>0</th>\n",
       "      <td>Los Angeles</td>\n",
       "      <td>3878704</td>\n",
       "      <td>Los Angeles County</td>\n",
       "      <td>469.49</td>\n",
       "      <td>8261.526337</td>\n",
       "    </tr>\n",
       "    <tr>\n",
       "      <th>1</th>\n",
       "      <td>San Diego</td>\n",
       "      <td>1404452</td>\n",
       "      <td>San Diego County</td>\n",
       "      <td>325.88</td>\n",
       "      <td>4309.721370</td>\n",
       "    </tr>\n",
       "    <tr>\n",
       "      <th>2</th>\n",
       "      <td>San Jose</td>\n",
       "      <td>997368</td>\n",
       "      <td>Santa Clara County</td>\n",
       "      <td>178.26</td>\n",
       "      <td>5595.018512</td>\n",
       "    </tr>\n",
       "    <tr>\n",
       "      <th>3</th>\n",
       "      <td>San Francisco</td>\n",
       "      <td>827526</td>\n",
       "      <td>San Francisco County</td>\n",
       "      <td>46.91</td>\n",
       "      <td>17640.716265</td>\n",
       "    </tr>\n",
       "    <tr>\n",
       "      <th>4</th>\n",
       "      <td>Fresno</td>\n",
       "      <td>550105</td>\n",
       "      <td>Fresno County</td>\n",
       "      <td>115.18</td>\n",
       "      <td>4776.046189</td>\n",
       "    </tr>\n",
       "    <tr>\n",
       "      <th>5</th>\n",
       "      <td>Sacramento</td>\n",
       "      <td>535798</td>\n",
       "      <td>Sacramento County</td>\n",
       "      <td>98.61</td>\n",
       "      <td>5433.505730</td>\n",
       "    </tr>\n",
       "    <tr>\n",
       "      <th>6</th>\n",
       "      <td>Long Beach</td>\n",
       "      <td>450901</td>\n",
       "      <td>Los Angeles County</td>\n",
       "      <td>50.71</td>\n",
       "      <td>8891.757050</td>\n",
       "    </tr>\n",
       "    <tr>\n",
       "      <th>7</th>\n",
       "      <td>Oakland</td>\n",
       "      <td>443554</td>\n",
       "      <td>Alameda County</td>\n",
       "      <td>55.93</td>\n",
       "      <td>7930.520293</td>\n",
       "    </tr>\n",
       "    <tr>\n",
       "      <th>8</th>\n",
       "      <td>Bakersfield</td>\n",
       "      <td>417468</td>\n",
       "      <td>Kern County</td>\n",
       "      <td>149.78</td>\n",
       "      <td>2787.207905</td>\n",
       "    </tr>\n",
       "    <tr>\n",
       "      <th>9</th>\n",
       "      <td>Anaheim</td>\n",
       "      <td>344561</td>\n",
       "      <td>Orange County</td>\n",
       "      <td>50.27</td>\n",
       "      <td>6854.207281</td>\n",
       "    </tr>\n",
       "  </tbody>\n",
       "</table>\n",
       "</div>"
      ],
      "text/plain": [
       "            name  pop_2024_est                county  area_sq_miles  \\\n",
       "0    Los Angeles       3878704    Los Angeles County         469.49   \n",
       "1      San Diego       1404452      San Diego County         325.88   \n",
       "2       San Jose        997368    Santa Clara County         178.26   \n",
       "3  San Francisco        827526  San Francisco County          46.91   \n",
       "4         Fresno        550105         Fresno County         115.18   \n",
       "5     Sacramento        535798     Sacramento County          98.61   \n",
       "6     Long Beach        450901    Los Angeles County          50.71   \n",
       "7        Oakland        443554        Alameda County          55.93   \n",
       "8    Bakersfield        417468           Kern County         149.78   \n",
       "9        Anaheim        344561         Orange County          50.27   \n",
       "\n",
       "       pop_dens  \n",
       "0   8261.526337  \n",
       "1   4309.721370  \n",
       "2   5595.018512  \n",
       "3  17640.716265  \n",
       "4   4776.046189  \n",
       "5   5433.505730  \n",
       "6   8891.757050  \n",
       "7   7930.520293  \n",
       "8   2787.207905  \n",
       "9   6854.207281  "
      ]
     },
     "execution_count": 102,
     "metadata": {},
     "output_type": "execute_result"
    }
   ],
   "source": [
    "df_cal.rename(columns={'pop':'pop_2024_est', 'city':'name'}, inplace=True)\n",
    "df_cal"
   ]
  },
  {
   "cell_type": "code",
   "execution_count": 103,
   "id": "f807b746-0bb5-4e9c-b1b3-ff2e6698af7d",
   "metadata": {},
   "outputs": [],
   "source": [
    "df_cal['county'] = df_cal['county'].apply(lambda x: x.replace(' County', ''))"
   ]
  },
  {
   "cell_type": "code",
   "execution_count": 104,
   "id": "182a6630-3c60-4f97-a8a5-180a45c5ad05",
   "metadata": {},
   "outputs": [
    {
     "data": {
      "text/html": [
       "<div>\n",
       "<style scoped>\n",
       "    .dataframe tbody tr th:only-of-type {\n",
       "        vertical-align: middle;\n",
       "    }\n",
       "\n",
       "    .dataframe tbody tr th {\n",
       "        vertical-align: top;\n",
       "    }\n",
       "\n",
       "    .dataframe thead th {\n",
       "        text-align: right;\n",
       "    }\n",
       "</style>\n",
       "<table border=\"1\" class=\"dataframe\">\n",
       "  <thead>\n",
       "    <tr style=\"text-align: right;\">\n",
       "      <th></th>\n",
       "      <th>name</th>\n",
       "      <th>pop_2024_est</th>\n",
       "      <th>county</th>\n",
       "      <th>area_sq_miles</th>\n",
       "      <th>pop_dens</th>\n",
       "    </tr>\n",
       "  </thead>\n",
       "  <tbody>\n",
       "    <tr>\n",
       "      <th>0</th>\n",
       "      <td>Los Angeles</td>\n",
       "      <td>3878704</td>\n",
       "      <td>Los Angeles</td>\n",
       "      <td>469.49</td>\n",
       "      <td>8261.526337</td>\n",
       "    </tr>\n",
       "    <tr>\n",
       "      <th>1</th>\n",
       "      <td>San Diego</td>\n",
       "      <td>1404452</td>\n",
       "      <td>San Diego</td>\n",
       "      <td>325.88</td>\n",
       "      <td>4309.721370</td>\n",
       "    </tr>\n",
       "    <tr>\n",
       "      <th>2</th>\n",
       "      <td>San Jose</td>\n",
       "      <td>997368</td>\n",
       "      <td>Santa Clara</td>\n",
       "      <td>178.26</td>\n",
       "      <td>5595.018512</td>\n",
       "    </tr>\n",
       "    <tr>\n",
       "      <th>3</th>\n",
       "      <td>San Francisco</td>\n",
       "      <td>827526</td>\n",
       "      <td>San Francisco</td>\n",
       "      <td>46.91</td>\n",
       "      <td>17640.716265</td>\n",
       "    </tr>\n",
       "    <tr>\n",
       "      <th>4</th>\n",
       "      <td>Fresno</td>\n",
       "      <td>550105</td>\n",
       "      <td>Fresno</td>\n",
       "      <td>115.18</td>\n",
       "      <td>4776.046189</td>\n",
       "    </tr>\n",
       "    <tr>\n",
       "      <th>5</th>\n",
       "      <td>Sacramento</td>\n",
       "      <td>535798</td>\n",
       "      <td>Sacramento</td>\n",
       "      <td>98.61</td>\n",
       "      <td>5433.505730</td>\n",
       "    </tr>\n",
       "    <tr>\n",
       "      <th>6</th>\n",
       "      <td>Long Beach</td>\n",
       "      <td>450901</td>\n",
       "      <td>Los Angeles</td>\n",
       "      <td>50.71</td>\n",
       "      <td>8891.757050</td>\n",
       "    </tr>\n",
       "    <tr>\n",
       "      <th>7</th>\n",
       "      <td>Oakland</td>\n",
       "      <td>443554</td>\n",
       "      <td>Alameda</td>\n",
       "      <td>55.93</td>\n",
       "      <td>7930.520293</td>\n",
       "    </tr>\n",
       "    <tr>\n",
       "      <th>8</th>\n",
       "      <td>Bakersfield</td>\n",
       "      <td>417468</td>\n",
       "      <td>Kern</td>\n",
       "      <td>149.78</td>\n",
       "      <td>2787.207905</td>\n",
       "    </tr>\n",
       "    <tr>\n",
       "      <th>9</th>\n",
       "      <td>Anaheim</td>\n",
       "      <td>344561</td>\n",
       "      <td>Orange</td>\n",
       "      <td>50.27</td>\n",
       "      <td>6854.207281</td>\n",
       "    </tr>\n",
       "  </tbody>\n",
       "</table>\n",
       "</div>"
      ],
      "text/plain": [
       "            name  pop_2024_est         county  area_sq_miles      pop_dens\n",
       "0    Los Angeles       3878704    Los Angeles         469.49   8261.526337\n",
       "1      San Diego       1404452      San Diego         325.88   4309.721370\n",
       "2       San Jose        997368    Santa Clara         178.26   5595.018512\n",
       "3  San Francisco        827526  San Francisco          46.91  17640.716265\n",
       "4         Fresno        550105         Fresno         115.18   4776.046189\n",
       "5     Sacramento        535798     Sacramento          98.61   5433.505730\n",
       "6     Long Beach        450901    Los Angeles          50.71   8891.757050\n",
       "7        Oakland        443554        Alameda          55.93   7930.520293\n",
       "8    Bakersfield        417468           Kern         149.78   2787.207905\n",
       "9        Anaheim        344561         Orange          50.27   6854.207281"
      ]
     },
     "execution_count": 104,
     "metadata": {},
     "output_type": "execute_result"
    }
   ],
   "source": [
    "df_cal"
   ]
  },
  {
   "cell_type": "code",
   "execution_count": 105,
   "id": "aa35c951-3fa0-428f-b4c2-f175fba68e29",
   "metadata": {},
   "outputs": [
    {
     "data": {
      "text/html": [
       "<div>\n",
       "<style scoped>\n",
       "    .dataframe tbody tr th:only-of-type {\n",
       "        vertical-align: middle;\n",
       "    }\n",
       "\n",
       "    .dataframe tbody tr th {\n",
       "        vertical-align: top;\n",
       "    }\n",
       "\n",
       "    .dataframe thead th {\n",
       "        text-align: right;\n",
       "    }\n",
       "</style>\n",
       "<table border=\"1\" class=\"dataframe\">\n",
       "  <thead>\n",
       "    <tr style=\"text-align: right;\">\n",
       "      <th></th>\n",
       "      <th>name</th>\n",
       "      <th>type</th>\n",
       "      <th>county</th>\n",
       "      <th>pop2020</th>\n",
       "      <th>pop2010</th>\n",
       "      <th>change</th>\n",
       "      <th>area</th>\n",
       "      <th>pop_dens</th>\n",
       "      <th>incorporated</th>\n",
       "      <th>pct_change</th>\n",
       "      <th>area_sq_miles</th>\n",
       "      <th>pop_dens_sq_miles</th>\n",
       "      <th>incorp_parse</th>\n",
       "    </tr>\n",
       "  </thead>\n",
       "  <tbody>\n",
       "    <tr>\n",
       "      <th>9</th>\n",
       "      <td>Anaheim</td>\n",
       "      <td>City</td>\n",
       "      <td>Orange</td>\n",
       "      <td>346824</td>\n",
       "      <td>336265</td>\n",
       "      <td>+3.1%</td>\n",
       "      <td>50.27 sq mi (130.2 km2)</td>\n",
       "      <td>6,899.2/sq mi (2,663.8/km2)</td>\n",
       "      <td>March 18, 1876</td>\n",
       "      <td>3.1</td>\n",
       "      <td>50.27</td>\n",
       "      <td>6899.2</td>\n",
       "      <td>1876-03-18</td>\n",
       "    </tr>\n",
       "    <tr>\n",
       "      <th>26</th>\n",
       "      <td>Bakersfield</td>\n",
       "      <td>City</td>\n",
       "      <td>Kern</td>\n",
       "      <td>403455</td>\n",
       "      <td>347483</td>\n",
       "      <td>+16.1%</td>\n",
       "      <td>149.78 sq mi (387.9 km2)</td>\n",
       "      <td>2,693.7/sq mi (1,040.0/km2)</td>\n",
       "      <td>January 11, 1898</td>\n",
       "      <td>16.1</td>\n",
       "      <td>149.78</td>\n",
       "      <td>2693.7</td>\n",
       "      <td>1898-01-11</td>\n",
       "    </tr>\n",
       "    <tr>\n",
       "      <th>150</th>\n",
       "      <td>Fresno</td>\n",
       "      <td>City</td>\n",
       "      <td>Fresno</td>\n",
       "      <td>542107</td>\n",
       "      <td>494665</td>\n",
       "      <td>+9.6%</td>\n",
       "      <td>115.18 sq mi (298.3 km2)</td>\n",
       "      <td>4,706.6/sq mi (1,817.2/km2)</td>\n",
       "      <td>October 12, 1885</td>\n",
       "      <td>9.6</td>\n",
       "      <td>115.18</td>\n",
       "      <td>4706.6</td>\n",
       "      <td>1885-10-12</td>\n",
       "    </tr>\n",
       "    <tr>\n",
       "      <th>234</th>\n",
       "      <td>Long Beach</td>\n",
       "      <td>City</td>\n",
       "      <td>Los Angeles</td>\n",
       "      <td>466742</td>\n",
       "      <td>462257</td>\n",
       "      <td>+1.0%</td>\n",
       "      <td>50.71 sq mi (131.3 km2)</td>\n",
       "      <td>9,204.1/sq mi (3,553.7/km2)</td>\n",
       "      <td>December 13, 1897</td>\n",
       "      <td>1.0</td>\n",
       "      <td>50.71</td>\n",
       "      <td>9204.1</td>\n",
       "      <td>1897-12-13</td>\n",
       "    </tr>\n",
       "    <tr>\n",
       "      <th>239</th>\n",
       "      <td>Los Angeles</td>\n",
       "      <td>City</td>\n",
       "      <td>Los Angeles</td>\n",
       "      <td>3898747</td>\n",
       "      <td>3792621</td>\n",
       "      <td>+2.8%</td>\n",
       "      <td>469.49 sq mi (1,216.0 km2)</td>\n",
       "      <td>8,304.2/sq mi (3,206.3/km2)</td>\n",
       "      <td>April 4, 1850</td>\n",
       "      <td>2.8</td>\n",
       "      <td>469.49</td>\n",
       "      <td>8304.2</td>\n",
       "      <td>1850-04-04</td>\n",
       "    </tr>\n",
       "    <tr>\n",
       "      <th>291</th>\n",
       "      <td>Oakland</td>\n",
       "      <td>City</td>\n",
       "      <td>Alameda</td>\n",
       "      <td>440646</td>\n",
       "      <td>390724</td>\n",
       "      <td>+12.8%</td>\n",
       "      <td>55.93 sq mi (144.9 km2)</td>\n",
       "      <td>7,878.5/sq mi (3,041.9/km2)</td>\n",
       "      <td>May 4, 1852</td>\n",
       "      <td>12.8</td>\n",
       "      <td>55.93</td>\n",
       "      <td>7878.5</td>\n",
       "      <td>1852-05-04</td>\n",
       "    </tr>\n",
       "    <tr>\n",
       "      <th>368</th>\n",
       "      <td>San Diego</td>\n",
       "      <td>City</td>\n",
       "      <td>San Diego</td>\n",
       "      <td>1386932</td>\n",
       "      <td>1307402</td>\n",
       "      <td>+6.1%</td>\n",
       "      <td>325.88 sq mi (844.0 km2)</td>\n",
       "      <td>4,256.0/sq mi (1,643.2/km2)</td>\n",
       "      <td>March 27, 1850</td>\n",
       "      <td>6.1</td>\n",
       "      <td>325.88</td>\n",
       "      <td>4256.0</td>\n",
       "      <td>1850-03-27</td>\n",
       "    </tr>\n",
       "    <tr>\n",
       "      <th>371</th>\n",
       "      <td>San Francisco</td>\n",
       "      <td>City and county</td>\n",
       "      <td>San Francisco</td>\n",
       "      <td>873965</td>\n",
       "      <td>805235</td>\n",
       "      <td>+8.5%</td>\n",
       "      <td>46.91 sq mi (121.5 km2)</td>\n",
       "      <td>18,630.7/sq mi (7,193.3/km2)</td>\n",
       "      <td>April 15, 1850[13]</td>\n",
       "      <td>8.5</td>\n",
       "      <td>46.91</td>\n",
       "      <td>18630.7</td>\n",
       "      <td>1850-04-15</td>\n",
       "    </tr>\n",
       "    <tr>\n",
       "      <th>375</th>\n",
       "      <td>San Jose</td>\n",
       "      <td>City</td>\n",
       "      <td>Santa Clara</td>\n",
       "      <td>1013240</td>\n",
       "      <td>945942</td>\n",
       "      <td>+7.1%</td>\n",
       "      <td>178.26 sq mi (461.7 km2)</td>\n",
       "      <td>5,684.1/sq mi (2,194.6/km2)</td>\n",
       "      <td>March 27, 1850</td>\n",
       "      <td>7.1</td>\n",
       "      <td>178.26</td>\n",
       "      <td>5684.1</td>\n",
       "      <td>1850-03-27</td>\n",
       "    </tr>\n",
       "  </tbody>\n",
       "</table>\n",
       "</div>"
      ],
      "text/plain": [
       "              name             type         county  pop2020  pop2010  change  \\\n",
       "9          Anaheim             City         Orange   346824   336265   +3.1%   \n",
       "26     Bakersfield             City           Kern   403455   347483  +16.1%   \n",
       "150         Fresno             City         Fresno   542107   494665   +9.6%   \n",
       "234     Long Beach             City    Los Angeles   466742   462257   +1.0%   \n",
       "239    Los Angeles             City    Los Angeles  3898747  3792621   +2.8%   \n",
       "291        Oakland             City        Alameda   440646   390724  +12.8%   \n",
       "368      San Diego             City      San Diego  1386932  1307402   +6.1%   \n",
       "371  San Francisco  City and county  San Francisco   873965   805235   +8.5%   \n",
       "375       San Jose             City    Santa Clara  1013240   945942   +7.1%   \n",
       "\n",
       "                           area                      pop_dens  \\\n",
       "9       50.27 sq mi (130.2 km2)   6,899.2/sq mi (2,663.8/km2)   \n",
       "26     149.78 sq mi (387.9 km2)   2,693.7/sq mi (1,040.0/km2)   \n",
       "150    115.18 sq mi (298.3 km2)   4,706.6/sq mi (1,817.2/km2)   \n",
       "234     50.71 sq mi (131.3 km2)   9,204.1/sq mi (3,553.7/km2)   \n",
       "239  469.49 sq mi (1,216.0 km2)   8,304.2/sq mi (3,206.3/km2)   \n",
       "291     55.93 sq mi (144.9 km2)   7,878.5/sq mi (3,041.9/km2)   \n",
       "368    325.88 sq mi (844.0 km2)   4,256.0/sq mi (1,643.2/km2)   \n",
       "371     46.91 sq mi (121.5 km2)  18,630.7/sq mi (7,193.3/km2)   \n",
       "375    178.26 sq mi (461.7 km2)   5,684.1/sq mi (2,194.6/km2)   \n",
       "\n",
       "           incorporated  pct_change  area_sq_miles  pop_dens_sq_miles  \\\n",
       "9        March 18, 1876         3.1          50.27             6899.2   \n",
       "26     January 11, 1898        16.1         149.78             2693.7   \n",
       "150    October 12, 1885         9.6         115.18             4706.6   \n",
       "234   December 13, 1897         1.0          50.71             9204.1   \n",
       "239       April 4, 1850         2.8         469.49             8304.2   \n",
       "291         May 4, 1852        12.8          55.93             7878.5   \n",
       "368      March 27, 1850         6.1         325.88             4256.0   \n",
       "371  April 15, 1850[13]         8.5          46.91            18630.7   \n",
       "375      March 27, 1850         7.1         178.26             5684.1   \n",
       "\n",
       "    incorp_parse  \n",
       "9     1876-03-18  \n",
       "26    1898-01-11  \n",
       "150   1885-10-12  \n",
       "234   1897-12-13  \n",
       "239   1850-04-04  \n",
       "291   1852-05-04  \n",
       "368   1850-03-27  \n",
       "371   1850-04-15  \n",
       "375   1850-03-27  "
      ]
     },
     "execution_count": 105,
     "metadata": {},
     "output_type": "execute_result"
    }
   ],
   "source": [
    "df_cal2[df_cal2['name'].isin(df_cal['name'].values)]"
   ]
  },
  {
   "cell_type": "code",
   "execution_count": 106,
   "id": "3990e5f2-cdc7-4d06-bcb9-aa83e72b0c8c",
   "metadata": {
    "scrolled": true
   },
   "outputs": [
    {
     "data": {
      "text/html": [
       "<div>\n",
       "<style scoped>\n",
       "    .dataframe tbody tr th:only-of-type {\n",
       "        vertical-align: middle;\n",
       "    }\n",
       "\n",
       "    .dataframe tbody tr th {\n",
       "        vertical-align: top;\n",
       "    }\n",
       "\n",
       "    .dataframe thead th {\n",
       "        text-align: right;\n",
       "    }\n",
       "</style>\n",
       "<table border=\"1\" class=\"dataframe\">\n",
       "  <thead>\n",
       "    <tr style=\"text-align: right;\">\n",
       "      <th></th>\n",
       "      <th>name</th>\n",
       "      <th>pop_2024_est</th>\n",
       "      <th>county</th>\n",
       "      <th>area_sq_miles</th>\n",
       "      <th>pop_dens_x</th>\n",
       "      <th>type</th>\n",
       "      <th>pop2020</th>\n",
       "      <th>pop2010</th>\n",
       "      <th>change</th>\n",
       "      <th>area</th>\n",
       "      <th>pop_dens_y</th>\n",
       "      <th>incorporated</th>\n",
       "      <th>pct_change</th>\n",
       "      <th>pop_dens_sq_miles</th>\n",
       "      <th>incorp_parse</th>\n",
       "    </tr>\n",
       "  </thead>\n",
       "  <tbody>\n",
       "    <tr>\n",
       "      <th>0</th>\n",
       "      <td>Los Angeles</td>\n",
       "      <td>3878704</td>\n",
       "      <td>Los Angeles</td>\n",
       "      <td>469.49</td>\n",
       "      <td>8261.526337</td>\n",
       "      <td>City</td>\n",
       "      <td>3898747.0</td>\n",
       "      <td>3792621.0</td>\n",
       "      <td>+2.8%</td>\n",
       "      <td>469.49 sq mi (1,216.0 km2)</td>\n",
       "      <td>8,304.2/sq mi (3,206.3/km2)</td>\n",
       "      <td>April 4, 1850</td>\n",
       "      <td>2.8</td>\n",
       "      <td>8304.2</td>\n",
       "      <td>1850-04-04</td>\n",
       "    </tr>\n",
       "    <tr>\n",
       "      <th>1</th>\n",
       "      <td>San Diego</td>\n",
       "      <td>1404452</td>\n",
       "      <td>San Diego</td>\n",
       "      <td>325.88</td>\n",
       "      <td>4309.721370</td>\n",
       "      <td>City</td>\n",
       "      <td>1386932.0</td>\n",
       "      <td>1307402.0</td>\n",
       "      <td>+6.1%</td>\n",
       "      <td>325.88 sq mi (844.0 km2)</td>\n",
       "      <td>4,256.0/sq mi (1,643.2/km2)</td>\n",
       "      <td>March 27, 1850</td>\n",
       "      <td>6.1</td>\n",
       "      <td>4256.0</td>\n",
       "      <td>1850-03-27</td>\n",
       "    </tr>\n",
       "    <tr>\n",
       "      <th>2</th>\n",
       "      <td>San Jose</td>\n",
       "      <td>997368</td>\n",
       "      <td>Santa Clara</td>\n",
       "      <td>178.26</td>\n",
       "      <td>5595.018512</td>\n",
       "      <td>City</td>\n",
       "      <td>1013240.0</td>\n",
       "      <td>945942.0</td>\n",
       "      <td>+7.1%</td>\n",
       "      <td>178.26 sq mi (461.7 km2)</td>\n",
       "      <td>5,684.1/sq mi (2,194.6/km2)</td>\n",
       "      <td>March 27, 1850</td>\n",
       "      <td>7.1</td>\n",
       "      <td>5684.1</td>\n",
       "      <td>1850-03-27</td>\n",
       "    </tr>\n",
       "    <tr>\n",
       "      <th>3</th>\n",
       "      <td>San Francisco</td>\n",
       "      <td>827526</td>\n",
       "      <td>San Francisco</td>\n",
       "      <td>46.91</td>\n",
       "      <td>17640.716265</td>\n",
       "      <td>City and county</td>\n",
       "      <td>873965.0</td>\n",
       "      <td>805235.0</td>\n",
       "      <td>+8.5%</td>\n",
       "      <td>46.91 sq mi (121.5 km2)</td>\n",
       "      <td>18,630.7/sq mi (7,193.3/km2)</td>\n",
       "      <td>April 15, 1850[13]</td>\n",
       "      <td>8.5</td>\n",
       "      <td>18630.7</td>\n",
       "      <td>1850-04-15</td>\n",
       "    </tr>\n",
       "    <tr>\n",
       "      <th>4</th>\n",
       "      <td>Fresno</td>\n",
       "      <td>550105</td>\n",
       "      <td>Fresno</td>\n",
       "      <td>115.18</td>\n",
       "      <td>4776.046189</td>\n",
       "      <td>City</td>\n",
       "      <td>542107.0</td>\n",
       "      <td>494665.0</td>\n",
       "      <td>+9.6%</td>\n",
       "      <td>115.18 sq mi (298.3 km2)</td>\n",
       "      <td>4,706.6/sq mi (1,817.2/km2)</td>\n",
       "      <td>October 12, 1885</td>\n",
       "      <td>9.6</td>\n",
       "      <td>4706.6</td>\n",
       "      <td>1885-10-12</td>\n",
       "    </tr>\n",
       "    <tr>\n",
       "      <th>5</th>\n",
       "      <td>Sacramento</td>\n",
       "      <td>535798</td>\n",
       "      <td>Sacramento</td>\n",
       "      <td>98.61</td>\n",
       "      <td>5433.505730</td>\n",
       "      <td>NaN</td>\n",
       "      <td>NaN</td>\n",
       "      <td>NaN</td>\n",
       "      <td>NaN</td>\n",
       "      <td>NaN</td>\n",
       "      <td>NaN</td>\n",
       "      <td>NaN</td>\n",
       "      <td>NaN</td>\n",
       "      <td>NaN</td>\n",
       "      <td>NaT</td>\n",
       "    </tr>\n",
       "    <tr>\n",
       "      <th>6</th>\n",
       "      <td>Long Beach</td>\n",
       "      <td>450901</td>\n",
       "      <td>Los Angeles</td>\n",
       "      <td>50.71</td>\n",
       "      <td>8891.757050</td>\n",
       "      <td>City</td>\n",
       "      <td>466742.0</td>\n",
       "      <td>462257.0</td>\n",
       "      <td>+1.0%</td>\n",
       "      <td>50.71 sq mi (131.3 km2)</td>\n",
       "      <td>9,204.1/sq mi (3,553.7/km2)</td>\n",
       "      <td>December 13, 1897</td>\n",
       "      <td>1.0</td>\n",
       "      <td>9204.1</td>\n",
       "      <td>1897-12-13</td>\n",
       "    </tr>\n",
       "    <tr>\n",
       "      <th>7</th>\n",
       "      <td>Oakland</td>\n",
       "      <td>443554</td>\n",
       "      <td>Alameda</td>\n",
       "      <td>55.93</td>\n",
       "      <td>7930.520293</td>\n",
       "      <td>City</td>\n",
       "      <td>440646.0</td>\n",
       "      <td>390724.0</td>\n",
       "      <td>+12.8%</td>\n",
       "      <td>55.93 sq mi (144.9 km2)</td>\n",
       "      <td>7,878.5/sq mi (3,041.9/km2)</td>\n",
       "      <td>May 4, 1852</td>\n",
       "      <td>12.8</td>\n",
       "      <td>7878.5</td>\n",
       "      <td>1852-05-04</td>\n",
       "    </tr>\n",
       "    <tr>\n",
       "      <th>8</th>\n",
       "      <td>Bakersfield</td>\n",
       "      <td>417468</td>\n",
       "      <td>Kern</td>\n",
       "      <td>149.78</td>\n",
       "      <td>2787.207905</td>\n",
       "      <td>City</td>\n",
       "      <td>403455.0</td>\n",
       "      <td>347483.0</td>\n",
       "      <td>+16.1%</td>\n",
       "      <td>149.78 sq mi (387.9 km2)</td>\n",
       "      <td>2,693.7/sq mi (1,040.0/km2)</td>\n",
       "      <td>January 11, 1898</td>\n",
       "      <td>16.1</td>\n",
       "      <td>2693.7</td>\n",
       "      <td>1898-01-11</td>\n",
       "    </tr>\n",
       "    <tr>\n",
       "      <th>9</th>\n",
       "      <td>Anaheim</td>\n",
       "      <td>344561</td>\n",
       "      <td>Orange</td>\n",
       "      <td>50.27</td>\n",
       "      <td>6854.207281</td>\n",
       "      <td>City</td>\n",
       "      <td>346824.0</td>\n",
       "      <td>336265.0</td>\n",
       "      <td>+3.1%</td>\n",
       "      <td>50.27 sq mi (130.2 km2)</td>\n",
       "      <td>6,899.2/sq mi (2,663.8/km2)</td>\n",
       "      <td>March 18, 1876</td>\n",
       "      <td>3.1</td>\n",
       "      <td>6899.2</td>\n",
       "      <td>1876-03-18</td>\n",
       "    </tr>\n",
       "  </tbody>\n",
       "</table>\n",
       "</div>"
      ],
      "text/plain": [
       "            name  pop_2024_est         county  area_sq_miles    pop_dens_x  \\\n",
       "0    Los Angeles       3878704    Los Angeles         469.49   8261.526337   \n",
       "1      San Diego       1404452      San Diego         325.88   4309.721370   \n",
       "2       San Jose        997368    Santa Clara         178.26   5595.018512   \n",
       "3  San Francisco        827526  San Francisco          46.91  17640.716265   \n",
       "4         Fresno        550105         Fresno         115.18   4776.046189   \n",
       "5     Sacramento        535798     Sacramento          98.61   5433.505730   \n",
       "6     Long Beach        450901    Los Angeles          50.71   8891.757050   \n",
       "7        Oakland        443554        Alameda          55.93   7930.520293   \n",
       "8    Bakersfield        417468           Kern         149.78   2787.207905   \n",
       "9        Anaheim        344561         Orange          50.27   6854.207281   \n",
       "\n",
       "              type    pop2020    pop2010  change                        area  \\\n",
       "0             City  3898747.0  3792621.0   +2.8%  469.49 sq mi (1,216.0 km2)   \n",
       "1             City  1386932.0  1307402.0   +6.1%    325.88 sq mi (844.0 km2)   \n",
       "2             City  1013240.0   945942.0   +7.1%    178.26 sq mi (461.7 km2)   \n",
       "3  City and county   873965.0   805235.0   +8.5%     46.91 sq mi (121.5 km2)   \n",
       "4             City   542107.0   494665.0   +9.6%    115.18 sq mi (298.3 km2)   \n",
       "5              NaN        NaN        NaN     NaN                         NaN   \n",
       "6             City   466742.0   462257.0   +1.0%     50.71 sq mi (131.3 km2)   \n",
       "7             City   440646.0   390724.0  +12.8%     55.93 sq mi (144.9 km2)   \n",
       "8             City   403455.0   347483.0  +16.1%    149.78 sq mi (387.9 km2)   \n",
       "9             City   346824.0   336265.0   +3.1%     50.27 sq mi (130.2 km2)   \n",
       "\n",
       "                     pop_dens_y        incorporated  pct_change  \\\n",
       "0   8,304.2/sq mi (3,206.3/km2)       April 4, 1850         2.8   \n",
       "1   4,256.0/sq mi (1,643.2/km2)      March 27, 1850         6.1   \n",
       "2   5,684.1/sq mi (2,194.6/km2)      March 27, 1850         7.1   \n",
       "3  18,630.7/sq mi (7,193.3/km2)  April 15, 1850[13]         8.5   \n",
       "4   4,706.6/sq mi (1,817.2/km2)    October 12, 1885         9.6   \n",
       "5                           NaN                 NaN         NaN   \n",
       "6   9,204.1/sq mi (3,553.7/km2)   December 13, 1897         1.0   \n",
       "7   7,878.5/sq mi (3,041.9/km2)         May 4, 1852        12.8   \n",
       "8   2,693.7/sq mi (1,040.0/km2)    January 11, 1898        16.1   \n",
       "9   6,899.2/sq mi (2,663.8/km2)      March 18, 1876         3.1   \n",
       "\n",
       "   pop_dens_sq_miles incorp_parse  \n",
       "0             8304.2   1850-04-04  \n",
       "1             4256.0   1850-03-27  \n",
       "2             5684.1   1850-03-27  \n",
       "3            18630.7   1850-04-15  \n",
       "4             4706.6   1885-10-12  \n",
       "5                NaN          NaT  \n",
       "6             9204.1   1897-12-13  \n",
       "7             7878.5   1852-05-04  \n",
       "8             2693.7   1898-01-11  \n",
       "9             6899.2   1876-03-18  "
      ]
     },
     "execution_count": 106,
     "metadata": {},
     "output_type": "execute_result"
    }
   ],
   "source": [
    "df_cal_merged = pd.merge(left=df_cal, right=df_cal2, on=['name','county','area_sq_miles'], how='left')\n",
    "df_cal_merged"
   ]
  },
  {
   "cell_type": "markdown",
   "id": "81bc4dca-6431-488c-b62c-8aea6917ae53",
   "metadata": {},
   "source": [
    "*Wait a minute... what happened this time?* Is Sacramento missing from the second DataFrame?\n",
    "\n",
    "Let's check by \"county\"!"
   ]
  },
  {
   "cell_type": "code",
   "execution_count": 107,
   "id": "a19a08f7-49f1-4799-8afa-30d5bcd8418d",
   "metadata": {
    "scrolled": true
   },
   "outputs": [
    {
     "data": {
      "text/html": [
       "<div>\n",
       "<style scoped>\n",
       "    .dataframe tbody tr th:only-of-type {\n",
       "        vertical-align: middle;\n",
       "    }\n",
       "\n",
       "    .dataframe tbody tr th {\n",
       "        vertical-align: top;\n",
       "    }\n",
       "\n",
       "    .dataframe thead th {\n",
       "        text-align: right;\n",
       "    }\n",
       "</style>\n",
       "<table border=\"1\" class=\"dataframe\">\n",
       "  <thead>\n",
       "    <tr style=\"text-align: right;\">\n",
       "      <th></th>\n",
       "      <th>name</th>\n",
       "      <th>type</th>\n",
       "      <th>county</th>\n",
       "      <th>pop2020</th>\n",
       "      <th>pop2010</th>\n",
       "      <th>change</th>\n",
       "      <th>area</th>\n",
       "      <th>pop_dens</th>\n",
       "      <th>incorporated</th>\n",
       "      <th>pct_change</th>\n",
       "      <th>area_sq_miles</th>\n",
       "      <th>pop_dens_sq_miles</th>\n",
       "      <th>incorp_parse</th>\n",
       "    </tr>\n",
       "  </thead>\n",
       "  <tbody>\n",
       "    <tr>\n",
       "      <th>75</th>\n",
       "      <td>Citrus Heights</td>\n",
       "      <td>City</td>\n",
       "      <td>Sacramento</td>\n",
       "      <td>87583</td>\n",
       "      <td>83301</td>\n",
       "      <td>+5.1%</td>\n",
       "      <td>14.22 sq mi (36.8 km2)</td>\n",
       "      <td>6,159.1/sq mi (2,378.1/km2)</td>\n",
       "      <td>January 1, 1997</td>\n",
       "      <td>5.1</td>\n",
       "      <td>14.22</td>\n",
       "      <td>6159.1</td>\n",
       "      <td>1997-01-01</td>\n",
       "    </tr>\n",
       "    <tr>\n",
       "      <th>127</th>\n",
       "      <td>Elk Grove</td>\n",
       "      <td>City</td>\n",
       "      <td>Sacramento</td>\n",
       "      <td>176124</td>\n",
       "      <td>153015</td>\n",
       "      <td>+15.1%</td>\n",
       "      <td>41.99 sq mi (108.8 km2)</td>\n",
       "      <td>4,194.4/sq mi (1,619.5/km2)</td>\n",
       "      <td>July 1, 2000</td>\n",
       "      <td>15.1</td>\n",
       "      <td>41.99</td>\n",
       "      <td>4194.4</td>\n",
       "      <td>2000-07-01</td>\n",
       "    </tr>\n",
       "    <tr>\n",
       "      <th>141</th>\n",
       "      <td>Folsom</td>\n",
       "      <td>City</td>\n",
       "      <td>Sacramento</td>\n",
       "      <td>80454</td>\n",
       "      <td>72203</td>\n",
       "      <td>+11.4%</td>\n",
       "      <td>27.88 sq mi (72.2 km2)</td>\n",
       "      <td>2,885.7/sq mi (1,114.2/km2)</td>\n",
       "      <td>April 20, 1946</td>\n",
       "      <td>11.4</td>\n",
       "      <td>27.88</td>\n",
       "      <td>2885.7</td>\n",
       "      <td>1946-04-20</td>\n",
       "    </tr>\n",
       "    <tr>\n",
       "      <th>152</th>\n",
       "      <td>Galt</td>\n",
       "      <td>City</td>\n",
       "      <td>Sacramento</td>\n",
       "      <td>25383</td>\n",
       "      <td>23647</td>\n",
       "      <td>+7.3%</td>\n",
       "      <td>7.15 sq mi (18.5 km2)</td>\n",
       "      <td>3,550.1/sq mi (1,370.7/km2)</td>\n",
       "      <td>August 16, 1946</td>\n",
       "      <td>7.3</td>\n",
       "      <td>7.15</td>\n",
       "      <td>3550.1</td>\n",
       "      <td>1946-08-16</td>\n",
       "    </tr>\n",
       "    <tr>\n",
       "      <th>195</th>\n",
       "      <td>Isleton</td>\n",
       "      <td>City</td>\n",
       "      <td>Sacramento</td>\n",
       "      <td>794</td>\n",
       "      <td>804</td>\n",
       "      <td>−1.2%</td>\n",
       "      <td>0.44 sq mi (1.1 km2)</td>\n",
       "      <td>1,804.5/sq mi (696.7/km2)</td>\n",
       "      <td>May 14, 1923</td>\n",
       "      <td>-1.2</td>\n",
       "      <td>0.44</td>\n",
       "      <td>1804.5</td>\n",
       "      <td>1923-05-14</td>\n",
       "    </tr>\n",
       "    <tr>\n",
       "      <th>334</th>\n",
       "      <td>Rancho Cordova</td>\n",
       "      <td>City</td>\n",
       "      <td>Sacramento</td>\n",
       "      <td>79332</td>\n",
       "      <td>64776</td>\n",
       "      <td>+22.5%</td>\n",
       "      <td>34.57 sq mi (89.5 km2)</td>\n",
       "      <td>2,294.8/sq mi (886.0/km2)</td>\n",
       "      <td>July 1, 2003</td>\n",
       "      <td>22.5</td>\n",
       "      <td>34.57</td>\n",
       "      <td>2294.8</td>\n",
       "      <td>2003-07-01</td>\n",
       "    </tr>\n",
       "    <tr>\n",
       "      <th>360</th>\n",
       "      <td>Sacramento‡</td>\n",
       "      <td>City</td>\n",
       "      <td>Sacramento</td>\n",
       "      <td>524943</td>\n",
       "      <td>466488</td>\n",
       "      <td>+12.5%</td>\n",
       "      <td>98.61 sq mi (255.4 km2)</td>\n",
       "      <td>5,323.4/sq mi (2,055.4/km2)</td>\n",
       "      <td>February 27, 1850</td>\n",
       "      <td>12.5</td>\n",
       "      <td>98.61</td>\n",
       "      <td>5323.4</td>\n",
       "      <td>1850-02-27</td>\n",
       "    </tr>\n",
       "  </tbody>\n",
       "</table>\n",
       "</div>"
      ],
      "text/plain": [
       "               name  type      county  pop2020  pop2010  change  \\\n",
       "75   Citrus Heights  City  Sacramento    87583    83301   +5.1%   \n",
       "127       Elk Grove  City  Sacramento   176124   153015  +15.1%   \n",
       "141          Folsom  City  Sacramento    80454    72203  +11.4%   \n",
       "152            Galt  City  Sacramento    25383    23647   +7.3%   \n",
       "195         Isleton  City  Sacramento      794      804   −1.2%   \n",
       "334  Rancho Cordova  City  Sacramento    79332    64776  +22.5%   \n",
       "360     Sacramento‡  City  Sacramento   524943   466488  +12.5%   \n",
       "\n",
       "                        area                     pop_dens       incorporated  \\\n",
       "75    14.22 sq mi (36.8 km2)  6,159.1/sq mi (2,378.1/km2)    January 1, 1997   \n",
       "127  41.99 sq mi (108.8 km2)  4,194.4/sq mi (1,619.5/km2)       July 1, 2000   \n",
       "141   27.88 sq mi (72.2 km2)  2,885.7/sq mi (1,114.2/km2)     April 20, 1946   \n",
       "152    7.15 sq mi (18.5 km2)  3,550.1/sq mi (1,370.7/km2)    August 16, 1946   \n",
       "195     0.44 sq mi (1.1 km2)    1,804.5/sq mi (696.7/km2)       May 14, 1923   \n",
       "334   34.57 sq mi (89.5 km2)    2,294.8/sq mi (886.0/km2)       July 1, 2003   \n",
       "360  98.61 sq mi (255.4 km2)  5,323.4/sq mi (2,055.4/km2)  February 27, 1850   \n",
       "\n",
       "     pct_change  area_sq_miles  pop_dens_sq_miles incorp_parse  \n",
       "75          5.1          14.22             6159.1   1997-01-01  \n",
       "127        15.1          41.99             4194.4   2000-07-01  \n",
       "141        11.4          27.88             2885.7   1946-04-20  \n",
       "152         7.3           7.15             3550.1   1946-08-16  \n",
       "195        -1.2           0.44             1804.5   1923-05-14  \n",
       "334        22.5          34.57             2294.8   2003-07-01  \n",
       "360        12.5          98.61             5323.4   1850-02-27  "
      ]
     },
     "execution_count": 107,
     "metadata": {},
     "output_type": "execute_result"
    }
   ],
   "source": [
    "df_cal2[df_cal2['county'] == 'Sacramento']"
   ]
  },
  {
   "cell_type": "markdown",
   "id": "e3f6c026-6624-484b-aa51-5dfee2f3abcd",
   "metadata": {},
   "source": [
    "Some of you may have noticed this earlier when we did the exercise on finding California cities incorporated before California became a state...\n",
    "\n",
    "The `‡` symbol, like the `†` we saw earlier, is used for footnotes. Let's remove it!\n",
    "\n",
    "Can you remove it without explicitly typing it within the lambda expression?"
   ]
  },
  {
   "cell_type": "code",
   "execution_count": 108,
   "id": "e639c42f-580d-4fcd-974c-a71ecfa1c3ca",
   "metadata": {},
   "outputs": [],
   "source": [
    "df_cal2['name'] = df_cal2['name'].apply(lambda x: x.replace('‡',''))"
   ]
  },
  {
   "cell_type": "code",
   "execution_count": 109,
   "id": "9dc1a5c9-678b-4bee-9772-afffedf9bbda",
   "metadata": {
    "scrolled": true
   },
   "outputs": [
    {
     "data": {
      "text/html": [
       "<div>\n",
       "<style scoped>\n",
       "    .dataframe tbody tr th:only-of-type {\n",
       "        vertical-align: middle;\n",
       "    }\n",
       "\n",
       "    .dataframe tbody tr th {\n",
       "        vertical-align: top;\n",
       "    }\n",
       "\n",
       "    .dataframe thead th {\n",
       "        text-align: right;\n",
       "    }\n",
       "</style>\n",
       "<table border=\"1\" class=\"dataframe\">\n",
       "  <thead>\n",
       "    <tr style=\"text-align: right;\">\n",
       "      <th></th>\n",
       "      <th>name</th>\n",
       "      <th>pop_2024_est</th>\n",
       "      <th>county</th>\n",
       "      <th>area_sq_miles</th>\n",
       "      <th>pop_dens_x</th>\n",
       "      <th>type</th>\n",
       "      <th>pop2020</th>\n",
       "      <th>pop2010</th>\n",
       "      <th>change</th>\n",
       "      <th>area</th>\n",
       "      <th>pop_dens_y</th>\n",
       "      <th>incorporated</th>\n",
       "      <th>pct_change</th>\n",
       "      <th>pop_dens_sq_miles</th>\n",
       "      <th>incorp_parse</th>\n",
       "    </tr>\n",
       "  </thead>\n",
       "  <tbody>\n",
       "    <tr>\n",
       "      <th>0</th>\n",
       "      <td>Los Angeles</td>\n",
       "      <td>3878704</td>\n",
       "      <td>Los Angeles</td>\n",
       "      <td>469.49</td>\n",
       "      <td>8261.526337</td>\n",
       "      <td>City</td>\n",
       "      <td>3898747</td>\n",
       "      <td>3792621</td>\n",
       "      <td>+2.8%</td>\n",
       "      <td>469.49 sq mi (1,216.0 km2)</td>\n",
       "      <td>8,304.2/sq mi (3,206.3/km2)</td>\n",
       "      <td>April 4, 1850</td>\n",
       "      <td>2.8</td>\n",
       "      <td>8304.2</td>\n",
       "      <td>1850-04-04</td>\n",
       "    </tr>\n",
       "    <tr>\n",
       "      <th>1</th>\n",
       "      <td>San Diego</td>\n",
       "      <td>1404452</td>\n",
       "      <td>San Diego</td>\n",
       "      <td>325.88</td>\n",
       "      <td>4309.721370</td>\n",
       "      <td>City</td>\n",
       "      <td>1386932</td>\n",
       "      <td>1307402</td>\n",
       "      <td>+6.1%</td>\n",
       "      <td>325.88 sq mi (844.0 km2)</td>\n",
       "      <td>4,256.0/sq mi (1,643.2/km2)</td>\n",
       "      <td>March 27, 1850</td>\n",
       "      <td>6.1</td>\n",
       "      <td>4256.0</td>\n",
       "      <td>1850-03-27</td>\n",
       "    </tr>\n",
       "    <tr>\n",
       "      <th>2</th>\n",
       "      <td>San Jose</td>\n",
       "      <td>997368</td>\n",
       "      <td>Santa Clara</td>\n",
       "      <td>178.26</td>\n",
       "      <td>5595.018512</td>\n",
       "      <td>City</td>\n",
       "      <td>1013240</td>\n",
       "      <td>945942</td>\n",
       "      <td>+7.1%</td>\n",
       "      <td>178.26 sq mi (461.7 km2)</td>\n",
       "      <td>5,684.1/sq mi (2,194.6/km2)</td>\n",
       "      <td>March 27, 1850</td>\n",
       "      <td>7.1</td>\n",
       "      <td>5684.1</td>\n",
       "      <td>1850-03-27</td>\n",
       "    </tr>\n",
       "    <tr>\n",
       "      <th>3</th>\n",
       "      <td>San Francisco</td>\n",
       "      <td>827526</td>\n",
       "      <td>San Francisco</td>\n",
       "      <td>46.91</td>\n",
       "      <td>17640.716265</td>\n",
       "      <td>City and county</td>\n",
       "      <td>873965</td>\n",
       "      <td>805235</td>\n",
       "      <td>+8.5%</td>\n",
       "      <td>46.91 sq mi (121.5 km2)</td>\n",
       "      <td>18,630.7/sq mi (7,193.3/km2)</td>\n",
       "      <td>April 15, 1850[13]</td>\n",
       "      <td>8.5</td>\n",
       "      <td>18630.7</td>\n",
       "      <td>1850-04-15</td>\n",
       "    </tr>\n",
       "    <tr>\n",
       "      <th>4</th>\n",
       "      <td>Fresno</td>\n",
       "      <td>550105</td>\n",
       "      <td>Fresno</td>\n",
       "      <td>115.18</td>\n",
       "      <td>4776.046189</td>\n",
       "      <td>City</td>\n",
       "      <td>542107</td>\n",
       "      <td>494665</td>\n",
       "      <td>+9.6%</td>\n",
       "      <td>115.18 sq mi (298.3 km2)</td>\n",
       "      <td>4,706.6/sq mi (1,817.2/km2)</td>\n",
       "      <td>October 12, 1885</td>\n",
       "      <td>9.6</td>\n",
       "      <td>4706.6</td>\n",
       "      <td>1885-10-12</td>\n",
       "    </tr>\n",
       "    <tr>\n",
       "      <th>5</th>\n",
       "      <td>Sacramento</td>\n",
       "      <td>535798</td>\n",
       "      <td>Sacramento</td>\n",
       "      <td>98.61</td>\n",
       "      <td>5433.505730</td>\n",
       "      <td>City</td>\n",
       "      <td>524943</td>\n",
       "      <td>466488</td>\n",
       "      <td>+12.5%</td>\n",
       "      <td>98.61 sq mi (255.4 km2)</td>\n",
       "      <td>5,323.4/sq mi (2,055.4/km2)</td>\n",
       "      <td>February 27, 1850</td>\n",
       "      <td>12.5</td>\n",
       "      <td>5323.4</td>\n",
       "      <td>1850-02-27</td>\n",
       "    </tr>\n",
       "    <tr>\n",
       "      <th>6</th>\n",
       "      <td>Long Beach</td>\n",
       "      <td>450901</td>\n",
       "      <td>Los Angeles</td>\n",
       "      <td>50.71</td>\n",
       "      <td>8891.757050</td>\n",
       "      <td>City</td>\n",
       "      <td>466742</td>\n",
       "      <td>462257</td>\n",
       "      <td>+1.0%</td>\n",
       "      <td>50.71 sq mi (131.3 km2)</td>\n",
       "      <td>9,204.1/sq mi (3,553.7/km2)</td>\n",
       "      <td>December 13, 1897</td>\n",
       "      <td>1.0</td>\n",
       "      <td>9204.1</td>\n",
       "      <td>1897-12-13</td>\n",
       "    </tr>\n",
       "    <tr>\n",
       "      <th>7</th>\n",
       "      <td>Oakland</td>\n",
       "      <td>443554</td>\n",
       "      <td>Alameda</td>\n",
       "      <td>55.93</td>\n",
       "      <td>7930.520293</td>\n",
       "      <td>City</td>\n",
       "      <td>440646</td>\n",
       "      <td>390724</td>\n",
       "      <td>+12.8%</td>\n",
       "      <td>55.93 sq mi (144.9 km2)</td>\n",
       "      <td>7,878.5/sq mi (3,041.9/km2)</td>\n",
       "      <td>May 4, 1852</td>\n",
       "      <td>12.8</td>\n",
       "      <td>7878.5</td>\n",
       "      <td>1852-05-04</td>\n",
       "    </tr>\n",
       "    <tr>\n",
       "      <th>8</th>\n",
       "      <td>Bakersfield</td>\n",
       "      <td>417468</td>\n",
       "      <td>Kern</td>\n",
       "      <td>149.78</td>\n",
       "      <td>2787.207905</td>\n",
       "      <td>City</td>\n",
       "      <td>403455</td>\n",
       "      <td>347483</td>\n",
       "      <td>+16.1%</td>\n",
       "      <td>149.78 sq mi (387.9 km2)</td>\n",
       "      <td>2,693.7/sq mi (1,040.0/km2)</td>\n",
       "      <td>January 11, 1898</td>\n",
       "      <td>16.1</td>\n",
       "      <td>2693.7</td>\n",
       "      <td>1898-01-11</td>\n",
       "    </tr>\n",
       "    <tr>\n",
       "      <th>9</th>\n",
       "      <td>Anaheim</td>\n",
       "      <td>344561</td>\n",
       "      <td>Orange</td>\n",
       "      <td>50.27</td>\n",
       "      <td>6854.207281</td>\n",
       "      <td>City</td>\n",
       "      <td>346824</td>\n",
       "      <td>336265</td>\n",
       "      <td>+3.1%</td>\n",
       "      <td>50.27 sq mi (130.2 km2)</td>\n",
       "      <td>6,899.2/sq mi (2,663.8/km2)</td>\n",
       "      <td>March 18, 1876</td>\n",
       "      <td>3.1</td>\n",
       "      <td>6899.2</td>\n",
       "      <td>1876-03-18</td>\n",
       "    </tr>\n",
       "  </tbody>\n",
       "</table>\n",
       "</div>"
      ],
      "text/plain": [
       "            name  pop_2024_est         county  area_sq_miles    pop_dens_x  \\\n",
       "0    Los Angeles       3878704    Los Angeles         469.49   8261.526337   \n",
       "1      San Diego       1404452      San Diego         325.88   4309.721370   \n",
       "2       San Jose        997368    Santa Clara         178.26   5595.018512   \n",
       "3  San Francisco        827526  San Francisco          46.91  17640.716265   \n",
       "4         Fresno        550105         Fresno         115.18   4776.046189   \n",
       "5     Sacramento        535798     Sacramento          98.61   5433.505730   \n",
       "6     Long Beach        450901    Los Angeles          50.71   8891.757050   \n",
       "7        Oakland        443554        Alameda          55.93   7930.520293   \n",
       "8    Bakersfield        417468           Kern         149.78   2787.207905   \n",
       "9        Anaheim        344561         Orange          50.27   6854.207281   \n",
       "\n",
       "              type  pop2020  pop2010  change                        area  \\\n",
       "0             City  3898747  3792621   +2.8%  469.49 sq mi (1,216.0 km2)   \n",
       "1             City  1386932  1307402   +6.1%    325.88 sq mi (844.0 km2)   \n",
       "2             City  1013240   945942   +7.1%    178.26 sq mi (461.7 km2)   \n",
       "3  City and county   873965   805235   +8.5%     46.91 sq mi (121.5 km2)   \n",
       "4             City   542107   494665   +9.6%    115.18 sq mi (298.3 km2)   \n",
       "5             City   524943   466488  +12.5%     98.61 sq mi (255.4 km2)   \n",
       "6             City   466742   462257   +1.0%     50.71 sq mi (131.3 km2)   \n",
       "7             City   440646   390724  +12.8%     55.93 sq mi (144.9 km2)   \n",
       "8             City   403455   347483  +16.1%    149.78 sq mi (387.9 km2)   \n",
       "9             City   346824   336265   +3.1%     50.27 sq mi (130.2 km2)   \n",
       "\n",
       "                     pop_dens_y        incorporated  pct_change  \\\n",
       "0   8,304.2/sq mi (3,206.3/km2)       April 4, 1850         2.8   \n",
       "1   4,256.0/sq mi (1,643.2/km2)      March 27, 1850         6.1   \n",
       "2   5,684.1/sq mi (2,194.6/km2)      March 27, 1850         7.1   \n",
       "3  18,630.7/sq mi (7,193.3/km2)  April 15, 1850[13]         8.5   \n",
       "4   4,706.6/sq mi (1,817.2/km2)    October 12, 1885         9.6   \n",
       "5   5,323.4/sq mi (2,055.4/km2)   February 27, 1850        12.5   \n",
       "6   9,204.1/sq mi (3,553.7/km2)   December 13, 1897         1.0   \n",
       "7   7,878.5/sq mi (3,041.9/km2)         May 4, 1852        12.8   \n",
       "8   2,693.7/sq mi (1,040.0/km2)    January 11, 1898        16.1   \n",
       "9   6,899.2/sq mi (2,663.8/km2)      March 18, 1876         3.1   \n",
       "\n",
       "   pop_dens_sq_miles incorp_parse  \n",
       "0             8304.2   1850-04-04  \n",
       "1             4256.0   1850-03-27  \n",
       "2             5684.1   1850-03-27  \n",
       "3            18630.7   1850-04-15  \n",
       "4             4706.6   1885-10-12  \n",
       "5             5323.4   1850-02-27  \n",
       "6             9204.1   1897-12-13  \n",
       "7             7878.5   1852-05-04  \n",
       "8             2693.7   1898-01-11  \n",
       "9             6899.2   1876-03-18  "
      ]
     },
     "execution_count": 109,
     "metadata": {},
     "output_type": "execute_result"
    }
   ],
   "source": [
    "df_cal_merged = pd.merge(left=df_cal, right=df_cal2, on=['name','county','area_sq_miles'], how='left')\n",
    "df_cal_merged"
   ]
  },
  {
   "cell_type": "code",
   "execution_count": 110,
   "id": "cc3dbf7f-ce7e-411e-a468-7fc95d0fc072",
   "metadata": {
    "scrolled": true
   },
   "outputs": [
    {
     "name": "stdout",
     "output_type": "stream",
     "text": [
      "<class 'pandas.core.frame.DataFrame'>\n",
      "RangeIndex: 10 entries, 0 to 9\n",
      "Data columns (total 15 columns):\n",
      " #   Column             Non-Null Count  Dtype         \n",
      "---  ------             --------------  -----         \n",
      " 0   name               10 non-null     object        \n",
      " 1   pop_2024_est       10 non-null     int64         \n",
      " 2   county             10 non-null     object        \n",
      " 3   area_sq_miles      10 non-null     float64       \n",
      " 4   pop_dens_x         10 non-null     float64       \n",
      " 5   type               10 non-null     object        \n",
      " 6   pop2020            10 non-null     int64         \n",
      " 7   pop2010            10 non-null     int64         \n",
      " 8   change             10 non-null     object        \n",
      " 9   area               10 non-null     object        \n",
      " 10  pop_dens_y         10 non-null     object        \n",
      " 11  incorporated       10 non-null     object        \n",
      " 12  pct_change         10 non-null     float64       \n",
      " 13  pop_dens_sq_miles  10 non-null     float64       \n",
      " 14  incorp_parse       10 non-null     datetime64[ns]\n",
      "dtypes: datetime64[ns](1), float64(4), int64(3), object(7)\n",
      "memory usage: 1.3+ KB\n"
     ]
    }
   ],
   "source": [
    "df_cal_merged.info()"
   ]
  },
  {
   "cell_type": "code",
   "execution_count": 113,
   "id": "f10f1da3-a756-4980-b67d-0ddcdb984281",
   "metadata": {},
   "outputs": [],
   "source": [
    "\n",
    "df_cal_merged['pct_chg_20_24'] = ((df_cal_merged['pop_2024_est'] - df_cal_merged['pop2020']) / df_cal_merged['pop2020']) * 100"
   ]
  },
  {
   "cell_type": "code",
   "execution_count": 114,
   "id": "b413e29a-9ab0-4725-8fc0-7221c29604b5",
   "metadata": {},
   "outputs": [
    {
     "data": {
      "text/html": [
       "<div>\n",
       "<style scoped>\n",
       "    .dataframe tbody tr th:only-of-type {\n",
       "        vertical-align: middle;\n",
       "    }\n",
       "\n",
       "    .dataframe tbody tr th {\n",
       "        vertical-align: top;\n",
       "    }\n",
       "\n",
       "    .dataframe thead th {\n",
       "        text-align: right;\n",
       "    }\n",
       "</style>\n",
       "<table border=\"1\" class=\"dataframe\">\n",
       "  <thead>\n",
       "    <tr style=\"text-align: right;\">\n",
       "      <th></th>\n",
       "      <th>name</th>\n",
       "      <th>pop_2024_est</th>\n",
       "      <th>county</th>\n",
       "      <th>area_sq_miles</th>\n",
       "      <th>pop_dens_x</th>\n",
       "      <th>type</th>\n",
       "      <th>pop2020</th>\n",
       "      <th>pop2010</th>\n",
       "      <th>change</th>\n",
       "      <th>area</th>\n",
       "      <th>pop_dens_y</th>\n",
       "      <th>incorporated</th>\n",
       "      <th>pct_change</th>\n",
       "      <th>pop_dens_sq_miles</th>\n",
       "      <th>incorp_parse</th>\n",
       "      <th>pct_chg_20_24</th>\n",
       "    </tr>\n",
       "  </thead>\n",
       "  <tbody>\n",
       "    <tr>\n",
       "      <th>0</th>\n",
       "      <td>Los Angeles</td>\n",
       "      <td>3878704</td>\n",
       "      <td>Los Angeles</td>\n",
       "      <td>469.49</td>\n",
       "      <td>8261.526337</td>\n",
       "      <td>City</td>\n",
       "      <td>3898747</td>\n",
       "      <td>3792621</td>\n",
       "      <td>+2.8%</td>\n",
       "      <td>469.49 sq mi (1,216.0 km2)</td>\n",
       "      <td>8,304.2/sq mi (3,206.3/km2)</td>\n",
       "      <td>April 4, 1850</td>\n",
       "      <td>2.8</td>\n",
       "      <td>8304.2</td>\n",
       "      <td>1850-04-04</td>\n",
       "      <td>-0.514088</td>\n",
       "    </tr>\n",
       "    <tr>\n",
       "      <th>1</th>\n",
       "      <td>San Diego</td>\n",
       "      <td>1404452</td>\n",
       "      <td>San Diego</td>\n",
       "      <td>325.88</td>\n",
       "      <td>4309.721370</td>\n",
       "      <td>City</td>\n",
       "      <td>1386932</td>\n",
       "      <td>1307402</td>\n",
       "      <td>+6.1%</td>\n",
       "      <td>325.88 sq mi (844.0 km2)</td>\n",
       "      <td>4,256.0/sq mi (1,643.2/km2)</td>\n",
       "      <td>March 27, 1850</td>\n",
       "      <td>6.1</td>\n",
       "      <td>4256.0</td>\n",
       "      <td>1850-03-27</td>\n",
       "      <td>1.263220</td>\n",
       "    </tr>\n",
       "    <tr>\n",
       "      <th>2</th>\n",
       "      <td>San Jose</td>\n",
       "      <td>997368</td>\n",
       "      <td>Santa Clara</td>\n",
       "      <td>178.26</td>\n",
       "      <td>5595.018512</td>\n",
       "      <td>City</td>\n",
       "      <td>1013240</td>\n",
       "      <td>945942</td>\n",
       "      <td>+7.1%</td>\n",
       "      <td>178.26 sq mi (461.7 km2)</td>\n",
       "      <td>5,684.1/sq mi (2,194.6/km2)</td>\n",
       "      <td>March 27, 1850</td>\n",
       "      <td>7.1</td>\n",
       "      <td>5684.1</td>\n",
       "      <td>1850-03-27</td>\n",
       "      <td>-1.566460</td>\n",
       "    </tr>\n",
       "    <tr>\n",
       "      <th>3</th>\n",
       "      <td>San Francisco</td>\n",
       "      <td>827526</td>\n",
       "      <td>San Francisco</td>\n",
       "      <td>46.91</td>\n",
       "      <td>17640.716265</td>\n",
       "      <td>City and county</td>\n",
       "      <td>873965</td>\n",
       "      <td>805235</td>\n",
       "      <td>+8.5%</td>\n",
       "      <td>46.91 sq mi (121.5 km2)</td>\n",
       "      <td>18,630.7/sq mi (7,193.3/km2)</td>\n",
       "      <td>April 15, 1850[13]</td>\n",
       "      <td>8.5</td>\n",
       "      <td>18630.7</td>\n",
       "      <td>1850-04-15</td>\n",
       "      <td>-5.313600</td>\n",
       "    </tr>\n",
       "    <tr>\n",
       "      <th>4</th>\n",
       "      <td>Fresno</td>\n",
       "      <td>550105</td>\n",
       "      <td>Fresno</td>\n",
       "      <td>115.18</td>\n",
       "      <td>4776.046189</td>\n",
       "      <td>City</td>\n",
       "      <td>542107</td>\n",
       "      <td>494665</td>\n",
       "      <td>+9.6%</td>\n",
       "      <td>115.18 sq mi (298.3 km2)</td>\n",
       "      <td>4,706.6/sq mi (1,817.2/km2)</td>\n",
       "      <td>October 12, 1885</td>\n",
       "      <td>9.6</td>\n",
       "      <td>4706.6</td>\n",
       "      <td>1885-10-12</td>\n",
       "      <td>1.475354</td>\n",
       "    </tr>\n",
       "    <tr>\n",
       "      <th>5</th>\n",
       "      <td>Sacramento</td>\n",
       "      <td>535798</td>\n",
       "      <td>Sacramento</td>\n",
       "      <td>98.61</td>\n",
       "      <td>5433.505730</td>\n",
       "      <td>City</td>\n",
       "      <td>524943</td>\n",
       "      <td>466488</td>\n",
       "      <td>+12.5%</td>\n",
       "      <td>98.61 sq mi (255.4 km2)</td>\n",
       "      <td>5,323.4/sq mi (2,055.4/km2)</td>\n",
       "      <td>February 27, 1850</td>\n",
       "      <td>12.5</td>\n",
       "      <td>5323.4</td>\n",
       "      <td>1850-02-27</td>\n",
       "      <td>2.067844</td>\n",
       "    </tr>\n",
       "    <tr>\n",
       "      <th>6</th>\n",
       "      <td>Long Beach</td>\n",
       "      <td>450901</td>\n",
       "      <td>Los Angeles</td>\n",
       "      <td>50.71</td>\n",
       "      <td>8891.757050</td>\n",
       "      <td>City</td>\n",
       "      <td>466742</td>\n",
       "      <td>462257</td>\n",
       "      <td>+1.0%</td>\n",
       "      <td>50.71 sq mi (131.3 km2)</td>\n",
       "      <td>9,204.1/sq mi (3,553.7/km2)</td>\n",
       "      <td>December 13, 1897</td>\n",
       "      <td>1.0</td>\n",
       "      <td>9204.1</td>\n",
       "      <td>1897-12-13</td>\n",
       "      <td>-3.393952</td>\n",
       "    </tr>\n",
       "    <tr>\n",
       "      <th>7</th>\n",
       "      <td>Oakland</td>\n",
       "      <td>443554</td>\n",
       "      <td>Alameda</td>\n",
       "      <td>55.93</td>\n",
       "      <td>7930.520293</td>\n",
       "      <td>City</td>\n",
       "      <td>440646</td>\n",
       "      <td>390724</td>\n",
       "      <td>+12.8%</td>\n",
       "      <td>55.93 sq mi (144.9 km2)</td>\n",
       "      <td>7,878.5/sq mi (3,041.9/km2)</td>\n",
       "      <td>May 4, 1852</td>\n",
       "      <td>12.8</td>\n",
       "      <td>7878.5</td>\n",
       "      <td>1852-05-04</td>\n",
       "      <td>0.659940</td>\n",
       "    </tr>\n",
       "    <tr>\n",
       "      <th>8</th>\n",
       "      <td>Bakersfield</td>\n",
       "      <td>417468</td>\n",
       "      <td>Kern</td>\n",
       "      <td>149.78</td>\n",
       "      <td>2787.207905</td>\n",
       "      <td>City</td>\n",
       "      <td>403455</td>\n",
       "      <td>347483</td>\n",
       "      <td>+16.1%</td>\n",
       "      <td>149.78 sq mi (387.9 km2)</td>\n",
       "      <td>2,693.7/sq mi (1,040.0/km2)</td>\n",
       "      <td>January 11, 1898</td>\n",
       "      <td>16.1</td>\n",
       "      <td>2693.7</td>\n",
       "      <td>1898-01-11</td>\n",
       "      <td>3.473250</td>\n",
       "    </tr>\n",
       "    <tr>\n",
       "      <th>9</th>\n",
       "      <td>Anaheim</td>\n",
       "      <td>344561</td>\n",
       "      <td>Orange</td>\n",
       "      <td>50.27</td>\n",
       "      <td>6854.207281</td>\n",
       "      <td>City</td>\n",
       "      <td>346824</td>\n",
       "      <td>336265</td>\n",
       "      <td>+3.1%</td>\n",
       "      <td>50.27 sq mi (130.2 km2)</td>\n",
       "      <td>6,899.2/sq mi (2,663.8/km2)</td>\n",
       "      <td>March 18, 1876</td>\n",
       "      <td>3.1</td>\n",
       "      <td>6899.2</td>\n",
       "      <td>1876-03-18</td>\n",
       "      <td>-0.652492</td>\n",
       "    </tr>\n",
       "  </tbody>\n",
       "</table>\n",
       "</div>"
      ],
      "text/plain": [
       "            name  pop_2024_est         county  area_sq_miles    pop_dens_x  \\\n",
       "0    Los Angeles       3878704    Los Angeles         469.49   8261.526337   \n",
       "1      San Diego       1404452      San Diego         325.88   4309.721370   \n",
       "2       San Jose        997368    Santa Clara         178.26   5595.018512   \n",
       "3  San Francisco        827526  San Francisco          46.91  17640.716265   \n",
       "4         Fresno        550105         Fresno         115.18   4776.046189   \n",
       "5     Sacramento        535798     Sacramento          98.61   5433.505730   \n",
       "6     Long Beach        450901    Los Angeles          50.71   8891.757050   \n",
       "7        Oakland        443554        Alameda          55.93   7930.520293   \n",
       "8    Bakersfield        417468           Kern         149.78   2787.207905   \n",
       "9        Anaheim        344561         Orange          50.27   6854.207281   \n",
       "\n",
       "              type  pop2020  pop2010  change                        area  \\\n",
       "0             City  3898747  3792621   +2.8%  469.49 sq mi (1,216.0 km2)   \n",
       "1             City  1386932  1307402   +6.1%    325.88 sq mi (844.0 km2)   \n",
       "2             City  1013240   945942   +7.1%    178.26 sq mi (461.7 km2)   \n",
       "3  City and county   873965   805235   +8.5%     46.91 sq mi (121.5 km2)   \n",
       "4             City   542107   494665   +9.6%    115.18 sq mi (298.3 km2)   \n",
       "5             City   524943   466488  +12.5%     98.61 sq mi (255.4 km2)   \n",
       "6             City   466742   462257   +1.0%     50.71 sq mi (131.3 km2)   \n",
       "7             City   440646   390724  +12.8%     55.93 sq mi (144.9 km2)   \n",
       "8             City   403455   347483  +16.1%    149.78 sq mi (387.9 km2)   \n",
       "9             City   346824   336265   +3.1%     50.27 sq mi (130.2 km2)   \n",
       "\n",
       "                     pop_dens_y        incorporated  pct_change  \\\n",
       "0   8,304.2/sq mi (3,206.3/km2)       April 4, 1850         2.8   \n",
       "1   4,256.0/sq mi (1,643.2/km2)      March 27, 1850         6.1   \n",
       "2   5,684.1/sq mi (2,194.6/km2)      March 27, 1850         7.1   \n",
       "3  18,630.7/sq mi (7,193.3/km2)  April 15, 1850[13]         8.5   \n",
       "4   4,706.6/sq mi (1,817.2/km2)    October 12, 1885         9.6   \n",
       "5   5,323.4/sq mi (2,055.4/km2)   February 27, 1850        12.5   \n",
       "6   9,204.1/sq mi (3,553.7/km2)   December 13, 1897         1.0   \n",
       "7   7,878.5/sq mi (3,041.9/km2)         May 4, 1852        12.8   \n",
       "8   2,693.7/sq mi (1,040.0/km2)    January 11, 1898        16.1   \n",
       "9   6,899.2/sq mi (2,663.8/km2)      March 18, 1876         3.1   \n",
       "\n",
       "   pop_dens_sq_miles incorp_parse  pct_chg_20_24  \n",
       "0             8304.2   1850-04-04      -0.514088  \n",
       "1             4256.0   1850-03-27       1.263220  \n",
       "2             5684.1   1850-03-27      -1.566460  \n",
       "3            18630.7   1850-04-15      -5.313600  \n",
       "4             4706.6   1885-10-12       1.475354  \n",
       "5             5323.4   1850-02-27       2.067844  \n",
       "6             9204.1   1897-12-13      -3.393952  \n",
       "7             7878.5   1852-05-04       0.659940  \n",
       "8             2693.7   1898-01-11       3.473250  \n",
       "9             6899.2   1876-03-18      -0.652492  "
      ]
     },
     "execution_count": 114,
     "metadata": {},
     "output_type": "execute_result"
    }
   ],
   "source": [
    "df_cal_merged"
   ]
  },
  {
   "cell_type": "code",
   "execution_count": 115,
   "id": "8ff75b86-2c85-426a-a7d5-b7bc119dc0db",
   "metadata": {},
   "outputs": [
    {
     "data": {
      "text/html": [
       "<div>\n",
       "<style scoped>\n",
       "    .dataframe tbody tr th:only-of-type {\n",
       "        vertical-align: middle;\n",
       "    }\n",
       "\n",
       "    .dataframe tbody tr th {\n",
       "        vertical-align: top;\n",
       "    }\n",
       "\n",
       "    .dataframe thead th {\n",
       "        text-align: right;\n",
       "    }\n",
       "</style>\n",
       "<table border=\"1\" class=\"dataframe\">\n",
       "  <thead>\n",
       "    <tr style=\"text-align: right;\">\n",
       "      <th></th>\n",
       "      <th>pop_2024_est</th>\n",
       "      <th>area_sq_miles</th>\n",
       "      <th>pop_dens_x</th>\n",
       "      <th>pop2020</th>\n",
       "      <th>pop2010</th>\n",
       "      <th>pct_change</th>\n",
       "      <th>pop_dens_sq_miles</th>\n",
       "      <th>incorp_parse</th>\n",
       "      <th>pct_chg_20_24</th>\n",
       "    </tr>\n",
       "  </thead>\n",
       "  <tbody>\n",
       "    <tr>\n",
       "      <th>count</th>\n",
       "      <td>1.000000e+01</td>\n",
       "      <td>10.000000</td>\n",
       "      <td>10.000000</td>\n",
       "      <td>1.000000e+01</td>\n",
       "      <td>1.000000e+01</td>\n",
       "      <td>10.000000</td>\n",
       "      <td>10.000000</td>\n",
       "      <td>10</td>\n",
       "      <td>10.000000</td>\n",
       "    </tr>\n",
       "    <tr>\n",
       "      <th>mean</th>\n",
       "      <td>9.850437e+05</td>\n",
       "      <td>154.102000</td>\n",
       "      <td>7248.022693</td>\n",
       "      <td>9.897601e+05</td>\n",
       "      <td>9.349082e+05</td>\n",
       "      <td>7.960000</td>\n",
       "      <td>7358.050000</td>\n",
       "      <td>1866-02-23 09:36:00</td>\n",
       "      <td>-0.250098</td>\n",
       "    </tr>\n",
       "    <tr>\n",
       "      <th>min</th>\n",
       "      <td>3.445610e+05</td>\n",
       "      <td>46.910000</td>\n",
       "      <td>2787.207905</td>\n",
       "      <td>3.468240e+05</td>\n",
       "      <td>3.362650e+05</td>\n",
       "      <td>1.000000</td>\n",
       "      <td>2693.700000</td>\n",
       "      <td>1850-02-27 00:00:00</td>\n",
       "      <td>-5.313600</td>\n",
       "    </tr>\n",
       "    <tr>\n",
       "      <th>25%</th>\n",
       "      <td>4.453908e+05</td>\n",
       "      <td>52.015000</td>\n",
       "      <td>4940.411074</td>\n",
       "      <td>4.471700e+05</td>\n",
       "      <td>4.086072e+05</td>\n",
       "      <td>3.850000</td>\n",
       "      <td>4860.800000</td>\n",
       "      <td>1850-03-29 00:00:00</td>\n",
       "      <td>-1.337968</td>\n",
       "    </tr>\n",
       "    <tr>\n",
       "      <th>50%</th>\n",
       "      <td>5.429515e+05</td>\n",
       "      <td>106.895000</td>\n",
       "      <td>6224.612896</td>\n",
       "      <td>5.335250e+05</td>\n",
       "      <td>4.805765e+05</td>\n",
       "      <td>7.800000</td>\n",
       "      <td>6291.650000</td>\n",
       "      <td>1851-04-25 00:00:00</td>\n",
       "      <td>0.072926</td>\n",
       "    </tr>\n",
       "    <tr>\n",
       "      <th>75%</th>\n",
       "      <td>9.549075e+05</td>\n",
       "      <td>171.140000</td>\n",
       "      <td>8178.774826</td>\n",
       "      <td>9.784212e+05</td>\n",
       "      <td>9.107652e+05</td>\n",
       "      <td>11.775000</td>\n",
       "      <td>8197.775000</td>\n",
       "      <td>1883-05-22 06:00:00</td>\n",
       "      <td>1.422321</td>\n",
       "    </tr>\n",
       "    <tr>\n",
       "      <th>max</th>\n",
       "      <td>3.878704e+06</td>\n",
       "      <td>469.490000</td>\n",
       "      <td>17640.716265</td>\n",
       "      <td>3.898747e+06</td>\n",
       "      <td>3.792621e+06</td>\n",
       "      <td>16.100000</td>\n",
       "      <td>18630.700000</td>\n",
       "      <td>1898-01-11 00:00:00</td>\n",
       "      <td>3.473250</td>\n",
       "    </tr>\n",
       "    <tr>\n",
       "      <th>std</th>\n",
       "      <td>1.068541e+06</td>\n",
       "      <td>140.147819</td>\n",
       "      <td>4123.456900</td>\n",
       "      <td>1.074066e+06</td>\n",
       "      <td>1.051899e+06</td>\n",
       "      <td>4.900839</td>\n",
       "      <td>4437.318027</td>\n",
       "      <td>NaN</td>\n",
       "      <td>2.641947</td>\n",
       "    </tr>\n",
       "  </tbody>\n",
       "</table>\n",
       "</div>"
      ],
      "text/plain": [
       "       pop_2024_est  area_sq_miles    pop_dens_x       pop2020       pop2010  \\\n",
       "count  1.000000e+01      10.000000     10.000000  1.000000e+01  1.000000e+01   \n",
       "mean   9.850437e+05     154.102000   7248.022693  9.897601e+05  9.349082e+05   \n",
       "min    3.445610e+05      46.910000   2787.207905  3.468240e+05  3.362650e+05   \n",
       "25%    4.453908e+05      52.015000   4940.411074  4.471700e+05  4.086072e+05   \n",
       "50%    5.429515e+05     106.895000   6224.612896  5.335250e+05  4.805765e+05   \n",
       "75%    9.549075e+05     171.140000   8178.774826  9.784212e+05  9.107652e+05   \n",
       "max    3.878704e+06     469.490000  17640.716265  3.898747e+06  3.792621e+06   \n",
       "std    1.068541e+06     140.147819   4123.456900  1.074066e+06  1.051899e+06   \n",
       "\n",
       "       pct_change  pop_dens_sq_miles         incorp_parse  pct_chg_20_24  \n",
       "count   10.000000          10.000000                   10      10.000000  \n",
       "mean     7.960000        7358.050000  1866-02-23 09:36:00      -0.250098  \n",
       "min      1.000000        2693.700000  1850-02-27 00:00:00      -5.313600  \n",
       "25%      3.850000        4860.800000  1850-03-29 00:00:00      -1.337968  \n",
       "50%      7.800000        6291.650000  1851-04-25 00:00:00       0.072926  \n",
       "75%     11.775000        8197.775000  1883-05-22 06:00:00       1.422321  \n",
       "max     16.100000       18630.700000  1898-01-11 00:00:00       3.473250  \n",
       "std      4.900839        4437.318027                  NaN       2.641947  "
      ]
     },
     "execution_count": 115,
     "metadata": {},
     "output_type": "execute_result"
    }
   ],
   "source": [
    "df_cal_merged.describe()"
   ]
  },
  {
   "cell_type": "code",
   "execution_count": 116,
   "id": "f61cbfc5-1f72-4396-ad05-c4c40679a14e",
   "metadata": {
    "scrolled": true
   },
   "outputs": [
    {
     "data": {
      "text/html": [
       "<div>\n",
       "<style scoped>\n",
       "    .dataframe tbody tr th:only-of-type {\n",
       "        vertical-align: middle;\n",
       "    }\n",
       "\n",
       "    .dataframe tbody tr th {\n",
       "        vertical-align: top;\n",
       "    }\n",
       "\n",
       "    .dataframe thead th {\n",
       "        text-align: right;\n",
       "    }\n",
       "</style>\n",
       "<table border=\"1\" class=\"dataframe\">\n",
       "  <thead>\n",
       "    <tr style=\"text-align: right;\">\n",
       "      <th></th>\n",
       "      <th>name</th>\n",
       "      <th>pop_2024_est</th>\n",
       "      <th>county</th>\n",
       "      <th>area_sq_miles</th>\n",
       "      <th>pop_dens_x</th>\n",
       "      <th>type</th>\n",
       "      <th>pop2020</th>\n",
       "      <th>pop2010</th>\n",
       "      <th>change</th>\n",
       "      <th>area</th>\n",
       "      <th>pop_dens_y</th>\n",
       "      <th>incorporated</th>\n",
       "      <th>pct_change</th>\n",
       "      <th>pop_dens_sq_miles</th>\n",
       "      <th>incorp_parse</th>\n",
       "      <th>pct_chg_20_24</th>\n",
       "    </tr>\n",
       "  </thead>\n",
       "  <tbody>\n",
       "    <tr>\n",
       "      <th>0</th>\n",
       "      <td>Los Angeles</td>\n",
       "      <td>3878704</td>\n",
       "      <td>Los Angeles</td>\n",
       "      <td>469.49</td>\n",
       "      <td>8261.526337</td>\n",
       "      <td>City</td>\n",
       "      <td>3898747</td>\n",
       "      <td>3792621</td>\n",
       "      <td>+2.8%</td>\n",
       "      <td>469.49 sq mi (1,216.0 km2)</td>\n",
       "      <td>8,304.2/sq mi (3,206.3/km2)</td>\n",
       "      <td>April 4, 1850</td>\n",
       "      <td>2.8</td>\n",
       "      <td>8304.2</td>\n",
       "      <td>1850-04-04</td>\n",
       "      <td>-0.514088</td>\n",
       "    </tr>\n",
       "    <tr>\n",
       "      <th>2</th>\n",
       "      <td>San Jose</td>\n",
       "      <td>997368</td>\n",
       "      <td>Santa Clara</td>\n",
       "      <td>178.26</td>\n",
       "      <td>5595.018512</td>\n",
       "      <td>City</td>\n",
       "      <td>1013240</td>\n",
       "      <td>945942</td>\n",
       "      <td>+7.1%</td>\n",
       "      <td>178.26 sq mi (461.7 km2)</td>\n",
       "      <td>5,684.1/sq mi (2,194.6/km2)</td>\n",
       "      <td>March 27, 1850</td>\n",
       "      <td>7.1</td>\n",
       "      <td>5684.1</td>\n",
       "      <td>1850-03-27</td>\n",
       "      <td>-1.566460</td>\n",
       "    </tr>\n",
       "    <tr>\n",
       "      <th>3</th>\n",
       "      <td>San Francisco</td>\n",
       "      <td>827526</td>\n",
       "      <td>San Francisco</td>\n",
       "      <td>46.91</td>\n",
       "      <td>17640.716265</td>\n",
       "      <td>City and county</td>\n",
       "      <td>873965</td>\n",
       "      <td>805235</td>\n",
       "      <td>+8.5%</td>\n",
       "      <td>46.91 sq mi (121.5 km2)</td>\n",
       "      <td>18,630.7/sq mi (7,193.3/km2)</td>\n",
       "      <td>April 15, 1850[13]</td>\n",
       "      <td>8.5</td>\n",
       "      <td>18630.7</td>\n",
       "      <td>1850-04-15</td>\n",
       "      <td>-5.313600</td>\n",
       "    </tr>\n",
       "    <tr>\n",
       "      <th>6</th>\n",
       "      <td>Long Beach</td>\n",
       "      <td>450901</td>\n",
       "      <td>Los Angeles</td>\n",
       "      <td>50.71</td>\n",
       "      <td>8891.757050</td>\n",
       "      <td>City</td>\n",
       "      <td>466742</td>\n",
       "      <td>462257</td>\n",
       "      <td>+1.0%</td>\n",
       "      <td>50.71 sq mi (131.3 km2)</td>\n",
       "      <td>9,204.1/sq mi (3,553.7/km2)</td>\n",
       "      <td>December 13, 1897</td>\n",
       "      <td>1.0</td>\n",
       "      <td>9204.1</td>\n",
       "      <td>1897-12-13</td>\n",
       "      <td>-3.393952</td>\n",
       "    </tr>\n",
       "    <tr>\n",
       "      <th>9</th>\n",
       "      <td>Anaheim</td>\n",
       "      <td>344561</td>\n",
       "      <td>Orange</td>\n",
       "      <td>50.27</td>\n",
       "      <td>6854.207281</td>\n",
       "      <td>City</td>\n",
       "      <td>346824</td>\n",
       "      <td>336265</td>\n",
       "      <td>+3.1%</td>\n",
       "      <td>50.27 sq mi (130.2 km2)</td>\n",
       "      <td>6,899.2/sq mi (2,663.8/km2)</td>\n",
       "      <td>March 18, 1876</td>\n",
       "      <td>3.1</td>\n",
       "      <td>6899.2</td>\n",
       "      <td>1876-03-18</td>\n",
       "      <td>-0.652492</td>\n",
       "    </tr>\n",
       "  </tbody>\n",
       "</table>\n",
       "</div>"
      ],
      "text/plain": [
       "            name  pop_2024_est         county  area_sq_miles    pop_dens_x  \\\n",
       "0    Los Angeles       3878704    Los Angeles         469.49   8261.526337   \n",
       "2       San Jose        997368    Santa Clara         178.26   5595.018512   \n",
       "3  San Francisco        827526  San Francisco          46.91  17640.716265   \n",
       "6     Long Beach        450901    Los Angeles          50.71   8891.757050   \n",
       "9        Anaheim        344561         Orange          50.27   6854.207281   \n",
       "\n",
       "              type  pop2020  pop2010 change                        area  \\\n",
       "0             City  3898747  3792621  +2.8%  469.49 sq mi (1,216.0 km2)   \n",
       "2             City  1013240   945942  +7.1%    178.26 sq mi (461.7 km2)   \n",
       "3  City and county   873965   805235  +8.5%     46.91 sq mi (121.5 km2)   \n",
       "6             City   466742   462257  +1.0%     50.71 sq mi (131.3 km2)   \n",
       "9             City   346824   336265  +3.1%     50.27 sq mi (130.2 km2)   \n",
       "\n",
       "                     pop_dens_y        incorporated  pct_change  \\\n",
       "0   8,304.2/sq mi (3,206.3/km2)       April 4, 1850         2.8   \n",
       "2   5,684.1/sq mi (2,194.6/km2)      March 27, 1850         7.1   \n",
       "3  18,630.7/sq mi (7,193.3/km2)  April 15, 1850[13]         8.5   \n",
       "6   9,204.1/sq mi (3,553.7/km2)   December 13, 1897         1.0   \n",
       "9   6,899.2/sq mi (2,663.8/km2)      March 18, 1876         3.1   \n",
       "\n",
       "   pop_dens_sq_miles incorp_parse  pct_chg_20_24  \n",
       "0             8304.2   1850-04-04      -0.514088  \n",
       "2             5684.1   1850-03-27      -1.566460  \n",
       "3            18630.7   1850-04-15      -5.313600  \n",
       "6             9204.1   1897-12-13      -3.393952  \n",
       "9             6899.2   1876-03-18      -0.652492  "
      ]
     },
     "execution_count": 116,
     "metadata": {},
     "output_type": "execute_result"
    }
   ],
   "source": [
    "df_cal_merged.query('pct_chg_20_24 < 0')"
   ]
  },
  {
   "cell_type": "markdown",
   "id": "e4baec6c-6c5e-42ae-9c57-390a3ffd1b6d",
   "metadata": {},
   "source": [
    "The population of San Francisco shrank by over 5% from 2020 to 2024. Long Beach had more than a 3% drop in population."
   ]
  },
  {
   "cell_type": "markdown",
   "id": "38d91093-a4fe-4e69-81ae-4293c062e1d7",
   "metadata": {},
   "source": [
    "# End of Parts I & II"
   ]
  },
  {
   "cell_type": "code",
   "execution_count": null,
   "id": "e59c4c80-b41e-4b39-9468-b73aaebfaecf",
   "metadata": {},
   "outputs": [],
   "source": []
  }
 ],
 "metadata": {
  "kernelspec": {
   "display_name": "Python 3 (ipykernel)",
   "language": "python",
   "name": "python3"
  },
  "language_info": {
   "codemirror_mode": {
    "name": "ipython",
    "version": 3
   },
   "file_extension": ".py",
   "mimetype": "text/x-python",
   "name": "python",
   "nbconvert_exporter": "python",
   "pygments_lexer": "ipython3",
   "version": "3.12.9"
  }
 },
 "nbformat": 4,
 "nbformat_minor": 5
}
