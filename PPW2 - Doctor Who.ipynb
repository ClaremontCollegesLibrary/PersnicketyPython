{
 "cells": [
  {
   "cell_type": "markdown",
   "id": "38119cca-eeb7-4242-818e-aacaf84c22c8",
   "metadata": {},
   "source": [
    "# Doctor Who - Actor Timeline"
   ]
  },
  {
   "cell_type": "markdown",
   "id": "1f92d685-5992-4cb3-9034-3f19c2b7bfe5",
   "metadata": {},
   "source": [
    "## Topics & Techniques Covered\n",
    "\n",
    "* Extracting text data from a Wikipedia table\n",
    "* Pandas `.read_html()`\n",
    "* Regular expressions (Python `re` module)\n",
    "* Getting time series data out of text data\n",
    "* Python's `datetime` module and the `dateutil` package\n",
    "* Timeline visualization"
   ]
  },
  {
   "cell_type": "markdown",
   "id": "3480c87d-ec38-458c-900c-98f2f37d332e",
   "metadata": {},
   "source": [
    "In this example, we will be creating a barplot that shows which actors played The Doctor on Doctor Who at which times. There is a Wikipedia article that shows this in a table, but we'd like to visualize the data.\n",
    "\n",
    "https://en.wikipedia.org/wiki/List_of_actors_who_have_played_the_Doctor"
   ]
  },
  {
   "cell_type": "markdown",
   "id": "851b7ac9-e604-4adb-a203-28b0dfd44917",
   "metadata": {},
   "source": [
    "## Imports"
   ]
  },
  {
   "cell_type": "code",
   "execution_count": 1,
   "id": "4ba5d32f-42f0-4081-b496-b8b2fdb3d2a8",
   "metadata": {},
   "outputs": [],
   "source": [
    "import re\n",
    "import datetime\n",
    "import requests\n",
    "\n",
    "import numpy as np\n",
    "import pandas as pd\n",
    "import matplotlib.pyplot as plt"
   ]
  },
  {
   "cell_type": "markdown",
   "id": "a2f23832-2818-4b95-9bd2-71e07e123176",
   "metadata": {},
   "source": [
    "### `requests`\n",
    "\n",
    "We will be using the `requests` module to perform a \"get\" HTTP request to the aforementioned Wikipedia page.\n",
    "\n",
    "There are four types of HTTP requests: `get`, `put`, `post`, and `delete`. We aren't hosting the page in question, so we'll just be using a `get` request.\n",
    "\n",
    "For a more extensive tutorial on the `requests` module and on web-scraping, please see the archived \"Practical Python\" workshop materials on the Library's \"[Introduction to Python](https://libguides.libraries.claremont.edu/intro-to-python)\" Research Guide.\n",
    "\n",
    "Once we get the page's data, we will use pandas to convert the table in question to a DataFrame, and then use regular expressions to clean the data and make it usable."
   ]
  },
  {
   "cell_type": "code",
   "execution_count": 2,
   "id": "33d8a4d0-9b2c-4c25-8a74-387e95a6a452",
   "metadata": {},
   "outputs": [],
   "source": [
    "#This next line may be commented out after running to avoid sending\n",
    "#a request more than necessary; requests typically have a rate limit\n",
    "r = requests.get('https://en.wikipedia.org/wiki/List_of_actors_who_have_played_the_Doctor')\n",
    "page_data = r.content"
   ]
  },
  {
   "cell_type": "markdown",
   "id": "f6b07870-a3bb-4131-aed0-b0c25386acee",
   "metadata": {},
   "source": [
    "### pandas read_html (The Easy Way)"
   ]
  },
  {
   "cell_type": "code",
   "execution_count": 3,
   "id": "090bb0c1-bab3-45a7-b842-1cd05835942c",
   "metadata": {},
   "outputs": [],
   "source": [
    "wiki_data = pd.read_html(page_data)"
   ]
  },
  {
   "cell_type": "markdown",
   "id": "7ea3f38b-2ce7-4d14-9f5c-df71232ac36a",
   "metadata": {},
   "source": [
    "Pandas's `.read_html()` method grabs *all* the tables it finds in html code. Luckily for us, the table we want is the first one on the page, so we can look at the table at index \\[0] returned by `pd.read_html()`."
   ]
  },
  {
   "cell_type": "code",
   "execution_count": null,
   "id": "056a8a4b-374d-47fe-baa2-3707c9942311",
   "metadata": {},
   "outputs": [],
   "source": [
    "wiki_data[0]"
   ]
  },
  {
   "attachments": {},
   "cell_type": "markdown",
   "id": "a9c36b8e-7fb2-433b-aff1-b280c30932fb",
   "metadata": {
    "execution": {
     "iopub.execute_input": "2025-03-08T01:14:14.914837Z",
     "iopub.status.busy": "2025-03-08T01:14:14.913834Z",
     "iopub.status.idle": "2025-03-08T01:14:14.928673Z",
     "shell.execute_reply": "2025-03-08T01:14:14.925659Z",
     "shell.execute_reply.started": "2025-03-08T01:14:14.914837Z"
    }
   },
   "source": [
    "We want to create a visualization of how long each actor portrayed The Doctor. The chronological data in this dataset is all in the \"Tenure\" column. However, both the start and end dates are in the same field among other text and punctuation.\n",
    "\n",
    "Fortunately for our purposes, all the Doctors' dates are listed in a predictable pattern: a one-or-two-digit number, the full name of the month, then the four-digit year. We can use the Python regular expressions module `re` to extract their starting and ending years."
   ]
  },
  {
   "cell_type": "markdown",
   "id": "b71b680c-ea3e-434d-b23f-e2e81e0991a8",
   "metadata": {},
   "source": [
    "### Regular Expressions"
   ]
  },
  {
   "cell_type": "markdown",
   "id": "ae04bcdc-9126-40ff-93d0-8087c5919e4a",
   "metadata": {},
   "source": [
    "What are regular expressions?\n",
    "\n",
    "[Regular expressions](https://en.wikipedia.org/wiki/Regular_expression) (or regex for short) are sequences of characters that can be used to find segments of text that match specified characteristics. They are used in search engines and in-page/in-document searches.\n",
    "\n",
    "Regex is not a programming language unto itself, but rather a syntax for pattern-recognition. This syntax is the same across implementations in different programming languages and software systems.\n",
    "\n",
    "There are many free resources for learning regex patterns; you will not need to memorize them in order to use them, but you will need to understand how they are assembled.\n",
    "\n",
    "Both regexr and regex101 offer live platforms to test out patterns on sample text; this can be a very effective means of developing new regex patterns. \n",
    "\n",
    "[regexr](https://regexr.com/)\n",
    "\n",
    "[regex101](https://regex101.com/)\n",
    "\n",
    "If you *really* want to test your understanding of regex syntax, you can do so with regex crossword puzzles:\n",
    "\n",
    "[Regex Crossword](https://regexcrossword.com/)"
   ]
  },
  {
   "cell_type": "code",
   "execution_count": null,
   "id": "eb77a26e-270d-4a68-afca-9d213e389831",
   "metadata": {},
   "outputs": [],
   "source": [
    "#Select every other row of the original DataFrame by using a stride of 2\n",
    "doctors = list(wiki_data[0]['Actor (role)'][::2])"
   ]
  },
  {
   "cell_type": "code",
   "execution_count": null,
   "id": "90c3d948-4630-4077-893b-9d9ddff52267",
   "metadata": {},
   "outputs": [],
   "source": [
    "doctors"
   ]
  },
  {
   "cell_type": "code",
   "execution_count": null,
   "id": "2924d2e2-d165-4022-a555-1f8087f031a2",
   "metadata": {},
   "outputs": [],
   "source": [
    "#Use a lst comprehension, splitting on the space and removing parentheses:\n",
    "doctor_numbers = [doctor.split(' (')[1].replace(')','') for doctor in doctors]\n",
    "doctor_numbers"
   ]
  },
  {
   "cell_type": "code",
   "execution_count": null,
   "id": "21d429d8-b1be-4a8d-9552-38644555312d",
   "metadata": {},
   "outputs": [],
   "source": [
    "doctors = [doctor.split(' (')[0] for doctor in doctors]\n",
    "doctors"
   ]
  },
  {
   "cell_type": "code",
   "execution_count": null,
   "id": "40b3828d-6a79-4994-9b6f-de0a8cfba7dd",
   "metadata": {},
   "outputs": [],
   "source": [
    "#Original DataFrame has date information in every other row\n",
    "#Select every other row of the original DataFrame:\n",
    "tenure = list(wiki_data[0]['Tenure'][::2])"
   ]
  },
  {
   "cell_type": "markdown",
   "id": "86d385c2-bae5-4c7b-ac74-a2e37e669753",
   "metadata": {},
   "source": [
    "# The `re` Module"
   ]
  },
  {
   "cell_type": "markdown",
   "id": "36185149-5642-4bea-88f9-8a98c3bc9632",
   "metadata": {},
   "source": [
    "Regular expressions in Python are handled using the `re` module (part of the Python Standard Library), which contains several methods for matching strings. `re.findall()` returns all non-overlapping instances of a pattern in a given string, scanned left-to-right. "
   ]
  },
  {
   "cell_type": "code",
   "execution_count": null,
   "id": "3d656363-f50d-4e72-a29e-910b01f3de2d",
   "metadata": {},
   "outputs": [],
   "source": [
    "# Create empty lists to store actors' start and end dates as Doctor\n",
    "\n",
    "start_years = []\n",
    "end_years = []\n",
    "\n",
    "# Iterate through table, pulling first and optionally second years from each Tenure cell:\n",
    "for entry in tenure:\n",
    "    years = re.findall(r'\\d\\d\\d\\d', entry)\n",
    "    present = re.findall(r'present', entry)\n",
    "    start_years.append(years[0])\n",
    "    \n",
    "    if len(years) < 2:\n",
    "        # If the Doctor is the current Doctor, append current year:\n",
    "        if present:\n",
    "            end_years.append(datetime.date.today().year)\n",
    "        # If there is no second year but the Doctor is not\n",
    "        # the current Doctor, append first year to both lists\n",
    "        else:\n",
    "            end_years.append(years[0])\n",
    "    else:\n",
    "        end_years.append(years[1])"
   ]
  },
  {
   "cell_type": "markdown",
   "id": "d4984f64-db21-445f-9b0e-35c54fe05388",
   "metadata": {},
   "source": [
    "But can we get it to be even more granular? What if we wanted the full date, not just the year?\n",
    "\n",
    "How can we construct a regular expression that captures both \"1 January 2010\" and \"25 December 2013\" but which excludes \"3 years, 11 months\"?"
   ]
  },
  {
   "cell_type": "markdown",
   "id": "079936f9-e059-40a2-b15c-eef9bfd5b8d8",
   "metadata": {},
   "source": [
    "## CODING EXERCISE \n",
    "\n",
    "Try it yourself on Regexr or regex101! Both of these sites have a \"cheat sheet\"/\"quick reference\" section that shows you components of regex patterns.\n",
    "\n",
    "\n",
    "\n"
   ]
  },
  {
   "cell_type": "code",
   "execution_count": null,
   "id": "f49fb2f2-b771-4198-84d6-fa27df760ff5",
   "metadata": {},
   "outputs": [],
   "source": [
    "print(wiki_data[0].iloc[20]['Tenure'])"
   ]
  },
  {
   "cell_type": "code",
   "execution_count": null,
   "id": "ce293070-6810-4b78-989c-174c94dc4997",
   "metadata": {},
   "outputs": [],
   "source": [
    "wiki_data[0].iloc[20]['Tenure'].replace(u'\\xa0',' ')"
   ]
  },
  {
   "cell_type": "markdown",
   "id": "67dfa637-266e-4cb8-bdcf-983b3eda123a",
   "metadata": {},
   "source": [
    "`\\xa0` is a unicode character that indicates a [non-breaking space (NBSP)](https://en.wikipedia.org/wiki/Non-breaking_space). This is a special character that prevents a line break between two words, so \"11 months\" won't end up as \"11 \n",
    "\n",
    "months\". We're going to replace all instances of this character, to demonstrate that the regex pattern will work regardless of its presence."
   ]
  },
  {
   "cell_type": "markdown",
   "id": "4576c27c-d869-4625-bcf5-9ef8dc85f099",
   "metadata": {},
   "source": [
    "Once you have found a pattern that matches dates in the given format, try pasting it into the `rstring` in the cell below:"
   ]
  },
  {
   "cell_type": "code",
   "execution_count": null,
   "id": "284a92cb-eb41-464c-aa30-8b928dc724ff",
   "metadata": {
    "scrolled": true
   },
   "outputs": [],
   "source": [
    "################################################################################\n",
    "################################################################################\n",
    "\n",
    "entry = wiki_data[0].iloc[20]['Tenure'].replace(u'\\xa0',' ')\n",
    "\n",
    "search_string = r'____'\n",
    "\n",
    "result = re.findall(search_string, entry)\n",
    "\n",
    "result\n",
    "\n",
    "################################################################################\n",
    "################################################################################"
   ]
  },
  {
   "cell_type": "markdown",
   "id": "e3722a01-edbc-4c2a-85aa-3b6fe1ac4df9",
   "metadata": {
    "jp-MarkdownHeadingCollapsed": true
   },
   "source": [
    "### Solution"
   ]
  },
  {
   "cell_type": "markdown",
   "id": "50d96dd2-a933-476e-8c16-0cc9c0a915a8",
   "metadata": {},
   "source": [
    "There are several ways to get the correct matches using regex, but this is one that works reliably in this particular case:\n",
    "\n",
    "We start with `\\d+` which means \"at least one digit\", then we add a `\\s+` (at least one whitespace character).\n",
    "\n",
    "There are several options for what we could add next to capture this pattern, but we're going to go with `\\D+` here, which means \"at least one character that *isn't* numeric.\"\n",
    "\n",
    "Then we'll round it out with another \"some amount of whitespace\", and finally `\\d{4}` (exactly four numeric digits).\n",
    "\n",
    "This will only match patterns that meet all the criteria above. Since there are no durations with four digits worth of months, it won't accidentally match \"3 years, 11 months\"."
   ]
  },
  {
   "cell_type": "code",
   "execution_count": null,
   "id": "e5d4f263-ce39-4a05-90a9-c8d307f1e603",
   "metadata": {
    "scrolled": true
   },
   "outputs": [],
   "source": [
    "################################################################################\n",
    "################################################################################\n",
    "\n",
    "entry = wiki_data[0].iloc[20]['Tenure'].replace(u'\\xa0',' ')\n",
    "\n",
    "search_string = r'\\d+\\s+\\D+\\s+\\d{4}'\n",
    "\n",
    "result = re.findall(search_string, entry)\n",
    "\n",
    "result\n",
    "\n",
    "################################################################################\n",
    "################################################################################"
   ]
  },
  {
   "cell_type": "markdown",
   "id": "ed814f95-6dfd-49b8-89d3-cd6272f91134",
   "metadata": {},
   "source": [
    "## Extracting the Dates"
   ]
  },
  {
   "cell_type": "code",
   "execution_count": null,
   "id": "eed27c78-c236-4e05-b5d5-e28f2bf7d87e",
   "metadata": {},
   "outputs": [],
   "source": [
    "# Create empty lists to store actors' start and end dates as Doctor\n",
    "\n",
    "start_dates = []\n",
    "end_dates = []\n",
    "\n",
    "# Iterate through table, pulling first and optionally second years from each Tenure cell:\n",
    "for entry in tenure:\n",
    "\n",
    "    #Replace all non-breaking spaces with regular spaces\n",
    "    entry = entry.replace(u'\\xa0',' ')\n",
    "\n",
    "    #Look for instances of predetermined regex pattern\n",
    "    years = re.findall(search_string, entry)\n",
    "    \n",
    "    print(years)\n",
    "    present = re.findall(r'present', entry)\n",
    "    start_dates.append(years[0])\n",
    "\n",
    "    #If only one date listed:\n",
    "    #For \"present\" use today's date\n",
    "    #For a single date not \"present\", use for both start and end date:\n",
    "    \n",
    "    if len(years) < 2:\n",
    "        # If the Doctor is the current Doctor, append current year:\n",
    "        if present:\n",
    "            end_dates.append(datetime.date.today().strftime('%d %B %Y'))\n",
    "        # If there is no second year but the Doctor is not\n",
    "        # the current Doctor, append first year to both lists\n",
    "        else:\n",
    "            end_dates.append(years[0])\n",
    "    else:\n",
    "        end_dates.append(years[1])"
   ]
  },
  {
   "cell_type": "markdown",
   "id": "a9798ee7-853f-4f95-bd15-49096eac3ae7",
   "metadata": {},
   "source": [
    "https://strftime.org/"
   ]
  },
  {
   "cell_type": "code",
   "execution_count": null,
   "id": "d471add7-a948-4659-990b-7d2affc3afee",
   "metadata": {},
   "outputs": [],
   "source": [
    "#Create empty DataFRame\n",
    "doctor_tenures = pd.DataFrame()\n",
    "\n",
    "#Create columns for Doctor, Doctor Number, Start and End dates\n",
    "doctor_tenures['Doctor'] = doctors\n",
    "doctor_tenures['Doctor Number'] = doctor_numbers\n",
    "doctor_tenures['Start Date'] = start_dates\n",
    "doctor_tenures['End Date'] = end_dates\n",
    "\n",
    "doctor_tenures"
   ]
  },
  {
   "cell_type": "markdown",
   "id": "2f8ab37d-9c09-4236-918a-e6f9a9e897d7",
   "metadata": {},
   "source": [
    "## QUESTION - Best Practices for Date Formatting"
   ]
  },
  {
   "cell_type": "markdown",
   "id": "4da74e25-575d-4256-87e2-c1235d40e5b8",
   "metadata": {},
   "source": [
    "What do you suppose the most useful date format is from a programming perspective?"
   ]
  },
  {
   "cell_type": "markdown",
   "id": "2d28fa3d-587e-4023-8d4b-beb0c21af1f2",
   "metadata": {
    "jp-MarkdownHeadingCollapsed": true
   },
   "source": [
    "#### (Click to reveal)"
   ]
  },
  {
   "cell_type": "markdown",
   "id": "ed4b0988-539e-43c4-aef7-76f9408b0c9f",
   "metadata": {},
   "source": [
    "YYYYMMDD has the advantage of being chronologically sortable when read as a simple integer value, since its time increments are represented largest-to-smallest."
   ]
  },
  {
   "cell_type": "code",
   "execution_count": null,
   "id": "cbc73bf7-9d43-48de-a37f-7799df7c7a3c",
   "metadata": {},
   "outputs": [],
   "source": [
    "#MMDDYYYY\n",
    "12132024 < 12112025"
   ]
  },
  {
   "cell_type": "code",
   "execution_count": null,
   "id": "620522b0-ae65-4316-b6b3-29a7038cbc49",
   "metadata": {},
   "outputs": [],
   "source": [
    "#YYYYMMDD\n",
    "20241213 < 20251211"
   ]
  },
  {
   "cell_type": "markdown",
   "id": "65e83950-9f20-461c-8b73-e71afcde85c1",
   "metadata": {},
   "source": [
    "## A Brief History of Datetime (and Dateutil)"
   ]
  },
  {
   "cell_type": "markdown",
   "id": "6601fd70-79ba-4bf8-932a-233e4c69d669",
   "metadata": {},
   "source": [
    "Python's builtin `datetime` module is a powerful tool for reformatting dates and times so they can be applied across different timestamp paradigms, whether to make them more human-readable, or more machine-readable. `datetime` is host to a number of useful classes, including the redundantly-named `datetime`, which is a combination of the `date` class and the `time` class, as well as `timedelta`, which expressed the difference between `date` and/or `datetime` objects, as well as classes specific to handling time zones, `timezone` and `tzinfo`. \n",
    "\n",
    "However, `datetime` leaves something to be desired in ease of use. The `dateutil` package is an extension to `datetime` that makes parsing and formatting dates easier. It adds additional capability for calculating time deltas by different units, more precise implementations of time zone, and most importantly for our purposes, robust support for parsing differently formatted dates."
   ]
  },
  {
   "cell_type": "code",
   "execution_count": null,
   "id": "af6e9272-8418-4b0f-83d1-dd692b35dc57",
   "metadata": {},
   "outputs": [],
   "source": [
    "from dateutil import parser"
   ]
  },
  {
   "cell_type": "markdown",
   "id": "089cd0dc-12a1-4d14-a6e8-f35b8624ad75",
   "metadata": {},
   "source": [
    "The dateutil parser can interpret dates in a number of different formats. It defaults to reading dates with the US convention of MM-DD-YYYY formatting, but it can be set to parse [different date formats](https://en.wikipedia.org/wiki/List_of_date_formats_by_country). \n",
    "\n",
    "It can also interpret months written as words and ordinal dates written as \"1st\", \"2nd\", \"3rd\", etc., though it cannot parse ordinal dates written as words (e.g. \"June third, 2002\")"
   ]
  },
  {
   "cell_type": "code",
   "execution_count": null,
   "id": "83a503fb-3833-4b22-940c-9f3c982bf73f",
   "metadata": {},
   "outputs": [],
   "source": [
    "parser.parse('6 December 1989')"
   ]
  },
  {
   "cell_type": "code",
   "execution_count": null,
   "id": "0e5a6bce-363f-41c5-ab5a-7d3689b937f4",
   "metadata": {},
   "outputs": [],
   "source": [
    "parser.parse('December 6 1989')"
   ]
  },
  {
   "cell_type": "code",
   "execution_count": null,
   "id": "cd5bccf7-1a23-465a-ba2f-324c6a2ef1dd",
   "metadata": {},
   "outputs": [],
   "source": [
    "parser.parse('12 6 1989')"
   ]
  },
  {
   "cell_type": "code",
   "execution_count": null,
   "id": "a27aeb44-5955-4209-aaf5-e89658267cb2",
   "metadata": {},
   "outputs": [],
   "source": [
    "#Dateutil's parser defaults to reading a date as MM-DD-YYYY when it's ambiguous\n",
    "parser.parse('6/12/1989')"
   ]
  },
  {
   "cell_type": "code",
   "execution_count": null,
   "id": "53aa1c04-5e56-4482-9ec5-54d2ca8fd257",
   "metadata": {},
   "outputs": [],
   "source": [
    "#The \"dayfirst\" parameter lets you change the default behavior\n",
    "parser.parse('6/12/1989', dayfirst=True)"
   ]
  },
  {
   "cell_type": "code",
   "execution_count": null,
   "id": "c58bc218-be33-4ac5-8a5b-4300b1d4059a",
   "metadata": {},
   "outputs": [],
   "source": [
    "#The parser will read DD-MM-YYYY dates correctly when the date cannot be in MM-DD-YYYY format\n",
    "parser.parse('13/12/1989', dayfirst=True)"
   ]
  },
  {
   "cell_type": "code",
   "execution_count": null,
   "id": "a067e075-2f7b-4234-8902-73c69d32abad",
   "metadata": {},
   "outputs": [],
   "source": [
    "#The parser works with non-numeric date indicators as well.\n",
    "parser.parse('June 3rd, 2002')"
   ]
  },
  {
   "cell_type": "code",
   "execution_count": null,
   "id": "b06dc9c6-55f5-4aff-a19e-81e6a28aca81",
   "metadata": {},
   "outputs": [],
   "source": [
    "parser.parse('3rd June, 2002')"
   ]
  },
  {
   "cell_type": "markdown",
   "id": "96f1c706-50fe-4975-a859-07a35ccee4ef",
   "metadata": {
    "execution": {
     "iopub.execute_input": "2025-02-13T01:10:47.076598Z",
     "iopub.status.busy": "2025-02-13T01:10:47.075593Z",
     "iopub.status.idle": "2025-02-13T01:10:47.085848Z",
     "shell.execute_reply": "2025-02-13T01:10:47.083835Z",
     "shell.execute_reply.started": "2025-02-13T01:10:47.076598Z"
    }
   },
   "source": [
    "### CODING EXERCISE - `dateutil` Parser\n",
    "Try passing a date into the dateutil parser. See for yourself which formats work and which do not."
   ]
  },
  {
   "cell_type": "code",
   "execution_count": null,
   "id": "89840165-e5a6-48e3-8826-991cc9a90486",
   "metadata": {},
   "outputs": [],
   "source": [
    "################################################################################\n",
    "################################################################################\n",
    "\n",
    "parser.parse('3rd June, 2002')\n",
    "\n",
    "################################################################################\n",
    "################################################################################"
   ]
  },
  {
   "cell_type": "markdown",
   "id": "8e036c05-1ab0-410c-bcc5-65d8a3ca7720",
   "metadata": {},
   "source": [
    "We'll be using the dateutil parser within an `apply(lambda)` statement, as seen in `PPW1 - ManagerSalary.ipynb`."
   ]
  },
  {
   "cell_type": "code",
   "execution_count": null,
   "id": "8d6d864d-f77b-4813-8173-524aecc4b0ca",
   "metadata": {},
   "outputs": [],
   "source": [
    "doctor_tenures['Start Date'] = doctor_tenures['Start Date'].apply(lambda x: parser.parse(x))\n",
    "doctor_tenures['End Date'] = doctor_tenures['End Date'].apply(lambda x: parser.parse(x))"
   ]
  },
  {
   "cell_type": "code",
   "execution_count": null,
   "id": "674c9e9e-e2fa-4e80-8714-f27c1f7f4980",
   "metadata": {},
   "outputs": [],
   "source": [
    "doctor_tenures"
   ]
  },
  {
   "cell_type": "markdown",
   "id": "f1368425-541a-4af6-8d00-ded0e999e118",
   "metadata": {},
   "source": [
    "Note that the output of the parser is normally `datetime.datetime(year, month, day, hour, minute)`, but because it's in a Pandas DataFrame, it's stored in YYYY-MM-DD format. The dates have been converted to pandas Timestamp format, allowing them to be used as numerical values."
   ]
  },
  {
   "cell_type": "code",
   "execution_count": null,
   "id": "4c0adbcf-6905-421f-b00b-8d8953f7834e",
   "metadata": {},
   "outputs": [],
   "source": [
    "for x in doctor_tenures['Start Date']:\n",
    "    print(x, type(x))"
   ]
  },
  {
   "cell_type": "code",
   "execution_count": null,
   "id": "a2c865a0-935d-4162-8835-3cea672196af",
   "metadata": {
    "scrolled": true
   },
   "outputs": [],
   "source": [
    "for x in doctor_tenures['End Date']:\n",
    "    print(x, type(x))"
   ]
  },
  {
   "cell_type": "code",
   "execution_count": null,
   "id": "987c6aa8-78bf-4770-bcca-5f45e45c5468",
   "metadata": {
    "scrolled": true
   },
   "outputs": [],
   "source": [
    "doctor_tenures"
   ]
  },
  {
   "cell_type": "markdown",
   "id": "de018cc3-a375-46aa-9ed9-9cb78f7d20a2",
   "metadata": {
    "execution": {
     "iopub.execute_input": "2025-03-08T00:56:57.061286Z",
     "iopub.status.busy": "2025-03-08T00:56:57.060260Z",
     "iopub.status.idle": "2025-03-08T00:56:57.069939Z",
     "shell.execute_reply": "2025-03-08T00:56:57.067917Z",
     "shell.execute_reply.started": "2025-03-08T00:56:57.061286Z"
    }
   },
   "source": [
    "Next, we can create a new column containing a list for each pair of start/end dates."
   ]
  },
  {
   "cell_type": "code",
   "execution_count": null,
   "id": "e24483ce-0b0e-41dd-ad4f-624ed00f69c7",
   "metadata": {},
   "outputs": [],
   "source": [
    "doctor_tenures['StartEnd'] = [(start, end) for start, end in zip(doctor_tenures['Start Date'], doctor_tenures['End Date'])]\n",
    "doctor_tenures['StartEnd'] = [[entry] for entry in doctor_tenures['StartEnd']]"
   ]
  },
  {
   "cell_type": "code",
   "execution_count": null,
   "id": "89a7e03a-abc5-4808-8e91-853693c4392e",
   "metadata": {},
   "outputs": [],
   "source": [
    "doctor_tenures"
   ]
  },
  {
   "cell_type": "markdown",
   "id": "b437d035-29ae-4598-a2ff-2ac2149ac2c8",
   "metadata": {},
   "source": [
    "We can create a dictionary that stores the start date of each performer."
   ]
  },
  {
   "cell_type": "code",
   "execution_count": null,
   "id": "08fd4910-5843-448b-9534-5ca36bc90a24",
   "metadata": {},
   "outputs": [],
   "source": [
    "#Create empty dictionary\n",
    "start_date_timeline = {}\n",
    "\n",
    "#Store start, end dates as values with actors as keys:\n",
    "for key, value in zip(doctor_tenures['Doctor'], doctor_tenures['Start Date']):\n",
    "    #Check to see if actor is already stored as key:\n",
    "    if key not in start_date_timeline.keys():\n",
    "        start_date_timeline[key] = value"
   ]
  },
  {
   "cell_type": "code",
   "execution_count": null,
   "id": "1bbf81bb-1ab4-4b11-8693-f191b7326d74",
   "metadata": {},
   "outputs": [],
   "source": [
    "start_date_timeline"
   ]
  },
  {
   "cell_type": "code",
   "execution_count": null,
   "id": "dc70fec4-c764-4928-bfa0-e62683862a1f",
   "metadata": {},
   "outputs": [],
   "source": [
    "doctor_tenures"
   ]
  },
  {
   "cell_type": "markdown",
   "id": "718f8a4c-5d22-4a31-96e0-fa5f36a78349",
   "metadata": {},
   "source": [
    "Next we can get the durations of each performer's stint as The Doctor by subtracting the start date timestamp from the end date timestamp, in our StartEnd column."
   ]
  },
  {
   "cell_type": "code",
   "execution_count": null,
   "id": "a737c117-3576-4c40-aeb4-2162b0ba9dfb",
   "metadata": {},
   "outputs": [],
   "source": [
    "doctor_tenures['timediff'] = doctor_tenures['StartEnd'].apply(lambda x: [y[1] - y[0] for y in x])"
   ]
  },
  {
   "cell_type": "markdown",
   "id": "61273a1b-29f9-4780-b400-25bafe2fb4ad",
   "metadata": {},
   "source": [
    "## What About David Tennant? - Pandas `.groupby()`\n",
    "\n",
    "As both the Tenth and Fourteenth Doctor, David Tennant is an anomaly among Doctors. If we want to avoid redunant entries, we need to use Pandas `.groupby()` to combine his entries.\n",
    "\n",
    "This is a fairly complex sequence of nested object methods: \n",
    "\n",
    "First, we use `.groupby()` to merge rows with the same value in the specified column (\"Doctor\").\n",
    "\n",
    "Then we specify the columns to be combined (\"StartEnd\", \"timediff\"), use `.sum()` to add the values (or in this case, concatenate them)\n",
    "\n",
    "Next, we use `.sort_values()` to reorder the entries based on which actor started first (following the order specified in `start_date_timeline`).\n",
    "\n",
    "The `.map()` method allows us to pass in a custom dictionary for the order rather than relying on the default ascending/descending sort."
   ]
  },
  {
   "cell_type": "code",
   "execution_count": null,
   "id": "4be12e84-9e10-48b3-a048-7126ec7f7beb",
   "metadata": {},
   "outputs": [],
   "source": [
    "doc_tenures_graph = doctor_tenures.groupby('Doctor', as_index=False)[['StartEnd', 'timediff']].sum().sort_values(by=['Doctor'], key=lambda x: x.map(start_date_timeline))\n",
    "\n",
    "doc_tenures_graph.reset_index(inplace=True, drop=True)\n",
    "doc_tenures_graph"
   ]
  },
  {
   "cell_type": "markdown",
   "id": "1772728b-edcd-4778-b499-15d5badca632",
   "metadata": {},
   "source": [
    "# Visualization"
   ]
  },
  {
   "attachments": {
    "82e15824-fd41-4dd3-95f9-0fa064147c08.png": {
     "image/png": "[encoded data removed]"
    }
   },
   "cell_type": "markdown",
   "id": "dfe664e1-f706-4bfc-81d2-a9abb08cdac3",
   "metadata": {},
   "source": [
    "[Example of Timeline Plot](https://deparkes.co.uk/2021/09/05/python-timeline-plot/) for period settings of television shows set in the UK. We can base our visualization on this example, but we will need to alter some lines of code to better suit our purposes.\n",
    "\n",
    "Please note: the UK television link contains Plotly examples that refer to this type of chart as a \"Gantt chart\"; while there are similarities between Gantt charts and this kind of visualization, [Gantt charts](https://en.wikipedia.org/wiki/Gantt_chart) are specifically designed for coordinating tasks for project scheduling.\n",
    "\n",
    "![image.png](attachment:82e15824-fd41-4dd3-95f9-0fa064147c08.png)"
   ]
  },
  {
   "cell_type": "markdown",
   "id": "100fe9dd-eec7-477e-a580-79898982664f",
   "metadata": {},
   "source": [
    "## Doctor Timeline"
   ]
  },
  {
   "cell_type": "markdown",
   "id": "9fc50977-3734-40c6-99cc-4a97a727495d",
   "metadata": {},
   "source": [
    "Following the template in the example above, we can construct our own broken horizontal bar graph to show the durations of each actor's tenure. We're going to try to get a working prototype before we consdier how to deal with David Tennant's particular situation."
   ]
  },
  {
   "cell_type": "markdown",
   "id": "c945f439-445f-426f-91a6-8bb93f4e5f2a",
   "metadata": {},
   "source": [
    "### Graph 1"
   ]
  },
  {
   "cell_type": "code",
   "execution_count": null,
   "id": "2222fb98-3c32-4d10-9d2e-0eb716567dc0",
   "metadata": {},
   "outputs": [],
   "source": [
    "#\"padding\" will give some dimension to extremely short entries\n",
    "#Paul McGann's stint as the Doctor has 0 length, so it would be invisible without padding\n",
    "padding = datetime.timedelta(days=31)\n",
    "\n",
    "#Create the figure and axes for the timeline:\n",
    "fig, gnt = plt.subplots(figsize = (14, 10))\n",
    "\n",
    "#Set labels for Y-Axis\n",
    "y_tick_labels = doctor_tenures.sort_values(by='Start Date')['Doctor']\n",
    "y_pos = np.arange(len(y_tick_labels))\n",
    "gnt.set_yticks(y_pos)\n",
    "gnt.set_yticklabels(y_tick_labels)\n",
    "\n",
    "#Plot the actor's stints, sorting by their start dates\n",
    "for index, row in doctor_tenures.sort_values(by='Start Date').reset_index().iterrows():\n",
    "    start_date = row['Start Date']\n",
    "    duration = row['timediff'][0]\n",
    "    \n",
    "    gnt.broken_barh([(start_date-padding, duration+padding)], \n",
    "                    (index-0.5,0.8), \n",
    "                    facecolors =('cornflowerblue'),\n",
    "                   label=row['Doctor'])\n",
    "    gnt.text(start_date+padding, index-0.2, row['Doctor'])"
   ]
  },
  {
   "cell_type": "markdown",
   "id": "1b2f9992-a14d-4d78-80e8-ad7da6fe535c",
   "metadata": {},
   "source": [
    "### Graph 2"
   ]
  },
  {
   "cell_type": "markdown",
   "id": "03e40e4c-d893-4727-bf79-ace688156339",
   "metadata": {},
   "source": [
    "There are two David Tennants... while in the Whoniverse, the Tenth and Fourteenth Doctors are separate regenerations of the same entity, the real David Tennant has gone through no such transformative process (at least, not that we know of). Let's tidy this up by aligning both his stints as The Doctor in the same row.\n",
    "\n",
    "We can accomplish this by using list comprehensions for each actor's start dates and the durations of their tenures, and then adding features to the graph based on the contents of those freshly-generated lists."
   ]
  },
  {
   "cell_type": "code",
   "execution_count": null,
   "id": "a9778efb-739a-4f5d-be53-3ec163f20e71",
   "metadata": {},
   "outputs": [],
   "source": [
    "#\"padding\" will give some dimension to extremely short entries\n",
    "#Paul McGann's stint as the Doctor has 0 length, so it would be invisible without padding\n",
    "padding = datetime.timedelta(days=31)\n",
    "\n",
    "#Create the figure and axes for the timeline:\n",
    "fig, gnt = plt.subplots(figsize = (14, 10))\n",
    "\n",
    "#Set labels for Y-Axis\n",
    "y_tick_labels = doc_tenures_graph['Doctor']\n",
    "y_pos = np.arange(len(y_tick_labels))\n",
    "gnt.set_yticks(y_pos)\n",
    "gnt.set_yticklabels(y_tick_labels)\n",
    "\n",
    "#Plot the actor's stints, sorting by their INITIAL start dates\n",
    "for index, row in doc_tenures_graph.iterrows():\n",
    "\n",
    "    #Use list comprehensions to create sequence of start/end dates for each performer:\n",
    "    start_dates = [x[0] for x in row['StartEnd']]\n",
    "    durations = [y for y in row['timediff']]\n",
    "\n",
    "    gnt.broken_barh([(start_date-padding, duration+padding) for start_date, duration in zip(start_dates, durations)], \n",
    "                    (index-0.5,0.8), \n",
    "                    facecolors =('cornflowerblue'),\n",
    "                   label=row['Doctor'])\n",
    "    gnt.text(start_dates[0]+padding*10, index-0.2, row['Doctor'])\n",
    "    if len(start_dates) > 1:\n",
    "        gnt.text(start_dates[1]+padding*10, index-0.2, row['Doctor'])\n",
    "\n",
    "plt.title('Doctor Who - Actor Timeline')\n",
    "plt.ylabel('Performer')\n",
    "plt.xlabel('Year')\n",
    "\n",
    "plt.show()"
   ]
  },
  {
   "cell_type": "markdown",
   "id": "077ae19f-9741-4260-8f13-121b85ab4e6f",
   "metadata": {},
   "source": [
    "# End of Module 2"
   ]
  },
  {
   "cell_type": "markdown",
   "id": "05591325-2cf2-4a2c-94ac-cc332aca5f28",
   "metadata": {},
   "source": [
    "*© 2025. This work is openly licensed via CC BY 4.0*"
   ]
  }
 ],
 "metadata": {
  "kernelspec": {
   "display_name": "Python 3 (ipykernel)",
   "language": "python",
   "name": "python3"
  },
  "language_info": {
   "codemirror_mode": {
    "name": "ipython",
    "version": 3
   },
   "file_extension": ".py",
   "mimetype": "text/x-python",
   "name": "python",
   "nbconvert_exporter": "python",
   "pygments_lexer": "ipython3",
   "version": "3.12.9"
  }
 },
 "nbformat": 4,
 "nbformat_minor": 5
}
