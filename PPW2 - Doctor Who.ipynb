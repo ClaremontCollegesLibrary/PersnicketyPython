{
 "cells": [
  {
   "cell_type": "markdown",
   "id": "38119cca-eeb7-4242-818e-aacaf84c22c8",
   "metadata": {},
   "source": [
    "# Doctor Who - Actor Timeline"
   ]
  },
  {
   "cell_type": "markdown",
   "id": "1f92d685-5992-4cb3-9034-3f19c2b7bfe5",
   "metadata": {},
   "source": [
    "## Topics Covered\n",
    "\n",
    "* Extracting text data from a Wikipedia table\n",
    "* Pandas `.read_html()`\n",
    "* Regular Expressions (Python `re` module)\n",
    "* Getting time series data out of text data\n",
    "* Python's `datetime` module and the `dateutil` package\n",
    "* Timeline visualization"
   ]
  },
  {
   "cell_type": "markdown",
   "id": "3480c87d-ec38-458c-900c-98f2f37d332e",
   "metadata": {},
   "source": [
    "In this example, we will be creating a barplot that shows which actors played The Doctor on Doctor Who at which times. There is a Wikipedia article that shows this in a table, but we'd like to visualize the data.\n",
    "\n",
    "https://en.wikipedia.org/wiki/List_of_actors_who_have_played_the_Doctor"
   ]
  },
  {
   "cell_type": "markdown",
   "id": "851b7ac9-e604-4adb-a203-28b0dfd44917",
   "metadata": {},
   "source": [
    "## Imports"
   ]
  },
  {
   "cell_type": "code",
   "execution_count": 1,
   "id": "4ba5d32f-42f0-4081-b496-b8b2fdb3d2a8",
   "metadata": {
    "execution": {
     "iopub.execute_input": "2025-03-31T22:07:26.892882Z",
     "iopub.status.busy": "2025-03-31T22:07:26.889855Z",
     "iopub.status.idle": "2025-03-31T22:07:28.382852Z",
     "shell.execute_reply": "2025-03-31T22:07:28.382284Z",
     "shell.execute_reply.started": "2025-03-31T22:07:26.892882Z"
    }
   },
   "outputs": [],
   "source": [
    "import re\n",
    "import datetime\n",
    "import requests\n",
    "\n",
    "import numpy as np\n",
    "import pandas as pd\n",
    "import matplotlib.pyplot as plt"
   ]
  },
  {
   "cell_type": "markdown",
   "id": "a2f23832-2818-4b95-9bd2-71e07e123176",
   "metadata": {},
   "source": [
    "### `requests`\n",
    "\n",
    "We will be using the `requests` module to perform a \"get\" HTTP request to the aforementioned Wikipedia page.\n",
    "\n",
    "There are four types of HTTP requests: `get`, `put`, `post`, and `delete`. We aren't hosting the page in question, so we'll just be using a `get` request.\n",
    "\n",
    "For a more extensive tutorial on the `requests` module and on web-scraping, please see the archived \"Practical Python\" workshop materials on the Library's \"[Introduction to Python](https://libguides.libraries.claremont.edu/intro-to-python)\" Research Guide.\n",
    "\n",
    "Once we get the page's data, we will use pandas to convert the table in question to a DataFrame, and then use regular expressions to clean the data and make it usable."
   ]
  },
  {
   "cell_type": "code",
   "execution_count": 2,
   "id": "33d8a4d0-9b2c-4c25-8a74-387e95a6a452",
   "metadata": {
    "execution": {
     "iopub.execute_input": "2025-03-31T22:07:28.382852Z",
     "iopub.status.busy": "2025-03-31T22:07:28.382852Z",
     "iopub.status.idle": "2025-03-31T22:07:28.476706Z",
     "shell.execute_reply": "2025-03-31T22:07:28.476706Z",
     "shell.execute_reply.started": "2025-03-31T22:07:28.382852Z"
    }
   },
   "outputs": [],
   "source": [
    "#This next line may be commented out after running to avoid sending\n",
    "#a request more than necessary; requests typically have a rate limit\n",
    "r = requests.get('https://en.wikipedia.org/wiki/List_of_actors_who_have_played_the_Doctor')\n",
    "page_data = r.content"
   ]
  },
  {
   "cell_type": "markdown",
   "id": "f6b07870-a3bb-4131-aed0-b0c25386acee",
   "metadata": {},
   "source": [
    "### pandas read_html (The Easy Way)"
   ]
  },
  {
   "cell_type": "code",
   "execution_count": 3,
   "id": "090bb0c1-bab3-45a7-b842-1cd05835942c",
   "metadata": {
    "execution": {
     "iopub.execute_input": "2025-03-31T22:07:28.478462Z",
     "iopub.status.busy": "2025-03-31T22:07:28.476706Z",
     "iopub.status.idle": "2025-03-31T22:07:28.930371Z",
     "shell.execute_reply": "2025-03-31T22:07:28.930371Z",
     "shell.execute_reply.started": "2025-03-31T22:07:28.476706Z"
    }
   },
   "outputs": [],
   "source": [
    "wiki_data = pd.read_html(page_data)"
   ]
  },
  {
   "cell_type": "markdown",
   "id": "7ea3f38b-2ce7-4d14-9f5c-df71232ac36a",
   "metadata": {},
   "source": [
    "Pandas's `.read_html()` method grabs *all* the tables it finds in html code. Luckily for us, the table we want is the first one on the page, so we can look at the table at index \\[0] returned by `pd.read_html()`."
   ]
  },
  {
   "cell_type": "code",
   "execution_count": 4,
   "id": "056a8a4b-374d-47fe-baa2-3707c9942311",
   "metadata": {
    "execution": {
     "iopub.execute_input": "2025-03-31T22:07:28.930371Z",
     "iopub.status.busy": "2025-03-31T22:07:28.930371Z",
     "iopub.status.idle": "2025-03-31T22:07:28.950131Z",
     "shell.execute_reply": "2025-03-31T22:07:28.949126Z",
     "shell.execute_reply.started": "2025-03-31T22:07:28.930371Z"
    }
   },
   "outputs": [
    {
     "data": {
      "text/html": [
       "<div>\n",
       "<style scoped>\n",
       "    .dataframe tbody tr th:only-of-type {\n",
       "        vertical-align: middle;\n",
       "    }\n",
       "\n",
       "    .dataframe tbody tr th {\n",
       "        vertical-align: top;\n",
       "    }\n",
       "\n",
       "    .dataframe thead th {\n",
       "        text-align: right;\n",
       "    }\n",
       "</style>\n",
       "<table border=\"1\" class=\"dataframe\">\n",
       "  <thead>\n",
       "    <tr style=\"text-align: right;\">\n",
       "      <th></th>\n",
       "      <th>Actor (role)</th>\n",
       "      <th>Tenure</th>\n",
       "      <th>First regular appearance</th>\n",
       "      <th>Last regular appearance</th>\n",
       "    </tr>\n",
       "  </thead>\n",
       "  <tbody>\n",
       "    <tr>\n",
       "      <th>0</th>\n",
       "      <td>William Hartnell (First Doctor)</td>\n",
       "      <td>23 November 1963 – 29 October 1966 (2 years, 1...</td>\n",
       "      <td>An Unearthly Child \"An Unearthly Child\"[1]</td>\n",
       "      <td>The Tenth Planet Episode 4[2]</td>\n",
       "    </tr>\n",
       "    <tr>\n",
       "      <th>1</th>\n",
       "      <td>William Hartnell (First Doctor)</td>\n",
       "      <td>Other First Doctor appearances William Hartnel...</td>\n",
       "      <td>Other First Doctor appearances William Hartnel...</td>\n",
       "      <td>Other First Doctor appearances William Hartnel...</td>\n",
       "    </tr>\n",
       "    <tr>\n",
       "      <th>2</th>\n",
       "      <td>Patrick Troughton (Second Doctor)</td>\n",
       "      <td>29 October 1966 – 21 June 1969 (2 years, 7 mon...</td>\n",
       "      <td>The Power of the Daleks Episode One[5]</td>\n",
       "      <td>The War Games Episode Ten[2]</td>\n",
       "    </tr>\n",
       "    <tr>\n",
       "      <th>3</th>\n",
       "      <td>Patrick Troughton (Second Doctor)</td>\n",
       "      <td>Other Second Doctor appearances Television: Th...</td>\n",
       "      <td>Other Second Doctor appearances Television: Th...</td>\n",
       "      <td>Other Second Doctor appearances Television: Th...</td>\n",
       "    </tr>\n",
       "    <tr>\n",
       "      <th>4</th>\n",
       "      <td>Jon Pertwee (Third Doctor)</td>\n",
       "      <td>3 January 1970 – 8 June 1974 (4 years, 5 month...</td>\n",
       "      <td>Spearhead from Space Episode One</td>\n",
       "      <td>Planet of the Spiders Part Six[2]</td>\n",
       "    </tr>\n",
       "    <tr>\n",
       "      <th>5</th>\n",
       "      <td>Jon Pertwee (Third Doctor)</td>\n",
       "      <td>Other Third Doctor appearances Stage: Glorious...</td>\n",
       "      <td>Other Third Doctor appearances Stage: Glorious...</td>\n",
       "      <td>Other Third Doctor appearances Stage: Glorious...</td>\n",
       "    </tr>\n",
       "    <tr>\n",
       "      <th>6</th>\n",
       "      <td>Tom Baker (Fourth Doctor)</td>\n",
       "      <td>8 June 1974 – 21 March 1981 (6 years, 9 months...</td>\n",
       "      <td>Robot Part One[7]</td>\n",
       "      <td>Logopolis Part Four[2]</td>\n",
       "    </tr>\n",
       "    <tr>\n",
       "      <th>7</th>\n",
       "      <td>Tom Baker (Fourth Doctor)</td>\n",
       "      <td>Tom Baker also appeared as the Curator in \"The...</td>\n",
       "      <td>Tom Baker also appeared as the Curator in \"The...</td>\n",
       "      <td>Tom Baker also appeared as the Curator in \"The...</td>\n",
       "    </tr>\n",
       "    <tr>\n",
       "      <th>8</th>\n",
       "      <td>Peter Davison (Fifth Doctor)</td>\n",
       "      <td>21 March 1981 – 16 March 1984 (2 years, 11 mon...</td>\n",
       "      <td>Castrovalva Part One</td>\n",
       "      <td>The Caves of Androzani Part Four[2]</td>\n",
       "    </tr>\n",
       "    <tr>\n",
       "      <th>9</th>\n",
       "      <td>Peter Davison (Fifth Doctor)</td>\n",
       "      <td>Other Fifth Doctor appearances Television: Blu...</td>\n",
       "      <td>Other Fifth Doctor appearances Television: Blu...</td>\n",
       "      <td>Other Fifth Doctor appearances Television: Blu...</td>\n",
       "    </tr>\n",
       "    <tr>\n",
       "      <th>10</th>\n",
       "      <td>Colin Baker (Sixth Doctor)</td>\n",
       "      <td>16 March 1984 – 6 December 1986 (2 years, 8 mo...</td>\n",
       "      <td>The Twin Dilemma Part One</td>\n",
       "      <td>The Ultimate Foe Part Two</td>\n",
       "    </tr>\n",
       "    <tr>\n",
       "      <th>11</th>\n",
       "      <td>Colin Baker (Sixth Doctor)</td>\n",
       "      <td>Colin Baker previously appeared on Doctor Who ...</td>\n",
       "      <td>Colin Baker previously appeared on Doctor Who ...</td>\n",
       "      <td>Colin Baker previously appeared on Doctor Who ...</td>\n",
       "    </tr>\n",
       "    <tr>\n",
       "      <th>12</th>\n",
       "      <td>Sylvester McCoy (Seventh Doctor)</td>\n",
       "      <td>7 September 1987 – 6 December 1989 (2 years, 2...</td>\n",
       "      <td>Time and the Rani Part One[2]</td>\n",
       "      <td>Survival Part Three[11]</td>\n",
       "    </tr>\n",
       "    <tr>\n",
       "      <th>13</th>\n",
       "      <td>Sylvester McCoy (Seventh Doctor)</td>\n",
       "      <td>Sylvester McCoy also briefly played the Sixth ...</td>\n",
       "      <td>Sylvester McCoy also briefly played the Sixth ...</td>\n",
       "      <td>Sylvester McCoy also briefly played the Sixth ...</td>\n",
       "    </tr>\n",
       "    <tr>\n",
       "      <th>14</th>\n",
       "      <td>Paul McGann (Eighth Doctor)</td>\n",
       "      <td>27 May 1996</td>\n",
       "      <td>Doctor Who (TV movie)[16]</td>\n",
       "      <td>Doctor Who (TV movie)[16]</td>\n",
       "    </tr>\n",
       "    <tr>\n",
       "      <th>15</th>\n",
       "      <td>Paul McGann (Eighth Doctor)</td>\n",
       "      <td>Other Eighth Doctor appearances Audio: Earth a...</td>\n",
       "      <td>Other Eighth Doctor appearances Audio: Earth a...</td>\n",
       "      <td>Other Eighth Doctor appearances Audio: Earth a...</td>\n",
       "    </tr>\n",
       "    <tr>\n",
       "      <th>16</th>\n",
       "      <td>Christopher Eccleston (Ninth Doctor)</td>\n",
       "      <td>26 March 2005 – 18 June 2005 (2 months, 3 week...</td>\n",
       "      <td>\"Rose\"[18]</td>\n",
       "      <td>\"The Parting of the Ways\"[2]</td>\n",
       "    </tr>\n",
       "    <tr>\n",
       "      <th>17</th>\n",
       "      <td>Christopher Eccleston (Ninth Doctor)</td>\n",
       "      <td>Other Ninth Doctor appearances Video: \"Dr. Who...</td>\n",
       "      <td>Other Ninth Doctor appearances Video: \"Dr. Who...</td>\n",
       "      <td>Other Ninth Doctor appearances Video: \"Dr. Who...</td>\n",
       "    </tr>\n",
       "    <tr>\n",
       "      <th>18</th>\n",
       "      <td>David Tennant (Tenth Doctor)</td>\n",
       "      <td>18 June 2005 – 1 January 2010 (4 years, 6 mont...</td>\n",
       "      <td>\"The Christmas Invasion\"</td>\n",
       "      <td>\"The End of Time\" Part Two[2]</td>\n",
       "    </tr>\n",
       "    <tr>\n",
       "      <th>19</th>\n",
       "      <td>David Tennant (Tenth Doctor)</td>\n",
       "      <td>Other Tenth Doctor appearances Television: Chi...</td>\n",
       "      <td>Other Tenth Doctor appearances Television: Chi...</td>\n",
       "      <td>Other Tenth Doctor appearances Television: Chi...</td>\n",
       "    </tr>\n",
       "    <tr>\n",
       "      <th>20</th>\n",
       "      <td>Matt Smith (Eleventh Doctor)</td>\n",
       "      <td>1 January 2010 – 25 December 2013 (3 years, 11...</td>\n",
       "      <td>\"The Eleventh Hour\"</td>\n",
       "      <td>\"The Time of the Doctor\"[2]</td>\n",
       "    </tr>\n",
       "    <tr>\n",
       "      <th>21</th>\n",
       "      <td>Matt Smith (Eleventh Doctor)</td>\n",
       "      <td>Other Eleventh Doctor appearances Video games:...</td>\n",
       "      <td>Other Eleventh Doctor appearances Video games:...</td>\n",
       "      <td>Other Eleventh Doctor appearances Video games:...</td>\n",
       "    </tr>\n",
       "    <tr>\n",
       "      <th>22</th>\n",
       "      <td>Peter Capaldi (Twelfth Doctor)</td>\n",
       "      <td>25 December 2013 – 25 December 2017 (4 years)</td>\n",
       "      <td>\"Deep Breath\"[27]</td>\n",
       "      <td>\"Twice Upon a Time\"[28]</td>\n",
       "    </tr>\n",
       "    <tr>\n",
       "      <th>23</th>\n",
       "      <td>Peter Capaldi (Twelfth Doctor)</td>\n",
       "      <td>Peter Capaldi previously appeared on Doctor Wh...</td>\n",
       "      <td>Peter Capaldi previously appeared on Doctor Wh...</td>\n",
       "      <td>Peter Capaldi previously appeared on Doctor Wh...</td>\n",
       "    </tr>\n",
       "    <tr>\n",
       "      <th>24</th>\n",
       "      <td>Jodie Whittaker (Thirteenth Doctor)</td>\n",
       "      <td>25 December 2017 – 23 October 2022 (4 years, 9...</td>\n",
       "      <td>\"The Woman Who Fell to Earth\"[31]</td>\n",
       "      <td>\"The Power of the Doctor\"</td>\n",
       "    </tr>\n",
       "    <tr>\n",
       "      <th>25</th>\n",
       "      <td>Jodie Whittaker (Thirteenth Doctor)</td>\n",
       "      <td>Other Thirteenth Doctor appearances Video game...</td>\n",
       "      <td>Other Thirteenth Doctor appearances Video game...</td>\n",
       "      <td>Other Thirteenth Doctor appearances Video game...</td>\n",
       "    </tr>\n",
       "    <tr>\n",
       "      <th>26</th>\n",
       "      <td>David Tennant (Fourteenth Doctor)</td>\n",
       "      <td>23 October 2022 – 9 December 2023 (1 year, 1 m...</td>\n",
       "      <td>\"The Star Beast\"[32]</td>\n",
       "      <td>\"The Giggle\"[33]</td>\n",
       "    </tr>\n",
       "    <tr>\n",
       "      <th>27</th>\n",
       "      <td>David Tennant (Fourteenth Doctor)</td>\n",
       "      <td>Other Fourteenth Doctor appearances Television...</td>\n",
       "      <td>Other Fourteenth Doctor appearances Television...</td>\n",
       "      <td>Other Fourteenth Doctor appearances Television...</td>\n",
       "    </tr>\n",
       "    <tr>\n",
       "      <th>28</th>\n",
       "      <td>Ncuti Gatwa (Fifteenth Doctor)</td>\n",
       "      <td>9 December 2023 – present (1 year, 3 months, 3...</td>\n",
       "      <td>\"The Church on Ruby Road\"[33]</td>\n",
       "      <td>Incumbent</td>\n",
       "    </tr>\n",
       "    <tr>\n",
       "      <th>29</th>\n",
       "      <td>Ncuti Gatwa (Fifteenth Doctor)</td>\n",
       "      <td>Other Fifteenth Doctor appearances Television:...</td>\n",
       "      <td>Other Fifteenth Doctor appearances Television:...</td>\n",
       "      <td>Other Fifteenth Doctor appearances Television:...</td>\n",
       "    </tr>\n",
       "  </tbody>\n",
       "</table>\n",
       "</div>"
      ],
      "text/plain": [
       "                            Actor (role)  \\\n",
       "0        William Hartnell (First Doctor)   \n",
       "1        William Hartnell (First Doctor)   \n",
       "2      Patrick Troughton (Second Doctor)   \n",
       "3      Patrick Troughton (Second Doctor)   \n",
       "4             Jon Pertwee (Third Doctor)   \n",
       "5             Jon Pertwee (Third Doctor)   \n",
       "6              Tom Baker (Fourth Doctor)   \n",
       "7              Tom Baker (Fourth Doctor)   \n",
       "8           Peter Davison (Fifth Doctor)   \n",
       "9           Peter Davison (Fifth Doctor)   \n",
       "10            Colin Baker (Sixth Doctor)   \n",
       "11            Colin Baker (Sixth Doctor)   \n",
       "12      Sylvester McCoy (Seventh Doctor)   \n",
       "13      Sylvester McCoy (Seventh Doctor)   \n",
       "14           Paul McGann (Eighth Doctor)   \n",
       "15           Paul McGann (Eighth Doctor)   \n",
       "16  Christopher Eccleston (Ninth Doctor)   \n",
       "17  Christopher Eccleston (Ninth Doctor)   \n",
       "18          David Tennant (Tenth Doctor)   \n",
       "19          David Tennant (Tenth Doctor)   \n",
       "20          Matt Smith (Eleventh Doctor)   \n",
       "21          Matt Smith (Eleventh Doctor)   \n",
       "22        Peter Capaldi (Twelfth Doctor)   \n",
       "23        Peter Capaldi (Twelfth Doctor)   \n",
       "24   Jodie Whittaker (Thirteenth Doctor)   \n",
       "25   Jodie Whittaker (Thirteenth Doctor)   \n",
       "26     David Tennant (Fourteenth Doctor)   \n",
       "27     David Tennant (Fourteenth Doctor)   \n",
       "28        Ncuti Gatwa (Fifteenth Doctor)   \n",
       "29        Ncuti Gatwa (Fifteenth Doctor)   \n",
       "\n",
       "                                               Tenure  \\\n",
       "0   23 November 1963 – 29 October 1966 (2 years, 1...   \n",
       "1   Other First Doctor appearances William Hartnel...   \n",
       "2   29 October 1966 – 21 June 1969 (2 years, 7 mon...   \n",
       "3   Other Second Doctor appearances Television: Th...   \n",
       "4   3 January 1970 – 8 June 1974 (4 years, 5 month...   \n",
       "5   Other Third Doctor appearances Stage: Glorious...   \n",
       "6   8 June 1974 – 21 March 1981 (6 years, 9 months...   \n",
       "7   Tom Baker also appeared as the Curator in \"The...   \n",
       "8   21 March 1981 – 16 March 1984 (2 years, 11 mon...   \n",
       "9   Other Fifth Doctor appearances Television: Blu...   \n",
       "10  16 March 1984 – 6 December 1986 (2 years, 8 mo...   \n",
       "11  Colin Baker previously appeared on Doctor Who ...   \n",
       "12  7 September 1987 – 6 December 1989 (2 years, 2...   \n",
       "13  Sylvester McCoy also briefly played the Sixth ...   \n",
       "14                                        27 May 1996   \n",
       "15  Other Eighth Doctor appearances Audio: Earth a...   \n",
       "16  26 March 2005 – 18 June 2005 (2 months, 3 week...   \n",
       "17  Other Ninth Doctor appearances Video: \"Dr. Who...   \n",
       "18  18 June 2005 – 1 January 2010 (4 years, 6 mont...   \n",
       "19  Other Tenth Doctor appearances Television: Chi...   \n",
       "20  1 January 2010 – 25 December 2013 (3 years, 11...   \n",
       "21  Other Eleventh Doctor appearances Video games:...   \n",
       "22      25 December 2013 – 25 December 2017 (4 years)   \n",
       "23  Peter Capaldi previously appeared on Doctor Wh...   \n",
       "24  25 December 2017 – 23 October 2022 (4 years, 9...   \n",
       "25  Other Thirteenth Doctor appearances Video game...   \n",
       "26  23 October 2022 – 9 December 2023 (1 year, 1 m...   \n",
       "27  Other Fourteenth Doctor appearances Television...   \n",
       "28  9 December 2023 – present (1 year, 3 months, 3...   \n",
       "29  Other Fifteenth Doctor appearances Television:...   \n",
       "\n",
       "                             First regular appearance  \\\n",
       "0          An Unearthly Child \"An Unearthly Child\"[1]   \n",
       "1   Other First Doctor appearances William Hartnel...   \n",
       "2              The Power of the Daleks Episode One[5]   \n",
       "3   Other Second Doctor appearances Television: Th...   \n",
       "4                    Spearhead from Space Episode One   \n",
       "5   Other Third Doctor appearances Stage: Glorious...   \n",
       "6                                   Robot Part One[7]   \n",
       "7   Tom Baker also appeared as the Curator in \"The...   \n",
       "8                                Castrovalva Part One   \n",
       "9   Other Fifth Doctor appearances Television: Blu...   \n",
       "10                          The Twin Dilemma Part One   \n",
       "11  Colin Baker previously appeared on Doctor Who ...   \n",
       "12                      Time and the Rani Part One[2]   \n",
       "13  Sylvester McCoy also briefly played the Sixth ...   \n",
       "14                          Doctor Who (TV movie)[16]   \n",
       "15  Other Eighth Doctor appearances Audio: Earth a...   \n",
       "16                                         \"Rose\"[18]   \n",
       "17  Other Ninth Doctor appearances Video: \"Dr. Who...   \n",
       "18                           \"The Christmas Invasion\"   \n",
       "19  Other Tenth Doctor appearances Television: Chi...   \n",
       "20                                \"The Eleventh Hour\"   \n",
       "21  Other Eleventh Doctor appearances Video games:...   \n",
       "22                                  \"Deep Breath\"[27]   \n",
       "23  Peter Capaldi previously appeared on Doctor Wh...   \n",
       "24                  \"The Woman Who Fell to Earth\"[31]   \n",
       "25  Other Thirteenth Doctor appearances Video game...   \n",
       "26                               \"The Star Beast\"[32]   \n",
       "27  Other Fourteenth Doctor appearances Television...   \n",
       "28                      \"The Church on Ruby Road\"[33]   \n",
       "29  Other Fifteenth Doctor appearances Television:...   \n",
       "\n",
       "                              Last regular appearance  \n",
       "0                       The Tenth Planet Episode 4[2]  \n",
       "1   Other First Doctor appearances William Hartnel...  \n",
       "2                        The War Games Episode Ten[2]  \n",
       "3   Other Second Doctor appearances Television: Th...  \n",
       "4                   Planet of the Spiders Part Six[2]  \n",
       "5   Other Third Doctor appearances Stage: Glorious...  \n",
       "6                              Logopolis Part Four[2]  \n",
       "7   Tom Baker also appeared as the Curator in \"The...  \n",
       "8                 The Caves of Androzani Part Four[2]  \n",
       "9   Other Fifth Doctor appearances Television: Blu...  \n",
       "10                          The Ultimate Foe Part Two  \n",
       "11  Colin Baker previously appeared on Doctor Who ...  \n",
       "12                            Survival Part Three[11]  \n",
       "13  Sylvester McCoy also briefly played the Sixth ...  \n",
       "14                          Doctor Who (TV movie)[16]  \n",
       "15  Other Eighth Doctor appearances Audio: Earth a...  \n",
       "16                       \"The Parting of the Ways\"[2]  \n",
       "17  Other Ninth Doctor appearances Video: \"Dr. Who...  \n",
       "18                      \"The End of Time\" Part Two[2]  \n",
       "19  Other Tenth Doctor appearances Television: Chi...  \n",
       "20                        \"The Time of the Doctor\"[2]  \n",
       "21  Other Eleventh Doctor appearances Video games:...  \n",
       "22                            \"Twice Upon a Time\"[28]  \n",
       "23  Peter Capaldi previously appeared on Doctor Wh...  \n",
       "24                          \"The Power of the Doctor\"  \n",
       "25  Other Thirteenth Doctor appearances Video game...  \n",
       "26                                   \"The Giggle\"[33]  \n",
       "27  Other Fourteenth Doctor appearances Television...  \n",
       "28                                          Incumbent  \n",
       "29  Other Fifteenth Doctor appearances Television:...  "
      ]
     },
     "execution_count": 4,
     "metadata": {},
     "output_type": "execute_result"
    }
   ],
   "source": [
    "wiki_data[0]"
   ]
  },
  {
   "attachments": {},
   "cell_type": "markdown",
   "id": "a9c36b8e-7fb2-433b-aff1-b280c30932fb",
   "metadata": {
    "execution": {
     "iopub.execute_input": "2025-03-08T01:14:14.914837Z",
     "iopub.status.busy": "2025-03-08T01:14:14.913834Z",
     "iopub.status.idle": "2025-03-08T01:14:14.928673Z",
     "shell.execute_reply": "2025-03-08T01:14:14.925659Z",
     "shell.execute_reply.started": "2025-03-08T01:14:14.914837Z"
    }
   },
   "source": [
    "We want to create a visualization of how long each actor portrayed The Doctor. The chronological data in this dataset is all in the \"Tenure\" column. However, both the start and end dates are in the same field among other text and punctuation.\n",
    "\n",
    "Fortunately for our purposes, all the Doctors' dates are listed in a predictable pattern: a one-or-two-digit number, the full name of the month, then the four-digit year. We can use the Python regular expressions module `re` to extract their starting and ending years."
   ]
  },
  {
   "cell_type": "markdown",
   "id": "b71b680c-ea3e-434d-b23f-e2e81e0991a8",
   "metadata": {},
   "source": [
    "### Regular Expressions"
   ]
  },
  {
   "cell_type": "markdown",
   "id": "ae04bcdc-9126-40ff-93d0-8087c5919e4a",
   "metadata": {},
   "source": [
    "What are regular expressions?\n",
    "\n",
    "[Regular expressions](https://en.wikipedia.org/wiki/Regular_expression) (or regex for short) are sequences of characters that can be used to find segments of text that match specified characteristics. They are used in search engines and in-page/in-document searches.\n",
    "\n",
    "Regex is not a programming language unto itself, but rather a syntax for pattern-recognition. This syntax is the same across implementations in different programming languages and software systems.\n",
    "\n",
    "There are many free resources for learning regex patterns; you will not need to memorize them in order to use them, but you will need to understand how they are assembled.\n",
    "\n",
    "Both regexr and regex101 offer live platforms to test out patterns on sample text; this can be a very effective means of developing new regex patterns. \n",
    "\n",
    "[regexr](https://regexr.com/)\n",
    "\n",
    "[regex101](https://regex101.com/)\n",
    "\n",
    "If you *really* want to test your understanding of regex syntax, you can do so with regex crossword puzzles:\n",
    "\n",
    "[Regex Crossword](https://regexcrossword.com/)"
   ]
  },
  {
   "cell_type": "code",
   "execution_count": 5,
   "id": "eb77a26e-270d-4a68-afca-9d213e389831",
   "metadata": {
    "execution": {
     "iopub.execute_input": "2025-03-31T22:07:28.950131Z",
     "iopub.status.busy": "2025-03-31T22:07:28.950131Z",
     "iopub.status.idle": "2025-03-31T22:07:28.956330Z",
     "shell.execute_reply": "2025-03-31T22:07:28.954583Z",
     "shell.execute_reply.started": "2025-03-31T22:07:28.950131Z"
    }
   },
   "outputs": [],
   "source": [
    "#Select every other row of the original DataFrame by using a stride of 2\n",
    "doctors = list(wiki_data[0]['Actor (role)'][::2])"
   ]
  },
  {
   "cell_type": "code",
   "execution_count": 6,
   "id": "90c3d948-4630-4077-893b-9d9ddff52267",
   "metadata": {
    "execution": {
     "iopub.execute_input": "2025-03-31T22:07:28.957640Z",
     "iopub.status.busy": "2025-03-31T22:07:28.956330Z",
     "iopub.status.idle": "2025-03-31T22:07:28.965506Z",
     "shell.execute_reply": "2025-03-31T22:07:28.965506Z",
     "shell.execute_reply.started": "2025-03-31T22:07:28.957640Z"
    }
   },
   "outputs": [
    {
     "data": {
      "text/plain": [
       "['William Hartnell (First Doctor)',\n",
       " 'Patrick Troughton (Second Doctor)',\n",
       " 'Jon Pertwee (Third Doctor)',\n",
       " 'Tom Baker (Fourth Doctor)',\n",
       " 'Peter Davison (Fifth Doctor)',\n",
       " 'Colin Baker (Sixth Doctor)',\n",
       " 'Sylvester McCoy (Seventh Doctor)',\n",
       " 'Paul McGann (Eighth Doctor)',\n",
       " 'Christopher Eccleston (Ninth Doctor)',\n",
       " 'David Tennant (Tenth Doctor)',\n",
       " 'Matt Smith (Eleventh Doctor)',\n",
       " 'Peter Capaldi (Twelfth Doctor)',\n",
       " 'Jodie Whittaker (Thirteenth Doctor)',\n",
       " 'David Tennant (Fourteenth Doctor)',\n",
       " 'Ncuti Gatwa (Fifteenth Doctor)']"
      ]
     },
     "execution_count": 6,
     "metadata": {},
     "output_type": "execute_result"
    }
   ],
   "source": [
    "doctors"
   ]
  },
  {
   "cell_type": "code",
   "execution_count": 7,
   "id": "2924d2e2-d165-4022-a555-1f8087f031a2",
   "metadata": {
    "execution": {
     "iopub.execute_input": "2025-03-31T22:07:28.965506Z",
     "iopub.status.busy": "2025-03-31T22:07:28.965506Z",
     "iopub.status.idle": "2025-03-31T22:07:28.972943Z",
     "shell.execute_reply": "2025-03-31T22:07:28.971935Z",
     "shell.execute_reply.started": "2025-03-31T22:07:28.965506Z"
    }
   },
   "outputs": [
    {
     "data": {
      "text/plain": [
       "['First Doctor',\n",
       " 'Second Doctor',\n",
       " 'Third Doctor',\n",
       " 'Fourth Doctor',\n",
       " 'Fifth Doctor',\n",
       " 'Sixth Doctor',\n",
       " 'Seventh Doctor',\n",
       " 'Eighth Doctor',\n",
       " 'Ninth Doctor',\n",
       " 'Tenth Doctor',\n",
       " 'Eleventh Doctor',\n",
       " 'Twelfth Doctor',\n",
       " 'Thirteenth Doctor',\n",
       " 'Fourteenth Doctor',\n",
       " 'Fifteenth Doctor']"
      ]
     },
     "execution_count": 7,
     "metadata": {},
     "output_type": "execute_result"
    }
   ],
   "source": [
    "#Use a lst comprehension, splitting on the space and removing parentheses:\n",
    "doctor_numbers = [doctor.split(' (')[1].replace(')','') for doctor in doctors]\n",
    "doctor_numbers"
   ]
  },
  {
   "cell_type": "code",
   "execution_count": 8,
   "id": "21d429d8-b1be-4a8d-9552-38644555312d",
   "metadata": {
    "execution": {
     "iopub.execute_input": "2025-03-31T22:07:28.974957Z",
     "iopub.status.busy": "2025-03-31T22:07:28.972943Z",
     "iopub.status.idle": "2025-03-31T22:07:28.983829Z",
     "shell.execute_reply": "2025-03-31T22:07:28.983829Z",
     "shell.execute_reply.started": "2025-03-31T22:07:28.974957Z"
    }
   },
   "outputs": [
    {
     "data": {
      "text/plain": [
       "['William Hartnell',\n",
       " 'Patrick Troughton',\n",
       " 'Jon Pertwee',\n",
       " 'Tom Baker',\n",
       " 'Peter Davison',\n",
       " 'Colin Baker',\n",
       " 'Sylvester McCoy',\n",
       " 'Paul McGann',\n",
       " 'Christopher Eccleston',\n",
       " 'David Tennant',\n",
       " 'Matt Smith',\n",
       " 'Peter Capaldi',\n",
       " 'Jodie Whittaker',\n",
       " 'David Tennant',\n",
       " 'Ncuti Gatwa']"
      ]
     },
     "execution_count": 8,
     "metadata": {},
     "output_type": "execute_result"
    }
   ],
   "source": [
    "doctors = [doctor.split(' (')[0] for doctor in doctors]\n",
    "doctors"
   ]
  },
  {
   "cell_type": "code",
   "execution_count": 9,
   "id": "40b3828d-6a79-4994-9b6f-de0a8cfba7dd",
   "metadata": {
    "execution": {
     "iopub.execute_input": "2025-03-31T22:07:28.987842Z",
     "iopub.status.busy": "2025-03-31T22:07:28.985852Z",
     "iopub.status.idle": "2025-03-31T22:07:28.991456Z",
     "shell.execute_reply": "2025-03-31T22:07:28.990874Z",
     "shell.execute_reply.started": "2025-03-31T22:07:28.987842Z"
    }
   },
   "outputs": [],
   "source": [
    "#Original DataFrame has date information in every other row\n",
    "#Select every other row of the original DataFrame:\n",
    "tenure = list(wiki_data[0]['Tenure'][::2])"
   ]
  },
  {
   "cell_type": "markdown",
   "id": "86d385c2-bae5-4c7b-ac74-a2e37e669753",
   "metadata": {},
   "source": [
    "# The `re` Module"
   ]
  },
  {
   "cell_type": "markdown",
   "id": "36185149-5642-4bea-88f9-8a98c3bc9632",
   "metadata": {},
   "source": [
    "Regular expressions in Python are handled using the `re` module (part of the Python Standard Library), which contains several methods for matching strings. `re.findall()` returns all non-overlapping instances of a pattern in a given string, scanned left-to-right. "
   ]
  },
  {
   "cell_type": "code",
   "execution_count": 10,
   "id": "3d656363-f50d-4e72-a29e-910b01f3de2d",
   "metadata": {
    "execution": {
     "iopub.execute_input": "2025-03-31T22:07:28.995226Z",
     "iopub.status.busy": "2025-03-31T22:07:28.993207Z",
     "iopub.status.idle": "2025-03-31T22:07:29.001415Z",
     "shell.execute_reply": "2025-03-31T22:07:29.000400Z",
     "shell.execute_reply.started": "2025-03-31T22:07:28.995226Z"
    }
   },
   "outputs": [],
   "source": [
    "# Create empty lists to store actors' start and end dates as Doctor\n",
    "\n",
    "start_years = []\n",
    "end_years = []\n",
    "\n",
    "# Iterate through table, pulling first and optionally second years from each Tenure cell:\n",
    "for entry in tenure:\n",
    "    years = re.findall(r'\\d\\d\\d\\d', entry)\n",
    "    present = re.findall(r'present', entry)\n",
    "    start_years.append(years[0])\n",
    "    \n",
    "    if len(years) < 2:\n",
    "        # If the Doctor is the current Doctor, append current year:\n",
    "        if present:\n",
    "            end_years.append(datetime.date.today().year)\n",
    "        # If there is no second year but the Doctor is not\n",
    "        # the current Doctor, append first year to both lists\n",
    "        else:\n",
    "            end_years.append(years[0])\n",
    "    else:\n",
    "        end_years.append(years[1])"
   ]
  },
  {
   "cell_type": "markdown",
   "id": "d4984f64-db21-445f-9b0e-35c54fe05388",
   "metadata": {},
   "source": [
    "But can we get it to be even more granular? What if we wanted the full date, not just the year?\n",
    "\n",
    "How can we construct a regular expression that captures both \"1 January 2010\" and \"25 December 2013\" but which excludes \"3 years, 11 months\"?"
   ]
  },
  {
   "cell_type": "markdown",
   "id": "079936f9-e059-40a2-b15c-eef9bfd5b8d8",
   "metadata": {},
   "source": [
    "## CODING EXERCISE \n",
    "\n",
    "Try it yourself on Regexr or regex101! Both of these sites have a \"cheat sheet\"/\"quick reference\" section that shows you components of regex patterns.\n",
    "\n",
    "\n",
    "\n"
   ]
  },
  {
   "cell_type": "code",
   "execution_count": 11,
   "id": "f49fb2f2-b771-4198-84d6-fa27df760ff5",
   "metadata": {
    "execution": {
     "iopub.execute_input": "2025-03-31T22:07:29.003431Z",
     "iopub.status.busy": "2025-03-31T22:07:29.003431Z",
     "iopub.status.idle": "2025-03-31T22:07:29.018805Z",
     "shell.execute_reply": "2025-03-31T22:07:29.017047Z",
     "shell.execute_reply.started": "2025-03-31T22:07:29.003431Z"
    }
   },
   "outputs": [
    {
     "name": "stdout",
     "output_type": "stream",
     "text": [
      "1 January 2010 – 25 December 2013 (3 years, 11 months, 3 weeks and 3 days)\n"
     ]
    }
   ],
   "source": [
    "print(wiki_data[0].iloc[20]['Tenure'])"
   ]
  },
  {
   "cell_type": "code",
   "execution_count": 12,
   "id": "ce293070-6810-4b78-989c-174c94dc4997",
   "metadata": {
    "execution": {
     "iopub.execute_input": "2025-03-31T22:07:29.028848Z",
     "iopub.status.busy": "2025-03-31T22:07:29.026828Z",
     "iopub.status.idle": "2025-03-31T22:07:29.034650Z",
     "shell.execute_reply": "2025-03-31T22:07:29.034650Z",
     "shell.execute_reply.started": "2025-03-31T22:07:29.028848Z"
    }
   },
   "outputs": [
    {
     "data": {
      "text/plain": [
       "'1 January 2010 – 25 December 2013 (3 years, 11 months, 3 weeks and 3 days)'"
      ]
     },
     "execution_count": 12,
     "metadata": {},
     "output_type": "execute_result"
    }
   ],
   "source": [
    "wiki_data[0].iloc[20]['Tenure'].replace(u'\\xa0',' ')"
   ]
  },
  {
   "cell_type": "markdown",
   "id": "67dfa637-266e-4cb8-bdcf-983b3eda123a",
   "metadata": {},
   "source": [
    "`\\xa0` is a unicode character that indicates a [non-breaking space (NBSP)](https://en.wikipedia.org/wiki/Non-breaking_space). This is a special character that prevents a line break between two words, so \"11 months\" won't end up as \"11 \n",
    "\n",
    "months\". We're going to replace all instances of this character, to demonstrate that the regex pattern will work regardless of its presence."
   ]
  },
  {
   "cell_type": "markdown",
   "id": "4576c27c-d869-4625-bcf5-9ef8dc85f099",
   "metadata": {},
   "source": [
    "Once you have found a pattern that matches dates in the given format, try pasting it into the `rstring` in the cell below:"
   ]
  },
  {
   "cell_type": "code",
   "execution_count": 56,
   "id": "284a92cb-eb41-464c-aa30-8b928dc724ff",
   "metadata": {
    "execution": {
     "iopub.execute_input": "2025-03-31T22:46:55.667029Z",
     "iopub.status.busy": "2025-03-31T22:46:55.667029Z",
     "iopub.status.idle": "2025-03-31T22:46:55.685969Z",
     "shell.execute_reply": "2025-03-31T22:46:55.684024Z",
     "shell.execute_reply.started": "2025-03-31T22:46:55.667029Z"
    },
    "scrolled": true
   },
   "outputs": [
    {
     "data": {
      "text/plain": [
       "[]"
      ]
     },
     "execution_count": 56,
     "metadata": {},
     "output_type": "execute_result"
    }
   ],
   "source": [
    "################################################################################\n",
    "################################################################################\n",
    "\n",
    "entry = wiki_data[0].iloc[20]['Tenure'].replace(u'\\xa0',' ')\n",
    "\n",
    "search_string = r'____'\n",
    "\n",
    "result = re.findall(search_string, entry)\n",
    "\n",
    "result\n",
    "\n",
    "################################################################################\n",
    "################################################################################"
   ]
  },
  {
   "cell_type": "markdown",
   "id": "e3722a01-edbc-4c2a-85aa-3b6fe1ac4df9",
   "metadata": {
    "jp-MarkdownHeadingCollapsed": true
   },
   "source": [
    "### Solution"
   ]
  },
  {
   "cell_type": "markdown",
   "id": "50d96dd2-a933-476e-8c16-0cc9c0a915a8",
   "metadata": {},
   "source": [
    "There are several ways to get the correct matches using regex, but this is one that works reliably in this particular case:\n",
    "\n",
    "We start with `\\d+` which means \"at least one digit\", then we add a `\\s+` (at least one whitespace character).\n",
    "\n",
    "There are several options for what we could add next to capture this pattern, but we're going to go with `\\D+` here, which means \"at least one character that *isn't* numeric.\"\n",
    "\n",
    "Then we'll round it out with another \"some amount of whitespace\", and finally `\\d{4}` (exactly four numeric digits).\n",
    "\n",
    "This will only match patterns that meet all the criteria above. Since there are no durations with four digits worth of months, it won't accidentally match \"3 years, 11 months\"."
   ]
  },
  {
   "cell_type": "code",
   "execution_count": 55,
   "id": "e5d4f263-ce39-4a05-90a9-c8d307f1e603",
   "metadata": {
    "execution": {
     "iopub.execute_input": "2025-03-31T22:46:03.117200Z",
     "iopub.status.busy": "2025-03-31T22:46:03.117200Z",
     "iopub.status.idle": "2025-03-31T22:46:03.291582Z",
     "shell.execute_reply": "2025-03-31T22:46:03.290780Z",
     "shell.execute_reply.started": "2025-03-31T22:46:03.117200Z"
    },
    "scrolled": true
   },
   "outputs": [
    {
     "data": {
      "text/plain": [
       "['1 January 2010', '25 December 2013']"
      ]
     },
     "execution_count": 55,
     "metadata": {},
     "output_type": "execute_result"
    }
   ],
   "source": [
    "################################################################################\n",
    "################################################################################\n",
    "\n",
    "entry = wiki_data[0].iloc[20]['Tenure'].replace(u'\\xa0',' ')\n",
    "\n",
    "search_string = r'\\d+\\s+\\D+\\s+\\d{4}'\n",
    "\n",
    "result = re.findall(search_string, entry)\n",
    "\n",
    "result\n",
    "\n",
    "################################################################################\n",
    "################################################################################"
   ]
  },
  {
   "cell_type": "markdown",
   "id": "ed814f95-6dfd-49b8-89d3-cd6272f91134",
   "metadata": {},
   "source": [
    "## Extracting the Dates"
   ]
  },
  {
   "cell_type": "code",
   "execution_count": 14,
   "id": "eed27c78-c236-4e05-b5d5-e28f2bf7d87e",
   "metadata": {
    "execution": {
     "iopub.execute_input": "2025-03-31T22:07:29.055189Z",
     "iopub.status.busy": "2025-03-31T22:07:29.053188Z",
     "iopub.status.idle": "2025-03-31T22:07:29.068818Z",
     "shell.execute_reply": "2025-03-31T22:07:29.068818Z",
     "shell.execute_reply.started": "2025-03-31T22:07:29.055189Z"
    }
   },
   "outputs": [
    {
     "name": "stdout",
     "output_type": "stream",
     "text": [
      "['23 November 1963', '29 October 1966']\n",
      "['29 October 1966', '21 June 1969']\n",
      "['3 January 1970', '8 June 1974']\n",
      "['8 June 1974', '21 March 1981']\n",
      "['21 March 1981', '16 March 1984']\n",
      "['16 March 1984', '6 December 1986']\n",
      "['7 September 1987', '6 December 1989']\n",
      "['27 May 1996']\n",
      "['26 March 2005', '18 June 2005']\n",
      "['18 June 2005', '1 January 2010']\n",
      "['1 January 2010', '25 December 2013']\n",
      "['25 December 2013', '25 December 2017']\n",
      "['25 December 2017', '23 October 2022']\n",
      "['23 October 2022', '9 December 2023']\n",
      "['9 December 2023']\n"
     ]
    }
   ],
   "source": [
    "# Create empty lists to store actors' start and end dates as Doctor\n",
    "\n",
    "start_dates = []\n",
    "end_dates = []\n",
    "\n",
    "# Iterate through table, pulling first and optionally second years from each Tenure cell:\n",
    "for entry in tenure:\n",
    "\n",
    "    #Replace all non-breaking spaces with regular spaces\n",
    "    entry = entry.replace(u'\\xa0',' ')\n",
    "\n",
    "    #Look for instances of predetermined regex pattern\n",
    "    years = re.findall(search_string, entry)\n",
    "    \n",
    "    print(years)\n",
    "    present = re.findall(r'present', entry)\n",
    "    start_dates.append(years[0])\n",
    "\n",
    "    #If only one date listed:\n",
    "    #For \"present\" use today's date\n",
    "    #For a single date not \"present\", use for both start and end date:\n",
    "    \n",
    "    if len(years) < 2:\n",
    "        # If the Doctor is the current Doctor, append current year:\n",
    "        if present:\n",
    "            end_dates.append(datetime.date.today().strftime('%d %B %Y'))\n",
    "        # If there is no second year but the Doctor is not\n",
    "        # the current Doctor, append first year to both lists\n",
    "        else:\n",
    "            end_dates.append(years[0])\n",
    "    else:\n",
    "        end_dates.append(years[1])"
   ]
  },
  {
   "cell_type": "markdown",
   "id": "a9798ee7-853f-4f95-bd15-49096eac3ae7",
   "metadata": {},
   "source": [
    "https://strftime.org/"
   ]
  },
  {
   "cell_type": "code",
   "execution_count": 15,
   "id": "d471add7-a948-4659-990b-7d2affc3afee",
   "metadata": {
    "execution": {
     "iopub.execute_input": "2025-03-31T22:07:29.070857Z",
     "iopub.status.busy": "2025-03-31T22:07:29.070857Z",
     "iopub.status.idle": "2025-03-31T22:07:29.087307Z",
     "shell.execute_reply": "2025-03-31T22:07:29.087307Z",
     "shell.execute_reply.started": "2025-03-31T22:07:29.070857Z"
    }
   },
   "outputs": [
    {
     "data": {
      "text/html": [
       "<div>\n",
       "<style scoped>\n",
       "    .dataframe tbody tr th:only-of-type {\n",
       "        vertical-align: middle;\n",
       "    }\n",
       "\n",
       "    .dataframe tbody tr th {\n",
       "        vertical-align: top;\n",
       "    }\n",
       "\n",
       "    .dataframe thead th {\n",
       "        text-align: right;\n",
       "    }\n",
       "</style>\n",
       "<table border=\"1\" class=\"dataframe\">\n",
       "  <thead>\n",
       "    <tr style=\"text-align: right;\">\n",
       "      <th></th>\n",
       "      <th>Doctor</th>\n",
       "      <th>Doctor Number</th>\n",
       "      <th>Start Date</th>\n",
       "      <th>End Date</th>\n",
       "    </tr>\n",
       "  </thead>\n",
       "  <tbody>\n",
       "    <tr>\n",
       "      <th>0</th>\n",
       "      <td>William Hartnell</td>\n",
       "      <td>First Doctor</td>\n",
       "      <td>23 November 1963</td>\n",
       "      <td>29 October 1966</td>\n",
       "    </tr>\n",
       "    <tr>\n",
       "      <th>1</th>\n",
       "      <td>Patrick Troughton</td>\n",
       "      <td>Second Doctor</td>\n",
       "      <td>29 October 1966</td>\n",
       "      <td>21 June 1969</td>\n",
       "    </tr>\n",
       "    <tr>\n",
       "      <th>2</th>\n",
       "      <td>Jon Pertwee</td>\n",
       "      <td>Third Doctor</td>\n",
       "      <td>3 January 1970</td>\n",
       "      <td>8 June 1974</td>\n",
       "    </tr>\n",
       "    <tr>\n",
       "      <th>3</th>\n",
       "      <td>Tom Baker</td>\n",
       "      <td>Fourth Doctor</td>\n",
       "      <td>8 June 1974</td>\n",
       "      <td>21 March 1981</td>\n",
       "    </tr>\n",
       "    <tr>\n",
       "      <th>4</th>\n",
       "      <td>Peter Davison</td>\n",
       "      <td>Fifth Doctor</td>\n",
       "      <td>21 March 1981</td>\n",
       "      <td>16 March 1984</td>\n",
       "    </tr>\n",
       "    <tr>\n",
       "      <th>5</th>\n",
       "      <td>Colin Baker</td>\n",
       "      <td>Sixth Doctor</td>\n",
       "      <td>16 March 1984</td>\n",
       "      <td>6 December 1986</td>\n",
       "    </tr>\n",
       "    <tr>\n",
       "      <th>6</th>\n",
       "      <td>Sylvester McCoy</td>\n",
       "      <td>Seventh Doctor</td>\n",
       "      <td>7 September 1987</td>\n",
       "      <td>6 December 1989</td>\n",
       "    </tr>\n",
       "    <tr>\n",
       "      <th>7</th>\n",
       "      <td>Paul McGann</td>\n",
       "      <td>Eighth Doctor</td>\n",
       "      <td>27 May 1996</td>\n",
       "      <td>27 May 1996</td>\n",
       "    </tr>\n",
       "    <tr>\n",
       "      <th>8</th>\n",
       "      <td>Christopher Eccleston</td>\n",
       "      <td>Ninth Doctor</td>\n",
       "      <td>26 March 2005</td>\n",
       "      <td>18 June 2005</td>\n",
       "    </tr>\n",
       "    <tr>\n",
       "      <th>9</th>\n",
       "      <td>David Tennant</td>\n",
       "      <td>Tenth Doctor</td>\n",
       "      <td>18 June 2005</td>\n",
       "      <td>1 January 2010</td>\n",
       "    </tr>\n",
       "    <tr>\n",
       "      <th>10</th>\n",
       "      <td>Matt Smith</td>\n",
       "      <td>Eleventh Doctor</td>\n",
       "      <td>1 January 2010</td>\n",
       "      <td>25 December 2013</td>\n",
       "    </tr>\n",
       "    <tr>\n",
       "      <th>11</th>\n",
       "      <td>Peter Capaldi</td>\n",
       "      <td>Twelfth Doctor</td>\n",
       "      <td>25 December 2013</td>\n",
       "      <td>25 December 2017</td>\n",
       "    </tr>\n",
       "    <tr>\n",
       "      <th>12</th>\n",
       "      <td>Jodie Whittaker</td>\n",
       "      <td>Thirteenth Doctor</td>\n",
       "      <td>25 December 2017</td>\n",
       "      <td>23 October 2022</td>\n",
       "    </tr>\n",
       "    <tr>\n",
       "      <th>13</th>\n",
       "      <td>David Tennant</td>\n",
       "      <td>Fourteenth Doctor</td>\n",
       "      <td>23 October 2022</td>\n",
       "      <td>9 December 2023</td>\n",
       "    </tr>\n",
       "    <tr>\n",
       "      <th>14</th>\n",
       "      <td>Ncuti Gatwa</td>\n",
       "      <td>Fifteenth Doctor</td>\n",
       "      <td>9 December 2023</td>\n",
       "      <td>31 March 2025</td>\n",
       "    </tr>\n",
       "  </tbody>\n",
       "</table>\n",
       "</div>"
      ],
      "text/plain": [
       "                   Doctor      Doctor Number        Start Date  \\\n",
       "0        William Hartnell       First Doctor  23 November 1963   \n",
       "1       Patrick Troughton      Second Doctor   29 October 1966   \n",
       "2             Jon Pertwee       Third Doctor    3 January 1970   \n",
       "3               Tom Baker      Fourth Doctor       8 June 1974   \n",
       "4           Peter Davison       Fifth Doctor     21 March 1981   \n",
       "5             Colin Baker       Sixth Doctor     16 March 1984   \n",
       "6         Sylvester McCoy     Seventh Doctor  7 September 1987   \n",
       "7             Paul McGann      Eighth Doctor       27 May 1996   \n",
       "8   Christopher Eccleston       Ninth Doctor     26 March 2005   \n",
       "9           David Tennant       Tenth Doctor      18 June 2005   \n",
       "10             Matt Smith    Eleventh Doctor    1 January 2010   \n",
       "11          Peter Capaldi     Twelfth Doctor  25 December 2013   \n",
       "12        Jodie Whittaker  Thirteenth Doctor  25 December 2017   \n",
       "13          David Tennant  Fourteenth Doctor   23 October 2022   \n",
       "14            Ncuti Gatwa   Fifteenth Doctor   9 December 2023   \n",
       "\n",
       "            End Date  \n",
       "0    29 October 1966  \n",
       "1       21 June 1969  \n",
       "2        8 June 1974  \n",
       "3      21 March 1981  \n",
       "4      16 March 1984  \n",
       "5    6 December 1986  \n",
       "6    6 December 1989  \n",
       "7        27 May 1996  \n",
       "8       18 June 2005  \n",
       "9     1 January 2010  \n",
       "10  25 December 2013  \n",
       "11  25 December 2017  \n",
       "12   23 October 2022  \n",
       "13   9 December 2023  \n",
       "14     31 March 2025  "
      ]
     },
     "execution_count": 15,
     "metadata": {},
     "output_type": "execute_result"
    }
   ],
   "source": [
    "#Create empty DataFRame\n",
    "doctor_tenures = pd.DataFrame()\n",
    "\n",
    "#Create columns for Doctor, Doctor Number, Start and End dates\n",
    "doctor_tenures['Doctor'] = doctors\n",
    "doctor_tenures['Doctor Number'] = doctor_numbers\n",
    "doctor_tenures['Start Date'] = start_dates\n",
    "doctor_tenures['End Date'] = end_dates\n",
    "\n",
    "doctor_tenures"
   ]
  },
  {
   "cell_type": "markdown",
   "id": "2f8ab37d-9c09-4236-918a-e6f9a9e897d7",
   "metadata": {},
   "source": [
    "## QUESTION - Best Practices for Date Formatting"
   ]
  },
  {
   "cell_type": "markdown",
   "id": "4da74e25-575d-4256-87e2-c1235d40e5b8",
   "metadata": {},
   "source": [
    "What do you suppose the most useful date format is from a programming perspective?"
   ]
  },
  {
   "cell_type": "markdown",
   "id": "2d28fa3d-587e-4023-8d4b-beb0c21af1f2",
   "metadata": {
    "jp-MarkdownHeadingCollapsed": true
   },
   "source": [
    "#### (Click to reveal)"
   ]
  },
  {
   "cell_type": "markdown",
   "id": "ed4b0988-539e-43c4-aef7-76f9408b0c9f",
   "metadata": {},
   "source": [
    "YYYYMMDD has the advantage of being chronologically sortable when read as a simple integer value, since its time increments are represented largest-to-smallest."
   ]
  },
  {
   "cell_type": "code",
   "execution_count": 16,
   "id": "cbc73bf7-9d43-48de-a37f-7799df7c7a3c",
   "metadata": {
    "execution": {
     "iopub.execute_input": "2025-03-31T22:07:29.089315Z",
     "iopub.status.busy": "2025-03-31T22:07:29.088316Z",
     "iopub.status.idle": "2025-03-31T22:07:29.096501Z",
     "shell.execute_reply": "2025-03-31T22:07:29.094485Z",
     "shell.execute_reply.started": "2025-03-31T22:07:29.089315Z"
    }
   },
   "outputs": [
    {
     "data": {
      "text/plain": [
       "False"
      ]
     },
     "execution_count": 16,
     "metadata": {},
     "output_type": "execute_result"
    }
   ],
   "source": [
    "#MMDDYYYY\n",
    "12132024 < 12112025"
   ]
  },
  {
   "cell_type": "code",
   "execution_count": 17,
   "id": "620522b0-ae65-4316-b6b3-29a7038cbc49",
   "metadata": {
    "execution": {
     "iopub.execute_input": "2025-03-31T22:07:29.098494Z",
     "iopub.status.busy": "2025-03-31T22:07:29.098494Z",
     "iopub.status.idle": "2025-03-31T22:07:29.103866Z",
     "shell.execute_reply": "2025-03-31T22:07:29.103866Z",
     "shell.execute_reply.started": "2025-03-31T22:07:29.098494Z"
    }
   },
   "outputs": [
    {
     "data": {
      "text/plain": [
       "True"
      ]
     },
     "execution_count": 17,
     "metadata": {},
     "output_type": "execute_result"
    }
   ],
   "source": [
    "#YYYYMMDD\n",
    "20241213 < 20251211"
   ]
  },
  {
   "cell_type": "markdown",
   "id": "65e83950-9f20-461c-8b73-e71afcde85c1",
   "metadata": {},
   "source": [
    "## A Brief History of Datetime (and Dateutil)"
   ]
  },
  {
   "cell_type": "markdown",
   "id": "6601fd70-79ba-4bf8-932a-233e4c69d669",
   "metadata": {},
   "source": [
    "Python's builtin `datetime` module is a powerful tool for reformatting dates and times so they can be applied across different timestamp paradigms, whether to make them more human-readable, or more machine-readable. `datetime` is host to a number of useful classes, including the redundantly-named `datetime`, which is a combination of the `date` class and the `time` class, as well as `timedelta`, which expressed the difference between `date` and/or `datetime` objects, as well as classes specific to handling time zones, `timezone` and `tzinfo`. \n",
    "\n",
    "However, `datetime` leaves something to be desired in ease of use. The `dateutil` package is an extension to `datetime` that makes parsing and formatting dates easier. It adds additional capability for calculating time deltas by different units, more precise implementations of time zone, and most importantly for our purposes, robust support for parsing differently formatted dates."
   ]
  },
  {
   "cell_type": "code",
   "execution_count": 18,
   "id": "af6e9272-8418-4b0f-83d1-dd692b35dc57",
   "metadata": {
    "execution": {
     "iopub.execute_input": "2025-03-31T22:07:29.104873Z",
     "iopub.status.busy": "2025-03-31T22:07:29.104873Z",
     "iopub.status.idle": "2025-03-31T22:07:29.109742Z",
     "shell.execute_reply": "2025-03-31T22:07:29.108876Z",
     "shell.execute_reply.started": "2025-03-31T22:07:29.104873Z"
    }
   },
   "outputs": [],
   "source": [
    "from dateutil import parser"
   ]
  },
  {
   "cell_type": "markdown",
   "id": "089cd0dc-12a1-4d14-a6e8-f35b8624ad75",
   "metadata": {},
   "source": [
    "The dateutil parser can interpret dates in a number of different formats. It defaults to reading dates with the US convention of MM-DD-YYYY formatting, but it can be set to parse [different date formats](https://en.wikipedia.org/wiki/List_of_date_formats_by_country). \n",
    "\n",
    "It can also interpret months written as words and ordinal dates written as \"1st\", \"2nd\", \"3rd\", etc., though it cannot parse ordinal dates written as words (e.g. \"June third, 2002\")"
   ]
  },
  {
   "cell_type": "code",
   "execution_count": 19,
   "id": "83a503fb-3833-4b22-940c-9f3c982bf73f",
   "metadata": {
    "execution": {
     "iopub.execute_input": "2025-03-31T22:07:29.111771Z",
     "iopub.status.busy": "2025-03-31T22:07:29.111771Z",
     "iopub.status.idle": "2025-03-31T22:07:29.125370Z",
     "shell.execute_reply": "2025-03-31T22:07:29.123346Z",
     "shell.execute_reply.started": "2025-03-31T22:07:29.111771Z"
    }
   },
   "outputs": [
    {
     "data": {
      "text/plain": [
       "datetime.datetime(1989, 12, 6, 0, 0)"
      ]
     },
     "execution_count": 19,
     "metadata": {},
     "output_type": "execute_result"
    }
   ],
   "source": [
    "parser.parse('6 December 1989')"
   ]
  },
  {
   "cell_type": "code",
   "execution_count": 20,
   "id": "0e5a6bce-363f-41c5-ab5a-7d3689b937f4",
   "metadata": {
    "execution": {
     "iopub.execute_input": "2025-03-31T22:07:29.127360Z",
     "iopub.status.busy": "2025-03-31T22:07:29.127360Z",
     "iopub.status.idle": "2025-03-31T22:07:29.136356Z",
     "shell.execute_reply": "2025-03-31T22:07:29.136356Z",
     "shell.execute_reply.started": "2025-03-31T22:07:29.127360Z"
    }
   },
   "outputs": [
    {
     "data": {
      "text/plain": [
       "datetime.datetime(1989, 12, 6, 0, 0)"
      ]
     },
     "execution_count": 20,
     "metadata": {},
     "output_type": "execute_result"
    }
   ],
   "source": [
    "parser.parse('December 6 1989')"
   ]
  },
  {
   "cell_type": "code",
   "execution_count": 21,
   "id": "cd5bccf7-1a23-465a-ba2f-324c6a2ef1dd",
   "metadata": {
    "execution": {
     "iopub.execute_input": "2025-03-31T22:07:29.137864Z",
     "iopub.status.busy": "2025-03-31T22:07:29.137864Z",
     "iopub.status.idle": "2025-03-31T22:07:29.149696Z",
     "shell.execute_reply": "2025-03-31T22:07:29.148676Z",
     "shell.execute_reply.started": "2025-03-31T22:07:29.137864Z"
    }
   },
   "outputs": [
    {
     "data": {
      "text/plain": [
       "datetime.datetime(1989, 12, 6, 0, 0)"
      ]
     },
     "execution_count": 21,
     "metadata": {},
     "output_type": "execute_result"
    }
   ],
   "source": [
    "parser.parse('12 6 1989')"
   ]
  },
  {
   "cell_type": "code",
   "execution_count": 22,
   "id": "a27aeb44-5955-4209-aaf5-e89658267cb2",
   "metadata": {
    "execution": {
     "iopub.execute_input": "2025-03-31T22:07:29.151711Z",
     "iopub.status.busy": "2025-03-31T22:07:29.151711Z",
     "iopub.status.idle": "2025-03-31T22:07:29.161905Z",
     "shell.execute_reply": "2025-03-31T22:07:29.160373Z",
     "shell.execute_reply.started": "2025-03-31T22:07:29.151711Z"
    }
   },
   "outputs": [
    {
     "data": {
      "text/plain": [
       "datetime.datetime(1989, 6, 12, 0, 0)"
      ]
     },
     "execution_count": 22,
     "metadata": {},
     "output_type": "execute_result"
    }
   ],
   "source": [
    "#Dateutil's parser defaults to reading a date as MM-DD-YYYY when it's ambiguous\n",
    "parser.parse('6/12/1989')"
   ]
  },
  {
   "cell_type": "code",
   "execution_count": 23,
   "id": "53aa1c04-5e56-4482-9ec5-54d2ca8fd257",
   "metadata": {
    "execution": {
     "iopub.execute_input": "2025-03-31T22:07:29.163907Z",
     "iopub.status.busy": "2025-03-31T22:07:29.163907Z",
     "iopub.status.idle": "2025-03-31T22:07:29.172972Z",
     "shell.execute_reply": "2025-03-31T22:07:29.171949Z",
     "shell.execute_reply.started": "2025-03-31T22:07:29.163907Z"
    }
   },
   "outputs": [
    {
     "data": {
      "text/plain": [
       "datetime.datetime(1989, 12, 6, 0, 0)"
      ]
     },
     "execution_count": 23,
     "metadata": {},
     "output_type": "execute_result"
    }
   ],
   "source": [
    "#The \"dayfirst\" parameter lets you change the default behavior\n",
    "parser.parse('6/12/1989', dayfirst=True)"
   ]
  },
  {
   "cell_type": "code",
   "execution_count": 24,
   "id": "c58bc218-be33-4ac5-8a5b-4300b1d4059a",
   "metadata": {
    "execution": {
     "iopub.execute_input": "2025-03-31T22:07:29.176030Z",
     "iopub.status.busy": "2025-03-31T22:07:29.176030Z",
     "iopub.status.idle": "2025-03-31T22:07:29.182552Z",
     "shell.execute_reply": "2025-03-31T22:07:29.182040Z",
     "shell.execute_reply.started": "2025-03-31T22:07:29.176030Z"
    }
   },
   "outputs": [
    {
     "data": {
      "text/plain": [
       "datetime.datetime(1989, 12, 13, 0, 0)"
      ]
     },
     "execution_count": 24,
     "metadata": {},
     "output_type": "execute_result"
    }
   ],
   "source": [
    "#The parser will read DD-MM-YYYY dates correctly when the date cannot be in MM-DD-YYYY format\n",
    "parser.parse('13/12/1989', dayfirst=True)"
   ]
  },
  {
   "cell_type": "code",
   "execution_count": 25,
   "id": "a067e075-2f7b-4234-8902-73c69d32abad",
   "metadata": {
    "execution": {
     "iopub.execute_input": "2025-03-31T22:07:29.183573Z",
     "iopub.status.busy": "2025-03-31T22:07:29.183573Z",
     "iopub.status.idle": "2025-03-31T22:07:29.188685Z",
     "shell.execute_reply": "2025-03-31T22:07:29.187670Z",
     "shell.execute_reply.started": "2025-03-31T22:07:29.183573Z"
    }
   },
   "outputs": [
    {
     "data": {
      "text/plain": [
       "datetime.datetime(2002, 6, 3, 0, 0)"
      ]
     },
     "execution_count": 25,
     "metadata": {},
     "output_type": "execute_result"
    }
   ],
   "source": [
    "#The parser works with non-numeric date indicators as well.\n",
    "parser.parse('June 3rd, 2002')"
   ]
  },
  {
   "cell_type": "code",
   "execution_count": 26,
   "id": "b06dc9c6-55f5-4aff-a19e-81e6a28aca81",
   "metadata": {
    "execution": {
     "iopub.execute_input": "2025-03-31T22:07:29.190693Z",
     "iopub.status.busy": "2025-03-31T22:07:29.189687Z",
     "iopub.status.idle": "2025-03-31T22:07:29.198803Z",
     "shell.execute_reply": "2025-03-31T22:07:29.198803Z",
     "shell.execute_reply.started": "2025-03-31T22:07:29.190693Z"
    }
   },
   "outputs": [
    {
     "data": {
      "text/plain": [
       "datetime.datetime(2002, 6, 3, 0, 0)"
      ]
     },
     "execution_count": 26,
     "metadata": {},
     "output_type": "execute_result"
    }
   ],
   "source": [
    "parser.parse('3rd June, 2002')"
   ]
  },
  {
   "cell_type": "markdown",
   "id": "96f1c706-50fe-4975-a859-07a35ccee4ef",
   "metadata": {
    "execution": {
     "iopub.execute_input": "2025-02-13T01:10:47.076598Z",
     "iopub.status.busy": "2025-02-13T01:10:47.075593Z",
     "iopub.status.idle": "2025-02-13T01:10:47.085848Z",
     "shell.execute_reply": "2025-02-13T01:10:47.083835Z",
     "shell.execute_reply.started": "2025-02-13T01:10:47.076598Z"
    }
   },
   "source": [
    "### CODING EXERCISE - `dateutil` Parser\n",
    "Try passing a date into the dateutil parser. See for yourself which formats work and which do not."
   ]
  },
  {
   "cell_type": "code",
   "execution_count": 28,
   "id": "89840165-e5a6-48e3-8826-991cc9a90486",
   "metadata": {
    "execution": {
     "iopub.execute_input": "2025-03-31T22:07:41.368747Z",
     "iopub.status.busy": "2025-03-31T22:07:41.366514Z",
     "iopub.status.idle": "2025-03-31T22:07:41.379658Z",
     "shell.execute_reply": "2025-03-31T22:07:41.378636Z",
     "shell.execute_reply.started": "2025-03-31T22:07:41.368747Z"
    }
   },
   "outputs": [
    {
     "data": {
      "text/plain": [
       "datetime.datetime(2002, 6, 3, 0, 0)"
      ]
     },
     "execution_count": 28,
     "metadata": {},
     "output_type": "execute_result"
    }
   ],
   "source": [
    "################################################################################\n",
    "################################################################################\n",
    "\n",
    "parser.parse('3rd June, 2002')\n",
    "\n",
    "################################################################################\n",
    "################################################################################"
   ]
  },
  {
   "cell_type": "markdown",
   "id": "8e036c05-1ab0-410c-bcc5-65d8a3ca7720",
   "metadata": {},
   "source": [
    "We'll be using the dateutil parser within an `apply(lambda)` statement, as seen in `PPW1 - ManagerSalary.ipynb`."
   ]
  },
  {
   "cell_type": "code",
   "execution_count": 29,
   "id": "8d6d864d-f77b-4813-8173-524aecc4b0ca",
   "metadata": {
    "execution": {
     "iopub.execute_input": "2025-03-31T22:07:42.158603Z",
     "iopub.status.busy": "2025-03-31T22:07:42.158603Z",
     "iopub.status.idle": "2025-03-31T22:07:42.192730Z",
     "shell.execute_reply": "2025-03-31T22:07:42.189351Z",
     "shell.execute_reply.started": "2025-03-31T22:07:42.158603Z"
    }
   },
   "outputs": [],
   "source": [
    "doctor_tenures['Start Date'] = doctor_tenures['Start Date'].apply(lambda x: parser.parse(x))\n",
    "doctor_tenures['End Date'] = doctor_tenures['End Date'].apply(lambda x: parser.parse(x))"
   ]
  },
  {
   "cell_type": "code",
   "execution_count": 30,
   "id": "674c9e9e-e2fa-4e80-8714-f27c1f7f4980",
   "metadata": {
    "execution": {
     "iopub.execute_input": "2025-03-31T22:07:42.391122Z",
     "iopub.status.busy": "2025-03-31T22:07:42.389980Z",
     "iopub.status.idle": "2025-03-31T22:07:42.417179Z",
     "shell.execute_reply": "2025-03-31T22:07:42.415154Z",
     "shell.execute_reply.started": "2025-03-31T22:07:42.391122Z"
    }
   },
   "outputs": [
    {
     "data": {
      "text/html": [
       "<div>\n",
       "<style scoped>\n",
       "    .dataframe tbody tr th:only-of-type {\n",
       "        vertical-align: middle;\n",
       "    }\n",
       "\n",
       "    .dataframe tbody tr th {\n",
       "        vertical-align: top;\n",
       "    }\n",
       "\n",
       "    .dataframe thead th {\n",
       "        text-align: right;\n",
       "    }\n",
       "</style>\n",
       "<table border=\"1\" class=\"dataframe\">\n",
       "  <thead>\n",
       "    <tr style=\"text-align: right;\">\n",
       "      <th></th>\n",
       "      <th>Doctor</th>\n",
       "      <th>Doctor Number</th>\n",
       "      <th>Start Date</th>\n",
       "      <th>End Date</th>\n",
       "    </tr>\n",
       "  </thead>\n",
       "  <tbody>\n",
       "    <tr>\n",
       "      <th>0</th>\n",
       "      <td>William Hartnell</td>\n",
       "      <td>First Doctor</td>\n",
       "      <td>1963-11-23</td>\n",
       "      <td>1966-10-29</td>\n",
       "    </tr>\n",
       "    <tr>\n",
       "      <th>1</th>\n",
       "      <td>Patrick Troughton</td>\n",
       "      <td>Second Doctor</td>\n",
       "      <td>1966-10-29</td>\n",
       "      <td>1969-06-21</td>\n",
       "    </tr>\n",
       "    <tr>\n",
       "      <th>2</th>\n",
       "      <td>Jon Pertwee</td>\n",
       "      <td>Third Doctor</td>\n",
       "      <td>1970-01-03</td>\n",
       "      <td>1974-06-08</td>\n",
       "    </tr>\n",
       "    <tr>\n",
       "      <th>3</th>\n",
       "      <td>Tom Baker</td>\n",
       "      <td>Fourth Doctor</td>\n",
       "      <td>1974-06-08</td>\n",
       "      <td>1981-03-21</td>\n",
       "    </tr>\n",
       "    <tr>\n",
       "      <th>4</th>\n",
       "      <td>Peter Davison</td>\n",
       "      <td>Fifth Doctor</td>\n",
       "      <td>1981-03-21</td>\n",
       "      <td>1984-03-16</td>\n",
       "    </tr>\n",
       "    <tr>\n",
       "      <th>5</th>\n",
       "      <td>Colin Baker</td>\n",
       "      <td>Sixth Doctor</td>\n",
       "      <td>1984-03-16</td>\n",
       "      <td>1986-12-06</td>\n",
       "    </tr>\n",
       "    <tr>\n",
       "      <th>6</th>\n",
       "      <td>Sylvester McCoy</td>\n",
       "      <td>Seventh Doctor</td>\n",
       "      <td>1987-09-07</td>\n",
       "      <td>1989-12-06</td>\n",
       "    </tr>\n",
       "    <tr>\n",
       "      <th>7</th>\n",
       "      <td>Paul McGann</td>\n",
       "      <td>Eighth Doctor</td>\n",
       "      <td>1996-05-27</td>\n",
       "      <td>1996-05-27</td>\n",
       "    </tr>\n",
       "    <tr>\n",
       "      <th>8</th>\n",
       "      <td>Christopher Eccleston</td>\n",
       "      <td>Ninth Doctor</td>\n",
       "      <td>2005-03-26</td>\n",
       "      <td>2005-06-18</td>\n",
       "    </tr>\n",
       "    <tr>\n",
       "      <th>9</th>\n",
       "      <td>David Tennant</td>\n",
       "      <td>Tenth Doctor</td>\n",
       "      <td>2005-06-18</td>\n",
       "      <td>2010-01-01</td>\n",
       "    </tr>\n",
       "    <tr>\n",
       "      <th>10</th>\n",
       "      <td>Matt Smith</td>\n",
       "      <td>Eleventh Doctor</td>\n",
       "      <td>2010-01-01</td>\n",
       "      <td>2013-12-25</td>\n",
       "    </tr>\n",
       "    <tr>\n",
       "      <th>11</th>\n",
       "      <td>Peter Capaldi</td>\n",
       "      <td>Twelfth Doctor</td>\n",
       "      <td>2013-12-25</td>\n",
       "      <td>2017-12-25</td>\n",
       "    </tr>\n",
       "    <tr>\n",
       "      <th>12</th>\n",
       "      <td>Jodie Whittaker</td>\n",
       "      <td>Thirteenth Doctor</td>\n",
       "      <td>2017-12-25</td>\n",
       "      <td>2022-10-23</td>\n",
       "    </tr>\n",
       "    <tr>\n",
       "      <th>13</th>\n",
       "      <td>David Tennant</td>\n",
       "      <td>Fourteenth Doctor</td>\n",
       "      <td>2022-10-23</td>\n",
       "      <td>2023-12-09</td>\n",
       "    </tr>\n",
       "    <tr>\n",
       "      <th>14</th>\n",
       "      <td>Ncuti Gatwa</td>\n",
       "      <td>Fifteenth Doctor</td>\n",
       "      <td>2023-12-09</td>\n",
       "      <td>2025-03-31</td>\n",
       "    </tr>\n",
       "  </tbody>\n",
       "</table>\n",
       "</div>"
      ],
      "text/plain": [
       "                   Doctor      Doctor Number Start Date   End Date\n",
       "0        William Hartnell       First Doctor 1963-11-23 1966-10-29\n",
       "1       Patrick Troughton      Second Doctor 1966-10-29 1969-06-21\n",
       "2             Jon Pertwee       Third Doctor 1970-01-03 1974-06-08\n",
       "3               Tom Baker      Fourth Doctor 1974-06-08 1981-03-21\n",
       "4           Peter Davison       Fifth Doctor 1981-03-21 1984-03-16\n",
       "5             Colin Baker       Sixth Doctor 1984-03-16 1986-12-06\n",
       "6         Sylvester McCoy     Seventh Doctor 1987-09-07 1989-12-06\n",
       "7             Paul McGann      Eighth Doctor 1996-05-27 1996-05-27\n",
       "8   Christopher Eccleston       Ninth Doctor 2005-03-26 2005-06-18\n",
       "9           David Tennant       Tenth Doctor 2005-06-18 2010-01-01\n",
       "10             Matt Smith    Eleventh Doctor 2010-01-01 2013-12-25\n",
       "11          Peter Capaldi     Twelfth Doctor 2013-12-25 2017-12-25\n",
       "12        Jodie Whittaker  Thirteenth Doctor 2017-12-25 2022-10-23\n",
       "13          David Tennant  Fourteenth Doctor 2022-10-23 2023-12-09\n",
       "14            Ncuti Gatwa   Fifteenth Doctor 2023-12-09 2025-03-31"
      ]
     },
     "execution_count": 30,
     "metadata": {},
     "output_type": "execute_result"
    }
   ],
   "source": [
    "doctor_tenures"
   ]
  },
  {
   "cell_type": "markdown",
   "id": "f1368425-541a-4af6-8d00-ded0e999e118",
   "metadata": {},
   "source": [
    "Note that the output of the parser is normally `datetime.datetime(year, month, day, hour, minute)`, but because it's in a Pandas DataFrame, it's stored in YYYY-MM-DD format. The dates have been converted to pandas Timestamp format, allowing them to be used as numerical values."
   ]
  },
  {
   "cell_type": "code",
   "execution_count": 31,
   "id": "4c0adbcf-6905-421f-b00b-8d8953f7834e",
   "metadata": {
    "execution": {
     "iopub.execute_input": "2025-03-31T22:07:42.906108Z",
     "iopub.status.busy": "2025-03-31T22:07:42.906108Z",
     "iopub.status.idle": "2025-03-31T22:07:42.922024Z",
     "shell.execute_reply": "2025-03-31T22:07:42.921010Z",
     "shell.execute_reply.started": "2025-03-31T22:07:42.906108Z"
    }
   },
   "outputs": [
    {
     "name": "stdout",
     "output_type": "stream",
     "text": [
      "1963-11-23 00:00:00 <class 'pandas._libs.tslibs.timestamps.Timestamp'>\n",
      "1966-10-29 00:00:00 <class 'pandas._libs.tslibs.timestamps.Timestamp'>\n",
      "1970-01-03 00:00:00 <class 'pandas._libs.tslibs.timestamps.Timestamp'>\n",
      "1974-06-08 00:00:00 <class 'pandas._libs.tslibs.timestamps.Timestamp'>\n",
      "1981-03-21 00:00:00 <class 'pandas._libs.tslibs.timestamps.Timestamp'>\n",
      "1984-03-16 00:00:00 <class 'pandas._libs.tslibs.timestamps.Timestamp'>\n",
      "1987-09-07 00:00:00 <class 'pandas._libs.tslibs.timestamps.Timestamp'>\n",
      "1996-05-27 00:00:00 <class 'pandas._libs.tslibs.timestamps.Timestamp'>\n",
      "2005-03-26 00:00:00 <class 'pandas._libs.tslibs.timestamps.Timestamp'>\n",
      "2005-06-18 00:00:00 <class 'pandas._libs.tslibs.timestamps.Timestamp'>\n",
      "2010-01-01 00:00:00 <class 'pandas._libs.tslibs.timestamps.Timestamp'>\n",
      "2013-12-25 00:00:00 <class 'pandas._libs.tslibs.timestamps.Timestamp'>\n",
      "2017-12-25 00:00:00 <class 'pandas._libs.tslibs.timestamps.Timestamp'>\n",
      "2022-10-23 00:00:00 <class 'pandas._libs.tslibs.timestamps.Timestamp'>\n",
      "2023-12-09 00:00:00 <class 'pandas._libs.tslibs.timestamps.Timestamp'>\n"
     ]
    }
   ],
   "source": [
    "for x in doctor_tenures['Start Date']:\n",
    "    print(x, type(x))"
   ]
  },
  {
   "cell_type": "code",
   "execution_count": 32,
   "id": "a2c865a0-935d-4162-8835-3cea672196af",
   "metadata": {
    "execution": {
     "iopub.execute_input": "2025-03-31T22:07:43.097511Z",
     "iopub.status.busy": "2025-03-31T22:07:43.095482Z",
     "iopub.status.idle": "2025-03-31T22:07:43.105600Z",
     "shell.execute_reply": "2025-03-31T22:07:43.103846Z",
     "shell.execute_reply.started": "2025-03-31T22:07:43.097511Z"
    },
    "scrolled": true
   },
   "outputs": [
    {
     "name": "stdout",
     "output_type": "stream",
     "text": [
      "1966-10-29 00:00:00 <class 'pandas._libs.tslibs.timestamps.Timestamp'>\n",
      "1969-06-21 00:00:00 <class 'pandas._libs.tslibs.timestamps.Timestamp'>\n",
      "1974-06-08 00:00:00 <class 'pandas._libs.tslibs.timestamps.Timestamp'>\n",
      "1981-03-21 00:00:00 <class 'pandas._libs.tslibs.timestamps.Timestamp'>\n",
      "1984-03-16 00:00:00 <class 'pandas._libs.tslibs.timestamps.Timestamp'>\n",
      "1986-12-06 00:00:00 <class 'pandas._libs.tslibs.timestamps.Timestamp'>\n",
      "1989-12-06 00:00:00 <class 'pandas._libs.tslibs.timestamps.Timestamp'>\n",
      "1996-05-27 00:00:00 <class 'pandas._libs.tslibs.timestamps.Timestamp'>\n",
      "2005-06-18 00:00:00 <class 'pandas._libs.tslibs.timestamps.Timestamp'>\n",
      "2010-01-01 00:00:00 <class 'pandas._libs.tslibs.timestamps.Timestamp'>\n",
      "2013-12-25 00:00:00 <class 'pandas._libs.tslibs.timestamps.Timestamp'>\n",
      "2017-12-25 00:00:00 <class 'pandas._libs.tslibs.timestamps.Timestamp'>\n",
      "2022-10-23 00:00:00 <class 'pandas._libs.tslibs.timestamps.Timestamp'>\n",
      "2023-12-09 00:00:00 <class 'pandas._libs.tslibs.timestamps.Timestamp'>\n",
      "2025-03-31 00:00:00 <class 'pandas._libs.tslibs.timestamps.Timestamp'>\n"
     ]
    }
   ],
   "source": [
    "for x in doctor_tenures['End Date']:\n",
    "    print(x, type(x))"
   ]
  },
  {
   "cell_type": "code",
   "execution_count": 33,
   "id": "987c6aa8-78bf-4770-bcca-5f45e45c5468",
   "metadata": {
    "execution": {
     "iopub.execute_input": "2025-03-31T22:07:43.330656Z",
     "iopub.status.busy": "2025-03-31T22:07:43.330656Z",
     "iopub.status.idle": "2025-03-31T22:07:43.351071Z",
     "shell.execute_reply": "2025-03-31T22:07:43.349051Z",
     "shell.execute_reply.started": "2025-03-31T22:07:43.330656Z"
    },
    "scrolled": true
   },
   "outputs": [
    {
     "data": {
      "text/html": [
       "<div>\n",
       "<style scoped>\n",
       "    .dataframe tbody tr th:only-of-type {\n",
       "        vertical-align: middle;\n",
       "    }\n",
       "\n",
       "    .dataframe tbody tr th {\n",
       "        vertical-align: top;\n",
       "    }\n",
       "\n",
       "    .dataframe thead th {\n",
       "        text-align: right;\n",
       "    }\n",
       "</style>\n",
       "<table border=\"1\" class=\"dataframe\">\n",
       "  <thead>\n",
       "    <tr style=\"text-align: right;\">\n",
       "      <th></th>\n",
       "      <th>Doctor</th>\n",
       "      <th>Doctor Number</th>\n",
       "      <th>Start Date</th>\n",
       "      <th>End Date</th>\n",
       "    </tr>\n",
       "  </thead>\n",
       "  <tbody>\n",
       "    <tr>\n",
       "      <th>0</th>\n",
       "      <td>William Hartnell</td>\n",
       "      <td>First Doctor</td>\n",
       "      <td>1963-11-23</td>\n",
       "      <td>1966-10-29</td>\n",
       "    </tr>\n",
       "    <tr>\n",
       "      <th>1</th>\n",
       "      <td>Patrick Troughton</td>\n",
       "      <td>Second Doctor</td>\n",
       "      <td>1966-10-29</td>\n",
       "      <td>1969-06-21</td>\n",
       "    </tr>\n",
       "    <tr>\n",
       "      <th>2</th>\n",
       "      <td>Jon Pertwee</td>\n",
       "      <td>Third Doctor</td>\n",
       "      <td>1970-01-03</td>\n",
       "      <td>1974-06-08</td>\n",
       "    </tr>\n",
       "    <tr>\n",
       "      <th>3</th>\n",
       "      <td>Tom Baker</td>\n",
       "      <td>Fourth Doctor</td>\n",
       "      <td>1974-06-08</td>\n",
       "      <td>1981-03-21</td>\n",
       "    </tr>\n",
       "    <tr>\n",
       "      <th>4</th>\n",
       "      <td>Peter Davison</td>\n",
       "      <td>Fifth Doctor</td>\n",
       "      <td>1981-03-21</td>\n",
       "      <td>1984-03-16</td>\n",
       "    </tr>\n",
       "    <tr>\n",
       "      <th>5</th>\n",
       "      <td>Colin Baker</td>\n",
       "      <td>Sixth Doctor</td>\n",
       "      <td>1984-03-16</td>\n",
       "      <td>1986-12-06</td>\n",
       "    </tr>\n",
       "    <tr>\n",
       "      <th>6</th>\n",
       "      <td>Sylvester McCoy</td>\n",
       "      <td>Seventh Doctor</td>\n",
       "      <td>1987-09-07</td>\n",
       "      <td>1989-12-06</td>\n",
       "    </tr>\n",
       "    <tr>\n",
       "      <th>7</th>\n",
       "      <td>Paul McGann</td>\n",
       "      <td>Eighth Doctor</td>\n",
       "      <td>1996-05-27</td>\n",
       "      <td>1996-05-27</td>\n",
       "    </tr>\n",
       "    <tr>\n",
       "      <th>8</th>\n",
       "      <td>Christopher Eccleston</td>\n",
       "      <td>Ninth Doctor</td>\n",
       "      <td>2005-03-26</td>\n",
       "      <td>2005-06-18</td>\n",
       "    </tr>\n",
       "    <tr>\n",
       "      <th>9</th>\n",
       "      <td>David Tennant</td>\n",
       "      <td>Tenth Doctor</td>\n",
       "      <td>2005-06-18</td>\n",
       "      <td>2010-01-01</td>\n",
       "    </tr>\n",
       "    <tr>\n",
       "      <th>10</th>\n",
       "      <td>Matt Smith</td>\n",
       "      <td>Eleventh Doctor</td>\n",
       "      <td>2010-01-01</td>\n",
       "      <td>2013-12-25</td>\n",
       "    </tr>\n",
       "    <tr>\n",
       "      <th>11</th>\n",
       "      <td>Peter Capaldi</td>\n",
       "      <td>Twelfth Doctor</td>\n",
       "      <td>2013-12-25</td>\n",
       "      <td>2017-12-25</td>\n",
       "    </tr>\n",
       "    <tr>\n",
       "      <th>12</th>\n",
       "      <td>Jodie Whittaker</td>\n",
       "      <td>Thirteenth Doctor</td>\n",
       "      <td>2017-12-25</td>\n",
       "      <td>2022-10-23</td>\n",
       "    </tr>\n",
       "    <tr>\n",
       "      <th>13</th>\n",
       "      <td>David Tennant</td>\n",
       "      <td>Fourteenth Doctor</td>\n",
       "      <td>2022-10-23</td>\n",
       "      <td>2023-12-09</td>\n",
       "    </tr>\n",
       "    <tr>\n",
       "      <th>14</th>\n",
       "      <td>Ncuti Gatwa</td>\n",
       "      <td>Fifteenth Doctor</td>\n",
       "      <td>2023-12-09</td>\n",
       "      <td>2025-03-31</td>\n",
       "    </tr>\n",
       "  </tbody>\n",
       "</table>\n",
       "</div>"
      ],
      "text/plain": [
       "                   Doctor      Doctor Number Start Date   End Date\n",
       "0        William Hartnell       First Doctor 1963-11-23 1966-10-29\n",
       "1       Patrick Troughton      Second Doctor 1966-10-29 1969-06-21\n",
       "2             Jon Pertwee       Third Doctor 1970-01-03 1974-06-08\n",
       "3               Tom Baker      Fourth Doctor 1974-06-08 1981-03-21\n",
       "4           Peter Davison       Fifth Doctor 1981-03-21 1984-03-16\n",
       "5             Colin Baker       Sixth Doctor 1984-03-16 1986-12-06\n",
       "6         Sylvester McCoy     Seventh Doctor 1987-09-07 1989-12-06\n",
       "7             Paul McGann      Eighth Doctor 1996-05-27 1996-05-27\n",
       "8   Christopher Eccleston       Ninth Doctor 2005-03-26 2005-06-18\n",
       "9           David Tennant       Tenth Doctor 2005-06-18 2010-01-01\n",
       "10             Matt Smith    Eleventh Doctor 2010-01-01 2013-12-25\n",
       "11          Peter Capaldi     Twelfth Doctor 2013-12-25 2017-12-25\n",
       "12        Jodie Whittaker  Thirteenth Doctor 2017-12-25 2022-10-23\n",
       "13          David Tennant  Fourteenth Doctor 2022-10-23 2023-12-09\n",
       "14            Ncuti Gatwa   Fifteenth Doctor 2023-12-09 2025-03-31"
      ]
     },
     "execution_count": 33,
     "metadata": {},
     "output_type": "execute_result"
    }
   ],
   "source": [
    "doctor_tenures"
   ]
  },
  {
   "cell_type": "markdown",
   "id": "de018cc3-a375-46aa-9ed9-9cb78f7d20a2",
   "metadata": {
    "execution": {
     "iopub.execute_input": "2025-03-08T00:56:57.061286Z",
     "iopub.status.busy": "2025-03-08T00:56:57.060260Z",
     "iopub.status.idle": "2025-03-08T00:56:57.069939Z",
     "shell.execute_reply": "2025-03-08T00:56:57.067917Z",
     "shell.execute_reply.started": "2025-03-08T00:56:57.061286Z"
    }
   },
   "source": [
    "Next, we can create a new column containing a list for each pair of start/end dates."
   ]
  },
  {
   "cell_type": "code",
   "execution_count": 34,
   "id": "e24483ce-0b0e-41dd-ad4f-624ed00f69c7",
   "metadata": {
    "execution": {
     "iopub.execute_input": "2025-03-31T22:07:43.812333Z",
     "iopub.status.busy": "2025-03-31T22:07:43.812333Z",
     "iopub.status.idle": "2025-03-31T22:07:43.824626Z",
     "shell.execute_reply": "2025-03-31T22:07:43.821991Z",
     "shell.execute_reply.started": "2025-03-31T22:07:43.812333Z"
    }
   },
   "outputs": [],
   "source": [
    "doctor_tenures['StartEnd'] = [(start, end) for start, end in zip(doctor_tenures['Start Date'], doctor_tenures['End Date'])]\n",
    "doctor_tenures['StartEnd'] = [[entry] for entry in doctor_tenures['StartEnd']]"
   ]
  },
  {
   "cell_type": "code",
   "execution_count": 35,
   "id": "89a7e03a-abc5-4808-8e91-853693c4392e",
   "metadata": {
    "execution": {
     "iopub.execute_input": "2025-03-31T22:07:44.051800Z",
     "iopub.status.busy": "2025-03-31T22:07:44.049798Z",
     "iopub.status.idle": "2025-03-31T22:07:44.083729Z",
     "shell.execute_reply": "2025-03-31T22:07:44.083729Z",
     "shell.execute_reply.started": "2025-03-31T22:07:44.051800Z"
    }
   },
   "outputs": [
    {
     "data": {
      "text/html": [
       "<div>\n",
       "<style scoped>\n",
       "    .dataframe tbody tr th:only-of-type {\n",
       "        vertical-align: middle;\n",
       "    }\n",
       "\n",
       "    .dataframe tbody tr th {\n",
       "        vertical-align: top;\n",
       "    }\n",
       "\n",
       "    .dataframe thead th {\n",
       "        text-align: right;\n",
       "    }\n",
       "</style>\n",
       "<table border=\"1\" class=\"dataframe\">\n",
       "  <thead>\n",
       "    <tr style=\"text-align: right;\">\n",
       "      <th></th>\n",
       "      <th>Doctor</th>\n",
       "      <th>Doctor Number</th>\n",
       "      <th>Start Date</th>\n",
       "      <th>End Date</th>\n",
       "      <th>StartEnd</th>\n",
       "    </tr>\n",
       "  </thead>\n",
       "  <tbody>\n",
       "    <tr>\n",
       "      <th>0</th>\n",
       "      <td>William Hartnell</td>\n",
       "      <td>First Doctor</td>\n",
       "      <td>1963-11-23</td>\n",
       "      <td>1966-10-29</td>\n",
       "      <td>[(1963-11-23 00:00:00, 1966-10-29 00:00:00)]</td>\n",
       "    </tr>\n",
       "    <tr>\n",
       "      <th>1</th>\n",
       "      <td>Patrick Troughton</td>\n",
       "      <td>Second Doctor</td>\n",
       "      <td>1966-10-29</td>\n",
       "      <td>1969-06-21</td>\n",
       "      <td>[(1966-10-29 00:00:00, 1969-06-21 00:00:00)]</td>\n",
       "    </tr>\n",
       "    <tr>\n",
       "      <th>2</th>\n",
       "      <td>Jon Pertwee</td>\n",
       "      <td>Third Doctor</td>\n",
       "      <td>1970-01-03</td>\n",
       "      <td>1974-06-08</td>\n",
       "      <td>[(1970-01-03 00:00:00, 1974-06-08 00:00:00)]</td>\n",
       "    </tr>\n",
       "    <tr>\n",
       "      <th>3</th>\n",
       "      <td>Tom Baker</td>\n",
       "      <td>Fourth Doctor</td>\n",
       "      <td>1974-06-08</td>\n",
       "      <td>1981-03-21</td>\n",
       "      <td>[(1974-06-08 00:00:00, 1981-03-21 00:00:00)]</td>\n",
       "    </tr>\n",
       "    <tr>\n",
       "      <th>4</th>\n",
       "      <td>Peter Davison</td>\n",
       "      <td>Fifth Doctor</td>\n",
       "      <td>1981-03-21</td>\n",
       "      <td>1984-03-16</td>\n",
       "      <td>[(1981-03-21 00:00:00, 1984-03-16 00:00:00)]</td>\n",
       "    </tr>\n",
       "    <tr>\n",
       "      <th>5</th>\n",
       "      <td>Colin Baker</td>\n",
       "      <td>Sixth Doctor</td>\n",
       "      <td>1984-03-16</td>\n",
       "      <td>1986-12-06</td>\n",
       "      <td>[(1984-03-16 00:00:00, 1986-12-06 00:00:00)]</td>\n",
       "    </tr>\n",
       "    <tr>\n",
       "      <th>6</th>\n",
       "      <td>Sylvester McCoy</td>\n",
       "      <td>Seventh Doctor</td>\n",
       "      <td>1987-09-07</td>\n",
       "      <td>1989-12-06</td>\n",
       "      <td>[(1987-09-07 00:00:00, 1989-12-06 00:00:00)]</td>\n",
       "    </tr>\n",
       "    <tr>\n",
       "      <th>7</th>\n",
       "      <td>Paul McGann</td>\n",
       "      <td>Eighth Doctor</td>\n",
       "      <td>1996-05-27</td>\n",
       "      <td>1996-05-27</td>\n",
       "      <td>[(1996-05-27 00:00:00, 1996-05-27 00:00:00)]</td>\n",
       "    </tr>\n",
       "    <tr>\n",
       "      <th>8</th>\n",
       "      <td>Christopher Eccleston</td>\n",
       "      <td>Ninth Doctor</td>\n",
       "      <td>2005-03-26</td>\n",
       "      <td>2005-06-18</td>\n",
       "      <td>[(2005-03-26 00:00:00, 2005-06-18 00:00:00)]</td>\n",
       "    </tr>\n",
       "    <tr>\n",
       "      <th>9</th>\n",
       "      <td>David Tennant</td>\n",
       "      <td>Tenth Doctor</td>\n",
       "      <td>2005-06-18</td>\n",
       "      <td>2010-01-01</td>\n",
       "      <td>[(2005-06-18 00:00:00, 2010-01-01 00:00:00)]</td>\n",
       "    </tr>\n",
       "    <tr>\n",
       "      <th>10</th>\n",
       "      <td>Matt Smith</td>\n",
       "      <td>Eleventh Doctor</td>\n",
       "      <td>2010-01-01</td>\n",
       "      <td>2013-12-25</td>\n",
       "      <td>[(2010-01-01 00:00:00, 2013-12-25 00:00:00)]</td>\n",
       "    </tr>\n",
       "    <tr>\n",
       "      <th>11</th>\n",
       "      <td>Peter Capaldi</td>\n",
       "      <td>Twelfth Doctor</td>\n",
       "      <td>2013-12-25</td>\n",
       "      <td>2017-12-25</td>\n",
       "      <td>[(2013-12-25 00:00:00, 2017-12-25 00:00:00)]</td>\n",
       "    </tr>\n",
       "    <tr>\n",
       "      <th>12</th>\n",
       "      <td>Jodie Whittaker</td>\n",
       "      <td>Thirteenth Doctor</td>\n",
       "      <td>2017-12-25</td>\n",
       "      <td>2022-10-23</td>\n",
       "      <td>[(2017-12-25 00:00:00, 2022-10-23 00:00:00)]</td>\n",
       "    </tr>\n",
       "    <tr>\n",
       "      <th>13</th>\n",
       "      <td>David Tennant</td>\n",
       "      <td>Fourteenth Doctor</td>\n",
       "      <td>2022-10-23</td>\n",
       "      <td>2023-12-09</td>\n",
       "      <td>[(2022-10-23 00:00:00, 2023-12-09 00:00:00)]</td>\n",
       "    </tr>\n",
       "    <tr>\n",
       "      <th>14</th>\n",
       "      <td>Ncuti Gatwa</td>\n",
       "      <td>Fifteenth Doctor</td>\n",
       "      <td>2023-12-09</td>\n",
       "      <td>2025-03-31</td>\n",
       "      <td>[(2023-12-09 00:00:00, 2025-03-31 00:00:00)]</td>\n",
       "    </tr>\n",
       "  </tbody>\n",
       "</table>\n",
       "</div>"
      ],
      "text/plain": [
       "                   Doctor      Doctor Number Start Date   End Date  \\\n",
       "0        William Hartnell       First Doctor 1963-11-23 1966-10-29   \n",
       "1       Patrick Troughton      Second Doctor 1966-10-29 1969-06-21   \n",
       "2             Jon Pertwee       Third Doctor 1970-01-03 1974-06-08   \n",
       "3               Tom Baker      Fourth Doctor 1974-06-08 1981-03-21   \n",
       "4           Peter Davison       Fifth Doctor 1981-03-21 1984-03-16   \n",
       "5             Colin Baker       Sixth Doctor 1984-03-16 1986-12-06   \n",
       "6         Sylvester McCoy     Seventh Doctor 1987-09-07 1989-12-06   \n",
       "7             Paul McGann      Eighth Doctor 1996-05-27 1996-05-27   \n",
       "8   Christopher Eccleston       Ninth Doctor 2005-03-26 2005-06-18   \n",
       "9           David Tennant       Tenth Doctor 2005-06-18 2010-01-01   \n",
       "10             Matt Smith    Eleventh Doctor 2010-01-01 2013-12-25   \n",
       "11          Peter Capaldi     Twelfth Doctor 2013-12-25 2017-12-25   \n",
       "12        Jodie Whittaker  Thirteenth Doctor 2017-12-25 2022-10-23   \n",
       "13          David Tennant  Fourteenth Doctor 2022-10-23 2023-12-09   \n",
       "14            Ncuti Gatwa   Fifteenth Doctor 2023-12-09 2025-03-31   \n",
       "\n",
       "                                        StartEnd  \n",
       "0   [(1963-11-23 00:00:00, 1966-10-29 00:00:00)]  \n",
       "1   [(1966-10-29 00:00:00, 1969-06-21 00:00:00)]  \n",
       "2   [(1970-01-03 00:00:00, 1974-06-08 00:00:00)]  \n",
       "3   [(1974-06-08 00:00:00, 1981-03-21 00:00:00)]  \n",
       "4   [(1981-03-21 00:00:00, 1984-03-16 00:00:00)]  \n",
       "5   [(1984-03-16 00:00:00, 1986-12-06 00:00:00)]  \n",
       "6   [(1987-09-07 00:00:00, 1989-12-06 00:00:00)]  \n",
       "7   [(1996-05-27 00:00:00, 1996-05-27 00:00:00)]  \n",
       "8   [(2005-03-26 00:00:00, 2005-06-18 00:00:00)]  \n",
       "9   [(2005-06-18 00:00:00, 2010-01-01 00:00:00)]  \n",
       "10  [(2010-01-01 00:00:00, 2013-12-25 00:00:00)]  \n",
       "11  [(2013-12-25 00:00:00, 2017-12-25 00:00:00)]  \n",
       "12  [(2017-12-25 00:00:00, 2022-10-23 00:00:00)]  \n",
       "13  [(2022-10-23 00:00:00, 2023-12-09 00:00:00)]  \n",
       "14  [(2023-12-09 00:00:00, 2025-03-31 00:00:00)]  "
      ]
     },
     "execution_count": 35,
     "metadata": {},
     "output_type": "execute_result"
    }
   ],
   "source": [
    "doctor_tenures"
   ]
  },
  {
   "cell_type": "markdown",
   "id": "b437d035-29ae-4598-a2ff-2ac2149ac2c8",
   "metadata": {},
   "source": [
    "We can create a dictionary that stores the start date of each performer."
   ]
  },
  {
   "cell_type": "code",
   "execution_count": 36,
   "id": "08fd4910-5843-448b-9534-5ca36bc90a24",
   "metadata": {
    "execution": {
     "iopub.execute_input": "2025-03-31T22:07:44.499106Z",
     "iopub.status.busy": "2025-03-31T22:07:44.499106Z",
     "iopub.status.idle": "2025-03-31T22:07:44.509442Z",
     "shell.execute_reply": "2025-03-31T22:07:44.507684Z",
     "shell.execute_reply.started": "2025-03-31T22:07:44.499106Z"
    }
   },
   "outputs": [],
   "source": [
    "#Create empty dictionary\n",
    "start_date_timeline = {}\n",
    "\n",
    "#Store start, end dates as values with actors as keys:\n",
    "for key, value in zip(doctor_tenures['Doctor'], doctor_tenures['Start Date']):\n",
    "    #Check to see if actor is already stored as key:\n",
    "    if key not in start_date_timeline.keys():\n",
    "        start_date_timeline[key] = value"
   ]
  },
  {
   "cell_type": "code",
   "execution_count": 37,
   "id": "1bbf81bb-1ab4-4b11-8693-f191b7326d74",
   "metadata": {
    "execution": {
     "iopub.execute_input": "2025-03-31T22:07:44.708197Z",
     "iopub.status.busy": "2025-03-31T22:07:44.708197Z",
     "iopub.status.idle": "2025-03-31T22:07:44.720314Z",
     "shell.execute_reply": "2025-03-31T22:07:44.719261Z",
     "shell.execute_reply.started": "2025-03-31T22:07:44.708197Z"
    }
   },
   "outputs": [
    {
     "data": {
      "text/plain": [
       "{'William Hartnell': Timestamp('1963-11-23 00:00:00'),\n",
       " 'Patrick Troughton': Timestamp('1966-10-29 00:00:00'),\n",
       " 'Jon Pertwee': Timestamp('1970-01-03 00:00:00'),\n",
       " 'Tom Baker': Timestamp('1974-06-08 00:00:00'),\n",
       " 'Peter Davison': Timestamp('1981-03-21 00:00:00'),\n",
       " 'Colin Baker': Timestamp('1984-03-16 00:00:00'),\n",
       " 'Sylvester McCoy': Timestamp('1987-09-07 00:00:00'),\n",
       " 'Paul McGann': Timestamp('1996-05-27 00:00:00'),\n",
       " 'Christopher Eccleston': Timestamp('2005-03-26 00:00:00'),\n",
       " 'David Tennant': Timestamp('2005-06-18 00:00:00'),\n",
       " 'Matt Smith': Timestamp('2010-01-01 00:00:00'),\n",
       " 'Peter Capaldi': Timestamp('2013-12-25 00:00:00'),\n",
       " 'Jodie Whittaker': Timestamp('2017-12-25 00:00:00'),\n",
       " 'Ncuti Gatwa': Timestamp('2023-12-09 00:00:00')}"
      ]
     },
     "execution_count": 37,
     "metadata": {},
     "output_type": "execute_result"
    }
   ],
   "source": [
    "start_date_timeline"
   ]
  },
  {
   "cell_type": "code",
   "execution_count": 38,
   "id": "dc70fec4-c764-4928-bfa0-e62683862a1f",
   "metadata": {
    "execution": {
     "iopub.execute_input": "2025-03-31T22:07:44.948469Z",
     "iopub.status.busy": "2025-03-31T22:07:44.948469Z",
     "iopub.status.idle": "2025-03-31T22:07:44.974273Z",
     "shell.execute_reply": "2025-03-31T22:07:44.973561Z",
     "shell.execute_reply.started": "2025-03-31T22:07:44.948469Z"
    }
   },
   "outputs": [
    {
     "data": {
      "text/html": [
       "<div>\n",
       "<style scoped>\n",
       "    .dataframe tbody tr th:only-of-type {\n",
       "        vertical-align: middle;\n",
       "    }\n",
       "\n",
       "    .dataframe tbody tr th {\n",
       "        vertical-align: top;\n",
       "    }\n",
       "\n",
       "    .dataframe thead th {\n",
       "        text-align: right;\n",
       "    }\n",
       "</style>\n",
       "<table border=\"1\" class=\"dataframe\">\n",
       "  <thead>\n",
       "    <tr style=\"text-align: right;\">\n",
       "      <th></th>\n",
       "      <th>Doctor</th>\n",
       "      <th>Doctor Number</th>\n",
       "      <th>Start Date</th>\n",
       "      <th>End Date</th>\n",
       "      <th>StartEnd</th>\n",
       "    </tr>\n",
       "  </thead>\n",
       "  <tbody>\n",
       "    <tr>\n",
       "      <th>0</th>\n",
       "      <td>William Hartnell</td>\n",
       "      <td>First Doctor</td>\n",
       "      <td>1963-11-23</td>\n",
       "      <td>1966-10-29</td>\n",
       "      <td>[(1963-11-23 00:00:00, 1966-10-29 00:00:00)]</td>\n",
       "    </tr>\n",
       "    <tr>\n",
       "      <th>1</th>\n",
       "      <td>Patrick Troughton</td>\n",
       "      <td>Second Doctor</td>\n",
       "      <td>1966-10-29</td>\n",
       "      <td>1969-06-21</td>\n",
       "      <td>[(1966-10-29 00:00:00, 1969-06-21 00:00:00)]</td>\n",
       "    </tr>\n",
       "    <tr>\n",
       "      <th>2</th>\n",
       "      <td>Jon Pertwee</td>\n",
       "      <td>Third Doctor</td>\n",
       "      <td>1970-01-03</td>\n",
       "      <td>1974-06-08</td>\n",
       "      <td>[(1970-01-03 00:00:00, 1974-06-08 00:00:00)]</td>\n",
       "    </tr>\n",
       "    <tr>\n",
       "      <th>3</th>\n",
       "      <td>Tom Baker</td>\n",
       "      <td>Fourth Doctor</td>\n",
       "      <td>1974-06-08</td>\n",
       "      <td>1981-03-21</td>\n",
       "      <td>[(1974-06-08 00:00:00, 1981-03-21 00:00:00)]</td>\n",
       "    </tr>\n",
       "    <tr>\n",
       "      <th>4</th>\n",
       "      <td>Peter Davison</td>\n",
       "      <td>Fifth Doctor</td>\n",
       "      <td>1981-03-21</td>\n",
       "      <td>1984-03-16</td>\n",
       "      <td>[(1981-03-21 00:00:00, 1984-03-16 00:00:00)]</td>\n",
       "    </tr>\n",
       "    <tr>\n",
       "      <th>5</th>\n",
       "      <td>Colin Baker</td>\n",
       "      <td>Sixth Doctor</td>\n",
       "      <td>1984-03-16</td>\n",
       "      <td>1986-12-06</td>\n",
       "      <td>[(1984-03-16 00:00:00, 1986-12-06 00:00:00)]</td>\n",
       "    </tr>\n",
       "    <tr>\n",
       "      <th>6</th>\n",
       "      <td>Sylvester McCoy</td>\n",
       "      <td>Seventh Doctor</td>\n",
       "      <td>1987-09-07</td>\n",
       "      <td>1989-12-06</td>\n",
       "      <td>[(1987-09-07 00:00:00, 1989-12-06 00:00:00)]</td>\n",
       "    </tr>\n",
       "    <tr>\n",
       "      <th>7</th>\n",
       "      <td>Paul McGann</td>\n",
       "      <td>Eighth Doctor</td>\n",
       "      <td>1996-05-27</td>\n",
       "      <td>1996-05-27</td>\n",
       "      <td>[(1996-05-27 00:00:00, 1996-05-27 00:00:00)]</td>\n",
       "    </tr>\n",
       "    <tr>\n",
       "      <th>8</th>\n",
       "      <td>Christopher Eccleston</td>\n",
       "      <td>Ninth Doctor</td>\n",
       "      <td>2005-03-26</td>\n",
       "      <td>2005-06-18</td>\n",
       "      <td>[(2005-03-26 00:00:00, 2005-06-18 00:00:00)]</td>\n",
       "    </tr>\n",
       "    <tr>\n",
       "      <th>9</th>\n",
       "      <td>David Tennant</td>\n",
       "      <td>Tenth Doctor</td>\n",
       "      <td>2005-06-18</td>\n",
       "      <td>2010-01-01</td>\n",
       "      <td>[(2005-06-18 00:00:00, 2010-01-01 00:00:00)]</td>\n",
       "    </tr>\n",
       "    <tr>\n",
       "      <th>10</th>\n",
       "      <td>Matt Smith</td>\n",
       "      <td>Eleventh Doctor</td>\n",
       "      <td>2010-01-01</td>\n",
       "      <td>2013-12-25</td>\n",
       "      <td>[(2010-01-01 00:00:00, 2013-12-25 00:00:00)]</td>\n",
       "    </tr>\n",
       "    <tr>\n",
       "      <th>11</th>\n",
       "      <td>Peter Capaldi</td>\n",
       "      <td>Twelfth Doctor</td>\n",
       "      <td>2013-12-25</td>\n",
       "      <td>2017-12-25</td>\n",
       "      <td>[(2013-12-25 00:00:00, 2017-12-25 00:00:00)]</td>\n",
       "    </tr>\n",
       "    <tr>\n",
       "      <th>12</th>\n",
       "      <td>Jodie Whittaker</td>\n",
       "      <td>Thirteenth Doctor</td>\n",
       "      <td>2017-12-25</td>\n",
       "      <td>2022-10-23</td>\n",
       "      <td>[(2017-12-25 00:00:00, 2022-10-23 00:00:00)]</td>\n",
       "    </tr>\n",
       "    <tr>\n",
       "      <th>13</th>\n",
       "      <td>David Tennant</td>\n",
       "      <td>Fourteenth Doctor</td>\n",
       "      <td>2022-10-23</td>\n",
       "      <td>2023-12-09</td>\n",
       "      <td>[(2022-10-23 00:00:00, 2023-12-09 00:00:00)]</td>\n",
       "    </tr>\n",
       "    <tr>\n",
       "      <th>14</th>\n",
       "      <td>Ncuti Gatwa</td>\n",
       "      <td>Fifteenth Doctor</td>\n",
       "      <td>2023-12-09</td>\n",
       "      <td>2025-03-31</td>\n",
       "      <td>[(2023-12-09 00:00:00, 2025-03-31 00:00:00)]</td>\n",
       "    </tr>\n",
       "  </tbody>\n",
       "</table>\n",
       "</div>"
      ],
      "text/plain": [
       "                   Doctor      Doctor Number Start Date   End Date  \\\n",
       "0        William Hartnell       First Doctor 1963-11-23 1966-10-29   \n",
       "1       Patrick Troughton      Second Doctor 1966-10-29 1969-06-21   \n",
       "2             Jon Pertwee       Third Doctor 1970-01-03 1974-06-08   \n",
       "3               Tom Baker      Fourth Doctor 1974-06-08 1981-03-21   \n",
       "4           Peter Davison       Fifth Doctor 1981-03-21 1984-03-16   \n",
       "5             Colin Baker       Sixth Doctor 1984-03-16 1986-12-06   \n",
       "6         Sylvester McCoy     Seventh Doctor 1987-09-07 1989-12-06   \n",
       "7             Paul McGann      Eighth Doctor 1996-05-27 1996-05-27   \n",
       "8   Christopher Eccleston       Ninth Doctor 2005-03-26 2005-06-18   \n",
       "9           David Tennant       Tenth Doctor 2005-06-18 2010-01-01   \n",
       "10             Matt Smith    Eleventh Doctor 2010-01-01 2013-12-25   \n",
       "11          Peter Capaldi     Twelfth Doctor 2013-12-25 2017-12-25   \n",
       "12        Jodie Whittaker  Thirteenth Doctor 2017-12-25 2022-10-23   \n",
       "13          David Tennant  Fourteenth Doctor 2022-10-23 2023-12-09   \n",
       "14            Ncuti Gatwa   Fifteenth Doctor 2023-12-09 2025-03-31   \n",
       "\n",
       "                                        StartEnd  \n",
       "0   [(1963-11-23 00:00:00, 1966-10-29 00:00:00)]  \n",
       "1   [(1966-10-29 00:00:00, 1969-06-21 00:00:00)]  \n",
       "2   [(1970-01-03 00:00:00, 1974-06-08 00:00:00)]  \n",
       "3   [(1974-06-08 00:00:00, 1981-03-21 00:00:00)]  \n",
       "4   [(1981-03-21 00:00:00, 1984-03-16 00:00:00)]  \n",
       "5   [(1984-03-16 00:00:00, 1986-12-06 00:00:00)]  \n",
       "6   [(1987-09-07 00:00:00, 1989-12-06 00:00:00)]  \n",
       "7   [(1996-05-27 00:00:00, 1996-05-27 00:00:00)]  \n",
       "8   [(2005-03-26 00:00:00, 2005-06-18 00:00:00)]  \n",
       "9   [(2005-06-18 00:00:00, 2010-01-01 00:00:00)]  \n",
       "10  [(2010-01-01 00:00:00, 2013-12-25 00:00:00)]  \n",
       "11  [(2013-12-25 00:00:00, 2017-12-25 00:00:00)]  \n",
       "12  [(2017-12-25 00:00:00, 2022-10-23 00:00:00)]  \n",
       "13  [(2022-10-23 00:00:00, 2023-12-09 00:00:00)]  \n",
       "14  [(2023-12-09 00:00:00, 2025-03-31 00:00:00)]  "
      ]
     },
     "execution_count": 38,
     "metadata": {},
     "output_type": "execute_result"
    }
   ],
   "source": [
    "doctor_tenures"
   ]
  },
  {
   "cell_type": "markdown",
   "id": "718f8a4c-5d22-4a31-96e0-fa5f36a78349",
   "metadata": {},
   "source": [
    "Next we can get the durations of each performer's stint as The Doctor by subtracting the start date timestamp from the end date timestamp, in our StartEnd column."
   ]
  },
  {
   "cell_type": "code",
   "execution_count": 39,
   "id": "a737c117-3576-4c40-aeb4-2162b0ba9dfb",
   "metadata": {
    "execution": {
     "iopub.execute_input": "2025-03-31T22:07:45.397882Z",
     "iopub.status.busy": "2025-03-31T22:07:45.396180Z",
     "iopub.status.idle": "2025-03-31T22:07:45.413460Z",
     "shell.execute_reply": "2025-03-31T22:07:45.413460Z",
     "shell.execute_reply.started": "2025-03-31T22:07:45.397882Z"
    }
   },
   "outputs": [],
   "source": [
    "doctor_tenures['timediff'] = doctor_tenures['StartEnd'].apply(lambda x: [y[1] - y[0] for y in x])"
   ]
  },
  {
   "cell_type": "markdown",
   "id": "61273a1b-29f9-4780-b400-25bafe2fb4ad",
   "metadata": {},
   "source": [
    "## What About David Tennant? - Pandas `.groupby()`\n",
    "\n",
    "As both the Tenth and Fourteenth Doctor, David Tennant is an anomaly among Doctors. If we want to avoid redunant entries, we need to use Pandas `.groupby()` to combine his entries.\n",
    "\n",
    "This is a fairly complex sequence of nested object methods: \n",
    "\n",
    "First, we use `.groupby()` to merge rows with the same value in the specified column (\"Doctor\").\n",
    "\n",
    "Then we specify the columns to be combined (\"StartEnd\", \"timediff\"), use `.sum()` to add the values (or in this case, concatenate them)\n",
    "\n",
    "Next, we use `.sort_values()` to reorder the entries based on which actor started first (following the order specified in `start_date_timeline`).\n",
    "\n",
    "The `.map()` method allows us to pass in a custom dictionary for the order rather than relying on the default ascending/descending sort."
   ]
  },
  {
   "cell_type": "code",
   "execution_count": 40,
   "id": "4be12e84-9e10-48b3-a048-7126ec7f7beb",
   "metadata": {
    "execution": {
     "iopub.execute_input": "2025-03-31T22:07:45.880523Z",
     "iopub.status.busy": "2025-03-31T22:07:45.880523Z",
     "iopub.status.idle": "2025-03-31T22:07:45.936764Z",
     "shell.execute_reply": "2025-03-31T22:07:45.936764Z",
     "shell.execute_reply.started": "2025-03-31T22:07:45.880523Z"
    }
   },
   "outputs": [
    {
     "data": {
      "text/html": [
       "<div>\n",
       "<style scoped>\n",
       "    .dataframe tbody tr th:only-of-type {\n",
       "        vertical-align: middle;\n",
       "    }\n",
       "\n",
       "    .dataframe tbody tr th {\n",
       "        vertical-align: top;\n",
       "    }\n",
       "\n",
       "    .dataframe thead th {\n",
       "        text-align: right;\n",
       "    }\n",
       "</style>\n",
       "<table border=\"1\" class=\"dataframe\">\n",
       "  <thead>\n",
       "    <tr style=\"text-align: right;\">\n",
       "      <th></th>\n",
       "      <th>Doctor</th>\n",
       "      <th>StartEnd</th>\n",
       "      <th>timediff</th>\n",
       "    </tr>\n",
       "  </thead>\n",
       "  <tbody>\n",
       "    <tr>\n",
       "      <th>0</th>\n",
       "      <td>William Hartnell</td>\n",
       "      <td>[(1963-11-23 00:00:00, 1966-10-29 00:00:00)]</td>\n",
       "      <td>[1071 days 00:00:00]</td>\n",
       "    </tr>\n",
       "    <tr>\n",
       "      <th>1</th>\n",
       "      <td>Patrick Troughton</td>\n",
       "      <td>[(1966-10-29 00:00:00, 1969-06-21 00:00:00)]</td>\n",
       "      <td>[966 days 00:00:00]</td>\n",
       "    </tr>\n",
       "    <tr>\n",
       "      <th>2</th>\n",
       "      <td>Jon Pertwee</td>\n",
       "      <td>[(1970-01-03 00:00:00, 1974-06-08 00:00:00)]</td>\n",
       "      <td>[1617 days 00:00:00]</td>\n",
       "    </tr>\n",
       "    <tr>\n",
       "      <th>3</th>\n",
       "      <td>Tom Baker</td>\n",
       "      <td>[(1974-06-08 00:00:00, 1981-03-21 00:00:00)]</td>\n",
       "      <td>[2478 days 00:00:00]</td>\n",
       "    </tr>\n",
       "    <tr>\n",
       "      <th>4</th>\n",
       "      <td>Peter Davison</td>\n",
       "      <td>[(1981-03-21 00:00:00, 1984-03-16 00:00:00)]</td>\n",
       "      <td>[1091 days 00:00:00]</td>\n",
       "    </tr>\n",
       "    <tr>\n",
       "      <th>5</th>\n",
       "      <td>Colin Baker</td>\n",
       "      <td>[(1984-03-16 00:00:00, 1986-12-06 00:00:00)]</td>\n",
       "      <td>[995 days 00:00:00]</td>\n",
       "    </tr>\n",
       "    <tr>\n",
       "      <th>6</th>\n",
       "      <td>Sylvester McCoy</td>\n",
       "      <td>[(1987-09-07 00:00:00, 1989-12-06 00:00:00)]</td>\n",
       "      <td>[821 days 00:00:00]</td>\n",
       "    </tr>\n",
       "    <tr>\n",
       "      <th>7</th>\n",
       "      <td>Paul McGann</td>\n",
       "      <td>[(1996-05-27 00:00:00, 1996-05-27 00:00:00)]</td>\n",
       "      <td>[0 days 00:00:00]</td>\n",
       "    </tr>\n",
       "    <tr>\n",
       "      <th>8</th>\n",
       "      <td>Christopher Eccleston</td>\n",
       "      <td>[(2005-03-26 00:00:00, 2005-06-18 00:00:00)]</td>\n",
       "      <td>[84 days 00:00:00]</td>\n",
       "    </tr>\n",
       "    <tr>\n",
       "      <th>9</th>\n",
       "      <td>David Tennant</td>\n",
       "      <td>[(2005-06-18 00:00:00, 2010-01-01 00:00:00), (...</td>\n",
       "      <td>[1658 days 00:00:00, 412 days 00:00:00]</td>\n",
       "    </tr>\n",
       "    <tr>\n",
       "      <th>10</th>\n",
       "      <td>Matt Smith</td>\n",
       "      <td>[(2010-01-01 00:00:00, 2013-12-25 00:00:00)]</td>\n",
       "      <td>[1454 days 00:00:00]</td>\n",
       "    </tr>\n",
       "    <tr>\n",
       "      <th>11</th>\n",
       "      <td>Peter Capaldi</td>\n",
       "      <td>[(2013-12-25 00:00:00, 2017-12-25 00:00:00)]</td>\n",
       "      <td>[1461 days 00:00:00]</td>\n",
       "    </tr>\n",
       "    <tr>\n",
       "      <th>12</th>\n",
       "      <td>Jodie Whittaker</td>\n",
       "      <td>[(2017-12-25 00:00:00, 2022-10-23 00:00:00)]</td>\n",
       "      <td>[1763 days 00:00:00]</td>\n",
       "    </tr>\n",
       "    <tr>\n",
       "      <th>13</th>\n",
       "      <td>Ncuti Gatwa</td>\n",
       "      <td>[(2023-12-09 00:00:00, 2025-03-31 00:00:00)]</td>\n",
       "      <td>[478 days 00:00:00]</td>\n",
       "    </tr>\n",
       "  </tbody>\n",
       "</table>\n",
       "</div>"
      ],
      "text/plain": [
       "                   Doctor                                           StartEnd  \\\n",
       "0        William Hartnell       [(1963-11-23 00:00:00, 1966-10-29 00:00:00)]   \n",
       "1       Patrick Troughton       [(1966-10-29 00:00:00, 1969-06-21 00:00:00)]   \n",
       "2             Jon Pertwee       [(1970-01-03 00:00:00, 1974-06-08 00:00:00)]   \n",
       "3               Tom Baker       [(1974-06-08 00:00:00, 1981-03-21 00:00:00)]   \n",
       "4           Peter Davison       [(1981-03-21 00:00:00, 1984-03-16 00:00:00)]   \n",
       "5             Colin Baker       [(1984-03-16 00:00:00, 1986-12-06 00:00:00)]   \n",
       "6         Sylvester McCoy       [(1987-09-07 00:00:00, 1989-12-06 00:00:00)]   \n",
       "7             Paul McGann       [(1996-05-27 00:00:00, 1996-05-27 00:00:00)]   \n",
       "8   Christopher Eccleston       [(2005-03-26 00:00:00, 2005-06-18 00:00:00)]   \n",
       "9           David Tennant  [(2005-06-18 00:00:00, 2010-01-01 00:00:00), (...   \n",
       "10             Matt Smith       [(2010-01-01 00:00:00, 2013-12-25 00:00:00)]   \n",
       "11          Peter Capaldi       [(2013-12-25 00:00:00, 2017-12-25 00:00:00)]   \n",
       "12        Jodie Whittaker       [(2017-12-25 00:00:00, 2022-10-23 00:00:00)]   \n",
       "13            Ncuti Gatwa       [(2023-12-09 00:00:00, 2025-03-31 00:00:00)]   \n",
       "\n",
       "                                   timediff  \n",
       "0                      [1071 days 00:00:00]  \n",
       "1                       [966 days 00:00:00]  \n",
       "2                      [1617 days 00:00:00]  \n",
       "3                      [2478 days 00:00:00]  \n",
       "4                      [1091 days 00:00:00]  \n",
       "5                       [995 days 00:00:00]  \n",
       "6                       [821 days 00:00:00]  \n",
       "7                         [0 days 00:00:00]  \n",
       "8                        [84 days 00:00:00]  \n",
       "9   [1658 days 00:00:00, 412 days 00:00:00]  \n",
       "10                     [1454 days 00:00:00]  \n",
       "11                     [1461 days 00:00:00]  \n",
       "12                     [1763 days 00:00:00]  \n",
       "13                      [478 days 00:00:00]  "
      ]
     },
     "execution_count": 40,
     "metadata": {},
     "output_type": "execute_result"
    }
   ],
   "source": [
    "doc_tenures_graph = doctor_tenures.groupby('Doctor', as_index=False)[['StartEnd', 'timediff']].sum().sort_values(by=['Doctor'], key=lambda x: x.map(start_date_timeline))\n",
    "\n",
    "doc_tenures_graph.reset_index(inplace=True, drop=True)\n",
    "doc_tenures_graph"
   ]
  },
  {
   "cell_type": "markdown",
   "id": "1772728b-edcd-4778-b499-15d5badca632",
   "metadata": {},
   "source": [
    "# Visualization"
   ]
  },
  {
   "attachments": {
    "82e15824-fd41-4dd3-95f9-0fa064147c08.png": {
     "image/png": "[encoded data removed]"
    }
   },
   "cell_type": "markdown",
   "id": "dfe664e1-f706-4bfc-81d2-a9abb08cdac3",
   "metadata": {},
   "source": [
    "[Example of Timeline Plot](https://deparkes.co.uk/2021/09/05/python-timeline-plot/) for period settings of television shows set in the UK. We can base our visualization on this example, but we will need to alter some lines of code to better suit our purposes.\n",
    "\n",
    "Please note: the UK television link contains Plotly examples that refer to this type of chart as a \"Gantt chart\"; while there are similarities between Gantt charts and this kind of visualization, [Gantt charts](https://en.wikipedia.org/wiki/Gantt_chart) are specifically designed for coordinating tasks for project scheduling.\n",
    "\n",
    "![image.png](attachment:82e15824-fd41-4dd3-95f9-0fa064147c08.png)"
   ]
  },
  {
   "cell_type": "markdown",
   "id": "100fe9dd-eec7-477e-a580-79898982664f",
   "metadata": {},
   "source": [
    "## Doctor Timeline"
   ]
  },
  {
   "cell_type": "markdown",
   "id": "9fc50977-3734-40c6-99cc-4a97a727495d",
   "metadata": {},
   "source": [
    "Following the template in the example above, we can construct our own broken horizontal bar graph to show the durations of each actor's tenure. We're going to try to get a working prototype before we consdier how to deal with David Tennant's particular situation."
   ]
  },
  {
   "cell_type": "markdown",
   "id": "c945f439-445f-426f-91a6-8bb93f4e5f2a",
   "metadata": {},
   "source": [
    "### Graph 1"
   ]
  },
  {
   "cell_type": "code",
   "execution_count": 45,
   "id": "2222fb98-3c32-4d10-9d2e-0eb716567dc0",
   "metadata": {
    "execution": {
     "iopub.execute_input": "2025-03-31T22:27:48.796516Z",
     "iopub.status.busy": "2025-03-31T22:27:48.780164Z",
     "iopub.status.idle": "2025-03-31T22:27:49.730767Z",
     "shell.execute_reply": "2025-03-31T22:27:49.730767Z",
     "shell.execute_reply.started": "2025-03-31T22:27:48.794503Z"
    }
   },
   "outputs": [
    {
     "data": {
      "image/png": "[encoded data removed]",
      "text/plain": [
       "<Figure size 1400x1000 with 1 Axes>"
      ]
     },
     "metadata": {},
     "output_type": "display_data"
    }
   ],
   "source": [
    "#\"padding\" will give some dimension to extremely short entries\n",
    "#Paul McGann's stint as the Doctor has 0 length, so it would be invisible without padding\n",
    "padding = datetime.timedelta(days=31)\n",
    "\n",
    "#Create the figure and axes for the timeline:\n",
    "fig, gnt = plt.subplots(figsize = (14, 10))\n",
    "\n",
    "#Set labels for Y-Axis\n",
    "y_tick_labels = doctor_tenures.sort_values(by='Start Date')['Doctor']\n",
    "y_pos = np.arange(len(y_tick_labels))\n",
    "gnt.set_yticks(y_pos)\n",
    "gnt.set_yticklabels(y_tick_labels)\n",
    "\n",
    "#Plot the actor's stints, sorting by their start dates\n",
    "for index, row in doctor_tenures.sort_values(by='Start Date').reset_index().iterrows():\n",
    "    start_date = row['Start Date']\n",
    "    duration = row['timediff'][0]\n",
    "    \n",
    "    gnt.broken_barh([(start_date-padding, duration+padding)], \n",
    "                    (index-0.5,0.8), \n",
    "                    facecolors =('cornflowerblue'),\n",
    "                   label=row['Doctor'])\n",
    "    gnt.text(start_date+padding, index-0.2, row['Doctor'])"
   ]
  },
  {
   "cell_type": "markdown",
   "id": "1b2f9992-a14d-4d78-80e8-ad7da6fe535c",
   "metadata": {},
   "source": [
    "### Graph 2"
   ]
  },
  {
   "cell_type": "markdown",
   "id": "03e40e4c-d893-4727-bf79-ace688156339",
   "metadata": {},
   "source": [
    "There are two David Tennants... while in the Whoniverse, the Tenth and Fourteenth Doctors are separate regenerations of the same entity, the real David Tennant has gone through no such transformative process (at least, not that we know of). Let's tidy this up by aligning both his stints as The Doctor in the same row.\n",
    "\n",
    "We can accomplish this by using list comprehensions for each actor's start dates and the durations of their tenures, and then adding features to the graph based on the contents of those freshly-generated lists."
   ]
  },
  {
   "cell_type": "code",
   "execution_count": 53,
   "id": "a9778efb-739a-4f5d-be53-3ec163f20e71",
   "metadata": {
    "execution": {
     "iopub.execute_input": "2025-03-31T22:33:12.330431Z",
     "iopub.status.busy": "2025-03-31T22:33:12.329735Z",
     "iopub.status.idle": "2025-03-31T22:33:12.698188Z",
     "shell.execute_reply": "2025-03-31T22:33:12.697063Z",
     "shell.execute_reply.started": "2025-03-31T22:33:12.330431Z"
    }
   },
   "outputs": [
    {
     "data": {
      "image/png": "[encoded data removed]",
      "text/plain": [
       "<Figure size 1400x1000 with 1 Axes>"
      ]
     },
     "metadata": {},
     "output_type": "display_data"
    }
   ],
   "source": [
    "#\"padding\" will give some dimension to extremely short entries\n",
    "#Paul McGann's stint as the Doctor has 0 length, so it would be invisible without padding\n",
    "padding = datetime.timedelta(days=31)\n",
    "\n",
    "#Create the figure and axes for the timeline:\n",
    "fig, gnt = plt.subplots(figsize = (14, 10))\n",
    "\n",
    "#Set labels for Y-Axis\n",
    "y_tick_labels = doc_tenures_graph['Doctor']\n",
    "y_pos = np.arange(len(y_tick_labels))\n",
    "gnt.set_yticks(y_pos)\n",
    "gnt.set_yticklabels(y_tick_labels)\n",
    "\n",
    "#Plot the actor's stints, sorting by their INITIAL start dates\n",
    "for index, row in doc_tenures_graph.iterrows():\n",
    "\n",
    "    #Use list comprehensions to create sequence of start/end dates for each performer:\n",
    "    start_dates = [x[0] for x in row['StartEnd']]\n",
    "    durations = [y for y in row['timediff']]\n",
    "\n",
    "    gnt.broken_barh([(start_date-padding, duration+padding) for start_date, duration in zip(start_dates, durations)], \n",
    "                    (index-0.5,0.8), \n",
    "                    facecolors =('cornflowerblue'),\n",
    "                   label=row['Doctor'])\n",
    "    gnt.text(start_dates[0]+padding*10, index-0.2, row['Doctor'])\n",
    "    if len(start_dates) > 1:\n",
    "        gnt.text(start_dates[1]+padding*10, index-0.2, row['Doctor'])\n",
    "\n",
    "plt.title('Doctor Who - Actor Timeline')\n",
    "plt.ylabel('Performer')\n",
    "plt.xlabel('Year')\n",
    "\n",
    "plt.show()"
   ]
  },
  {
   "cell_type": "markdown",
   "id": "077ae19f-9741-4260-8f13-121b85ab4e6f",
   "metadata": {},
   "source": [
    "# End of Module 2"
   ]
  },
  {
   "cell_type": "code",
   "execution_count": null,
   "id": "3aed8d9f-785a-4793-ad77-d75265c40cb5",
   "metadata": {},
   "outputs": [],
   "source": []
  }
 ],
 "metadata": {
  "kernelspec": {
   "display_name": "Python 3 (ipykernel)",
   "language": "python",
   "name": "python3"
  },
  "language_info": {
   "codemirror_mode": {
    "name": "ipython",
    "version": 3
   },
   "file_extension": ".py",
   "mimetype": "text/x-python",
   "name": "python",
   "nbconvert_exporter": "python",
   "pygments_lexer": "ipython3",
   "version": "3.12.9"
  }
 },
 "nbformat": 4,
 "nbformat_minor": 5
}
