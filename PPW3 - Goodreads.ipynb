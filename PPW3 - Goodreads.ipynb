{
 "cells": [
  {
   "cell_type": "markdown",
   "id": "33b24375-0792-4fde-a29e-fdc57be4d2fc",
   "metadata": {
    "execution": {
     "iopub.execute_input": "2025-02-08T01:26:43.347113Z",
     "iopub.status.busy": "2025-02-08T01:26:43.345107Z",
     "iopub.status.idle": "2025-02-08T01:26:43.355286Z",
     "shell.execute_reply": "2025-02-08T01:26:43.354273Z",
     "shell.execute_reply.started": "2025-02-08T01:26:43.347113Z"
    }
   },
   "source": [
    "# Kaggle Goodreads - Book Ratings"
   ]
  },
  {
   "cell_type": "markdown",
   "id": "bd362070-d5f8-45fc-940e-da801f59e54e",
   "metadata": {},
   "source": [
    "## Topics Covered\n",
    "* Reading in a badly-formatted dataset\n",
    "* Working with `bytes` objects and the `io` module\n",
    "* Cleaning *before* loading into pandas"
   ]
  },
  {
   "cell_type": "code",
   "execution_count": null,
   "id": "e4d4a4d6-4e4a-4066-a3fd-c73ed63e5d70",
   "metadata": {},
   "outputs": [],
   "source": [
    "import requests\n",
    "from io import BytesIO, StringIO\n",
    "\n",
    "import numpy as np\n",
    "import pandas as pd\n",
    "import matplotlib.pyplot as plt\n",
    "\n",
    "from scipy import stats "
   ]
  },
  {
   "cell_type": "markdown",
   "id": "8dcfc219-83bb-48f6-9d16-ee29db7c150c",
   "metadata": {},
   "source": [
    "This Goodreads dataset was originally posted on Kaggle:\n",
    "\n",
    "https://www.kaggle.com/datasets/jealousleopard/goodreadsbooks"
   ]
  },
  {
   "cell_type": "code",
   "execution_count": null,
   "id": "5b1c096c-0dc1-4fc7-93d3-8ad7404e17e4",
   "metadata": {
    "scrolled": true
   },
   "outputs": [],
   "source": [
    "#Incorrectly-formatted csv; fails to open. How do we fix it?\n",
    "#df = pd.read_csv('books.csv')\n",
    "\n",
    "books_csv_url = 'https://raw.githubusercontent.com/ClaremontCollegesLibrary/PersnicketyPython/refs/heads/main/books.csv'\n",
    "\n",
    "df = pd.read_csv(books_csv_url)"
   ]
  },
  {
   "cell_type": "markdown",
   "id": "a3739eae-0de3-46f0-9301-41b7fa9695a8",
   "metadata": {
    "jp-MarkdownHeadingCollapsed": true
   },
   "source": [
    "#### What does this ParserError mean? (Click to expand)"
   ]
  },
  {
   "cell_type": "markdown",
   "id": "e7a823b9-506e-4066-87a3-d70afeb9f6d2",
   "metadata": {},
   "source": [
    "`ParserError: Error tokenizing data. C error: Expected 12 fields in line 3350, saw 13` means that there are irregular numbers of commas on different lines the csv file, so the pandas `.read_csv()` method isn't able to parse the document correctly.\n",
    "\n",
    "This is frustrating, but we won't know how big a problem it is without investigating further."
   ]
  },
  {
   "cell_type": "markdown",
   "id": "a9b5369e-bb64-435a-a1d2-fa788ea01c88",
   "metadata": {},
   "source": [
    "### Looking at the Data"
   ]
  },
  {
   "cell_type": "markdown",
   "id": "b71f524c-6a72-47d7-acba-f6ac64492f55",
   "metadata": {},
   "source": [
    "Pandas's `.read_csv()` can pull directly from a csv file at a specific URL, but since it can't read the csv correctly, we have to load the file into memory another way. We can use the `requests` module to make an HTML \"get\" request and look at the content of the response."
   ]
  },
  {
   "cell_type": "code",
   "execution_count": null,
   "id": "2e566386-52c6-4346-a81c-bde960caedbb",
   "metadata": {
    "scrolled": true
   },
   "outputs": [],
   "source": [
    "books_csv = requests.get(books_csv_url).content"
   ]
  },
  {
   "cell_type": "markdown",
   "id": "e644440d-2587-4234-8a6e-3b4d18dd631a",
   "metadata": {},
   "source": [
    "Here are the first thousand characters of the csv file, returned as a Python [Bytes object](https://docs.python.org/3/library/stdtypes.html#bytes-objects)\n",
    "\n",
    "Bytes objects display similarly to Python strings (they are formatted like a string, with a \"b\" at the start before the quotes) but they are fundamentally different."
   ]
  },
  {
   "cell_type": "code",
   "execution_count": null,
   "id": "8eb3d2d5-d303-4e6f-9b25-196569c3319a",
   "metadata": {},
   "outputs": [],
   "source": [
    "books_csv[0:1000]"
   ]
  },
  {
   "cell_type": "markdown",
   "id": "b1d8a3e7-dcab-482b-8be2-0c5d52b1f2d5",
   "metadata": {},
   "source": [
    "At first glance, it looks like it's formatted correctly, but this file is thousands of lines long. Let's see if we can identify which rows are formatted incorrectly.\n",
    "\n",
    "First, we need to look for outliers in line length.\n",
    "\n",
    "To read in the Bytes object as a csv file, we need to use a mechanism called a context manager. This is essentially a way of opening and closing a file all in one sequence, so that system resources aren't left occupied and may be freed up for other processes. In Python, context managers typically take the form of a \"with... as\" statement.\n",
    "\n",
    "All the code within the \"with\" block "
   ]
  },
  {
   "cell_type": "code",
   "execution_count": null,
   "id": "befe17bf-1412-48f6-9f6e-6cfb1dcc79fd",
   "metadata": {
    "scrolled": true
   },
   "outputs": [],
   "source": [
    "commas = []\n",
    "\n",
    "with BytesIO(books_csv) as f:\n",
    "    lines = f.readlines()\n",
    "    for line in lines:\n",
    "        line = line.decode('utf-8')\n",
    "        commas.append(line.count(','))"
   ]
  },
  {
   "cell_type": "code",
   "execution_count": null,
   "id": "1c8f1212-f029-4ef5-8f4e-a33a99d17540",
   "metadata": {},
   "outputs": [],
   "source": [
    "#Running this code outside the \"with\" block will produce an error.\n",
    "\n",
    "#f.readlines()"
   ]
  },
  {
   "cell_type": "code",
   "execution_count": null,
   "id": "b337d39c-65d0-4940-a1e9-0d80ed0df35c",
   "metadata": {},
   "outputs": [],
   "source": [
    "set(commas)"
   ]
  },
  {
   "cell_type": "markdown",
   "id": "0c4f3907-0290-4f73-b23c-4a657d6eb0e9",
   "metadata": {},
   "source": [
    "If we look back at the first line of the csv, we see the following columns:\n",
    "\n",
    "bookID,title,authors,average_rating,isbn,isbn13,language_code,  num_pages,ratings_count,text_reviews_count,publication_date,publisher\n",
    "\n",
    "There are twelve in total, so there should be eleven commas per line separating entries. We need to look for lines that contain more than 11 commas."
   ]
  },
  {
   "cell_type": "code",
   "execution_count": null,
   "id": "7f8a16d5-e478-4ea2-b11f-9369398f3d69",
   "metadata": {
    "scrolled": true
   },
   "outputs": [],
   "source": [
    "with BytesIO(books_csv) as f:\n",
    "    lines = f.readlines()\n",
    "    for line in lines:\n",
    "        line = line.decode('utf-8')\n",
    "        \n",
    "        if line.count(',') > 11:\n",
    "            print(line)"
   ]
  },
  {
   "cell_type": "markdown",
   "id": "4d78f8ed-da9f-41c5-a9ff-6ad778a5e00d",
   "metadata": {},
   "source": [
    "Only four lines! That's manageable!\n",
    "\n",
    "We can use the `.replace()` string method to fix this pretty quickly. We just need to provide enough context around the comma so we don't accidentally replace text in other parts of the document."
   ]
  },
  {
   "cell_type": "code",
   "execution_count": null,
   "id": "7cd7a7ce-62bb-40b2-8453-48a314d82b20",
   "metadata": {
    "scrolled": true
   },
   "outputs": [],
   "source": [
    "with BytesIO(books_csv) as f:\n",
    "    content = f.read()\n",
    "    content = content.decode('utf-8')\n",
    "    content = content.replace(', Jr', ' Jr')\n",
    "    content = content.replace(', one of the', ' one of the')\n",
    "    content = content.replace('Wesley, Rawles', 'Wesley Rawles')\n",
    "    content = content.replace(', Son & Ferguson', ' Son & Ferguson')\n",
    "    df = pd.read_csv(StringIO(content), sep=',')"
   ]
  },
  {
   "cell_type": "markdown",
   "id": "1299b413-26a2-4cd3-a962-1cb396e486b9",
   "metadata": {},
   "source": [
    "*Note: if you are running this locally and pointing to a csv file on your hard drive instead of the result of an HTML \"get\" request, you should use the following code instead:*"
   ]
  },
  {
   "cell_type": "code",
   "execution_count": null,
   "id": "52abd010-b76d-4456-975f-ecdf3b9e5c11",
   "metadata": {},
   "outputs": [],
   "source": [
    "#with open(\"books.csv\", 'r', encoding='utf-8') as f:\n",
    "#    content = f.read()\n",
    "#    content = content.replace(', Jr', ' Jr')\n",
    "#    content = content.replace(', one of the', ' one of the')\n",
    "#    content = content.replace('Wesley, Rawles', 'Wesley Rawles')\n",
    "#    content = content.replace(', Son & Ferguson', ' Son & Ferguson')\n",
    "#    df = pd.read_csv(StringIO(content), sep=',')"
   ]
  },
  {
   "cell_type": "code",
   "execution_count": null,
   "id": "5fa449b5-6567-49b7-9a7f-df8ec0d36b63",
   "metadata": {
    "scrolled": true
   },
   "outputs": [],
   "source": [
    "df"
   ]
  },
  {
   "cell_type": "code",
   "execution_count": null,
   "id": "fd52c12d-8d48-451b-af3a-0b4c22785120",
   "metadata": {},
   "outputs": [],
   "source": [
    "df.info()"
   ]
  },
  {
   "cell_type": "markdown",
   "id": "08a2499b-97ff-4a96-b934-f398ba1e00ba",
   "metadata": {
    "execution": {
     "iopub.execute_input": "2025-01-09T20:10:26.518842Z",
     "iopub.status.busy": "2025-01-09T20:10:26.518842Z",
     "iopub.status.idle": "2025-01-09T20:10:26.525816Z",
     "shell.execute_reply": "2025-01-09T20:10:26.525816Z",
     "shell.execute_reply.started": "2025-01-09T20:10:26.518842Z"
    }
   },
   "source": [
    "### \"  num_pages\""
   ]
  },
  {
   "cell_type": "code",
   "execution_count": null,
   "id": "0be2d50b-bf6f-4943-a0f5-07b466f12481",
   "metadata": {},
   "outputs": [],
   "source": [
    "df.columns"
   ]
  },
  {
   "cell_type": "code",
   "execution_count": null,
   "id": "b300019a-23f2-48d4-b181-e493c94fac1e",
   "metadata": {},
   "outputs": [],
   "source": [
    "df.columns = [column.strip() for column in df.columns]"
   ]
  },
  {
   "cell_type": "code",
   "execution_count": null,
   "id": "7b62bb28-39fc-44fb-909f-c26a7a27f01a",
   "metadata": {},
   "outputs": [],
   "source": [
    "df.columns"
   ]
  },
  {
   "cell_type": "code",
   "execution_count": null,
   "id": "13ea9c9e-dd6a-4525-8578-726d27c065c5",
   "metadata": {
    "scrolled": true
   },
   "outputs": [],
   "source": [
    "df.describe()"
   ]
  },
  {
   "cell_type": "code",
   "execution_count": null,
   "id": "d527de8e-85c8-48d0-bf40-cdac24d159c1",
   "metadata": {
    "scrolled": true
   },
   "outputs": [],
   "source": [
    "df['language_code'].value_counts()"
   ]
  },
  {
   "cell_type": "code",
   "execution_count": null,
   "id": "578dee59-f6ed-41a9-9872-06886192b6d3",
   "metadata": {},
   "outputs": [],
   "source": [
    "plt.hist(df[df['num_pages'] < 2000]['num_pages'], bins=40)\n",
    "plt.title('Distribution of Page Count')\n",
    "plt.show()"
   ]
  },
  {
   "cell_type": "code",
   "execution_count": null,
   "id": "0fbeaccc-f312-4831-bca2-b262f3940889",
   "metadata": {},
   "outputs": [],
   "source": [
    "plt.hist(df['average_rating'], bins=40)\n",
    "plt.title('Distribution of User Ratings')\n",
    "plt.show()"
   ]
  },
  {
   "cell_type": "markdown",
   "id": "26ef6f15-0bc9-43ce-9ba9-a658c662f471",
   "metadata": {},
   "source": [
    "# Books with Mean Rating over 4.75 and 5+ Ratings"
   ]
  },
  {
   "cell_type": "code",
   "execution_count": null,
   "id": "71d62847-638e-4280-918c-f62f27076a6d",
   "metadata": {},
   "outputs": [],
   "source": [
    "df[(df['average_rating'] > 4.75) & (df['ratings_count'] > 5)]\n"
   ]
  },
  {
   "cell_type": "markdown",
   "id": "4f04d692-529e-4b4a-ac90-2d37507d6ed9",
   "metadata": {},
   "source": [
    "# End of Module 3"
   ]
  },
  {
   "cell_type": "code",
   "execution_count": null,
   "id": "7a018694-b01b-4d06-af7e-808a319dfd95",
   "metadata": {},
   "outputs": [],
   "source": []
  }
 ],
 "metadata": {
  "kernelspec": {
   "display_name": "Python 3 (ipykernel)",
   "language": "python",
   "name": "python3"
  },
  "language_info": {
   "codemirror_mode": {
    "name": "ipython",
    "version": 3
   },
   "file_extension": ".py",
   "mimetype": "text/x-python",
   "name": "python",
   "nbconvert_exporter": "python",
   "pygments_lexer": "ipython3",
   "version": "3.12.9"
  }
 },
 "nbformat": 4,
 "nbformat_minor": 5
}
