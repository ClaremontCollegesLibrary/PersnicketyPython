{
 "cells": [
  {
   "cell_type": "markdown",
   "id": "d9275497-a2eb-4fc4-927a-5343df111ea9",
   "metadata": {},
   "source": [
    "# Ask A Manager - Salary Survey"
   ]
  },
  {
   "cell_type": "markdown",
   "id": "a60f5c03-1ff6-4953-a0b2-aa4901b35aa2",
   "metadata": {},
   "source": [
    "## Topics Covered\n",
    "\n",
    "* CSV vs. Excel files\n",
    "* Converting Strings to Integers\n",
    "* String Methods in Action\n",
    "* `.apply()` and `lambda`\n",
    "* Using data from multiple DataFrame columns\n",
    "* Data Preprocessing - Data Integration\n",
    "* Pandas `.merge()`"
   ]
  },
  {
   "cell_type": "markdown",
   "id": "8eb3c3bc-a641-44b8-8972-1442d1119ddd",
   "metadata": {},
   "source": [
    "## Import"
   ]
  },
  {
   "cell_type": "code",
   "execution_count": 1,
   "id": "fecc3d99-9410-483e-bcd2-44984aa53ecf",
   "metadata": {
    "execution": {
     "iopub.execute_input": "2025-02-13T20:09:05.509116Z",
     "iopub.status.busy": "2025-02-13T20:09:05.509116Z",
     "iopub.status.idle": "2025-02-13T20:09:06.272131Z",
     "shell.execute_reply": "2025-02-13T20:09:06.271860Z",
     "shell.execute_reply.started": "2025-02-13T20:09:05.509116Z"
    }
   },
   "outputs": [],
   "source": [
    "import numpy as np\n",
    "import pandas as pd\n",
    "import matplotlib.pyplot as plt"
   ]
  },
  {
   "cell_type": "markdown",
   "id": "39abce30-82ab-4cf7-b96b-c10d4809bb4f",
   "metadata": {},
   "source": [
    "Our first dataset is a Google Sheet containing survey responses from employees in different management positions at different institutions, from 2021 to present. The survey was conducted as a [blog entry for Ask A Manger](https://www.askamanager.org/2021/04/how-much-money-do-you-make-4.html). The responses are collected in a Google Form and the questions are mostly short-form text response fields, with a few being multiple choice responses. This survey is real-world data, survey participants are all voluntary and self-selected. Not all the responses are recorded in the correct fields, and there is no standardization in the text fields pertaining to formatting numbers or abbreviating currencies or regions.\n",
    "\n",
    "This dataset is a *mess*, and as such, it's perfect for practicing several data-cleaning techniques.\n",
    "\n",
    "We are *NOT* going to clean the entire dataset today.\n",
    "\n",
    "Let's say we want to analyze the salary range of the survey's participants, and get statistics for the median and mean salaries in the dataset. As we'll see, there are several obstacles in our way for accomplishing that goal."
   ]
  },
  {
   "cell_type": "markdown",
   "id": "fb53e3b3-eb2b-4c42-9115-cdee978b965f",
   "metadata": {},
   "source": [
    "### Data source:"
   ]
  },
  {
   "cell_type": "markdown",
   "id": "3817beca-65d8-47a0-8899-6b53d7eac130",
   "metadata": {},
   "source": [
    "\n",
    "\"Ask A Manager\" Salary Survey, 2021:\n",
    "\n",
    "https://docs.google.com/spreadsheets/d/1IPS5dBSGtwYVbjsfbaMCYIWnOuRmJcbequohNxCyGVw/edit?resourcekey=&gid=1625408792#gid=1625408792"
   ]
  },
  {
   "cell_type": "markdown",
   "id": "d1d2aefb-41a0-445f-bce0-bdb6e19241fb",
   "metadata": {
    "execution": {
     "iopub.execute_input": "2025-02-10T21:46:16.117209Z",
     "iopub.status.busy": "2025-02-10T21:46:16.117209Z",
     "iopub.status.idle": "2025-02-10T21:46:16.122664Z",
     "shell.execute_reply": "2025-02-10T21:46:16.121163Z",
     "shell.execute_reply.started": "2025-02-10T21:46:16.117209Z"
    }
   },
   "source": [
    "# EDA"
   ]
  },
  {
   "cell_type": "markdown",
   "id": "c40468ef-9fc5-4721-aabe-8339070a8143",
   "metadata": {},
   "source": [
    "## Differences between CSV and Excel Imports in Pandas"
   ]
  },
  {
   "cell_type": "markdown",
   "id": "4a51561b-5107-4c2c-8090-03f727eb25e4",
   "metadata": {},
   "source": [
    "We have downloaded the data from Google Sheets in both .csv and .xlsx formats, to illustrate the differences between these formats in terms of how they are imported in pandas."
   ]
  },
  {
   "cell_type": "code",
   "execution_count": 98,
   "id": "0bf8a66b-e2b5-4c21-bf66-7960150413c2",
   "metadata": {
    "execution": {
     "iopub.execute_input": "2025-02-13T20:14:29.094521Z",
     "iopub.status.busy": "2025-02-13T20:14:29.090154Z",
     "iopub.status.idle": "2025-02-13T20:14:30.357166Z",
     "shell.execute_reply": "2025-02-13T20:14:30.357166Z",
     "shell.execute_reply.started": "2025-02-13T20:14:29.094521Z"
    }
   },
   "outputs": [],
   "source": [
    "df_csv = pd.read_csv('https://raw.githubusercontent.com/ClaremontCollegesLibrary/PersnicketyPython/refs/heads/main/Ask%20A%20Manager%20Salary%20Survey%202021%20(Responses)%20-%20Form%20Responses%201.csv')"
   ]
  },
  {
   "cell_type": "code",
   "execution_count": 99,
   "id": "cd9c53c4-ce53-4a65-8444-d0a5b4113400",
   "metadata": {
    "execution": {
     "iopub.execute_input": "2025-02-13T20:14:31.913931Z",
     "iopub.status.busy": "2025-02-13T20:14:31.913931Z",
     "iopub.status.idle": "2025-02-13T20:14:37.465326Z",
     "shell.execute_reply": "2025-02-13T20:14:37.462218Z",
     "shell.execute_reply.started": "2025-02-13T20:14:31.913931Z"
    }
   },
   "outputs": [],
   "source": [
    "df_xl = pd.read_excel('https://raw.githubusercontent.com/ClaremontCollegesLibrary/PersnicketyPython/refs/heads/main/Ask%20A%20Manager%20Salary%20Survey%202021%20(Responses).xlsx')"
   ]
  },
  {
   "cell_type": "code",
   "execution_count": 100,
   "id": "2fc9a504-3363-4908-8a01-cf005ad1005b",
   "metadata": {
    "execution": {
     "iopub.execute_input": "2025-02-13T20:14:39.774390Z",
     "iopub.status.busy": "2025-02-13T20:14:39.774390Z",
     "iopub.status.idle": "2025-02-13T20:14:39.803163Z",
     "shell.execute_reply": "2025-02-13T20:14:39.802156Z",
     "shell.execute_reply.started": "2025-02-13T20:14:39.774390Z"
    }
   },
   "outputs": [
    {
     "data": {
      "text/plain": [
       "False"
      ]
     },
     "execution_count": 100,
     "metadata": {},
     "output_type": "execute_result"
    }
   ],
   "source": [
    "df_csv.equals(df_xl)"
   ]
  },
  {
   "cell_type": "markdown",
   "id": "e7e7db11-cf0d-4874-8025-92f83b7a6b32",
   "metadata": {},
   "source": [
    "### Why Aren't They The Same?"
   ]
  },
  {
   "cell_type": "code",
   "execution_count": 101,
   "id": "16f0139c-351a-485c-8970-d53a2fd38511",
   "metadata": {
    "execution": {
     "iopub.execute_input": "2025-02-13T20:14:41.276382Z",
     "iopub.status.busy": "2025-02-13T20:14:41.276382Z",
     "iopub.status.idle": "2025-02-13T20:14:41.288888Z",
     "shell.execute_reply": "2025-02-13T20:14:41.288382Z",
     "shell.execute_reply.started": "2025-02-13T20:14:41.276382Z"
    },
    "scrolled": true
   },
   "outputs": [
    {
     "data": {
      "text/html": [
       "<div>\n",
       "<style scoped>\n",
       "    .dataframe tbody tr th:only-of-type {\n",
       "        vertical-align: middle;\n",
       "    }\n",
       "\n",
       "    .dataframe tbody tr th {\n",
       "        vertical-align: top;\n",
       "    }\n",
       "\n",
       "    .dataframe thead th {\n",
       "        text-align: right;\n",
       "    }\n",
       "</style>\n",
       "<table border=\"1\" class=\"dataframe\">\n",
       "  <thead>\n",
       "    <tr style=\"text-align: right;\">\n",
       "      <th></th>\n",
       "      <th>Timestamp</th>\n",
       "      <th>How old are you?</th>\n",
       "      <th>What industry do you work in?</th>\n",
       "      <th>Job title</th>\n",
       "      <th>If your job title needs additional context, please clarify here:</th>\n",
       "      <th>What is your annual salary? (You'll indicate the currency in a later question. If you are part-time or hourly, please enter an annualized equivalent -- what you would earn if you worked the job 40 hours a week, 52 weeks a year.)</th>\n",
       "      <th>How much additional monetary compensation do you get, if any (for example, bonuses or overtime in an average year)? Please only include monetary compensation here, not the value of benefits.</th>\n",
       "      <th>Please indicate the currency</th>\n",
       "      <th>If \"Other,\" please indicate the currency here:</th>\n",
       "      <th>If your income needs additional context, please provide it here:</th>\n",
       "      <th>What country do you work in?</th>\n",
       "      <th>If you're in the U.S., what state do you work in?</th>\n",
       "      <th>What city do you work in?</th>\n",
       "      <th>How many years of professional work experience do you have overall?</th>\n",
       "      <th>How many years of professional work experience do you have in your field?</th>\n",
       "      <th>What is your highest level of education completed?</th>\n",
       "      <th>What is your gender?</th>\n",
       "      <th>What is your race? (Choose all that apply.)</th>\n",
       "    </tr>\n",
       "  </thead>\n",
       "  <tbody>\n",
       "    <tr>\n",
       "      <th>0</th>\n",
       "      <td>4/27/2021 11:02:10</td>\n",
       "      <td>25-34</td>\n",
       "      <td>Education (Higher Education)</td>\n",
       "      <td>Research and Instruction Librarian</td>\n",
       "      <td>NaN</td>\n",
       "      <td>55,000</td>\n",
       "      <td>0.0</td>\n",
       "      <td>USD</td>\n",
       "      <td>NaN</td>\n",
       "      <td>NaN</td>\n",
       "      <td>United States</td>\n",
       "      <td>Massachusetts</td>\n",
       "      <td>Boston</td>\n",
       "      <td>5-7 years</td>\n",
       "      <td>5-7 years</td>\n",
       "      <td>Master's degree</td>\n",
       "      <td>Woman</td>\n",
       "      <td>White</td>\n",
       "    </tr>\n",
       "    <tr>\n",
       "      <th>1</th>\n",
       "      <td>4/27/2021 11:02:22</td>\n",
       "      <td>25-34</td>\n",
       "      <td>Computing or Tech</td>\n",
       "      <td>Change &amp; Internal Communications Manager</td>\n",
       "      <td>NaN</td>\n",
       "      <td>54,600</td>\n",
       "      <td>4000.0</td>\n",
       "      <td>GBP</td>\n",
       "      <td>NaN</td>\n",
       "      <td>NaN</td>\n",
       "      <td>United Kingdom</td>\n",
       "      <td>NaN</td>\n",
       "      <td>Cambridge</td>\n",
       "      <td>8 - 10 years</td>\n",
       "      <td>5-7 years</td>\n",
       "      <td>College degree</td>\n",
       "      <td>Non-binary</td>\n",
       "      <td>White</td>\n",
       "    </tr>\n",
       "    <tr>\n",
       "      <th>2</th>\n",
       "      <td>4/27/2021 11:02:38</td>\n",
       "      <td>25-34</td>\n",
       "      <td>Accounting, Banking &amp; Finance</td>\n",
       "      <td>Marketing Specialist</td>\n",
       "      <td>NaN</td>\n",
       "      <td>34,000</td>\n",
       "      <td>NaN</td>\n",
       "      <td>USD</td>\n",
       "      <td>NaN</td>\n",
       "      <td>NaN</td>\n",
       "      <td>US</td>\n",
       "      <td>Tennessee</td>\n",
       "      <td>Chattanooga</td>\n",
       "      <td>2 - 4 years</td>\n",
       "      <td>2 - 4 years</td>\n",
       "      <td>College degree</td>\n",
       "      <td>Woman</td>\n",
       "      <td>White</td>\n",
       "    </tr>\n",
       "    <tr>\n",
       "      <th>3</th>\n",
       "      <td>4/27/2021 11:02:41</td>\n",
       "      <td>25-34</td>\n",
       "      <td>Nonprofits</td>\n",
       "      <td>Program Manager</td>\n",
       "      <td>NaN</td>\n",
       "      <td>62,000</td>\n",
       "      <td>3000.0</td>\n",
       "      <td>USD</td>\n",
       "      <td>NaN</td>\n",
       "      <td>NaN</td>\n",
       "      <td>USA</td>\n",
       "      <td>Wisconsin</td>\n",
       "      <td>Milwaukee</td>\n",
       "      <td>8 - 10 years</td>\n",
       "      <td>5-7 years</td>\n",
       "      <td>College degree</td>\n",
       "      <td>Woman</td>\n",
       "      <td>White</td>\n",
       "    </tr>\n",
       "    <tr>\n",
       "      <th>4</th>\n",
       "      <td>4/27/2021 11:02:42</td>\n",
       "      <td>25-34</td>\n",
       "      <td>Accounting, Banking &amp; Finance</td>\n",
       "      <td>Accounting Manager</td>\n",
       "      <td>NaN</td>\n",
       "      <td>60,000</td>\n",
       "      <td>7000.0</td>\n",
       "      <td>USD</td>\n",
       "      <td>NaN</td>\n",
       "      <td>NaN</td>\n",
       "      <td>US</td>\n",
       "      <td>South Carolina</td>\n",
       "      <td>Greenville</td>\n",
       "      <td>8 - 10 years</td>\n",
       "      <td>5-7 years</td>\n",
       "      <td>College degree</td>\n",
       "      <td>Woman</td>\n",
       "      <td>White</td>\n",
       "    </tr>\n",
       "  </tbody>\n",
       "</table>\n",
       "</div>"
      ],
      "text/plain": [
       "            Timestamp How old are you?  What industry do you work in?  \\\n",
       "0  4/27/2021 11:02:10            25-34   Education (Higher Education)   \n",
       "1  4/27/2021 11:02:22            25-34              Computing or Tech   \n",
       "2  4/27/2021 11:02:38            25-34  Accounting, Banking & Finance   \n",
       "3  4/27/2021 11:02:41            25-34                     Nonprofits   \n",
       "4  4/27/2021 11:02:42            25-34  Accounting, Banking & Finance   \n",
       "\n",
       "                                  Job title  \\\n",
       "0        Research and Instruction Librarian   \n",
       "1  Change & Internal Communications Manager   \n",
       "2                      Marketing Specialist   \n",
       "3                           Program Manager   \n",
       "4                        Accounting Manager   \n",
       "\n",
       "  If your job title needs additional context, please clarify here:  \\\n",
       "0                                                NaN                 \n",
       "1                                                NaN                 \n",
       "2                                                NaN                 \n",
       "3                                                NaN                 \n",
       "4                                                NaN                 \n",
       "\n",
       "  What is your annual salary? (You'll indicate the currency in a later question. If you are part-time or hourly, please enter an annualized equivalent -- what you would earn if you worked the job 40 hours a week, 52 weeks a year.)  \\\n",
       "0                                             55,000                                                                                                                                                                                     \n",
       "1                                             54,600                                                                                                                                                                                     \n",
       "2                                             34,000                                                                                                                                                                                     \n",
       "3                                             62,000                                                                                                                                                                                     \n",
       "4                                             60,000                                                                                                                                                                                     \n",
       "\n",
       "   How much additional monetary compensation do you get, if any (for example, bonuses or overtime in an average year)? Please only include monetary compensation here, not the value of benefits.  \\\n",
       "0                                                0.0                                                                                                                                                \n",
       "1                                             4000.0                                                                                                                                                \n",
       "2                                                NaN                                                                                                                                                \n",
       "3                                             3000.0                                                                                                                                                \n",
       "4                                             7000.0                                                                                                                                                \n",
       "\n",
       "  Please indicate the currency  \\\n",
       "0                          USD   \n",
       "1                          GBP   \n",
       "2                          USD   \n",
       "3                          USD   \n",
       "4                          USD   \n",
       "\n",
       "  If \"Other,\" please indicate the currency here:   \\\n",
       "0                                             NaN   \n",
       "1                                             NaN   \n",
       "2                                             NaN   \n",
       "3                                             NaN   \n",
       "4                                             NaN   \n",
       "\n",
       "  If your income needs additional context, please provide it here:  \\\n",
       "0                                                NaN                 \n",
       "1                                                NaN                 \n",
       "2                                                NaN                 \n",
       "3                                                NaN                 \n",
       "4                                                NaN                 \n",
       "\n",
       "  What country do you work in?  \\\n",
       "0                United States   \n",
       "1               United Kingdom   \n",
       "2                           US   \n",
       "3                          USA   \n",
       "4                           US   \n",
       "\n",
       "  If you're in the U.S., what state do you work in? What city do you work in?  \\\n",
       "0                                     Massachusetts                    Boston   \n",
       "1                                               NaN                 Cambridge   \n",
       "2                                         Tennessee               Chattanooga   \n",
       "3                                         Wisconsin                 Milwaukee   \n",
       "4                                    South Carolina                Greenville   \n",
       "\n",
       "  How many years of professional work experience do you have overall?  \\\n",
       "0                                          5-7 years                    \n",
       "1                                       8 - 10 years                    \n",
       "2                                        2 - 4 years                    \n",
       "3                                       8 - 10 years                    \n",
       "4                                       8 - 10 years                    \n",
       "\n",
       "  How many years of professional work experience do you have in your field?  \\\n",
       "0                                          5-7 years                          \n",
       "1                                          5-7 years                          \n",
       "2                                        2 - 4 years                          \n",
       "3                                          5-7 years                          \n",
       "4                                          5-7 years                          \n",
       "\n",
       "  What is your highest level of education completed? What is your gender?  \\\n",
       "0                                    Master's degree                Woman   \n",
       "1                                     College degree           Non-binary   \n",
       "2                                     College degree                Woman   \n",
       "3                                     College degree                Woman   \n",
       "4                                     College degree                Woman   \n",
       "\n",
       "  What is your race? (Choose all that apply.)  \n",
       "0                                       White  \n",
       "1                                       White  \n",
       "2                                       White  \n",
       "3                                       White  \n",
       "4                                       White  "
      ]
     },
     "execution_count": 101,
     "metadata": {},
     "output_type": "execute_result"
    }
   ],
   "source": [
    "df_csv.head()"
   ]
  },
  {
   "cell_type": "markdown",
   "id": "dcffeaba-b79a-4752-97cc-175bdc9077c1",
   "metadata": {},
   "source": [
    "Before moving forward, let's unclutter those column names to make our comparison a bit more manageable. Part of the data-cleaning process is making quality-of-life adjustments, such as reducing on-screen clutter.\n",
    "\n",
    "Take a moment to read the column names and absorb their meaning, then rename them to shorter column names in a consistent format.\n",
    "\n",
    "We have chosen to label the columns with capitalized words, separated by underscores. Longer words have been abbreviated as a space consideration.\n",
    "\n",
    "If you are just renaming a few column names instead of all of them, you can also use the pandas method in this format: `.rename(columns={\"old_name1\":\"new_name1\", \"old_name2\":\"new_name2\"})`)\n",
    "\n",
    "Because we are renaming *all* of the columns, we can simply pass in a new list of the same length as the number of columns:"
   ]
  },
  {
   "cell_type": "code",
   "execution_count": 6,
   "id": "f8cf6f1a-7231-432c-81e8-6f3fe5942e04",
   "metadata": {
    "execution": {
     "iopub.execute_input": "2025-02-13T20:09:12.435183Z",
     "iopub.status.busy": "2025-02-13T20:09:12.435183Z",
     "iopub.status.idle": "2025-02-13T20:09:12.441291Z",
     "shell.execute_reply": "2025-02-13T20:09:12.440278Z",
     "shell.execute_reply.started": "2025-02-13T20:09:12.435183Z"
    }
   },
   "outputs": [],
   "source": [
    "new_columns = [\n",
    "    'Timestamp', 'Age', 'Industry', 'Job_Title', 'Addl_Context', 'Salary',\n",
    "    'Addl_Comp', 'Currency', 'Curr_if_Other', 'Income_Context',\n",
    "    'Country', 'US_State', 'City', 'Work_Exp', 'Field_Exp', 'Educ_Level',\n",
    "    'Gender', 'Race'\n",
    "]\n",
    "\n",
    "df_csv.columns = new_columns\n",
    "df_xl.columns = new_columns"
   ]
  },
  {
   "cell_type": "markdown",
   "id": "02fea37f-7399-439c-8466-6e9c19fc031c",
   "metadata": {},
   "source": [
    "These new names *mostly* capture the gist of the original questions. Please keep in mind that Country, US_State, and City all refer to the location of the job, not the location of residence."
   ]
  },
  {
   "cell_type": "code",
   "execution_count": 7,
   "id": "7959749b-7533-4057-9c06-fd76a7bf6331",
   "metadata": {
    "execution": {
     "iopub.execute_input": "2025-02-13T20:09:12.441291Z",
     "iopub.status.busy": "2025-02-13T20:09:12.441291Z",
     "iopub.status.idle": "2025-02-13T20:09:12.452664Z",
     "shell.execute_reply": "2025-02-13T20:09:12.452664Z",
     "shell.execute_reply.started": "2025-02-13T20:09:12.441291Z"
    }
   },
   "outputs": [
    {
     "data": {
      "text/html": [
       "<div>\n",
       "<style scoped>\n",
       "    .dataframe tbody tr th:only-of-type {\n",
       "        vertical-align: middle;\n",
       "    }\n",
       "\n",
       "    .dataframe tbody tr th {\n",
       "        vertical-align: top;\n",
       "    }\n",
       "\n",
       "    .dataframe thead th {\n",
       "        text-align: right;\n",
       "    }\n",
       "</style>\n",
       "<table border=\"1\" class=\"dataframe\">\n",
       "  <thead>\n",
       "    <tr style=\"text-align: right;\">\n",
       "      <th></th>\n",
       "      <th>Timestamp</th>\n",
       "      <th>Age</th>\n",
       "      <th>Industry</th>\n",
       "      <th>Job_Title</th>\n",
       "      <th>Addl_Context</th>\n",
       "      <th>Salary</th>\n",
       "      <th>Addl_Comp</th>\n",
       "      <th>Currency</th>\n",
       "      <th>Curr_if_Other</th>\n",
       "      <th>Income_Context</th>\n",
       "      <th>Country</th>\n",
       "      <th>US_State</th>\n",
       "      <th>City</th>\n",
       "      <th>Work_Exp</th>\n",
       "      <th>Field_Exp</th>\n",
       "      <th>Educ_Level</th>\n",
       "      <th>Gender</th>\n",
       "      <th>Race</th>\n",
       "    </tr>\n",
       "  </thead>\n",
       "  <tbody>\n",
       "    <tr>\n",
       "      <th>0</th>\n",
       "      <td>4/27/2021 11:02:10</td>\n",
       "      <td>25-34</td>\n",
       "      <td>Education (Higher Education)</td>\n",
       "      <td>Research and Instruction Librarian</td>\n",
       "      <td>NaN</td>\n",
       "      <td>55,000</td>\n",
       "      <td>0.0</td>\n",
       "      <td>USD</td>\n",
       "      <td>NaN</td>\n",
       "      <td>NaN</td>\n",
       "      <td>United States</td>\n",
       "      <td>Massachusetts</td>\n",
       "      <td>Boston</td>\n",
       "      <td>5-7 years</td>\n",
       "      <td>5-7 years</td>\n",
       "      <td>Master's degree</td>\n",
       "      <td>Woman</td>\n",
       "      <td>White</td>\n",
       "    </tr>\n",
       "    <tr>\n",
       "      <th>1</th>\n",
       "      <td>4/27/2021 11:02:22</td>\n",
       "      <td>25-34</td>\n",
       "      <td>Computing or Tech</td>\n",
       "      <td>Change &amp; Internal Communications Manager</td>\n",
       "      <td>NaN</td>\n",
       "      <td>54,600</td>\n",
       "      <td>4000.0</td>\n",
       "      <td>GBP</td>\n",
       "      <td>NaN</td>\n",
       "      <td>NaN</td>\n",
       "      <td>United Kingdom</td>\n",
       "      <td>NaN</td>\n",
       "      <td>Cambridge</td>\n",
       "      <td>8 - 10 years</td>\n",
       "      <td>5-7 years</td>\n",
       "      <td>College degree</td>\n",
       "      <td>Non-binary</td>\n",
       "      <td>White</td>\n",
       "    </tr>\n",
       "    <tr>\n",
       "      <th>2</th>\n",
       "      <td>4/27/2021 11:02:38</td>\n",
       "      <td>25-34</td>\n",
       "      <td>Accounting, Banking &amp; Finance</td>\n",
       "      <td>Marketing Specialist</td>\n",
       "      <td>NaN</td>\n",
       "      <td>34,000</td>\n",
       "      <td>NaN</td>\n",
       "      <td>USD</td>\n",
       "      <td>NaN</td>\n",
       "      <td>NaN</td>\n",
       "      <td>US</td>\n",
       "      <td>Tennessee</td>\n",
       "      <td>Chattanooga</td>\n",
       "      <td>2 - 4 years</td>\n",
       "      <td>2 - 4 years</td>\n",
       "      <td>College degree</td>\n",
       "      <td>Woman</td>\n",
       "      <td>White</td>\n",
       "    </tr>\n",
       "    <tr>\n",
       "      <th>3</th>\n",
       "      <td>4/27/2021 11:02:41</td>\n",
       "      <td>25-34</td>\n",
       "      <td>Nonprofits</td>\n",
       "      <td>Program Manager</td>\n",
       "      <td>NaN</td>\n",
       "      <td>62,000</td>\n",
       "      <td>3000.0</td>\n",
       "      <td>USD</td>\n",
       "      <td>NaN</td>\n",
       "      <td>NaN</td>\n",
       "      <td>USA</td>\n",
       "      <td>Wisconsin</td>\n",
       "      <td>Milwaukee</td>\n",
       "      <td>8 - 10 years</td>\n",
       "      <td>5-7 years</td>\n",
       "      <td>College degree</td>\n",
       "      <td>Woman</td>\n",
       "      <td>White</td>\n",
       "    </tr>\n",
       "    <tr>\n",
       "      <th>4</th>\n",
       "      <td>4/27/2021 11:02:42</td>\n",
       "      <td>25-34</td>\n",
       "      <td>Accounting, Banking &amp; Finance</td>\n",
       "      <td>Accounting Manager</td>\n",
       "      <td>NaN</td>\n",
       "      <td>60,000</td>\n",
       "      <td>7000.0</td>\n",
       "      <td>USD</td>\n",
       "      <td>NaN</td>\n",
       "      <td>NaN</td>\n",
       "      <td>US</td>\n",
       "      <td>South Carolina</td>\n",
       "      <td>Greenville</td>\n",
       "      <td>8 - 10 years</td>\n",
       "      <td>5-7 years</td>\n",
       "      <td>College degree</td>\n",
       "      <td>Woman</td>\n",
       "      <td>White</td>\n",
       "    </tr>\n",
       "  </tbody>\n",
       "</table>\n",
       "</div>"
      ],
      "text/plain": [
       "            Timestamp    Age                       Industry  \\\n",
       "0  4/27/2021 11:02:10  25-34   Education (Higher Education)   \n",
       "1  4/27/2021 11:02:22  25-34              Computing or Tech   \n",
       "2  4/27/2021 11:02:38  25-34  Accounting, Banking & Finance   \n",
       "3  4/27/2021 11:02:41  25-34                     Nonprofits   \n",
       "4  4/27/2021 11:02:42  25-34  Accounting, Banking & Finance   \n",
       "\n",
       "                                  Job_Title Addl_Context  Salary  Addl_Comp  \\\n",
       "0        Research and Instruction Librarian          NaN  55,000        0.0   \n",
       "1  Change & Internal Communications Manager          NaN  54,600     4000.0   \n",
       "2                      Marketing Specialist          NaN  34,000        NaN   \n",
       "3                           Program Manager          NaN  62,000     3000.0   \n",
       "4                        Accounting Manager          NaN  60,000     7000.0   \n",
       "\n",
       "  Currency Curr_if_Other Income_Context         Country        US_State  \\\n",
       "0      USD           NaN            NaN   United States   Massachusetts   \n",
       "1      GBP           NaN            NaN  United Kingdom             NaN   \n",
       "2      USD           NaN            NaN              US       Tennessee   \n",
       "3      USD           NaN            NaN             USA       Wisconsin   \n",
       "4      USD           NaN            NaN              US  South Carolina   \n",
       "\n",
       "          City      Work_Exp    Field_Exp       Educ_Level      Gender   Race  \n",
       "0       Boston     5-7 years    5-7 years  Master's degree       Woman  White  \n",
       "1    Cambridge  8 - 10 years    5-7 years   College degree  Non-binary  White  \n",
       "2  Chattanooga   2 - 4 years  2 - 4 years   College degree       Woman  White  \n",
       "3    Milwaukee  8 - 10 years    5-7 years   College degree       Woman  White  \n",
       "4   Greenville  8 - 10 years    5-7 years   College degree       Woman  White  "
      ]
     },
     "execution_count": 7,
     "metadata": {},
     "output_type": "execute_result"
    }
   ],
   "source": [
    "df_csv.head()"
   ]
  },
  {
   "cell_type": "code",
   "execution_count": 8,
   "id": "04ad587d-f82b-4de3-9660-752905bf3d62",
   "metadata": {
    "execution": {
     "iopub.execute_input": "2025-02-13T20:09:12.454172Z",
     "iopub.status.busy": "2025-02-13T20:09:12.454172Z",
     "iopub.status.idle": "2025-02-13T20:09:12.471466Z",
     "shell.execute_reply": "2025-02-13T20:09:12.471466Z",
     "shell.execute_reply.started": "2025-02-13T20:09:12.454172Z"
    },
    "scrolled": true
   },
   "outputs": [
    {
     "data": {
      "text/html": [
       "<div>\n",
       "<style scoped>\n",
       "    .dataframe tbody tr th:only-of-type {\n",
       "        vertical-align: middle;\n",
       "    }\n",
       "\n",
       "    .dataframe tbody tr th {\n",
       "        vertical-align: top;\n",
       "    }\n",
       "\n",
       "    .dataframe thead th {\n",
       "        text-align: right;\n",
       "    }\n",
       "</style>\n",
       "<table border=\"1\" class=\"dataframe\">\n",
       "  <thead>\n",
       "    <tr style=\"text-align: right;\">\n",
       "      <th></th>\n",
       "      <th>Timestamp</th>\n",
       "      <th>Age</th>\n",
       "      <th>Industry</th>\n",
       "      <th>Job_Title</th>\n",
       "      <th>Addl_Context</th>\n",
       "      <th>Salary</th>\n",
       "      <th>Addl_Comp</th>\n",
       "      <th>Currency</th>\n",
       "      <th>Curr_if_Other</th>\n",
       "      <th>Income_Context</th>\n",
       "      <th>Country</th>\n",
       "      <th>US_State</th>\n",
       "      <th>City</th>\n",
       "      <th>Work_Exp</th>\n",
       "      <th>Field_Exp</th>\n",
       "      <th>Educ_Level</th>\n",
       "      <th>Gender</th>\n",
       "      <th>Race</th>\n",
       "    </tr>\n",
       "  </thead>\n",
       "  <tbody>\n",
       "    <tr>\n",
       "      <th>0</th>\n",
       "      <td>2021-04-27 11:02:09.743</td>\n",
       "      <td>25-34</td>\n",
       "      <td>Education (Higher Education)</td>\n",
       "      <td>Research and Instruction Librarian</td>\n",
       "      <td>NaN</td>\n",
       "      <td>55000</td>\n",
       "      <td>0.0</td>\n",
       "      <td>USD</td>\n",
       "      <td>NaN</td>\n",
       "      <td>NaN</td>\n",
       "      <td>United States</td>\n",
       "      <td>Massachusetts</td>\n",
       "      <td>Boston</td>\n",
       "      <td>5-7 years</td>\n",
       "      <td>5-7 years</td>\n",
       "      <td>Master's degree</td>\n",
       "      <td>Woman</td>\n",
       "      <td>White</td>\n",
       "    </tr>\n",
       "    <tr>\n",
       "      <th>1</th>\n",
       "      <td>2021-04-27 11:02:21.562</td>\n",
       "      <td>25-34</td>\n",
       "      <td>Computing or Tech</td>\n",
       "      <td>Change &amp; Internal Communications Manager</td>\n",
       "      <td>NaN</td>\n",
       "      <td>54600</td>\n",
       "      <td>4000.0</td>\n",
       "      <td>GBP</td>\n",
       "      <td>NaN</td>\n",
       "      <td>NaN</td>\n",
       "      <td>United Kingdom</td>\n",
       "      <td>NaN</td>\n",
       "      <td>Cambridge</td>\n",
       "      <td>8 - 10 years</td>\n",
       "      <td>5-7 years</td>\n",
       "      <td>College degree</td>\n",
       "      <td>Non-binary</td>\n",
       "      <td>White</td>\n",
       "    </tr>\n",
       "    <tr>\n",
       "      <th>2</th>\n",
       "      <td>2021-04-27 11:02:38.125</td>\n",
       "      <td>25-34</td>\n",
       "      <td>Accounting, Banking &amp; Finance</td>\n",
       "      <td>Marketing Specialist</td>\n",
       "      <td>NaN</td>\n",
       "      <td>34000</td>\n",
       "      <td>NaN</td>\n",
       "      <td>USD</td>\n",
       "      <td>NaN</td>\n",
       "      <td>NaN</td>\n",
       "      <td>US</td>\n",
       "      <td>Tennessee</td>\n",
       "      <td>Chattanooga</td>\n",
       "      <td>2 - 4 years</td>\n",
       "      <td>2 - 4 years</td>\n",
       "      <td>College degree</td>\n",
       "      <td>Woman</td>\n",
       "      <td>White</td>\n",
       "    </tr>\n",
       "    <tr>\n",
       "      <th>3</th>\n",
       "      <td>2021-04-27 11:02:40.643</td>\n",
       "      <td>25-34</td>\n",
       "      <td>Nonprofits</td>\n",
       "      <td>Program Manager</td>\n",
       "      <td>NaN</td>\n",
       "      <td>62000</td>\n",
       "      <td>3000.0</td>\n",
       "      <td>USD</td>\n",
       "      <td>NaN</td>\n",
       "      <td>NaN</td>\n",
       "      <td>USA</td>\n",
       "      <td>Wisconsin</td>\n",
       "      <td>Milwaukee</td>\n",
       "      <td>8 - 10 years</td>\n",
       "      <td>5-7 years</td>\n",
       "      <td>College degree</td>\n",
       "      <td>Woman</td>\n",
       "      <td>White</td>\n",
       "    </tr>\n",
       "    <tr>\n",
       "      <th>4</th>\n",
       "      <td>2021-04-27 11:02:41.793</td>\n",
       "      <td>25-34</td>\n",
       "      <td>Accounting, Banking &amp; Finance</td>\n",
       "      <td>Accounting Manager</td>\n",
       "      <td>NaN</td>\n",
       "      <td>60000</td>\n",
       "      <td>7000.0</td>\n",
       "      <td>USD</td>\n",
       "      <td>NaN</td>\n",
       "      <td>NaN</td>\n",
       "      <td>US</td>\n",
       "      <td>South Carolina</td>\n",
       "      <td>Greenville</td>\n",
       "      <td>8 - 10 years</td>\n",
       "      <td>5-7 years</td>\n",
       "      <td>College degree</td>\n",
       "      <td>Woman</td>\n",
       "      <td>White</td>\n",
       "    </tr>\n",
       "  </tbody>\n",
       "</table>\n",
       "</div>"
      ],
      "text/plain": [
       "                Timestamp    Age                       Industry  \\\n",
       "0 2021-04-27 11:02:09.743  25-34   Education (Higher Education)   \n",
       "1 2021-04-27 11:02:21.562  25-34              Computing or Tech   \n",
       "2 2021-04-27 11:02:38.125  25-34  Accounting, Banking & Finance   \n",
       "3 2021-04-27 11:02:40.643  25-34                     Nonprofits   \n",
       "4 2021-04-27 11:02:41.793  25-34  Accounting, Banking & Finance   \n",
       "\n",
       "                                  Job_Title Addl_Context  Salary  Addl_Comp  \\\n",
       "0        Research and Instruction Librarian          NaN   55000        0.0   \n",
       "1  Change & Internal Communications Manager          NaN   54600     4000.0   \n",
       "2                      Marketing Specialist          NaN   34000        NaN   \n",
       "3                           Program Manager          NaN   62000     3000.0   \n",
       "4                        Accounting Manager          NaN   60000     7000.0   \n",
       "\n",
       "  Currency Curr_if_Other Income_Context         Country        US_State  \\\n",
       "0      USD           NaN            NaN   United States   Massachusetts   \n",
       "1      GBP           NaN            NaN  United Kingdom             NaN   \n",
       "2      USD           NaN            NaN              US       Tennessee   \n",
       "3      USD           NaN            NaN             USA       Wisconsin   \n",
       "4      USD           NaN            NaN              US  South Carolina   \n",
       "\n",
       "          City      Work_Exp    Field_Exp       Educ_Level      Gender   Race  \n",
       "0       Boston     5-7 years    5-7 years  Master's degree       Woman  White  \n",
       "1    Cambridge  8 - 10 years    5-7 years   College degree  Non-binary  White  \n",
       "2  Chattanooga   2 - 4 years  2 - 4 years   College degree       Woman  White  \n",
       "3    Milwaukee  8 - 10 years    5-7 years   College degree       Woman  White  \n",
       "4   Greenville  8 - 10 years    5-7 years   College degree       Woman  White  "
      ]
     },
     "execution_count": 8,
     "metadata": {},
     "output_type": "execute_result"
    }
   ],
   "source": [
    "df_xl.head()"
   ]
  },
  {
   "cell_type": "markdown",
   "id": "4b53af65-e11f-4e9a-8be1-5453dfd7f4c3",
   "metadata": {},
   "source": [
    "The \"Timestamp\" column looks different. So does \"Salary\"."
   ]
  },
  {
   "cell_type": "code",
   "execution_count": 9,
   "id": "5f35b927-2e48-4f23-be62-738b4149c634",
   "metadata": {
    "execution": {
     "iopub.execute_input": "2025-02-13T20:09:12.472472Z",
     "iopub.status.busy": "2025-02-13T20:09:12.472472Z",
     "iopub.status.idle": "2025-02-13T20:09:12.509554Z",
     "shell.execute_reply": "2025-02-13T20:09:12.509554Z",
     "shell.execute_reply.started": "2025-02-13T20:09:12.472472Z"
    }
   },
   "outputs": [
    {
     "data": {
      "text/plain": [
       "count                            28106\n",
       "mean     2021-05-16 20:00:20.833426432\n",
       "min         2021-04-27 11:02:09.743000\n",
       "25%      2021-04-27 14:21:57.530749952\n",
       "50%      2021-04-28 13:58:23.371000064\n",
       "75%      2021-04-29 20:58:00.774749952\n",
       "max         2025-01-16 10:00:46.663000\n",
       "Name: Timestamp, dtype: object"
      ]
     },
     "execution_count": 9,
     "metadata": {},
     "output_type": "execute_result"
    }
   ],
   "source": [
    "df_xl['Timestamp'].describe()"
   ]
  },
  {
   "cell_type": "code",
   "execution_count": 10,
   "id": "20c4f2e0-8ac2-49cd-8db3-3d1d51bad322",
   "metadata": {
    "execution": {
     "iopub.execute_input": "2025-02-13T20:09:12.510560Z",
     "iopub.status.busy": "2025-02-13T20:09:12.510560Z",
     "iopub.status.idle": "2025-02-13T20:09:12.544936Z",
     "shell.execute_reply": "2025-02-13T20:09:12.543921Z",
     "shell.execute_reply.started": "2025-02-13T20:09:12.510560Z"
    },
    "scrolled": true
   },
   "outputs": [
    {
     "data": {
      "text/plain": [
       "count                  28106\n",
       "unique                 25324\n",
       "top       4/27/2021 12:05:06\n",
       "freq                       5\n",
       "Name: Timestamp, dtype: object"
      ]
     },
     "execution_count": 10,
     "metadata": {},
     "output_type": "execute_result"
    }
   ],
   "source": [
    "df_csv['Timestamp'].describe()"
   ]
  },
  {
   "cell_type": "markdown",
   "id": "69358d65-1f99-41f5-863c-db2433de58b1",
   "metadata": {},
   "source": [
    "Using \"==\" on two DataFrames will return a Boolean value for *every cell*."
   ]
  },
  {
   "cell_type": "code",
   "execution_count": 11,
   "id": "6175e916-9143-4ae3-a889-0f9b46dd077c",
   "metadata": {
    "execution": {
     "iopub.execute_input": "2025-02-13T20:09:12.545940Z",
     "iopub.status.busy": "2025-02-13T20:09:12.545940Z",
     "iopub.status.idle": "2025-02-13T20:09:13.625656Z",
     "shell.execute_reply": "2025-02-13T20:09:13.625656Z",
     "shell.execute_reply.started": "2025-02-13T20:09:12.545940Z"
    },
    "scrolled": true
   },
   "outputs": [
    {
     "data": {
      "text/html": [
       "<div>\n",
       "<style scoped>\n",
       "    .dataframe tbody tr th:only-of-type {\n",
       "        vertical-align: middle;\n",
       "    }\n",
       "\n",
       "    .dataframe tbody tr th {\n",
       "        vertical-align: top;\n",
       "    }\n",
       "\n",
       "    .dataframe thead th {\n",
       "        text-align: right;\n",
       "    }\n",
       "</style>\n",
       "<table border=\"1\" class=\"dataframe\">\n",
       "  <thead>\n",
       "    <tr style=\"text-align: right;\">\n",
       "      <th></th>\n",
       "      <th>Timestamp</th>\n",
       "      <th>Age</th>\n",
       "      <th>Industry</th>\n",
       "      <th>Job_Title</th>\n",
       "      <th>Addl_Context</th>\n",
       "      <th>Salary</th>\n",
       "      <th>Addl_Comp</th>\n",
       "      <th>Currency</th>\n",
       "      <th>Curr_if_Other</th>\n",
       "      <th>Income_Context</th>\n",
       "      <th>Country</th>\n",
       "      <th>US_State</th>\n",
       "      <th>City</th>\n",
       "      <th>Work_Exp</th>\n",
       "      <th>Field_Exp</th>\n",
       "      <th>Educ_Level</th>\n",
       "      <th>Gender</th>\n",
       "      <th>Race</th>\n",
       "    </tr>\n",
       "  </thead>\n",
       "  <tbody>\n",
       "    <tr>\n",
       "      <th>0</th>\n",
       "      <td>False</td>\n",
       "      <td>True</td>\n",
       "      <td>True</td>\n",
       "      <td>True</td>\n",
       "      <td>False</td>\n",
       "      <td>False</td>\n",
       "      <td>True</td>\n",
       "      <td>True</td>\n",
       "      <td>False</td>\n",
       "      <td>False</td>\n",
       "      <td>True</td>\n",
       "      <td>True</td>\n",
       "      <td>True</td>\n",
       "      <td>True</td>\n",
       "      <td>True</td>\n",
       "      <td>True</td>\n",
       "      <td>True</td>\n",
       "      <td>True</td>\n",
       "    </tr>\n",
       "    <tr>\n",
       "      <th>1</th>\n",
       "      <td>False</td>\n",
       "      <td>True</td>\n",
       "      <td>True</td>\n",
       "      <td>True</td>\n",
       "      <td>False</td>\n",
       "      <td>False</td>\n",
       "      <td>True</td>\n",
       "      <td>True</td>\n",
       "      <td>False</td>\n",
       "      <td>False</td>\n",
       "      <td>True</td>\n",
       "      <td>False</td>\n",
       "      <td>True</td>\n",
       "      <td>True</td>\n",
       "      <td>True</td>\n",
       "      <td>True</td>\n",
       "      <td>True</td>\n",
       "      <td>True</td>\n",
       "    </tr>\n",
       "    <tr>\n",
       "      <th>2</th>\n",
       "      <td>False</td>\n",
       "      <td>True</td>\n",
       "      <td>True</td>\n",
       "      <td>True</td>\n",
       "      <td>False</td>\n",
       "      <td>False</td>\n",
       "      <td>False</td>\n",
       "      <td>True</td>\n",
       "      <td>False</td>\n",
       "      <td>False</td>\n",
       "      <td>True</td>\n",
       "      <td>True</td>\n",
       "      <td>True</td>\n",
       "      <td>True</td>\n",
       "      <td>True</td>\n",
       "      <td>True</td>\n",
       "      <td>True</td>\n",
       "      <td>True</td>\n",
       "    </tr>\n",
       "    <tr>\n",
       "      <th>3</th>\n",
       "      <td>False</td>\n",
       "      <td>True</td>\n",
       "      <td>True</td>\n",
       "      <td>True</td>\n",
       "      <td>False</td>\n",
       "      <td>False</td>\n",
       "      <td>True</td>\n",
       "      <td>True</td>\n",
       "      <td>False</td>\n",
       "      <td>False</td>\n",
       "      <td>True</td>\n",
       "      <td>True</td>\n",
       "      <td>True</td>\n",
       "      <td>True</td>\n",
       "      <td>True</td>\n",
       "      <td>True</td>\n",
       "      <td>True</td>\n",
       "      <td>True</td>\n",
       "    </tr>\n",
       "    <tr>\n",
       "      <th>4</th>\n",
       "      <td>False</td>\n",
       "      <td>True</td>\n",
       "      <td>True</td>\n",
       "      <td>True</td>\n",
       "      <td>False</td>\n",
       "      <td>False</td>\n",
       "      <td>True</td>\n",
       "      <td>True</td>\n",
       "      <td>False</td>\n",
       "      <td>False</td>\n",
       "      <td>True</td>\n",
       "      <td>True</td>\n",
       "      <td>True</td>\n",
       "      <td>True</td>\n",
       "      <td>True</td>\n",
       "      <td>True</td>\n",
       "      <td>True</td>\n",
       "      <td>True</td>\n",
       "    </tr>\n",
       "    <tr>\n",
       "      <th>...</th>\n",
       "      <td>...</td>\n",
       "      <td>...</td>\n",
       "      <td>...</td>\n",
       "      <td>...</td>\n",
       "      <td>...</td>\n",
       "      <td>...</td>\n",
       "      <td>...</td>\n",
       "      <td>...</td>\n",
       "      <td>...</td>\n",
       "      <td>...</td>\n",
       "      <td>...</td>\n",
       "      <td>...</td>\n",
       "      <td>...</td>\n",
       "      <td>...</td>\n",
       "      <td>...</td>\n",
       "      <td>...</td>\n",
       "      <td>...</td>\n",
       "      <td>...</td>\n",
       "    </tr>\n",
       "    <tr>\n",
       "      <th>28101</th>\n",
       "      <td>False</td>\n",
       "      <td>True</td>\n",
       "      <td>True</td>\n",
       "      <td>True</td>\n",
       "      <td>False</td>\n",
       "      <td>False</td>\n",
       "      <td>False</td>\n",
       "      <td>True</td>\n",
       "      <td>False</td>\n",
       "      <td>False</td>\n",
       "      <td>True</td>\n",
       "      <td>True</td>\n",
       "      <td>True</td>\n",
       "      <td>True</td>\n",
       "      <td>True</td>\n",
       "      <td>True</td>\n",
       "      <td>True</td>\n",
       "      <td>True</td>\n",
       "    </tr>\n",
       "    <tr>\n",
       "      <th>28102</th>\n",
       "      <td>False</td>\n",
       "      <td>True</td>\n",
       "      <td>True</td>\n",
       "      <td>True</td>\n",
       "      <td>False</td>\n",
       "      <td>False</td>\n",
       "      <td>True</td>\n",
       "      <td>True</td>\n",
       "      <td>False</td>\n",
       "      <td>False</td>\n",
       "      <td>True</td>\n",
       "      <td>False</td>\n",
       "      <td>True</td>\n",
       "      <td>True</td>\n",
       "      <td>True</td>\n",
       "      <td>True</td>\n",
       "      <td>True</td>\n",
       "      <td>True</td>\n",
       "    </tr>\n",
       "    <tr>\n",
       "      <th>28103</th>\n",
       "      <td>False</td>\n",
       "      <td>True</td>\n",
       "      <td>True</td>\n",
       "      <td>True</td>\n",
       "      <td>False</td>\n",
       "      <td>False</td>\n",
       "      <td>False</td>\n",
       "      <td>True</td>\n",
       "      <td>False</td>\n",
       "      <td>False</td>\n",
       "      <td>True</td>\n",
       "      <td>True</td>\n",
       "      <td>True</td>\n",
       "      <td>True</td>\n",
       "      <td>True</td>\n",
       "      <td>True</td>\n",
       "      <td>True</td>\n",
       "      <td>True</td>\n",
       "    </tr>\n",
       "    <tr>\n",
       "      <th>28104</th>\n",
       "      <td>False</td>\n",
       "      <td>True</td>\n",
       "      <td>True</td>\n",
       "      <td>True</td>\n",
       "      <td>False</td>\n",
       "      <td>False</td>\n",
       "      <td>True</td>\n",
       "      <td>True</td>\n",
       "      <td>False</td>\n",
       "      <td>False</td>\n",
       "      <td>True</td>\n",
       "      <td>True</td>\n",
       "      <td>True</td>\n",
       "      <td>True</td>\n",
       "      <td>True</td>\n",
       "      <td>True</td>\n",
       "      <td>True</td>\n",
       "      <td>True</td>\n",
       "    </tr>\n",
       "    <tr>\n",
       "      <th>28105</th>\n",
       "      <td>False</td>\n",
       "      <td>True</td>\n",
       "      <td>True</td>\n",
       "      <td>True</td>\n",
       "      <td>False</td>\n",
       "      <td>False</td>\n",
       "      <td>False</td>\n",
       "      <td>True</td>\n",
       "      <td>True</td>\n",
       "      <td>False</td>\n",
       "      <td>True</td>\n",
       "      <td>False</td>\n",
       "      <td>True</td>\n",
       "      <td>True</td>\n",
       "      <td>True</td>\n",
       "      <td>True</td>\n",
       "      <td>True</td>\n",
       "      <td>True</td>\n",
       "    </tr>\n",
       "  </tbody>\n",
       "</table>\n",
       "<p>28106 rows × 18 columns</p>\n",
       "</div>"
      ],
      "text/plain": [
       "       Timestamp   Age  Industry  Job_Title  Addl_Context  Salary  Addl_Comp  \\\n",
       "0          False  True      True       True         False   False       True   \n",
       "1          False  True      True       True         False   False       True   \n",
       "2          False  True      True       True         False   False      False   \n",
       "3          False  True      True       True         False   False       True   \n",
       "4          False  True      True       True         False   False       True   \n",
       "...          ...   ...       ...        ...           ...     ...        ...   \n",
       "28101      False  True      True       True         False   False      False   \n",
       "28102      False  True      True       True         False   False       True   \n",
       "28103      False  True      True       True         False   False      False   \n",
       "28104      False  True      True       True         False   False       True   \n",
       "28105      False  True      True       True         False   False      False   \n",
       "\n",
       "       Currency  Curr_if_Other  Income_Context  Country  US_State  City  \\\n",
       "0          True          False           False     True      True  True   \n",
       "1          True          False           False     True     False  True   \n",
       "2          True          False           False     True      True  True   \n",
       "3          True          False           False     True      True  True   \n",
       "4          True          False           False     True      True  True   \n",
       "...         ...            ...             ...      ...       ...   ...   \n",
       "28101      True          False           False     True      True  True   \n",
       "28102      True          False           False     True     False  True   \n",
       "28103      True          False           False     True      True  True   \n",
       "28104      True          False           False     True      True  True   \n",
       "28105      True           True           False     True     False  True   \n",
       "\n",
       "       Work_Exp  Field_Exp  Educ_Level  Gender  Race  \n",
       "0          True       True        True    True  True  \n",
       "1          True       True        True    True  True  \n",
       "2          True       True        True    True  True  \n",
       "3          True       True        True    True  True  \n",
       "4          True       True        True    True  True  \n",
       "...         ...        ...         ...     ...   ...  \n",
       "28101      True       True        True    True  True  \n",
       "28102      True       True        True    True  True  \n",
       "28103      True       True        True    True  True  \n",
       "28104      True       True        True    True  True  \n",
       "28105      True       True        True    True  True  \n",
       "\n",
       "[28106 rows x 18 columns]"
      ]
     },
     "execution_count": 11,
     "metadata": {},
     "output_type": "execute_result"
    }
   ],
   "source": [
    "df_xl == df_csv"
   ]
  },
  {
   "cell_type": "markdown",
   "id": "07936f06-cfe0-4110-a305-1164d28a9e01",
   "metadata": {
    "execution": {
     "iopub.execute_input": "2025-02-11T19:08:52.610035Z",
     "iopub.status.busy": "2025-02-11T19:08:52.610035Z",
     "iopub.status.idle": "2025-02-11T19:08:52.632569Z",
     "shell.execute_reply": "2025-02-11T19:08:52.632569Z",
     "shell.execute_reply.started": "2025-02-11T19:08:52.610035Z"
    }
   },
   "source": [
    "Some of the columns are identical, some of them have no common values, and some of them have some values that match and some that don't."
   ]
  },
  {
   "cell_type": "code",
   "execution_count": 12,
   "id": "eb3e45bc-acb6-4244-8bcd-534ddca65d25",
   "metadata": {
    "execution": {
     "iopub.execute_input": "2025-02-13T20:09:13.628535Z",
     "iopub.status.busy": "2025-02-13T20:09:13.628535Z",
     "iopub.status.idle": "2025-02-13T20:09:13.659477Z",
     "shell.execute_reply": "2025-02-13T20:09:13.657463Z",
     "shell.execute_reply.started": "2025-02-13T20:09:13.628535Z"
    }
   },
   "outputs": [
    {
     "name": "stdout",
     "output_type": "stream",
     "text": [
      "<class 'pandas.core.frame.DataFrame'>\n",
      "RangeIndex: 28106 entries, 0 to 28105\n",
      "Data columns (total 18 columns):\n",
      " #   Column          Non-Null Count  Dtype  \n",
      "---  ------          --------------  -----  \n",
      " 0   Timestamp       28106 non-null  object \n",
      " 1   Age             28106 non-null  object \n",
      " 2   Industry        28031 non-null  object \n",
      " 3   Job_Title       28105 non-null  object \n",
      " 4   Addl_Context    7273 non-null   object \n",
      " 5   Salary          28106 non-null  object \n",
      " 6   Addl_Comp       20792 non-null  float64\n",
      " 7   Currency        28106 non-null  object \n",
      " 8   Curr_if_Other   211 non-null    object \n",
      " 9   Income_Context  3047 non-null   object \n",
      " 10  Country         28106 non-null  object \n",
      " 11  US_State        23072 non-null  object \n",
      " 12  City            28024 non-null  object \n",
      " 13  Work_Exp        28106 non-null  object \n",
      " 14  Field_Exp       28106 non-null  object \n",
      " 15  Educ_Level      27883 non-null  object \n",
      " 16  Gender          27935 non-null  object \n",
      " 17  Race            27929 non-null  object \n",
      "dtypes: float64(1), object(17)\n",
      "memory usage: 3.9+ MB\n"
     ]
    }
   ],
   "source": [
    "df_csv.info()"
   ]
  },
  {
   "cell_type": "code",
   "execution_count": 13,
   "id": "b865a479-acb6-4133-8177-9d31dac8d69d",
   "metadata": {
    "execution": {
     "iopub.execute_input": "2025-02-13T20:09:13.661474Z",
     "iopub.status.busy": "2025-02-13T20:09:13.661474Z",
     "iopub.status.idle": "2025-02-13T20:09:13.681001Z",
     "shell.execute_reply": "2025-02-13T20:09:13.679991Z",
     "shell.execute_reply.started": "2025-02-13T20:09:13.661474Z"
    },
    "scrolled": true
   },
   "outputs": [
    {
     "name": "stdout",
     "output_type": "stream",
     "text": [
      "<class 'pandas.core.frame.DataFrame'>\n",
      "RangeIndex: 28106 entries, 0 to 28105\n",
      "Data columns (total 18 columns):\n",
      " #   Column          Non-Null Count  Dtype         \n",
      "---  ------          --------------  -----         \n",
      " 0   Timestamp       28106 non-null  datetime64[ns]\n",
      " 1   Age             28106 non-null  object        \n",
      " 2   Industry        28031 non-null  object        \n",
      " 3   Job_Title       28105 non-null  object        \n",
      " 4   Addl_Context    7273 non-null   object        \n",
      " 5   Salary          28106 non-null  int64         \n",
      " 6   Addl_Comp       20792 non-null  float64       \n",
      " 7   Currency        28106 non-null  object        \n",
      " 8   Curr_if_Other   211 non-null    object        \n",
      " 9   Income_Context  3047 non-null   object        \n",
      " 10  Country         28106 non-null  object        \n",
      " 11  US_State        23072 non-null  object        \n",
      " 12  City            28024 non-null  object        \n",
      " 13  Work_Exp        28106 non-null  object        \n",
      " 14  Field_Exp       28106 non-null  object        \n",
      " 15  Educ_Level      27883 non-null  object        \n",
      " 16  Gender          27935 non-null  object        \n",
      " 17  Race            27929 non-null  object        \n",
      "dtypes: datetime64[ns](1), float64(1), int64(1), object(15)\n",
      "memory usage: 3.9+ MB\n"
     ]
    }
   ],
   "source": [
    "df_xl.info()"
   ]
  },
  {
   "cell_type": "markdown",
   "id": "6f3aff4b-a1bd-420f-ba5a-8ea2770c65ec",
   "metadata": {},
   "source": [
    "Notice that the counts of non-null objects are the same, but two of the columns show different data types: Timestamp and Salary are listed as \"objects\" in the .csv import, but `datetime64[ns]` and `int64` respectively in the xlsx import. The Pandas `read_excel()` method automatically reformats dates into a pandas timestamp, whereas `read_csv()` imports them literally as strings."
   ]
  },
  {
   "cell_type": "markdown",
   "id": "b7bbd60e-534e-42ab-8185-09b11fa583bf",
   "metadata": {},
   "source": [
    "When evaluating Boolean expressions, `NaN` values in Python don't equal *anything*, even other `NaN` values."
   ]
  },
  {
   "cell_type": "markdown",
   "id": "e90bc84f-5fbd-428d-aaad-371a5eec40ac",
   "metadata": {},
   "source": [
    "In the original spreadsheet, many (but not all) of the `Salary` figures are formatted using commas to separate thousands.\n",
    "\n",
    "`read_excel()` is built with this contingency in mind, and automatically converts numbers formatted this way into standard integers. `read_csv()` imports the entire column as strings regardless of their original formatting, because at least one of them has a comma in it."
   ]
  },
  {
   "cell_type": "markdown",
   "id": "4922fd22-4e01-4f31-b0eb-cd36730095c9",
   "metadata": {},
   "source": [
    "Because of these differences, importing Excel files will usually be more reliable than importing csv files with respect to data integrity.\n",
    "\n",
    "For this dataset, we *could* just use the imported Excel file rather than the csv file, because it would be easier to work with data that's already formatted the way we want.\n",
    "\n",
    "However, you won't always have access to both csv and .xlsx versions of a spreadsheet in the wild. With that in mind, let's keep going."
   ]
  },
  {
   "cell_type": "code",
   "execution_count": 14,
   "id": "2e1ed26b-f016-4250-9c29-b3a13d775660",
   "metadata": {
    "execution": {
     "iopub.execute_input": "2025-02-13T20:09:13.683001Z",
     "iopub.status.busy": "2025-02-13T20:09:13.683001Z",
     "iopub.status.idle": "2025-02-13T20:09:13.690513Z",
     "shell.execute_reply": "2025-02-13T20:09:13.688999Z",
     "shell.execute_reply.started": "2025-02-13T20:09:13.683001Z"
    }
   },
   "outputs": [],
   "source": [
    "#### Try this!\n",
    "\n",
    "#df_csv['Salary'] = df_csv['Salary'].apply(int)"
   ]
  },
  {
   "cell_type": "markdown",
   "id": "0070d50a-4bc7-4781-8e96-f9e27062cd2e",
   "metadata": {},
   "source": [
    "## Cleaning \"Salary\" using `.apply()` and `lambda`"
   ]
  },
  {
   "cell_type": "markdown",
   "id": "7166702d-6283-43a7-960d-2d629185ec82",
   "metadata": {},
   "source": [
    "The `int()` function won't work by itself to convert the Salary field from strings to integers, because of the commas. Unlike pandas `read_excel()`, `int()` isn't set up to handle commas automatically. Instead, we'll have to use a lambda function within our apply statement to provide a slightly more complex ad-hoc function:"
   ]
  },
  {
   "cell_type": "markdown",
   "id": "8a35550d-00b1-4f62-bbcd-fd639d23ea93",
   "metadata": {},
   "source": [
    "As seen above, a quick way to create or modify new columns in a data frame is to use the `.apply()` method with and pass a function, often using the `lambda` keyword.\n",
    "\n",
    "A Lambda function is an anonymous function (one that doesn't need to be named since it's used only in a local context). \"Lambda\" can mean different things in different programming languages, but in Python it allows for a quick ad hoc function to be used without needing to define the function with a `def` statement.\n",
    "\n",
    "Using a lambda function allows us to apply a string method to a DataFrame column, assuming all the data are of the same type. In this case, all the items in our \"Salary\" column are strings, so we can use the `.replace()` method to clear out the commas, and then wrap the resulting string in an `int()` function to change the type to integer."
   ]
  },
  {
   "cell_type": "code",
   "execution_count": 15,
   "id": "fa56fa11-9572-457e-a4db-fae22a8b285e",
   "metadata": {
    "execution": {
     "iopub.execute_input": "2025-02-13T20:09:13.692516Z",
     "iopub.status.busy": "2025-02-13T20:09:13.691516Z",
     "iopub.status.idle": "2025-02-13T20:09:13.711023Z",
     "shell.execute_reply": "2025-02-13T20:09:13.709513Z",
     "shell.execute_reply.started": "2025-02-13T20:09:13.692516Z"
    }
   },
   "outputs": [],
   "source": [
    "df_csv['Salary'] = df_csv['Salary'].apply(lambda x: int(x.replace(',','')))"
   ]
  },
  {
   "cell_type": "code",
   "execution_count": 16,
   "id": "7a727fd6-b352-491f-804c-a68be7f59363",
   "metadata": {
    "execution": {
     "iopub.execute_input": "2025-02-13T20:09:13.713029Z",
     "iopub.status.busy": "2025-02-13T20:09:13.712026Z",
     "iopub.status.idle": "2025-02-13T20:09:13.723542Z",
     "shell.execute_reply": "2025-02-13T20:09:13.722026Z",
     "shell.execute_reply.started": "2025-02-13T20:09:13.713029Z"
    }
   },
   "outputs": [
    {
     "data": {
      "text/plain": [
       "True"
      ]
     },
     "execution_count": 16,
     "metadata": {},
     "output_type": "execute_result"
    }
   ],
   "source": [
    "#No more commas!\n",
    "df_csv['Salary'].equals(df_xl['Salary'])"
   ]
  },
  {
   "cell_type": "code",
   "execution_count": 17,
   "id": "0a4ff262-834b-4359-926b-13f508797178",
   "metadata": {
    "execution": {
     "iopub.execute_input": "2025-02-13T20:09:13.730541Z",
     "iopub.status.busy": "2025-02-13T20:09:13.729542Z",
     "iopub.status.idle": "2025-02-13T20:09:13.742633Z",
     "shell.execute_reply": "2025-02-13T20:09:13.740621Z",
     "shell.execute_reply.started": "2025-02-13T20:09:13.730541Z"
    },
    "scrolled": true
   },
   "outputs": [
    {
     "data": {
      "text/plain": [
       "0          55000\n",
       "1          54600\n",
       "2          34000\n",
       "3          62000\n",
       "4          60000\n",
       "          ...   \n",
       "28101      75000\n",
       "28102      25000\n",
       "28103      72800\n",
       "28104     100000\n",
       "28105    1000000\n",
       "Name: Salary, Length: 28106, dtype: int64"
      ]
     },
     "execution_count": 17,
     "metadata": {},
     "output_type": "execute_result"
    }
   ],
   "source": [
    "df_csv['Salary']"
   ]
  },
  {
   "cell_type": "markdown",
   "id": "bcc9f01d-c1ec-42fd-90ea-85dcf4cf5c9c",
   "metadata": {},
   "source": [
    "All clean! ...or is it?"
   ]
  },
  {
   "cell_type": "markdown",
   "id": "389dccc8-5929-441a-b65a-7c59b78edfd3",
   "metadata": {
    "jp-MarkdownHeadingCollapsed": true
   },
   "source": [
    "### What do we need to remember about the Salary column?"
   ]
  },
  {
   "cell_type": "markdown",
   "id": "695d9a60-fc8f-4110-9541-59e76f12e829",
   "metadata": {
    "execution": {
     "iopub.execute_input": "2025-02-04T22:38:59.328063Z",
     "iopub.status.busy": "2025-02-04T22:38:59.316783Z",
     "iopub.status.idle": "2025-02-04T22:38:59.344454Z",
     "shell.execute_reply": "2025-02-04T22:38:59.344454Z",
     "shell.execute_reply.started": "2025-02-04T22:38:59.328063Z"
    }
   },
   "source": [
    "Currency units!"
   ]
  },
  {
   "cell_type": "markdown",
   "id": "1d038a57-ee67-4aa7-b27c-fa9b7304c06d",
   "metadata": {},
   "source": [
    "In order to normalize the Salary column and produce summary statistics for it, we have to convert the totals to the same currency. We'll go with USD."
   ]
  },
  {
   "cell_type": "markdown",
   "id": "da7c5bbd-3c74-42c9-a332-c498b160d727",
   "metadata": {},
   "source": [
    "## More EDA"
   ]
  },
  {
   "cell_type": "code",
   "execution_count": 18,
   "id": "00a6de22-3276-469c-9991-22f4ee5580a1",
   "metadata": {
    "execution": {
     "iopub.execute_input": "2025-02-13T20:09:13.744633Z",
     "iopub.status.busy": "2025-02-13T20:09:13.744633Z",
     "iopub.status.idle": "2025-02-13T20:09:13.755483Z",
     "shell.execute_reply": "2025-02-13T20:09:13.754977Z",
     "shell.execute_reply.started": "2025-02-13T20:09:13.744633Z"
    }
   },
   "outputs": [
    {
     "data": {
      "text/plain": [
       "Currency\n",
       "USD        23408\n",
       "CAD         1675\n",
       "GBP         1592\n",
       "EUR          646\n",
       "AUD/NZD      504\n",
       "Other        164\n",
       "CHF           37\n",
       "SEK           37\n",
       "JPY           23\n",
       "ZAR           16\n",
       "HKD            4\n",
       "Name: count, dtype: int64"
      ]
     },
     "execution_count": 18,
     "metadata": {},
     "output_type": "execute_result"
    }
   ],
   "source": [
    "df_csv['Currency'].value_counts()"
   ]
  },
  {
   "cell_type": "markdown",
   "id": "b4009333-b92f-4c4b-804d-143c9916b0d9",
   "metadata": {},
   "source": [
    "Wait... Australian Dollars and New Zealand Dollars aren't the same."
   ]
  },
  {
   "cell_type": "code",
   "execution_count": 19,
   "id": "f4130519-1ef5-4183-a615-633fa94208eb",
   "metadata": {
    "execution": {
     "iopub.execute_input": "2025-02-13T20:09:13.759493Z",
     "iopub.status.busy": "2025-02-13T20:09:13.758493Z",
     "iopub.status.idle": "2025-02-13T20:09:13.783811Z",
     "shell.execute_reply": "2025-02-13T20:09:13.782798Z",
     "shell.execute_reply.started": "2025-02-13T20:09:13.758493Z"
    },
    "scrolled": true
   },
   "outputs": [
    {
     "data": {
      "text/html": [
       "<div>\n",
       "<style scoped>\n",
       "    .dataframe tbody tr th:only-of-type {\n",
       "        vertical-align: middle;\n",
       "    }\n",
       "\n",
       "    .dataframe tbody tr th {\n",
       "        vertical-align: top;\n",
       "    }\n",
       "\n",
       "    .dataframe thead th {\n",
       "        text-align: right;\n",
       "    }\n",
       "</style>\n",
       "<table border=\"1\" class=\"dataframe\">\n",
       "  <thead>\n",
       "    <tr style=\"text-align: right;\">\n",
       "      <th></th>\n",
       "      <th>Timestamp</th>\n",
       "      <th>Age</th>\n",
       "      <th>Industry</th>\n",
       "      <th>Job_Title</th>\n",
       "      <th>Addl_Context</th>\n",
       "      <th>Salary</th>\n",
       "      <th>Addl_Comp</th>\n",
       "      <th>Currency</th>\n",
       "      <th>Curr_if_Other</th>\n",
       "      <th>Income_Context</th>\n",
       "      <th>Country</th>\n",
       "      <th>US_State</th>\n",
       "      <th>City</th>\n",
       "      <th>Work_Exp</th>\n",
       "      <th>Field_Exp</th>\n",
       "      <th>Educ_Level</th>\n",
       "      <th>Gender</th>\n",
       "      <th>Race</th>\n",
       "    </tr>\n",
       "  </thead>\n",
       "  <tbody>\n",
       "    <tr>\n",
       "      <th>139</th>\n",
       "      <td>4/27/2021 11:05:51</td>\n",
       "      <td>35-44</td>\n",
       "      <td>Surveying</td>\n",
       "      <td>Accounts manager</td>\n",
       "      <td>NaN</td>\n",
       "      <td>85000</td>\n",
       "      <td>0.0</td>\n",
       "      <td>AUD/NZD</td>\n",
       "      <td>NaN</td>\n",
       "      <td>NaN</td>\n",
       "      <td>Australia</td>\n",
       "      <td>NaN</td>\n",
       "      <td>Perth</td>\n",
       "      <td>11 - 20 years</td>\n",
       "      <td>8 - 10 years</td>\n",
       "      <td>Master's degree</td>\n",
       "      <td>Man</td>\n",
       "      <td>White</td>\n",
       "    </tr>\n",
       "    <tr>\n",
       "      <th>470</th>\n",
       "      <td>4/27/2021 11:10:23</td>\n",
       "      <td>35-44</td>\n",
       "      <td>Health care</td>\n",
       "      <td>Doctor (Psychiatry registrar)</td>\n",
       "      <td>NaN</td>\n",
       "      <td>134800</td>\n",
       "      <td>30000.0</td>\n",
       "      <td>AUD/NZD</td>\n",
       "      <td>NaN</td>\n",
       "      <td>First year training</td>\n",
       "      <td>Australia</td>\n",
       "      <td>NaN</td>\n",
       "      <td>Perth</td>\n",
       "      <td>8 - 10 years</td>\n",
       "      <td>2 - 4 years</td>\n",
       "      <td>PhD</td>\n",
       "      <td>Woman</td>\n",
       "      <td>Asian or Asian American</td>\n",
       "    </tr>\n",
       "    <tr>\n",
       "      <th>1188</th>\n",
       "      <td>4/27/2021 11:21:34</td>\n",
       "      <td>25-34</td>\n",
       "      <td>Education (Higher Education)</td>\n",
       "      <td>Assistant professor</td>\n",
       "      <td>NaN</td>\n",
       "      <td>120000</td>\n",
       "      <td>20000.0</td>\n",
       "      <td>AUD/NZD</td>\n",
       "      <td>NaN</td>\n",
       "      <td>NaN</td>\n",
       "      <td>Australia</td>\n",
       "      <td>NaN</td>\n",
       "      <td>Perth</td>\n",
       "      <td>11 - 20 years</td>\n",
       "      <td>5-7 years</td>\n",
       "      <td>PhD</td>\n",
       "      <td>Man</td>\n",
       "      <td>Asian or Asian American</td>\n",
       "    </tr>\n",
       "    <tr>\n",
       "      <th>1362</th>\n",
       "      <td>4/27/2021 11:24:31</td>\n",
       "      <td>35-44</td>\n",
       "      <td>Education (early childhood)</td>\n",
       "      <td>Early childhood educator</td>\n",
       "      <td>NaN</td>\n",
       "      <td>60000</td>\n",
       "      <td>0.0</td>\n",
       "      <td>AUD/NZD</td>\n",
       "      <td>NaN</td>\n",
       "      <td>NaN</td>\n",
       "      <td>Australia</td>\n",
       "      <td>NaN</td>\n",
       "      <td>Melbourne</td>\n",
       "      <td>21 - 30 years</td>\n",
       "      <td>21 - 30 years</td>\n",
       "      <td>College degree</td>\n",
       "      <td>Woman</td>\n",
       "      <td>Hispanic, Latino, or Spanish origin</td>\n",
       "    </tr>\n",
       "    <tr>\n",
       "      <th>2368</th>\n",
       "      <td>4/27/2021 11:42:58</td>\n",
       "      <td>35-44</td>\n",
       "      <td>Nonprofits</td>\n",
       "      <td>Field Coordinator</td>\n",
       "      <td>NaN</td>\n",
       "      <td>51600</td>\n",
       "      <td>NaN</td>\n",
       "      <td>AUD/NZD</td>\n",
       "      <td>NaN</td>\n",
       "      <td>NaN</td>\n",
       "      <td>Australia</td>\n",
       "      <td>NaN</td>\n",
       "      <td>Sydney</td>\n",
       "      <td>11 - 20 years</td>\n",
       "      <td>5-7 years</td>\n",
       "      <td>Master's degree</td>\n",
       "      <td>Woman</td>\n",
       "      <td>White</td>\n",
       "    </tr>\n",
       "    <tr>\n",
       "      <th>...</th>\n",
       "      <td>...</td>\n",
       "      <td>...</td>\n",
       "      <td>...</td>\n",
       "      <td>...</td>\n",
       "      <td>...</td>\n",
       "      <td>...</td>\n",
       "      <td>...</td>\n",
       "      <td>...</td>\n",
       "      <td>...</td>\n",
       "      <td>...</td>\n",
       "      <td>...</td>\n",
       "      <td>...</td>\n",
       "      <td>...</td>\n",
       "      <td>...</td>\n",
       "      <td>...</td>\n",
       "      <td>...</td>\n",
       "      <td>...</td>\n",
       "      <td>...</td>\n",
       "    </tr>\n",
       "    <tr>\n",
       "      <th>27844</th>\n",
       "      <td>7/13/2022 20:19:39</td>\n",
       "      <td>18-24</td>\n",
       "      <td>Environmental science</td>\n",
       "      <td>Environmental Data Manager</td>\n",
       "      <td>NaN</td>\n",
       "      <td>70000</td>\n",
       "      <td>1000.0</td>\n",
       "      <td>AUD/NZD</td>\n",
       "      <td>NaN</td>\n",
       "      <td>NaN</td>\n",
       "      <td>Australia</td>\n",
       "      <td>NaN</td>\n",
       "      <td>Perth</td>\n",
       "      <td>2 - 4 years</td>\n",
       "      <td>2 - 4 years</td>\n",
       "      <td>College degree</td>\n",
       "      <td>Man</td>\n",
       "      <td>White</td>\n",
       "    </tr>\n",
       "    <tr>\n",
       "      <th>27951</th>\n",
       "      <td>4/1/2023 20:04:40</td>\n",
       "      <td>35-44</td>\n",
       "      <td>Education (Primary/Secondary)</td>\n",
       "      <td>Teacher</td>\n",
       "      <td>NaN</td>\n",
       "      <td>104000</td>\n",
       "      <td>2000.0</td>\n",
       "      <td>AUD/NZD</td>\n",
       "      <td>NaN</td>\n",
       "      <td>Band 2 (of three) of the independent schools m...</td>\n",
       "      <td>Australia</td>\n",
       "      <td>NaN</td>\n",
       "      <td>Maitland, NSW</td>\n",
       "      <td>5-7 years</td>\n",
       "      <td>5-7 years</td>\n",
       "      <td>College degree</td>\n",
       "      <td>Woman</td>\n",
       "      <td>White</td>\n",
       "    </tr>\n",
       "    <tr>\n",
       "      <th>27962</th>\n",
       "      <td>6/8/2023 4:35:52</td>\n",
       "      <td>45-54</td>\n",
       "      <td>Health care</td>\n",
       "      <td>Business Development Director</td>\n",
       "      <td>NaN</td>\n",
       "      <td>185000</td>\n",
       "      <td>22000.0</td>\n",
       "      <td>AUD/NZD</td>\n",
       "      <td>NaN</td>\n",
       "      <td>NaN</td>\n",
       "      <td>Australia</td>\n",
       "      <td>NaN</td>\n",
       "      <td>Sydney</td>\n",
       "      <td>21 - 30 years</td>\n",
       "      <td>1 year or less</td>\n",
       "      <td>College degree</td>\n",
       "      <td>Other or prefer not to answer</td>\n",
       "      <td>White</td>\n",
       "    </tr>\n",
       "    <tr>\n",
       "      <th>27997</th>\n",
       "      <td>11/30/2023 23:21:19</td>\n",
       "      <td>35-44</td>\n",
       "      <td>Sales</td>\n",
       "      <td>Business Development Manager</td>\n",
       "      <td>NaN</td>\n",
       "      <td>80000</td>\n",
       "      <td>45000.0</td>\n",
       "      <td>AUD/NZD</td>\n",
       "      <td>NaN</td>\n",
       "      <td>NaN</td>\n",
       "      <td>Australia</td>\n",
       "      <td>NaN</td>\n",
       "      <td>Melbourne</td>\n",
       "      <td>11 - 20 years</td>\n",
       "      <td>5-7 years</td>\n",
       "      <td>College degree</td>\n",
       "      <td>Woman</td>\n",
       "      <td>White</td>\n",
       "    </tr>\n",
       "    <tr>\n",
       "      <th>28022</th>\n",
       "      <td>3/26/2024 1:39:24</td>\n",
       "      <td>35-44</td>\n",
       "      <td>Environmental</td>\n",
       "      <td>GIS Analyst</td>\n",
       "      <td>NaN</td>\n",
       "      <td>71000</td>\n",
       "      <td>NaN</td>\n",
       "      <td>AUD/NZD</td>\n",
       "      <td>NaN</td>\n",
       "      <td>NaN</td>\n",
       "      <td>New Zealand</td>\n",
       "      <td>NaN</td>\n",
       "      <td>Auckland</td>\n",
       "      <td>2 - 4 years</td>\n",
       "      <td>2 - 4 years</td>\n",
       "      <td>Master's degree</td>\n",
       "      <td>Woman</td>\n",
       "      <td>White</td>\n",
       "    </tr>\n",
       "  </tbody>\n",
       "</table>\n",
       "<p>504 rows × 18 columns</p>\n",
       "</div>"
      ],
      "text/plain": [
       "                 Timestamp    Age                       Industry  \\\n",
       "139     4/27/2021 11:05:51  35-44                     Surveying    \n",
       "470     4/27/2021 11:10:23  35-44                    Health care   \n",
       "1188    4/27/2021 11:21:34  25-34   Education (Higher Education)   \n",
       "1362    4/27/2021 11:24:31  35-44    Education (early childhood)   \n",
       "2368    4/27/2021 11:42:58  35-44                     Nonprofits   \n",
       "...                    ...    ...                            ...   \n",
       "27844   7/13/2022 20:19:39  18-24         Environmental science    \n",
       "27951    4/1/2023 20:04:40  35-44  Education (Primary/Secondary)   \n",
       "27962     6/8/2023 4:35:52  45-54                    Health care   \n",
       "27997  11/30/2023 23:21:19  35-44                          Sales   \n",
       "28022    3/26/2024 1:39:24  35-44                 Environmental    \n",
       "\n",
       "                           Job_Title Addl_Context  Salary  Addl_Comp Currency  \\\n",
       "139                Accounts manager           NaN   85000        0.0  AUD/NZD   \n",
       "470    Doctor (Psychiatry registrar)          NaN  134800    30000.0  AUD/NZD   \n",
       "1188             Assistant professor          NaN  120000    20000.0  AUD/NZD   \n",
       "1362        Early childhood educator          NaN   60000        0.0  AUD/NZD   \n",
       "2368               Field Coordinator          NaN   51600        NaN  AUD/NZD   \n",
       "...                              ...          ...     ...        ...      ...   \n",
       "27844    Environmental Data Manager           NaN   70000     1000.0  AUD/NZD   \n",
       "27951                        Teacher          NaN  104000     2000.0  AUD/NZD   \n",
       "27962  Business Development Director          NaN  185000    22000.0  AUD/NZD   \n",
       "27997   Business Development Manager          NaN   80000    45000.0  AUD/NZD   \n",
       "28022                    GIS Analyst          NaN   71000        NaN  AUD/NZD   \n",
       "\n",
       "      Curr_if_Other                                     Income_Context  \\\n",
       "139             NaN                                                NaN   \n",
       "470             NaN                                First year training   \n",
       "1188            NaN                                                NaN   \n",
       "1362            NaN                                                NaN   \n",
       "2368            NaN                                                NaN   \n",
       "...             ...                                                ...   \n",
       "27844           NaN                                                NaN   \n",
       "27951           NaN  Band 2 (of three) of the independent schools m...   \n",
       "27962           NaN                                                NaN   \n",
       "27997           NaN                                                NaN   \n",
       "28022           NaN                                                NaN   \n",
       "\n",
       "            Country US_State           City       Work_Exp       Field_Exp  \\\n",
       "139      Australia       NaN          Perth  11 - 20 years    8 - 10 years   \n",
       "470       Australia      NaN          Perth   8 - 10 years     2 - 4 years   \n",
       "1188      Australia      NaN          Perth  11 - 20 years       5-7 years   \n",
       "1362      Australia      NaN     Melbourne   21 - 30 years   21 - 30 years   \n",
       "2368      Australia      NaN         Sydney  11 - 20 years       5-7 years   \n",
       "...             ...      ...            ...            ...             ...   \n",
       "27844     Australia      NaN          Perth    2 - 4 years     2 - 4 years   \n",
       "27951     Australia      NaN  Maitland, NSW      5-7 years       5-7 years   \n",
       "27962     Australia      NaN        Sydney   21 - 30 years  1 year or less   \n",
       "27997     Australia      NaN      Melbourne  11 - 20 years       5-7 years   \n",
       "28022  New Zealand       NaN      Auckland     2 - 4 years     2 - 4 years   \n",
       "\n",
       "            Educ_Level                         Gender  \\\n",
       "139    Master's degree                            Man   \n",
       "470                PhD                          Woman   \n",
       "1188               PhD                            Man   \n",
       "1362    College degree                          Woman   \n",
       "2368   Master's degree                          Woman   \n",
       "...                ...                            ...   \n",
       "27844   College degree                            Man   \n",
       "27951   College degree                          Woman   \n",
       "27962   College degree  Other or prefer not to answer   \n",
       "27997   College degree                          Woman   \n",
       "28022  Master's degree                          Woman   \n",
       "\n",
       "                                      Race  \n",
       "139                                  White  \n",
       "470                Asian or Asian American  \n",
       "1188               Asian or Asian American  \n",
       "1362   Hispanic, Latino, or Spanish origin  \n",
       "2368                                 White  \n",
       "...                                    ...  \n",
       "27844                                White  \n",
       "27951                                White  \n",
       "27962                                White  \n",
       "27997                                White  \n",
       "28022                                White  \n",
       "\n",
       "[504 rows x 18 columns]"
      ]
     },
     "execution_count": 19,
     "metadata": {},
     "output_type": "execute_result"
    }
   ],
   "source": [
    "df_csv[df_csv['Currency'] == 'AUD/NZD']"
   ]
  },
  {
   "cell_type": "markdown",
   "id": "a63f8b8f-21d0-43bb-a760-115a69a42b5a",
   "metadata": {},
   "source": [
    "And that's only 11 currencies... what's in the \"Other\" category?"
   ]
  },
  {
   "cell_type": "code",
   "execution_count": 20,
   "id": "69295960-616e-4277-8b91-eeb0cef0cc73",
   "metadata": {
    "execution": {
     "iopub.execute_input": "2025-02-13T20:09:13.785809Z",
     "iopub.status.busy": "2025-02-13T20:09:13.785809Z",
     "iopub.status.idle": "2025-02-13T20:09:13.800819Z",
     "shell.execute_reply": "2025-02-13T20:09:13.800819Z",
     "shell.execute_reply.started": "2025-02-13T20:09:13.785809Z"
    },
    "scrolled": true
   },
   "outputs": [
    {
     "data": {
      "text/html": [
       "<div>\n",
       "<style scoped>\n",
       "    .dataframe tbody tr th:only-of-type {\n",
       "        vertical-align: middle;\n",
       "    }\n",
       "\n",
       "    .dataframe tbody tr th {\n",
       "        vertical-align: top;\n",
       "    }\n",
       "\n",
       "    .dataframe thead th {\n",
       "        text-align: right;\n",
       "    }\n",
       "</style>\n",
       "<table border=\"1\" class=\"dataframe\">\n",
       "  <thead>\n",
       "    <tr style=\"text-align: right;\">\n",
       "      <th></th>\n",
       "      <th>Timestamp</th>\n",
       "      <th>Age</th>\n",
       "      <th>Industry</th>\n",
       "      <th>Job_Title</th>\n",
       "      <th>Addl_Context</th>\n",
       "      <th>Salary</th>\n",
       "      <th>Addl_Comp</th>\n",
       "      <th>Currency</th>\n",
       "      <th>Curr_if_Other</th>\n",
       "      <th>Income_Context</th>\n",
       "      <th>Country</th>\n",
       "      <th>US_State</th>\n",
       "      <th>City</th>\n",
       "      <th>Work_Exp</th>\n",
       "      <th>Field_Exp</th>\n",
       "      <th>Educ_Level</th>\n",
       "      <th>Gender</th>\n",
       "      <th>Race</th>\n",
       "    </tr>\n",
       "  </thead>\n",
       "  <tbody>\n",
       "    <tr>\n",
       "      <th>434</th>\n",
       "      <td>4/27/2021 11:09:54</td>\n",
       "      <td>25-34</td>\n",
       "      <td>Computing or Tech</td>\n",
       "      <td>Data analyst</td>\n",
       "      <td>NaN</td>\n",
       "      <td>885000</td>\n",
       "      <td>0.0</td>\n",
       "      <td>Other</td>\n",
       "      <td>INR</td>\n",
       "      <td>NaN</td>\n",
       "      <td>India</td>\n",
       "      <td>NaN</td>\n",
       "      <td>Pune</td>\n",
       "      <td>2 - 4 years</td>\n",
       "      <td>2 - 4 years</td>\n",
       "      <td>Master's degree</td>\n",
       "      <td>Woman</td>\n",
       "      <td>Asian or Asian American</td>\n",
       "    </tr>\n",
       "    <tr>\n",
       "      <th>603</th>\n",
       "      <td>4/27/2021 11:12:24</td>\n",
       "      <td>45-54</td>\n",
       "      <td>Health care</td>\n",
       "      <td>Exec admin</td>\n",
       "      <td>Located in Argentina</td>\n",
       "      <td>1080000</td>\n",
       "      <td>223000.0</td>\n",
       "      <td>Other</td>\n",
       "      <td>Peso Argentino</td>\n",
       "      <td>Exchange about 1USD=165ARS</td>\n",
       "      <td>Argentina</td>\n",
       "      <td>NaN</td>\n",
       "      <td>City of Buenos Aires</td>\n",
       "      <td>11 - 20 years</td>\n",
       "      <td>11 - 20 years</td>\n",
       "      <td>College degree</td>\n",
       "      <td>Woman</td>\n",
       "      <td>Hispanic, Latino, or Spanish origin</td>\n",
       "    </tr>\n",
       "    <tr>\n",
       "      <th>1311</th>\n",
       "      <td>4/27/2021 11:23:39</td>\n",
       "      <td>25-34</td>\n",
       "      <td>Government and Public Administration</td>\n",
       "      <td>Associate</td>\n",
       "      <td>NaN</td>\n",
       "      <td>80640</td>\n",
       "      <td>20160.0</td>\n",
       "      <td>Other</td>\n",
       "      <td>MYR</td>\n",
       "      <td>NaN</td>\n",
       "      <td>Malaysia</td>\n",
       "      <td>NaN</td>\n",
       "      <td>Kuala Lumpur</td>\n",
       "      <td>5-7 years</td>\n",
       "      <td>2 - 4 years</td>\n",
       "      <td>College degree</td>\n",
       "      <td>Woman</td>\n",
       "      <td>Another option not listed here or prefer not t...</td>\n",
       "    </tr>\n",
       "    <tr>\n",
       "      <th>1840</th>\n",
       "      <td>4/27/2021 11:33:16</td>\n",
       "      <td>35-44</td>\n",
       "      <td>Intergovernmental organization</td>\n",
       "      <td>Consultant</td>\n",
       "      <td>NaN</td>\n",
       "      <td>60000</td>\n",
       "      <td>0.0</td>\n",
       "      <td>Other</td>\n",
       "      <td>CHF</td>\n",
       "      <td>While I work full time at an organization, I a...</td>\n",
       "      <td>Switzerland</td>\n",
       "      <td>NaN</td>\n",
       "      <td>Geneva</td>\n",
       "      <td>11 - 20 years</td>\n",
       "      <td>5-7 years</td>\n",
       "      <td>Master's degree</td>\n",
       "      <td>Woman</td>\n",
       "      <td>Black or African American</td>\n",
       "    </tr>\n",
       "    <tr>\n",
       "      <th>1924</th>\n",
       "      <td>4/27/2021 11:34:55</td>\n",
       "      <td>35-44</td>\n",
       "      <td>Sales</td>\n",
       "      <td>CEO</td>\n",
       "      <td>NaN</td>\n",
       "      <td>800000</td>\n",
       "      <td>100000.0</td>\n",
       "      <td>Other</td>\n",
       "      <td>NOK</td>\n",
       "      <td>NaN</td>\n",
       "      <td>Norway</td>\n",
       "      <td>NaN</td>\n",
       "      <td>Oslo</td>\n",
       "      <td>11 - 20 years</td>\n",
       "      <td>11 - 20 years</td>\n",
       "      <td>College degree</td>\n",
       "      <td>Woman</td>\n",
       "      <td>White</td>\n",
       "    </tr>\n",
       "    <tr>\n",
       "      <th>...</th>\n",
       "      <td>...</td>\n",
       "      <td>...</td>\n",
       "      <td>...</td>\n",
       "      <td>...</td>\n",
       "      <td>...</td>\n",
       "      <td>...</td>\n",
       "      <td>...</td>\n",
       "      <td>...</td>\n",
       "      <td>...</td>\n",
       "      <td>...</td>\n",
       "      <td>...</td>\n",
       "      <td>...</td>\n",
       "      <td>...</td>\n",
       "      <td>...</td>\n",
       "      <td>...</td>\n",
       "      <td>...</td>\n",
       "      <td>...</td>\n",
       "      <td>...</td>\n",
       "    </tr>\n",
       "    <tr>\n",
       "      <th>28061</th>\n",
       "      <td>8/20/2024 1:06:13</td>\n",
       "      <td>25-34</td>\n",
       "      <td>Health care</td>\n",
       "      <td>Clinical physiologist</td>\n",
       "      <td>NaN</td>\n",
       "      <td>1200000</td>\n",
       "      <td>NaN</td>\n",
       "      <td>Other</td>\n",
       "      <td>NGN</td>\n",
       "      <td>NaN</td>\n",
       "      <td>Nigeria</td>\n",
       "      <td>NaN</td>\n",
       "      <td>Lagos</td>\n",
       "      <td>2 - 4 years</td>\n",
       "      <td>2 - 4 years</td>\n",
       "      <td>College degree</td>\n",
       "      <td>Woman</td>\n",
       "      <td>Black or African American</td>\n",
       "    </tr>\n",
       "    <tr>\n",
       "      <th>28077</th>\n",
       "      <td>9/19/2024 19:16:28</td>\n",
       "      <td>25-34</td>\n",
       "      <td>Social Work</td>\n",
       "      <td>Counsellor</td>\n",
       "      <td>NaN</td>\n",
       "      <td>40000</td>\n",
       "      <td>0.0</td>\n",
       "      <td>Other</td>\n",
       "      <td>SGD</td>\n",
       "      <td>NaN</td>\n",
       "      <td>Singapore</td>\n",
       "      <td>NaN</td>\n",
       "      <td>Singapore</td>\n",
       "      <td>8 - 10 years</td>\n",
       "      <td>8 - 10 years</td>\n",
       "      <td>Master's degree</td>\n",
       "      <td>Woman</td>\n",
       "      <td>Asian or Asian American</td>\n",
       "    </tr>\n",
       "    <tr>\n",
       "      <th>28096</th>\n",
       "      <td>11/24/2024 8:08:37</td>\n",
       "      <td>25-34</td>\n",
       "      <td>Business or Consulting</td>\n",
       "      <td>BI Consultant</td>\n",
       "      <td>NaN</td>\n",
       "      <td>10</td>\n",
       "      <td>NaN</td>\n",
       "      <td>Other</td>\n",
       "      <td>Rupees</td>\n",
       "      <td>NaN</td>\n",
       "      <td>India</td>\n",
       "      <td>NaN</td>\n",
       "      <td>Noida</td>\n",
       "      <td>2 - 4 years</td>\n",
       "      <td>2 - 4 years</td>\n",
       "      <td>College degree</td>\n",
       "      <td>Man</td>\n",
       "      <td>Another option not listed here or prefer not t...</td>\n",
       "    </tr>\n",
       "    <tr>\n",
       "      <th>28100</th>\n",
       "      <td>12/11/2024 14:53:19</td>\n",
       "      <td>25-34</td>\n",
       "      <td>Health care</td>\n",
       "      <td>Pharmacist</td>\n",
       "      <td>NaN</td>\n",
       "      <td>24000000</td>\n",
       "      <td>2000000.0</td>\n",
       "      <td>Other</td>\n",
       "      <td>TZS</td>\n",
       "      <td>full time pharmacist and superintendent</td>\n",
       "      <td>Tanzania</td>\n",
       "      <td>NaN</td>\n",
       "      <td>Dar es Salaam</td>\n",
       "      <td>2 - 4 years</td>\n",
       "      <td>2 - 4 years</td>\n",
       "      <td>College degree</td>\n",
       "      <td>Woman</td>\n",
       "      <td>Black or African American</td>\n",
       "    </tr>\n",
       "    <tr>\n",
       "      <th>28105</th>\n",
       "      <td>1/16/2025 10:00:47</td>\n",
       "      <td>35-44</td>\n",
       "      <td>Entertainment</td>\n",
       "      <td>Product communication and education specialist</td>\n",
       "      <td>NaN</td>\n",
       "      <td>1000000</td>\n",
       "      <td>NaN</td>\n",
       "      <td>Other</td>\n",
       "      <td>Czk</td>\n",
       "      <td>NaN</td>\n",
       "      <td>Česká republika</td>\n",
       "      <td>NaN</td>\n",
       "      <td>Prague</td>\n",
       "      <td>21 - 30 years</td>\n",
       "      <td>2 - 4 years</td>\n",
       "      <td>High School</td>\n",
       "      <td>Woman</td>\n",
       "      <td>White</td>\n",
       "    </tr>\n",
       "  </tbody>\n",
       "</table>\n",
       "<p>164 rows × 18 columns</p>\n",
       "</div>"
      ],
      "text/plain": [
       "                 Timestamp    Age                              Industry  \\\n",
       "434     4/27/2021 11:09:54  25-34                     Computing or Tech   \n",
       "603     4/27/2021 11:12:24  45-54                           Health care   \n",
       "1311    4/27/2021 11:23:39  25-34  Government and Public Administration   \n",
       "1840    4/27/2021 11:33:16  35-44        Intergovernmental organization   \n",
       "1924    4/27/2021 11:34:55  35-44                                 Sales   \n",
       "...                    ...    ...                                   ...   \n",
       "28061    8/20/2024 1:06:13  25-34                           Health care   \n",
       "28077   9/19/2024 19:16:28  25-34                           Social Work   \n",
       "28096   11/24/2024 8:08:37  25-34                Business or Consulting   \n",
       "28100  12/11/2024 14:53:19  25-34                           Health care   \n",
       "28105   1/16/2025 10:00:47  35-44                         Entertainment   \n",
       "\n",
       "                                            Job_Title          Addl_Context  \\\n",
       "434                                      Data analyst                   NaN   \n",
       "603                                        Exec admin  Located in Argentina   \n",
       "1311                                        Associate                   NaN   \n",
       "1840                                       Consultant                   NaN   \n",
       "1924                                              CEO                   NaN   \n",
       "...                                               ...                   ...   \n",
       "28061                          Clinical physiologist                    NaN   \n",
       "28077                                      Counsellor                   NaN   \n",
       "28096                                  BI Consultant                    NaN   \n",
       "28100                                      Pharmacist                   NaN   \n",
       "28105  Product communication and education specialist                   NaN   \n",
       "\n",
       "         Salary  Addl_Comp Currency   Curr_if_Other  \\\n",
       "434      885000        0.0    Other             INR   \n",
       "603     1080000   223000.0    Other  Peso Argentino   \n",
       "1311      80640    20160.0    Other             MYR   \n",
       "1840      60000        0.0    Other             CHF   \n",
       "1924     800000   100000.0    Other             NOK   \n",
       "...         ...        ...      ...             ...   \n",
       "28061   1200000        NaN    Other             NGN   \n",
       "28077     40000        0.0    Other             SGD   \n",
       "28096        10        NaN    Other         Rupees    \n",
       "28100  24000000  2000000.0    Other             TZS   \n",
       "28105   1000000        NaN    Other             Czk   \n",
       "\n",
       "                                          Income_Context          Country  \\\n",
       "434                                                  NaN            India   \n",
       "603                           Exchange about 1USD=165ARS        Argentina   \n",
       "1311                                                 NaN         Malaysia   \n",
       "1840   While I work full time at an organization, I a...      Switzerland   \n",
       "1924                                                 NaN           Norway   \n",
       "...                                                  ...              ...   \n",
       "28061                                                NaN         Nigeria    \n",
       "28077                                                NaN        Singapore   \n",
       "28096                                                NaN            India   \n",
       "28100            full time pharmacist and superintendent         Tanzania   \n",
       "28105                                                NaN  Česká republika   \n",
       "\n",
       "      US_State                  City       Work_Exp      Field_Exp  \\\n",
       "434        NaN                  Pune    2 - 4 years    2 - 4 years   \n",
       "603        NaN  City of Buenos Aires  11 - 20 years  11 - 20 years   \n",
       "1311       NaN          Kuala Lumpur      5-7 years    2 - 4 years   \n",
       "1840       NaN                Geneva  11 - 20 years      5-7 years   \n",
       "1924       NaN                  Oslo  11 - 20 years  11 - 20 years   \n",
       "...        ...                   ...            ...            ...   \n",
       "28061      NaN                 Lagos    2 - 4 years    2 - 4 years   \n",
       "28077      NaN             Singapore   8 - 10 years   8 - 10 years   \n",
       "28096      NaN                 Noida    2 - 4 years    2 - 4 years   \n",
       "28100      NaN         Dar es Salaam    2 - 4 years    2 - 4 years   \n",
       "28105      NaN                Prague  21 - 30 years    2 - 4 years   \n",
       "\n",
       "            Educ_Level Gender  \\\n",
       "434    Master's degree  Woman   \n",
       "603     College degree  Woman   \n",
       "1311    College degree  Woman   \n",
       "1840   Master's degree  Woman   \n",
       "1924    College degree  Woman   \n",
       "...                ...    ...   \n",
       "28061   College degree  Woman   \n",
       "28077  Master's degree  Woman   \n",
       "28096   College degree    Man   \n",
       "28100   College degree  Woman   \n",
       "28105      High School  Woman   \n",
       "\n",
       "                                                    Race  \n",
       "434                              Asian or Asian American  \n",
       "603                  Hispanic, Latino, or Spanish origin  \n",
       "1311   Another option not listed here or prefer not t...  \n",
       "1840                           Black or African American  \n",
       "1924                                               White  \n",
       "...                                                  ...  \n",
       "28061                          Black or African American  \n",
       "28077                            Asian or Asian American  \n",
       "28096  Another option not listed here or prefer not t...  \n",
       "28100                          Black or African American  \n",
       "28105                                              White  \n",
       "\n",
       "[164 rows x 18 columns]"
      ]
     },
     "execution_count": 20,
     "metadata": {},
     "output_type": "execute_result"
    }
   ],
   "source": [
    "df_csv[df_csv['Currency'] == 'Other']"
   ]
  },
  {
   "cell_type": "markdown",
   "id": "d546d444-fe6a-4304-a9b7-f4f3287143fb",
   "metadata": {},
   "source": [
    "There are 504 rows where the currency is AUS/NZD... that's not a huge number relative to the size of our dataset, but we still don't want to throw out those entries; it would be best if we could salvage that data somehow."
   ]
  },
  {
   "cell_type": "markdown",
   "id": "0d0f357c-fade-4aac-8c42-7f6dbcb63753",
   "metadata": {},
   "source": [
    "### The Problem with AUS/NZD"
   ]
  },
  {
   "cell_type": "markdown",
   "id": "0bdb554a-e569-451e-a978-602ad78984ca",
   "metadata": {},
   "source": [
    "There's a problem with the survey questionnaire itself: Australian Dollars and New Zealand Dollars are *not* equivalent.\n",
    "\n",
    "We can try to solve this issue by splitting the AUD/NZD category based on the user's answer in the `Country` field. This may not work for 100% of the entries in question, but it will improve the accuracy of our summary statistics."
   ]
  },
  {
   "cell_type": "code",
   "execution_count": 21,
   "id": "e19f9b8d-3efb-4144-80a9-9180a394d976",
   "metadata": {
    "execution": {
     "iopub.execute_input": "2025-02-13T20:09:13.802827Z",
     "iopub.status.busy": "2025-02-13T20:09:13.802827Z",
     "iopub.status.idle": "2025-02-13T20:09:13.811916Z",
     "shell.execute_reply": "2025-02-13T20:09:13.810911Z",
     "shell.execute_reply.started": "2025-02-13T20:09:13.802827Z"
    },
    "scrolled": true
   },
   "outputs": [
    {
     "data": {
      "text/plain": [
       "['Australia ',\n",
       " 'Australia',\n",
       " 'New Zealand',\n",
       " 'New Zealand ',\n",
       " 'New Zealand Aotearoa',\n",
       " 'New zealand',\n",
       " 'NZ',\n",
       " 'australia',\n",
       " ' New Zealand',\n",
       " 'Australi',\n",
       " 'Canada',\n",
       " 'new zealand',\n",
       " 'From New Zealand but on projects across APAC',\n",
       " 'USA',\n",
       " 'Aotearoa New Zealand']"
      ]
     },
     "execution_count": 21,
     "metadata": {},
     "output_type": "execute_result"
    }
   ],
   "source": [
    "df_csv[df_csv['Currency'] == 'AUD/NZD']['Country'].unique().tolist()"
   ]
  },
  {
   "cell_type": "markdown",
   "id": "332dd66e-2dd6-456f-b83d-4f85c4f8196a",
   "metadata": {},
   "source": [
    "We got mostly what we expected: variations on Australia and New Zealand with different spelling, capitalization, extra whitespace, etc.\n",
    "\n",
    "However, there are three results that warrant further investigation: USA, Canada, and \"From New Zealand but on projects across APAC\"."
   ]
  },
  {
   "cell_type": "code",
   "execution_count": 22,
   "id": "04cf9ebb-1ad8-4684-8d56-9046efdc57fe",
   "metadata": {
    "execution": {
     "iopub.execute_input": "2025-02-13T20:09:13.812918Z",
     "iopub.status.busy": "2025-02-13T20:09:13.812918Z",
     "iopub.status.idle": "2025-02-13T20:09:13.828438Z",
     "shell.execute_reply": "2025-02-13T20:09:13.826429Z",
     "shell.execute_reply.started": "2025-02-13T20:09:13.812918Z"
    }
   },
   "outputs": [
    {
     "data": {
      "text/html": [
       "<div>\n",
       "<style scoped>\n",
       "    .dataframe tbody tr th:only-of-type {\n",
       "        vertical-align: middle;\n",
       "    }\n",
       "\n",
       "    .dataframe tbody tr th {\n",
       "        vertical-align: top;\n",
       "    }\n",
       "\n",
       "    .dataframe thead th {\n",
       "        text-align: right;\n",
       "    }\n",
       "</style>\n",
       "<table border=\"1\" class=\"dataframe\">\n",
       "  <thead>\n",
       "    <tr style=\"text-align: right;\">\n",
       "      <th></th>\n",
       "      <th>Timestamp</th>\n",
       "      <th>Age</th>\n",
       "      <th>Industry</th>\n",
       "      <th>Job_Title</th>\n",
       "      <th>Addl_Context</th>\n",
       "      <th>Salary</th>\n",
       "      <th>Addl_Comp</th>\n",
       "      <th>Currency</th>\n",
       "      <th>Curr_if_Other</th>\n",
       "      <th>Income_Context</th>\n",
       "      <th>Country</th>\n",
       "      <th>US_State</th>\n",
       "      <th>City</th>\n",
       "      <th>Work_Exp</th>\n",
       "      <th>Field_Exp</th>\n",
       "      <th>Educ_Level</th>\n",
       "      <th>Gender</th>\n",
       "      <th>Race</th>\n",
       "    </tr>\n",
       "  </thead>\n",
       "  <tbody>\n",
       "    <tr>\n",
       "      <th>25510</th>\n",
       "      <td>5/6/2021 18:12:16</td>\n",
       "      <td>25-34</td>\n",
       "      <td>Transport or Logistics</td>\n",
       "      <td>Customer Service Rep/Dispatcher</td>\n",
       "      <td>NaN</td>\n",
       "      <td>30000</td>\n",
       "      <td>NaN</td>\n",
       "      <td>AUD/NZD</td>\n",
       "      <td>NaN</td>\n",
       "      <td>NaN</td>\n",
       "      <td>USA</td>\n",
       "      <td>New Jersey</td>\n",
       "      <td>Westampton</td>\n",
       "      <td>11 - 20 years</td>\n",
       "      <td>8 - 10 years</td>\n",
       "      <td>College degree</td>\n",
       "      <td>Woman</td>\n",
       "      <td>Black or African American</td>\n",
       "    </tr>\n",
       "  </tbody>\n",
       "</table>\n",
       "</div>"
      ],
      "text/plain": [
       "               Timestamp    Age                Industry  \\\n",
       "25510  5/6/2021 18:12:16  25-34  Transport or Logistics   \n",
       "\n",
       "                             Job_Title Addl_Context  Salary  Addl_Comp  \\\n",
       "25510  Customer Service Rep/Dispatcher          NaN   30000        NaN   \n",
       "\n",
       "      Currency Curr_if_Other Income_Context Country    US_State        City  \\\n",
       "25510  AUD/NZD           NaN            NaN     USA  New Jersey  Westampton   \n",
       "\n",
       "            Work_Exp     Field_Exp      Educ_Level Gender  \\\n",
       "25510  11 - 20 years  8 - 10 years  College degree  Woman   \n",
       "\n",
       "                            Race  \n",
       "25510  Black or African American  "
      ]
     },
     "execution_count": 22,
     "metadata": {},
     "output_type": "execute_result"
    }
   ],
   "source": [
    "df_csv[(df_csv['Currency'] == 'AUD/NZD') & (df_csv['Country'] == 'USA')]"
   ]
  },
  {
   "cell_type": "code",
   "execution_count": 23,
   "id": "8464e42f-79a5-4bb4-9ce6-0bee9d651b8a",
   "metadata": {
    "execution": {
     "iopub.execute_input": "2025-02-13T20:09:13.829435Z",
     "iopub.status.busy": "2025-02-13T20:09:13.829435Z",
     "iopub.status.idle": "2025-02-13T20:09:13.843690Z",
     "shell.execute_reply": "2025-02-13T20:09:13.841682Z",
     "shell.execute_reply.started": "2025-02-13T20:09:13.829435Z"
    }
   },
   "outputs": [
    {
     "data": {
      "text/html": [
       "<div>\n",
       "<style scoped>\n",
       "    .dataframe tbody tr th:only-of-type {\n",
       "        vertical-align: middle;\n",
       "    }\n",
       "\n",
       "    .dataframe tbody tr th {\n",
       "        vertical-align: top;\n",
       "    }\n",
       "\n",
       "    .dataframe thead th {\n",
       "        text-align: right;\n",
       "    }\n",
       "</style>\n",
       "<table border=\"1\" class=\"dataframe\">\n",
       "  <thead>\n",
       "    <tr style=\"text-align: right;\">\n",
       "      <th></th>\n",
       "      <th>Timestamp</th>\n",
       "      <th>Age</th>\n",
       "      <th>Industry</th>\n",
       "      <th>Job_Title</th>\n",
       "      <th>Addl_Context</th>\n",
       "      <th>Salary</th>\n",
       "      <th>Addl_Comp</th>\n",
       "      <th>Currency</th>\n",
       "      <th>Curr_if_Other</th>\n",
       "      <th>Income_Context</th>\n",
       "      <th>Country</th>\n",
       "      <th>US_State</th>\n",
       "      <th>City</th>\n",
       "      <th>Work_Exp</th>\n",
       "      <th>Field_Exp</th>\n",
       "      <th>Educ_Level</th>\n",
       "      <th>Gender</th>\n",
       "      <th>Race</th>\n",
       "    </tr>\n",
       "  </thead>\n",
       "  <tbody>\n",
       "    <tr>\n",
       "      <th>17426</th>\n",
       "      <td>4/28/2021 20:25:20</td>\n",
       "      <td>45-54</td>\n",
       "      <td>Accounting, Banking &amp; Finance</td>\n",
       "      <td>Manager</td>\n",
       "      <td>NaN</td>\n",
       "      <td>110000</td>\n",
       "      <td>10000.0</td>\n",
       "      <td>AUD/NZD</td>\n",
       "      <td>NaN</td>\n",
       "      <td>NaN</td>\n",
       "      <td>Canada</td>\n",
       "      <td>NaN</td>\n",
       "      <td>Ottawa</td>\n",
       "      <td>21 - 30 years</td>\n",
       "      <td>11 - 20 years</td>\n",
       "      <td>NaN</td>\n",
       "      <td>Woman</td>\n",
       "      <td>White</td>\n",
       "    </tr>\n",
       "  </tbody>\n",
       "</table>\n",
       "</div>"
      ],
      "text/plain": [
       "                Timestamp    Age                       Industry Job_Title  \\\n",
       "17426  4/28/2021 20:25:20  45-54  Accounting, Banking & Finance   Manager   \n",
       "\n",
       "      Addl_Context  Salary  Addl_Comp Currency Curr_if_Other Income_Context  \\\n",
       "17426          NaN  110000    10000.0  AUD/NZD           NaN            NaN   \n",
       "\n",
       "      Country US_State    City       Work_Exp      Field_Exp Educ_Level  \\\n",
       "17426  Canada      NaN  Ottawa  21 - 30 years  11 - 20 years        NaN   \n",
       "\n",
       "      Gender   Race  \n",
       "17426  Woman  White  "
      ]
     },
     "execution_count": 23,
     "metadata": {},
     "output_type": "execute_result"
    }
   ],
   "source": [
    "df_csv[(df_csv['Currency'] == 'AUD/NZD') & (df_csv['Country'] == 'Canada')]"
   ]
  },
  {
   "cell_type": "markdown",
   "id": "63528b98-f30b-4d1f-9838-86686249d2c4",
   "metadata": {},
   "source": [
    "Neither the American nor the Canadian respondent indicates which country's currency they are paid in."
   ]
  },
  {
   "cell_type": "code",
   "execution_count": 24,
   "id": "9277127e-f32a-4bd8-85e1-bce4a9fb0979",
   "metadata": {
    "execution": {
     "iopub.execute_input": "2025-02-13T20:09:13.844688Z",
     "iopub.status.busy": "2025-02-13T20:09:13.843690Z",
     "iopub.status.idle": "2025-02-13T20:09:13.855400Z",
     "shell.execute_reply": "2025-02-13T20:09:13.854392Z",
     "shell.execute_reply.started": "2025-02-13T20:09:13.844688Z"
    },
    "scrolled": true
   },
   "outputs": [
    {
     "data": {
      "text/html": [
       "<div>\n",
       "<style scoped>\n",
       "    .dataframe tbody tr th:only-of-type {\n",
       "        vertical-align: middle;\n",
       "    }\n",
       "\n",
       "    .dataframe tbody tr th {\n",
       "        vertical-align: top;\n",
       "    }\n",
       "\n",
       "    .dataframe thead th {\n",
       "        text-align: right;\n",
       "    }\n",
       "</style>\n",
       "<table border=\"1\" class=\"dataframe\">\n",
       "  <thead>\n",
       "    <tr style=\"text-align: right;\">\n",
       "      <th></th>\n",
       "      <th>Timestamp</th>\n",
       "      <th>Age</th>\n",
       "      <th>Industry</th>\n",
       "      <th>Job_Title</th>\n",
       "      <th>Addl_Context</th>\n",
       "      <th>Salary</th>\n",
       "      <th>Addl_Comp</th>\n",
       "      <th>Currency</th>\n",
       "      <th>Curr_if_Other</th>\n",
       "      <th>Income_Context</th>\n",
       "      <th>Country</th>\n",
       "      <th>US_State</th>\n",
       "      <th>City</th>\n",
       "      <th>Work_Exp</th>\n",
       "      <th>Field_Exp</th>\n",
       "      <th>Educ_Level</th>\n",
       "      <th>Gender</th>\n",
       "      <th>Race</th>\n",
       "    </tr>\n",
       "  </thead>\n",
       "  <tbody>\n",
       "    <tr>\n",
       "      <th>22585</th>\n",
       "      <td>4/30/2021 21:22:49</td>\n",
       "      <td>45-54</td>\n",
       "      <td>Business or Consulting</td>\n",
       "      <td>Workplace Strategist</td>\n",
       "      <td>NaN</td>\n",
       "      <td>180000</td>\n",
       "      <td>NaN</td>\n",
       "      <td>AUD/NZD</td>\n",
       "      <td>NaN</td>\n",
       "      <td>NaN</td>\n",
       "      <td>From New Zealand but on projects across APAC</td>\n",
       "      <td>NaN</td>\n",
       "      <td>Wellington</td>\n",
       "      <td>21 - 30 years</td>\n",
       "      <td>11 - 20 years</td>\n",
       "      <td>College degree</td>\n",
       "      <td>Woman</td>\n",
       "      <td>White</td>\n",
       "    </tr>\n",
       "  </tbody>\n",
       "</table>\n",
       "</div>"
      ],
      "text/plain": [
       "                Timestamp    Age                Industry  \\\n",
       "22585  4/30/2021 21:22:49  45-54  Business or Consulting   \n",
       "\n",
       "                  Job_Title Addl_Context  Salary  Addl_Comp Currency  \\\n",
       "22585  Workplace Strategist          NaN  180000        NaN  AUD/NZD   \n",
       "\n",
       "      Curr_if_Other Income_Context  \\\n",
       "22585           NaN            NaN   \n",
       "\n",
       "                                            Country US_State        City  \\\n",
       "22585  From New Zealand but on projects across APAC      NaN  Wellington   \n",
       "\n",
       "            Work_Exp      Field_Exp      Educ_Level Gender   Race  \n",
       "22585  21 - 30 years  11 - 20 years  College degree  Woman  White  "
      ]
     },
     "execution_count": 24,
     "metadata": {},
     "output_type": "execute_result"
    }
   ],
   "source": [
    "df_csv[df_csv['Country'] == 'From New Zealand but on projects across APAC']"
   ]
  },
  {
   "cell_type": "markdown",
   "id": "acd117bd-8fe9-4c88-847e-eff8f09bd34d",
   "metadata": {},
   "source": [
    "We're going to assume this last one is \"NZD\" as a default since the respondent lives in New Zealand, but the Salary figure may not represent 100% New Zealand Dollars. This is one entry out of around 28000."
   ]
  },
  {
   "cell_type": "markdown",
   "id": "224291b5-5e73-4ce4-8f03-ce9ba49bda79",
   "metadata": {},
   "source": [
    "### Removing Whitespace and Converting to Lower Case"
   ]
  },
  {
   "cell_type": "markdown",
   "id": "6fcbec1a-f8d5-4c75-8da4-35bc53a615a5",
   "metadata": {},
   "source": [
    "Standardizing our survey responses will be easier if we can remove excess whitespace and convert all text to lower case:"
   ]
  },
  {
   "cell_type": "code",
   "execution_count": 25,
   "id": "6933edd0-3204-4c6a-980b-37920862681b",
   "metadata": {
    "execution": {
     "iopub.execute_input": "2025-02-13T20:09:13.857402Z",
     "iopub.status.busy": "2025-02-13T20:09:13.856400Z",
     "iopub.status.idle": "2025-02-13T20:09:13.874911Z",
     "shell.execute_reply": "2025-02-13T20:09:13.871397Z",
     "shell.execute_reply.started": "2025-02-13T20:09:13.857402Z"
    }
   },
   "outputs": [],
   "source": [
    "df_csv['Country'] = df_csv['Country'].apply(lambda x: x.lower().strip())"
   ]
  },
  {
   "cell_type": "markdown",
   "id": "4954201d-2174-42d4-afaf-0fcd563b743a",
   "metadata": {},
   "source": [
    "While we're at it, we can also perform the same operation on Currency and Curr_if_Other:"
   ]
  },
  {
   "cell_type": "code",
   "execution_count": 26,
   "id": "13f78e6e-c1b1-4dc0-885f-47c731b00d7e",
   "metadata": {
    "execution": {
     "iopub.execute_input": "2025-02-13T20:09:13.878922Z",
     "iopub.status.busy": "2025-02-13T20:09:13.877911Z",
     "iopub.status.idle": "2025-02-13T20:09:13.894980Z",
     "shell.execute_reply": "2025-02-13T20:09:13.891968Z",
     "shell.execute_reply.started": "2025-02-13T20:09:13.878922Z"
    }
   },
   "outputs": [],
   "source": [
    "df_csv['Currency'] = df_csv['Currency'].apply(lambda x: x.lower().strip())"
   ]
  },
  {
   "cell_type": "markdown",
   "id": "ec965dc0-7b87-4bb3-b548-98116bb20934",
   "metadata": {},
   "source": [
    "What happens when we try to use this on the Curr_if_Other column?"
   ]
  },
  {
   "cell_type": "code",
   "execution_count": 27,
   "id": "efe8fb07-f5fe-400b-937b-bbb1d1cf7544",
   "metadata": {
    "execution": {
     "iopub.execute_input": "2025-02-13T20:09:13.897978Z",
     "iopub.status.busy": "2025-02-13T20:09:13.897978Z",
     "iopub.status.idle": "2025-02-13T20:09:13.904415Z",
     "shell.execute_reply": "2025-02-13T20:09:13.903405Z",
     "shell.execute_reply.started": "2025-02-13T20:09:13.897978Z"
    }
   },
   "outputs": [],
   "source": [
    "#df_csv['Curr_if_Other'] = df_csv['Curr_if_Other'].apply(lambda x: x.lower().strip())"
   ]
  },
  {
   "cell_type": "markdown",
   "id": "ac17a761-bac6-4486-a3b6-d53df18710f1",
   "metadata": {
    "execution": {
     "iopub.execute_input": "2025-02-12T20:07:47.214002Z",
     "iopub.status.busy": "2025-02-12T20:07:47.212994Z",
     "iopub.status.idle": "2025-02-12T20:07:47.249060Z",
     "shell.execute_reply": "2025-02-12T20:07:47.245518Z",
     "shell.execute_reply.started": "2025-02-12T20:07:47.214002Z"
    }
   },
   "source": [
    "Null values (NaN) are treated as floating point numbers. This means we can't use string methods on them, and we'll have to find some means of bypassing them."
   ]
  },
  {
   "cell_type": "code",
   "execution_count": 28,
   "id": "315e5800-6bac-42bb-a8bc-5fe05e24972b",
   "metadata": {
    "execution": {
     "iopub.execute_input": "2025-02-13T20:09:13.906417Z",
     "iopub.status.busy": "2025-02-13T20:09:13.905412Z",
     "iopub.status.idle": "2025-02-13T20:09:13.919624Z",
     "shell.execute_reply": "2025-02-13T20:09:13.917612Z",
     "shell.execute_reply.started": "2025-02-13T20:09:13.905412Z"
    }
   },
   "outputs": [
    {
     "name": "stdout",
     "output_type": "stream",
     "text": [
      "<class 'pandas.core.series.Series'>\n",
      "RangeIndex: 28106 entries, 0 to 28105\n",
      "Series name: Curr_if_Other\n",
      "Non-Null Count  Dtype \n",
      "--------------  ----- \n",
      "211 non-null    object\n",
      "dtypes: object(1)\n",
      "memory usage: 219.7+ KB\n"
     ]
    }
   ],
   "source": [
    "df_csv['Curr_if_Other'].info()"
   ]
  },
  {
   "cell_type": "code",
   "execution_count": 29,
   "id": "f8b01ea7-134f-4367-a840-c9e8ee672f71",
   "metadata": {
    "execution": {
     "iopub.execute_input": "2025-02-13T20:09:13.921626Z",
     "iopub.status.busy": "2025-02-13T20:09:13.921626Z",
     "iopub.status.idle": "2025-02-13T20:09:13.935147Z",
     "shell.execute_reply": "2025-02-13T20:09:13.932626Z",
     "shell.execute_reply.started": "2025-02-13T20:09:13.921626Z"
    }
   },
   "outputs": [
    {
     "name": "stderr",
     "output_type": "stream",
     "text": [
      "C:\\Users\\davidm\\AppData\\Local\\Temp\\ipykernel_3776\\3082733059.py:1: FutureWarning: A value is trying to be set on a copy of a DataFrame or Series through chained assignment using an inplace method.\n",
      "The behavior will change in pandas 3.0. This inplace method will never work because the intermediate object on which we are setting values always behaves as a copy.\n",
      "\n",
      "For example, when doing 'df[col].method(value, inplace=True)', try using 'df.method({col: value}, inplace=True)' or df[col] = df[col].method(value) instead, to perform the operation inplace on the original object.\n",
      "\n",
      "\n",
      "  df_csv['Curr_if_Other'].fillna('', inplace=True)\n"
     ]
    }
   ],
   "source": [
    "df_csv['Curr_if_Other'].fillna('', inplace=True)"
   ]
  },
  {
   "cell_type": "code",
   "execution_count": 30,
   "id": "f8d8be25-514f-4b5d-bd83-dd593d5c72dc",
   "metadata": {
    "execution": {
     "iopub.execute_input": "2025-02-13T20:09:13.938148Z",
     "iopub.status.busy": "2025-02-13T20:09:13.937148Z",
     "iopub.status.idle": "2025-02-13T20:09:13.951672Z",
     "shell.execute_reply": "2025-02-13T20:09:13.951672Z",
     "shell.execute_reply.started": "2025-02-13T20:09:13.938148Z"
    },
    "scrolled": true
   },
   "outputs": [
    {
     "name": "stdout",
     "output_type": "stream",
     "text": [
      "<class 'pandas.core.series.Series'>\n",
      "RangeIndex: 28106 entries, 0 to 28105\n",
      "Series name: Curr_if_Other\n",
      "Non-Null Count  Dtype \n",
      "--------------  ----- \n",
      "28106 non-null  object\n",
      "dtypes: object(1)\n",
      "memory usage: 219.7+ KB\n"
     ]
    }
   ],
   "source": [
    "df_csv['Curr_if_Other'].info()"
   ]
  },
  {
   "cell_type": "markdown",
   "id": "897fe6ce-f9c7-403c-b7b5-02f9b54400cf",
   "metadata": {
    "execution": {
     "iopub.execute_input": "2025-02-12T20:11:55.668448Z",
     "iopub.status.busy": "2025-02-12T20:11:55.667448Z",
     "iopub.status.idle": "2025-02-12T20:11:55.678121Z",
     "shell.execute_reply": "2025-02-12T20:11:55.677111Z",
     "shell.execute_reply.started": "2025-02-12T20:11:55.668448Z"
    }
   },
   "source": [
    "Now there are no null values in the Curr_if_Other column. Let's try that same `.apply()` method again."
   ]
  },
  {
   "cell_type": "code",
   "execution_count": 31,
   "id": "eb66c71c-88da-4d06-949d-f7117aa924e8",
   "metadata": {
    "execution": {
     "iopub.execute_input": "2025-02-13T20:09:13.954092Z",
     "iopub.status.busy": "2025-02-13T20:09:13.953090Z",
     "iopub.status.idle": "2025-02-13T20:09:13.962602Z",
     "shell.execute_reply": "2025-02-13T20:09:13.962092Z",
     "shell.execute_reply.started": "2025-02-13T20:09:13.954092Z"
    }
   },
   "outputs": [],
   "source": [
    "df_csv['Curr_if_Other'] = df_csv['Curr_if_Other'].apply(lambda x: x.lower().strip())"
   ]
  },
  {
   "cell_type": "code",
   "execution_count": 32,
   "id": "0ce1e9d3-842a-44c4-9f13-01b685fb1786",
   "metadata": {
    "execution": {
     "iopub.execute_input": "2025-02-13T20:09:13.964610Z",
     "iopub.status.busy": "2025-02-13T20:09:13.963610Z",
     "iopub.status.idle": "2025-02-13T20:09:13.975106Z",
     "shell.execute_reply": "2025-02-13T20:09:13.973614Z",
     "shell.execute_reply.started": "2025-02-13T20:09:13.964610Z"
    },
    "scrolled": true
   },
   "outputs": [
    {
     "data": {
      "text/plain": [
       "['australia',\n",
       " 'new zealand',\n",
       " 'new zealand aotearoa',\n",
       " 'nz',\n",
       " 'australi',\n",
       " 'canada',\n",
       " 'from new zealand but on projects across apac',\n",
       " 'usa',\n",
       " 'aotearoa new zealand']"
      ]
     },
     "execution_count": 32,
     "metadata": {},
     "output_type": "execute_result"
    }
   ],
   "source": [
    "au_nz_list = df_csv[df_csv['Currency'] == 'aud/nzd']['Country'].unique().tolist()\n",
    "au_nz_list"
   ]
  },
  {
   "cell_type": "markdown",
   "id": "af3482cb-9df1-4f42-8e4c-624e74531b0f",
   "metadata": {},
   "source": [
    "#### Python Code from Python Code"
   ]
  },
  {
   "cell_type": "markdown",
   "id": "3293d04e-3114-4d88-b922-e7885e07e593",
   "metadata": {},
   "source": [
    "We now have a list of country names for respondents who are paid in \"AUD/NZD\". We can use this list to create a dictionary to further standardize the values in this field.\n",
    "\n",
    "A neat little trick we can do in Python to avoid having to retype code is to write a chunk of code that prints out components of code that we can use later on.\n",
    "\n",
    "For this, we can plug the list of \"Country\" values associated with AUD/NZD into a dictionary comprehension (yes, those exist!), and then use the printout as a template to insert the names we actually want to use."
   ]
  },
  {
   "cell_type": "code",
   "execution_count": 33,
   "id": "ce535eb6-e074-46d3-ba76-e772d0d76b1c",
   "metadata": {
    "execution": {
     "iopub.execute_input": "2025-02-13T20:09:13.977104Z",
     "iopub.status.busy": "2025-02-13T20:09:13.977104Z",
     "iopub.status.idle": "2025-02-13T20:09:13.983335Z",
     "shell.execute_reply": "2025-02-13T20:09:13.982328Z",
     "shell.execute_reply.started": "2025-02-13T20:09:13.977104Z"
    }
   },
   "outputs": [
    {
     "data": {
      "text/plain": [
       "{'australia': '',\n",
       " 'new zealand': '',\n",
       " 'new zealand aotearoa': '',\n",
       " 'nz': '',\n",
       " 'australi': '',\n",
       " 'canada': '',\n",
       " 'from new zealand but on projects across apac': '',\n",
       " 'usa': '',\n",
       " 'aotearoa new zealand': ''}"
      ]
     },
     "execution_count": 33,
     "metadata": {},
     "output_type": "execute_result"
    }
   ],
   "source": [
    "au_nz_dict = {country: '' for country in au_nz_list}\n",
    "au_nz_dict"
   ]
  },
  {
   "cell_type": "markdown",
   "id": "4a9f0350-708f-4b81-aca8-78c76272c9f6",
   "metadata": {},
   "source": [
    "## CODING EXERCISE"
   ]
  },
  {
   "cell_type": "code",
   "execution_count": 34,
   "id": "8e542411-6d58-4b14-8b94-c7346f65cbf6",
   "metadata": {
    "execution": {
     "iopub.execute_input": "2025-02-13T20:09:13.984336Z",
     "iopub.status.busy": "2025-02-13T20:09:13.984336Z",
     "iopub.status.idle": "2025-02-13T20:09:13.991375Z",
     "shell.execute_reply": "2025-02-13T20:09:13.990367Z",
     "shell.execute_reply.started": "2025-02-13T20:09:13.984336Z"
    }
   },
   "outputs": [
    {
     "data": {
      "text/plain": [
       "{}"
      ]
     },
     "execution_count": 34,
     "metadata": {},
     "output_type": "execute_result"
    }
   ],
   "source": [
    "#Copy-paste that here into the cell, replacing the \"{}\"\n",
    "#then insert the values you think are appropriate to each country:\n",
    "\n",
    "################################################################################\n",
    "################################################################################\n",
    "\n",
    "\n",
    "au_nz_dict = {}\n",
    "\n",
    "au_nz_dict\n",
    "\n",
    "################################################################################\n",
    "################################################################################\n"
   ]
  },
  {
   "cell_type": "markdown",
   "id": "87ff99b6-7d7a-4c4e-b9f7-02fe2b682d81",
   "metadata": {},
   "source": [
    "#### Finished Dictionary (Click to Reveal):"
   ]
  },
  {
   "cell_type": "code",
   "execution_count": 35,
   "id": "c6ef649b-8a33-4345-9124-1689cd8efe2f",
   "metadata": {
    "execution": {
     "iopub.execute_input": "2025-02-13T20:09:13.992374Z",
     "iopub.status.busy": "2025-02-13T20:09:13.992374Z",
     "iopub.status.idle": "2025-02-13T20:09:14.001262Z",
     "shell.execute_reply": "2025-02-13T20:09:13.999252Z",
     "shell.execute_reply.started": "2025-02-13T20:09:13.992374Z"
    }
   },
   "outputs": [
    {
     "data": {
      "text/plain": [
       "{'australia': 'australia',\n",
       " 'new zealand': 'new zealand',\n",
       " 'new zealand aotearoa': 'new zealand',\n",
       " 'nz': 'new zealand',\n",
       " 'australi': 'australia',\n",
       " 'canada': 'canada',\n",
       " 'from new zealand but on projects across apac': 'new zealand',\n",
       " 'usa': 'usa',\n",
       " 'aotearoa new zealand': 'new zealand'}"
      ]
     },
     "execution_count": 35,
     "metadata": {},
     "output_type": "execute_result"
    }
   ],
   "source": [
    "#Copy-paste that here, then insert the values appropriate to each country:\n",
    "\n",
    "au_nz_dict = {'australia': 'australia',\n",
    " 'new zealand': 'new zealand',\n",
    " 'new zealand aotearoa': 'new zealand',\n",
    " 'nz': 'new zealand',\n",
    " 'australi': 'australia',\n",
    " 'canada': 'canada',\n",
    " 'from new zealand but on projects across apac': 'new zealand',\n",
    " 'usa': 'usa',\n",
    " 'aotearoa new zealand': 'new zealand'}\n",
    "\n",
    "au_nz_dict"
   ]
  },
  {
   "cell_type": "markdown",
   "id": "744c2441-f0cc-4f12-826b-28e4bb8ba4cc",
   "metadata": {},
   "source": [
    "### Conditional Statents Inside Lambdas:"
   ]
  },
  {
   "cell_type": "code",
   "execution_count": 36,
   "id": "6e0dba2f-f9b4-4202-ac2a-84faf7c909a1",
   "metadata": {
    "execution": {
     "iopub.execute_input": "2025-02-13T20:09:14.003264Z",
     "iopub.status.busy": "2025-02-13T20:09:14.003264Z",
     "iopub.status.idle": "2025-02-13T20:09:14.020087Z",
     "shell.execute_reply": "2025-02-13T20:09:14.019076Z",
     "shell.execute_reply.started": "2025-02-13T20:09:14.003264Z"
    }
   },
   "outputs": [],
   "source": [
    "df_csv['Country'] = df_csv['Country'].apply(lambda x: au_nz_dict[x] if x in au_nz_dict.keys() else x)"
   ]
  },
  {
   "cell_type": "code",
   "execution_count": 37,
   "id": "c94efd4a-0ed0-4796-a5a3-606d62073e41",
   "metadata": {
    "execution": {
     "iopub.execute_input": "2025-02-13T20:09:14.023091Z",
     "iopub.status.busy": "2025-02-13T20:09:14.022086Z",
     "iopub.status.idle": "2025-02-13T20:09:14.037594Z",
     "shell.execute_reply": "2025-02-13T20:09:14.034583Z",
     "shell.execute_reply.started": "2025-02-13T20:09:14.023091Z"
    }
   },
   "outputs": [
    {
     "name": "stdout",
     "output_type": "stream",
     "text": [
      "Object `now` not found.\n"
     ]
    }
   ],
   "source": [
    "How many values are there now?"
   ]
  },
  {
   "cell_type": "code",
   "execution_count": 38,
   "id": "b41b3ee4-c887-48f1-a6f8-9cdcbac44899",
   "metadata": {
    "execution": {
     "iopub.execute_input": "2025-02-13T20:09:14.041596Z",
     "iopub.status.busy": "2025-02-13T20:09:14.040595Z",
     "iopub.status.idle": "2025-02-13T20:09:14.062433Z",
     "shell.execute_reply": "2025-02-13T20:09:14.059908Z",
     "shell.execute_reply.started": "2025-02-13T20:09:14.041596Z"
    },
    "scrolled": true
   },
   "outputs": [
    {
     "data": {
      "text/plain": [
       "['australia', 'new zealand', 'canada', 'usa']"
      ]
     },
     "execution_count": 38,
     "metadata": {},
     "output_type": "execute_result"
    }
   ],
   "source": [
    "df_csv[df_csv['Currency'] == 'aud/nzd']['Country'].unique().tolist()"
   ]
  },
  {
   "cell_type": "markdown",
   "id": "5799bc55-3e21-47f6-9e07-c1093ddfa860",
   "metadata": {},
   "source": [
    "From here, how do we convert the Currency to AUD and NZD from AUD/NZD based on country?\n",
    "\n",
    "We can use another `.apply(lambda)` statement, but this time, since we need to use data from both the Currency and Country columns, we have to define a function and use the `.apply()` on the DataFrame itself, not just a single column.\n",
    "\n",
    "We do have two entries for which the Currency is listed as AUD/NZD but the Country is neither Australia nor New Zealand. We can check these for additional context, but we may need to end up throwing these out if we can't determine which Currency they are actually using. We'll convert these to \"Other\" for the time being, so we can dispense with the erroneous \"AUD/NZD\" label."
   ]
  },
  {
   "cell_type": "code",
   "execution_count": 39,
   "id": "eca57982-2d65-4169-9953-5ddebc6ef395",
   "metadata": {
    "execution": {
     "iopub.execute_input": "2025-02-13T20:09:14.065432Z",
     "iopub.status.busy": "2025-02-13T20:09:14.065432Z",
     "iopub.status.idle": "2025-02-13T20:09:14.213858Z",
     "shell.execute_reply": "2025-02-13T20:09:14.213858Z",
     "shell.execute_reply.started": "2025-02-13T20:09:14.065432Z"
    }
   },
   "outputs": [],
   "source": [
    "def currency_aud_nzd(x, y):\n",
    "    \"\"\"\n",
    "    x = 'Currency', y = 'Country'\n",
    "\n",
    "    Check if Currency is 'aud/nzd'\n",
    "    If so, check Country\n",
    "    \n",
    "    \"\"\"\n",
    "    \n",
    "    if x == 'aud/nzd':\n",
    "        if y == 'australia':\n",
    "            x = 'aud'\n",
    "        elif y == 'new zealand':\n",
    "            x = 'nzd'\n",
    "        else:\n",
    "            x = 'Other'\n",
    "    \n",
    "    return x\n",
    "\n",
    "df_csv['Currency'] = df_csv.apply(lambda x: currency_aud_nzd(x['Currency'], x['Country']), axis=1)"
   ]
  },
  {
   "cell_type": "code",
   "execution_count": 40,
   "id": "5eaead39-3bef-462c-9dee-759dbf06d2ff",
   "metadata": {
    "execution": {
     "iopub.execute_input": "2025-02-13T20:09:14.215865Z",
     "iopub.status.busy": "2025-02-13T20:09:14.214865Z",
     "iopub.status.idle": "2025-02-13T20:09:14.221864Z",
     "shell.execute_reply": "2025-02-13T20:09:14.221864Z",
     "shell.execute_reply.started": "2025-02-13T20:09:14.215865Z"
    }
   },
   "outputs": [
    {
     "data": {
      "text/plain": [
       "array(['usd', 'gbp', 'cad', 'eur', 'aud', 'other', 'chf', 'zar', 'sek',\n",
       "       'hkd', 'nzd', 'jpy', 'Other'], dtype=object)"
      ]
     },
     "execution_count": 40,
     "metadata": {},
     "output_type": "execute_result"
    }
   ],
   "source": [
    "df_csv['Currency'].unique()"
   ]
  },
  {
   "cell_type": "code",
   "execution_count": null,
   "id": "bb057f65-01bd-4db1-a8b5-2f70b29f3141",
   "metadata": {},
   "outputs": [],
   "source": []
  },
  {
   "cell_type": "code",
   "execution_count": 41,
   "id": "4e1cf2bc-fc6a-4207-82c9-1851cfbd0922",
   "metadata": {
    "execution": {
     "iopub.execute_input": "2025-02-13T20:09:14.223144Z",
     "iopub.status.busy": "2025-02-13T20:09:14.223144Z",
     "iopub.status.idle": "2025-02-13T20:09:14.236473Z",
     "shell.execute_reply": "2025-02-13T20:09:14.235465Z",
     "shell.execute_reply.started": "2025-02-13T20:09:14.223144Z"
    }
   },
   "outputs": [
    {
     "data": {
      "text/plain": [
       "Curr_if_Other\n",
       "                        27895\n",
       "sgd                        13\n",
       "dkk                        12\n",
       "nok                        11\n",
       "inr                        11\n",
       "                        ...  \n",
       "sek                         1\n",
       "krw (korean won)            1\n",
       "base plus commission        1\n",
       "philippine peso             1\n",
       "tzs                         1\n",
       "Name: count, Length: 109, dtype: int64"
      ]
     },
     "execution_count": 41,
     "metadata": {},
     "output_type": "execute_result"
    }
   ],
   "source": [
    "df_csv['Curr_if_Other'].value_counts()"
   ]
  },
  {
   "cell_type": "markdown",
   "id": "8864d38d-0965-4c27-b5d7-a662b3a18607",
   "metadata": {},
   "source": [
    "That's a lot of distinct currencies in the Curr_if_Other column. We can also see that there are some entries that are not currencies, but rather comments or erroneously placed salary figures."
   ]
  },
  {
   "cell_type": "markdown",
   "id": "9b9c445a-4ff6-4712-9e87-c2d563c3c258",
   "metadata": {},
   "source": [
    "We will have to standardize the currency designations to match the three-character abbreviation, then merge the Currency and Curr_if_Other columns where Currency is 'Other'."
   ]
  },
  {
   "cell_type": "markdown",
   "id": "40b68d14-537b-456f-bd70-bf2604922fa4",
   "metadata": {},
   "source": [
    "Let's see what values show up most and least often in the other fields:"
   ]
  },
  {
   "cell_type": "code",
   "execution_count": 42,
   "id": "c6d7fb40-69fd-4b8d-b8bf-cae761ca26b0",
   "metadata": {
    "execution": {
     "iopub.execute_input": "2025-02-13T20:09:14.238475Z",
     "iopub.status.busy": "2025-02-13T20:09:14.237472Z",
     "iopub.status.idle": "2025-02-13T20:09:14.251628Z",
     "shell.execute_reply": "2025-02-13T20:09:14.250619Z",
     "shell.execute_reply.started": "2025-02-13T20:09:14.238475Z"
    }
   },
   "outputs": [
    {
     "data": {
      "text/plain": [
       "256"
      ]
     },
     "execution_count": 42,
     "metadata": {},
     "output_type": "execute_result"
    }
   ],
   "source": [
    "len(df_csv['Country'].unique())"
   ]
  },
  {
   "cell_type": "code",
   "execution_count": 43,
   "id": "784ff560-2116-4459-a2cd-1ea56553d8d5",
   "metadata": {
    "execution": {
     "iopub.execute_input": "2025-02-13T20:09:14.254628Z",
     "iopub.status.busy": "2025-02-13T20:09:14.253628Z",
     "iopub.status.idle": "2025-02-13T20:09:14.266755Z",
     "shell.execute_reply": "2025-02-13T20:09:14.265745Z",
     "shell.execute_reply.started": "2025-02-13T20:09:14.254628Z"
    }
   },
   "outputs": [
    {
     "data": {
      "text/plain": [
       "Country\n",
       "united states               10026\n",
       "usa                          9065\n",
       "us                           2779\n",
       "canada                       1680\n",
       "uk                            692\n",
       "united kingdom                634\n",
       "u.s.                          604\n",
       "united states of america      492\n",
       "australia                     390\n",
       "germany                       197\n",
       "Name: count, dtype: int64"
      ]
     },
     "execution_count": 43,
     "metadata": {},
     "output_type": "execute_result"
    }
   ],
   "source": [
    "df_csv['Country'].value_counts().head(10)"
   ]
  },
  {
   "cell_type": "code",
   "execution_count": 44,
   "id": "8af19b3a-3c3b-43b9-82b5-100670be794d",
   "metadata": {
    "execution": {
     "iopub.execute_input": "2025-02-13T20:09:14.268755Z",
     "iopub.status.busy": "2025-02-13T20:09:14.268755Z",
     "iopub.status.idle": "2025-02-13T20:09:14.281265Z",
     "shell.execute_reply": "2025-02-13T20:09:14.280757Z",
     "shell.execute_reply.started": "2025-02-13T20:09:14.268755Z"
    }
   },
   "outputs": [
    {
     "data": {
      "text/plain": [
       "Country\n",
       "from romania, but for an us based company    1\n",
       "somalia                                      1\n",
       "wales (united kingdom)                       1\n",
       "england, gb                                  1\n",
       "danmark                                      1\n",
       "u.k. (northern england)                      1\n",
       "u.k                                          1\n",
       "nl                                           1\n",
       "nederland                                    1\n",
       "česká republika                              1\n",
       "Name: count, dtype: int64"
      ]
     },
     "execution_count": 44,
     "metadata": {},
     "output_type": "execute_result"
    }
   ],
   "source": [
    "df_csv['Country'].value_counts().tail(10)"
   ]
  },
  {
   "cell_type": "code",
   "execution_count": 45,
   "id": "5b418e13-69a4-40f1-93b9-63c383e6b80e",
   "metadata": {
    "execution": {
     "iopub.execute_input": "2025-02-13T20:09:14.283274Z",
     "iopub.status.busy": "2025-02-13T20:09:14.282273Z",
     "iopub.status.idle": "2025-02-13T20:09:14.294780Z",
     "shell.execute_reply": "2025-02-13T20:09:14.294275Z",
     "shell.execute_reply.started": "2025-02-13T20:09:14.283274Z"
    },
    "scrolled": true
   },
   "outputs": [
    {
     "data": {
      "text/plain": [
       "Job_Title\n",
       "Software Engineer           286\n",
       "Project Manager             230\n",
       "Director                    198\n",
       "Senior Software Engineer    196\n",
       "Program Manager             152\n",
       "Teacher                     151\n",
       "Librarian                   150\n",
       "Manager                     145\n",
       "Executive Assistant         136\n",
       "Product Manager             125\n",
       "Name: count, dtype: int64"
      ]
     },
     "execution_count": 45,
     "metadata": {},
     "output_type": "execute_result"
    }
   ],
   "source": [
    "df_csv['Job_Title'].value_counts().head(10)"
   ]
  },
  {
   "cell_type": "code",
   "execution_count": 46,
   "id": "e77d9e32-f135-4364-aefa-e3ee3ea75639",
   "metadata": {
    "execution": {
     "iopub.execute_input": "2025-02-13T20:09:14.296785Z",
     "iopub.status.busy": "2025-02-13T20:09:14.295786Z",
     "iopub.status.idle": "2025-02-13T20:09:14.307256Z",
     "shell.execute_reply": "2025-02-13T20:09:14.306249Z",
     "shell.execute_reply.started": "2025-02-13T20:09:14.296785Z"
    },
    "scrolled": true
   },
   "outputs": [
    {
     "data": {
      "text/plain": [
       "Job_Title\n",
       "Tax Administrator                                 1\n",
       "Pharmacy Supervisor                               1\n",
       "Education and Outreach Coordinator                1\n",
       "Associate Tutor                                   1\n",
       "instructor of medicine                            1\n",
       "Director of Agency Services                       1\n",
       "Teacher - high school                             1\n",
       "Payroll Administration                            1\n",
       "Certified Coder                                   1\n",
       "Product communication and education specialist    1\n",
       "Name: count, dtype: int64"
      ]
     },
     "execution_count": 46,
     "metadata": {},
     "output_type": "execute_result"
    }
   ],
   "source": [
    "df_csv['Job_Title'].value_counts().tail(10)"
   ]
  },
  {
   "cell_type": "code",
   "execution_count": 47,
   "id": "2d6de4e9-4c20-4738-9042-709f46120c3b",
   "metadata": {
    "execution": {
     "iopub.execute_input": "2025-02-13T20:09:14.309256Z",
     "iopub.status.busy": "2025-02-13T20:09:14.308259Z",
     "iopub.status.idle": "2025-02-13T20:09:14.317104Z",
     "shell.execute_reply": "2025-02-13T20:09:14.316096Z",
     "shell.execute_reply.started": "2025-02-13T20:09:14.309256Z"
    }
   },
   "outputs": [
    {
     "data": {
      "text/plain": [
       "0.5114922080694514"
      ]
     },
     "execution_count": 47,
     "metadata": {},
     "output_type": "execute_result"
    }
   ],
   "source": [
    "len(df_csv['Job_Title'].unique())/len(df_csv)"
   ]
  },
  {
   "cell_type": "code",
   "execution_count": 48,
   "id": "016b47a0-5951-4257-b625-78731bb9f456",
   "metadata": {
    "execution": {
     "iopub.execute_input": "2025-02-13T20:09:14.319109Z",
     "iopub.status.busy": "2025-02-13T20:09:14.319109Z",
     "iopub.status.idle": "2025-02-13T20:09:14.328462Z",
     "shell.execute_reply": "2025-02-13T20:09:14.327454Z",
     "shell.execute_reply.started": "2025-02-13T20:09:14.319109Z"
    }
   },
   "outputs": [
    {
     "data": {
      "text/plain": [
       "Age\n",
       "25-34         12668\n",
       "35-44          9907\n",
       "45-54          3192\n",
       "18-24          1236\n",
       "55-64           994\n",
       "65 or over       95\n",
       "under 18         14\n",
       "Name: count, dtype: int64"
      ]
     },
     "execution_count": 48,
     "metadata": {},
     "output_type": "execute_result"
    }
   ],
   "source": [
    "df_csv['Age'].value_counts()"
   ]
  },
  {
   "cell_type": "code",
   "execution_count": 49,
   "id": "1fb52227-d043-4de6-a53e-a404d5d501e2",
   "metadata": {
    "execution": {
     "iopub.execute_input": "2025-02-13T20:09:14.329462Z",
     "iopub.status.busy": "2025-02-13T20:09:14.329462Z",
     "iopub.status.idle": "2025-02-13T20:09:14.344863Z",
     "shell.execute_reply": "2025-02-13T20:09:14.341851Z",
     "shell.execute_reply.started": "2025-02-13T20:09:14.329462Z"
    }
   },
   "outputs": [
    {
     "data": {
      "text/plain": [
       "Gender\n",
       "Woman                            21387\n",
       "Man                               5502\n",
       "Non-binary                         747\n",
       "Other or prefer not to answer      298\n",
       "Prefer not to answer                 1\n",
       "Name: count, dtype: int64"
      ]
     },
     "execution_count": 49,
     "metadata": {},
     "output_type": "execute_result"
    }
   ],
   "source": [
    "df_csv['Gender'].value_counts()"
   ]
  },
  {
   "cell_type": "code",
   "execution_count": 50,
   "id": "218b911b-2dce-4c12-bd25-40898e434df6",
   "metadata": {
    "execution": {
     "iopub.execute_input": "2025-02-13T20:09:14.348392Z",
     "iopub.status.busy": "2025-02-13T20:09:14.347376Z",
     "iopub.status.idle": "2025-02-13T20:09:14.364861Z",
     "shell.execute_reply": "2025-02-13T20:09:14.362848Z",
     "shell.execute_reply.started": "2025-02-13T20:09:14.348392Z"
    }
   },
   "outputs": [
    {
     "data": {
      "text/plain": [
       "Work_Exp\n",
       "11 - 20 years       9629\n",
       "8 - 10 years        5381\n",
       "5-7 years           4886\n",
       "21 - 30 years       3644\n",
       "2 - 4 years         3038\n",
       "31 - 40 years        870\n",
       "1 year or less       533\n",
       "41 years or more     125\n",
       "Name: count, dtype: int64"
      ]
     },
     "execution_count": 50,
     "metadata": {},
     "output_type": "execute_result"
    }
   ],
   "source": [
    "df_csv['Work_Exp'].value_counts()"
   ]
  },
  {
   "cell_type": "code",
   "execution_count": 51,
   "id": "28a7ce0d-8979-4151-b63d-a6e7feb1aa38",
   "metadata": {
    "execution": {
     "iopub.execute_input": "2025-02-13T20:09:14.368860Z",
     "iopub.status.busy": "2025-02-13T20:09:14.367862Z",
     "iopub.status.idle": "2025-02-13T20:09:14.387390Z",
     "shell.execute_reply": "2025-02-13T20:09:14.385867Z",
     "shell.execute_reply.started": "2025-02-13T20:09:14.368860Z"
    }
   },
   "outputs": [
    {
     "data": {
      "text/plain": [
       "Income_Context\n",
       "Hourly                                                                                                 4\n",
       "Bonus not guaranteed                                                                                   3\n",
       "Stock                                                                                                  3\n",
       "10 month employee                                                                                      3\n",
       "Before tax                                                                                             3\n",
       "                                                                                                      ..\n",
       "My income is salaried but weekly hourly expectations are 55-60 hours per week.                         1\n",
       "I only work part time, so my actual take-home pay is closer to $40k/year.                              1\n",
       "Additional compensation is calculated as % of my annual salary based on the company annual results     1\n",
       "I'm paid minimum wage for my province                                                                  1\n",
       "full time pharmacist and superintendent                                                                1\n",
       "Name: count, Length: 2983, dtype: int64"
      ]
     },
     "execution_count": 51,
     "metadata": {},
     "output_type": "execute_result"
    }
   ],
   "source": [
    "df_csv['Income_Context'].value_counts()"
   ]
  },
  {
   "cell_type": "code",
   "execution_count": 52,
   "id": "6a8a5a21-5f7f-431d-aab5-cf9077aca4bc",
   "metadata": {
    "execution": {
     "iopub.execute_input": "2025-02-13T20:09:14.392390Z",
     "iopub.status.busy": "2025-02-13T20:09:14.391391Z",
     "iopub.status.idle": "2025-02-13T20:09:14.408635Z",
     "shell.execute_reply": "2025-02-13T20:09:14.405625Z",
     "shell.execute_reply.started": "2025-02-13T20:09:14.392390Z"
    },
    "scrolled": true
   },
   "outputs": [
    {
     "data": {
      "text/plain": [
       "Field_Exp\n",
       "11 - 20 years       6540\n",
       "5-7 years           6524\n",
       "2 - 4 years         6263\n",
       "8 - 10 years        4984\n",
       "21 - 30 years       1870\n",
       "1 year or less      1500\n",
       "31 - 40 years        384\n",
       "41 years or more      41\n",
       "Name: count, dtype: int64"
      ]
     },
     "execution_count": 52,
     "metadata": {},
     "output_type": "execute_result"
    }
   ],
   "source": [
    "df_csv['Field_Exp'].value_counts()"
   ]
  },
  {
   "cell_type": "code",
   "execution_count": 53,
   "id": "6f22f7ca-e171-488c-8eb4-69b80aa58942",
   "metadata": {
    "execution": {
     "iopub.execute_input": "2025-02-13T20:09:14.420633Z",
     "iopub.status.busy": "2025-02-13T20:09:14.420633Z",
     "iopub.status.idle": "2025-02-13T20:09:14.430070Z",
     "shell.execute_reply": "2025-02-13T20:09:14.429064Z",
     "shell.execute_reply.started": "2025-02-13T20:09:14.420633Z"
    },
    "scrolled": true
   },
   "outputs": [
    {
     "data": {
      "text/plain": [
       "Educ_Level\n",
       "College degree                        13536\n",
       "Master's degree                        8877\n",
       "Some college                           2075\n",
       "PhD                                    1427\n",
       "Professional degree (MD, JD, etc.)     1325\n",
       "High School                             643\n",
       "Name: count, dtype: int64"
      ]
     },
     "execution_count": 53,
     "metadata": {},
     "output_type": "execute_result"
    }
   ],
   "source": [
    "df_csv['Educ_Level'].value_counts()"
   ]
  },
  {
   "cell_type": "code",
   "execution_count": 54,
   "id": "26889d35-e56a-4a26-b06f-4e8f2cb7be93",
   "metadata": {
    "execution": {
     "iopub.execute_input": "2025-02-13T20:09:14.431072Z",
     "iopub.status.busy": "2025-02-13T20:09:14.431072Z",
     "iopub.status.idle": "2025-02-13T20:09:14.440369Z",
     "shell.execute_reply": "2025-02-13T20:09:14.439362Z",
     "shell.execute_reply.started": "2025-02-13T20:09:14.431072Z"
    },
    "scrolled": true
   },
   "outputs": [
    {
     "data": {
      "text/plain": [
       "US_State\n",
       "California                                 2611\n",
       "New York                                   2174\n",
       "Massachusetts                              1522\n",
       "Texas                                      1269\n",
       "Illinois                                   1213\n",
       "                                           ... \n",
       "Alaska, Idaho, Oregon, Utah, Washington       1\n",
       "Arizona, California, Nevada, Texas            1\n",
       "Illinois, Kentucky                            1\n",
       "Illinois, Wisconsin                           1\n",
       "Florida, Georgia                              1\n",
       "Name: count, Length: 137, dtype: int64"
      ]
     },
     "execution_count": 54,
     "metadata": {},
     "output_type": "execute_result"
    }
   ],
   "source": [
    "df_csv['US_State'].value_counts()"
   ]
  },
  {
   "cell_type": "code",
   "execution_count": 55,
   "id": "34e1c59d-258d-400a-ad4b-6915f59a3beb",
   "metadata": {
    "execution": {
     "iopub.execute_input": "2025-02-13T20:09:14.441369Z",
     "iopub.status.busy": "2025-02-13T20:09:14.441369Z",
     "iopub.status.idle": "2025-02-13T20:09:14.455246Z",
     "shell.execute_reply": "2025-02-13T20:09:14.454234Z",
     "shell.execute_reply.started": "2025-02-13T20:09:14.441369Z"
    },
    "scrolled": true
   },
   "outputs": [
    {
     "data": {
      "text/plain": [
       "City\n",
       "Boston                   772\n",
       "Chicago                  752\n",
       "New York                 711\n",
       "Seattle                  691\n",
       "London                   576\n",
       "                        ... \n",
       "Ethel                      1\n",
       "Concord, CA                1\n",
       "charlottesville            1\n",
       "A major Canadian city      1\n",
       "Dar es Salaam              1\n",
       "Name: count, Length: 4841, dtype: int64"
      ]
     },
     "execution_count": 55,
     "metadata": {},
     "output_type": "execute_result"
    }
   ],
   "source": [
    "df_csv['City'].value_counts()"
   ]
  },
  {
   "cell_type": "raw",
   "id": "2e85abce-4bb2-4a1d-b71e-0171ef8593cc",
   "metadata": {
    "execution": {
     "iopub.execute_input": "2025-02-01T00:13:44.481209Z",
     "iopub.status.busy": "2025-02-01T00:13:44.481209Z",
     "iopub.status.idle": "2025-02-01T00:13:44.492560Z",
     "shell.execute_reply": "2025-02-01T00:13:44.489526Z",
     "shell.execute_reply.started": "2025-02-01T00:13:44.481209Z"
    }
   },
   "source": [
    "Income_Context \tCountry \tUS_State \tCity \tWork_Exp \tField_Exp \tEduc_Level"
   ]
  },
  {
   "cell_type": "code",
   "execution_count": 56,
   "id": "e2aaf3ff-3c96-4e6a-9472-7d0938a188f1",
   "metadata": {
    "execution": {
     "iopub.execute_input": "2025-02-13T20:09:14.457244Z",
     "iopub.status.busy": "2025-02-13T20:09:14.456241Z",
     "iopub.status.idle": "2025-02-13T20:09:14.471645Z",
     "shell.execute_reply": "2025-02-13T20:09:14.469632Z",
     "shell.execute_reply.started": "2025-02-13T20:09:14.457244Z"
    },
    "scrolled": true
   },
   "outputs": [
    {
     "data": {
      "text/html": [
       "<div>\n",
       "<style scoped>\n",
       "    .dataframe tbody tr th:only-of-type {\n",
       "        vertical-align: middle;\n",
       "    }\n",
       "\n",
       "    .dataframe tbody tr th {\n",
       "        vertical-align: top;\n",
       "    }\n",
       "\n",
       "    .dataframe thead th {\n",
       "        text-align: right;\n",
       "    }\n",
       "</style>\n",
       "<table border=\"1\" class=\"dataframe\">\n",
       "  <thead>\n",
       "    <tr style=\"text-align: right;\">\n",
       "      <th></th>\n",
       "      <th>Timestamp</th>\n",
       "      <th>Age</th>\n",
       "      <th>Industry</th>\n",
       "      <th>Job_Title</th>\n",
       "      <th>Addl_Context</th>\n",
       "      <th>Salary</th>\n",
       "      <th>Addl_Comp</th>\n",
       "      <th>Currency</th>\n",
       "      <th>Curr_if_Other</th>\n",
       "      <th>Income_Context</th>\n",
       "      <th>Country</th>\n",
       "      <th>US_State</th>\n",
       "      <th>City</th>\n",
       "      <th>Work_Exp</th>\n",
       "      <th>Field_Exp</th>\n",
       "      <th>Educ_Level</th>\n",
       "      <th>Gender</th>\n",
       "      <th>Race</th>\n",
       "    </tr>\n",
       "  </thead>\n",
       "  <tbody>\n",
       "    <tr>\n",
       "      <th>0</th>\n",
       "      <td>4/27/2021 11:02:10</td>\n",
       "      <td>25-34</td>\n",
       "      <td>Education (Higher Education)</td>\n",
       "      <td>Research and Instruction Librarian</td>\n",
       "      <td>NaN</td>\n",
       "      <td>55000</td>\n",
       "      <td>0.0</td>\n",
       "      <td>usd</td>\n",
       "      <td></td>\n",
       "      <td>NaN</td>\n",
       "      <td>united states</td>\n",
       "      <td>Massachusetts</td>\n",
       "      <td>Boston</td>\n",
       "      <td>5-7 years</td>\n",
       "      <td>5-7 years</td>\n",
       "      <td>Master's degree</td>\n",
       "      <td>Woman</td>\n",
       "      <td>White</td>\n",
       "    </tr>\n",
       "    <tr>\n",
       "      <th>1</th>\n",
       "      <td>4/27/2021 11:02:22</td>\n",
       "      <td>25-34</td>\n",
       "      <td>Computing or Tech</td>\n",
       "      <td>Change &amp; Internal Communications Manager</td>\n",
       "      <td>NaN</td>\n",
       "      <td>54600</td>\n",
       "      <td>4000.0</td>\n",
       "      <td>gbp</td>\n",
       "      <td></td>\n",
       "      <td>NaN</td>\n",
       "      <td>united kingdom</td>\n",
       "      <td>NaN</td>\n",
       "      <td>Cambridge</td>\n",
       "      <td>8 - 10 years</td>\n",
       "      <td>5-7 years</td>\n",
       "      <td>College degree</td>\n",
       "      <td>Non-binary</td>\n",
       "      <td>White</td>\n",
       "    </tr>\n",
       "    <tr>\n",
       "      <th>2</th>\n",
       "      <td>4/27/2021 11:02:38</td>\n",
       "      <td>25-34</td>\n",
       "      <td>Accounting, Banking &amp; Finance</td>\n",
       "      <td>Marketing Specialist</td>\n",
       "      <td>NaN</td>\n",
       "      <td>34000</td>\n",
       "      <td>NaN</td>\n",
       "      <td>usd</td>\n",
       "      <td></td>\n",
       "      <td>NaN</td>\n",
       "      <td>us</td>\n",
       "      <td>Tennessee</td>\n",
       "      <td>Chattanooga</td>\n",
       "      <td>2 - 4 years</td>\n",
       "      <td>2 - 4 years</td>\n",
       "      <td>College degree</td>\n",
       "      <td>Woman</td>\n",
       "      <td>White</td>\n",
       "    </tr>\n",
       "    <tr>\n",
       "      <th>3</th>\n",
       "      <td>4/27/2021 11:02:41</td>\n",
       "      <td>25-34</td>\n",
       "      <td>Nonprofits</td>\n",
       "      <td>Program Manager</td>\n",
       "      <td>NaN</td>\n",
       "      <td>62000</td>\n",
       "      <td>3000.0</td>\n",
       "      <td>usd</td>\n",
       "      <td></td>\n",
       "      <td>NaN</td>\n",
       "      <td>usa</td>\n",
       "      <td>Wisconsin</td>\n",
       "      <td>Milwaukee</td>\n",
       "      <td>8 - 10 years</td>\n",
       "      <td>5-7 years</td>\n",
       "      <td>College degree</td>\n",
       "      <td>Woman</td>\n",
       "      <td>White</td>\n",
       "    </tr>\n",
       "    <tr>\n",
       "      <th>4</th>\n",
       "      <td>4/27/2021 11:02:42</td>\n",
       "      <td>25-34</td>\n",
       "      <td>Accounting, Banking &amp; Finance</td>\n",
       "      <td>Accounting Manager</td>\n",
       "      <td>NaN</td>\n",
       "      <td>60000</td>\n",
       "      <td>7000.0</td>\n",
       "      <td>usd</td>\n",
       "      <td></td>\n",
       "      <td>NaN</td>\n",
       "      <td>us</td>\n",
       "      <td>South Carolina</td>\n",
       "      <td>Greenville</td>\n",
       "      <td>8 - 10 years</td>\n",
       "      <td>5-7 years</td>\n",
       "      <td>College degree</td>\n",
       "      <td>Woman</td>\n",
       "      <td>White</td>\n",
       "    </tr>\n",
       "    <tr>\n",
       "      <th>...</th>\n",
       "      <td>...</td>\n",
       "      <td>...</td>\n",
       "      <td>...</td>\n",
       "      <td>...</td>\n",
       "      <td>...</td>\n",
       "      <td>...</td>\n",
       "      <td>...</td>\n",
       "      <td>...</td>\n",
       "      <td>...</td>\n",
       "      <td>...</td>\n",
       "      <td>...</td>\n",
       "      <td>...</td>\n",
       "      <td>...</td>\n",
       "      <td>...</td>\n",
       "      <td>...</td>\n",
       "      <td>...</td>\n",
       "      <td>...</td>\n",
       "      <td>...</td>\n",
       "    </tr>\n",
       "    <tr>\n",
       "      <th>28101</th>\n",
       "      <td>12/16/2024 19:10:58</td>\n",
       "      <td>18-24</td>\n",
       "      <td>Engineering or Manufacturing</td>\n",
       "      <td>Clinical Specialist - Biomedical Engineer</td>\n",
       "      <td>NaN</td>\n",
       "      <td>75000</td>\n",
       "      <td>NaN</td>\n",
       "      <td>usd</td>\n",
       "      <td></td>\n",
       "      <td>NaN</td>\n",
       "      <td>united stares</td>\n",
       "      <td>New York</td>\n",
       "      <td>New York City</td>\n",
       "      <td>2 - 4 years</td>\n",
       "      <td>1 year or less</td>\n",
       "      <td>Master's degree</td>\n",
       "      <td>Woman</td>\n",
       "      <td>White</td>\n",
       "    </tr>\n",
       "    <tr>\n",
       "      <th>28102</th>\n",
       "      <td>12/20/2024 6:16:27</td>\n",
       "      <td>55-64</td>\n",
       "      <td>Government and Public Administration</td>\n",
       "      <td>HMRC Engagement Lead</td>\n",
       "      <td>NaN</td>\n",
       "      <td>25000</td>\n",
       "      <td>0.0</td>\n",
       "      <td>gbp</td>\n",
       "      <td></td>\n",
       "      <td>NaN</td>\n",
       "      <td>united kingdom</td>\n",
       "      <td>NaN</td>\n",
       "      <td>Suffolk</td>\n",
       "      <td>21 - 30 years</td>\n",
       "      <td>2 - 4 years</td>\n",
       "      <td>Some college</td>\n",
       "      <td>Woman</td>\n",
       "      <td>White</td>\n",
       "    </tr>\n",
       "    <tr>\n",
       "      <th>28103</th>\n",
       "      <td>12/29/2024 23:50:26</td>\n",
       "      <td>25-34</td>\n",
       "      <td>Entertainment</td>\n",
       "      <td>Junior Editor</td>\n",
       "      <td>NaN</td>\n",
       "      <td>72800</td>\n",
       "      <td>NaN</td>\n",
       "      <td>usd</td>\n",
       "      <td></td>\n",
       "      <td>NaN</td>\n",
       "      <td>united states</td>\n",
       "      <td>California</td>\n",
       "      <td>Los Angeles</td>\n",
       "      <td>5-7 years</td>\n",
       "      <td>5-7 years</td>\n",
       "      <td>Master's degree</td>\n",
       "      <td>Woman</td>\n",
       "      <td>Hispanic, Latino, or Spanish origin, White</td>\n",
       "    </tr>\n",
       "    <tr>\n",
       "      <th>28104</th>\n",
       "      <td>1/3/2025 16:03:10</td>\n",
       "      <td>18-24</td>\n",
       "      <td>Engineering or Manufacturing</td>\n",
       "      <td>Applications Engineer</td>\n",
       "      <td>NaN</td>\n",
       "      <td>100000</td>\n",
       "      <td>21000.0</td>\n",
       "      <td>usd</td>\n",
       "      <td></td>\n",
       "      <td>NaN</td>\n",
       "      <td>usa</td>\n",
       "      <td>Texas</td>\n",
       "      <td>Dallas</td>\n",
       "      <td>1 year or less</td>\n",
       "      <td>1 year or less</td>\n",
       "      <td>Master's degree</td>\n",
       "      <td>Woman</td>\n",
       "      <td>White</td>\n",
       "    </tr>\n",
       "    <tr>\n",
       "      <th>28105</th>\n",
       "      <td>1/16/2025 10:00:47</td>\n",
       "      <td>35-44</td>\n",
       "      <td>Entertainment</td>\n",
       "      <td>Product communication and education specialist</td>\n",
       "      <td>NaN</td>\n",
       "      <td>1000000</td>\n",
       "      <td>NaN</td>\n",
       "      <td>other</td>\n",
       "      <td>czk</td>\n",
       "      <td>NaN</td>\n",
       "      <td>česká republika</td>\n",
       "      <td>NaN</td>\n",
       "      <td>Prague</td>\n",
       "      <td>21 - 30 years</td>\n",
       "      <td>2 - 4 years</td>\n",
       "      <td>High School</td>\n",
       "      <td>Woman</td>\n",
       "      <td>White</td>\n",
       "    </tr>\n",
       "  </tbody>\n",
       "</table>\n",
       "<p>28106 rows × 18 columns</p>\n",
       "</div>"
      ],
      "text/plain": [
       "                 Timestamp    Age                              Industry  \\\n",
       "0       4/27/2021 11:02:10  25-34          Education (Higher Education)   \n",
       "1       4/27/2021 11:02:22  25-34                     Computing or Tech   \n",
       "2       4/27/2021 11:02:38  25-34         Accounting, Banking & Finance   \n",
       "3       4/27/2021 11:02:41  25-34                            Nonprofits   \n",
       "4       4/27/2021 11:02:42  25-34         Accounting, Banking & Finance   \n",
       "...                    ...    ...                                   ...   \n",
       "28101  12/16/2024 19:10:58  18-24          Engineering or Manufacturing   \n",
       "28102   12/20/2024 6:16:27  55-64  Government and Public Administration   \n",
       "28103  12/29/2024 23:50:26  25-34                         Entertainment   \n",
       "28104    1/3/2025 16:03:10  18-24          Engineering or Manufacturing   \n",
       "28105   1/16/2025 10:00:47  35-44                         Entertainment   \n",
       "\n",
       "                                            Job_Title Addl_Context   Salary  \\\n",
       "0                  Research and Instruction Librarian          NaN    55000   \n",
       "1            Change & Internal Communications Manager          NaN    54600   \n",
       "2                                Marketing Specialist          NaN    34000   \n",
       "3                                     Program Manager          NaN    62000   \n",
       "4                                  Accounting Manager          NaN    60000   \n",
       "...                                               ...          ...      ...   \n",
       "28101      Clinical Specialist - Biomedical Engineer           NaN    75000   \n",
       "28102                            HMRC Engagement Lead          NaN    25000   \n",
       "28103                                   Junior Editor          NaN    72800   \n",
       "28104                           Applications Engineer          NaN   100000   \n",
       "28105  Product communication and education specialist          NaN  1000000   \n",
       "\n",
       "       Addl_Comp Currency Curr_if_Other Income_Context          Country  \\\n",
       "0            0.0      usd                          NaN    united states   \n",
       "1         4000.0      gbp                          NaN   united kingdom   \n",
       "2            NaN      usd                          NaN               us   \n",
       "3         3000.0      usd                          NaN              usa   \n",
       "4         7000.0      usd                          NaN               us   \n",
       "...          ...      ...           ...            ...              ...   \n",
       "28101        NaN      usd                          NaN    united stares   \n",
       "28102        0.0      gbp                          NaN   united kingdom   \n",
       "28103        NaN      usd                          NaN    united states   \n",
       "28104    21000.0      usd                          NaN              usa   \n",
       "28105        NaN    other           czk            NaN  česká republika   \n",
       "\n",
       "             US_State            City        Work_Exp       Field_Exp  \\\n",
       "0       Massachusetts          Boston       5-7 years       5-7 years   \n",
       "1                 NaN       Cambridge    8 - 10 years       5-7 years   \n",
       "2           Tennessee     Chattanooga     2 - 4 years     2 - 4 years   \n",
       "3           Wisconsin       Milwaukee    8 - 10 years       5-7 years   \n",
       "4      South Carolina      Greenville    8 - 10 years       5-7 years   \n",
       "...               ...             ...             ...             ...   \n",
       "28101        New York  New York City      2 - 4 years  1 year or less   \n",
       "28102             NaN         Suffolk   21 - 30 years     2 - 4 years   \n",
       "28103      California     Los Angeles       5-7 years       5-7 years   \n",
       "28104           Texas          Dallas  1 year or less  1 year or less   \n",
       "28105             NaN          Prague   21 - 30 years     2 - 4 years   \n",
       "\n",
       "            Educ_Level      Gender                                        Race  \n",
       "0      Master's degree       Woman                                       White  \n",
       "1       College degree  Non-binary                                       White  \n",
       "2       College degree       Woman                                       White  \n",
       "3       College degree       Woman                                       White  \n",
       "4       College degree       Woman                                       White  \n",
       "...                ...         ...                                         ...  \n",
       "28101  Master's degree       Woman                                       White  \n",
       "28102     Some college       Woman                                       White  \n",
       "28103  Master's degree       Woman  Hispanic, Latino, or Spanish origin, White  \n",
       "28104  Master's degree       Woman                                       White  \n",
       "28105      High School       Woman                                       White  \n",
       "\n",
       "[28106 rows x 18 columns]"
      ]
     },
     "execution_count": 56,
     "metadata": {},
     "output_type": "execute_result"
    }
   ],
   "source": [
    "df_csv"
   ]
  },
  {
   "cell_type": "markdown",
   "id": "480185a0-e85f-469f-ba00-2b7341386a8b",
   "metadata": {},
   "source": [
    "### Reformatting Strings as Integers"
   ]
  },
  {
   "cell_type": "code",
   "execution_count": 57,
   "id": "cd4d527e-ea32-4db8-9153-3f56275f0e6f",
   "metadata": {
    "execution": {
     "iopub.execute_input": "2025-02-13T20:09:14.473643Z",
     "iopub.status.busy": "2025-02-13T20:09:14.472645Z",
     "iopub.status.idle": "2025-02-13T20:09:14.487185Z",
     "shell.execute_reply": "2025-02-13T20:09:14.486670Z",
     "shell.execute_reply.started": "2025-02-13T20:09:14.473643Z"
    },
    "scrolled": true
   },
   "outputs": [
    {
     "data": {
      "text/html": [
       "<div>\n",
       "<style scoped>\n",
       "    .dataframe tbody tr th:only-of-type {\n",
       "        vertical-align: middle;\n",
       "    }\n",
       "\n",
       "    .dataframe tbody tr th {\n",
       "        vertical-align: top;\n",
       "    }\n",
       "\n",
       "    .dataframe thead th {\n",
       "        text-align: right;\n",
       "    }\n",
       "</style>\n",
       "<table border=\"1\" class=\"dataframe\">\n",
       "  <thead>\n",
       "    <tr style=\"text-align: right;\">\n",
       "      <th></th>\n",
       "      <th>Timestamp</th>\n",
       "      <th>Age</th>\n",
       "      <th>Industry</th>\n",
       "      <th>Job_Title</th>\n",
       "      <th>Addl_Context</th>\n",
       "      <th>Salary</th>\n",
       "      <th>Addl_Comp</th>\n",
       "      <th>Currency</th>\n",
       "      <th>Curr_if_Other</th>\n",
       "      <th>Income_Context</th>\n",
       "      <th>Country</th>\n",
       "      <th>US_State</th>\n",
       "      <th>City</th>\n",
       "      <th>Work_Exp</th>\n",
       "      <th>Field_Exp</th>\n",
       "      <th>Educ_Level</th>\n",
       "      <th>Gender</th>\n",
       "      <th>Race</th>\n",
       "    </tr>\n",
       "  </thead>\n",
       "  <tbody>\n",
       "    <tr>\n",
       "      <th>0</th>\n",
       "      <td>4/27/2021 11:02:10</td>\n",
       "      <td>25-34</td>\n",
       "      <td>Education (Higher Education)</td>\n",
       "      <td>Research and Instruction Librarian</td>\n",
       "      <td>NaN</td>\n",
       "      <td>55000</td>\n",
       "      <td>0.0</td>\n",
       "      <td>usd</td>\n",
       "      <td></td>\n",
       "      <td>NaN</td>\n",
       "      <td>united states</td>\n",
       "      <td>Massachusetts</td>\n",
       "      <td>Boston</td>\n",
       "      <td>5-7 years</td>\n",
       "      <td>5-7 years</td>\n",
       "      <td>Master's degree</td>\n",
       "      <td>Woman</td>\n",
       "      <td>White</td>\n",
       "    </tr>\n",
       "    <tr>\n",
       "      <th>1</th>\n",
       "      <td>4/27/2021 11:02:22</td>\n",
       "      <td>25-34</td>\n",
       "      <td>Computing or Tech</td>\n",
       "      <td>Change &amp; Internal Communications Manager</td>\n",
       "      <td>NaN</td>\n",
       "      <td>54600</td>\n",
       "      <td>4000.0</td>\n",
       "      <td>gbp</td>\n",
       "      <td></td>\n",
       "      <td>NaN</td>\n",
       "      <td>united kingdom</td>\n",
       "      <td>NaN</td>\n",
       "      <td>Cambridge</td>\n",
       "      <td>8 - 10 years</td>\n",
       "      <td>5-7 years</td>\n",
       "      <td>College degree</td>\n",
       "      <td>Non-binary</td>\n",
       "      <td>White</td>\n",
       "    </tr>\n",
       "    <tr>\n",
       "      <th>2</th>\n",
       "      <td>4/27/2021 11:02:38</td>\n",
       "      <td>25-34</td>\n",
       "      <td>Accounting, Banking &amp; Finance</td>\n",
       "      <td>Marketing Specialist</td>\n",
       "      <td>NaN</td>\n",
       "      <td>34000</td>\n",
       "      <td>NaN</td>\n",
       "      <td>usd</td>\n",
       "      <td></td>\n",
       "      <td>NaN</td>\n",
       "      <td>us</td>\n",
       "      <td>Tennessee</td>\n",
       "      <td>Chattanooga</td>\n",
       "      <td>2 - 4 years</td>\n",
       "      <td>2 - 4 years</td>\n",
       "      <td>College degree</td>\n",
       "      <td>Woman</td>\n",
       "      <td>White</td>\n",
       "    </tr>\n",
       "    <tr>\n",
       "      <th>3</th>\n",
       "      <td>4/27/2021 11:02:41</td>\n",
       "      <td>25-34</td>\n",
       "      <td>Nonprofits</td>\n",
       "      <td>Program Manager</td>\n",
       "      <td>NaN</td>\n",
       "      <td>62000</td>\n",
       "      <td>3000.0</td>\n",
       "      <td>usd</td>\n",
       "      <td></td>\n",
       "      <td>NaN</td>\n",
       "      <td>usa</td>\n",
       "      <td>Wisconsin</td>\n",
       "      <td>Milwaukee</td>\n",
       "      <td>8 - 10 years</td>\n",
       "      <td>5-7 years</td>\n",
       "      <td>College degree</td>\n",
       "      <td>Woman</td>\n",
       "      <td>White</td>\n",
       "    </tr>\n",
       "    <tr>\n",
       "      <th>4</th>\n",
       "      <td>4/27/2021 11:02:42</td>\n",
       "      <td>25-34</td>\n",
       "      <td>Accounting, Banking &amp; Finance</td>\n",
       "      <td>Accounting Manager</td>\n",
       "      <td>NaN</td>\n",
       "      <td>60000</td>\n",
       "      <td>7000.0</td>\n",
       "      <td>usd</td>\n",
       "      <td></td>\n",
       "      <td>NaN</td>\n",
       "      <td>us</td>\n",
       "      <td>South Carolina</td>\n",
       "      <td>Greenville</td>\n",
       "      <td>8 - 10 years</td>\n",
       "      <td>5-7 years</td>\n",
       "      <td>College degree</td>\n",
       "      <td>Woman</td>\n",
       "      <td>White</td>\n",
       "    </tr>\n",
       "  </tbody>\n",
       "</table>\n",
       "</div>"
      ],
      "text/plain": [
       "            Timestamp    Age                       Industry  \\\n",
       "0  4/27/2021 11:02:10  25-34   Education (Higher Education)   \n",
       "1  4/27/2021 11:02:22  25-34              Computing or Tech   \n",
       "2  4/27/2021 11:02:38  25-34  Accounting, Banking & Finance   \n",
       "3  4/27/2021 11:02:41  25-34                     Nonprofits   \n",
       "4  4/27/2021 11:02:42  25-34  Accounting, Banking & Finance   \n",
       "\n",
       "                                  Job_Title Addl_Context  Salary  Addl_Comp  \\\n",
       "0        Research and Instruction Librarian          NaN   55000        0.0   \n",
       "1  Change & Internal Communications Manager          NaN   54600     4000.0   \n",
       "2                      Marketing Specialist          NaN   34000        NaN   \n",
       "3                           Program Manager          NaN   62000     3000.0   \n",
       "4                        Accounting Manager          NaN   60000     7000.0   \n",
       "\n",
       "  Currency Curr_if_Other Income_Context         Country        US_State  \\\n",
       "0      usd                          NaN   united states   Massachusetts   \n",
       "1      gbp                          NaN  united kingdom             NaN   \n",
       "2      usd                          NaN              us       Tennessee   \n",
       "3      usd                          NaN             usa       Wisconsin   \n",
       "4      usd                          NaN              us  South Carolina   \n",
       "\n",
       "          City      Work_Exp    Field_Exp       Educ_Level      Gender   Race  \n",
       "0       Boston     5-7 years    5-7 years  Master's degree       Woman  White  \n",
       "1    Cambridge  8 - 10 years    5-7 years   College degree  Non-binary  White  \n",
       "2  Chattanooga   2 - 4 years  2 - 4 years   College degree       Woman  White  \n",
       "3    Milwaukee  8 - 10 years    5-7 years   College degree       Woman  White  \n",
       "4   Greenville  8 - 10 years    5-7 years   College degree       Woman  White  "
      ]
     },
     "execution_count": 57,
     "metadata": {},
     "output_type": "execute_result"
    }
   ],
   "source": [
    "df_csv.head()"
   ]
  },
  {
   "cell_type": "code",
   "execution_count": 58,
   "id": "71534fdb-bd8b-41a5-91b3-c9a295030981",
   "metadata": {
    "execution": {
     "iopub.execute_input": "2025-02-13T20:09:14.489197Z",
     "iopub.status.busy": "2025-02-13T20:09:14.489197Z",
     "iopub.status.idle": "2025-02-13T20:09:14.496123Z",
     "shell.execute_reply": "2025-02-13T20:09:14.495117Z",
     "shell.execute_reply.started": "2025-02-13T20:09:14.489197Z"
    }
   },
   "outputs": [],
   "source": [
    "df_csv['Addl_Comp'] = df_csv['Addl_Comp'].fillna(0)"
   ]
  },
  {
   "cell_type": "code",
   "execution_count": 59,
   "id": "1dfad40e-8d70-4b50-b42b-c5759f8e8083",
   "metadata": {
    "execution": {
     "iopub.execute_input": "2025-02-13T20:09:14.497125Z",
     "iopub.status.busy": "2025-02-13T20:09:14.497125Z",
     "iopub.status.idle": "2025-02-13T20:09:14.505069Z",
     "shell.execute_reply": "2025-02-13T20:09:14.504058Z",
     "shell.execute_reply.started": "2025-02-13T20:09:14.497125Z"
    }
   },
   "outputs": [
    {
     "data": {
      "text/plain": [
       "Currency\n",
       "usd      23408\n",
       "cad       1675\n",
       "gbp       1592\n",
       "eur        646\n",
       "aud        375\n",
       "other      164\n",
       "nzd        127\n",
       "chf         37\n",
       "sek         37\n",
       "jpy         23\n",
       "zar         16\n",
       "hkd          4\n",
       "Other        2\n",
       "Name: count, dtype: int64"
      ]
     },
     "execution_count": 59,
     "metadata": {},
     "output_type": "execute_result"
    }
   ],
   "source": [
    "df_csv['Currency'].value_counts()"
   ]
  },
  {
   "cell_type": "code",
   "execution_count": 60,
   "id": "31e6c027-0168-475f-81e3-138b21b2cf96",
   "metadata": {
    "execution": {
     "iopub.execute_input": "2025-02-13T20:09:14.507064Z",
     "iopub.status.busy": "2025-02-13T20:09:14.506065Z",
     "iopub.status.idle": "2025-02-13T20:09:14.514944Z",
     "shell.execute_reply": "2025-02-13T20:09:14.514944Z",
     "shell.execute_reply.started": "2025-02-13T20:09:14.507064Z"
    }
   },
   "outputs": [],
   "source": [
    "df_csv['Currency'] = df_csv['Currency'].apply(lambda x: x.lower())"
   ]
  },
  {
   "cell_type": "code",
   "execution_count": 61,
   "id": "41bfafe6-2561-44b7-b438-a65cfda799e1",
   "metadata": {
    "execution": {
     "iopub.execute_input": "2025-02-13T20:09:14.516952Z",
     "iopub.status.busy": "2025-02-13T20:09:14.515950Z",
     "iopub.status.idle": "2025-02-13T20:09:14.524808Z",
     "shell.execute_reply": "2025-02-13T20:09:14.523796Z",
     "shell.execute_reply.started": "2025-02-13T20:09:14.516952Z"
    },
    "scrolled": true
   },
   "outputs": [
    {
     "data": {
      "text/plain": [
       "Curr_if_Other\n",
       "                                                                                             27895\n",
       "sgd                                                                                             13\n",
       "dkk                                                                                             12\n",
       "nok                                                                                             11\n",
       "inr                                                                                             11\n",
       "usd                                                                                             11\n",
       "myr                                                                                              8\n",
       "aud                                                                                              7\n",
       "czk                                                                                              6\n",
       "brl                                                                                              6\n",
       "pln                                                                                              5\n",
       "nzd                                                                                              4\n",
       "canadian                                                                                         3\n",
       "ils                                                                                              3\n",
       "ars                                                                                              2\n",
       "zar                                                                                              2\n",
       "idr                                                                                              2\n",
       "ntd                                                                                              2\n",
       "krw                                                                                              2\n",
       "ngn                                                                                              2\n",
       "mxn                                                                                              2\n",
       "cny                                                                                              2\n",
       "try                                                                                              2\n",
       "php                                                                                              2\n",
       "rupees                                                                                           2\n",
       "thb                                                                                              2\n",
       "na                                                                                               2\n",
       "gbp                                                                                              2\n",
       "mexican pesos                                                                                    2\n",
       "cop                                                                                              2\n",
       "philippine pesos                                                                                 1\n",
       "euro                                                                                             1\n",
       "korean won                                                                                       1\n",
       "cad                                                                                              1\n",
       "danish kroner                                                                                    1\n",
       "my bonus is based on performance up to 10% of salary                                             1\n",
       "inr (indian rupee)                                                                               1\n",
       "rs                                                                                               1\n",
       "rm                                                                                               1\n",
       "argentine peso                                                                                   1\n",
       "option to get 2x or 1.5x if taking on a weekend day in the summer                                1\n",
       "sar                                                                                              1\n",
       "i work for an online state university, managing admissions data. not direct tech support.        1\n",
       "0                                                                                                1\n",
       "converted mine into usd for your easyness                                                        1\n",
       "php (philippine peso)                                                                            1\n",
       "chf                                                                                              1\n",
       "kwd                                                                                              1\n",
       "thai  baht                                                                                       1\n",
       "bdt                                                                                              1\n",
       "Name: count, dtype: int64"
      ]
     },
     "execution_count": 61,
     "metadata": {},
     "output_type": "execute_result"
    }
   ],
   "source": [
    "df_csv['Curr_if_Other'].value_counts().head(50)"
   ]
  },
  {
   "cell_type": "markdown",
   "id": "1b90cd95-c477-49bf-8ead-c094381b5c0b",
   "metadata": {},
   "source": [
    "## Data Preprocessing"
   ]
  },
  {
   "cell_type": "markdown",
   "id": "f9e3d9b4-2f35-46d3-b630-1600af151d27",
   "metadata": {},
   "source": [
    "In data science problems, columns in a dataset are sometimes referred to as \"[features](https://en.wikipedia.org/wiki/Feature_(machine_learning))\". Features are the discrete characteristics of a dataset. \"Feature\" is often used somewhat interchangeably with \"explanatory variable\"/\"independent variable\" to describe individual categories of data that serve as the input for a machine learning and/or statistical model.\n",
    "\n",
    "Often, the existing features of a dataset are adequate but not optimal for creating a model. In such cases, it is sometimes possible to use relationships between different variables in one's dataset to create new features or update existing ones so they are more appropriate inputs. This is often called data transformation or \"[feature engineering](https://en.wikipedia.org/wiki/Feature_engineering)\". One may also pull in data from another source and combine it with the existing data. This process is referred to as data integration. \n",
    "\n",
    "All of these fall under the broader category of [data preprocessing](https://en.wikipedia.org/wiki/Data_preprocessing), which encompasses all the steps from loading the data, cleaning it, transforming it, and combining it with data from other sources, before the modeling stage.\n",
    "\n",
    "In our dataset, we have Salary as a numerical feature and Currency as a categorical feature, but we can't really use either of them to get our summary statistics unless we combine them.\n",
    "\n",
    "We also have a column for additional compensation, which reflects compensation not included in base salary. Not every respondent has a figure for this field, but we'd like to be able to use it where applicable.\n",
    "\n",
    "Towards these goals, we need to find a means of converting currencies so we can interpret the salary all in one currency."
   ]
  },
  {
   "cell_type": "markdown",
   "id": "d371f9f2-494e-480a-a28d-1c198d390e6a",
   "metadata": {},
   "source": [
    "### Data Integration - Compustat Global Historical Currency Exchange Rates"
   ]
  },
  {
   "cell_type": "markdown",
   "id": "1ddc2d05-ce8a-4848-9595-600bee404ae9",
   "metadata": {},
   "source": [
    "When converting foreign currencies to US Dollars, it can be helpful to keep in mind that the exchange rates are not static. \n",
    "\n",
    "The Claremont Colleges Library has a subscription to Compustat Global, which offers historical currency conversions. A query to this database will allow us to get currency conversion rates for the time period in the dataset (2021-2025), and apply currency exchange rates appropriate to the timestamps recorded when participants of the survey responded."
   ]
  },
  {
   "cell_type": "markdown",
   "id": "dfa50835-5bbd-4b14-b282-4cfee179dfff",
   "metadata": {},
   "source": [
    "Reference for abbreviations: https://www.foreignexchangelive.com/currency-codes-symbols/"
   ]
  },
  {
   "cell_type": "markdown",
   "id": "b430b38e-1290-4e12-b867-cc2665e39691",
   "metadata": {},
   "source": [
    "After exporting the data from Compustat, we have an Excel file that contains currency abbreviations, date, and rate to US Dollars."
   ]
  },
  {
   "cell_type": "code",
   "execution_count": 62,
   "id": "3f9ff384-3823-4cbd-86b7-371298db0346",
   "metadata": {
    "execution": {
     "iopub.execute_input": "2025-02-13T20:09:14.525804Z",
     "iopub.status.busy": "2025-02-13T20:09:14.525804Z",
     "iopub.status.idle": "2025-02-13T20:09:22.170406Z",
     "shell.execute_reply": "2025-02-13T20:09:22.170406Z",
     "shell.execute_reply.started": "2025-02-13T20:09:14.525804Z"
    }
   },
   "outputs": [],
   "source": [
    "exch = pd.read_excel('https://raw.githubusercontent.com/ClaremontCollegesLibrary/PersnicketyPython/refs/heads/main/CompustatExchangeRates.xlsx')"
   ]
  },
  {
   "cell_type": "code",
   "execution_count": 63,
   "id": "eda507b3-4c5f-4ea4-8f2f-94ecf7eea102",
   "metadata": {
    "execution": {
     "iopub.execute_input": "2025-02-13T20:09:22.171467Z",
     "iopub.status.busy": "2025-02-13T20:09:22.171467Z",
     "iopub.status.idle": "2025-02-13T20:09:22.185062Z",
     "shell.execute_reply": "2025-02-13T20:09:22.184019Z",
     "shell.execute_reply.started": "2025-02-13T20:09:22.171467Z"
    }
   },
   "outputs": [
    {
     "data": {
      "text/html": [
       "<div>\n",
       "<style scoped>\n",
       "    .dataframe tbody tr th:only-of-type {\n",
       "        vertical-align: middle;\n",
       "    }\n",
       "\n",
       "    .dataframe tbody tr th {\n",
       "        vertical-align: top;\n",
       "    }\n",
       "\n",
       "    .dataframe thead th {\n",
       "        text-align: right;\n",
       "    }\n",
       "</style>\n",
       "<table border=\"1\" class=\"dataframe\">\n",
       "  <thead>\n",
       "    <tr style=\"text-align: right;\">\n",
       "      <th></th>\n",
       "      <th>Currency</th>\n",
       "      <th>Data Date</th>\n",
       "      <th>Rate to USD</th>\n",
       "    </tr>\n",
       "  </thead>\n",
       "  <tbody>\n",
       "    <tr>\n",
       "      <th>0</th>\n",
       "      <td>AED</td>\n",
       "      <td>2021-01-01</td>\n",
       "      <td>0.272239</td>\n",
       "    </tr>\n",
       "    <tr>\n",
       "      <th>1</th>\n",
       "      <td>AFN</td>\n",
       "      <td>2021-01-01</td>\n",
       "      <td>0.012970</td>\n",
       "    </tr>\n",
       "    <tr>\n",
       "      <th>2</th>\n",
       "      <td>ALL</td>\n",
       "      <td>2021-01-01</td>\n",
       "      <td>0.009893</td>\n",
       "    </tr>\n",
       "    <tr>\n",
       "      <th>3</th>\n",
       "      <td>AMD</td>\n",
       "      <td>2021-01-01</td>\n",
       "      <td>0.001914</td>\n",
       "    </tr>\n",
       "    <tr>\n",
       "      <th>4</th>\n",
       "      <td>ANG</td>\n",
       "      <td>2021-01-01</td>\n",
       "      <td>0.559447</td>\n",
       "    </tr>\n",
       "    <tr>\n",
       "      <th>...</th>\n",
       "      <td>...</td>\n",
       "      <td>...</td>\n",
       "      <td>...</td>\n",
       "    </tr>\n",
       "    <tr>\n",
       "      <th>228391</th>\n",
       "      <td>XPF</td>\n",
       "      <td>2025-01-28</td>\n",
       "      <td>0.008730</td>\n",
       "    </tr>\n",
       "    <tr>\n",
       "      <th>228392</th>\n",
       "      <td>YER</td>\n",
       "      <td>2025-01-28</td>\n",
       "      <td>0.004020</td>\n",
       "    </tr>\n",
       "    <tr>\n",
       "      <th>228393</th>\n",
       "      <td>ZAR</td>\n",
       "      <td>2025-01-28</td>\n",
       "      <td>0.053459</td>\n",
       "    </tr>\n",
       "    <tr>\n",
       "      <th>228394</th>\n",
       "      <td>ZMW</td>\n",
       "      <td>2025-01-28</td>\n",
       "      <td>0.035688</td>\n",
       "    </tr>\n",
       "    <tr>\n",
       "      <th>228395</th>\n",
       "      <td>ZWL</td>\n",
       "      <td>2025-01-28</td>\n",
       "      <td>0.002923</td>\n",
       "    </tr>\n",
       "  </tbody>\n",
       "</table>\n",
       "<p>228396 rows × 3 columns</p>\n",
       "</div>"
      ],
      "text/plain": [
       "       Currency  Data Date  Rate to USD\n",
       "0           AED 2021-01-01     0.272239\n",
       "1           AFN 2021-01-01     0.012970\n",
       "2           ALL 2021-01-01     0.009893\n",
       "3           AMD 2021-01-01     0.001914\n",
       "4           ANG 2021-01-01     0.559447\n",
       "...         ...        ...          ...\n",
       "228391      XPF 2025-01-28     0.008730\n",
       "228392      YER 2025-01-28     0.004020\n",
       "228393      ZAR 2025-01-28     0.053459\n",
       "228394      ZMW 2025-01-28     0.035688\n",
       "228395      ZWL 2025-01-28     0.002923\n",
       "\n",
       "[228396 rows x 3 columns]"
      ]
     },
     "execution_count": 63,
     "metadata": {},
     "output_type": "execute_result"
    }
   ],
   "source": [
    "exch"
   ]
  },
  {
   "cell_type": "markdown",
   "id": "9664d66d-a3b8-4b2b-8fc8-bf9006d89bcf",
   "metadata": {},
   "source": [
    "To make merging the DataFrames easier, we can convert all the currency abbreviations to lower case."
   ]
  },
  {
   "cell_type": "code",
   "execution_count": 64,
   "id": "f42c6819-1b2e-4fab-8ebf-78b61a7532f9",
   "metadata": {
    "execution": {
     "iopub.execute_input": "2025-02-13T20:09:22.186065Z",
     "iopub.status.busy": "2025-02-13T20:09:22.186065Z",
     "iopub.status.idle": "2025-02-13T20:09:22.217634Z",
     "shell.execute_reply": "2025-02-13T20:09:22.217634Z",
     "shell.execute_reply.started": "2025-02-13T20:09:22.186065Z"
    }
   },
   "outputs": [],
   "source": [
    "exch['Currency'] = exch['Currency'].apply(lambda x: x.lower())"
   ]
  },
  {
   "cell_type": "markdown",
   "id": "e3cfe1e6-3667-4530-9d09-6793311fc27f",
   "metadata": {},
   "source": [
    "### List of Currency Abbreviations"
   ]
  },
  {
   "cell_type": "code",
   "execution_count": 65,
   "id": "19ac3cbf-57d1-4d27-bed6-90f6ba709a79",
   "metadata": {
    "execution": {
     "iopub.execute_input": "2025-02-13T20:09:22.219675Z",
     "iopub.status.busy": "2025-02-13T20:09:22.218674Z",
     "iopub.status.idle": "2025-02-13T20:09:22.246603Z",
     "shell.execute_reply": "2025-02-13T20:09:22.246092Z",
     "shell.execute_reply.started": "2025-02-13T20:09:22.219675Z"
    }
   },
   "outputs": [
    {
     "data": {
      "text/plain": [
       "['aed',\n",
       " 'afn',\n",
       " 'all',\n",
       " 'amd',\n",
       " 'ang',\n",
       " 'aoa',\n",
       " 'ars',\n",
       " 'aud',\n",
       " 'awg',\n",
       " 'azm',\n",
       " 'azn',\n",
       " 'bam',\n",
       " 'bbd',\n",
       " 'bdt',\n",
       " 'bgn',\n",
       " 'bhd',\n",
       " 'bif',\n",
       " 'bmd',\n",
       " 'bnd',\n",
       " 'bob',\n",
       " 'brl',\n",
       " 'bsd',\n",
       " 'btn',\n",
       " 'bwp',\n",
       " 'byn',\n",
       " 'bzd',\n",
       " 'cad',\n",
       " 'cdf',\n",
       " 'chf',\n",
       " 'clf',\n",
       " 'clp',\n",
       " 'cnh',\n",
       " 'cny',\n",
       " 'cop',\n",
       " 'crc',\n",
       " 'cup',\n",
       " 'cve',\n",
       " 'czk',\n",
       " 'djf',\n",
       " 'dkk',\n",
       " 'dop',\n",
       " 'dzd',\n",
       " 'ecs',\n",
       " 'egp',\n",
       " 'etb',\n",
       " 'eur',\n",
       " 'fjd',\n",
       " 'gbp',\n",
       " 'gel',\n",
       " 'ghs',\n",
       " 'gmd',\n",
       " 'gnf',\n",
       " 'gtq',\n",
       " 'gyd',\n",
       " 'hkd',\n",
       " 'hnl',\n",
       " 'hrk',\n",
       " 'htg',\n",
       " 'huf',\n",
       " 'idr',\n",
       " 'ils',\n",
       " 'inr',\n",
       " 'iqd',\n",
       " 'irr',\n",
       " 'isk',\n",
       " 'jmd',\n",
       " 'jod',\n",
       " 'jpy',\n",
       " 'kes',\n",
       " 'kgs',\n",
       " 'khr',\n",
       " 'kmf',\n",
       " 'kpw',\n",
       " 'krw',\n",
       " 'kwd',\n",
       " 'kyd',\n",
       " 'kzt',\n",
       " 'lak',\n",
       " 'lbp',\n",
       " 'lkr',\n",
       " 'lrd',\n",
       " 'lsl',\n",
       " 'lyd',\n",
       " 'mad',\n",
       " 'mdl',\n",
       " 'mga',\n",
       " 'mkd',\n",
       " 'mmk',\n",
       " 'mnt',\n",
       " 'mop',\n",
       " 'mru',\n",
       " 'mur',\n",
       " 'mvr',\n",
       " 'mwk',\n",
       " 'mxn',\n",
       " 'myr',\n",
       " 'mzn',\n",
       " 'nad',\n",
       " 'ngn',\n",
       " 'nio',\n",
       " 'nok',\n",
       " 'npr',\n",
       " 'nzd',\n",
       " 'omr',\n",
       " 'pab',\n",
       " 'pen',\n",
       " 'pgk',\n",
       " 'php',\n",
       " 'pkr',\n",
       " 'pln',\n",
       " 'pyg',\n",
       " 'qar',\n",
       " 'ron',\n",
       " 'rsd',\n",
       " 'rub',\n",
       " 'rwf',\n",
       " 'sar',\n",
       " 'sbd',\n",
       " 'scr',\n",
       " 'sdg',\n",
       " 'sek',\n",
       " 'sgd',\n",
       " 'sll',\n",
       " 'sos',\n",
       " 'srd',\n",
       " 'std',\n",
       " 'svc',\n",
       " 'syp',\n",
       " 'szl',\n",
       " 'thb',\n",
       " 'tjs',\n",
       " 'tnd',\n",
       " 'top',\n",
       " 'try',\n",
       " 'ttd',\n",
       " 'twd',\n",
       " 'tzs',\n",
       " 'uah',\n",
       " 'ugx',\n",
       " 'usd',\n",
       " 'uyu',\n",
       " 'uzs',\n",
       " 'ves',\n",
       " 'vnd',\n",
       " 'vuv',\n",
       " 'wst',\n",
       " 'xaf',\n",
       " 'xcd',\n",
       " 'xof',\n",
       " 'xpf',\n",
       " 'yer',\n",
       " 'zar',\n",
       " 'zmw',\n",
       " 'zwl']"
      ]
     },
     "execution_count": 65,
     "metadata": {},
     "output_type": "execute_result"
    }
   ],
   "source": [
    "currencies = exch['Currency'].unique().tolist()\n",
    "currencies"
   ]
  },
  {
   "cell_type": "code",
   "execution_count": 66,
   "id": "d6edf2ef-f693-4fea-bf12-9695ad190532",
   "metadata": {
    "execution": {
     "iopub.execute_input": "2025-02-13T20:09:22.247612Z",
     "iopub.status.busy": "2025-02-13T20:09:22.247612Z",
     "iopub.status.idle": "2025-02-13T20:09:22.272264Z",
     "shell.execute_reply": "2025-02-13T20:09:22.268991Z",
     "shell.execute_reply.started": "2025-02-13T20:09:22.247612Z"
    }
   },
   "outputs": [],
   "source": [
    "df_csv['Curr_if_Other_clean'] = df_csv['Curr_if_Other'].fillna('').apply(lambda x: x.lower().strip())"
   ]
  },
  {
   "cell_type": "code",
   "execution_count": 67,
   "id": "13586a92-5946-4ad8-ac46-f66fd675b209",
   "metadata": {
    "execution": {
     "iopub.execute_input": "2025-02-13T20:09:22.276262Z",
     "iopub.status.busy": "2025-02-13T20:09:22.275267Z",
     "iopub.status.idle": "2025-02-13T20:09:22.289146Z",
     "shell.execute_reply": "2025-02-13T20:09:22.285754Z",
     "shell.execute_reply.started": "2025-02-13T20:09:22.276262Z"
    }
   },
   "outputs": [
    {
     "data": {
      "text/plain": [
       "0           \n",
       "1           \n",
       "2           \n",
       "3           \n",
       "4           \n",
       "        ... \n",
       "28101       \n",
       "28102       \n",
       "28103       \n",
       "28104       \n",
       "28105    czk\n",
       "Name: Curr_if_Other_clean, Length: 28106, dtype: object"
      ]
     },
     "execution_count": 67,
     "metadata": {},
     "output_type": "execute_result"
    }
   ],
   "source": [
    "df_csv['Curr_if_Other_clean']"
   ]
  },
  {
   "cell_type": "markdown",
   "id": "76b7312a-d2b7-4955-bd4f-df4dc825aed5",
   "metadata": {},
   "source": [
    "### Currencies not in Data Dictionary"
   ]
  },
  {
   "cell_type": "markdown",
   "id": "300044aa-d9ae-4369-83a6-00175dba5d6a",
   "metadata": {},
   "source": [
    "Given that there is no dropdown menu to select currency in the \"Currency if Other\" field of the survey, there will be some entries that do not conform to the standard three-character currency abbreviations."
   ]
  },
  {
   "cell_type": "code",
   "execution_count": 68,
   "id": "538515e5-6a3e-455c-93ec-a7168f268a99",
   "metadata": {
    "execution": {
     "iopub.execute_input": "2025-02-13T20:09:22.294675Z",
     "iopub.status.busy": "2025-02-13T20:09:22.293669Z",
     "iopub.status.idle": "2025-02-13T20:09:22.340079Z",
     "shell.execute_reply": "2025-02-13T20:09:22.338915Z",
     "shell.execute_reply.started": "2025-02-13T20:09:22.293669Z"
    },
    "scrolled": true
   },
   "outputs": [
    {
     "name": "stdout",
     "output_type": "stream",
     "text": [
      "Nonstandard currency entries:  78\n"
     ]
    },
    {
     "data": {
      "text/plain": [
       "['peso argentino',\n",
       " '$76,302.34',\n",
       " 'my bonus is based on performance up to 10% of salary',\n",
       " 'i work for an online state university, managing admissions data. not direct tech support.',\n",
       " '0',\n",
       " 'na',\n",
       " 'br$',\n",
       " 'base plus commission',\n",
       " 'canadian',\n",
       " 'indian rupees',\n",
       " 'brl (r$)',\n",
       " 'mexican pesos',\n",
       " 'rsu / equity',\n",
       " 'additonal = bonus plus stock',\n",
       " 'american dollars',\n",
       " 'pln (polish zloty)',\n",
       " 'overtime (about 5 hours a week) and bonus',\n",
       " 'czech crowns',\n",
       " 'stock',\n",
       " 'norwegian kroner (nok)',\n",
       " 'ils/nis',\n",
       " '55,000',\n",
       " 'aud & nzd are not the same currency...',\n",
       " 'us dollar',\n",
       " 'canadian',\n",
       " 'nis (new israeli shekel)',\n",
       " '-',\n",
       " 'rmb (chinese yuan)',\n",
       " 'taiwanese dollars',\n",
       " \"aud and nzd aren't the same currency, and have absolutely nothing to do with each other :(\",\n",
       " 'philippine peso',\n",
       " 'krw (korean won)',\n",
       " 'ils (shekel)',\n",
       " '6000 in stock grants annually',\n",
       " 'china rmb',\n",
       " 'aud australian',\n",
       " 'polish złoty',\n",
       " 'philippine peso (php)',\n",
       " 'australian dollars',\n",
       " 'many non-salary benefits - travel, free healthcare for self, very low for family, non-taxable housing allowance',\n",
       " 'equity',\n",
       " 'it’s marketed as £22000 but we get paid pro-rats, so no pay for the school holidays.',\n",
       " 'additional compensation is for overtime (i am paid hourly) so it varies. i have included an estimate',\n",
       " 'argentinian peso (ars)',\n",
       " 'israeli shekels',\n",
       " 'php (philippine peso)',\n",
       " 'converted mine into usd for your easyness',\n",
       " 'rm',\n",
       " 'argentine peso',\n",
       " 'philippine pesos',\n",
       " 'rs',\n",
       " 'inr (indian rupee)',\n",
       " 'ntd',\n",
       " 'danish kroner',\n",
       " 'korean won',\n",
       " 'euro',\n",
       " 'ntd',\n",
       " 'mexican pesos',\n",
       " 'thai  baht',\n",
       " 'option to get 2x or 1.5x if taking on a weekend day in the summer',\n",
       " 'thai baht',\n",
       " '47000',\n",
       " 'na',\n",
       " 'canadian',\n",
       " 'n/a',\n",
       " 'up to 12% annual bonus',\n",
       " 'croatian kuna',\n",
       " 'pln (zwoty)',\n",
       " '5',\n",
       " 'rupees',\n",
       " 'singapore dollara',\n",
       " '1',\n",
       " 'ekignkfb',\n",
       " 'hhv',\n",
       " 'rice',\n",
       " 'ff',\n",
       " 'other',\n",
       " 'rupees']"
      ]
     },
     "execution_count": 68,
     "metadata": {},
     "output_type": "execute_result"
    }
   ],
   "source": [
    "currency_outliers = []\n",
    "\n",
    "for currency in df_csv['Curr_if_Other_clean'].tolist():\n",
    "    if currency not in currencies:\n",
    "        if currency != '':\n",
    "            currency_outliers.append(currency)\n",
    "print(\"Nonstandard currency entries: \",len(currency_outliers))\n",
    "currency_outliers"
   ]
  },
  {
   "cell_type": "markdown",
   "id": "3256d6b4-0c82-48f6-8854-ce6de717ef0a",
   "metadata": {},
   "source": [
    "78 isn't a terribly high number of entries requiring correction, considering that there are 28106 entries in total. Still, this is a task you'll probably want to grab a cup of coffee or tea and put on some headphones for.\n",
    "\n",
    "If we look at specific values, we can also find some records with erroneous data entries:\n",
    "\n"
   ]
  },
  {
   "cell_type": "code",
   "execution_count": 69,
   "id": "88775942-d636-4e44-8613-375cec89990b",
   "metadata": {
    "execution": {
     "iopub.execute_input": "2025-02-13T20:09:22.341080Z",
     "iopub.status.busy": "2025-02-13T20:09:22.341080Z",
     "iopub.status.idle": "2025-02-13T20:09:22.353336Z",
     "shell.execute_reply": "2025-02-13T20:09:22.353336Z",
     "shell.execute_reply.started": "2025-02-13T20:09:22.341080Z"
    }
   },
   "outputs": [
    {
     "data": {
      "text/html": [
       "<div>\n",
       "<style scoped>\n",
       "    .dataframe tbody tr th:only-of-type {\n",
       "        vertical-align: middle;\n",
       "    }\n",
       "\n",
       "    .dataframe tbody tr th {\n",
       "        vertical-align: top;\n",
       "    }\n",
       "\n",
       "    .dataframe thead th {\n",
       "        text-align: right;\n",
       "    }\n",
       "</style>\n",
       "<table border=\"1\" class=\"dataframe\">\n",
       "  <thead>\n",
       "    <tr style=\"text-align: right;\">\n",
       "      <th></th>\n",
       "      <th>Timestamp</th>\n",
       "      <th>Age</th>\n",
       "      <th>Industry</th>\n",
       "      <th>Job_Title</th>\n",
       "      <th>Addl_Context</th>\n",
       "      <th>Salary</th>\n",
       "      <th>Addl_Comp</th>\n",
       "      <th>Currency</th>\n",
       "      <th>Curr_if_Other</th>\n",
       "      <th>Income_Context</th>\n",
       "      <th>Country</th>\n",
       "      <th>US_State</th>\n",
       "      <th>City</th>\n",
       "      <th>Work_Exp</th>\n",
       "      <th>Field_Exp</th>\n",
       "      <th>Educ_Level</th>\n",
       "      <th>Gender</th>\n",
       "      <th>Race</th>\n",
       "      <th>Curr_if_Other_clean</th>\n",
       "    </tr>\n",
       "  </thead>\n",
       "  <tbody>\n",
       "    <tr>\n",
       "      <th>1001</th>\n",
       "      <td>4/27/2021 11:18:27</td>\n",
       "      <td>35-44</td>\n",
       "      <td>Recruitment or HR</td>\n",
       "      <td>HR Manager/Accounts Payable</td>\n",
       "      <td>NaN</td>\n",
       "      <td>53500</td>\n",
       "      <td>0.0</td>\n",
       "      <td>usd</td>\n",
       "      <td>0</td>\n",
       "      <td>NaN</td>\n",
       "      <td>us</td>\n",
       "      <td>Minnesota</td>\n",
       "      <td>Minneapolis</td>\n",
       "      <td>11 - 20 years</td>\n",
       "      <td>2 - 4 years</td>\n",
       "      <td>College degree</td>\n",
       "      <td>Woman</td>\n",
       "      <td>White</td>\n",
       "      <td>0</td>\n",
       "    </tr>\n",
       "  </tbody>\n",
       "</table>\n",
       "</div>"
      ],
      "text/plain": [
       "               Timestamp    Age           Industry  \\\n",
       "1001  4/27/2021 11:18:27  35-44  Recruitment or HR   \n",
       "\n",
       "                        Job_Title Addl_Context  Salary  Addl_Comp Currency  \\\n",
       "1001  HR Manager/Accounts Payable          NaN   53500        0.0      usd   \n",
       "\n",
       "     Curr_if_Other Income_Context Country   US_State         City  \\\n",
       "1001             0            NaN      us  Minnesota  Minneapolis   \n",
       "\n",
       "           Work_Exp    Field_Exp      Educ_Level Gender   Race  \\\n",
       "1001  11 - 20 years  2 - 4 years  College degree  Woman  White   \n",
       "\n",
       "     Curr_if_Other_clean  \n",
       "1001                   0  "
      ]
     },
     "execution_count": 69,
     "metadata": {},
     "output_type": "execute_result"
    }
   ],
   "source": [
    "df_csv[df_csv['Curr_if_Other']=='0']"
   ]
  },
  {
   "cell_type": "code",
   "execution_count": 70,
   "id": "53c012ee-627e-4b6d-9d3a-8f2fc6029011",
   "metadata": {
    "execution": {
     "iopub.execute_input": "2025-02-13T20:09:22.355352Z",
     "iopub.status.busy": "2025-02-13T20:09:22.355352Z",
     "iopub.status.idle": "2025-02-13T20:09:22.377166Z",
     "shell.execute_reply": "2025-02-13T20:09:22.376099Z",
     "shell.execute_reply.started": "2025-02-13T20:09:22.355352Z"
    }
   },
   "outputs": [
    {
     "data": {
      "text/html": [
       "<div>\n",
       "<style scoped>\n",
       "    .dataframe tbody tr th:only-of-type {\n",
       "        vertical-align: middle;\n",
       "    }\n",
       "\n",
       "    .dataframe tbody tr th {\n",
       "        vertical-align: top;\n",
       "    }\n",
       "\n",
       "    .dataframe thead th {\n",
       "        text-align: right;\n",
       "    }\n",
       "</style>\n",
       "<table border=\"1\" class=\"dataframe\">\n",
       "  <thead>\n",
       "    <tr style=\"text-align: right;\">\n",
       "      <th></th>\n",
       "      <th>Timestamp</th>\n",
       "      <th>Age</th>\n",
       "      <th>Industry</th>\n",
       "      <th>Job_Title</th>\n",
       "      <th>Addl_Context</th>\n",
       "      <th>Salary</th>\n",
       "      <th>Addl_Comp</th>\n",
       "      <th>Currency</th>\n",
       "      <th>Curr_if_Other</th>\n",
       "      <th>Income_Context</th>\n",
       "      <th>Country</th>\n",
       "      <th>US_State</th>\n",
       "      <th>City</th>\n",
       "      <th>Work_Exp</th>\n",
       "      <th>Field_Exp</th>\n",
       "      <th>Educ_Level</th>\n",
       "      <th>Gender</th>\n",
       "      <th>Race</th>\n",
       "      <th>Curr_if_Other_clean</th>\n",
       "    </tr>\n",
       "  </thead>\n",
       "  <tbody>\n",
       "    <tr>\n",
       "      <th>28009</th>\n",
       "      <td>2/10/2024 15:04:31</td>\n",
       "      <td>25-34</td>\n",
       "      <td>Accounting, Banking &amp; Finance</td>\n",
       "      <td>mn jj</td>\n",
       "      <td>jmnjkkfd</td>\n",
       "      <td>15</td>\n",
       "      <td>0.0</td>\n",
       "      <td>usd</td>\n",
       "      <td>ekignkfb</td>\n",
       "      <td>dikfmklfb</td>\n",
       "      <td>dbfemf</td>\n",
       "      <td>Alabama, Alaska, Arizona</td>\n",
       "      <td>dhgbfv</td>\n",
       "      <td>2 - 4 years</td>\n",
       "      <td>31 - 40 years</td>\n",
       "      <td>Some college</td>\n",
       "      <td>Woman</td>\n",
       "      <td>Asian or Asian American, Black or African Amer...</td>\n",
       "      <td>ekignkfb</td>\n",
       "    </tr>\n",
       "  </tbody>\n",
       "</table>\n",
       "</div>"
      ],
      "text/plain": [
       "                Timestamp    Age                       Industry Job_Title  \\\n",
       "28009  2/10/2024 15:04:31  25-34  Accounting, Banking & Finance     mn jj   \n",
       "\n",
       "      Addl_Context  Salary  Addl_Comp Currency Curr_if_Other Income_Context  \\\n",
       "28009     jmnjkkfd      15        0.0      usd      ekignkfb      dikfmklfb   \n",
       "\n",
       "      Country                  US_State    City     Work_Exp      Field_Exp  \\\n",
       "28009  dbfemf  Alabama, Alaska, Arizona  dhgbfv  2 - 4 years  31 - 40 years   \n",
       "\n",
       "         Educ_Level Gender                                               Race  \\\n",
       "28009  Some college  Woman  Asian or Asian American, Black or African Amer...   \n",
       "\n",
       "      Curr_if_Other_clean  \n",
       "28009            ekignkfb  "
      ]
     },
     "execution_count": 70,
     "metadata": {},
     "output_type": "execute_result"
    }
   ],
   "source": [
    "df_csv[df_csv['Curr_if_Other']=='ekignkfb']"
   ]
  },
  {
   "cell_type": "code",
   "execution_count": 71,
   "id": "210c89fb-4a0a-4ecc-b3e7-c7f1cb60d430",
   "metadata": {
    "execution": {
     "iopub.execute_input": "2025-02-13T20:09:22.378156Z",
     "iopub.status.busy": "2025-02-13T20:09:22.378156Z",
     "iopub.status.idle": "2025-02-13T20:09:22.393606Z",
     "shell.execute_reply": "2025-02-13T20:09:22.392585Z",
     "shell.execute_reply.started": "2025-02-13T20:09:22.378156Z"
    }
   },
   "outputs": [
    {
     "data": {
      "text/html": [
       "<div>\n",
       "<style scoped>\n",
       "    .dataframe tbody tr th:only-of-type {\n",
       "        vertical-align: middle;\n",
       "    }\n",
       "\n",
       "    .dataframe tbody tr th {\n",
       "        vertical-align: top;\n",
       "    }\n",
       "\n",
       "    .dataframe thead th {\n",
       "        text-align: right;\n",
       "    }\n",
       "</style>\n",
       "<table border=\"1\" class=\"dataframe\">\n",
       "  <thead>\n",
       "    <tr style=\"text-align: right;\">\n",
       "      <th></th>\n",
       "      <th>Timestamp</th>\n",
       "      <th>Age</th>\n",
       "      <th>Industry</th>\n",
       "      <th>Job_Title</th>\n",
       "      <th>Addl_Context</th>\n",
       "      <th>Salary</th>\n",
       "      <th>Addl_Comp</th>\n",
       "      <th>Currency</th>\n",
       "      <th>Curr_if_Other</th>\n",
       "      <th>Income_Context</th>\n",
       "      <th>Country</th>\n",
       "      <th>US_State</th>\n",
       "      <th>City</th>\n",
       "      <th>Work_Exp</th>\n",
       "      <th>Field_Exp</th>\n",
       "      <th>Educ_Level</th>\n",
       "      <th>Gender</th>\n",
       "      <th>Race</th>\n",
       "      <th>Curr_if_Other_clean</th>\n",
       "    </tr>\n",
       "  </thead>\n",
       "  <tbody>\n",
       "    <tr>\n",
       "      <th>28021</th>\n",
       "      <td>3/20/2024 13:20:31</td>\n",
       "      <td>18-24</td>\n",
       "      <td>NaN</td>\n",
       "      <td>bum</td>\n",
       "      <td>supreme</td>\n",
       "      <td>10000000</td>\n",
       "      <td>299.0</td>\n",
       "      <td>usd</td>\n",
       "      <td>rice</td>\n",
       "      <td>ewad</td>\n",
       "      <td>usa</td>\n",
       "      <td>Alaska</td>\n",
       "      <td>Rice</td>\n",
       "      <td>41 years or more</td>\n",
       "      <td>8 - 10 years</td>\n",
       "      <td>Professional degree (MD, JD, etc.)</td>\n",
       "      <td>Non-binary</td>\n",
       "      <td>White</td>\n",
       "      <td>rice</td>\n",
       "    </tr>\n",
       "  </tbody>\n",
       "</table>\n",
       "</div>"
      ],
      "text/plain": [
       "                Timestamp    Age Industry Job_Title Addl_Context    Salary  \\\n",
       "28021  3/20/2024 13:20:31  18-24      NaN       bum      supreme  10000000   \n",
       "\n",
       "       Addl_Comp Currency Curr_if_Other Income_Context Country US_State  City  \\\n",
       "28021      299.0      usd          rice           ewad     usa   Alaska  Rice   \n",
       "\n",
       "               Work_Exp     Field_Exp                          Educ_Level  \\\n",
       "28021  41 years or more  8 - 10 years  Professional degree (MD, JD, etc.)   \n",
       "\n",
       "           Gender   Race Curr_if_Other_clean  \n",
       "28021  Non-binary  White                rice  "
      ]
     },
     "execution_count": 71,
     "metadata": {},
     "output_type": "execute_result"
    }
   ],
   "source": [
    "df_csv[df_csv['Curr_if_Other']=='rice']"
   ]
  },
  {
   "cell_type": "code",
   "execution_count": 72,
   "id": "150f89e2-e493-4d7e-af23-f42c738c941a",
   "metadata": {
    "execution": {
     "iopub.execute_input": "2025-02-13T20:09:22.394597Z",
     "iopub.status.busy": "2025-02-13T20:09:22.394597Z",
     "iopub.status.idle": "2025-02-13T20:09:22.409140Z",
     "shell.execute_reply": "2025-02-13T20:09:22.407605Z",
     "shell.execute_reply.started": "2025-02-13T20:09:22.394597Z"
    }
   },
   "outputs": [
    {
     "data": {
      "text/html": [
       "<div>\n",
       "<style scoped>\n",
       "    .dataframe tbody tr th:only-of-type {\n",
       "        vertical-align: middle;\n",
       "    }\n",
       "\n",
       "    .dataframe tbody tr th {\n",
       "        vertical-align: top;\n",
       "    }\n",
       "\n",
       "    .dataframe thead th {\n",
       "        text-align: right;\n",
       "    }\n",
       "</style>\n",
       "<table border=\"1\" class=\"dataframe\">\n",
       "  <thead>\n",
       "    <tr style=\"text-align: right;\">\n",
       "      <th></th>\n",
       "      <th>Timestamp</th>\n",
       "      <th>Age</th>\n",
       "      <th>Industry</th>\n",
       "      <th>Job_Title</th>\n",
       "      <th>Addl_Context</th>\n",
       "      <th>Salary</th>\n",
       "      <th>Addl_Comp</th>\n",
       "      <th>Currency</th>\n",
       "      <th>Curr_if_Other</th>\n",
       "      <th>Income_Context</th>\n",
       "      <th>Country</th>\n",
       "      <th>US_State</th>\n",
       "      <th>City</th>\n",
       "      <th>Work_Exp</th>\n",
       "      <th>Field_Exp</th>\n",
       "      <th>Educ_Level</th>\n",
       "      <th>Gender</th>\n",
       "      <th>Race</th>\n",
       "      <th>Curr_if_Other_clean</th>\n",
       "    </tr>\n",
       "  </thead>\n",
       "  <tbody>\n",
       "    <tr>\n",
       "      <th>9284</th>\n",
       "      <td>4/27/2021 17:36:26</td>\n",
       "      <td>45-54</td>\n",
       "      <td>Business or Consulting</td>\n",
       "      <td>Personal Executive Assistant</td>\n",
       "      <td>NaN</td>\n",
       "      <td>55</td>\n",
       "      <td>0.0</td>\n",
       "      <td>usd</td>\n",
       "      <td>55,000</td>\n",
       "      <td>NaN</td>\n",
       "      <td>us</td>\n",
       "      <td>Michigan</td>\n",
       "      <td>Bloomfield Hills</td>\n",
       "      <td>21 - 30 years</td>\n",
       "      <td>11 - 20 years</td>\n",
       "      <td>College degree</td>\n",
       "      <td>Woman</td>\n",
       "      <td>White</td>\n",
       "      <td>55,000</td>\n",
       "    </tr>\n",
       "  </tbody>\n",
       "</table>\n",
       "</div>"
      ],
      "text/plain": [
       "               Timestamp    Age                Industry  \\\n",
       "9284  4/27/2021 17:36:26  45-54  Business or Consulting   \n",
       "\n",
       "                          Job_Title Addl_Context  Salary  Addl_Comp Currency  \\\n",
       "9284  Personal Executive Assistant           NaN      55        0.0      usd   \n",
       "\n",
       "     Curr_if_Other Income_Context Country  US_State              City  \\\n",
       "9284        55,000            NaN      us  Michigan  Bloomfield Hills   \n",
       "\n",
       "           Work_Exp      Field_Exp      Educ_Level Gender   Race  \\\n",
       "9284  21 - 30 years  11 - 20 years  College degree  Woman  White   \n",
       "\n",
       "     Curr_if_Other_clean  \n",
       "9284              55,000  "
      ]
     },
     "execution_count": 72,
     "metadata": {},
     "output_type": "execute_result"
    }
   ],
   "source": [
    "df_csv[df_csv['Curr_if_Other']=='55,000']"
   ]
  },
  {
   "cell_type": "code",
   "execution_count": 73,
   "id": "393882ab-a623-46f1-bd77-0b5c149b1f59",
   "metadata": {
    "execution": {
     "iopub.execute_input": "2025-02-13T20:09:22.411140Z",
     "iopub.status.busy": "2025-02-13T20:09:22.411140Z",
     "iopub.status.idle": "2025-02-13T20:09:22.429639Z",
     "shell.execute_reply": "2025-02-13T20:09:22.427620Z",
     "shell.execute_reply.started": "2025-02-13T20:09:22.411140Z"
    }
   },
   "outputs": [
    {
     "data": {
      "text/html": [
       "<div>\n",
       "<style scoped>\n",
       "    .dataframe tbody tr th:only-of-type {\n",
       "        vertical-align: middle;\n",
       "    }\n",
       "\n",
       "    .dataframe tbody tr th {\n",
       "        vertical-align: top;\n",
       "    }\n",
       "\n",
       "    .dataframe thead th {\n",
       "        text-align: right;\n",
       "    }\n",
       "</style>\n",
       "<table border=\"1\" class=\"dataframe\">\n",
       "  <thead>\n",
       "    <tr style=\"text-align: right;\">\n",
       "      <th></th>\n",
       "      <th>Timestamp</th>\n",
       "      <th>Age</th>\n",
       "      <th>Industry</th>\n",
       "      <th>Job_Title</th>\n",
       "      <th>Addl_Context</th>\n",
       "      <th>Salary</th>\n",
       "      <th>Addl_Comp</th>\n",
       "      <th>Currency</th>\n",
       "      <th>Curr_if_Other</th>\n",
       "      <th>Income_Context</th>\n",
       "      <th>Country</th>\n",
       "      <th>US_State</th>\n",
       "      <th>City</th>\n",
       "      <th>Work_Exp</th>\n",
       "      <th>Field_Exp</th>\n",
       "      <th>Educ_Level</th>\n",
       "      <th>Gender</th>\n",
       "      <th>Race</th>\n",
       "      <th>Curr_if_Other_clean</th>\n",
       "    </tr>\n",
       "  </thead>\n",
       "  <tbody>\n",
       "    <tr>\n",
       "      <th>11734</th>\n",
       "      <td>4/28/2021 4:27:20</td>\n",
       "      <td>45-54</td>\n",
       "      <td>Transport or Logistics</td>\n",
       "      <td>HR Manager</td>\n",
       "      <td>NaN</td>\n",
       "      <td>104917</td>\n",
       "      <td>17000.0</td>\n",
       "      <td>usd</td>\n",
       "      <td>6000 in stock grants annually</td>\n",
       "      <td>NaN</td>\n",
       "      <td>us</td>\n",
       "      <td>Kansas</td>\n",
       "      <td>Tooeka</td>\n",
       "      <td>21 - 30 years</td>\n",
       "      <td>11 - 20 years</td>\n",
       "      <td>Master's degree</td>\n",
       "      <td>Woman</td>\n",
       "      <td>White</td>\n",
       "      <td>6000 in stock grants annually</td>\n",
       "    </tr>\n",
       "  </tbody>\n",
       "</table>\n",
       "</div>"
      ],
      "text/plain": [
       "               Timestamp    Age                Industry   Job_Title  \\\n",
       "11734  4/28/2021 4:27:20  45-54  Transport or Logistics  HR Manager   \n",
       "\n",
       "      Addl_Context  Salary  Addl_Comp Currency                  Curr_if_Other  \\\n",
       "11734          NaN  104917    17000.0      usd  6000 in stock grants annually   \n",
       "\n",
       "      Income_Context Country US_State    City       Work_Exp      Field_Exp  \\\n",
       "11734            NaN      us   Kansas  Tooeka  21 - 30 years  11 - 20 years   \n",
       "\n",
       "            Educ_Level Gender   Race            Curr_if_Other_clean  \n",
       "11734  Master's degree  Woman  White  6000 in stock grants annually  "
      ]
     },
     "execution_count": 73,
     "metadata": {},
     "output_type": "execute_result"
    }
   ],
   "source": [
    "df_csv[df_csv['Curr_if_Other']=='6000 in stock grants annually']"
   ]
  },
  {
   "cell_type": "code",
   "execution_count": null,
   "id": "984993be-a030-4816-a470-c7de09819c41",
   "metadata": {},
   "outputs": [],
   "source": []
  },
  {
   "cell_type": "code",
   "execution_count": null,
   "id": "6abac95c-6e2b-4a66-9be1-4da10c036912",
   "metadata": {},
   "outputs": [],
   "source": []
  },
  {
   "cell_type": "code",
   "execution_count": 74,
   "id": "6bd1e6d3-ae3c-4740-9a34-3c9d993e946f",
   "metadata": {
    "execution": {
     "iopub.execute_input": "2025-02-13T20:09:22.430632Z",
     "iopub.status.busy": "2025-02-13T20:09:22.430632Z",
     "iopub.status.idle": "2025-02-13T20:09:22.444173Z",
     "shell.execute_reply": "2025-02-13T20:09:22.443158Z",
     "shell.execute_reply.started": "2025-02-13T20:09:22.430632Z"
    },
    "scrolled": true
   },
   "outputs": [
    {
     "data": {
      "text/html": [
       "<div>\n",
       "<style scoped>\n",
       "    .dataframe tbody tr th:only-of-type {\n",
       "        vertical-align: middle;\n",
       "    }\n",
       "\n",
       "    .dataframe tbody tr th {\n",
       "        vertical-align: top;\n",
       "    }\n",
       "\n",
       "    .dataframe thead th {\n",
       "        text-align: right;\n",
       "    }\n",
       "</style>\n",
       "<table border=\"1\" class=\"dataframe\">\n",
       "  <thead>\n",
       "    <tr style=\"text-align: right;\">\n",
       "      <th></th>\n",
       "      <th>Timestamp</th>\n",
       "      <th>Age</th>\n",
       "      <th>Industry</th>\n",
       "      <th>Job_Title</th>\n",
       "      <th>Addl_Context</th>\n",
       "      <th>Salary</th>\n",
       "      <th>Addl_Comp</th>\n",
       "      <th>Currency</th>\n",
       "      <th>Curr_if_Other</th>\n",
       "      <th>Income_Context</th>\n",
       "      <th>Country</th>\n",
       "      <th>US_State</th>\n",
       "      <th>City</th>\n",
       "      <th>Work_Exp</th>\n",
       "      <th>Field_Exp</th>\n",
       "      <th>Educ_Level</th>\n",
       "      <th>Gender</th>\n",
       "      <th>Race</th>\n",
       "      <th>Curr_if_Other_clean</th>\n",
       "    </tr>\n",
       "  </thead>\n",
       "  <tbody>\n",
       "    <tr>\n",
       "      <th>26531</th>\n",
       "      <td>7/6/2021 18:49:41</td>\n",
       "      <td>25-34</td>\n",
       "      <td>Nonprofits</td>\n",
       "      <td>Districtwide Program Coordinator</td>\n",
       "      <td>NaN</td>\n",
       "      <td>47000</td>\n",
       "      <td>0.0</td>\n",
       "      <td>usd</td>\n",
       "      <td>47000</td>\n",
       "      <td>NaN</td>\n",
       "      <td>united states</td>\n",
       "      <td>Michigan</td>\n",
       "      <td>Decatur</td>\n",
       "      <td>8 - 10 years</td>\n",
       "      <td>8 - 10 years</td>\n",
       "      <td>Master's degree</td>\n",
       "      <td>Woman</td>\n",
       "      <td>White</td>\n",
       "      <td>47000</td>\n",
       "    </tr>\n",
       "  </tbody>\n",
       "</table>\n",
       "</div>"
      ],
      "text/plain": [
       "               Timestamp    Age    Industry                         Job_Title  \\\n",
       "26531  7/6/2021 18:49:41  25-34  Nonprofits  Districtwide Program Coordinator   \n",
       "\n",
       "      Addl_Context  Salary  Addl_Comp Currency Curr_if_Other Income_Context  \\\n",
       "26531          NaN   47000        0.0      usd         47000            NaN   \n",
       "\n",
       "             Country  US_State     City      Work_Exp     Field_Exp  \\\n",
       "26531  united states  Michigan  Decatur  8 - 10 years  8 - 10 years   \n",
       "\n",
       "            Educ_Level Gender   Race Curr_if_Other_clean  \n",
       "26531  Master's degree  Woman  White               47000  "
      ]
     },
     "execution_count": 74,
     "metadata": {},
     "output_type": "execute_result"
    }
   ],
   "source": [
    "df_csv[df_csv['Curr_if_Other']=='47000']"
   ]
  },
  {
   "cell_type": "markdown",
   "id": "11746f7f-b68c-4fbf-8426-0c62389aa82b",
   "metadata": {},
   "source": [
    "## Dictionary for Currency Replacement"
   ]
  },
  {
   "attachments": {},
   "cell_type": "markdown",
   "id": "83abd8c6-223b-4fbd-b056-2b5cdd831591",
   "metadata": {},
   "source": [
    "Below is the *beginning* of a dictionary that one could use to replace values in the original dataset. We're not going to replace every single value today, but this should give you an idea of the kind of fine-tuning one *can* do with a dataset like this.\n",
    "\n",
    "\n",
    "\n",
    "It is not always necessary or advisable to clean a dataset entirely, as there is a trade-off between getting a task done perfectly and getting a task done at all. However, many practicing data scientists report that the majority of their time is spent cleaning data, as described in greater detail in this [Forbes article from 2016](https://www.forbes.com/sites/gilpress/2016/03/23/data-preparation-most-time-consuming-least-enjoyable-data-science-task-survey-says/)."
   ]
  },
  {
   "cell_type": "code",
   "execution_count": 75,
   "id": "2764fb7f-5eef-44ba-9ea9-166d78001324",
   "metadata": {
    "execution": {
     "iopub.execute_input": "2025-02-13T20:09:22.445183Z",
     "iopub.status.busy": "2025-02-13T20:09:22.445183Z",
     "iopub.status.idle": "2025-02-13T20:09:22.449187Z",
     "shell.execute_reply": "2025-02-13T20:09:22.449187Z",
     "shell.execute_reply.started": "2025-02-13T20:09:22.445183Z"
    }
   },
   "outputs": [],
   "source": [
    "currency_dict = {\n",
    "    'canadian':'cad',\n",
    "    'ntd':'twd',\n",
    "    'danish kroner':'dkk',\n",
    "    'converted mine into usd for your easyness':'usd',\n",
    "    'php (philippine peso)':'php',\n",
    "    'philippine pesos':'php',\n",
    "    'argentine peso':'ars',\n",
    "    'argentinian peso (ars)':'ars',\n",
    "    'inr (indian rupee)':'inr',\n",
    "    'israeli shekels':'ils',\n",
    "    'it’s marketed as £22000 but we get paid pro-rats, so no pay for the school holidays.':'gbp'  \n",
    "}"
   ]
  },
  {
   "cell_type": "code",
   "execution_count": 76,
   "id": "54bcddbc-5833-45b4-803f-5e13d128967c",
   "metadata": {
    "execution": {
     "iopub.execute_input": "2025-02-13T20:09:22.451673Z",
     "iopub.status.busy": "2025-02-13T20:09:22.450673Z",
     "iopub.status.idle": "2025-02-13T20:09:22.458673Z",
     "shell.execute_reply": "2025-02-13T20:09:22.458673Z",
     "shell.execute_reply.started": "2025-02-13T20:09:22.450673Z"
    }
   },
   "outputs": [],
   "source": [
    "df_csv['Curr_if_Other_clean'] = df_csv['Curr_if_Other_clean'].apply(lambda x: currency_dict[x] if x in currency_dict.keys() else x)"
   ]
  },
  {
   "cell_type": "code",
   "execution_count": 77,
   "id": "25e61dff-5019-470a-85fb-8b6f224346ed",
   "metadata": {
    "execution": {
     "iopub.execute_input": "2025-02-13T20:09:22.460299Z",
     "iopub.status.busy": "2025-02-13T20:09:22.460299Z",
     "iopub.status.idle": "2025-02-13T20:09:22.475446Z",
     "shell.execute_reply": "2025-02-13T20:09:22.473425Z",
     "shell.execute_reply.started": "2025-02-13T20:09:22.460299Z"
    },
    "scrolled": true
   },
   "outputs": [
    {
     "data": {
      "text/plain": [
       "Curr_if_Other\n",
       "                        27895\n",
       "sgd                        13\n",
       "dkk                        12\n",
       "nok                        11\n",
       "inr                        11\n",
       "                        ...  \n",
       "sek                         1\n",
       "krw (korean won)            1\n",
       "base plus commission        1\n",
       "philippine peso             1\n",
       "tzs                         1\n",
       "Name: count, Length: 109, dtype: int64"
      ]
     },
     "execution_count": 77,
     "metadata": {},
     "output_type": "execute_result"
    }
   ],
   "source": [
    "df_csv['Curr_if_Other'].value_counts()"
   ]
  },
  {
   "cell_type": "markdown",
   "id": "9bb02b74-ddc2-405c-b99f-05885490d3dc",
   "metadata": {},
   "source": [
    "We need to use multiple columns of our DataFrame in order to get all the currencies in one column. \n",
    "\n",
    "For this, we must define a new function that will let us replace \"other\" in the Currency column with whatever value is in the Curr_if_Other column, as we did before with AUD/NZD using both the Currency and Country columns.\n",
    "\n"
   ]
  },
  {
   "cell_type": "code",
   "execution_count": 78,
   "id": "4ea4db45-7468-4a4a-9501-e99c8ebbdf4e",
   "metadata": {
    "execution": {
     "iopub.execute_input": "2025-02-13T20:09:22.477440Z",
     "iopub.status.busy": "2025-02-13T20:09:22.477440Z",
     "iopub.status.idle": "2025-02-13T20:09:22.613997Z",
     "shell.execute_reply": "2025-02-13T20:09:22.613997Z",
     "shell.execute_reply.started": "2025-02-13T20:09:22.477440Z"
    }
   },
   "outputs": [],
   "source": [
    "def currency_combine(x, y):\n",
    "    \"\"\"\n",
    "    x = Currency, y = Curr_if_Other_clean\n",
    "    replaces currency == other with currency abbreviation from \"Curr_if_Other_clean\"    \n",
    "    \"\"\"\n",
    "    \n",
    "    value = x\n",
    "    if value == 'other':\n",
    "        value = y\n",
    "\n",
    "    return value\n",
    "\n",
    "df_csv['Currency_clean'] = df_csv.apply(lambda x: currency_combine(x['Currency'], x['Curr_if_Other_clean']), axis=1)"
   ]
  },
  {
   "cell_type": "code",
   "execution_count": 79,
   "id": "86a71164-6e3e-4e37-89d4-26e0b47b40ed",
   "metadata": {
    "execution": {
     "iopub.execute_input": "2025-02-13T20:09:22.615014Z",
     "iopub.status.busy": "2025-02-13T20:09:22.615014Z",
     "iopub.status.idle": "2025-02-13T20:09:22.623053Z",
     "shell.execute_reply": "2025-02-13T20:09:22.622014Z",
     "shell.execute_reply.started": "2025-02-13T20:09:22.615014Z"
    }
   },
   "outputs": [
    {
     "data": {
      "text/plain": [
       "Currency_clean\n",
       "usd                 23416\n",
       "cad                  1676\n",
       "gbp                  1594\n",
       "eur                   647\n",
       "aud                   378\n",
       "                    ...  \n",
       "krw (korean won)        1\n",
       "ils (shekel)            1\n",
       "china rmb               1\n",
       "aud australian          1\n",
       "tzs                     1\n",
       "Name: count, Length: 69, dtype: int64"
      ]
     },
     "execution_count": 79,
     "metadata": {},
     "output_type": "execute_result"
    }
   ],
   "source": [
    "df_csv['Currency_clean'].value_counts()"
   ]
  },
  {
   "cell_type": "markdown",
   "id": "70a6845f-80cb-4496-8ce7-aa02f4bf378b",
   "metadata": {},
   "source": [
    "# Merging the Datasets"
   ]
  },
  {
   "cell_type": "code",
   "execution_count": 80,
   "id": "e816a4da-6b91-4c6f-b115-f22dd4e13569",
   "metadata": {
    "execution": {
     "iopub.execute_input": "2025-02-13T20:09:22.624055Z",
     "iopub.status.busy": "2025-02-13T20:09:22.623053Z",
     "iopub.status.idle": "2025-02-13T20:09:22.630296Z",
     "shell.execute_reply": "2025-02-13T20:09:22.630296Z",
     "shell.execute_reply.started": "2025-02-13T20:09:22.624055Z"
    }
   },
   "outputs": [
    {
     "data": {
      "text/plain": [
       "0        2021-01-01\n",
       "1        2021-01-01\n",
       "2        2021-01-01\n",
       "3        2021-01-01\n",
       "4        2021-01-01\n",
       "            ...    \n",
       "228391   2025-01-28\n",
       "228392   2025-01-28\n",
       "228393   2025-01-28\n",
       "228394   2025-01-28\n",
       "228395   2025-01-28\n",
       "Name: Data Date, Length: 228396, dtype: datetime64[ns]"
      ]
     },
     "execution_count": 80,
     "metadata": {},
     "output_type": "execute_result"
    }
   ],
   "source": [
    "exch['Data Date']"
   ]
  },
  {
   "cell_type": "code",
   "execution_count": 81,
   "id": "9e6bbbb4-75c6-4848-a398-e58ab748c349",
   "metadata": {
    "execution": {
     "iopub.execute_input": "2025-02-13T20:09:22.632304Z",
     "iopub.status.busy": "2025-02-13T20:09:22.631301Z",
     "iopub.status.idle": "2025-02-13T20:09:22.637494Z",
     "shell.execute_reply": "2025-02-13T20:09:22.637494Z",
     "shell.execute_reply.started": "2025-02-13T20:09:22.632304Z"
    }
   },
   "outputs": [
    {
     "data": {
      "text/plain": [
       "0         4/27/2021 11:02:10\n",
       "1         4/27/2021 11:02:22\n",
       "2         4/27/2021 11:02:38\n",
       "3         4/27/2021 11:02:41\n",
       "4         4/27/2021 11:02:42\n",
       "                ...         \n",
       "28101    12/16/2024 19:10:58\n",
       "28102     12/20/2024 6:16:27\n",
       "28103    12/29/2024 23:50:26\n",
       "28104      1/3/2025 16:03:10\n",
       "28105     1/16/2025 10:00:47\n",
       "Name: Timestamp, Length: 28106, dtype: object"
      ]
     },
     "execution_count": 81,
     "metadata": {},
     "output_type": "execute_result"
    }
   ],
   "source": [
    "df_csv['Timestamp']"
   ]
  },
  {
   "cell_type": "code",
   "execution_count": 82,
   "id": "9e4a458b-a6ca-489d-a787-f80f98ad60ae",
   "metadata": {
    "execution": {
     "iopub.execute_input": "2025-02-13T20:09:22.639502Z",
     "iopub.status.busy": "2025-02-13T20:09:22.638499Z",
     "iopub.status.idle": "2025-02-13T20:09:22.646355Z",
     "shell.execute_reply": "2025-02-13T20:09:22.645344Z",
     "shell.execute_reply.started": "2025-02-13T20:09:22.639502Z"
    }
   },
   "outputs": [],
   "source": [
    "from datetime import datetime\n",
    "import dateutil"
   ]
  },
  {
   "cell_type": "code",
   "execution_count": 83,
   "id": "ced03ad0-1cf7-454d-94f3-8254a5642172",
   "metadata": {
    "execution": {
     "iopub.execute_input": "2025-02-13T20:09:22.649350Z",
     "iopub.status.busy": "2025-02-13T20:09:22.648359Z",
     "iopub.status.idle": "2025-02-13T20:09:23.555532Z",
     "shell.execute_reply": "2025-02-13T20:09:23.555532Z",
     "shell.execute_reply.started": "2025-02-13T20:09:22.649350Z"
    }
   },
   "outputs": [],
   "source": [
    "#Format the original Timestamp string as a datetime object:\n",
    "df_csv['Timestamp_YMD'] = df_csv['Timestamp'].apply(lambda x: dateutil.parser.parse(x))\n",
    "\n",
    "#Reformat the resulting datetime object as a string that matches the currency exchange data format:\n",
    "df_csv['Timestamp_YMD'] = df_csv['Timestamp_YMD'].apply(lambda x: datetime.strftime(x, '%Y-%m-%d'))"
   ]
  },
  {
   "cell_type": "code",
   "execution_count": 84,
   "id": "bb5dce96-d1fa-407a-b9e7-85a338c2293a",
   "metadata": {
    "execution": {
     "iopub.execute_input": "2025-02-13T20:09:23.556917Z",
     "iopub.status.busy": "2025-02-13T20:09:23.556917Z",
     "iopub.status.idle": "2025-02-13T20:09:23.563643Z",
     "shell.execute_reply": "2025-02-13T20:09:23.563137Z",
     "shell.execute_reply.started": "2025-02-13T20:09:23.556917Z"
    }
   },
   "outputs": [
    {
     "data": {
      "text/plain": [
       "0        2021-04-27\n",
       "1        2021-04-27\n",
       "2        2021-04-27\n",
       "3        2021-04-27\n",
       "4        2021-04-27\n",
       "            ...    \n",
       "28101    2024-12-16\n",
       "28102    2024-12-20\n",
       "28103    2024-12-29\n",
       "28104    2025-01-03\n",
       "28105    2025-01-16\n",
       "Name: Timestamp_YMD, Length: 28106, dtype: object"
      ]
     },
     "execution_count": 84,
     "metadata": {},
     "output_type": "execute_result"
    }
   ],
   "source": [
    "df_csv['Timestamp_YMD']"
   ]
  },
  {
   "cell_type": "code",
   "execution_count": 85,
   "id": "b284971f-e91d-4ab4-b836-e70d697461a6",
   "metadata": {
    "execution": {
     "iopub.execute_input": "2025-02-13T20:09:23.564651Z",
     "iopub.status.busy": "2025-02-13T20:09:23.564651Z",
     "iopub.status.idle": "2025-02-13T20:09:23.582662Z",
     "shell.execute_reply": "2025-02-13T20:09:23.581655Z",
     "shell.execute_reply.started": "2025-02-13T20:09:23.564651Z"
    }
   },
   "outputs": [
    {
     "data": {
      "text/html": [
       "<div>\n",
       "<style scoped>\n",
       "    .dataframe tbody tr th:only-of-type {\n",
       "        vertical-align: middle;\n",
       "    }\n",
       "\n",
       "    .dataframe tbody tr th {\n",
       "        vertical-align: top;\n",
       "    }\n",
       "\n",
       "    .dataframe thead th {\n",
       "        text-align: right;\n",
       "    }\n",
       "</style>\n",
       "<table border=\"1\" class=\"dataframe\">\n",
       "  <thead>\n",
       "    <tr style=\"text-align: right;\">\n",
       "      <th></th>\n",
       "      <th>Timestamp</th>\n",
       "      <th>Age</th>\n",
       "      <th>Industry</th>\n",
       "      <th>Job_Title</th>\n",
       "      <th>Addl_Context</th>\n",
       "      <th>Salary</th>\n",
       "      <th>Addl_Comp</th>\n",
       "      <th>Currency</th>\n",
       "      <th>Curr_if_Other</th>\n",
       "      <th>Income_Context</th>\n",
       "      <th>...</th>\n",
       "      <th>US_State</th>\n",
       "      <th>City</th>\n",
       "      <th>Work_Exp</th>\n",
       "      <th>Field_Exp</th>\n",
       "      <th>Educ_Level</th>\n",
       "      <th>Gender</th>\n",
       "      <th>Race</th>\n",
       "      <th>Curr_if_Other_clean</th>\n",
       "      <th>Currency_clean</th>\n",
       "      <th>Timestamp_YMD</th>\n",
       "    </tr>\n",
       "  </thead>\n",
       "  <tbody>\n",
       "    <tr>\n",
       "      <th>0</th>\n",
       "      <td>4/27/2021 11:02:10</td>\n",
       "      <td>25-34</td>\n",
       "      <td>Education (Higher Education)</td>\n",
       "      <td>Research and Instruction Librarian</td>\n",
       "      <td>NaN</td>\n",
       "      <td>55000</td>\n",
       "      <td>0.0</td>\n",
       "      <td>usd</td>\n",
       "      <td></td>\n",
       "      <td>NaN</td>\n",
       "      <td>...</td>\n",
       "      <td>Massachusetts</td>\n",
       "      <td>Boston</td>\n",
       "      <td>5-7 years</td>\n",
       "      <td>5-7 years</td>\n",
       "      <td>Master's degree</td>\n",
       "      <td>Woman</td>\n",
       "      <td>White</td>\n",
       "      <td></td>\n",
       "      <td>usd</td>\n",
       "      <td>2021-04-27</td>\n",
       "    </tr>\n",
       "    <tr>\n",
       "      <th>1</th>\n",
       "      <td>4/27/2021 11:02:22</td>\n",
       "      <td>25-34</td>\n",
       "      <td>Computing or Tech</td>\n",
       "      <td>Change &amp; Internal Communications Manager</td>\n",
       "      <td>NaN</td>\n",
       "      <td>54600</td>\n",
       "      <td>4000.0</td>\n",
       "      <td>gbp</td>\n",
       "      <td></td>\n",
       "      <td>NaN</td>\n",
       "      <td>...</td>\n",
       "      <td>NaN</td>\n",
       "      <td>Cambridge</td>\n",
       "      <td>8 - 10 years</td>\n",
       "      <td>5-7 years</td>\n",
       "      <td>College degree</td>\n",
       "      <td>Non-binary</td>\n",
       "      <td>White</td>\n",
       "      <td></td>\n",
       "      <td>gbp</td>\n",
       "      <td>2021-04-27</td>\n",
       "    </tr>\n",
       "    <tr>\n",
       "      <th>2</th>\n",
       "      <td>4/27/2021 11:02:38</td>\n",
       "      <td>25-34</td>\n",
       "      <td>Accounting, Banking &amp; Finance</td>\n",
       "      <td>Marketing Specialist</td>\n",
       "      <td>NaN</td>\n",
       "      <td>34000</td>\n",
       "      <td>0.0</td>\n",
       "      <td>usd</td>\n",
       "      <td></td>\n",
       "      <td>NaN</td>\n",
       "      <td>...</td>\n",
       "      <td>Tennessee</td>\n",
       "      <td>Chattanooga</td>\n",
       "      <td>2 - 4 years</td>\n",
       "      <td>2 - 4 years</td>\n",
       "      <td>College degree</td>\n",
       "      <td>Woman</td>\n",
       "      <td>White</td>\n",
       "      <td></td>\n",
       "      <td>usd</td>\n",
       "      <td>2021-04-27</td>\n",
       "    </tr>\n",
       "    <tr>\n",
       "      <th>3</th>\n",
       "      <td>4/27/2021 11:02:41</td>\n",
       "      <td>25-34</td>\n",
       "      <td>Nonprofits</td>\n",
       "      <td>Program Manager</td>\n",
       "      <td>NaN</td>\n",
       "      <td>62000</td>\n",
       "      <td>3000.0</td>\n",
       "      <td>usd</td>\n",
       "      <td></td>\n",
       "      <td>NaN</td>\n",
       "      <td>...</td>\n",
       "      <td>Wisconsin</td>\n",
       "      <td>Milwaukee</td>\n",
       "      <td>8 - 10 years</td>\n",
       "      <td>5-7 years</td>\n",
       "      <td>College degree</td>\n",
       "      <td>Woman</td>\n",
       "      <td>White</td>\n",
       "      <td></td>\n",
       "      <td>usd</td>\n",
       "      <td>2021-04-27</td>\n",
       "    </tr>\n",
       "    <tr>\n",
       "      <th>4</th>\n",
       "      <td>4/27/2021 11:02:42</td>\n",
       "      <td>25-34</td>\n",
       "      <td>Accounting, Banking &amp; Finance</td>\n",
       "      <td>Accounting Manager</td>\n",
       "      <td>NaN</td>\n",
       "      <td>60000</td>\n",
       "      <td>7000.0</td>\n",
       "      <td>usd</td>\n",
       "      <td></td>\n",
       "      <td>NaN</td>\n",
       "      <td>...</td>\n",
       "      <td>South Carolina</td>\n",
       "      <td>Greenville</td>\n",
       "      <td>8 - 10 years</td>\n",
       "      <td>5-7 years</td>\n",
       "      <td>College degree</td>\n",
       "      <td>Woman</td>\n",
       "      <td>White</td>\n",
       "      <td></td>\n",
       "      <td>usd</td>\n",
       "      <td>2021-04-27</td>\n",
       "    </tr>\n",
       "  </tbody>\n",
       "</table>\n",
       "<p>5 rows × 21 columns</p>\n",
       "</div>"
      ],
      "text/plain": [
       "            Timestamp    Age                       Industry  \\\n",
       "0  4/27/2021 11:02:10  25-34   Education (Higher Education)   \n",
       "1  4/27/2021 11:02:22  25-34              Computing or Tech   \n",
       "2  4/27/2021 11:02:38  25-34  Accounting, Banking & Finance   \n",
       "3  4/27/2021 11:02:41  25-34                     Nonprofits   \n",
       "4  4/27/2021 11:02:42  25-34  Accounting, Banking & Finance   \n",
       "\n",
       "                                  Job_Title Addl_Context  Salary  Addl_Comp  \\\n",
       "0        Research and Instruction Librarian          NaN   55000        0.0   \n",
       "1  Change & Internal Communications Manager          NaN   54600     4000.0   \n",
       "2                      Marketing Specialist          NaN   34000        0.0   \n",
       "3                           Program Manager          NaN   62000     3000.0   \n",
       "4                        Accounting Manager          NaN   60000     7000.0   \n",
       "\n",
       "  Currency Curr_if_Other Income_Context  ...        US_State         City  \\\n",
       "0      usd                          NaN  ...   Massachusetts       Boston   \n",
       "1      gbp                          NaN  ...             NaN    Cambridge   \n",
       "2      usd                          NaN  ...       Tennessee  Chattanooga   \n",
       "3      usd                          NaN  ...       Wisconsin    Milwaukee   \n",
       "4      usd                          NaN  ...  South Carolina   Greenville   \n",
       "\n",
       "       Work_Exp    Field_Exp       Educ_Level      Gender   Race  \\\n",
       "0     5-7 years    5-7 years  Master's degree       Woman  White   \n",
       "1  8 - 10 years    5-7 years   College degree  Non-binary  White   \n",
       "2   2 - 4 years  2 - 4 years   College degree       Woman  White   \n",
       "3  8 - 10 years    5-7 years   College degree       Woman  White   \n",
       "4  8 - 10 years    5-7 years   College degree       Woman  White   \n",
       "\n",
       "  Curr_if_Other_clean Currency_clean Timestamp_YMD  \n",
       "0                                usd    2021-04-27  \n",
       "1                                gbp    2021-04-27  \n",
       "2                                usd    2021-04-27  \n",
       "3                                usd    2021-04-27  \n",
       "4                                usd    2021-04-27  \n",
       "\n",
       "[5 rows x 21 columns]"
      ]
     },
     "execution_count": 85,
     "metadata": {},
     "output_type": "execute_result"
    }
   ],
   "source": [
    "df_csv.head()"
   ]
  },
  {
   "cell_type": "code",
   "execution_count": 86,
   "id": "6c1dbbf8-695d-4e77-8513-dc3486efe6b5",
   "metadata": {
    "execution": {
     "iopub.execute_input": "2025-02-13T20:09:23.583662Z",
     "iopub.status.busy": "2025-02-13T20:09:23.583662Z",
     "iopub.status.idle": "2025-02-13T20:09:23.593176Z",
     "shell.execute_reply": "2025-02-13T20:09:23.591662Z",
     "shell.execute_reply.started": "2025-02-13T20:09:23.583662Z"
    }
   },
   "outputs": [
    {
     "data": {
      "text/html": [
       "<div>\n",
       "<style scoped>\n",
       "    .dataframe tbody tr th:only-of-type {\n",
       "        vertical-align: middle;\n",
       "    }\n",
       "\n",
       "    .dataframe tbody tr th {\n",
       "        vertical-align: top;\n",
       "    }\n",
       "\n",
       "    .dataframe thead th {\n",
       "        text-align: right;\n",
       "    }\n",
       "</style>\n",
       "<table border=\"1\" class=\"dataframe\">\n",
       "  <thead>\n",
       "    <tr style=\"text-align: right;\">\n",
       "      <th></th>\n",
       "      <th>Currency</th>\n",
       "      <th>Data Date</th>\n",
       "      <th>Rate to USD</th>\n",
       "    </tr>\n",
       "  </thead>\n",
       "  <tbody>\n",
       "    <tr>\n",
       "      <th>0</th>\n",
       "      <td>aed</td>\n",
       "      <td>2021-01-01</td>\n",
       "      <td>0.272239</td>\n",
       "    </tr>\n",
       "    <tr>\n",
       "      <th>1</th>\n",
       "      <td>afn</td>\n",
       "      <td>2021-01-01</td>\n",
       "      <td>0.012970</td>\n",
       "    </tr>\n",
       "    <tr>\n",
       "      <th>2</th>\n",
       "      <td>all</td>\n",
       "      <td>2021-01-01</td>\n",
       "      <td>0.009893</td>\n",
       "    </tr>\n",
       "    <tr>\n",
       "      <th>3</th>\n",
       "      <td>amd</td>\n",
       "      <td>2021-01-01</td>\n",
       "      <td>0.001914</td>\n",
       "    </tr>\n",
       "    <tr>\n",
       "      <th>4</th>\n",
       "      <td>ang</td>\n",
       "      <td>2021-01-01</td>\n",
       "      <td>0.559447</td>\n",
       "    </tr>\n",
       "  </tbody>\n",
       "</table>\n",
       "</div>"
      ],
      "text/plain": [
       "  Currency  Data Date  Rate to USD\n",
       "0      aed 2021-01-01     0.272239\n",
       "1      afn 2021-01-01     0.012970\n",
       "2      all 2021-01-01     0.009893\n",
       "3      amd 2021-01-01     0.001914\n",
       "4      ang 2021-01-01     0.559447"
      ]
     },
     "execution_count": 86,
     "metadata": {},
     "output_type": "execute_result"
    }
   ],
   "source": [
    "exch.head()"
   ]
  },
  {
   "cell_type": "code",
   "execution_count": 87,
   "id": "200ad651-5820-4c42-b53b-868fe4cae460",
   "metadata": {
    "execution": {
     "iopub.execute_input": "2025-02-13T20:09:23.594178Z",
     "iopub.status.busy": "2025-02-13T20:09:23.594178Z",
     "iopub.status.idle": "2025-02-13T20:09:23.600595Z",
     "shell.execute_reply": "2025-02-13T20:09:23.599588Z",
     "shell.execute_reply.started": "2025-02-13T20:09:23.594178Z"
    }
   },
   "outputs": [],
   "source": [
    "exch.rename(columns={'Data Date':'Timestamp_YMD', \"Currency\":'Currency_clean'}, inplace=True)"
   ]
  },
  {
   "cell_type": "code",
   "execution_count": 88,
   "id": "6557fa0d-cf17-4c0e-bfb2-87c0568e7e4c",
   "metadata": {
    "execution": {
     "iopub.execute_input": "2025-02-13T20:09:23.601597Z",
     "iopub.status.busy": "2025-02-13T20:09:23.601597Z",
     "iopub.status.idle": "2025-02-13T20:09:24.487077Z",
     "shell.execute_reply": "2025-02-13T20:09:24.487077Z",
     "shell.execute_reply.started": "2025-02-13T20:09:23.601597Z"
    }
   },
   "outputs": [],
   "source": [
    "exch['Timestamp_YMD'] = exch['Timestamp_YMD'].apply(lambda x: datetime.strftime(x, '%Y-%m-%d'))"
   ]
  },
  {
   "cell_type": "code",
   "execution_count": 89,
   "id": "9a8909cc-ed21-4fce-919b-008e7dfad1e6",
   "metadata": {
    "execution": {
     "iopub.execute_input": "2025-02-13T20:09:24.489565Z",
     "iopub.status.busy": "2025-02-13T20:09:24.488565Z",
     "iopub.status.idle": "2025-02-13T20:09:24.517950Z",
     "shell.execute_reply": "2025-02-13T20:09:24.516442Z",
     "shell.execute_reply.started": "2025-02-13T20:09:24.489565Z"
    }
   },
   "outputs": [
    {
     "data": {
      "text/plain": [
       "count         228396\n",
       "unique          1488\n",
       "top       2021-01-01\n",
       "freq             154\n",
       "Name: Timestamp_YMD, dtype: object"
      ]
     },
     "execution_count": 89,
     "metadata": {},
     "output_type": "execute_result"
    }
   ],
   "source": [
    "exch['Timestamp_YMD'].describe()"
   ]
  },
  {
   "cell_type": "code",
   "execution_count": 90,
   "id": "bc84c7c4-a951-47bd-bc40-5fa3869038cb",
   "metadata": {
    "execution": {
     "iopub.execute_input": "2025-02-13T20:09:24.518948Z",
     "iopub.status.busy": "2025-02-13T20:09:24.518948Z",
     "iopub.status.idle": "2025-02-13T20:09:24.529786Z",
     "shell.execute_reply": "2025-02-13T20:09:24.529786Z",
     "shell.execute_reply.started": "2025-02-13T20:09:24.518948Z"
    }
   },
   "outputs": [
    {
     "data": {
      "text/plain": [
       "count          28106\n",
       "unique           538\n",
       "top       2021-04-27\n",
       "freq           11257\n",
       "Name: Timestamp_YMD, dtype: object"
      ]
     },
     "execution_count": 90,
     "metadata": {},
     "output_type": "execute_result"
    }
   ],
   "source": [
    "df_csv['Timestamp_YMD'].describe()"
   ]
  },
  {
   "cell_type": "markdown",
   "id": "f26d06ec-5175-44d3-bc96-bfdca94911d4",
   "metadata": {},
   "source": [
    "## Pandas `.merge()`"
   ]
  },
  {
   "cell_type": "code",
   "execution_count": 91,
   "id": "4ab4b89b-c5aa-490c-8d1f-3195fe3d6a48",
   "metadata": {
    "execution": {
     "iopub.execute_input": "2025-02-13T20:09:24.530794Z",
     "iopub.status.busy": "2025-02-13T20:09:24.530794Z",
     "iopub.status.idle": "2025-02-13T20:09:24.595148Z",
     "shell.execute_reply": "2025-02-13T20:09:24.594376Z",
     "shell.execute_reply.started": "2025-02-13T20:09:24.530794Z"
    }
   },
   "outputs": [],
   "source": [
    "merged = pd.merge(left=df_csv, right=exch, how='left', on=['Currency_clean', 'Timestamp_YMD'])"
   ]
  },
  {
   "cell_type": "code",
   "execution_count": 92,
   "id": "9ee63f7e-0172-447a-819e-04420c66b75a",
   "metadata": {
    "execution": {
     "iopub.execute_input": "2025-02-13T20:09:24.596198Z",
     "iopub.status.busy": "2025-02-13T20:09:24.596198Z",
     "iopub.status.idle": "2025-02-13T20:09:24.645916Z",
     "shell.execute_reply": "2025-02-13T20:09:24.642831Z",
     "shell.execute_reply.started": "2025-02-13T20:09:24.596198Z"
    },
    "scrolled": true
   },
   "outputs": [
    {
     "data": {
      "text/html": [
       "<div>\n",
       "<style scoped>\n",
       "    .dataframe tbody tr th:only-of-type {\n",
       "        vertical-align: middle;\n",
       "    }\n",
       "\n",
       "    .dataframe tbody tr th {\n",
       "        vertical-align: top;\n",
       "    }\n",
       "\n",
       "    .dataframe thead th {\n",
       "        text-align: right;\n",
       "    }\n",
       "</style>\n",
       "<table border=\"1\" class=\"dataframe\">\n",
       "  <thead>\n",
       "    <tr style=\"text-align: right;\">\n",
       "      <th></th>\n",
       "      <th>Timestamp</th>\n",
       "      <th>Age</th>\n",
       "      <th>Industry</th>\n",
       "      <th>Job_Title</th>\n",
       "      <th>Addl_Context</th>\n",
       "      <th>Salary</th>\n",
       "      <th>Addl_Comp</th>\n",
       "      <th>Currency</th>\n",
       "      <th>Curr_if_Other</th>\n",
       "      <th>Income_Context</th>\n",
       "      <th>...</th>\n",
       "      <th>City</th>\n",
       "      <th>Work_Exp</th>\n",
       "      <th>Field_Exp</th>\n",
       "      <th>Educ_Level</th>\n",
       "      <th>Gender</th>\n",
       "      <th>Race</th>\n",
       "      <th>Curr_if_Other_clean</th>\n",
       "      <th>Currency_clean</th>\n",
       "      <th>Timestamp_YMD</th>\n",
       "      <th>Rate to USD</th>\n",
       "    </tr>\n",
       "  </thead>\n",
       "  <tbody>\n",
       "    <tr>\n",
       "      <th>0</th>\n",
       "      <td>4/27/2021 11:02:10</td>\n",
       "      <td>25-34</td>\n",
       "      <td>Education (Higher Education)</td>\n",
       "      <td>Research and Instruction Librarian</td>\n",
       "      <td>NaN</td>\n",
       "      <td>55000</td>\n",
       "      <td>0.0</td>\n",
       "      <td>usd</td>\n",
       "      <td></td>\n",
       "      <td>NaN</td>\n",
       "      <td>...</td>\n",
       "      <td>Boston</td>\n",
       "      <td>5-7 years</td>\n",
       "      <td>5-7 years</td>\n",
       "      <td>Master's degree</td>\n",
       "      <td>Woman</td>\n",
       "      <td>White</td>\n",
       "      <td></td>\n",
       "      <td>usd</td>\n",
       "      <td>2021-04-27</td>\n",
       "      <td>1.000000</td>\n",
       "    </tr>\n",
       "    <tr>\n",
       "      <th>1</th>\n",
       "      <td>4/27/2021 11:02:22</td>\n",
       "      <td>25-34</td>\n",
       "      <td>Computing or Tech</td>\n",
       "      <td>Change &amp; Internal Communications Manager</td>\n",
       "      <td>NaN</td>\n",
       "      <td>54600</td>\n",
       "      <td>4000.0</td>\n",
       "      <td>gbp</td>\n",
       "      <td></td>\n",
       "      <td>NaN</td>\n",
       "      <td>...</td>\n",
       "      <td>Cambridge</td>\n",
       "      <td>8 - 10 years</td>\n",
       "      <td>5-7 years</td>\n",
       "      <td>College degree</td>\n",
       "      <td>Non-binary</td>\n",
       "      <td>White</td>\n",
       "      <td></td>\n",
       "      <td>gbp</td>\n",
       "      <td>2021-04-27</td>\n",
       "      <td>1.392100</td>\n",
       "    </tr>\n",
       "    <tr>\n",
       "      <th>2</th>\n",
       "      <td>4/27/2021 11:02:38</td>\n",
       "      <td>25-34</td>\n",
       "      <td>Accounting, Banking &amp; Finance</td>\n",
       "      <td>Marketing Specialist</td>\n",
       "      <td>NaN</td>\n",
       "      <td>34000</td>\n",
       "      <td>0.0</td>\n",
       "      <td>usd</td>\n",
       "      <td></td>\n",
       "      <td>NaN</td>\n",
       "      <td>...</td>\n",
       "      <td>Chattanooga</td>\n",
       "      <td>2 - 4 years</td>\n",
       "      <td>2 - 4 years</td>\n",
       "      <td>College degree</td>\n",
       "      <td>Woman</td>\n",
       "      <td>White</td>\n",
       "      <td></td>\n",
       "      <td>usd</td>\n",
       "      <td>2021-04-27</td>\n",
       "      <td>1.000000</td>\n",
       "    </tr>\n",
       "    <tr>\n",
       "      <th>3</th>\n",
       "      <td>4/27/2021 11:02:41</td>\n",
       "      <td>25-34</td>\n",
       "      <td>Nonprofits</td>\n",
       "      <td>Program Manager</td>\n",
       "      <td>NaN</td>\n",
       "      <td>62000</td>\n",
       "      <td>3000.0</td>\n",
       "      <td>usd</td>\n",
       "      <td></td>\n",
       "      <td>NaN</td>\n",
       "      <td>...</td>\n",
       "      <td>Milwaukee</td>\n",
       "      <td>8 - 10 years</td>\n",
       "      <td>5-7 years</td>\n",
       "      <td>College degree</td>\n",
       "      <td>Woman</td>\n",
       "      <td>White</td>\n",
       "      <td></td>\n",
       "      <td>usd</td>\n",
       "      <td>2021-04-27</td>\n",
       "      <td>1.000000</td>\n",
       "    </tr>\n",
       "    <tr>\n",
       "      <th>4</th>\n",
       "      <td>4/27/2021 11:02:42</td>\n",
       "      <td>25-34</td>\n",
       "      <td>Accounting, Banking &amp; Finance</td>\n",
       "      <td>Accounting Manager</td>\n",
       "      <td>NaN</td>\n",
       "      <td>60000</td>\n",
       "      <td>7000.0</td>\n",
       "      <td>usd</td>\n",
       "      <td></td>\n",
       "      <td>NaN</td>\n",
       "      <td>...</td>\n",
       "      <td>Greenville</td>\n",
       "      <td>8 - 10 years</td>\n",
       "      <td>5-7 years</td>\n",
       "      <td>College degree</td>\n",
       "      <td>Woman</td>\n",
       "      <td>White</td>\n",
       "      <td></td>\n",
       "      <td>usd</td>\n",
       "      <td>2021-04-27</td>\n",
       "      <td>1.000000</td>\n",
       "    </tr>\n",
       "    <tr>\n",
       "      <th>...</th>\n",
       "      <td>...</td>\n",
       "      <td>...</td>\n",
       "      <td>...</td>\n",
       "      <td>...</td>\n",
       "      <td>...</td>\n",
       "      <td>...</td>\n",
       "      <td>...</td>\n",
       "      <td>...</td>\n",
       "      <td>...</td>\n",
       "      <td>...</td>\n",
       "      <td>...</td>\n",
       "      <td>...</td>\n",
       "      <td>...</td>\n",
       "      <td>...</td>\n",
       "      <td>...</td>\n",
       "      <td>...</td>\n",
       "      <td>...</td>\n",
       "      <td>...</td>\n",
       "      <td>...</td>\n",
       "      <td>...</td>\n",
       "      <td>...</td>\n",
       "    </tr>\n",
       "    <tr>\n",
       "      <th>28101</th>\n",
       "      <td>12/16/2024 19:10:58</td>\n",
       "      <td>18-24</td>\n",
       "      <td>Engineering or Manufacturing</td>\n",
       "      <td>Clinical Specialist - Biomedical Engineer</td>\n",
       "      <td>NaN</td>\n",
       "      <td>75000</td>\n",
       "      <td>0.0</td>\n",
       "      <td>usd</td>\n",
       "      <td></td>\n",
       "      <td>NaN</td>\n",
       "      <td>...</td>\n",
       "      <td>New York City</td>\n",
       "      <td>2 - 4 years</td>\n",
       "      <td>1 year or less</td>\n",
       "      <td>Master's degree</td>\n",
       "      <td>Woman</td>\n",
       "      <td>White</td>\n",
       "      <td></td>\n",
       "      <td>usd</td>\n",
       "      <td>2024-12-16</td>\n",
       "      <td>1.000000</td>\n",
       "    </tr>\n",
       "    <tr>\n",
       "      <th>28102</th>\n",
       "      <td>12/20/2024 6:16:27</td>\n",
       "      <td>55-64</td>\n",
       "      <td>Government and Public Administration</td>\n",
       "      <td>HMRC Engagement Lead</td>\n",
       "      <td>NaN</td>\n",
       "      <td>25000</td>\n",
       "      <td>0.0</td>\n",
       "      <td>gbp</td>\n",
       "      <td></td>\n",
       "      <td>NaN</td>\n",
       "      <td>...</td>\n",
       "      <td>Suffolk</td>\n",
       "      <td>21 - 30 years</td>\n",
       "      <td>2 - 4 years</td>\n",
       "      <td>Some college</td>\n",
       "      <td>Woman</td>\n",
       "      <td>White</td>\n",
       "      <td></td>\n",
       "      <td>gbp</td>\n",
       "      <td>2024-12-20</td>\n",
       "      <td>1.257200</td>\n",
       "    </tr>\n",
       "    <tr>\n",
       "      <th>28103</th>\n",
       "      <td>12/29/2024 23:50:26</td>\n",
       "      <td>25-34</td>\n",
       "      <td>Entertainment</td>\n",
       "      <td>Junior Editor</td>\n",
       "      <td>NaN</td>\n",
       "      <td>72800</td>\n",
       "      <td>0.0</td>\n",
       "      <td>usd</td>\n",
       "      <td></td>\n",
       "      <td>NaN</td>\n",
       "      <td>...</td>\n",
       "      <td>Los Angeles</td>\n",
       "      <td>5-7 years</td>\n",
       "      <td>5-7 years</td>\n",
       "      <td>Master's degree</td>\n",
       "      <td>Woman</td>\n",
       "      <td>Hispanic, Latino, or Spanish origin, White</td>\n",
       "      <td></td>\n",
       "      <td>usd</td>\n",
       "      <td>2024-12-29</td>\n",
       "      <td>1.000000</td>\n",
       "    </tr>\n",
       "    <tr>\n",
       "      <th>28104</th>\n",
       "      <td>1/3/2025 16:03:10</td>\n",
       "      <td>18-24</td>\n",
       "      <td>Engineering or Manufacturing</td>\n",
       "      <td>Applications Engineer</td>\n",
       "      <td>NaN</td>\n",
       "      <td>100000</td>\n",
       "      <td>21000.0</td>\n",
       "      <td>usd</td>\n",
       "      <td></td>\n",
       "      <td>NaN</td>\n",
       "      <td>...</td>\n",
       "      <td>Dallas</td>\n",
       "      <td>1 year or less</td>\n",
       "      <td>1 year or less</td>\n",
       "      <td>Master's degree</td>\n",
       "      <td>Woman</td>\n",
       "      <td>White</td>\n",
       "      <td></td>\n",
       "      <td>usd</td>\n",
       "      <td>2025-01-03</td>\n",
       "      <td>1.000000</td>\n",
       "    </tr>\n",
       "    <tr>\n",
       "      <th>28105</th>\n",
       "      <td>1/16/2025 10:00:47</td>\n",
       "      <td>35-44</td>\n",
       "      <td>Entertainment</td>\n",
       "      <td>Product communication and education specialist</td>\n",
       "      <td>NaN</td>\n",
       "      <td>1000000</td>\n",
       "      <td>0.0</td>\n",
       "      <td>other</td>\n",
       "      <td>czk</td>\n",
       "      <td>NaN</td>\n",
       "      <td>...</td>\n",
       "      <td>Prague</td>\n",
       "      <td>21 - 30 years</td>\n",
       "      <td>2 - 4 years</td>\n",
       "      <td>High School</td>\n",
       "      <td>Woman</td>\n",
       "      <td>White</td>\n",
       "      <td>czk</td>\n",
       "      <td>czk</td>\n",
       "      <td>2025-01-16</td>\n",
       "      <td>0.040757</td>\n",
       "    </tr>\n",
       "  </tbody>\n",
       "</table>\n",
       "<p>28106 rows × 22 columns</p>\n",
       "</div>"
      ],
      "text/plain": [
       "                 Timestamp    Age                              Industry  \\\n",
       "0       4/27/2021 11:02:10  25-34          Education (Higher Education)   \n",
       "1       4/27/2021 11:02:22  25-34                     Computing or Tech   \n",
       "2       4/27/2021 11:02:38  25-34         Accounting, Banking & Finance   \n",
       "3       4/27/2021 11:02:41  25-34                            Nonprofits   \n",
       "4       4/27/2021 11:02:42  25-34         Accounting, Banking & Finance   \n",
       "...                    ...    ...                                   ...   \n",
       "28101  12/16/2024 19:10:58  18-24          Engineering or Manufacturing   \n",
       "28102   12/20/2024 6:16:27  55-64  Government and Public Administration   \n",
       "28103  12/29/2024 23:50:26  25-34                         Entertainment   \n",
       "28104    1/3/2025 16:03:10  18-24          Engineering or Manufacturing   \n",
       "28105   1/16/2025 10:00:47  35-44                         Entertainment   \n",
       "\n",
       "                                            Job_Title Addl_Context   Salary  \\\n",
       "0                  Research and Instruction Librarian          NaN    55000   \n",
       "1            Change & Internal Communications Manager          NaN    54600   \n",
       "2                                Marketing Specialist          NaN    34000   \n",
       "3                                     Program Manager          NaN    62000   \n",
       "4                                  Accounting Manager          NaN    60000   \n",
       "...                                               ...          ...      ...   \n",
       "28101      Clinical Specialist - Biomedical Engineer           NaN    75000   \n",
       "28102                            HMRC Engagement Lead          NaN    25000   \n",
       "28103                                   Junior Editor          NaN    72800   \n",
       "28104                           Applications Engineer          NaN   100000   \n",
       "28105  Product communication and education specialist          NaN  1000000   \n",
       "\n",
       "       Addl_Comp Currency Curr_if_Other Income_Context  ...            City  \\\n",
       "0            0.0      usd                          NaN  ...          Boston   \n",
       "1         4000.0      gbp                          NaN  ...       Cambridge   \n",
       "2            0.0      usd                          NaN  ...     Chattanooga   \n",
       "3         3000.0      usd                          NaN  ...       Milwaukee   \n",
       "4         7000.0      usd                          NaN  ...      Greenville   \n",
       "...          ...      ...           ...            ...  ...             ...   \n",
       "28101        0.0      usd                          NaN  ...  New York City    \n",
       "28102        0.0      gbp                          NaN  ...         Suffolk   \n",
       "28103        0.0      usd                          NaN  ...     Los Angeles   \n",
       "28104    21000.0      usd                          NaN  ...          Dallas   \n",
       "28105        0.0    other           czk            NaN  ...          Prague   \n",
       "\n",
       "             Work_Exp       Field_Exp       Educ_Level      Gender  \\\n",
       "0           5-7 years       5-7 years  Master's degree       Woman   \n",
       "1        8 - 10 years       5-7 years   College degree  Non-binary   \n",
       "2         2 - 4 years     2 - 4 years   College degree       Woman   \n",
       "3        8 - 10 years       5-7 years   College degree       Woman   \n",
       "4        8 - 10 years       5-7 years   College degree       Woman   \n",
       "...               ...             ...              ...         ...   \n",
       "28101     2 - 4 years  1 year or less  Master's degree       Woman   \n",
       "28102   21 - 30 years     2 - 4 years     Some college       Woman   \n",
       "28103       5-7 years       5-7 years  Master's degree       Woman   \n",
       "28104  1 year or less  1 year or less  Master's degree       Woman   \n",
       "28105   21 - 30 years     2 - 4 years      High School       Woman   \n",
       "\n",
       "                                             Race Curr_if_Other_clean  \\\n",
       "0                                           White                       \n",
       "1                                           White                       \n",
       "2                                           White                       \n",
       "3                                           White                       \n",
       "4                                           White                       \n",
       "...                                           ...                 ...   \n",
       "28101                                       White                       \n",
       "28102                                       White                       \n",
       "28103  Hispanic, Latino, or Spanish origin, White                       \n",
       "28104                                       White                       \n",
       "28105                                       White                 czk   \n",
       "\n",
       "      Currency_clean Timestamp_YMD Rate to USD  \n",
       "0                usd    2021-04-27    1.000000  \n",
       "1                gbp    2021-04-27    1.392100  \n",
       "2                usd    2021-04-27    1.000000  \n",
       "3                usd    2021-04-27    1.000000  \n",
       "4                usd    2021-04-27    1.000000  \n",
       "...              ...           ...         ...  \n",
       "28101            usd    2024-12-16    1.000000  \n",
       "28102            gbp    2024-12-20    1.257200  \n",
       "28103            usd    2024-12-29    1.000000  \n",
       "28104            usd    2025-01-03    1.000000  \n",
       "28105            czk    2025-01-16    0.040757  \n",
       "\n",
       "[28106 rows x 22 columns]"
      ]
     },
     "execution_count": 92,
     "metadata": {},
     "output_type": "execute_result"
    }
   ],
   "source": [
    "merged"
   ]
  },
  {
   "cell_type": "code",
   "execution_count": 93,
   "id": "bb47c6d6-e018-41c5-9f25-6a5dfaf72d88",
   "metadata": {
    "execution": {
     "iopub.execute_input": "2025-02-13T20:09:24.651101Z",
     "iopub.status.busy": "2025-02-13T20:09:24.650106Z",
     "iopub.status.idle": "2025-02-13T20:09:24.666652Z",
     "shell.execute_reply": "2025-02-13T20:09:24.664064Z",
     "shell.execute_reply.started": "2025-02-13T20:09:24.651101Z"
    }
   },
   "outputs": [
    {
     "data": {
      "text/plain": [
       "count    28065.000000\n",
       "mean         1.005354\n",
       "std          0.134037\n",
       "min          0.000069\n",
       "25%          1.000000\n",
       "50%          1.000000\n",
       "75%          1.000000\n",
       "max          1.418300\n",
       "Name: Rate to USD, dtype: float64"
      ]
     },
     "execution_count": 93,
     "metadata": {},
     "output_type": "execute_result"
    }
   ],
   "source": [
    "merged['Rate to USD'].describe()"
   ]
  },
  {
   "cell_type": "markdown",
   "id": "3013d2fc-8a05-4e79-9494-6352f8b51c5a",
   "metadata": {},
   "source": [
    "## The Payoff - Salary Summary Statistics"
   ]
  },
  {
   "cell_type": "code",
   "execution_count": 94,
   "id": "d91960fd-e139-4fa7-b1f2-eb50878f3473",
   "metadata": {
    "execution": {
     "iopub.execute_input": "2025-02-13T20:09:24.668647Z",
     "iopub.status.busy": "2025-02-13T20:09:24.668647Z",
     "iopub.status.idle": "2025-02-13T20:09:24.673620Z",
     "shell.execute_reply": "2025-02-13T20:09:24.673620Z",
     "shell.execute_reply.started": "2025-02-13T20:09:24.668647Z"
    }
   },
   "outputs": [],
   "source": [
    "merged['Total_Comp'] = merged['Salary'] + merged['Addl_Comp']"
   ]
  },
  {
   "cell_type": "code",
   "execution_count": 95,
   "id": "cca2de80-4233-4297-9582-1d9e0ba86ff7",
   "metadata": {
    "execution": {
     "iopub.execute_input": "2025-02-13T20:09:24.675630Z",
     "iopub.status.busy": "2025-02-13T20:09:24.675630Z",
     "iopub.status.idle": "2025-02-13T20:09:24.681714Z",
     "shell.execute_reply": "2025-02-13T20:09:24.681714Z",
     "shell.execute_reply.started": "2025-02-13T20:09:24.675630Z"
    }
   },
   "outputs": [],
   "source": [
    "merged['Salary_USD'] = merged['Salary'] * merged['Rate to USD']"
   ]
  },
  {
   "cell_type": "code",
   "execution_count": 96,
   "id": "84b2dd66-b236-4659-aa5a-8479bb2f6558",
   "metadata": {
    "execution": {
     "iopub.execute_input": "2025-02-13T20:09:24.683734Z",
     "iopub.status.busy": "2025-02-13T20:09:24.682732Z",
     "iopub.status.idle": "2025-02-13T20:09:24.690092Z",
     "shell.execute_reply": "2025-02-13T20:09:24.689084Z",
     "shell.execute_reply.started": "2025-02-13T20:09:24.683734Z"
    }
   },
   "outputs": [],
   "source": [
    "merged['Total_Comp_USD'] = merged['Total_Comp'] * merged['Rate to USD']"
   ]
  },
  {
   "cell_type": "code",
   "execution_count": 97,
   "id": "9846408c-3ea8-4ee9-b760-5bf930ab8a71",
   "metadata": {
    "execution": {
     "iopub.execute_input": "2025-02-13T20:09:24.691093Z",
     "iopub.status.busy": "2025-02-13T20:09:24.691093Z",
     "iopub.status.idle": "2025-02-13T20:09:24.715462Z",
     "shell.execute_reply": "2025-02-13T20:09:24.714456Z",
     "shell.execute_reply.started": "2025-02-13T20:09:24.691093Z"
    }
   },
   "outputs": [
    {
     "data": {
      "text/html": [
       "<div>\n",
       "<style scoped>\n",
       "    .dataframe tbody tr th:only-of-type {\n",
       "        vertical-align: middle;\n",
       "    }\n",
       "\n",
       "    .dataframe tbody tr th {\n",
       "        vertical-align: top;\n",
       "    }\n",
       "\n",
       "    .dataframe thead th {\n",
       "        text-align: right;\n",
       "    }\n",
       "</style>\n",
       "<table border=\"1\" class=\"dataframe\">\n",
       "  <thead>\n",
       "    <tr style=\"text-align: right;\">\n",
       "      <th></th>\n",
       "      <th>Salary</th>\n",
       "      <th>Total_Comp</th>\n",
       "      <th>Salary_USD</th>\n",
       "      <th>Total_Comp_USD</th>\n",
       "    </tr>\n",
       "  </thead>\n",
       "  <tbody>\n",
       "    <tr>\n",
       "      <th>count</th>\n",
       "      <td>2.810600e+04</td>\n",
       "      <td>2.810600e+04</td>\n",
       "      <td>2.806500e+04</td>\n",
       "      <td>2.806500e+04</td>\n",
       "    </tr>\n",
       "    <tr>\n",
       "      <th>mean</th>\n",
       "      <td>3.619435e+05</td>\n",
       "      <td>3.754410e+05</td>\n",
       "      <td>2.496746e+05</td>\n",
       "      <td>2.584640e+05</td>\n",
       "    </tr>\n",
       "    <tr>\n",
       "      <th>std</th>\n",
       "      <td>3.619466e+07</td>\n",
       "      <td>3.630425e+07</td>\n",
       "      <td>2.631055e+07</td>\n",
       "      <td>2.631055e+07</td>\n",
       "    </tr>\n",
       "    <tr>\n",
       "      <th>min</th>\n",
       "      <td>0.000000e+00</td>\n",
       "      <td>0.000000e+00</td>\n",
       "      <td>0.000000e+00</td>\n",
       "      <td>0.000000e+00</td>\n",
       "    </tr>\n",
       "    <tr>\n",
       "      <th>25%</th>\n",
       "      <td>5.400000e+04</td>\n",
       "      <td>5.500000e+04</td>\n",
       "      <td>5.400000e+04</td>\n",
       "      <td>5.500000e+04</td>\n",
       "    </tr>\n",
       "    <tr>\n",
       "      <th>50%</th>\n",
       "      <td>7.500000e+04</td>\n",
       "      <td>7.900000e+04</td>\n",
       "      <td>7.500000e+04</td>\n",
       "      <td>7.759322e+04</td>\n",
       "    </tr>\n",
       "    <tr>\n",
       "      <th>75%</th>\n",
       "      <td>1.097000e+05</td>\n",
       "      <td>1.155000e+05</td>\n",
       "      <td>1.070000e+05</td>\n",
       "      <td>1.143000e+05</td>\n",
       "    </tr>\n",
       "    <tr>\n",
       "      <th>max</th>\n",
       "      <td>6.000070e+09</td>\n",
       "      <td>6.000070e+09</td>\n",
       "      <td>4.406588e+09</td>\n",
       "      <td>4.406588e+09</td>\n",
       "    </tr>\n",
       "  </tbody>\n",
       "</table>\n",
       "</div>"
      ],
      "text/plain": [
       "             Salary    Total_Comp    Salary_USD  Total_Comp_USD\n",
       "count  2.810600e+04  2.810600e+04  2.806500e+04    2.806500e+04\n",
       "mean   3.619435e+05  3.754410e+05  2.496746e+05    2.584640e+05\n",
       "std    3.619466e+07  3.630425e+07  2.631055e+07    2.631055e+07\n",
       "min    0.000000e+00  0.000000e+00  0.000000e+00    0.000000e+00\n",
       "25%    5.400000e+04  5.500000e+04  5.400000e+04    5.500000e+04\n",
       "50%    7.500000e+04  7.900000e+04  7.500000e+04    7.759322e+04\n",
       "75%    1.097000e+05  1.155000e+05  1.070000e+05    1.143000e+05\n",
       "max    6.000070e+09  6.000070e+09  4.406588e+09    4.406588e+09"
      ]
     },
     "execution_count": 97,
     "metadata": {},
     "output_type": "execute_result"
    }
   ],
   "source": [
    "merged[['Salary','Total_Comp','Salary_USD', 'Total_Comp_USD']].describe()"
   ]
  },
  {
   "cell_type": "markdown",
   "id": "0afe3676-62ee-4266-8415-481778803a62",
   "metadata": {},
   "source": [
    "The summary statistics for \"Salary\" and \"Total_Comp\" are meaningless because the units aren't all the same. Adj_Salary_USD and Adj_Total_Comp_USD have been normalized to reflect the exchange rate from the original currency to USD at the time the survey was taken."
   ]
  },
  {
   "cell_type": "markdown",
   "id": "707c73a4-9075-4d62-866c-0b18918ac3af",
   "metadata": {},
   "source": [
    "# What else could be done to improve the accuracy of these statistics?"
   ]
  },
  {
   "cell_type": "markdown",
   "id": "0f0dcfac-6f72-4e50-8344-d7a0d17d77a7",
   "metadata": {},
   "source": [
    "### Other Resources:\n",
    "\n",
    "The following are redundant links to the same dataset:\n",
    "\n",
    "https://oscarbaruffa.com/messy/\n",
    "\n",
    "https://www.r-bloggers.com/2021/04/a-real-world-messy-dataset-to-practice-on/\n"
   ]
  },
  {
   "cell_type": "markdown",
   "id": "6d2c271c-7d42-4841-a70a-7ef1d868ebd5",
   "metadata": {},
   "source": [
    "### Example Projects Using the \"Ask A Manager\" Dataset\n",
    "\n",
    "A quick search yielded a few projects other people had done to analyze this dataset.\n",
    "\n",
    "What are their goals? What do they do differently? How do they address the problem of cleaning the data?\n",
    "\n",
    "https://annasanders.github.io/ms_projects/dtsa_5505/Data_Mining_Project_Report_final.pdf\n",
    "\n",
    "https://github.com/brightboy373/Cleaning-and-Exploring-the-Ask-a-Manager-Survey-Dataset\n",
    "\n",
    "https://github.com/maggiewolff/ask-a-manager-salary-survey\n",
    "\n",
    "https://github.com/shaecodes/Ask-A-Manager\n",
    "\n",
    "This one is done in R:\n",
    "\n",
    "https://jtr13.github.io/cc19/ask-a-manager-salary-survey-dataset.html\n"
   ]
  },
  {
   "cell_type": "code",
   "execution_count": null,
   "id": "3e85739e-4635-4baf-bc19-54972269ca79",
   "metadata": {},
   "outputs": [],
   "source": []
  }
 ],
 "metadata": {
  "kernelspec": {
   "display_name": "Python 3 (ipykernel)",
   "language": "python",
   "name": "python3"
  },
  "language_info": {
   "codemirror_mode": {
    "name": "ipython",
    "version": 3
   },
   "file_extension": ".py",
   "mimetype": "text/x-python",
   "name": "python",
   "nbconvert_exporter": "python",
   "pygments_lexer": "ipython3",
   "version": "3.11.9"
  }
 },
 "nbformat": 4,
 "nbformat_minor": 5
}
